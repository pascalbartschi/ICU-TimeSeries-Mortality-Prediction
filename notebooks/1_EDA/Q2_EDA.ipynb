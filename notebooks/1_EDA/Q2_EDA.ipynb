{
 "cells": [
  {
   "cell_type": "code",
   "execution_count": null,
   "id": "c04bbfee-4a5e-4fc5-8fb4-611844929302",
   "metadata": {},
   "outputs": [],
   "source": [
    "import os\n",
    "import numpy as np\n",
    "import pandas as pd\n",
    "from pathlib import Path\n",
    "from tqdm.notebook import tqdm\n"
   ]
  },
  {
   "cell_type": "code",
   "execution_count": null,
   "id": "1fa7b705-a675-4a64-8ef7-e5553108fc2b",
   "metadata": {},
   "outputs": [],
   "source": [
    "# load parquet files\n",
    "data_path = \"../../data\"\n",
    "data_dir = {}\n",
    "\n",
    "for file_path in list(Path(data_path).glob(\"*.parquet\")):\n",
    "    data_dir[str(file_path).split(\"/\")[-1].split(\".\")[0]] = pd.read_parquet(file_path)\n",
    "\n",
    "# stationary columns"
   ]
  }
 ],
 "metadata": {
  "kernelspec": {
   "display_name": "Python 3 (ipykernel)",
   "language": "python",
   "name": "python3"
  },
  "language_info": {
   "codemirror_mode": {
    "name": "ipython",
    "version": 3
   },
   "file_extension": ".py",
   "mimetype": "text/x-python",
   "name": "python",
   "nbconvert_exporter": "python",
   "pygments_lexer": "ipython3",
   "version": "3.12.3"
  },
  "widgets": {
   "application/vnd.jupyter.widget-state+json": {
    "state": {},
    "version_major": 2,
    "version_minor": 0
   }
  }
 },
 "nbformat": 4,
 "nbformat_minor": 5
}
