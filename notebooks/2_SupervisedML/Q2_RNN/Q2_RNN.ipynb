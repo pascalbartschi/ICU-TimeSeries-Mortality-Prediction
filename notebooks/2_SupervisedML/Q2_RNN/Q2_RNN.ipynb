{
 "cells": [
  {
   "cell_type": "markdown",
   "metadata": {},
   "source": [
    "# RNN\n",
    "\n",
    "## Lib and Data Loading"
   ]
  },
  {
   "cell_type": "code",
   "execution_count": 1,
   "metadata": {},
   "outputs": [],
   "source": [
    "import numpy as np\n",
    "import pandas as pd\n",
    "from sklearn.model_selection import train_test_split, KFold\n",
    "from sklearn.preprocessing import StandardScaler\n",
    "from sklearn.metrics import (\n",
    "    confusion_matrix,\n",
    "    roc_auc_score,\n",
    "    average_precision_score,\n",
    "    RocCurveDisplay,\n",
    "    PrecisionRecallDisplay,\n",
    "    ConfusionMatrixDisplay\n",
    ")\n",
    "import torch\n",
    "import torch.nn as nn\n",
    "import pytorch_lightning as pl\n",
    "from torch.utils.data import DataLoader, TensorDataset\n",
    "from pytorch_lightning.callbacks import EarlyStopping, LearningRateMonitor, ModelCheckpoint\n",
    "import torchmetrics\n",
    "\n",
    "import os\n",
    "from glob import glob\n",
    "from pathlib import Path\n",
    "from tqdm.notebook import tqdm\n",
    "import ipywidgets as widgets\n",
    "from IPython.display import display, clear_output\n",
    "from matplotlib import pyplot as plt\n",
    "\n",
    "# override all pandas display limits\n",
    "pd.options.display.max_columns = None\n",
    "pd.options.display.max_rows = None\n",
    "\n"
   ]
  },
  {
   "cell_type": "code",
   "execution_count": 2,
   "metadata": {},
   "outputs": [
    {
     "name": "stdout",
     "output_type": "stream",
     "text": [
      "Reading /home/pbaertschi/ICU-TimeSeries-Mortality-Prediction/notebooks/2_SupervisedML/Q2_RNN/../../../data/set-a-filled.parquet -> set_a_filled\n",
      "Reading /home/pbaertschi/ICU-TimeSeries-Mortality-Prediction/notebooks/2_SupervisedML/Q2_RNN/../../../data/set-b.parquet -> set_b\n",
      "Reading /home/pbaertschi/ICU-TimeSeries-Mortality-Prediction/notebooks/2_SupervisedML/Q2_RNN/../../../data/set-a.parquet -> set_a\n",
      "Reading /home/pbaertschi/ICU-TimeSeries-Mortality-Prediction/notebooks/2_SupervisedML/Q2_RNN/../../../data/set-c-filled.parquet -> set_c_filled\n",
      "Reading /home/pbaertschi/ICU-TimeSeries-Mortality-Prediction/notebooks/2_SupervisedML/Q2_RNN/../../../data/set-c.parquet -> set_c\n",
      "Reading /home/pbaertschi/ICU-TimeSeries-Mortality-Prediction/notebooks/2_SupervisedML/Q2_RNN/../../../data/set-b-filled.parquet -> set_b_filled\n"
     ]
    }
   ],
   "source": [
    "# load parquet files\n",
    "data_path = Path(\"../../../data\")\n",
    "notebooks_path = Path(os.getcwd())\n",
    "data_dir = {}\n",
    "\n",
    "##unsafe\n",
    "# for file_path in list((notebooks_path / data_path).glob(\"*.parquet\")):\n",
    "#     print(f\"Reading {file_path}\")\n",
    "#     # retrieve the name of the file without the extension for all OS\n",
    "#     data = pd.read_parquet(file_path)\n",
    "#     # if \"Time\" in df.columns:\n",
    "#     #     df[\"Time\"] = pd.to_datetime(df[\"Time\"])\n",
    "#     data_dir[str(file_path).replace(\"\\\\\", \"/\").split(\"/\")[-1].split(\".\")[0].replace(\"-\", \"_\")] = data\n",
    "\n",
    "for file_path in (notebooks_path / data_path).glob(\"set*.parquet\"):\n",
    "    var_name = file_path.stem.replace(\"-\", \"_\")\n",
    "    globals()[var_name] = pd.read_parquet(file_path)\n",
    "    print(f\"Reading {file_path} -> {var_name}\")\n",
    "\n",
    "\n",
    "ID_vars = [\"PatientID\", \"Time\", \"RecordID\"] # TODO \n",
    "# stationary variables\n",
    "stationary_vars = [\"Age\", \"Gender\", \"Height\"] #, \"ICUType\"]\n",
    "# dynamic variables\n",
    "dynamic_vars = set_a.columns.difference(stationary_vars + ID_vars + [\"In-hospital_death\"]).tolist()\n",
    "\n",
    "feature_cols = dynamic_vars + stationary_vars\n",
    "\n",
    "\n"
   ]
  },
  {
   "cell_type": "markdown",
   "metadata": {},
   "source": [
    "## Preprocess Data Shape"
   ]
  },
  {
   "cell_type": "code",
   "execution_count": 3,
   "metadata": {},
   "outputs": [],
   "source": [
    "from sklearn.model_selection import KFold\n",
    "\n",
    "class TimeSeriesDataModule(pl.LightningDataModule):\n",
    "    def __init__(\n",
    "        self,\n",
    "        feature_cols,\n",
    "        batch_size=32,\n",
    "        k_folds=None,  # set this to an int (e.g., 5) to activate k-fold\n",
    "        fold_index=0    # index of current fold\n",
    "    ):\n",
    "        super().__init__()\n",
    "        self.feature_cols = feature_cols\n",
    "        self.batch_size = batch_size\n",
    "        self.k_folds = k_folds\n",
    "        self.fold_index = fold_index\n",
    "\n",
    "\n",
    "\n",
    "    def preprocess_parquet_for_lstm(self, key, scaler=None, fit_scaler=False):\n",
    "        labelname = 'In-hospital_death'\n",
    "        \n",
    "\n",
    "        # if isinstance(key, list):\n",
    "        #     df = globals()[f\"set_{key}_filled\"].copy()\n",
    "        # else: \n",
    "        df = globals()[f\"set_{key}_filled\"].copy()\n",
    "            \n",
    "    \n",
    "        # Sort and fill NaNs\n",
    "        df = df.sort_values([\"RecordID\", \"Time\"])\n",
    "        df[self.feature_cols] = df[self.feature_cols].fillna(0)\n",
    "    \n",
    "        # Replace -1 with 0 in binary categorical feature\n",
    "        if \"MechVent\" in df.columns:\n",
    "            df[\"MechVent\"] = df[\"MechVent\"].replace(-1, 0)\n",
    "    \n",
    "        # One-hot encode Gender, drop last column to avoid multicollinearity\n",
    "        if \"Gender\" in df.columns:\n",
    "            gender_dummies = pd.get_dummies(df[\"Gender\"], prefix=\"Gender\", dtype=float)\n",
    "            gender_dummies = gender_dummies.iloc[:, :-1]  # drop last dummy column\n",
    "            df = df.drop(columns=[\"Gender\"])\n",
    "            df = pd.concat([df, gender_dummies], axis=1)\n",
    "    \n",
    "        # Update feature columns after dummy encoding\n",
    "        current_feature_cols = [col for col in df.columns if col in self.feature_cols or col.startswith(\"Gender_\")]\n",
    "    \n",
    "        # Extract numerical columns for scaling\n",
    "        numerical = [f for f in current_feature_cols if f not in [\"MechVent\", labelname] and not f.startswith(\"Gender_\")]\n",
    "    \n",
    "        # Fit or reuse scaler\n",
    "        if fit_scaler or scaler is None:\n",
    "            scaler = StandardScaler()\n",
    "            scaler.fit(df[numerical])\n",
    "    \n",
    "        # Apply scaling\n",
    "        df[numerical] = scaler.transform(df[numerical])\n",
    "    \n",
    "        # Group by RecordID\n",
    "        X, y = [], []\n",
    "        for pid, group in df.groupby(\"RecordID\"):\n",
    "            group = group.sort_values(\"Time\")\n",
    "            X.append(group[current_feature_cols].values)\n",
    "            label = group[labelname].iloc[0]\n",
    "            # if label not in [0, 1]:\n",
    "            #     raise ValueError(f\"Unexpected label {label} for patient {pid}. Expected binary labels only.\")\n",
    "            y.append(int(label))\n",
    "\n",
    "    \n",
    "        X_tensor = torch.tensor(np.stack(X)).float()\n",
    "        y_tensor = torch.tensor(y).float()\n",
    "    \n",
    "        return X_tensor, y_tensor, scaler\n",
    "        \n",
    "\n",
    "\n",
    "\n",
    "    def setup(self, stage=None):\n",
    "        # # Load training and validation sets and stack them\n",
    "        # X_trainval_a, y_trainval_a, fitted_scaler = self.preprocess_parquet_for_lstm(\"a\", fit_scaler=True)\n",
    "        # X_trainval_b, y_trainval_b, _ = self.preprocess_parquet_for_lstm(\"b\", scaler=fitted_scaler)\n",
    "\n",
    "        # # Stack A and B\n",
    "        # X_trainval = torch.cat([X_trainval_a, X_trainval_b], dim=0)\n",
    "        # y_trainval = torch.cat([y_trainval_a, y_trainval_b], dim=0)\n",
    "\n",
    "        # if self.k_folds:\n",
    "        #     kf = KFold(n_splits=self.k_folds, shuffle=True, random_state=42)\n",
    "        #     indices = list(kf.split(X_trainval))\n",
    "\n",
    "        #     train_idx, val_idx = indices[self.fold_index]\n",
    "        #     self.X_train, self.y_train = X_trainval[train_idx], y_trainval[train_idx]\n",
    "        #     self.X_val, self.y_val     = X_trainval[val_idx], y_trainval[val_idx]\n",
    "        # else:\n",
    "        #     self.X_train, self.y_train = X_trainval_a, y_trainval_a\n",
    "        #     self.X_val, self.y_val     = X_trainval_b, y_trainval_b\n",
    "\n",
    "        # self.X_test, self.y_test, _ = self.preprocess_parquet_for_lstm(\"c\", scaler=fitted_scaler)\n",
    "\n",
    "        # self.train_dataset = TensorDataset(self.X_train, self.y_train)\n",
    "        # self.val_dataset   = TensorDataset(self.X_val, self.y_val)\n",
    "        # self.test_dataset  = TensorDataset(self.X_test, self.y_test)\n",
    "        self.X_train, self.y_train, fitted_scaler = self.preprocess_parquet_for_lstm(\"a\", fit_scaler = True)\n",
    "        self.X_val, self.y_val , _    = self.preprocess_parquet_for_lstm(\"b\", scaler = fitted_scaler)\n",
    "        self.X_test, self.y_test , _  = self.preprocess_parquet_for_lstm(\"c\", scaler = fitted_scaler)\n",
    "\n",
    "        self.train_dataset = TensorDataset(self.X_train, self.y_train)\n",
    "        self.val_dataset   = TensorDataset(self.X_val, self.y_val)\n",
    "        self.test_dataset  = TensorDataset(self.X_test, self.y_test)\n",
    "\n",
    "    def train_dataloader(self):\n",
    "        return DataLoader(self.train_dataset, batch_size=self.batch_size, shuffle=True)\n",
    "\n",
    "    def val_dataloader(self):\n",
    "        return DataLoader(self.val_dataset, batch_size=self.batch_size)\n",
    "\n",
    "    def test_dataloader(self):\n",
    "        return DataLoader(self.test_dataset, batch_size=self.batch_size)\n",
    "\n"
   ]
  },
  {
   "cell_type": "markdown",
   "metadata": {},
   "source": [
    "## LSTM Model Class"
   ]
  },
  {
   "cell_type": "code",
   "execution_count": 27,
   "metadata": {},
   "outputs": [],
   "source": [
    "class LSTMClassifier(pl.LightningModule):\n",
    "    def __init__(self, input_size, hidden_size=64, num_layers=1, lr=1e-3):\n",
    "        super().__init__()\n",
    "        self.save_hyperparameters()\n",
    "        self.lr = lr\n",
    "\n",
    "        self.lstm = nn.LSTM(input_size=input_size, hidden_size=hidden_size, num_layers=num_layers, batch_first=True)\n",
    "        self.classifier = nn.Linear(hidden_size, 1)\n",
    "        self.loss_fn = nn.BCEWithLogitsLoss()\n",
    "\n",
    "        # Store test outputs manually\n",
    "        self.test_probs = []\n",
    "        self.test_targets = []\n",
    "\n",
    "        # Prediction threshold\n",
    "        self.prediction_threshold = 0.5\n",
    "        self.clear_after_testing = False\n",
    "\n",
    "    def forward(self, x):\n",
    "        # Run input through the LSTM\n",
    "        _, (hidden_state, _) = self.lstm(x)  # lstm_output, (hidden_state, cell_state)\n",
    "\n",
    "        # Take the last layer's hidden state (for stacked LSTM)\n",
    "        last_hidden = hidden_state[-1]  # shape: (batch_size, hidden_dim)\n",
    "\n",
    "        # Pass through the classification head\n",
    "        logits = self.classifier(last_hidden)\n",
    "\n",
    "        return logits\n",
    "\n",
    "    def training_step(self, batch, batch_idx):\n",
    "        x, y = batch\n",
    "        logits = self(x).squeeze(1)\n",
    "        loss = self.loss_fn(logits, y.float())\n",
    "        self.log(\"train_loss\", loss, prog_bar=True)\n",
    "        return loss\n",
    "\n",
    "    def validation_step(self, batch, batch_idx):\n",
    "        x, y = batch\n",
    "        logits = self(x).squeeze(1)\n",
    "        loss = self.loss_fn(logits, y.float())\n",
    "        preds = torch.sigmoid(logits) > 0.5\n",
    "        acc = (preds.int() == y).float().mean()\n",
    "        self.log(\"val_loss\", loss, prog_bar=True)\n",
    "        self.log(\"val_acc\", acc, prog_bar=True)\n",
    "        return loss\n",
    "        \n",
    "\n",
    "    def test_step(self, batch, batch_idx):\n",
    "        x, y = batch\n",
    "        logits = self(x).squeeze(1)\n",
    "        probs = torch.sigmoid(logits)\n",
    "        # print(torch.unique(log\n",
    "        loss = self.loss_fn(logits, y.float())\n",
    "\n",
    "        self.log(\"test_loss\", loss)\n",
    "\n",
    "        # Store results for epoch-end metrics\n",
    "        self.test_probs.append(probs.detach().cpu())\n",
    "        self.test_targets.append(y.detach().cpu())\n",
    "\n",
    "        return loss  # or None — you’re not using batch outputs anymore\n",
    "\n",
    "    def on_test_epoch_end(self):\n",
    "            probs = torch.cat(self.test_probs).cpu()\n",
    "            targets = torch.cat(self.test_targets).cpu()\n",
    "            preds = (probs > 0.5).int()\n",
    "            \n",
    "            # Convert both to int numpy arrays\n",
    "            targets_np = targets.int().numpy()\n",
    "            preds_np = preds.numpy()\n",
    "\n",
    "            if self.clear_after_testing: \n",
    "                self.test_probs.clear()\n",
    "                self.test_targets.clear()\n",
    "    \n",
    "            # --- Confusion Matrix ---\n",
    "            cm = confusion_matrix(targets_np, preds_np)\n",
    "            disp_cm = ConfusionMatrixDisplay(confusion_matrix=cm)\n",
    "            disp_cm.plot(cmap='Blues')\n",
    "            plt.title(\"Confusion Matrix\")\n",
    "            plt.show()\n",
    "    \n",
    "            # --- ROC Curve ---\n",
    "            auc = roc_auc_score(targets_np, probs.numpy())\n",
    "            RocCurveDisplay.from_predictions(targets, probs)\n",
    "            plt.title(f\"ROC Curve (AuROC = {auc:.3f})\")\n",
    "            plt.show()\n",
    "    \n",
    "            # --- Precision-Recall Curve ---\n",
    "            auprc = average_precision_score(targets_np, probs.numpy())\n",
    "            PrecisionRecallDisplay.from_predictions(targets, probs)\n",
    "            plt.title(f\"Precision-Recall Curve (AuPRC = {auprc:.3f})\")\n",
    "            plt.show()\n",
    "    \n",
    "            # --- Metrics ---\n",
    "            acc = (preds == targets).float().mean()\n",
    "            self.log(\"test_acc\", acc)\n",
    "            self.log(\"test_auroc\", auc)\n",
    "            self.log(\"test_auprc\", auprc)\n",
    "    \n",
    "            print(f\"\\nTest Accuracy : {acc:.4f}\")\n",
    "            print(f\"Test AuROC    : {auc:.4f}\")\n",
    "            print(f\"Test AuPRC    : {auprc:.4f}\")\n",
    "\n",
    "\n",
    "    def configure_optimizers(self):\n",
    "        optimizer = torch.optim.Adam(self.parameters(), lr=self.lr)\n",
    "        scheduler = {\n",
    "            'scheduler': torch.optim.lr_scheduler.ReduceLROnPlateau(optimizer, mode='min', patience=3, factor=0.5, verbose=True),\n",
    "            'monitor': 'val_loss',\n",
    "            'interval': 'epoch',\n",
    "            'frequency': 1\n",
    "        }\n",
    "        return {\"optimizer\": optimizer, \"lr_scheduler\": scheduler}\n",
    "\n",
    "    def tune_threshold_min_fnr(self):\n",
    "        \"\"\"\n",
    "        Find the classification threshold that minimizes the False Negative Rate (FNR)\n",
    "        and store it in self.prediction_threshold.\n",
    "    \n",
    "        Returns:\n",
    "            best_thresh (float): Threshold with the lowest FNR\n",
    "            best_fnr (float): Lowest observed FNR\n",
    "            thresholds (np.ndarray): Array of tested thresholds\n",
    "            fnrs (List[float]): FNRs corresponding to each threshold\n",
    "        \"\"\"\n",
    "    \n",
    "        assert hasattr(self, \"test_probs\") and hasattr(self, \"test_targets\"), \\\n",
    "            \"test_probs and test_targets must be defined (run test first).\"\n",
    "    \n",
    "        probs = torch.cat(self.test_probs).cpu().numpy()\n",
    "        targets = torch.cat(self.test_targets).cpu().numpy()\n",
    "    \n",
    "        thresholds = np.linspace(0, 1, 100)\n",
    "        best_thresh = 0.5\n",
    "        best_fnr = 1.0\n",
    "        fnrs = []\n",
    "    \n",
    "        for t in tqdm(thresholds):\n",
    "            preds = (probs >= t).astype(int)\n",
    "            tn, fp, fn, tp = confusion_matrix(targets, preds).ravel()\n",
    "            fnr = fn / (fn + tp) if (fn + tp) > 0 else 1.0\n",
    "            fnrs.append(fnr)\n",
    "    \n",
    "            if fnr < best_fnr:\n",
    "                best_fnr = fnr\n",
    "                best_thresh = t\n",
    "    \n",
    "        self.prediction_threshold = best_thresh\n",
    "    \n",
    "        return best_thresh, best_fnr, thresholds, fnrs\n",
    "\n",
    "class BiLSTMClassifier(LSTMClassifier):\n",
    "    def __init__(self, input_size, hidden_size=64, num_layers=1, lr=1e-3):\n",
    "        super().__init__(input_size, hidden_size, num_layers, lr)\n",
    "\n",
    "        # Redefine LSTM as bidirectional\n",
    "        self.lstm = nn.LSTM(\n",
    "            input_size=input_size,\n",
    "            hidden_size=hidden_size,\n",
    "            num_layers=num_layers,\n",
    "            batch_first=True,\n",
    "            bidirectional=True\n",
    "        )\n",
    "\n",
    "        # Since BiLSTM doubles hidden size, update classifier input\n",
    "        self.classifier = nn.Linear(hidden_size * 2, 1)\n",
    "\n",
    "    def forward(self, x):\n",
    "        _, (hidden_state, _) = self.lstm(x)  # hidden_state: (num_layers*2, batch, hidden)\n",
    "\n",
    "        # Get last layer's forward and backward hidden states\n",
    "        forward = hidden_state[-2]\n",
    "        backward = hidden_state[-1]\n",
    "\n",
    "        # Concatenate both directions\n",
    "        last_hidden = torch.cat((forward, backward), dim=1)  # (batch, hidden*2)\n",
    "\n",
    "        return self.classifier(last_hidden)\n"
   ]
  },
  {
   "cell_type": "code",
   "execution_count": 28,
   "metadata": {},
   "outputs": [],
   "source": [
    "def get_callbacks(model_name):\n",
    "    return [\n",
    "        EarlyStopping(monitor='val_loss', patience=10, verbose=True, mode='min'),\n",
    "        LearningRateMonitor(logging_interval='epoch'),\n",
    "        ModelCheckpoint(\n",
    "            monitor='val_loss',\n",
    "            mode='min',\n",
    "            save_top_k=1,\n",
    "            verbose=True,\n",
    "            filename=f'{model_name}-best-checkpoint',\n",
    "            dirpath=os.path.join(\"lightning_logs\", model_name, \"checkpoints\")\n",
    "        )\n",
    "    ]\n",
    "def train_model(ModelClass, model_name, datamodule, input_size, k_folds=None, n_layers=5, h_size=64, return_model=False):\n",
    "    if k_folds:\n",
    "        print(f\"Training {model_name} with {k_folds}-fold cross-validation...\\n\")\n",
    "        trained_models = []\n",
    "\n",
    "        for fold in range(k_folds):\n",
    "            print(f\"\\n=== Fold {fold+1}/{k_folds} ===\")\n",
    "\n",
    "            # Re-initialize datamodule with current fold\n",
    "            fold_dm = TimeSeriesDataModule(\n",
    "                feature_cols=datamodule.feature_cols,\n",
    "                batch_size=datamodule.batch_size,\n",
    "                k_folds=k_folds,\n",
    "                fold_index=fold\n",
    "            )\n",
    "            fold_dm.setup()\n",
    "\n",
    "            model = ModelClass(input_size=input_size, hidden_size=h_size, num_layers=n_layers)\n",
    "            fold_name = f\"{model_name}-fold{fold}\"\n",
    "\n",
    "            trainer = pl.Trainer(\n",
    "                max_epochs=20,\n",
    "                callbacks=get_callbacks(fold_name),\n",
    "                log_every_n_steps=10,\n",
    "                accelerator=\"auto\",\n",
    "                devices=\"auto\",\n",
    "                default_root_dir=os.path.join(\"lightning_logs\", fold_name)\n",
    "            )\n",
    "\n",
    "            trainer.fit(model, datamodule=fold_dm)\n",
    "\n",
    "            if return_model:\n",
    "                trained_models.append(model)\n",
    "\n",
    "            # Optional test after each fold\n",
    "            test_model(ModelClass, fold_name, fold_dm, model=model)\n",
    "\n",
    "        if return_model:\n",
    "            return trained_models\n",
    "\n",
    "    else:\n",
    "        print(f\"Training {model_name} without cross-validation...\")\n",
    "        model = ModelClass(input_size=input_size, hidden_size=h_size, num_layers=n_layers)\n",
    "\n",
    "        trainer = pl.Trainer(\n",
    "            max_epochs=20,\n",
    "            callbacks=get_callbacks(model_name),\n",
    "            log_every_n_steps=10,\n",
    "            accelerator=\"auto\",\n",
    "            devices=\"auto\",\n",
    "            default_root_dir=os.path.join(\"lightning_logs\", model_name)\n",
    "        )\n",
    "\n",
    "        trainer.fit(model, datamodule=datamodule)\n",
    "\n",
    "        if return_model:\n",
    "            return model\n",
    "\n",
    "\n",
    "def test_model(ModelClass, model_name, datamodule, model=None):\n",
    "    print(f\"Testing {model_name}...\")\n",
    "\n",
    "    if model is None:\n",
    "        # Load best checkpoint if model is not provided\n",
    "        ckpt_dir = os.path.join(\"lightning_logs\", model_name, \"checkpoints\")\n",
    "        ckpt_files = glob(os.path.join(ckpt_dir, \"*.ckpt\"))\n",
    "        best_ckpt_path = ckpt_files[0] if ckpt_files else None\n",
    "        print(f\"Checkpoint files found: {ckpt_files}\")\n",
    "\n",
    "        if best_ckpt_path:\n",
    "            print(f\"Best checkpoint: {best_ckpt_path}\")\n",
    "            model = ModelClass.load_from_checkpoint(best_ckpt_path)\n",
    "        else:\n",
    "            print(f\"No checkpoint found for model '{model_name}'. Skipping test.\")\n",
    "            return\n",
    "\n",
    "    trainer = pl.Trainer(accelerator=\"auto\", devices=\"auto\")\n",
    "    trainer.test(model, datamodule=datamodule)\n"
   ]
  },
  {
   "cell_type": "code",
   "execution_count": 38,
   "metadata": {},
   "outputs": [],
   "source": [
    "# Setup\n",
    "k_folds = None\n",
    "h_size = 64\n",
    "n_layers = 1\n",
    "input_size = len(feature_cols) + 1\n",
    "datamodule = TimeSeriesDataModule(feature_cols=feature_cols, batch_size=64, k_folds = k_folds)"
   ]
  },
  {
   "cell_type": "code",
   "execution_count": 39,
   "metadata": {},
   "outputs": [
    {
     "name": "stderr",
     "output_type": "stream",
     "text": [
      "GPU available: True (cuda), used: True\n",
      "TPU available: False, using: 0 TPU cores\n",
      "HPU available: False, using: 0 HPUs\n"
     ]
    },
    {
     "name": "stdout",
     "output_type": "stream",
     "text": [
      "Training lstm without cross-validation...\n"
     ]
    },
    {
     "name": "stderr",
     "output_type": "stream",
     "text": [
      "/cluster/courses/ml4h/project1env/lib/python3.12/site-packages/pytorch_lightning/callbacks/model_checkpoint.py:654: Checkpoint directory /home/pbaertschi/ICU-TimeSeries-Mortality-Prediction/notebooks/2_SupervisedML/Q2_RNN/lightning_logs/lstm/checkpoints exists and is not empty.\n",
      "LOCAL_RANK: 0 - CUDA_VISIBLE_DEVICES: [0]\n",
      "\n",
      "  | Name       | Type              | Params | Mode \n",
      "---------------------------------------------------------\n",
      "0 | lstm       | LSTM              | 27.6 K | train\n",
      "1 | classifier | Linear            | 65     | train\n",
      "2 | loss_fn    | BCEWithLogitsLoss | 0      | train\n",
      "---------------------------------------------------------\n",
      "27.7 K    Trainable params\n",
      "0         Non-trainable params\n",
      "27.7 K    Total params\n",
      "0.111     Total estimated model params size (MB)\n",
      "3         Modules in train mode\n",
      "0         Modules in eval mode\n",
      "SLURM auto-requeueing enabled. Setting signal handlers.\n"
     ]
    },
    {
     "data": {
      "application/vnd.jupyter.widget-view+json": {
       "model_id": "f15a6f2e26654e37bb4c36b8f089a2bf",
       "version_major": 2,
       "version_minor": 0
      },
      "text/plain": [
       "Sanity Checking: |          | 0/? [00:00<?, ?it/s]"
      ]
     },
     "metadata": {},
     "output_type": "display_data"
    },
    {
     "data": {
      "application/vnd.jupyter.widget-view+json": {
       "model_id": "4d46baefef274966959ea38bf7000e23",
       "version_major": 2,
       "version_minor": 0
      },
      "text/plain": [
       "Training: |          | 0/? [00:00<?, ?it/s]"
      ]
     },
     "metadata": {},
     "output_type": "display_data"
    },
    {
     "data": {
      "application/vnd.jupyter.widget-view+json": {
       "model_id": "29bd662d6a034a2ebe83a45e6565707a",
       "version_major": 2,
       "version_minor": 0
      },
      "text/plain": [
       "Validation: |          | 0/? [00:00<?, ?it/s]"
      ]
     },
     "metadata": {},
     "output_type": "display_data"
    },
    {
     "name": "stderr",
     "output_type": "stream",
     "text": [
      "Metric val_loss improved. New best score: 0.332\n",
      "Epoch 0, global step 63: 'val_loss' reached 0.33202 (best 0.33202), saving model to '/home/pbaertschi/ICU-TimeSeries-Mortality-Prediction/notebooks/2_SupervisedML/Q2_RNN/lightning_logs/lstm/checkpoints/lstm-best-checkpoint-v8.ckpt' as top 1\n"
     ]
    },
    {
     "data": {
      "application/vnd.jupyter.widget-view+json": {
       "model_id": "cbdafd844a984fcf91621a5c559967fb",
       "version_major": 2,
       "version_minor": 0
      },
      "text/plain": [
       "Validation: |          | 0/? [00:00<?, ?it/s]"
      ]
     },
     "metadata": {},
     "output_type": "display_data"
    },
    {
     "name": "stderr",
     "output_type": "stream",
     "text": [
      "Metric val_loss improved by 0.023 >= min_delta = 0.0. New best score: 0.309\n",
      "Epoch 1, global step 126: 'val_loss' reached 0.30917 (best 0.30917), saving model to '/home/pbaertschi/ICU-TimeSeries-Mortality-Prediction/notebooks/2_SupervisedML/Q2_RNN/lightning_logs/lstm/checkpoints/lstm-best-checkpoint-v8.ckpt' as top 1\n"
     ]
    },
    {
     "data": {
      "application/vnd.jupyter.widget-view+json": {
       "model_id": "93d115d9312e445a9b98d4c753efcd54",
       "version_major": 2,
       "version_minor": 0
      },
      "text/plain": [
       "Validation: |          | 0/? [00:00<?, ?it/s]"
      ]
     },
     "metadata": {},
     "output_type": "display_data"
    },
    {
     "name": "stderr",
     "output_type": "stream",
     "text": [
      "Epoch 2, global step 189: 'val_loss' was not in top 1\n"
     ]
    },
    {
     "data": {
      "application/vnd.jupyter.widget-view+json": {
       "model_id": "a6f8ea4cbfa0490f90e3dbd3ea2cd811",
       "version_major": 2,
       "version_minor": 0
      },
      "text/plain": [
       "Validation: |          | 0/? [00:00<?, ?it/s]"
      ]
     },
     "metadata": {},
     "output_type": "display_data"
    },
    {
     "name": "stderr",
     "output_type": "stream",
     "text": [
      "Metric val_loss improved by 0.006 >= min_delta = 0.0. New best score: 0.303\n",
      "Epoch 3, global step 252: 'val_loss' reached 0.30313 (best 0.30313), saving model to '/home/pbaertschi/ICU-TimeSeries-Mortality-Prediction/notebooks/2_SupervisedML/Q2_RNN/lightning_logs/lstm/checkpoints/lstm-best-checkpoint-v8.ckpt' as top 1\n"
     ]
    },
    {
     "data": {
      "application/vnd.jupyter.widget-view+json": {
       "model_id": "354b10879f674ee39e1edc24233aaece",
       "version_major": 2,
       "version_minor": 0
      },
      "text/plain": [
       "Validation: |          | 0/? [00:00<?, ?it/s]"
      ]
     },
     "metadata": {},
     "output_type": "display_data"
    },
    {
     "name": "stderr",
     "output_type": "stream",
     "text": [
      "Epoch 4, global step 315: 'val_loss' was not in top 1\n"
     ]
    },
    {
     "data": {
      "application/vnd.jupyter.widget-view+json": {
       "model_id": "fa2330707f2d4138aeb7ea994cb41f31",
       "version_major": 2,
       "version_minor": 0
      },
      "text/plain": [
       "Validation: |          | 0/? [00:00<?, ?it/s]"
      ]
     },
     "metadata": {},
     "output_type": "display_data"
    },
    {
     "name": "stderr",
     "output_type": "stream",
     "text": [
      "Epoch 5, global step 378: 'val_loss' was not in top 1\n"
     ]
    },
    {
     "data": {
      "application/vnd.jupyter.widget-view+json": {
       "model_id": "9c40293f8f20474da2400389cfb012fe",
       "version_major": 2,
       "version_minor": 0
      },
      "text/plain": [
       "Validation: |          | 0/? [00:00<?, ?it/s]"
      ]
     },
     "metadata": {},
     "output_type": "display_data"
    },
    {
     "name": "stderr",
     "output_type": "stream",
     "text": [
      "Epoch 6, global step 441: 'val_loss' was not in top 1\n"
     ]
    },
    {
     "data": {
      "application/vnd.jupyter.widget-view+json": {
       "model_id": "39d78e58041f498e8cd5d13c296f1a14",
       "version_major": 2,
       "version_minor": 0
      },
      "text/plain": [
       "Validation: |          | 0/? [00:00<?, ?it/s]"
      ]
     },
     "metadata": {},
     "output_type": "display_data"
    },
    {
     "name": "stderr",
     "output_type": "stream",
     "text": [
      "Epoch 7, global step 504: 'val_loss' was not in top 1\n"
     ]
    },
    {
     "data": {
      "application/vnd.jupyter.widget-view+json": {
       "model_id": "9a02bbced0bf40068b38b628264faf90",
       "version_major": 2,
       "version_minor": 0
      },
      "text/plain": [
       "Validation: |          | 0/? [00:00<?, ?it/s]"
      ]
     },
     "metadata": {},
     "output_type": "display_data"
    },
    {
     "name": "stderr",
     "output_type": "stream",
     "text": [
      "Epoch 8, global step 567: 'val_loss' was not in top 1\n"
     ]
    },
    {
     "data": {
      "application/vnd.jupyter.widget-view+json": {
       "model_id": "dbb5e0e45132411389d0c6e19fd86aec",
       "version_major": 2,
       "version_minor": 0
      },
      "text/plain": [
       "Validation: |          | 0/? [00:00<?, ?it/s]"
      ]
     },
     "metadata": {},
     "output_type": "display_data"
    },
    {
     "name": "stderr",
     "output_type": "stream",
     "text": [
      "Epoch 9, global step 630: 'val_loss' was not in top 1\n"
     ]
    },
    {
     "data": {
      "application/vnd.jupyter.widget-view+json": {
       "model_id": "8db2f64a948041efa77c718ecab202f4",
       "version_major": 2,
       "version_minor": 0
      },
      "text/plain": [
       "Validation: |          | 0/? [00:00<?, ?it/s]"
      ]
     },
     "metadata": {},
     "output_type": "display_data"
    },
    {
     "name": "stderr",
     "output_type": "stream",
     "text": [
      "Epoch 10, global step 693: 'val_loss' was not in top 1\n"
     ]
    },
    {
     "data": {
      "application/vnd.jupyter.widget-view+json": {
       "model_id": "a694bf8d0f0d49a5935170e11902bbeb",
       "version_major": 2,
       "version_minor": 0
      },
      "text/plain": [
       "Validation: |          | 0/? [00:00<?, ?it/s]"
      ]
     },
     "metadata": {},
     "output_type": "display_data"
    },
    {
     "name": "stderr",
     "output_type": "stream",
     "text": [
      "Epoch 11, global step 756: 'val_loss' was not in top 1\n"
     ]
    },
    {
     "data": {
      "application/vnd.jupyter.widget-view+json": {
       "model_id": "be45ef661b6246b0951d56214e678b96",
       "version_major": 2,
       "version_minor": 0
      },
      "text/plain": [
       "Validation: |          | 0/? [00:00<?, ?it/s]"
      ]
     },
     "metadata": {},
     "output_type": "display_data"
    },
    {
     "name": "stderr",
     "output_type": "stream",
     "text": [
      "Epoch 12, global step 819: 'val_loss' was not in top 1\n"
     ]
    },
    {
     "data": {
      "application/vnd.jupyter.widget-view+json": {
       "model_id": "8aaadfe5baca45629c85e0fe1c1a1a3c",
       "version_major": 2,
       "version_minor": 0
      },
      "text/plain": [
       "Validation: |          | 0/? [00:00<?, ?it/s]"
      ]
     },
     "metadata": {},
     "output_type": "display_data"
    },
    {
     "name": "stderr",
     "output_type": "stream",
     "text": [
      "Monitored metric val_loss did not improve in the last 10 records. Best score: 0.303. Signaling Trainer to stop.\n",
      "Epoch 13, global step 882: 'val_loss' was not in top 1\n"
     ]
    }
   ],
   "source": [
    "# Train both models\n",
    "# For single train/val split:\n",
    "# train_model(LSTMClassifier, \"lstm\", datamodule, input_size)\n",
    "\n",
    "# For 5-fold cross-validation:\n",
    "lstm_model = train_model(LSTMClassifier, \"lstm\", datamodule, input_size, k_folds=k_folds, h_size = h_size, n_layers = n_layers, return_model=True)\n"
   ]
  },
  {
   "cell_type": "code",
   "execution_count": 36,
   "metadata": {},
   "outputs": [
    {
     "name": "stderr",
     "output_type": "stream",
     "text": [
      "GPU available: True (cuda), used: True\n",
      "TPU available: False, using: 0 TPU cores\n",
      "HPU available: False, using: 0 HPUs\n"
     ]
    },
    {
     "name": "stdout",
     "output_type": "stream",
     "text": [
      "Training bilstm without cross-validation...\n"
     ]
    },
    {
     "name": "stderr",
     "output_type": "stream",
     "text": [
      "/cluster/courses/ml4h/project1env/lib/python3.12/site-packages/pytorch_lightning/callbacks/model_checkpoint.py:654: Checkpoint directory /home/pbaertschi/ICU-TimeSeries-Mortality-Prediction/notebooks/2_SupervisedML/Q2_RNN/lightning_logs/bilstm/checkpoints exists and is not empty.\n",
      "LOCAL_RANK: 0 - CUDA_VISIBLE_DEVICES: [0]\n",
      "\n",
      "  | Name       | Type              | Params | Mode \n",
      "---------------------------------------------------------\n",
      "0 | lstm       | LSTM              | 452 K  | train\n",
      "1 | classifier | Linear            | 129    | train\n",
      "2 | loss_fn    | BCEWithLogitsLoss | 0      | train\n",
      "---------------------------------------------------------\n",
      "452 K     Trainable params\n",
      "0         Non-trainable params\n",
      "452 K     Total params\n",
      "1.811     Total estimated model params size (MB)\n",
      "3         Modules in train mode\n",
      "0         Modules in eval mode\n",
      "SLURM auto-requeueing enabled. Setting signal handlers.\n"
     ]
    },
    {
     "data": {
      "application/vnd.jupyter.widget-view+json": {
       "model_id": "410a2897cc034ce58314cdd8f47cae4a",
       "version_major": 2,
       "version_minor": 0
      },
      "text/plain": [
       "Sanity Checking: |          | 0/? [00:00<?, ?it/s]"
      ]
     },
     "metadata": {},
     "output_type": "display_data"
    },
    {
     "data": {
      "application/vnd.jupyter.widget-view+json": {
       "model_id": "66b9b9384a2648e689c034a5cd4f0980",
       "version_major": 2,
       "version_minor": 0
      },
      "text/plain": [
       "Training: |          | 0/? [00:00<?, ?it/s]"
      ]
     },
     "metadata": {},
     "output_type": "display_data"
    },
    {
     "data": {
      "application/vnd.jupyter.widget-view+json": {
       "model_id": "4f08393ff385454f84c71dcaa292e0bd",
       "version_major": 2,
       "version_minor": 0
      },
      "text/plain": [
       "Validation: |          | 0/? [00:00<?, ?it/s]"
      ]
     },
     "metadata": {},
     "output_type": "display_data"
    },
    {
     "name": "stderr",
     "output_type": "stream",
     "text": [
      "Metric val_loss improved. New best score: 0.324\n",
      "Epoch 0, global step 63: 'val_loss' reached 0.32362 (best 0.32362), saving model to '/home/pbaertschi/ICU-TimeSeries-Mortality-Prediction/notebooks/2_SupervisedML/Q2_RNN/lightning_logs/bilstm/checkpoints/bilstm-best-checkpoint-v5.ckpt' as top 1\n"
     ]
    },
    {
     "data": {
      "application/vnd.jupyter.widget-view+json": {
       "model_id": "e255caa167674da4afc96b27c55270a3",
       "version_major": 2,
       "version_minor": 0
      },
      "text/plain": [
       "Validation: |          | 0/? [00:00<?, ?it/s]"
      ]
     },
     "metadata": {},
     "output_type": "display_data"
    },
    {
     "name": "stderr",
     "output_type": "stream",
     "text": [
      "Metric val_loss improved by 0.014 >= min_delta = 0.0. New best score: 0.310\n",
      "Epoch 1, global step 126: 'val_loss' reached 0.31011 (best 0.31011), saving model to '/home/pbaertschi/ICU-TimeSeries-Mortality-Prediction/notebooks/2_SupervisedML/Q2_RNN/lightning_logs/bilstm/checkpoints/bilstm-best-checkpoint-v5.ckpt' as top 1\n"
     ]
    },
    {
     "data": {
      "application/vnd.jupyter.widget-view+json": {
       "model_id": "038e765bc80241dab4740877f2e614e7",
       "version_major": 2,
       "version_minor": 0
      },
      "text/plain": [
       "Validation: |          | 0/? [00:00<?, ?it/s]"
      ]
     },
     "metadata": {},
     "output_type": "display_data"
    },
    {
     "name": "stderr",
     "output_type": "stream",
     "text": [
      "Epoch 2, global step 189: 'val_loss' was not in top 1\n"
     ]
    },
    {
     "data": {
      "application/vnd.jupyter.widget-view+json": {
       "model_id": "4878a2c481c1400dbf64fa6724912d53",
       "version_major": 2,
       "version_minor": 0
      },
      "text/plain": [
       "Validation: |          | 0/? [00:00<?, ?it/s]"
      ]
     },
     "metadata": {},
     "output_type": "display_data"
    },
    {
     "name": "stderr",
     "output_type": "stream",
     "text": [
      "Epoch 3, global step 252: 'val_loss' was not in top 1\n"
     ]
    },
    {
     "data": {
      "application/vnd.jupyter.widget-view+json": {
       "model_id": "45836a63573743a58dc953e335bd17fb",
       "version_major": 2,
       "version_minor": 0
      },
      "text/plain": [
       "Validation: |          | 0/? [00:00<?, ?it/s]"
      ]
     },
     "metadata": {},
     "output_type": "display_data"
    },
    {
     "name": "stderr",
     "output_type": "stream",
     "text": [
      "Epoch 4, global step 315: 'val_loss' was not in top 1\n"
     ]
    },
    {
     "data": {
      "application/vnd.jupyter.widget-view+json": {
       "model_id": "ae9191c229b94e60863f7859d19c1e4b",
       "version_major": 2,
       "version_minor": 0
      },
      "text/plain": [
       "Validation: |          | 0/? [00:00<?, ?it/s]"
      ]
     },
     "metadata": {},
     "output_type": "display_data"
    },
    {
     "name": "stderr",
     "output_type": "stream",
     "text": [
      "Epoch 5, global step 378: 'val_loss' was not in top 1\n"
     ]
    },
    {
     "data": {
      "application/vnd.jupyter.widget-view+json": {
       "model_id": "cd60ece07b0a46fcb9cb41ba3b00df02",
       "version_major": 2,
       "version_minor": 0
      },
      "text/plain": [
       "Validation: |          | 0/? [00:00<?, ?it/s]"
      ]
     },
     "metadata": {},
     "output_type": "display_data"
    },
    {
     "name": "stderr",
     "output_type": "stream",
     "text": [
      "Epoch 6, global step 441: 'val_loss' was not in top 1\n"
     ]
    },
    {
     "data": {
      "application/vnd.jupyter.widget-view+json": {
       "model_id": "d1948ae525584247ae35b0e9d3e7ca71",
       "version_major": 2,
       "version_minor": 0
      },
      "text/plain": [
       "Validation: |          | 0/? [00:00<?, ?it/s]"
      ]
     },
     "metadata": {},
     "output_type": "display_data"
    },
    {
     "name": "stderr",
     "output_type": "stream",
     "text": [
      "Epoch 7, global step 504: 'val_loss' was not in top 1\n"
     ]
    },
    {
     "data": {
      "application/vnd.jupyter.widget-view+json": {
       "model_id": "bdce21702d7545b68ad444a426701cc7",
       "version_major": 2,
       "version_minor": 0
      },
      "text/plain": [
       "Validation: |          | 0/? [00:00<?, ?it/s]"
      ]
     },
     "metadata": {},
     "output_type": "display_data"
    },
    {
     "name": "stderr",
     "output_type": "stream",
     "text": [
      "Epoch 8, global step 567: 'val_loss' was not in top 1\n"
     ]
    },
    {
     "data": {
      "application/vnd.jupyter.widget-view+json": {
       "model_id": "65eff613529c4c8d9424eb14bb25a382",
       "version_major": 2,
       "version_minor": 0
      },
      "text/plain": [
       "Validation: |          | 0/? [00:00<?, ?it/s]"
      ]
     },
     "metadata": {},
     "output_type": "display_data"
    },
    {
     "name": "stderr",
     "output_type": "stream",
     "text": [
      "Epoch 9, global step 630: 'val_loss' was not in top 1\n"
     ]
    },
    {
     "data": {
      "application/vnd.jupyter.widget-view+json": {
       "model_id": "0e762b4cb5e24d9a8d10e0e4bc5a599c",
       "version_major": 2,
       "version_minor": 0
      },
      "text/plain": [
       "Validation: |          | 0/? [00:00<?, ?it/s]"
      ]
     },
     "metadata": {},
     "output_type": "display_data"
    },
    {
     "name": "stderr",
     "output_type": "stream",
     "text": [
      "Epoch 10, global step 693: 'val_loss' was not in top 1\n"
     ]
    },
    {
     "data": {
      "application/vnd.jupyter.widget-view+json": {
       "model_id": "14835928685f4ffaadffa2652b9d01fb",
       "version_major": 2,
       "version_minor": 0
      },
      "text/plain": [
       "Validation: |          | 0/? [00:00<?, ?it/s]"
      ]
     },
     "metadata": {},
     "output_type": "display_data"
    },
    {
     "name": "stderr",
     "output_type": "stream",
     "text": [
      "Monitored metric val_loss did not improve in the last 10 records. Best score: 0.310. Signaling Trainer to stop.\n",
      "Epoch 11, global step 756: 'val_loss' was not in top 1\n"
     ]
    }
   ],
   "source": [
    "bilstm_model = train_model(BiLSTMClassifier, \"bilstm\", datamodule, input_size, k_folds = k_folds, return_model=True)"
   ]
  },
  {
   "cell_type": "code",
   "execution_count": 40,
   "metadata": {},
   "outputs": [
    {
     "name": "stderr",
     "output_type": "stream",
     "text": [
      "GPU available: True (cuda), used: True\n",
      "TPU available: False, using: 0 TPU cores\n",
      "HPU available: False, using: 0 HPUs\n"
     ]
    },
    {
     "name": "stdout",
     "output_type": "stream",
     "text": [
      "Testing lstm...\n"
     ]
    },
    {
     "name": "stderr",
     "output_type": "stream",
     "text": [
      "LOCAL_RANK: 0 - CUDA_VISIBLE_DEVICES: [0]\n",
      "SLURM auto-requeueing enabled. Setting signal handlers.\n"
     ]
    },
    {
     "data": {
      "application/vnd.jupyter.widget-view+json": {
       "model_id": "7f5035506dbe4ab9b1b7aa4b8cdf6e58",
       "version_major": 2,
       "version_minor": 0
      },
      "text/plain": [
       "Testing: |          | 0/? [00:00<?, ?it/s]"
      ]
     },
     "metadata": {},
     "output_type": "display_data"
    },
    {
     "data": {
      "image/png": "[encoded data removed]",
      "text/plain": [
       "<Figure size 640x480 with 2 Axes>"
      ]
     },
     "metadata": {},
     "output_type": "display_data"
    },
    {
     "data": {
      "image/png": "[encoded data removed]",
      "text/plain": [
       "<Figure size 640x480 with 1 Axes>"
      ]
     },
     "metadata": {},
     "output_type": "display_data"
    },
    {
     "data": {
      "image/png": "[encoded data removed]",
      "text/plain": [
       "<Figure size 640x480 with 1 Axes>"
      ]
     },
     "metadata": {},
     "output_type": "display_data"
    },
    {
     "name": "stdout",
     "output_type": "stream",
     "text": [
      "\n",
      "Test Accuracy : 0.8457\n",
      "Test AuROC    : 0.8009\n",
      "Test AuPRC    : 0.4256\n"
     ]
    },
    {
     "data": {
      "text/html": [
       "<pre style=\"white-space:pre;overflow-x:auto;line-height:normal;font-family:Menlo,'DejaVu Sans Mono',consolas,'Courier New',monospace\">┏━━━━━━━━━━━━━━━━━━━━━━━━━━━┳━━━━━━━━━━━━━━━━━━━━━━━━━━━┓\n",
       "┃<span style=\"font-weight: bold\">        Test metric        </span>┃<span style=\"font-weight: bold\">       DataLoader 0        </span>┃\n",
       "┡━━━━━━━━━━━━━━━━━━━━━━━━━━━╇━━━━━━━━━━━━━━━━━━━━━━━━━━━┩\n",
       "│<span style=\"color: #008080; text-decoration-color: #008080\">         test_acc          </span>│<span style=\"color: #800080; text-decoration-color: #800080\">    0.8457499742507935     </span>│\n",
       "│<span style=\"color: #008080; text-decoration-color: #008080\">        test_auprc         </span>│<span style=\"color: #800080; text-decoration-color: #800080\">    0.42559880018234253    </span>│\n",
       "│<span style=\"color: #008080; text-decoration-color: #008080\">        test_auroc         </span>│<span style=\"color: #800080; text-decoration-color: #800080\">    0.8009005188941956     </span>│\n",
       "│<span style=\"color: #008080; text-decoration-color: #008080\">         test_loss         </span>│<span style=\"color: #800080; text-decoration-color: #800080\">    0.4331190288066864     </span>│\n",
       "└───────────────────────────┴───────────────────────────┘\n",
       "</pre>\n"
      ],
      "text/plain": [
       "┏━━━━━━━━━━━━━━━━━━━━━━━━━━━┳━━━━━━━━━━━━━━━━━━━━━━━━━━━┓\n",
       "┃\u001b[1m \u001b[0m\u001b[1m       Test metric       \u001b[0m\u001b[1m \u001b[0m┃\u001b[1m \u001b[0m\u001b[1m      DataLoader 0       \u001b[0m\u001b[1m \u001b[0m┃\n",
       "┡━━━━━━━━━━━━━━━━━━━━━━━━━━━╇━━━━━━━━━━━━━━━━━━━━━━━━━━━┩\n",
       "│\u001b[36m \u001b[0m\u001b[36m        test_acc         \u001b[0m\u001b[36m \u001b[0m│\u001b[35m \u001b[0m\u001b[35m   0.8457499742507935    \u001b[0m\u001b[35m \u001b[0m│\n",
       "│\u001b[36m \u001b[0m\u001b[36m       test_auprc        \u001b[0m\u001b[36m \u001b[0m│\u001b[35m \u001b[0m\u001b[35m   0.42559880018234253   \u001b[0m\u001b[35m \u001b[0m│\n",
       "│\u001b[36m \u001b[0m\u001b[36m       test_auroc        \u001b[0m\u001b[36m \u001b[0m│\u001b[35m \u001b[0m\u001b[35m   0.8009005188941956    \u001b[0m\u001b[35m \u001b[0m│\n",
       "│\u001b[36m \u001b[0m\u001b[36m        test_loss        \u001b[0m\u001b[36m \u001b[0m│\u001b[35m \u001b[0m\u001b[35m   0.4331190288066864    \u001b[0m\u001b[35m \u001b[0m│\n",
       "└───────────────────────────┴───────────────────────────┘\n"
      ]
     },
     "metadata": {},
     "output_type": "display_data"
    },
    {
     "name": "stderr",
     "output_type": "stream",
     "text": [
      "GPU available: True (cuda), used: True\n",
      "TPU available: False, using: 0 TPU cores\n",
      "HPU available: False, using: 0 HPUs\n"
     ]
    },
    {
     "name": "stdout",
     "output_type": "stream",
     "text": [
      "Testing bilstm...\n"
     ]
    },
    {
     "name": "stderr",
     "output_type": "stream",
     "text": [
      "LOCAL_RANK: 0 - CUDA_VISIBLE_DEVICES: [0]\n",
      "SLURM auto-requeueing enabled. Setting signal handlers.\n"
     ]
    },
    {
     "data": {
      "application/vnd.jupyter.widget-view+json": {
       "model_id": "02dd183f9e8f429b82e656cb9accdef5",
       "version_major": 2,
       "version_minor": 0
      },
      "text/plain": [
       "Testing: |          | 0/? [00:00<?, ?it/s]"
      ]
     },
     "metadata": {},
     "output_type": "display_data"
    },
    {
     "data": {
      "image/png": "[encoded data removed]",
      "text/plain": [
       "<Figure size 640x480 with 2 Axes>"
      ]
     },
     "metadata": {},
     "output_type": "display_data"
    },
    {
     "data": {
      "image/png": "[encoded data removed]",
      "text/plain": [
       "<Figure size 640x480 with 1 Axes>"
      ]
     },
     "metadata": {},
     "output_type": "display_data"
    },
    {
     "data": {
      "image/png": "[encoded data removed]",
      "text/plain": [
       "<Figure size 640x480 with 1 Axes>"
      ]
     },
     "metadata": {},
     "output_type": "display_data"
    },
    {
     "name": "stdout",
     "output_type": "stream",
     "text": [
      "\n",
      "Test Accuracy : 0.8367\n",
      "Test AuROC    : 0.7801\n",
      "Test AuPRC    : 0.3848\n"
     ]
    },
    {
     "data": {
      "text/html": [
       "<pre style=\"white-space:pre;overflow-x:auto;line-height:normal;font-family:Menlo,'DejaVu Sans Mono',consolas,'Courier New',monospace\">┏━━━━━━━━━━━━━━━━━━━━━━━━━━━┳━━━━━━━━━━━━━━━━━━━━━━━━━━━┓\n",
       "┃<span style=\"font-weight: bold\">        Test metric        </span>┃<span style=\"font-weight: bold\">       DataLoader 0        </span>┃\n",
       "┡━━━━━━━━━━━━━━━━━━━━━━━━━━━╇━━━━━━━━━━━━━━━━━━━━━━━━━━━┩\n",
       "│<span style=\"color: #008080; text-decoration-color: #008080\">         test_acc          </span>│<span style=\"color: #800080; text-decoration-color: #800080\">    0.8367499709129333     </span>│\n",
       "│<span style=\"color: #008080; text-decoration-color: #008080\">        test_auprc         </span>│<span style=\"color: #800080; text-decoration-color: #800080\">    0.38475915789604187    </span>│\n",
       "│<span style=\"color: #008080; text-decoration-color: #008080\">        test_auroc         </span>│<span style=\"color: #800080; text-decoration-color: #800080\">    0.7800948619842529     </span>│\n",
       "│<span style=\"color: #008080; text-decoration-color: #008080\">         test_loss         </span>│<span style=\"color: #800080; text-decoration-color: #800080\">     0.666806697845459     </span>│\n",
       "└───────────────────────────┴───────────────────────────┘\n",
       "</pre>\n"
      ],
      "text/plain": [
       "┏━━━━━━━━━━━━━━━━━━━━━━━━━━━┳━━━━━━━━━━━━━━━━━━━━━━━━━━━┓\n",
       "┃\u001b[1m \u001b[0m\u001b[1m       Test metric       \u001b[0m\u001b[1m \u001b[0m┃\u001b[1m \u001b[0m\u001b[1m      DataLoader 0       \u001b[0m\u001b[1m \u001b[0m┃\n",
       "┡━━━━━━━━━━━━━━━━━━━━━━━━━━━╇━━━━━━━━━━━━━━━━━━━━━━━━━━━┩\n",
       "│\u001b[36m \u001b[0m\u001b[36m        test_acc         \u001b[0m\u001b[36m \u001b[0m│\u001b[35m \u001b[0m\u001b[35m   0.8367499709129333    \u001b[0m\u001b[35m \u001b[0m│\n",
       "│\u001b[36m \u001b[0m\u001b[36m       test_auprc        \u001b[0m\u001b[36m \u001b[0m│\u001b[35m \u001b[0m\u001b[35m   0.38475915789604187   \u001b[0m\u001b[35m \u001b[0m│\n",
       "│\u001b[36m \u001b[0m\u001b[36m       test_auroc        \u001b[0m\u001b[36m \u001b[0m│\u001b[35m \u001b[0m\u001b[35m   0.7800948619842529    \u001b[0m\u001b[35m \u001b[0m│\n",
       "│\u001b[36m \u001b[0m\u001b[36m        test_loss        \u001b[0m\u001b[36m \u001b[0m│\u001b[35m \u001b[0m\u001b[35m    0.666806697845459    \u001b[0m\u001b[35m \u001b[0m│\n",
       "└───────────────────────────┴───────────────────────────┘\n"
      ]
     },
     "metadata": {},
     "output_type": "display_data"
    }
   ],
   "source": [
    "# Test both models\n",
    "test_model(LSTMClassifier, \"lstm\", datamodule, model = lstm_model)\n",
    "test_model(BiLSTMClassifier, \"bilstm\", datamodule, model = bilstm_model)"
   ]
  },
  {
   "cell_type": "markdown",
   "metadata": {},
   "source": [
    "## Optimize decision Threshold"
   ]
  },
  {
   "cell_type": "code",
   "execution_count": 11,
   "metadata": {},
   "outputs": [
    {
     "data": {
      "application/vnd.jupyter.widget-view+json": {
       "model_id": "a280645883d24e49adc5a934218d82fe",
       "version_major": 2,
       "version_minor": 0
      },
      "text/plain": [
       "  0%|          | 0/100 [00:00<?, ?it/s]"
      ]
     },
     "metadata": {},
     "output_type": "display_data"
    },
    {
     "data": {
      "text/plain": [
       "Text(0.5, 1.0, 'Minimize FNR at Threshold')"
      ]
     },
     "execution_count": 11,
     "metadata": {},
     "output_type": "execute_result"
    },
    {
     "data": {
      "image/png": "[encoded data removed]",
      "text/plain": [
       "<Figure size 640x480 with 1 Axes>"
      ]
     },
     "metadata": {},
     "output_type": "display_data"
    }
   ],
   "source": [
    "# idea: minimize threshold\n",
    "_, _, thresholds, fnrs = model.tune_threshold_min_fnr()\n",
    "plt.plot(thresholds, fnrs)\n",
    "plt.xlabel(\"Thresholds\")\n",
    "plt.ylabel(\"FNR\")\n",
    "plt.title(\"Minimize FNR at Threshold\")\n",
    "# outcome: to simplistic approach, converges to 0"
   ]
  },
  {
   "cell_type": "code",
   "execution_count": 20,
   "metadata": {},
   "outputs": [],
   "source": [
    "# model.prediction_threshold = 0.65\n",
    "# trainer.test(model, datamodule = datamodule)"
   ]
  },
  {
   "cell_type": "code",
   "execution_count": null,
   "metadata": {},
   "outputs": [],
   "source": []
  }
 ],
 "metadata": {
  "kernelspec": {
   "display_name": "Python 3 (ipykernel)",
   "language": "python",
   "name": "python3"
  },
  "language_info": {
   "codemirror_mode": {
    "name": "ipython",
    "version": 3
   },
   "file_extension": ".py",
   "mimetype": "text/x-python",
   "name": "python",
   "nbconvert_exporter": "python",
   "pygments_lexer": "ipython3",
   "version": "3.12.3"
  },
  "widgets": {
   "application/vnd.jupyter.widget-state+json": {
    "state": {},
    "version_major": 2,
    "version_minor": 0
   }
  }
 },
 "nbformat": 4,
 "nbformat_minor": 4
}
