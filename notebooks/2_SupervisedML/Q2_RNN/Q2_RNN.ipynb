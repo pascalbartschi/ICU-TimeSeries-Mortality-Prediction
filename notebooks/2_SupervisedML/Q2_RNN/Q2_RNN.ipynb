{
 "cells": [
  {
   "cell_type": "markdown",
   "metadata": {},
   "source": [
    "# RNN\n",
    "\n",
    "## Lib and Data Loading"
   ]
  },
  {
   "cell_type": "code",
   "execution_count": 11,
   "metadata": {},
   "outputs": [],
   "source": [
    "import numpy as np\n",
    "import pandas as pd\n",
    "from sklearn.model_selection import train_test_split\n",
    "from sklearn.preprocessing import StandardScaler\n",
    "from sklearn.metrics import (\n",
    "    confusion_matrix,\n",
    "    roc_auc_score,\n",
    "    average_precision_score,\n",
    "    RocCurveDisplay,\n",
    "    PrecisionRecallDisplay,\n",
    "    ConfusionMatrixDisplay\n",
    ")\n",
    "import torch\n",
    "import torch.nn as nn\n",
    "import pytorch_lightning as pl\n",
    "from torch.utils.data import DataLoader, TensorDataset\n",
    "from pytorch_lightning.callbacks import EarlyStopping, LearningRateMonitor, ModelCheckpoint\n",
    "import torchmetrics\n",
    "\n",
    "import os\n",
    "from glob import glob\n",
    "from pathlib import Path\n",
    "from tqdm.notebook import tqdm\n",
    "import ipywidgets as widgets\n",
    "from IPython.display import display, clear_output\n",
    "from matplotlib import pyplot as plt\n",
    "\n",
    "# override all pandas display limits\n",
    "pd.options.display.max_columns = None\n",
    "pd.options.display.max_rows = None\n",
    "\n"
   ]
  },
  {
   "cell_type": "code",
   "execution_count": 12,
   "metadata": {},
   "outputs": [
    {
     "name": "stdout",
     "output_type": "stream",
     "text": [
      "Reading /home/pbaertschi/ICU-TimeSeries-Mortality-Prediction/notebooks/2_SupervisedML/Q2_RNN/../../../data/set-a-filled.parquet -> set_a_filled\n",
      "Reading /home/pbaertschi/ICU-TimeSeries-Mortality-Prediction/notebooks/2_SupervisedML/Q2_RNN/../../../data/set-b.parquet -> set_b\n",
      "Reading /home/pbaertschi/ICU-TimeSeries-Mortality-Prediction/notebooks/2_SupervisedML/Q2_RNN/../../../data/set-a.parquet -> set_a\n",
      "Reading /home/pbaertschi/ICU-TimeSeries-Mortality-Prediction/notebooks/2_SupervisedML/Q2_RNN/../../../data/set-c-filled.parquet -> set_c_filled\n",
      "Reading /home/pbaertschi/ICU-TimeSeries-Mortality-Prediction/notebooks/2_SupervisedML/Q2_RNN/../../../data/set-c.parquet -> set_c\n",
      "Reading /home/pbaertschi/ICU-TimeSeries-Mortality-Prediction/notebooks/2_SupervisedML/Q2_RNN/../../../data/set-b-filled.parquet -> set_b_filled\n"
     ]
    }
   ],
   "source": [
    "# load parquet files\n",
    "data_path = Path(\"../../../data\")\n",
    "notebooks_path = Path(os.getcwd())\n",
    "data_dir = {}\n",
    "\n",
    "##unsafe\n",
    "# for file_path in list((notebooks_path / data_path).glob(\"*.parquet\")):\n",
    "#     print(f\"Reading {file_path}\")\n",
    "#     # retrieve the name of the file without the extension for all OS\n",
    "#     data = pd.read_parquet(file_path)\n",
    "#     # if \"Time\" in df.columns:\n",
    "#     #     df[\"Time\"] = pd.to_datetime(df[\"Time\"])\n",
    "#     data_dir[str(file_path).replace(\"\\\\\", \"/\").split(\"/\")[-1].split(\".\")[0].replace(\"-\", \"_\")] = data\n",
    "\n",
    "for file_path in (notebooks_path / data_path).glob(\"set*.parquet\"):\n",
    "    var_name = file_path.stem.replace(\"-\", \"_\")\n",
    "    globals()[var_name] = pd.read_parquet(file_path)\n",
    "    print(f\"Reading {file_path} -> {var_name}\")\n",
    "\n",
    "\n",
    "ID_vars = [\"PatientID\", \"Time\", \"RecordID\"]\n",
    "# stationary variables\n",
    "stationary_vars = [\"Age\", \"Gender\", \"Height\"] #, \"ICUType\"]\n",
    "# dynamic variables\n",
    "dynamic_vars = set_a.columns.difference(stationary_vars + ID_vars).tolist()\n"
   ]
  },
  {
   "cell_type": "markdown",
   "metadata": {},
   "source": [
    "## Preprocess Data Shape"
   ]
  },
  {
   "cell_type": "code",
   "execution_count": 13,
   "metadata": {},
   "outputs": [],
   "source": [
    "class TimeSeriesDataModule(pl.LightningDataModule):\n",
    "    def __init__(\n",
    "        self,\n",
    "        feature_cols,\n",
    "        batch_size=32\n",
    "    ):\n",
    "        super().__init__()\n",
    "        self.feature_cols = feature_cols\n",
    "        self.batch_size = batch_size\n",
    "\n",
    "    def preprocess_parquet_for_lstm(self, key):\n",
    "        labelname = 'In-hospital_death'\n",
    "        df = globals()[f\"set_{key}_filled\"].copy()\n",
    "    \n",
    "        # Group by patient\n",
    "        X = []\n",
    "        y = []\n",
    "        for pid, group in df.groupby(\"RecordID\"):\n",
    "            group = group.sort_values(\"Time\")\n",
    "            group.fillna(0, inplace=True)\n",
    "    \n",
    "            X.append(group[self.feature_cols].values)\n",
    "            # Take the label from the first row (same for all timepoints)\n",
    "            y.append(group[labelname].iloc[0])\n",
    "    \n",
    "        X_tensor = torch.tensor(np.stack(X)).float()  # (n_patients, seq_len, n_features)\n",
    "        y_tensor = torch.tensor(y).float()            # (n_patients,)\n",
    "    \n",
    "        return X_tensor, y_tensor\n",
    "\n",
    "\n",
    "    def setup(self, stage=None):\n",
    "        self.X_train, self.y_train = self.preprocess_parquet_for_lstm(\"a\")\n",
    "        self.X_val, self.y_val     = self.preprocess_parquet_for_lstm(\"b\")\n",
    "        self.X_test, self.y_test   = self.preprocess_parquet_for_lstm(\"c\")\n",
    "\n",
    "        self.train_dataset = TensorDataset(self.X_train, self.y_train)\n",
    "        self.val_dataset   = TensorDataset(self.X_val, self.y_val)\n",
    "        self.test_dataset  = TensorDataset(self.X_test, self.y_test)\n",
    "\n",
    "    def train_dataloader(self):\n",
    "        return DataLoader(self.train_dataset, batch_size=self.batch_size, shuffle=True)\n",
    "\n",
    "    def val_dataloader(self):\n",
    "        return DataLoader(self.val_dataset, batch_size=self.batch_size)\n",
    "\n",
    "    def test_dataloader(self):\n",
    "        return DataLoader(self.test_dataset, batch_size=self.batch_size)\n",
    "\n"
   ]
  },
  {
   "cell_type": "markdown",
   "metadata": {},
   "source": [
    "## LSTM Model Class"
   ]
  },
  {
   "cell_type": "code",
   "execution_count": 14,
   "metadata": {},
   "outputs": [],
   "source": [
    "class LSTMClassifier(pl.LightningModule):\n",
    "    def __init__(self, input_size, hidden_size=64, num_layers=1, lr=1e-3):\n",
    "        super().__init__()\n",
    "        self.save_hyperparameters()\n",
    "        self.lr = lr\n",
    "\n",
    "        self.lstm = nn.LSTM(input_size=input_size, hidden_size=hidden_size, num_layers=num_layers, batch_first=True)\n",
    "        self.classifier = nn.Linear(hidden_size, 1)\n",
    "        self.loss_fn = nn.BCEWithLogitsLoss()\n",
    "\n",
    "        # Store test outputs manually\n",
    "        self.test_probs = []\n",
    "        self.test_targets = []\n",
    "\n",
    "        # Prediction threshold\n",
    "        self.prediction_threshold = 0.5\n",
    "        self.clear_after_testing = False\n",
    "\n",
    "    def forward(self, x):\n",
    "        # Run input through the LSTM\n",
    "        _, (hidden_state, _) = self.lstm(x)  # lstm_output, (hidden_state, cell_state)\n",
    "\n",
    "        # Take the last layer's hidden state (for stacked LSTM)\n",
    "        last_hidden = hidden_state[-1]  # shape: (batch_size, hidden_dim)\n",
    "\n",
    "        # Pass through the classification head\n",
    "        logits = self.classifier(last_hidden)\n",
    "\n",
    "        return logits\n",
    "\n",
    "    def training_step(self, batch, batch_idx):\n",
    "        x, y = batch\n",
    "        logits = self(x).squeeze(1)\n",
    "        loss = self.loss_fn(logits, y.float())\n",
    "        self.log(\"train_loss\", loss, prog_bar=True)\n",
    "        return loss\n",
    "\n",
    "    def validation_step(self, batch, batch_idx):\n",
    "        x, y = batch\n",
    "        logits = self(x).squeeze(1)\n",
    "        loss = self.loss_fn(logits, y.float())\n",
    "        preds = torch.sigmoid(logits) > 0.5\n",
    "        acc = (preds.int() == y).float().mean()\n",
    "        self.log(\"val_loss\", loss, prog_bar=True)\n",
    "        self.log(\"val_acc\", acc, prog_bar=True)\n",
    "        return loss\n",
    "        \n",
    "\n",
    "    def test_step(self, batch, batch_idx):\n",
    "        x, y = batch\n",
    "        logits = self(x).squeeze(1)\n",
    "        probs = torch.sigmoid(logits)\n",
    "        loss = self.loss_fn(logits, y.float())\n",
    "\n",
    "        self.log(\"test_loss\", loss)\n",
    "\n",
    "        # Store results for epoch-end metrics\n",
    "        self.test_probs.append(probs.detach().cpu())\n",
    "        self.test_targets.append(y.detach().cpu())\n",
    "\n",
    "        return loss  # or None — you’re not using batch outputs anymore\n",
    "\n",
    "    def on_test_epoch_end(self):\n",
    "            probs = torch.cat(self.test_probs).cpu()\n",
    "            targets = torch.cat(self.test_targets).cpu()\n",
    "            preds = (probs > 0.5).int()\n",
    "\n",
    "            if self.clear_after_testing: \n",
    "                self.test_probs.clear()\n",
    "                self.test_targets.clear()\n",
    "    \n",
    "            # --- Confusion Matrix ---\n",
    "            cm = confusion_matrix(targets, preds)\n",
    "            disp_cm = ConfusionMatrixDisplay(confusion_matrix=cm)\n",
    "            disp_cm.plot(cmap='Blues')\n",
    "            plt.title(\"Confusion Matrix\")\n",
    "            plt.show()\n",
    "    \n",
    "            # --- ROC Curve ---\n",
    "            auc = roc_auc_score(targets, probs)\n",
    "            RocCurveDisplay.from_predictions(targets, probs)\n",
    "            plt.title(f\"ROC Curve (AuROC = {auc:.3f})\")\n",
    "            plt.show()\n",
    "    \n",
    "            # --- Precision-Recall Curve ---\n",
    "            auprc = average_precision_score(targets, probs)\n",
    "            PrecisionRecallDisplay.from_predictions(targets, probs)\n",
    "            plt.title(f\"Precision-Recall Curve (AuPRC = {auprc:.3f})\")\n",
    "            plt.show()\n",
    "    \n",
    "            # --- Metrics ---\n",
    "            acc = (preds == targets).float().mean()\n",
    "            self.log(\"test_acc\", acc)\n",
    "            self.log(\"test_auroc\", auc)\n",
    "            self.log(\"test_auprc\", auprc)\n",
    "    \n",
    "            print(f\"\\nTest Accuracy : {acc:.4f}\")\n",
    "            print(f\"Test AuROC    : {auc:.4f}\")\n",
    "            print(f\"Test AuPRC    : {auprc:.4f}\")\n",
    "\n",
    "\n",
    "    def configure_optimizers(self):\n",
    "        optimizer = torch.optim.Adam(self.parameters(), lr=self.lr)\n",
    "        scheduler = {\n",
    "            'scheduler': torch.optim.lr_scheduler.ReduceLROnPlateau(optimizer, mode='min', patience=3, factor=0.5, verbose=True),\n",
    "            'monitor': 'val_loss',\n",
    "            'interval': 'epoch',\n",
    "            'frequency': 1\n",
    "        }\n",
    "        return {\"optimizer\": optimizer, \"lr_scheduler\": scheduler}\n",
    "\n",
    "    def tune_threshold_min_fnr(self):\n",
    "        \"\"\"\n",
    "        Find the classification threshold that minimizes the False Negative Rate (FNR)\n",
    "        and store it in self.prediction_threshold.\n",
    "    \n",
    "        Returns:\n",
    "            best_thresh (float): Threshold with the lowest FNR\n",
    "            best_fnr (float): Lowest observed FNR\n",
    "            thresholds (np.ndarray): Array of tested thresholds\n",
    "            fnrs (List[float]): FNRs corresponding to each threshold\n",
    "        \"\"\"\n",
    "    \n",
    "        assert hasattr(self, \"test_probs\") and hasattr(self, \"test_targets\"), \\\n",
    "            \"test_probs and test_targets must be defined (run test first).\"\n",
    "    \n",
    "        probs = torch.cat(self.test_probs).cpu().numpy()\n",
    "        targets = torch.cat(self.test_targets).cpu().numpy()\n",
    "    \n",
    "        thresholds = np.linspace(0, 1, 100)\n",
    "        best_thresh = 0.5\n",
    "        best_fnr = 1.0\n",
    "        fnrs = []\n",
    "    \n",
    "        for t in tqdm(thresholds):\n",
    "            preds = (probs >= t).astype(int)\n",
    "            tn, fp, fn, tp = confusion_matrix(targets, preds).ravel()\n",
    "            fnr = fn / (fn + tp) if (fn + tp) > 0 else 1.0\n",
    "            fnrs.append(fnr)\n",
    "    \n",
    "            if fnr < best_fnr:\n",
    "                best_fnr = fnr\n",
    "                best_thresh = t\n",
    "    \n",
    "        self.prediction_threshold = best_thresh\n",
    "    \n",
    "        return best_thresh, best_fnr, thresholds, fnrs\n",
    "\n",
    "class BiLSTMClassifier(LSTMClassifier):\n",
    "    def __init__(self, input_size, hidden_size=64, num_layers=1, lr=1e-3):\n",
    "        super().__init__(input_size, hidden_size, num_layers, lr)\n",
    "\n",
    "        # Redefine LSTM as bidirectional\n",
    "        self.lstm = nn.LSTM(\n",
    "            input_size=input_size,\n",
    "            hidden_size=hidden_size,\n",
    "            num_layers=num_layers,\n",
    "            batch_first=True,\n",
    "            bidirectional=True\n",
    "        )\n",
    "\n",
    "        # Since BiLSTM doubles hidden size, update classifier input\n",
    "        self.classifier = nn.Linear(hidden_size * 2, 1)\n",
    "\n",
    "    def forward(self, x):\n",
    "        _, (hidden_state, _) = self.lstm(x)  # hidden_state: (num_layers*2, batch, hidden)\n",
    "\n",
    "        # Get last layer's forward and backward hidden states\n",
    "        forward = hidden_state[-2]\n",
    "        backward = hidden_state[-1]\n",
    "\n",
    "        # Concatenate both directions\n",
    "        last_hidden = torch.cat((forward, backward), dim=1)  # (batch, hidden*2)\n",
    "\n",
    "        return self.classifier(last_hidden)\n"
   ]
  },
  {
   "cell_type": "code",
   "execution_count": 15,
   "metadata": {},
   "outputs": [],
   "source": [
    "def get_callbacks(model_name):\n",
    "    return [\n",
    "        EarlyStopping(monitor='val_loss', patience=10, verbose=True, mode='min'),\n",
    "        LearningRateMonitor(logging_interval='epoch'),\n",
    "        ModelCheckpoint(\n",
    "            monitor='val_loss',\n",
    "            mode='min',\n",
    "            save_top_k=1,\n",
    "            verbose=True,\n",
    "            filename=f'{model_name}-best-checkpoint',\n",
    "            dirpath=os.path.join(\"lightning_logs\", model_name, \"checkpoints\")\n",
    "        )\n",
    "    ]\n",
    "\n",
    "def train_model(ModelClass, model_name, datamodule, input_size):\n",
    "    print(f\"Training {model_name}...\")\n",
    "\n",
    "    model = ModelClass(input_size=input_size, hidden_size=64, num_layers=2)\n",
    "\n",
    "    trainer = pl.Trainer(\n",
    "        max_epochs=20,\n",
    "        callbacks=get_callbacks(model_name),\n",
    "        log_every_n_steps=10,\n",
    "        accelerator=\"auto\",\n",
    "        devices=\"auto\",\n",
    "        default_root_dir=os.path.join(\"lightning_logs\", model_name)\n",
    "    )\n",
    "\n",
    "    trainer.fit(model, datamodule=datamodule)\n",
    "\n",
    "def test_model(ModelClass, model_name, datamodule):\n",
    "    print(f\"Testing {model_name}...\")\n",
    "\n",
    "    ckpt_dir = os.path.join(\"lightning_logs\", model_name, \"checkpoints\")\n",
    "    ckpt_files = glob(os.path.join(ckpt_dir, \"*.ckpt\"))\n",
    "    best_ckpt_path = ckpt_files[0] if ckpt_files else None\n",
    "\n",
    "    if best_ckpt_path:\n",
    "        print(f\"Best checkpoint: {best_ckpt_path}\")\n",
    "        model = ModelClass.load_from_checkpoint(best_ckpt_path)\n",
    "        trainer = pl.Trainer(accelerator=\"auto\", devices=\"auto\")\n",
    "        trainer.test(model, datamodule=datamodule)\n",
    "    else:\n",
    "        print(f\"No checkpoint found for model '{model_name}'.\")\n",
    "\n"
   ]
  },
  {
   "cell_type": "code",
   "execution_count": 16,
   "metadata": {},
   "outputs": [],
   "source": [
    "# Setup\n",
    "feature_cols = dynamic_vars + stationary_vars\n",
    "input_size = len(feature_cols)\n",
    "datamodule = TimeSeriesDataModule(feature_cols=feature_cols, batch_size=64)"
   ]
  },
  {
   "cell_type": "code",
   "execution_count": 17,
   "metadata": {},
   "outputs": [
    {
     "name": "stderr",
     "output_type": "stream",
     "text": [
      "GPU available: True (cuda), used: True\n",
      "TPU available: False, using: 0 TPU cores\n",
      "HPU available: False, using: 0 HPUs\n"
     ]
    },
    {
     "name": "stdout",
     "output_type": "stream",
     "text": [
      "Training lstm...\n"
     ]
    },
    {
     "name": "stderr",
     "output_type": "stream",
     "text": [
      "LOCAL_RANK: 0 - CUDA_VISIBLE_DEVICES: [0]\n",
      "\n",
      "  | Name       | Type              | Params | Mode \n",
      "---------------------------------------------------------\n",
      "0 | lstm       | LSTM              | 60.9 K | train\n",
      "1 | classifier | Linear            | 65     | train\n",
      "2 | loss_fn    | BCEWithLogitsLoss | 0      | train\n",
      "---------------------------------------------------------\n",
      "61.0 K    Trainable params\n",
      "0         Non-trainable params\n",
      "61.0 K    Total params\n",
      "0.244     Total estimated model params size (MB)\n",
      "3         Modules in train mode\n",
      "0         Modules in eval mode\n",
      "SLURM auto-requeueing enabled. Setting signal handlers.\n"
     ]
    },
    {
     "data": {
      "application/vnd.jupyter.widget-view+json": {
       "model_id": "aa3d5d5d4b5f4d02a48384630c52b3d7",
       "version_major": 2,
       "version_minor": 0
      },
      "text/plain": [
       "Sanity Checking: |          | 0/? [00:00<?, ?it/s]"
      ]
     },
     "metadata": {},
     "output_type": "display_data"
    },
    {
     "data": {
      "application/vnd.jupyter.widget-view+json": {
       "model_id": "20729445d828440ca7c4f7d1743c2640",
       "version_major": 2,
       "version_minor": 0
      },
      "text/plain": [
       "Training: |          | 0/? [00:00<?, ?it/s]"
      ]
     },
     "metadata": {},
     "output_type": "display_data"
    },
    {
     "data": {
      "application/vnd.jupyter.widget-view+json": {
       "model_id": "f749350934a44c82aea712396facecb3",
       "version_major": 2,
       "version_minor": 0
      },
      "text/plain": [
       "Validation: |          | 0/? [00:00<?, ?it/s]"
      ]
     },
     "metadata": {},
     "output_type": "display_data"
    },
    {
     "name": "stderr",
     "output_type": "stream",
     "text": [
      "Metric val_loss improved. New best score: 0.391\n",
      "Epoch 0, global step 63: 'val_loss' reached 0.39079 (best 0.39079), saving model to '/home/pbaertschi/ICU-TimeSeries-Mortality-Prediction/notebooks/2_SupervisedML/Q2_RNN/lightning_logs/lstm/checkpoints/lstm-best-checkpoint.ckpt' as top 1\n"
     ]
    },
    {
     "data": {
      "application/vnd.jupyter.widget-view+json": {
       "model_id": "b45bc82a42e4429e97640fe5bee652fc",
       "version_major": 2,
       "version_minor": 0
      },
      "text/plain": [
       "Validation: |          | 0/? [00:00<?, ?it/s]"
      ]
     },
     "metadata": {},
     "output_type": "display_data"
    },
    {
     "name": "stderr",
     "output_type": "stream",
     "text": [
      "Metric val_loss improved by 0.025 >= min_delta = 0.0. New best score: 0.366\n",
      "Epoch 1, global step 126: 'val_loss' reached 0.36600 (best 0.36600), saving model to '/home/pbaertschi/ICU-TimeSeries-Mortality-Prediction/notebooks/2_SupervisedML/Q2_RNN/lightning_logs/lstm/checkpoints/lstm-best-checkpoint.ckpt' as top 1\n"
     ]
    },
    {
     "data": {
      "application/vnd.jupyter.widget-view+json": {
       "model_id": "e44003f270694eab99451fb21bde8322",
       "version_major": 2,
       "version_minor": 0
      },
      "text/plain": [
       "Validation: |          | 0/? [00:00<?, ?it/s]"
      ]
     },
     "metadata": {},
     "output_type": "display_data"
    },
    {
     "name": "stderr",
     "output_type": "stream",
     "text": [
      "Metric val_loss improved by 0.003 >= min_delta = 0.0. New best score: 0.363\n",
      "Epoch 2, global step 189: 'val_loss' reached 0.36251 (best 0.36251), saving model to '/home/pbaertschi/ICU-TimeSeries-Mortality-Prediction/notebooks/2_SupervisedML/Q2_RNN/lightning_logs/lstm/checkpoints/lstm-best-checkpoint.ckpt' as top 1\n"
     ]
    },
    {
     "data": {
      "application/vnd.jupyter.widget-view+json": {
       "model_id": "b394f9795ee9425c848c89e0f2295c1c",
       "version_major": 2,
       "version_minor": 0
      },
      "text/plain": [
       "Validation: |          | 0/? [00:00<?, ?it/s]"
      ]
     },
     "metadata": {},
     "output_type": "display_data"
    },
    {
     "name": "stderr",
     "output_type": "stream",
     "text": [
      "Metric val_loss improved by 0.005 >= min_delta = 0.0. New best score: 0.358\n",
      "Epoch 3, global step 252: 'val_loss' reached 0.35783 (best 0.35783), saving model to '/home/pbaertschi/ICU-TimeSeries-Mortality-Prediction/notebooks/2_SupervisedML/Q2_RNN/lightning_logs/lstm/checkpoints/lstm-best-checkpoint.ckpt' as top 1\n"
     ]
    },
    {
     "data": {
      "application/vnd.jupyter.widget-view+json": {
       "model_id": "70674d651dcb42aea5bd152dcf3a57ef",
       "version_major": 2,
       "version_minor": 0
      },
      "text/plain": [
       "Validation: |          | 0/? [00:00<?, ?it/s]"
      ]
     },
     "metadata": {},
     "output_type": "display_data"
    },
    {
     "name": "stderr",
     "output_type": "stream",
     "text": [
      "Metric val_loss improved by 0.001 >= min_delta = 0.0. New best score: 0.357\n",
      "Epoch 4, global step 315: 'val_loss' reached 0.35707 (best 0.35707), saving model to '/home/pbaertschi/ICU-TimeSeries-Mortality-Prediction/notebooks/2_SupervisedML/Q2_RNN/lightning_logs/lstm/checkpoints/lstm-best-checkpoint.ckpt' as top 1\n"
     ]
    },
    {
     "data": {
      "application/vnd.jupyter.widget-view+json": {
       "model_id": "d83f8d0ee6724f158aa18f71df02d001",
       "version_major": 2,
       "version_minor": 0
      },
      "text/plain": [
       "Validation: |          | 0/? [00:00<?, ?it/s]"
      ]
     },
     "metadata": {},
     "output_type": "display_data"
    },
    {
     "name": "stderr",
     "output_type": "stream",
     "text": [
      "Metric val_loss improved by 0.007 >= min_delta = 0.0. New best score: 0.350\n",
      "Epoch 5, global step 378: 'val_loss' reached 0.34982 (best 0.34982), saving model to '/home/pbaertschi/ICU-TimeSeries-Mortality-Prediction/notebooks/2_SupervisedML/Q2_RNN/lightning_logs/lstm/checkpoints/lstm-best-checkpoint.ckpt' as top 1\n"
     ]
    },
    {
     "data": {
      "application/vnd.jupyter.widget-view+json": {
       "model_id": "7212f87819ba46ad9155a95ff0cb3b72",
       "version_major": 2,
       "version_minor": 0
      },
      "text/plain": [
       "Validation: |          | 0/? [00:00<?, ?it/s]"
      ]
     },
     "metadata": {},
     "output_type": "display_data"
    },
    {
     "name": "stderr",
     "output_type": "stream",
     "text": [
      "Epoch 6, global step 441: 'val_loss' was not in top 1\n"
     ]
    },
    {
     "data": {
      "application/vnd.jupyter.widget-view+json": {
       "model_id": "2970d13be00d48799df53e396dbdd66c",
       "version_major": 2,
       "version_minor": 0
      },
      "text/plain": [
       "Validation: |          | 0/? [00:00<?, ?it/s]"
      ]
     },
     "metadata": {},
     "output_type": "display_data"
    },
    {
     "name": "stderr",
     "output_type": "stream",
     "text": [
      "Metric val_loss improved by 0.002 >= min_delta = 0.0. New best score: 0.347\n",
      "Epoch 7, global step 504: 'val_loss' reached 0.34743 (best 0.34743), saving model to '/home/pbaertschi/ICU-TimeSeries-Mortality-Prediction/notebooks/2_SupervisedML/Q2_RNN/lightning_logs/lstm/checkpoints/lstm-best-checkpoint.ckpt' as top 1\n"
     ]
    },
    {
     "data": {
      "application/vnd.jupyter.widget-view+json": {
       "model_id": "c962e0e31cf24b8e995ae130297ad099",
       "version_major": 2,
       "version_minor": 0
      },
      "text/plain": [
       "Validation: |          | 0/? [00:00<?, ?it/s]"
      ]
     },
     "metadata": {},
     "output_type": "display_data"
    },
    {
     "name": "stderr",
     "output_type": "stream",
     "text": [
      "Metric val_loss improved by 0.002 >= min_delta = 0.0. New best score: 0.345\n",
      "Epoch 8, global step 567: 'val_loss' reached 0.34518 (best 0.34518), saving model to '/home/pbaertschi/ICU-TimeSeries-Mortality-Prediction/notebooks/2_SupervisedML/Q2_RNN/lightning_logs/lstm/checkpoints/lstm-best-checkpoint.ckpt' as top 1\n"
     ]
    },
    {
     "data": {
      "application/vnd.jupyter.widget-view+json": {
       "model_id": "eb3c60fe545245cc86edcf0a4e60a796",
       "version_major": 2,
       "version_minor": 0
      },
      "text/plain": [
       "Validation: |          | 0/? [00:00<?, ?it/s]"
      ]
     },
     "metadata": {},
     "output_type": "display_data"
    },
    {
     "name": "stderr",
     "output_type": "stream",
     "text": [
      "Metric val_loss improved by 0.002 >= min_delta = 0.0. New best score: 0.343\n",
      "Epoch 9, global step 630: 'val_loss' reached 0.34320 (best 0.34320), saving model to '/home/pbaertschi/ICU-TimeSeries-Mortality-Prediction/notebooks/2_SupervisedML/Q2_RNN/lightning_logs/lstm/checkpoints/lstm-best-checkpoint.ckpt' as top 1\n"
     ]
    },
    {
     "data": {
      "application/vnd.jupyter.widget-view+json": {
       "model_id": "a0b6383cab814de9ab79b156199a4818",
       "version_major": 2,
       "version_minor": 0
      },
      "text/plain": [
       "Validation: |          | 0/? [00:00<?, ?it/s]"
      ]
     },
     "metadata": {},
     "output_type": "display_data"
    },
    {
     "name": "stderr",
     "output_type": "stream",
     "text": [
      "Epoch 10, global step 693: 'val_loss' was not in top 1\n"
     ]
    },
    {
     "data": {
      "application/vnd.jupyter.widget-view+json": {
       "model_id": "0082e639ef6945d3bf960be945314039",
       "version_major": 2,
       "version_minor": 0
      },
      "text/plain": [
       "Validation: |          | 0/? [00:00<?, ?it/s]"
      ]
     },
     "metadata": {},
     "output_type": "display_data"
    },
    {
     "name": "stderr",
     "output_type": "stream",
     "text": [
      "Metric val_loss improved by 0.005 >= min_delta = 0.0. New best score: 0.338\n",
      "Epoch 11, global step 756: 'val_loss' reached 0.33824 (best 0.33824), saving model to '/home/pbaertschi/ICU-TimeSeries-Mortality-Prediction/notebooks/2_SupervisedML/Q2_RNN/lightning_logs/lstm/checkpoints/lstm-best-checkpoint.ckpt' as top 1\n"
     ]
    },
    {
     "data": {
      "application/vnd.jupyter.widget-view+json": {
       "model_id": "5cb036571dd34faeab6cad3cbf7fd775",
       "version_major": 2,
       "version_minor": 0
      },
      "text/plain": [
       "Validation: |          | 0/? [00:00<?, ?it/s]"
      ]
     },
     "metadata": {},
     "output_type": "display_data"
    },
    {
     "name": "stderr",
     "output_type": "stream",
     "text": [
      "Epoch 12, global step 819: 'val_loss' was not in top 1\n"
     ]
    },
    {
     "data": {
      "application/vnd.jupyter.widget-view+json": {
       "model_id": "e3f08a86c8334624816a3531d6a75c3c",
       "version_major": 2,
       "version_minor": 0
      },
      "text/plain": [
       "Validation: |          | 0/? [00:00<?, ?it/s]"
      ]
     },
     "metadata": {},
     "output_type": "display_data"
    },
    {
     "name": "stderr",
     "output_type": "stream",
     "text": [
      "Epoch 13, global step 882: 'val_loss' was not in top 1\n"
     ]
    },
    {
     "data": {
      "application/vnd.jupyter.widget-view+json": {
       "model_id": "9ed475fad6ce4a26b7b5ff28465985cd",
       "version_major": 2,
       "version_minor": 0
      },
      "text/plain": [
       "Validation: |          | 0/? [00:00<?, ?it/s]"
      ]
     },
     "metadata": {},
     "output_type": "display_data"
    },
    {
     "name": "stderr",
     "output_type": "stream",
     "text": [
      "Epoch 14, global step 945: 'val_loss' was not in top 1\n"
     ]
    },
    {
     "data": {
      "application/vnd.jupyter.widget-view+json": {
       "model_id": "736ddfe20cd74308a694c7c7e7e295eb",
       "version_major": 2,
       "version_minor": 0
      },
      "text/plain": [
       "Validation: |          | 0/? [00:00<?, ?it/s]"
      ]
     },
     "metadata": {},
     "output_type": "display_data"
    },
    {
     "name": "stderr",
     "output_type": "stream",
     "text": [
      "Metric val_loss improved by 0.004 >= min_delta = 0.0. New best score: 0.334\n",
      "Epoch 15, global step 1008: 'val_loss' reached 0.33398 (best 0.33398), saving model to '/home/pbaertschi/ICU-TimeSeries-Mortality-Prediction/notebooks/2_SupervisedML/Q2_RNN/lightning_logs/lstm/checkpoints/lstm-best-checkpoint.ckpt' as top 1\n"
     ]
    },
    {
     "data": {
      "application/vnd.jupyter.widget-view+json": {
       "model_id": "c9ee236304b4429f84b081373e382bb4",
       "version_major": 2,
       "version_minor": 0
      },
      "text/plain": [
       "Validation: |          | 0/? [00:00<?, ?it/s]"
      ]
     },
     "metadata": {},
     "output_type": "display_data"
    },
    {
     "name": "stderr",
     "output_type": "stream",
     "text": [
      "Epoch 16, global step 1071: 'val_loss' was not in top 1\n"
     ]
    },
    {
     "data": {
      "application/vnd.jupyter.widget-view+json": {
       "model_id": "61906d0f889740fb84f1d3c162bc0846",
       "version_major": 2,
       "version_minor": 0
      },
      "text/plain": [
       "Validation: |          | 0/? [00:00<?, ?it/s]"
      ]
     },
     "metadata": {},
     "output_type": "display_data"
    },
    {
     "name": "stderr",
     "output_type": "stream",
     "text": [
      "Epoch 17, global step 1134: 'val_loss' was not in top 1\n"
     ]
    },
    {
     "data": {
      "application/vnd.jupyter.widget-view+json": {
       "model_id": "bf31914399854595b20bfe88fe8f3019",
       "version_major": 2,
       "version_minor": 0
      },
      "text/plain": [
       "Validation: |          | 0/? [00:00<?, ?it/s]"
      ]
     },
     "metadata": {},
     "output_type": "display_data"
    },
    {
     "name": "stderr",
     "output_type": "stream",
     "text": [
      "Metric val_loss improved by 0.007 >= min_delta = 0.0. New best score: 0.327\n",
      "Epoch 18, global step 1197: 'val_loss' reached 0.32743 (best 0.32743), saving model to '/home/pbaertschi/ICU-TimeSeries-Mortality-Prediction/notebooks/2_SupervisedML/Q2_RNN/lightning_logs/lstm/checkpoints/lstm-best-checkpoint.ckpt' as top 1\n"
     ]
    },
    {
     "data": {
      "application/vnd.jupyter.widget-view+json": {
       "model_id": "8b92e7d4703f4a3e9e63b9473321a0c6",
       "version_major": 2,
       "version_minor": 0
      },
      "text/plain": [
       "Validation: |          | 0/? [00:00<?, ?it/s]"
      ]
     },
     "metadata": {},
     "output_type": "display_data"
    },
    {
     "name": "stderr",
     "output_type": "stream",
     "text": [
      "Epoch 19, global step 1260: 'val_loss' was not in top 1\n",
      "`Trainer.fit` stopped: `max_epochs=20` reached.\n"
     ]
    }
   ],
   "source": [
    "# Train both models\n",
    "train_model(LSTMClassifier, \"lstm\", datamodule, input_size)"
   ]
  },
  {
   "cell_type": "code",
   "execution_count": 18,
   "metadata": {},
   "outputs": [
    {
     "name": "stderr",
     "output_type": "stream",
     "text": [
      "GPU available: True (cuda), used: True\n",
      "TPU available: False, using: 0 TPU cores\n",
      "HPU available: False, using: 0 HPUs\n"
     ]
    },
    {
     "name": "stdout",
     "output_type": "stream",
     "text": [
      "Training bilstm...\n"
     ]
    },
    {
     "name": "stderr",
     "output_type": "stream",
     "text": [
      "LOCAL_RANK: 0 - CUDA_VISIBLE_DEVICES: [0]\n",
      "\n",
      "  | Name       | Type              | Params | Mode \n",
      "---------------------------------------------------------\n",
      "0 | lstm       | LSTM              | 154 K  | train\n",
      "1 | classifier | Linear            | 129    | train\n",
      "2 | loss_fn    | BCEWithLogitsLoss | 0      | train\n",
      "---------------------------------------------------------\n",
      "154 K     Trainable params\n",
      "0         Non-trainable params\n",
      "154 K     Total params\n",
      "0.619     Total estimated model params size (MB)\n",
      "3         Modules in train mode\n",
      "0         Modules in eval mode\n",
      "SLURM auto-requeueing enabled. Setting signal handlers.\n"
     ]
    },
    {
     "data": {
      "application/vnd.jupyter.widget-view+json": {
       "model_id": "aca564343cf34c43951107be8397a5a9",
       "version_major": 2,
       "version_minor": 0
      },
      "text/plain": [
       "Sanity Checking: |          | 0/? [00:00<?, ?it/s]"
      ]
     },
     "metadata": {},
     "output_type": "display_data"
    },
    {
     "data": {
      "application/vnd.jupyter.widget-view+json": {
       "model_id": "d778cdb647b94df8a649c8974ca78c05",
       "version_major": 2,
       "version_minor": 0
      },
      "text/plain": [
       "Training: |          | 0/? [00:00<?, ?it/s]"
      ]
     },
     "metadata": {},
     "output_type": "display_data"
    },
    {
     "data": {
      "application/vnd.jupyter.widget-view+json": {
       "model_id": "299b56c7f1884cb08e03038c99d8d592",
       "version_major": 2,
       "version_minor": 0
      },
      "text/plain": [
       "Validation: |          | 0/? [00:00<?, ?it/s]"
      ]
     },
     "metadata": {},
     "output_type": "display_data"
    },
    {
     "name": "stderr",
     "output_type": "stream",
     "text": [
      "Metric val_loss improved. New best score: 0.383\n",
      "Epoch 0, global step 63: 'val_loss' reached 0.38303 (best 0.38303), saving model to '/home/pbaertschi/ICU-TimeSeries-Mortality-Prediction/notebooks/2_SupervisedML/Q2_RNN/lightning_logs/bilstm/checkpoints/bilstm-best-checkpoint.ckpt' as top 1\n"
     ]
    },
    {
     "data": {
      "application/vnd.jupyter.widget-view+json": {
       "model_id": "72b5a9ad80fc47bd9fd66136d94da58d",
       "version_major": 2,
       "version_minor": 0
      },
      "text/plain": [
       "Validation: |          | 0/? [00:00<?, ?it/s]"
      ]
     },
     "metadata": {},
     "output_type": "display_data"
    },
    {
     "name": "stderr",
     "output_type": "stream",
     "text": [
      "Metric val_loss improved by 0.018 >= min_delta = 0.0. New best score: 0.365\n",
      "Epoch 1, global step 126: 'val_loss' reached 0.36544 (best 0.36544), saving model to '/home/pbaertschi/ICU-TimeSeries-Mortality-Prediction/notebooks/2_SupervisedML/Q2_RNN/lightning_logs/bilstm/checkpoints/bilstm-best-checkpoint.ckpt' as top 1\n"
     ]
    },
    {
     "data": {
      "application/vnd.jupyter.widget-view+json": {
       "model_id": "c982b373e7654ab3b31b80272163abcd",
       "version_major": 2,
       "version_minor": 0
      },
      "text/plain": [
       "Validation: |          | 0/? [00:00<?, ?it/s]"
      ]
     },
     "metadata": {},
     "output_type": "display_data"
    },
    {
     "name": "stderr",
     "output_type": "stream",
     "text": [
      "Metric val_loss improved by 0.002 >= min_delta = 0.0. New best score: 0.363\n",
      "Epoch 2, global step 189: 'val_loss' reached 0.36307 (best 0.36307), saving model to '/home/pbaertschi/ICU-TimeSeries-Mortality-Prediction/notebooks/2_SupervisedML/Q2_RNN/lightning_logs/bilstm/checkpoints/bilstm-best-checkpoint.ckpt' as top 1\n"
     ]
    },
    {
     "data": {
      "application/vnd.jupyter.widget-view+json": {
       "model_id": "c236d8dcb02b499bbace321c99b466de",
       "version_major": 2,
       "version_minor": 0
      },
      "text/plain": [
       "Validation: |          | 0/? [00:00<?, ?it/s]"
      ]
     },
     "metadata": {},
     "output_type": "display_data"
    },
    {
     "name": "stderr",
     "output_type": "stream",
     "text": [
      "Metric val_loss improved by 0.004 >= min_delta = 0.0. New best score: 0.359\n",
      "Epoch 3, global step 252: 'val_loss' reached 0.35896 (best 0.35896), saving model to '/home/pbaertschi/ICU-TimeSeries-Mortality-Prediction/notebooks/2_SupervisedML/Q2_RNN/lightning_logs/bilstm/checkpoints/bilstm-best-checkpoint.ckpt' as top 1\n"
     ]
    },
    {
     "data": {
      "application/vnd.jupyter.widget-view+json": {
       "model_id": "f3ba7d47ad044d618c9287f84ae1e1d5",
       "version_major": 2,
       "version_minor": 0
      },
      "text/plain": [
       "Validation: |          | 0/? [00:00<?, ?it/s]"
      ]
     },
     "metadata": {},
     "output_type": "display_data"
    },
    {
     "name": "stderr",
     "output_type": "stream",
     "text": [
      "Metric val_loss improved by 0.003 >= min_delta = 0.0. New best score: 0.356\n",
      "Epoch 4, global step 315: 'val_loss' reached 0.35646 (best 0.35646), saving model to '/home/pbaertschi/ICU-TimeSeries-Mortality-Prediction/notebooks/2_SupervisedML/Q2_RNN/lightning_logs/bilstm/checkpoints/bilstm-best-checkpoint.ckpt' as top 1\n"
     ]
    },
    {
     "data": {
      "application/vnd.jupyter.widget-view+json": {
       "model_id": "a489146ea1d845d094c4d0b7566398bf",
       "version_major": 2,
       "version_minor": 0
      },
      "text/plain": [
       "Validation: |          | 0/? [00:00<?, ?it/s]"
      ]
     },
     "metadata": {},
     "output_type": "display_data"
    },
    {
     "name": "stderr",
     "output_type": "stream",
     "text": [
      "Metric val_loss improved by 0.003 >= min_delta = 0.0. New best score: 0.354\n",
      "Epoch 5, global step 378: 'val_loss' reached 0.35356 (best 0.35356), saving model to '/home/pbaertschi/ICU-TimeSeries-Mortality-Prediction/notebooks/2_SupervisedML/Q2_RNN/lightning_logs/bilstm/checkpoints/bilstm-best-checkpoint.ckpt' as top 1\n"
     ]
    },
    {
     "data": {
      "application/vnd.jupyter.widget-view+json": {
       "model_id": "1b78a97a189e46979e7cd9f94bb469ee",
       "version_major": 2,
       "version_minor": 0
      },
      "text/plain": [
       "Validation: |          | 0/? [00:00<?, ?it/s]"
      ]
     },
     "metadata": {},
     "output_type": "display_data"
    },
    {
     "name": "stderr",
     "output_type": "stream",
     "text": [
      "Epoch 6, global step 441: 'val_loss' was not in top 1\n"
     ]
    },
    {
     "data": {
      "application/vnd.jupyter.widget-view+json": {
       "model_id": "cdde189e88f14c059fc97e6b0dd7fa91",
       "version_major": 2,
       "version_minor": 0
      },
      "text/plain": [
       "Validation: |          | 0/? [00:00<?, ?it/s]"
      ]
     },
     "metadata": {},
     "output_type": "display_data"
    },
    {
     "name": "stderr",
     "output_type": "stream",
     "text": [
      "Epoch 7, global step 504: 'val_loss' was not in top 1\n"
     ]
    },
    {
     "data": {
      "application/vnd.jupyter.widget-view+json": {
       "model_id": "7a5078dd14624b75b9c1cd5b5992803b",
       "version_major": 2,
       "version_minor": 0
      },
      "text/plain": [
       "Validation: |          | 0/? [00:00<?, ?it/s]"
      ]
     },
     "metadata": {},
     "output_type": "display_data"
    },
    {
     "name": "stderr",
     "output_type": "stream",
     "text": [
      "Metric val_loss improved by 0.007 >= min_delta = 0.0. New best score: 0.346\n",
      "Epoch 8, global step 567: 'val_loss' reached 0.34617 (best 0.34617), saving model to '/home/pbaertschi/ICU-TimeSeries-Mortality-Prediction/notebooks/2_SupervisedML/Q2_RNN/lightning_logs/bilstm/checkpoints/bilstm-best-checkpoint.ckpt' as top 1\n"
     ]
    },
    {
     "data": {
      "application/vnd.jupyter.widget-view+json": {
       "model_id": "468b7f66da464602bf527cf025a401af",
       "version_major": 2,
       "version_minor": 0
      },
      "text/plain": [
       "Validation: |          | 0/? [00:00<?, ?it/s]"
      ]
     },
     "metadata": {},
     "output_type": "display_data"
    },
    {
     "name": "stderr",
     "output_type": "stream",
     "text": [
      "Metric val_loss improved by 0.005 >= min_delta = 0.0. New best score: 0.341\n",
      "Epoch 9, global step 630: 'val_loss' reached 0.34077 (best 0.34077), saving model to '/home/pbaertschi/ICU-TimeSeries-Mortality-Prediction/notebooks/2_SupervisedML/Q2_RNN/lightning_logs/bilstm/checkpoints/bilstm-best-checkpoint.ckpt' as top 1\n"
     ]
    },
    {
     "data": {
      "application/vnd.jupyter.widget-view+json": {
       "model_id": "dd07f0a30a264db39ef99cdc572e456d",
       "version_major": 2,
       "version_minor": 0
      },
      "text/plain": [
       "Validation: |          | 0/? [00:00<?, ?it/s]"
      ]
     },
     "metadata": {},
     "output_type": "display_data"
    },
    {
     "name": "stderr",
     "output_type": "stream",
     "text": [
      "Epoch 10, global step 693: 'val_loss' was not in top 1\n"
     ]
    },
    {
     "data": {
      "application/vnd.jupyter.widget-view+json": {
       "model_id": "6fedc3bda8984ef8a07c1caa8fed8fc8",
       "version_major": 2,
       "version_minor": 0
      },
      "text/plain": [
       "Validation: |          | 0/? [00:00<?, ?it/s]"
      ]
     },
     "metadata": {},
     "output_type": "display_data"
    },
    {
     "name": "stderr",
     "output_type": "stream",
     "text": [
      "Epoch 11, global step 756: 'val_loss' was not in top 1\n"
     ]
    },
    {
     "data": {
      "application/vnd.jupyter.widget-view+json": {
       "model_id": "889cb43acdf24251810a239122cd9ab0",
       "version_major": 2,
       "version_minor": 0
      },
      "text/plain": [
       "Validation: |          | 0/? [00:00<?, ?it/s]"
      ]
     },
     "metadata": {},
     "output_type": "display_data"
    },
    {
     "name": "stderr",
     "output_type": "stream",
     "text": [
      "Epoch 12, global step 819: 'val_loss' was not in top 1\n"
     ]
    },
    {
     "data": {
      "application/vnd.jupyter.widget-view+json": {
       "model_id": "c5d5f2e8642f41dab1ce52455bc8925a",
       "version_major": 2,
       "version_minor": 0
      },
      "text/plain": [
       "Validation: |          | 0/? [00:00<?, ?it/s]"
      ]
     },
     "metadata": {},
     "output_type": "display_data"
    },
    {
     "name": "stderr",
     "output_type": "stream",
     "text": [
      "Metric val_loss improved by 0.005 >= min_delta = 0.0. New best score: 0.336\n",
      "Epoch 13, global step 882: 'val_loss' reached 0.33603 (best 0.33603), saving model to '/home/pbaertschi/ICU-TimeSeries-Mortality-Prediction/notebooks/2_SupervisedML/Q2_RNN/lightning_logs/bilstm/checkpoints/bilstm-best-checkpoint.ckpt' as top 1\n"
     ]
    },
    {
     "data": {
      "application/vnd.jupyter.widget-view+json": {
       "model_id": "39c5cce5bca042f6b690b67d8e8d3abd",
       "version_major": 2,
       "version_minor": 0
      },
      "text/plain": [
       "Validation: |          | 0/? [00:00<?, ?it/s]"
      ]
     },
     "metadata": {},
     "output_type": "display_data"
    },
    {
     "name": "stderr",
     "output_type": "stream",
     "text": [
      "Metric val_loss improved by 0.005 >= min_delta = 0.0. New best score: 0.331\n",
      "Epoch 14, global step 945: 'val_loss' reached 0.33087 (best 0.33087), saving model to '/home/pbaertschi/ICU-TimeSeries-Mortality-Prediction/notebooks/2_SupervisedML/Q2_RNN/lightning_logs/bilstm/checkpoints/bilstm-best-checkpoint.ckpt' as top 1\n"
     ]
    },
    {
     "data": {
      "application/vnd.jupyter.widget-view+json": {
       "model_id": "9d2833c76f7b49539427679c5aa851fa",
       "version_major": 2,
       "version_minor": 0
      },
      "text/plain": [
       "Validation: |          | 0/? [00:00<?, ?it/s]"
      ]
     },
     "metadata": {},
     "output_type": "display_data"
    },
    {
     "name": "stderr",
     "output_type": "stream",
     "text": [
      "Metric val_loss improved by 0.008 >= min_delta = 0.0. New best score: 0.323\n",
      "Epoch 15, global step 1008: 'val_loss' reached 0.32336 (best 0.32336), saving model to '/home/pbaertschi/ICU-TimeSeries-Mortality-Prediction/notebooks/2_SupervisedML/Q2_RNN/lightning_logs/bilstm/checkpoints/bilstm-best-checkpoint.ckpt' as top 1\n"
     ]
    },
    {
     "data": {
      "application/vnd.jupyter.widget-view+json": {
       "model_id": "f9d05968ef6d4148a23ea51d8d79d4a4",
       "version_major": 2,
       "version_minor": 0
      },
      "text/plain": [
       "Validation: |          | 0/? [00:00<?, ?it/s]"
      ]
     },
     "metadata": {},
     "output_type": "display_data"
    },
    {
     "name": "stderr",
     "output_type": "stream",
     "text": [
      "Epoch 16, global step 1071: 'val_loss' was not in top 1\n"
     ]
    },
    {
     "data": {
      "application/vnd.jupyter.widget-view+json": {
       "model_id": "b9b7783ebe964f5d85376e7e08698481",
       "version_major": 2,
       "version_minor": 0
      },
      "text/plain": [
       "Validation: |          | 0/? [00:00<?, ?it/s]"
      ]
     },
     "metadata": {},
     "output_type": "display_data"
    },
    {
     "name": "stderr",
     "output_type": "stream",
     "text": [
      "Epoch 17, global step 1134: 'val_loss' was not in top 1\n"
     ]
    },
    {
     "data": {
      "application/vnd.jupyter.widget-view+json": {
       "model_id": "1362b1d43dd045289f2607eece51b045",
       "version_major": 2,
       "version_minor": 0
      },
      "text/plain": [
       "Validation: |          | 0/? [00:00<?, ?it/s]"
      ]
     },
     "metadata": {},
     "output_type": "display_data"
    },
    {
     "name": "stderr",
     "output_type": "stream",
     "text": [
      "Epoch 18, global step 1197: 'val_loss' was not in top 1\n"
     ]
    },
    {
     "data": {
      "application/vnd.jupyter.widget-view+json": {
       "model_id": "75f99c527ffc4d5fbfd48bd2ab9c1c08",
       "version_major": 2,
       "version_minor": 0
      },
      "text/plain": [
       "Validation: |          | 0/? [00:00<?, ?it/s]"
      ]
     },
     "metadata": {},
     "output_type": "display_data"
    },
    {
     "name": "stderr",
     "output_type": "stream",
     "text": [
      "Epoch 19, global step 1260: 'val_loss' was not in top 1\n",
      "`Trainer.fit` stopped: `max_epochs=20` reached.\n"
     ]
    }
   ],
   "source": [
    "train_model(BiLSTMClassifier, \"bilstm\", datamodule, input_size)"
   ]
  },
  {
   "cell_type": "code",
   "execution_count": 19,
   "metadata": {},
   "outputs": [
    {
     "name": "stdout",
     "output_type": "stream",
     "text": [
      "Testing lstm...\n",
      "Best checkpoint: lightning_logs/lstm/checkpoints/lstm-best-checkpoint.ckpt\n"
     ]
    },
    {
     "name": "stderr",
     "output_type": "stream",
     "text": [
      "GPU available: True (cuda), used: True\n",
      "TPU available: False, using: 0 TPU cores\n",
      "HPU available: False, using: 0 HPUs\n",
      "LOCAL_RANK: 0 - CUDA_VISIBLE_DEVICES: [0]\n",
      "SLURM auto-requeueing enabled. Setting signal handlers.\n"
     ]
    },
    {
     "data": {
      "application/vnd.jupyter.widget-view+json": {
       "model_id": "e2fe1b447038487699d1b9ccca2ddc71",
       "version_major": 2,
       "version_minor": 0
      },
      "text/plain": [
       "Testing: |          | 0/? [00:00<?, ?it/s]"
      ]
     },
     "metadata": {},
     "output_type": "display_data"
    },
    {
     "data": {
      "image/png": "[encoded data removed]",
      "text/plain": [
       "<Figure size 640x480 with 2 Axes>"
      ]
     },
     "metadata": {},
     "output_type": "display_data"
    },
    {
     "data": {
      "image/png": "[encoded data removed]",
      "text/plain": [
       "<Figure size 640x480 with 1 Axes>"
      ]
     },
     "metadata": {},
     "output_type": "display_data"
    },
    {
     "data": {
      "image/png": "[encoded data removed]",
      "text/plain": [
       "<Figure size 640x480 with 1 Axes>"
      ]
     },
     "metadata": {},
     "output_type": "display_data"
    },
    {
     "name": "stdout",
     "output_type": "stream",
     "text": [
      "\n",
      "Test Accuracy : 0.8652\n",
      "Test AuROC    : 0.8115\n",
      "Test AuPRC    : 0.4556\n"
     ]
    },
    {
     "data": {
      "text/html": [
       "<pre style=\"white-space:pre;overflow-x:auto;line-height:normal;font-family:Menlo,'DejaVu Sans Mono',consolas,'Courier New',monospace\">┏━━━━━━━━━━━━━━━━━━━━━━━━━━━┳━━━━━━━━━━━━━━━━━━━━━━━━━━━┓\n",
       "┃<span style=\"font-weight: bold\">        Test metric        </span>┃<span style=\"font-weight: bold\">       DataLoader 0        </span>┃\n",
       "┡━━━━━━━━━━━━━━━━━━━━━━━━━━━╇━━━━━━━━━━━━━━━━━━━━━━━━━━━┩\n",
       "│<span style=\"color: #008080; text-decoration-color: #008080\">         test_acc          </span>│<span style=\"color: #800080; text-decoration-color: #800080\">    0.8652499914169312     </span>│\n",
       "│<span style=\"color: #008080; text-decoration-color: #008080\">        test_auprc         </span>│<span style=\"color: #800080; text-decoration-color: #800080\">    0.45558813214302063    </span>│\n",
       "│<span style=\"color: #008080; text-decoration-color: #008080\">        test_auroc         </span>│<span style=\"color: #800080; text-decoration-color: #800080\">    0.8114697337150574     </span>│\n",
       "│<span style=\"color: #008080; text-decoration-color: #008080\">         test_loss         </span>│<span style=\"color: #800080; text-decoration-color: #800080\">    0.33437806367874146    </span>│\n",
       "└───────────────────────────┴───────────────────────────┘\n",
       "</pre>\n"
      ],
      "text/plain": [
       "┏━━━━━━━━━━━━━━━━━━━━━━━━━━━┳━━━━━━━━━━━━━━━━━━━━━━━━━━━┓\n",
       "┃\u001b[1m \u001b[0m\u001b[1m       Test metric       \u001b[0m\u001b[1m \u001b[0m┃\u001b[1m \u001b[0m\u001b[1m      DataLoader 0       \u001b[0m\u001b[1m \u001b[0m┃\n",
       "┡━━━━━━━━━━━━━━━━━━━━━━━━━━━╇━━━━━━━━━━━━━━━━━━━━━━━━━━━┩\n",
       "│\u001b[36m \u001b[0m\u001b[36m        test_acc         \u001b[0m\u001b[36m \u001b[0m│\u001b[35m \u001b[0m\u001b[35m   0.8652499914169312    \u001b[0m\u001b[35m \u001b[0m│\n",
       "│\u001b[36m \u001b[0m\u001b[36m       test_auprc        \u001b[0m\u001b[36m \u001b[0m│\u001b[35m \u001b[0m\u001b[35m   0.45558813214302063   \u001b[0m\u001b[35m \u001b[0m│\n",
       "│\u001b[36m \u001b[0m\u001b[36m       test_auroc        \u001b[0m\u001b[36m \u001b[0m│\u001b[35m \u001b[0m\u001b[35m   0.8114697337150574    \u001b[0m\u001b[35m \u001b[0m│\n",
       "│\u001b[36m \u001b[0m\u001b[36m        test_loss        \u001b[0m\u001b[36m \u001b[0m│\u001b[35m \u001b[0m\u001b[35m   0.33437806367874146   \u001b[0m\u001b[35m \u001b[0m│\n",
       "└───────────────────────────┴───────────────────────────┘\n"
      ]
     },
     "metadata": {},
     "output_type": "display_data"
    },
    {
     "name": "stderr",
     "output_type": "stream",
     "text": [
      "GPU available: True (cuda), used: True\n",
      "TPU available: False, using: 0 TPU cores\n",
      "HPU available: False, using: 0 HPUs\n"
     ]
    },
    {
     "name": "stdout",
     "output_type": "stream",
     "text": [
      "Testing bilstm...\n",
      "Best checkpoint: lightning_logs/bilstm/checkpoints/bilstm-best-checkpoint.ckpt\n"
     ]
    },
    {
     "name": "stderr",
     "output_type": "stream",
     "text": [
      "LOCAL_RANK: 0 - CUDA_VISIBLE_DEVICES: [0]\n",
      "SLURM auto-requeueing enabled. Setting signal handlers.\n"
     ]
    },
    {
     "data": {
      "application/vnd.jupyter.widget-view+json": {
       "model_id": "2d5ab9dca1314a1caefc35d377d7ec04",
       "version_major": 2,
       "version_minor": 0
      },
      "text/plain": [
       "Testing: |          | 0/? [00:00<?, ?it/s]"
      ]
     },
     "metadata": {},
     "output_type": "display_data"
    },
    {
     "data": {
      "image/png": "[encoded data removed]",
      "text/plain": [
       "<Figure size 640x480 with 2 Axes>"
      ]
     },
     "metadata": {},
     "output_type": "display_data"
    },
    {
     "data": {
      "image/png": "[encoded data removed]",
      "text/plain": [
       "<Figure size 640x480 with 1 Axes>"
      ]
     },
     "metadata": {},
     "output_type": "display_data"
    },
    {
     "data": {
      "image/png": "[encoded data removed]",
      "text/plain": [
       "<Figure size 640x480 with 1 Axes>"
      ]
     },
     "metadata": {},
     "output_type": "display_data"
    },
    {
     "name": "stdout",
     "output_type": "stream",
     "text": [
      "\n",
      "Test Accuracy : 0.8595\n",
      "Test AuROC    : 0.8086\n",
      "Test AuPRC    : 0.4256\n"
     ]
    },
    {
     "data": {
      "text/html": [
       "<pre style=\"white-space:pre;overflow-x:auto;line-height:normal;font-family:Menlo,'DejaVu Sans Mono',consolas,'Courier New',monospace\">┏━━━━━━━━━━━━━━━━━━━━━━━━━━━┳━━━━━━━━━━━━━━━━━━━━━━━━━━━┓\n",
       "┃<span style=\"font-weight: bold\">        Test metric        </span>┃<span style=\"font-weight: bold\">       DataLoader 0        </span>┃\n",
       "┡━━━━━━━━━━━━━━━━━━━━━━━━━━━╇━━━━━━━━━━━━━━━━━━━━━━━━━━━┩\n",
       "│<span style=\"color: #008080; text-decoration-color: #008080\">         test_acc          </span>│<span style=\"color: #800080; text-decoration-color: #800080\">     0.859499990940094     </span>│\n",
       "│<span style=\"color: #008080; text-decoration-color: #008080\">        test_auprc         </span>│<span style=\"color: #800080; text-decoration-color: #800080\">    0.4255572259426117     </span>│\n",
       "│<span style=\"color: #008080; text-decoration-color: #008080\">        test_auroc         </span>│<span style=\"color: #800080; text-decoration-color: #800080\">    0.8086186051368713     </span>│\n",
       "│<span style=\"color: #008080; text-decoration-color: #008080\">         test_loss         </span>│<span style=\"color: #800080; text-decoration-color: #800080\">    0.33608394861221313    </span>│\n",
       "└───────────────────────────┴───────────────────────────┘\n",
       "</pre>\n"
      ],
      "text/plain": [
       "┏━━━━━━━━━━━━━━━━━━━━━━━━━━━┳━━━━━━━━━━━━━━━━━━━━━━━━━━━┓\n",
       "┃\u001b[1m \u001b[0m\u001b[1m       Test metric       \u001b[0m\u001b[1m \u001b[0m┃\u001b[1m \u001b[0m\u001b[1m      DataLoader 0       \u001b[0m\u001b[1m \u001b[0m┃\n",
       "┡━━━━━━━━━━━━━━━━━━━━━━━━━━━╇━━━━━━━━━━━━━━━━━━━━━━━━━━━┩\n",
       "│\u001b[36m \u001b[0m\u001b[36m        test_acc         \u001b[0m\u001b[36m \u001b[0m│\u001b[35m \u001b[0m\u001b[35m    0.859499990940094    \u001b[0m\u001b[35m \u001b[0m│\n",
       "│\u001b[36m \u001b[0m\u001b[36m       test_auprc        \u001b[0m\u001b[36m \u001b[0m│\u001b[35m \u001b[0m\u001b[35m   0.4255572259426117    \u001b[0m\u001b[35m \u001b[0m│\n",
       "│\u001b[36m \u001b[0m\u001b[36m       test_auroc        \u001b[0m\u001b[36m \u001b[0m│\u001b[35m \u001b[0m\u001b[35m   0.8086186051368713    \u001b[0m\u001b[35m \u001b[0m│\n",
       "│\u001b[36m \u001b[0m\u001b[36m        test_loss        \u001b[0m\u001b[36m \u001b[0m│\u001b[35m \u001b[0m\u001b[35m   0.33608394861221313   \u001b[0m\u001b[35m \u001b[0m│\n",
       "└───────────────────────────┴───────────────────────────┘\n"
      ]
     },
     "metadata": {},
     "output_type": "display_data"
    }
   ],
   "source": [
    "# Test both models\n",
    "test_model(LSTMClassifier, \"lstm\", datamodule)\n",
    "test_model(BiLSTMClassifier, \"bilstm\", datamodule)"
   ]
  },
  {
   "cell_type": "markdown",
   "metadata": {},
   "source": [
    "## Testing"
   ]
  },
  {
   "cell_type": "code",
   "execution_count": 10,
   "metadata": {},
   "outputs": [
    {
     "name": "stdout",
     "output_type": "stream",
     "text": [
      "['lightning_logs/version_12330/checkpoints/best-checkpoint.ckpt']\n",
      "lightning_logs/version_12330/checkpoints/best-checkpoint.ckpt\n"
     ]
    },
    {
     "name": "stderr",
     "output_type": "stream",
     "text": [
      "LOCAL_RANK: 0 - CUDA_VISIBLE_DEVICES: [0]\n",
      "SLURM auto-requeueing enabled. Setting signal handlers.\n"
     ]
    },
    {
     "data": {
      "application/vnd.jupyter.widget-view+json": {
       "model_id": "3567558cccf4497c941a25e30477a2cc",
       "version_major": 2,
       "version_minor": 0
      },
      "text/plain": [
       "Testing: |          | 0/? [00:00<?, ?it/s]"
      ]
     },
     "metadata": {},
     "output_type": "display_data"
    },
    {
     "data": {
      "image/png": "[encoded data removed]",
      "text/plain": [
       "<Figure size 640x480 with 2 Axes>"
      ]
     },
     "metadata": {},
     "output_type": "display_data"
    },
    {
     "data": {
      "image/png": "[encoded data removed]",
      "text/plain": [
       "<Figure size 640x480 with 1 Axes>"
      ]
     },
     "metadata": {},
     "output_type": "display_data"
    },
    {
     "data": {
      "image/png": "[encoded data removed]",
      "text/plain": [
       "<Figure size 640x480 with 1 Axes>"
      ]
     },
     "metadata": {},
     "output_type": "display_data"
    },
    {
     "name": "stdout",
     "output_type": "stream",
     "text": [
      "\n",
      "Test Accuracy : 0.8652\n",
      "Test AuROC    : 0.8316\n",
      "Test AuPRC    : 0.4631\n"
     ]
    },
    {
     "data": {
      "text/html": [
       "<pre style=\"white-space:pre;overflow-x:auto;line-height:normal;font-family:Menlo,'DejaVu Sans Mono',consolas,'Courier New',monospace\">┏━━━━━━━━━━━━━━━━━━━━━━━━━━━┳━━━━━━━━━━━━━━━━━━━━━━━━━━━┓\n",
       "┃<span style=\"font-weight: bold\">        Test metric        </span>┃<span style=\"font-weight: bold\">       DataLoader 0        </span>┃\n",
       "┡━━━━━━━━━━━━━━━━━━━━━━━━━━━╇━━━━━━━━━━━━━━━━━━━━━━━━━━━┩\n",
       "│<span style=\"color: #008080; text-decoration-color: #008080\">         test_acc          </span>│<span style=\"color: #800080; text-decoration-color: #800080\">    0.8652499914169312     </span>│\n",
       "│<span style=\"color: #008080; text-decoration-color: #008080\">        test_auprc         </span>│<span style=\"color: #800080; text-decoration-color: #800080\">    0.4630735218524933     </span>│\n",
       "│<span style=\"color: #008080; text-decoration-color: #008080\">        test_auroc         </span>│<span style=\"color: #800080; text-decoration-color: #800080\">    0.8315866589546204     </span>│\n",
       "│<span style=\"color: #008080; text-decoration-color: #008080\">         test_loss         </span>│<span style=\"color: #800080; text-decoration-color: #800080\">    0.3274860680103302     </span>│\n",
       "└───────────────────────────┴───────────────────────────┘\n",
       "</pre>\n"
      ],
      "text/plain": [
       "┏━━━━━━━━━━━━━━━━━━━━━━━━━━━┳━━━━━━━━━━━━━━━━━━━━━━━━━━━┓\n",
       "┃\u001b[1m \u001b[0m\u001b[1m       Test metric       \u001b[0m\u001b[1m \u001b[0m┃\u001b[1m \u001b[0m\u001b[1m      DataLoader 0       \u001b[0m\u001b[1m \u001b[0m┃\n",
       "┡━━━━━━━━━━━━━━━━━━━━━━━━━━━╇━━━━━━━━━━━━━━━━━━━━━━━━━━━┩\n",
       "│\u001b[36m \u001b[0m\u001b[36m        test_acc         \u001b[0m\u001b[36m \u001b[0m│\u001b[35m \u001b[0m\u001b[35m   0.8652499914169312    \u001b[0m\u001b[35m \u001b[0m│\n",
       "│\u001b[36m \u001b[0m\u001b[36m       test_auprc        \u001b[0m\u001b[36m \u001b[0m│\u001b[35m \u001b[0m\u001b[35m   0.4630735218524933    \u001b[0m\u001b[35m \u001b[0m│\n",
       "│\u001b[36m \u001b[0m\u001b[36m       test_auroc        \u001b[0m\u001b[36m \u001b[0m│\u001b[35m \u001b[0m\u001b[35m   0.8315866589546204    \u001b[0m\u001b[35m \u001b[0m│\n",
       "│\u001b[36m \u001b[0m\u001b[36m        test_loss        \u001b[0m\u001b[36m \u001b[0m│\u001b[35m \u001b[0m\u001b[35m   0.3274860680103302    \u001b[0m\u001b[35m \u001b[0m│\n",
       "└───────────────────────────┴───────────────────────────┘\n"
      ]
     },
     "metadata": {},
     "output_type": "display_data"
    },
    {
     "data": {
      "text/plain": [
       "[{'test_loss': 0.3274860680103302,\n",
       "  'test_acc': 0.8652499914169312,\n",
       "  'test_auroc': 0.8315866589546204,\n",
       "  'test_auprc': 0.4630735218524933}]"
      ]
     },
     "execution_count": 10,
     "metadata": {},
     "output_type": "execute_result"
    }
   ],
   "source": [
    "log_root = \"lightning_logs\" # ICU-TimeSeries-Mortality-Prediction/notebooks/2_SupervisedML/Q2_RNN/lightning_logs\"\n",
    "manual_version = None # \"12302\"\n",
    "latest_version = max(os.listdir(log_root), key=lambda x: int(x.split(\"_\")[1]) if x.split(\"_\")[0] == \"version\" else 0)\n",
    "latest_ckpt_dir = os.path.join(log_root, manual_version) if manual_version else os.path.join(log_root, latest_version)\n",
    "# print(latest_ckpt_dir)\n",
    "\n",
    "# Get path to best .ckpt file\n",
    "ckpt_files = glob(os.path.join(latest_ckpt_dir, \"checkpoints\", \"*.ckpt\"))\n",
    "best_ckpt_path = ckpt_files[0] if ckpt_files else None\n",
    "print(best_ckpt_path)\n",
    "\n",
    "model = LSTMClassifier.load_from_checkpoint(best_ckpt_path)\n",
    "trainer.test(model, datamodule=datamodule)"
   ]
  },
  {
   "cell_type": "markdown",
   "metadata": {},
   "source": [
    "## Optimize decision Threshold"
   ]
  },
  {
   "cell_type": "code",
   "execution_count": 11,
   "metadata": {},
   "outputs": [
    {
     "data": {
      "application/vnd.jupyter.widget-view+json": {
       "model_id": "a280645883d24e49adc5a934218d82fe",
       "version_major": 2,
       "version_minor": 0
      },
      "text/plain": [
       "  0%|          | 0/100 [00:00<?, ?it/s]"
      ]
     },
     "metadata": {},
     "output_type": "display_data"
    },
    {
     "data": {
      "text/plain": [
       "Text(0.5, 1.0, 'Minimize FNR at Threshold')"
      ]
     },
     "execution_count": 11,
     "metadata": {},
     "output_type": "execute_result"
    },
    {
     "data": {
      "image/png": "[encoded data removed]",
      "text/plain": [
       "<Figure size 640x480 with 1 Axes>"
      ]
     },
     "metadata": {},
     "output_type": "display_data"
    }
   ],
   "source": [
    "# idea: minimize threshold\n",
    "_, _, thresholds, fnrs = model.tune_threshold_min_fnr()\n",
    "plt.plot(thresholds, fnrs)\n",
    "plt.xlabel(\"Thresholds\")\n",
    "plt.ylabel(\"FNR\")\n",
    "plt.title(\"Minimize FNR at Threshold\")\n",
    "# outcome: to simplistic approach, converges to 0"
   ]
  },
  {
   "cell_type": "code",
   "execution_count": 18,
   "metadata": {},
   "outputs": [
    {
     "name": "stderr",
     "output_type": "stream",
     "text": [
      "LOCAL_RANK: 0 - CUDA_VISIBLE_DEVICES: [0]\n",
      "SLURM auto-requeueing enabled. Setting signal handlers.\n"
     ]
    },
    {
     "data": {
      "application/vnd.jupyter.widget-view+json": {
       "model_id": "731b1ccf09b6491d9d7877e2bf576f46",
       "version_major": 2,
       "version_minor": 0
      },
      "text/plain": [
       "Testing: |          | 0/? [00:00<?, ?it/s]"
      ]
     },
     "metadata": {},
     "output_type": "display_data"
    },
    {
     "data": {
      "image/png": "[encoded data removed]",
      "text/plain": [
       "<Figure size 640x480 with 2 Axes>"
      ]
     },
     "metadata": {},
     "output_type": "display_data"
    },
    {
     "data": {
      "image/png": "[encoded data removed]",
      "text/plain": [
       "<Figure size 640x480 with 1 Axes>"
      ]
     },
     "metadata": {},
     "output_type": "display_data"
    },
    {
     "data": {
      "image/png": "[encoded data removed]",
      "text/plain": [
       "<Figure size 640x480 with 1 Axes>"
      ]
     },
     "metadata": {},
     "output_type": "display_data"
    },
    {
     "name": "stdout",
     "output_type": "stream",
     "text": [
      "\n",
      "Test Accuracy : 0.8652\n",
      "Test AuROC    : 0.8316\n",
      "Test AuPRC    : 0.4631\n"
     ]
    },
    {
     "data": {
      "text/html": [
       "<pre style=\"white-space:pre;overflow-x:auto;line-height:normal;font-family:Menlo,'DejaVu Sans Mono',consolas,'Courier New',monospace\">┏━━━━━━━━━━━━━━━━━━━━━━━━━━━┳━━━━━━━━━━━━━━━━━━━━━━━━━━━┓\n",
       "┃<span style=\"font-weight: bold\">        Test metric        </span>┃<span style=\"font-weight: bold\">       DataLoader 0        </span>┃\n",
       "┡━━━━━━━━━━━━━━━━━━━━━━━━━━━╇━━━━━━━━━━━━━━━━━━━━━━━━━━━┩\n",
       "│<span style=\"color: #008080; text-decoration-color: #008080\">         test_acc          </span>│<span style=\"color: #800080; text-decoration-color: #800080\">    0.8652499914169312     </span>│\n",
       "│<span style=\"color: #008080; text-decoration-color: #008080\">        test_auprc         </span>│<span style=\"color: #800080; text-decoration-color: #800080\">    0.4630735218524933     </span>│\n",
       "│<span style=\"color: #008080; text-decoration-color: #008080\">        test_auroc         </span>│<span style=\"color: #800080; text-decoration-color: #800080\">    0.8315866589546204     </span>│\n",
       "│<span style=\"color: #008080; text-decoration-color: #008080\">         test_loss         </span>│<span style=\"color: #800080; text-decoration-color: #800080\">    0.3274860680103302     </span>│\n",
       "└───────────────────────────┴───────────────────────────┘\n",
       "</pre>\n"
      ],
      "text/plain": [
       "┏━━━━━━━━━━━━━━━━━━━━━━━━━━━┳━━━━━━━━━━━━━━━━━━━━━━━━━━━┓\n",
       "┃\u001b[1m \u001b[0m\u001b[1m       Test metric       \u001b[0m\u001b[1m \u001b[0m┃\u001b[1m \u001b[0m\u001b[1m      DataLoader 0       \u001b[0m\u001b[1m \u001b[0m┃\n",
       "┡━━━━━━━━━━━━━━━━━━━━━━━━━━━╇━━━━━━━━━━━━━━━━━━━━━━━━━━━┩\n",
       "│\u001b[36m \u001b[0m\u001b[36m        test_acc         \u001b[0m\u001b[36m \u001b[0m│\u001b[35m \u001b[0m\u001b[35m   0.8652499914169312    \u001b[0m\u001b[35m \u001b[0m│\n",
       "│\u001b[36m \u001b[0m\u001b[36m       test_auprc        \u001b[0m\u001b[36m \u001b[0m│\u001b[35m \u001b[0m\u001b[35m   0.4630735218524933    \u001b[0m\u001b[35m \u001b[0m│\n",
       "│\u001b[36m \u001b[0m\u001b[36m       test_auroc        \u001b[0m\u001b[36m \u001b[0m│\u001b[35m \u001b[0m\u001b[35m   0.8315866589546204    \u001b[0m\u001b[35m \u001b[0m│\n",
       "│\u001b[36m \u001b[0m\u001b[36m        test_loss        \u001b[0m\u001b[36m \u001b[0m│\u001b[35m \u001b[0m\u001b[35m   0.3274860680103302    \u001b[0m\u001b[35m \u001b[0m│\n",
       "└───────────────────────────┴───────────────────────────┘\n"
      ]
     },
     "metadata": {},
     "output_type": "display_data"
    },
    {
     "data": {
      "text/plain": [
       "[{'test_loss': 0.3274860680103302,\n",
       "  'test_acc': 0.8652499914169312,\n",
       "  'test_auroc': 0.8315866589546204,\n",
       "  'test_auprc': 0.4630735218524933}]"
      ]
     },
     "execution_count": 18,
     "metadata": {},
     "output_type": "execute_result"
    }
   ],
   "source": [
    "model.prediction_threshold = 0.65\n",
    "trainer.test(model, datamodule = datamodule)"
   ]
  },
  {
   "cell_type": "code",
   "execution_count": null,
   "metadata": {},
   "outputs": [],
   "source": []
  }
 ],
 "metadata": {
  "kernelspec": {
   "display_name": "Python 3 (ipykernel)",
   "language": "python",
   "name": "python3"
  },
  "language_info": {
   "codemirror_mode": {
    "name": "ipython",
    "version": 3
   },
   "file_extension": ".py",
   "mimetype": "text/x-python",
   "name": "python",
   "nbconvert_exporter": "python",
   "pygments_lexer": "ipython3",
   "version": "3.12.3"
  },
  "widgets": {
   "application/vnd.jupyter.widget-state+json": {
    "state": {
     "005109006659494696386e226022f57f": {
      "model_module": "@jupyter-widgets/controls",
      "model_module_version": "2.0.0",
      "model_name": "HTMLModel",
      "state": {
       "layout": "IPY_MODEL_a72adb49862341be988a3b7d7f9850ba",
       "style": "IPY_MODEL_7bad10b9f68f40398f8f694d762fb6e9",
       "value": "Validation DataLoader 0: 100%"
      }
     },
     "0167b296b6b344079acf87b9b488f36a": {
      "model_module": "@jupyter-widgets/controls",
      "model_module_version": "2.0.0",
      "model_name": "FloatProgressModel",
      "state": {
       "layout": "IPY_MODEL_3067b821705246aebbfc70cc788a7472",
       "max": 63,
       "style": "IPY_MODEL_5c909c51d7a948548afe8e3e3c32bc5e",
       "value": 63
      }
     },
     "0193253e449e4666bb6b40af1d52c60a": {
      "model_module": "@jupyter-widgets/base",
      "model_module_version": "2.0.0",
      "model_name": "LayoutModel",
      "state": {}
     },
     "022ddec701404daca80d615080e6c6d6": {
      "model_module": "@jupyter-widgets/controls",
      "model_module_version": "2.0.0",
      "model_name": "HTMLModel",
      "state": {
       "layout": "IPY_MODEL_58d1bded8f65470ea735b488bc08d7c0",
       "style": "IPY_MODEL_5ba1c642353b481a9326ea9ae07906b3",
       "value": "Sanity Checking DataLoader 0: 100%"
      }
     },
     "02699fd0b91940aba44f30eb00e7d9c4": {
      "model_module": "@jupyter-widgets/controls",
      "model_module_version": "2.0.0",
      "model_name": "FloatProgressModel",
      "state": {
       "layout": "IPY_MODEL_ffbc3dae65314337945a064b728cc4a7",
       "max": 63,
       "style": "IPY_MODEL_c603cffae63c4132b400ce48cd6cce4b",
       "value": 63
      }
     },
     "028b400293574f8f87a4e0be84519f9c": {
      "model_module": "@jupyter-widgets/controls",
      "model_module_version": "2.0.0",
      "model_name": "ProgressStyleModel",
      "state": {
       "description_width": ""
      }
     },
     "038f3816f5ba4343991ef818e584cf87": {
      "model_module": "@jupyter-widgets/controls",
      "model_module_version": "2.0.0",
      "model_name": "HTMLStyleModel",
      "state": {
       "description_width": "",
       "font_size": null,
       "text_color": null
      }
     },
     "04378c5fd5ba498c81b814aa9d049766": {
      "model_module": "@jupyter-widgets/base",
      "model_module_version": "2.0.0",
      "model_name": "LayoutModel",
      "state": {
       "flex": "2"
      }
     },
     "0584333450364816a15b84fcb62be555": {
      "model_module": "@jupyter-widgets/controls",
      "model_module_version": "2.0.0",
      "model_name": "HTMLStyleModel",
      "state": {
       "description_width": "",
       "font_size": null,
       "text_color": null
      }
     },
     "05e9e3e63cc7442d8ca74f08edc51bf9": {
      "model_module": "@jupyter-widgets/base",
      "model_module_version": "2.0.0",
      "model_name": "LayoutModel",
      "state": {
       "flex": "2"
      }
     },
     "06a0b6c8deee45be8a8d8ce2bb135c77": {
      "model_module": "@jupyter-widgets/controls",
      "model_module_version": "2.0.0",
      "model_name": "HTMLModel",
      "state": {
       "layout": "IPY_MODEL_bdfcfe5977fd45c7ae4086093d7e2c11",
       "style": "IPY_MODEL_c21f06256e724c849f9e651f34185e18",
       "value": "Epoch 19: 100%"
      }
     },
     "06a71ddea46c4bbab65f98636ee99274": {
      "model_module": "@jupyter-widgets/base",
      "model_module_version": "2.0.0",
      "model_name": "LayoutModel",
      "state": {}
     },
     "075504dee87d47b28d9213029d656b7d": {
      "model_module": "@jupyter-widgets/controls",
      "model_module_version": "2.0.0",
      "model_name": "ProgressStyleModel",
      "state": {
       "description_width": ""
      }
     },
     "07afc96a4b5749cca1c56171d6aa8ead": {
      "model_module": "@jupyter-widgets/base",
      "model_module_version": "2.0.0",
      "model_name": "LayoutModel",
      "state": {
       "display": "inline-flex",
       "flex_flow": "row wrap",
       "visibility": "hidden",
       "width": "100%"
      }
     },
     "085b952227f14779b3d6abe852c182a7": {
      "model_module": "@jupyter-widgets/base",
      "model_module_version": "2.0.0",
      "model_name": "LayoutModel",
      "state": {
       "display": "inline-flex",
       "flex_flow": "row wrap",
       "visibility": "hidden",
       "width": "100%"
      }
     },
     "08a5db1bd6a34e54846795f2192815c5": {
      "model_module": "@jupyter-widgets/controls",
      "model_module_version": "2.0.0",
      "model_name": "HTMLModel",
      "state": {
       "layout": "IPY_MODEL_f89a4a0539e5481791a180e9275a8326",
       "style": "IPY_MODEL_a8925e6e071c46bf84ab5b2d0895e05c",
       "value": "Validation DataLoader 0: 100%"
      }
     },
     "08cc22f9950a4f1aa3e8ee5b712f52b5": {
      "model_module": "@jupyter-widgets/controls",
      "model_module_version": "2.0.0",
      "model_name": "HTMLModel",
      "state": {
       "layout": "IPY_MODEL_7f530d2a18fd40b8825ee922482b2a07",
       "style": "IPY_MODEL_dac4ccea9f6942d49faa0bbe9199dd65",
       "value": "Validation DataLoader 0: 100%"
      }
     },
     "09d7ad49a0f2454caae597cf83b933c6": {
      "model_module": "@jupyter-widgets/base",
      "model_module_version": "2.0.0",
      "model_name": "LayoutModel",
      "state": {
       "display": "inline-flex",
       "flex_flow": "row wrap",
       "visibility": "hidden",
       "width": "100%"
      }
     },
     "0a309eaa027948dbb9c1afe7382890b8": {
      "model_module": "@jupyter-widgets/controls",
      "model_module_version": "2.0.0",
      "model_name": "ProgressStyleModel",
      "state": {
       "description_width": ""
      }
     },
     "0a9fe3531d20457da900dab36d001548": {
      "model_module": "@jupyter-widgets/controls",
      "model_module_version": "2.0.0",
      "model_name": "ProgressStyleModel",
      "state": {
       "description_width": ""
      }
     },
     "0d3cc599140843a7ba0a8c228b1b188d": {
      "model_module": "@jupyter-widgets/controls",
      "model_module_version": "2.0.0",
      "model_name": "HTMLModel",
      "state": {
       "layout": "IPY_MODEL_5b8ef300aafc4407b774bd583f19b456",
       "style": "IPY_MODEL_038f3816f5ba4343991ef818e584cf87",
       "value": "Validation DataLoader 0: 100%"
      }
     },
     "0d3d9bf33e674ea2bb9dd60b7a835486": {
      "model_module": "@jupyter-widgets/controls",
      "model_module_version": "2.0.0",
      "model_name": "HTMLModel",
      "state": {
       "layout": "IPY_MODEL_8f7edf8348fd40ef9d330b141a4718de",
       "style": "IPY_MODEL_b43e83294202421e9ff4e32a02d657fe",
       "value": "Validation DataLoader 0: 100%"
      }
     },
     "0dbff0fbccbd416b9d6668aa14d80c2c": {
      "model_module": "@jupyter-widgets/base",
      "model_module_version": "2.0.0",
      "model_name": "LayoutModel",
      "state": {
       "display": "inline-flex",
       "flex_flow": "row wrap",
       "visibility": "hidden",
       "width": "100%"
      }
     },
     "0dc2df75dba24fb7b81df36b3508d8ba": {
      "model_module": "@jupyter-widgets/controls",
      "model_module_version": "2.0.0",
      "model_name": "HTMLStyleModel",
      "state": {
       "description_width": "",
       "font_size": null,
       "text_color": null
      }
     },
     "0f715ad46f5c47a9b68777c39ef6d936": {
      "model_module": "@jupyter-widgets/controls",
      "model_module_version": "2.0.0",
      "model_name": "HTMLModel",
      "state": {
       "layout": "IPY_MODEL_1ac4275b2cfb48b58875e4241aa66bab",
       "style": "IPY_MODEL_5a6c5dd5b802481ebcc7c4ca017e089a",
       "value": " 63/63 [00:00&lt;00:00, 263.95it/s]"
      }
     },
     "1162c12098d6426bad510c50517d028b": {
      "model_module": "@jupyter-widgets/controls",
      "model_module_version": "2.0.0",
      "model_name": "HTMLModel",
      "state": {
       "layout": "IPY_MODEL_f0c704f8b40b48dfa3290466bdbf4a50",
       "style": "IPY_MODEL_482d8059a96744c58fb10f91a7fc8acf",
       "value": " 63/63 [00:00&lt;00:00, 267.22it/s]"
      }
     },
     "119a2f5f32234f58b136c732048f0f42": {
      "model_module": "@jupyter-widgets/base",
      "model_module_version": "2.0.0",
      "model_name": "LayoutModel",
      "state": {}
     },
     "1309343f339b42098d0319251b7baff5": {
      "model_module": "@jupyter-widgets/base",
      "model_module_version": "2.0.0",
      "model_name": "LayoutModel",
      "state": {
       "display": "inline-flex",
       "flex_flow": "row wrap",
       "visibility": "hidden",
       "width": "100%"
      }
     },
     "131567ea2db7458a8362896767b91f19": {
      "model_module": "@jupyter-widgets/controls",
      "model_module_version": "2.0.0",
      "model_name": "FloatProgressModel",
      "state": {
       "layout": "IPY_MODEL_16a5243d67cc4144a3671c7105c89123",
       "max": 63,
       "style": "IPY_MODEL_075504dee87d47b28d9213029d656b7d",
       "value": 63
      }
     },
     "1458859ff8934f5abfd0aa5f8f1833cd": {
      "model_module": "@jupyter-widgets/controls",
      "model_module_version": "2.0.0",
      "model_name": "HTMLStyleModel",
      "state": {
       "description_width": "",
       "font_size": null,
       "text_color": null
      }
     },
     "14b5e6364eec477897bf1a8499818500": {
      "model_module": "@jupyter-widgets/base",
      "model_module_version": "2.0.0",
      "model_name": "LayoutModel",
      "state": {
       "display": "inline-flex",
       "flex_flow": "row wrap",
       "visibility": "hidden",
       "width": "100%"
      }
     },
     "15849eed811e4572b69e0d10d0657404": {
      "model_module": "@jupyter-widgets/controls",
      "model_module_version": "2.0.0",
      "model_name": "HTMLStyleModel",
      "state": {
       "description_width": "",
       "font_size": null,
       "text_color": null
      }
     },
     "15c4048c45c64b85b63a7d70a435d703": {
      "model_module": "@jupyter-widgets/controls",
      "model_module_version": "2.0.0",
      "model_name": "HTMLStyleModel",
      "state": {
       "description_width": "",
       "font_size": null,
       "text_color": null
      }
     },
     "15d0726ab62b4b1aa27b6b0e5468b541": {
      "model_module": "@jupyter-widgets/base",
      "model_module_version": "2.0.0",
      "model_name": "LayoutModel",
      "state": {}
     },
     "15fd510bede74d7eb877ca5481dc23eb": {
      "model_module": "@jupyter-widgets/controls",
      "model_module_version": "2.0.0",
      "model_name": "ProgressStyleModel",
      "state": {
       "description_width": ""
      }
     },
     "160019b8f8a84887896eb22c8b76609b": {
      "model_module": "@jupyter-widgets/controls",
      "model_module_version": "2.0.0",
      "model_name": "HTMLModel",
      "state": {
       "layout": "IPY_MODEL_468b0329922f4674bbaa486b9baa7667",
       "style": "IPY_MODEL_e7957bce564641f1a32e427611604fe6",
       "value": " 63/63 [00:00&lt;00:00, 258.86it/s]"
      }
     },
     "1602f2eef6964812b3ddc1eaac521e07": {
      "model_module": "@jupyter-widgets/base",
      "model_module_version": "2.0.0",
      "model_name": "LayoutModel",
      "state": {}
     },
     "16a5243d67cc4144a3671c7105c89123": {
      "model_module": "@jupyter-widgets/base",
      "model_module_version": "2.0.0",
      "model_name": "LayoutModel",
      "state": {
       "flex": "2"
      }
     },
     "16bf8ea5c47d4a6580126168deb814de": {
      "model_module": "@jupyter-widgets/controls",
      "model_module_version": "2.0.0",
      "model_name": "HTMLModel",
      "state": {
       "layout": "IPY_MODEL_119a2f5f32234f58b136c732048f0f42",
       "style": "IPY_MODEL_6ca5ff68c76a47fa82306835fd02b19c",
       "value": "Validation DataLoader 0: 100%"
      }
     },
     "175a4d3ecc174790a3126787b8889d21": {
      "model_module": "@jupyter-widgets/base",
      "model_module_version": "2.0.0",
      "model_name": "LayoutModel",
      "state": {}
     },
     "19045ee62730477b88fdcd9ecd348b11": {
      "model_module": "@jupyter-widgets/base",
      "model_module_version": "2.0.0",
      "model_name": "LayoutModel",
      "state": {
       "display": "inline-flex",
       "flex_flow": "row wrap",
       "visibility": "hidden",
       "width": "100%"
      }
     },
     "19f9b968e8b54e8ea98359afa929d344": {
      "model_module": "@jupyter-widgets/base",
      "model_module_version": "2.0.0",
      "model_name": "LayoutModel",
      "state": {
       "flex": "2"
      }
     },
     "1ac4275b2cfb48b58875e4241aa66bab": {
      "model_module": "@jupyter-widgets/base",
      "model_module_version": "2.0.0",
      "model_name": "LayoutModel",
      "state": {}
     },
     "1ad50d7c98cf481f9a0d2442e9aa88d6": {
      "model_module": "@jupyter-widgets/controls",
      "model_module_version": "2.0.0",
      "model_name": "HTMLStyleModel",
      "state": {
       "description_width": "",
       "font_size": null,
       "text_color": null
      }
     },
     "1bd38a8014624bfc91624b5a0c88c85d": {
      "model_module": "@jupyter-widgets/controls",
      "model_module_version": "2.0.0",
      "model_name": "HTMLStyleModel",
      "state": {
       "description_width": "",
       "font_size": null,
       "text_color": null
      }
     },
     "1c2eef273d78413c95d8ab3222731d5a": {
      "model_module": "@jupyter-widgets/controls",
      "model_module_version": "2.0.0",
      "model_name": "HTMLStyleModel",
      "state": {
       "description_width": "",
       "font_size": null,
       "text_color": null
      }
     },
     "1d93a368de2d45c790749fde492a9bda": {
      "model_module": "@jupyter-widgets/controls",
      "model_module_version": "2.0.0",
      "model_name": "ProgressStyleModel",
      "state": {
       "description_width": ""
      }
     },
     "1d9629ba614a46d3ab6640e8dc1fe2e8": {
      "model_module": "@jupyter-widgets/controls",
      "model_module_version": "2.0.0",
      "model_name": "HTMLModel",
      "state": {
       "layout": "IPY_MODEL_c6243f8141e74f738bfbe0ef9ddbe3a3",
       "style": "IPY_MODEL_f4cf16184cb349a49191fabb75de1ea5",
       "value": "Validation DataLoader 0: 100%"
      }
     },
     "1dfb481da6db4ebc97a473fd73bbde95": {
      "model_module": "@jupyter-widgets/controls",
      "model_module_version": "2.0.0",
      "model_name": "HTMLStyleModel",
      "state": {
       "description_width": "",
       "font_size": null,
       "text_color": null
      }
     },
     "1e76739b29f64acc80d68e8a6de11c3a": {
      "model_module": "@jupyter-widgets/controls",
      "model_module_version": "2.0.0",
      "model_name": "HTMLStyleModel",
      "state": {
       "description_width": "",
       "font_size": null,
       "text_color": null
      }
     },
     "1e88d6094be049e29353d72703a46a53": {
      "model_module": "@jupyter-widgets/controls",
      "model_module_version": "2.0.0",
      "model_name": "HTMLStyleModel",
      "state": {
       "description_width": "",
       "font_size": null,
       "text_color": null
      }
     },
     "1f029513063943ea89f8eae6c400bda3": {
      "model_module": "@jupyter-widgets/controls",
      "model_module_version": "2.0.0",
      "model_name": "FloatProgressModel",
      "state": {
       "layout": "IPY_MODEL_971866cf7ee04afc90baeb2e3b3beb94",
       "max": 63,
       "style": "IPY_MODEL_9195f527966f47569fa7c1772fc269bd",
       "value": 63
      }
     },
     "1f70f13802c540d1a46864b6373a56c3": {
      "model_module": "@jupyter-widgets/base",
      "model_module_version": "2.0.0",
      "model_name": "LayoutModel",
      "state": {}
     },
     "1fa7f0a6856b4a5b8cad46a7fd484a50": {
      "model_module": "@jupyter-widgets/base",
      "model_module_version": "2.0.0",
      "model_name": "LayoutModel",
      "state": {
       "flex": "2"
      }
     },
     "2040693359284196ae7ba5f763e3651a": {
      "model_module": "@jupyter-widgets/controls",
      "model_module_version": "2.0.0",
      "model_name": "HTMLStyleModel",
      "state": {
       "description_width": "",
       "font_size": null,
       "text_color": null
      }
     },
     "20729445d828440ca7c4f7d1743c2640": {
      "model_module": "@jupyter-widgets/controls",
      "model_module_version": "2.0.0",
      "model_name": "HBoxModel",
      "state": {
       "children": [
        "IPY_MODEL_31348a36ad1e403c981fdbaef410dad1",
        "IPY_MODEL_e23814d656ff4ecdaddf40f2b6775de4",
        "IPY_MODEL_aae72b7ad2354446ac79c00350a70846"
       ],
       "layout": "IPY_MODEL_eb9488a1ade84832a1bf2e6ebb939798"
      }
     },
     "2102c4f4c1544f94b329e82e8f32bd59": {
      "model_module": "@jupyter-widgets/controls",
      "model_module_version": "2.0.0",
      "model_name": "HTMLModel",
      "state": {
       "layout": "IPY_MODEL_3ca0ea8ae1a14f7fb83cde9335736d06",
       "style": "IPY_MODEL_7e17f0c94ece4d15aaf7590813c12b0b",
       "value": " 63/63 [00:00&lt;00:00, 259.41it/s]"
      }
     },
     "22a779f890c94f0aa3f7d080af0d3e11": {
      "model_module": "@jupyter-widgets/base",
      "model_module_version": "2.0.0",
      "model_name": "LayoutModel",
      "state": {
       "flex": "2"
      }
     },
     "237b2676f486499fbff36cbab180ac80": {
      "model_module": "@jupyter-widgets/controls",
      "model_module_version": "2.0.0",
      "model_name": "FloatProgressModel",
      "state": {
       "layout": "IPY_MODEL_22a779f890c94f0aa3f7d080af0d3e11",
       "max": 63,
       "style": "IPY_MODEL_baafe56ece564d49a98b830fee9d53e3",
       "value": 63
      }
     },
     "23d2c0236c2e464fa2a68cea57d26e2c": {
      "model_module": "@jupyter-widgets/controls",
      "model_module_version": "2.0.0",
      "model_name": "FloatProgressModel",
      "state": {
       "layout": "IPY_MODEL_57cec9f09ee144388f10b08f6ce043d2",
       "max": 63,
       "style": "IPY_MODEL_2764d9157eaf48ee8c8e422d885f6355",
       "value": 63
      }
     },
     "2466abc0f7094fd68a3dda9df72cdbcb": {
      "model_module": "@jupyter-widgets/controls",
      "model_module_version": "2.0.0",
      "model_name": "HTMLStyleModel",
      "state": {
       "description_width": "",
       "font_size": null,
       "text_color": null
      }
     },
     "25fb05ebf981466f82e62eb7247b4dc8": {
      "model_module": "@jupyter-widgets/base",
      "model_module_version": "2.0.0",
      "model_name": "LayoutModel",
      "state": {
       "flex": "2"
      }
     },
     "26598b2b6b5c4cc0807e6e7617c16987": {
      "model_module": "@jupyter-widgets/controls",
      "model_module_version": "2.0.0",
      "model_name": "HTMLStyleModel",
      "state": {
       "description_width": "",
       "font_size": null,
       "text_color": null
      }
     },
     "26f9c27fea81412c8f0230535a7180ab": {
      "model_module": "@jupyter-widgets/base",
      "model_module_version": "2.0.0",
      "model_name": "LayoutModel",
      "state": {
       "display": "inline-flex",
       "flex_flow": "row wrap",
       "visibility": "hidden",
       "width": "100%"
      }
     },
     "274f955d5e4d423f9b11562abf78f8a4": {
      "model_module": "@jupyter-widgets/controls",
      "model_module_version": "2.0.0",
      "model_name": "HTMLModel",
      "state": {
       "layout": "IPY_MODEL_2b131cc7d5c94769ae321ae3f66e4861",
       "style": "IPY_MODEL_edf5976091e04611846fe923d53a34db",
       "value": " 63/63 [00:00&lt;00:00, 199.17it/s]"
      }
     },
     "2764d9157eaf48ee8c8e422d885f6355": {
      "model_module": "@jupyter-widgets/controls",
      "model_module_version": "2.0.0",
      "model_name": "ProgressStyleModel",
      "state": {
       "description_width": ""
      }
     },
     "27c0493a7099415a929ef7be9c86afa3": {
      "model_module": "@jupyter-widgets/base",
      "model_module_version": "2.0.0",
      "model_name": "LayoutModel",
      "state": {
       "flex": "2"
      }
     },
     "28a0352dedf240dca4a474b6d83ef42a": {
      "model_module": "@jupyter-widgets/base",
      "model_module_version": "2.0.0",
      "model_name": "LayoutModel",
      "state": {
       "flex": "2"
      }
     },
     "2b131cc7d5c94769ae321ae3f66e4861": {
      "model_module": "@jupyter-widgets/base",
      "model_module_version": "2.0.0",
      "model_name": "LayoutModel",
      "state": {}
     },
     "2bf397af5c9c4cdbbfe66b172ae32da1": {
      "model_module": "@jupyter-widgets/controls",
      "model_module_version": "2.0.0",
      "model_name": "FloatProgressModel",
      "state": {
       "layout": "IPY_MODEL_5ecb4ea6041f49a3be6ceb3871a1d181",
       "max": 63,
       "style": "IPY_MODEL_c4df8354a5c546c78703d76b90ad3fef",
       "value": 63
      }
     },
     "2c5993ea6c314b8e9dfc5f2c22b7c70a": {
      "model_module": "@jupyter-widgets/controls",
      "model_module_version": "2.0.0",
      "model_name": "ProgressStyleModel",
      "state": {
       "description_width": ""
      }
     },
     "2cd50da9b5b34d5a8d919adea5b0f844": {
      "model_module": "@jupyter-widgets/base",
      "model_module_version": "2.0.0",
      "model_name": "LayoutModel",
      "state": {}
     },
     "2d3f65932d6946d18a4c0e6a778d3d1e": {
      "model_module": "@jupyter-widgets/base",
      "model_module_version": "2.0.0",
      "model_name": "LayoutModel",
      "state": {
       "display": "inline-flex",
       "flex_flow": "row wrap",
       "visibility": "hidden",
       "width": "100%"
      }
     },
     "2d5ab9dca1314a1caefc35d377d7ec04": {
      "model_module": "@jupyter-widgets/controls",
      "model_module_version": "2.0.0",
      "model_name": "HBoxModel",
      "state": {
       "children": [
        "IPY_MODEL_3be5fd0998a34f4ba1c118406b30bf97",
        "IPY_MODEL_5c41d11903834e76827ad86cab887033",
        "IPY_MODEL_3309eb946b9749678e0ff6208717f12e"
       ],
       "layout": "IPY_MODEL_4fc9729fe0684e8185f27c93092644e1"
      }
     },
     "2d9609823ef241d0a583723c60dde9d5": {
      "model_module": "@jupyter-widgets/controls",
      "model_module_version": "2.0.0",
      "model_name": "ProgressStyleModel",
      "state": {
       "description_width": ""
      }
     },
     "2db3ac9ac480403bbd5109041d222285": {
      "model_module": "@jupyter-widgets/controls",
      "model_module_version": "2.0.0",
      "model_name": "FloatProgressModel",
      "state": {
       "layout": "IPY_MODEL_8659f5d976024456be14abaf1feb0f16",
       "max": 63,
       "style": "IPY_MODEL_aa00d9d772b241f192ff9f56e82023ae",
       "value": 63
      }
     },
     "2e6cfcb4bca14d1da00bf965eaf4c69e": {
      "model_module": "@jupyter-widgets/base",
      "model_module_version": "2.0.0",
      "model_name": "LayoutModel",
      "state": {
       "display": "inline-flex",
       "flex_flow": "row wrap",
       "visibility": "hidden",
       "width": "100%"
      }
     },
     "2eccb80724cd4b7695b5914885f97a04": {
      "model_module": "@jupyter-widgets/base",
      "model_module_version": "2.0.0",
      "model_name": "LayoutModel",
      "state": {
       "display": "inline-flex",
       "flex_flow": "row wrap",
       "visibility": "hidden",
       "width": "100%"
      }
     },
     "2effb96b622f40fda3062da47a07ceac": {
      "model_module": "@jupyter-widgets/controls",
      "model_module_version": "2.0.0",
      "model_name": "HTMLModel",
      "state": {
       "layout": "IPY_MODEL_c4e79833d89e4bc98650d46a292687d8",
       "style": "IPY_MODEL_c8e14e9195be402fa83aaf8e2bdeb05d",
       "value": " 63/63 [00:00&lt;00:00, 240.60it/s]"
      }
     },
     "306133e41c8742a5ba787382efdb9bcd": {
      "model_module": "@jupyter-widgets/base",
      "model_module_version": "2.0.0",
      "model_name": "LayoutModel",
      "state": {}
     },
     "3067b821705246aebbfc70cc788a7472": {
      "model_module": "@jupyter-widgets/base",
      "model_module_version": "2.0.0",
      "model_name": "LayoutModel",
      "state": {
       "flex": "2"
      }
     },
     "30dbb804ddfc47269038e05cf131ab2b": {
      "model_module": "@jupyter-widgets/base",
      "model_module_version": "2.0.0",
      "model_name": "LayoutModel",
      "state": {}
     },
     "31348a36ad1e403c981fdbaef410dad1": {
      "model_module": "@jupyter-widgets/controls",
      "model_module_version": "2.0.0",
      "model_name": "HTMLModel",
      "state": {
       "layout": "IPY_MODEL_6f28575b45a142bdbd52e36842d62af7",
       "style": "IPY_MODEL_e232469e77a84928b97f78eecfc6bbb6",
       "value": "Epoch 19: 100%"
      }
     },
     "316e202934f440e6b328285220095fff": {
      "model_module": "@jupyter-widgets/controls",
      "model_module_version": "2.0.0",
      "model_name": "HTMLModel",
      "state": {
       "layout": "IPY_MODEL_8e5608d1acd34b408225fa5aeb781e72",
       "style": "IPY_MODEL_dbb14a8fcad9411d8143965c7cf64dc2",
       "value": " 63/63 [00:00&lt;00:00, 255.94it/s]"
      }
     },
     "320af39ba92145a7982870e768e5dbed": {
      "model_module": "@jupyter-widgets/controls",
      "model_module_version": "2.0.0",
      "model_name": "HTMLStyleModel",
      "state": {
       "description_width": "",
       "font_size": null,
       "text_color": null
      }
     },
     "32101b39cf0c49159500ae2c5678f846": {
      "model_module": "@jupyter-widgets/controls",
      "model_module_version": "2.0.0",
      "model_name": "FloatProgressModel",
      "state": {
       "layout": "IPY_MODEL_19f9b968e8b54e8ea98359afa929d344",
       "max": 63,
       "style": "IPY_MODEL_a2675121980e43fb964a8c5aa8bdf015",
       "value": 63
      }
     },
     "3233cb9d02dd4f209c56971584982071": {
      "model_module": "@jupyter-widgets/controls",
      "model_module_version": "2.0.0",
      "model_name": "HTMLStyleModel",
      "state": {
       "description_width": "",
       "font_size": null,
       "text_color": null
      }
     },
     "327c2b0316934ecb8d300fff1bc74980": {
      "model_module": "@jupyter-widgets/base",
      "model_module_version": "2.0.0",
      "model_name": "LayoutModel",
      "state": {}
     },
     "32a863a9de2548a99b1d11971721fd86": {
      "model_module": "@jupyter-widgets/controls",
      "model_module_version": "2.0.0",
      "model_name": "HTMLStyleModel",
      "state": {
       "description_width": "",
       "font_size": null,
       "text_color": null
      }
     },
     "3309eb946b9749678e0ff6208717f12e": {
      "model_module": "@jupyter-widgets/controls",
      "model_module_version": "2.0.0",
      "model_name": "HTMLModel",
      "state": {
       "layout": "IPY_MODEL_e5f03e85968640c79139fcf6f82d1728",
       "style": "IPY_MODEL_c6ab32a784d148dbaa3d7f481a7d283f",
       "value": " 63/63 [00:00&lt;00:00, 81.96it/s]"
      }
     },
     "3389b8dbb76149adb676d5f2bdbed044": {
      "model_module": "@jupyter-widgets/controls",
      "model_module_version": "2.0.0",
      "model_name": "HTMLStyleModel",
      "state": {
       "description_width": "",
       "font_size": null,
       "text_color": null
      }
     },
     "33abf6d50c6244368b7d1cac8b79d824": {
      "model_module": "@jupyter-widgets/base",
      "model_module_version": "2.0.0",
      "model_name": "LayoutModel",
      "state": {}
     },
     "344441b6e6944b188788512efc3f24c4": {
      "model_module": "@jupyter-widgets/base",
      "model_module_version": "2.0.0",
      "model_name": "LayoutModel",
      "state": {}
     },
     "34aff44e82fb43cab465ae32b8fb155e": {
      "model_module": "@jupyter-widgets/base",
      "model_module_version": "2.0.0",
      "model_name": "LayoutModel",
      "state": {}
     },
     "35380e63fb3447909872be909785d9d9": {
      "model_module": "@jupyter-widgets/base",
      "model_module_version": "2.0.0",
      "model_name": "LayoutModel",
      "state": {}
     },
     "35a09ffd30d44b41b13e90dc5ebd18b8": {
      "model_module": "@jupyter-widgets/base",
      "model_module_version": "2.0.0",
      "model_name": "LayoutModel",
      "state": {}
     },
     "3615c3e1b41d4cbd880976ce90176a60": {
      "model_module": "@jupyter-widgets/controls",
      "model_module_version": "2.0.0",
      "model_name": "HTMLModel",
      "state": {
       "layout": "IPY_MODEL_ff7655f50a2a4b8687be8a3d10aaba36",
       "style": "IPY_MODEL_3389b8dbb76149adb676d5f2bdbed044",
       "value": "Validation DataLoader 0: 100%"
      }
     },
     "36fb247deaa24f5987a7fa676bf89681": {
      "model_module": "@jupyter-widgets/controls",
      "model_module_version": "2.0.0",
      "model_name": "HTMLStyleModel",
      "state": {
       "description_width": "",
       "font_size": null,
       "text_color": null
      }
     },
     "3782137e70c945a28daffeb34477284b": {
      "model_module": "@jupyter-widgets/base",
      "model_module_version": "2.0.0",
      "model_name": "LayoutModel",
      "state": {}
     },
     "37a0dd39aa66424390e0d2399f50abbd": {
      "model_module": "@jupyter-widgets/controls",
      "model_module_version": "2.0.0",
      "model_name": "HTMLStyleModel",
      "state": {
       "description_width": "",
       "font_size": null,
       "text_color": null
      }
     },
     "37ef94ea8b6045228d93d869d98f9348": {
      "model_module": "@jupyter-widgets/controls",
      "model_module_version": "2.0.0",
      "model_name": "ProgressStyleModel",
      "state": {
       "description_width": ""
      }
     },
     "38b6063281454e209277d369afb88991": {
      "model_module": "@jupyter-widgets/base",
      "model_module_version": "2.0.0",
      "model_name": "LayoutModel",
      "state": {}
     },
     "397063cfea094738b7bf8610e24abe7e": {
      "model_module": "@jupyter-widgets/controls",
      "model_module_version": "2.0.0",
      "model_name": "ProgressStyleModel",
      "state": {
       "description_width": ""
      }
     },
     "3b878965976e4aa384ed60105a5dcf72": {
      "model_module": "@jupyter-widgets/controls",
      "model_module_version": "2.0.0",
      "model_name": "HTMLModel",
      "state": {
       "layout": "IPY_MODEL_3782137e70c945a28daffeb34477284b",
       "style": "IPY_MODEL_d71e423b15b0435b9d0e73248c74654a",
       "value": " 63/63 [00:00&lt;00:00, 264.22it/s]"
      }
     },
     "3be5fd0998a34f4ba1c118406b30bf97": {
      "model_module": "@jupyter-widgets/controls",
      "model_module_version": "2.0.0",
      "model_name": "HTMLModel",
      "state": {
       "layout": "IPY_MODEL_33abf6d50c6244368b7d1cac8b79d824",
       "style": "IPY_MODEL_320af39ba92145a7982870e768e5dbed",
       "value": "Testing DataLoader 0: 100%"
      }
     },
     "3c146b1b061447f7bf00defcf868553d": {
      "model_module": "@jupyter-widgets/controls",
      "model_module_version": "2.0.0",
      "model_name": "HTMLStyleModel",
      "state": {
       "description_width": "",
       "font_size": null,
       "text_color": null
      }
     },
     "3c659442755f487ab68e487b12fad226": {
      "model_module": "@jupyter-widgets/base",
      "model_module_version": "2.0.0",
      "model_name": "LayoutModel",
      "state": {}
     },
     "3ca0ea8ae1a14f7fb83cde9335736d06": {
      "model_module": "@jupyter-widgets/base",
      "model_module_version": "2.0.0",
      "model_name": "LayoutModel",
      "state": {}
     },
     "3cfb282480c0408ab57ac2a2d7aa116d": {
      "model_module": "@jupyter-widgets/base",
      "model_module_version": "2.0.0",
      "model_name": "LayoutModel",
      "state": {
       "flex": "2"
      }
     },
     "3d0f706b50df45c5b04653ec813ae348": {
      "model_module": "@jupyter-widgets/controls",
      "model_module_version": "2.0.0",
      "model_name": "ProgressStyleModel",
      "state": {
       "description_width": ""
      }
     },
     "3e6f46f605ed4387b6aa75a62c5dff55": {
      "model_module": "@jupyter-widgets/controls",
      "model_module_version": "2.0.0",
      "model_name": "FloatProgressModel",
      "state": {
       "layout": "IPY_MODEL_6a933f10d0fa48ad8106705196fd6bc8",
       "max": 63,
       "style": "IPY_MODEL_e4e64673e6d446a79a9ea04b05900051",
       "value": 63
      }
     },
     "425d026afaec4a3b85dc7eb3a5f87fbd": {
      "model_module": "@jupyter-widgets/base",
      "model_module_version": "2.0.0",
      "model_name": "LayoutModel",
      "state": {
       "display": "inline-flex",
       "flex_flow": "row wrap",
       "visibility": "hidden",
       "width": "100%"
      }
     },
     "437a733c0af84fb1bf1bd8b79a31cc3d": {
      "model_module": "@jupyter-widgets/base",
      "model_module_version": "2.0.0",
      "model_name": "LayoutModel",
      "state": {}
     },
     "456cc195a4ce4e09aa89e929c2582a7c": {
      "model_module": "@jupyter-widgets/base",
      "model_module_version": "2.0.0",
      "model_name": "LayoutModel",
      "state": {}
     },
     "457087d5e3d44478b32766e0d050279d": {
      "model_module": "@jupyter-widgets/controls",
      "model_module_version": "2.0.0",
      "model_name": "HTMLModel",
      "state": {
       "layout": "IPY_MODEL_aaf8b6444641469583d958bc1a16ebbf",
       "style": "IPY_MODEL_9d991853aa37427b8832ce5895547166",
       "value": "Validation DataLoader 0: 100%"
      }
     },
     "45a80e065d92461faed3b260fd36fe6d": {
      "model_module": "@jupyter-widgets/base",
      "model_module_version": "2.0.0",
      "model_name": "LayoutModel",
      "state": {
       "flex": "2"
      }
     },
     "468b0329922f4674bbaa486b9baa7667": {
      "model_module": "@jupyter-widgets/base",
      "model_module_version": "2.0.0",
      "model_name": "LayoutModel",
      "state": {}
     },
     "46a3ac6050824e29bd5d46ba86f1cb2c": {
      "model_module": "@jupyter-widgets/base",
      "model_module_version": "2.0.0",
      "model_name": "LayoutModel",
      "state": {
       "flex": "2"
      }
     },
     "46ab2f09d34d40dfa3b037b3911ca192": {
      "model_module": "@jupyter-widgets/controls",
      "model_module_version": "2.0.0",
      "model_name": "HTMLModel",
      "state": {
       "layout": "IPY_MODEL_da9a4dc971a440579c30cc9373d3d7ed",
       "style": "IPY_MODEL_1dfb481da6db4ebc97a473fd73bbde95",
       "value": "Validation DataLoader 0: 100%"
      }
     },
     "47e007172cc64dfab728eb1f0786f098": {
      "model_module": "@jupyter-widgets/base",
      "model_module_version": "2.0.0",
      "model_name": "LayoutModel",
      "state": {
       "display": "inline-flex",
       "flex_flow": "row wrap",
       "visibility": "hidden",
       "width": "100%"
      }
     },
     "482d8059a96744c58fb10f91a7fc8acf": {
      "model_module": "@jupyter-widgets/controls",
      "model_module_version": "2.0.0",
      "model_name": "HTMLStyleModel",
      "state": {
       "description_width": "",
       "font_size": null,
       "text_color": null
      }
     },
     "4838319e0af74ee493062192bcd1dbbf": {
      "model_module": "@jupyter-widgets/controls",
      "model_module_version": "2.0.0",
      "model_name": "FloatProgressModel",
      "state": {
       "layout": "IPY_MODEL_4b9fc94465244cad992278fc4c4171b2",
       "max": 63,
       "style": "IPY_MODEL_0a309eaa027948dbb9c1afe7382890b8",
       "value": 63
      }
     },
     "4946e8630bbe44849faf883fe4ad8f41": {
      "model_module": "@jupyter-widgets/controls",
      "model_module_version": "2.0.0",
      "model_name": "HTMLModel",
      "state": {
       "layout": "IPY_MODEL_4a5ea50eb2964119b121a186f8c0731b",
       "style": "IPY_MODEL_d73ece3a7916412aae544cde9115200f",
       "value": " 63/63 [00:00&lt;00:00, 263.57it/s]"
      }
     },
     "4999f20e7d134d31bee5a4a9a729222a": {
      "model_module": "@jupyter-widgets/controls",
      "model_module_version": "2.0.0",
      "model_name": "HTMLModel",
      "state": {
       "layout": "IPY_MODEL_9c346cb5b88d4ded96942b96e5a9e897",
       "style": "IPY_MODEL_baa19ddf825b418898e5209bd6015d4d",
       "value": "Validation DataLoader 0: 100%"
      }
     },
     "4a1d7a278fa64989976112e81e781159": {
      "model_module": "@jupyter-widgets/controls",
      "model_module_version": "2.0.0",
      "model_name": "HTMLModel",
      "state": {
       "layout": "IPY_MODEL_502cf30f9a014c8a89fb684e316eb254",
       "style": "IPY_MODEL_6967ff5ee9a243cfbcad5ee7bcffbe09",
       "value": "Validation DataLoader 0: 100%"
      }
     },
     "4a5673d97a804a2e9ec005e456426052": {
      "model_module": "@jupyter-widgets/controls",
      "model_module_version": "2.0.0",
      "model_name": "ProgressStyleModel",
      "state": {
       "description_width": ""
      }
     },
     "4a5ea50eb2964119b121a186f8c0731b": {
      "model_module": "@jupyter-widgets/base",
      "model_module_version": "2.0.0",
      "model_name": "LayoutModel",
      "state": {}
     },
     "4b92b69b3c2746af8c872346790e1264": {
      "model_module": "@jupyter-widgets/base",
      "model_module_version": "2.0.0",
      "model_name": "LayoutModel",
      "state": {
       "display": "inline-flex",
       "flex_flow": "row wrap",
       "visibility": "hidden",
       "width": "100%"
      }
     },
     "4b9fc94465244cad992278fc4c4171b2": {
      "model_module": "@jupyter-widgets/base",
      "model_module_version": "2.0.0",
      "model_name": "LayoutModel",
      "state": {
       "flex": "2"
      }
     },
     "4d0695c03c0247b6874c8ac91245d4dd": {
      "model_module": "@jupyter-widgets/controls",
      "model_module_version": "2.0.0",
      "model_name": "HTMLModel",
      "state": {
       "layout": "IPY_MODEL_6c3867343bb044bda242b405e5541349",
       "style": "IPY_MODEL_ffff7a1d3960412382e0867873d8e489",
       "value": "Validation DataLoader 0: 100%"
      }
     },
     "4d4fb230c6b644a8a395a0f1176bf8ba": {
      "model_module": "@jupyter-widgets/controls",
      "model_module_version": "2.0.0",
      "model_name": "FloatProgressModel",
      "state": {
       "layout": "IPY_MODEL_afc3cc1d7c4f429f9bc016db62da0134",
       "max": 63,
       "style": "IPY_MODEL_b6630e10db0546e3b78034b4ea5dfa67",
       "value": 63
      }
     },
     "4e2e079196d0455ea4a9d891ac5dd075": {
      "model_module": "@jupyter-widgets/base",
      "model_module_version": "2.0.0",
      "model_name": "LayoutModel",
      "state": {
       "display": "inline-flex",
       "flex_flow": "row wrap",
       "visibility": "hidden",
       "width": "100%"
      }
     },
     "4e746bda367e4bfe9e87ba9567ade8ae": {
      "model_module": "@jupyter-widgets/base",
      "model_module_version": "2.0.0",
      "model_name": "LayoutModel",
      "state": {}
     },
     "4ea7c7d60fce437c8c3d7fae2dbca85b": {
      "model_module": "@jupyter-widgets/controls",
      "model_module_version": "2.0.0",
      "model_name": "HTMLModel",
      "state": {
       "layout": "IPY_MODEL_bcd2e42450064c1ea6afdc2eb9636450",
       "style": "IPY_MODEL_8aef99a3ad0145d1a4157bffd94ccae2",
       "value": "Validation DataLoader 0: 100%"
      }
     },
     "4fb89353f26442cdb4c3c7b1c4c4e848": {
      "model_module": "@jupyter-widgets/controls",
      "model_module_version": "2.0.0",
      "model_name": "HTMLModel",
      "state": {
       "layout": "IPY_MODEL_e7f104898ed1430390c0bc10526697d1",
       "style": "IPY_MODEL_f5293d57c898458183527cfa568731c3",
       "value": " 63/63 [00:00&lt;00:00, 259.87it/s]"
      }
     },
     "4fc9729fe0684e8185f27c93092644e1": {
      "model_module": "@jupyter-widgets/base",
      "model_module_version": "2.0.0",
      "model_name": "LayoutModel",
      "state": {
       "display": "inline-flex",
       "flex_flow": "row wrap",
       "width": "100%"
      }
     },
     "4fdf5298c8c54eaabf1e715c925e320a": {
      "model_module": "@jupyter-widgets/controls",
      "model_module_version": "2.0.0",
      "model_name": "HTMLModel",
      "state": {
       "layout": "IPY_MODEL_98d6aabc191342158efb32750a1e565f",
       "style": "IPY_MODEL_0584333450364816a15b84fcb62be555",
       "value": "Validation DataLoader 0: 100%"
      }
     },
     "501eb74d016e46e0a357e76d6825a35b": {
      "model_module": "@jupyter-widgets/base",
      "model_module_version": "2.0.0",
      "model_name": "LayoutModel",
      "state": {}
     },
     "502cf30f9a014c8a89fb684e316eb254": {
      "model_module": "@jupyter-widgets/base",
      "model_module_version": "2.0.0",
      "model_name": "LayoutModel",
      "state": {}
     },
     "50e3fd68259143c698754d4f48f2b2b7": {
      "model_module": "@jupyter-widgets/base",
      "model_module_version": "2.0.0",
      "model_name": "LayoutModel",
      "state": {
       "display": "inline-flex",
       "flex_flow": "row wrap",
       "visibility": "hidden",
       "width": "100%"
      }
     },
     "529edf0f6274470e95c637d6ebdf771d": {
      "model_module": "@jupyter-widgets/base",
      "model_module_version": "2.0.0",
      "model_name": "LayoutModel",
      "state": {
       "display": "inline-flex",
       "flex_flow": "row wrap",
       "visibility": "hidden",
       "width": "100%"
      }
     },
     "531cdd914a2249d7a3d5d96a25acc17c": {
      "model_module": "@jupyter-widgets/controls",
      "model_module_version": "2.0.0",
      "model_name": "HTMLModel",
      "state": {
       "layout": "IPY_MODEL_7fd6066528b24c6cadb7e11e7694dd16",
       "style": "IPY_MODEL_b04152c933ec4fc98e5af14f918bf4a0",
       "value": " 63/63 [00:00&lt;00:00, 252.54it/s]"
      }
     },
     "543bce4c2b904f3b97739ba68ebce125": {
      "model_module": "@jupyter-widgets/controls",
      "model_module_version": "2.0.0",
      "model_name": "FloatProgressModel",
      "state": {
       "layout": "IPY_MODEL_d7c1cf3dbb8545d3be21cb5e03084da7",
       "max": 63,
       "style": "IPY_MODEL_028b400293574f8f87a4e0be84519f9c",
       "value": 63
      }
     },
     "54800b2887bf47699a75ec64cb35e695": {
      "model_module": "@jupyter-widgets/controls",
      "model_module_version": "2.0.0",
      "model_name": "HTMLModel",
      "state": {
       "layout": "IPY_MODEL_501eb74d016e46e0a357e76d6825a35b",
       "style": "IPY_MODEL_0dc2df75dba24fb7b81df36b3508d8ba",
       "value": "Validation DataLoader 0: 100%"
      }
     },
     "54a5eee7e85a484597f1c442ad9692f7": {
      "model_module": "@jupyter-widgets/controls",
      "model_module_version": "2.0.0",
      "model_name": "ProgressStyleModel",
      "state": {
       "description_width": ""
      }
     },
     "54cad512210144619ed1e8bff16b4028": {
      "model_module": "@jupyter-widgets/controls",
      "model_module_version": "2.0.0",
      "model_name": "HTMLStyleModel",
      "state": {
       "description_width": "",
       "font_size": null,
       "text_color": null
      }
     },
     "56a534b8391649928b2d3a0c298f878a": {
      "model_module": "@jupyter-widgets/controls",
      "model_module_version": "2.0.0",
      "model_name": "HTMLModel",
      "state": {
       "layout": "IPY_MODEL_c24cb42d05da49178750c75a323c548d",
       "style": "IPY_MODEL_1c2eef273d78413c95d8ab3222731d5a",
       "value": " 63/63 [00:00&lt;00:00, 258.68it/s]"
      }
     },
     "57afc3fae7a743e5abb5cb9316af8e90": {
      "model_module": "@jupyter-widgets/base",
      "model_module_version": "2.0.0",
      "model_name": "LayoutModel",
      "state": {
       "flex": "2"
      }
     },
     "57cec9f09ee144388f10b08f6ce043d2": {
      "model_module": "@jupyter-widgets/base",
      "model_module_version": "2.0.0",
      "model_name": "LayoutModel",
      "state": {
       "flex": "2"
      }
     },
     "58d1bded8f65470ea735b488bc08d7c0": {
      "model_module": "@jupyter-widgets/base",
      "model_module_version": "2.0.0",
      "model_name": "LayoutModel",
      "state": {}
     },
     "5921ba95a87849eba96a350f00335138": {
      "model_module": "@jupyter-widgets/controls",
      "model_module_version": "2.0.0",
      "model_name": "HTMLStyleModel",
      "state": {
       "description_width": "",
       "font_size": null,
       "text_color": null
      }
     },
     "59f52e047c694954937295d8ed738e58": {
      "model_module": "@jupyter-widgets/base",
      "model_module_version": "2.0.0",
      "model_name": "LayoutModel",
      "state": {}
     },
     "5a6c5dd5b802481ebcc7c4ca017e089a": {
      "model_module": "@jupyter-widgets/controls",
      "model_module_version": "2.0.0",
      "model_name": "HTMLStyleModel",
      "state": {
       "description_width": "",
       "font_size": null,
       "text_color": null
      }
     },
     "5ab24488b26146018e6e4b7a9208c4df": {
      "model_module": "@jupyter-widgets/controls",
      "model_module_version": "2.0.0",
      "model_name": "HTMLStyleModel",
      "state": {
       "description_width": "",
       "font_size": null,
       "text_color": null
      }
     },
     "5b8ef300aafc4407b774bd583f19b456": {
      "model_module": "@jupyter-widgets/base",
      "model_module_version": "2.0.0",
      "model_name": "LayoutModel",
      "state": {}
     },
     "5ba1c642353b481a9326ea9ae07906b3": {
      "model_module": "@jupyter-widgets/controls",
      "model_module_version": "2.0.0",
      "model_name": "HTMLStyleModel",
      "state": {
       "description_width": "",
       "font_size": null,
       "text_color": null
      }
     },
     "5bb86a97aaba40348401d2d1aa14c929": {
      "model_module": "@jupyter-widgets/base",
      "model_module_version": "2.0.0",
      "model_name": "LayoutModel",
      "state": {}
     },
     "5c41d11903834e76827ad86cab887033": {
      "model_module": "@jupyter-widgets/controls",
      "model_module_version": "2.0.0",
      "model_name": "FloatProgressModel",
      "state": {
       "bar_style": "success",
       "layout": "IPY_MODEL_8d5c9e8fe6564e729337393d50801472",
       "max": 63,
       "style": "IPY_MODEL_725f2c4e9b0d4aaeb2da164bf5db02d3",
       "value": 63
      }
     },
     "5c909c51d7a948548afe8e3e3c32bc5e": {
      "model_module": "@jupyter-widgets/controls",
      "model_module_version": "2.0.0",
      "model_name": "ProgressStyleModel",
      "state": {
       "description_width": ""
      }
     },
     "5e5e30654a0f4cd3965ee944cb706295": {
      "model_module": "@jupyter-widgets/controls",
      "model_module_version": "2.0.0",
      "model_name": "ProgressStyleModel",
      "state": {
       "description_width": ""
      }
     },
     "5ecb4ea6041f49a3be6ceb3871a1d181": {
      "model_module": "@jupyter-widgets/base",
      "model_module_version": "2.0.0",
      "model_name": "LayoutModel",
      "state": {
       "flex": "2"
      }
     },
     "5f4f8e7fd0554bdca6e1c6e8c885cd67": {
      "model_module": "@jupyter-widgets/controls",
      "model_module_version": "2.0.0",
      "model_name": "ProgressStyleModel",
      "state": {
       "description_width": ""
      }
     },
     "60f7dd0a5c894329ab5b361bb34ce1c6": {
      "model_module": "@jupyter-widgets/controls",
      "model_module_version": "2.0.0",
      "model_name": "HTMLModel",
      "state": {
       "layout": "IPY_MODEL_30dbb804ddfc47269038e05cf131ab2b",
       "style": "IPY_MODEL_70f06c1bf3454968bd8892b30ff4e8c2",
       "value": " 63/63 [00:00&lt;00:00, 254.86it/s]"
      }
     },
     "613264bd82e0456b98e2181c1cbb5bd3": {
      "model_module": "@jupyter-widgets/controls",
      "model_module_version": "2.0.0",
      "model_name": "HTMLModel",
      "state": {
       "layout": "IPY_MODEL_6d697da690864cc4975eba3b3bd4660b",
       "style": "IPY_MODEL_6749f78c642748d8be94862801f09c4d",
       "value": "Validation DataLoader 0: 100%"
      }
     },
     "6137045c4c8140528fa349e034925be5": {
      "model_module": "@jupyter-widgets/base",
      "model_module_version": "2.0.0",
      "model_name": "LayoutModel",
      "state": {
       "display": "inline-flex",
       "flex_flow": "row wrap",
       "visibility": "hidden",
       "width": "100%"
      }
     },
     "615c0c47b93c4f46981a1fc68d270e24": {
      "model_module": "@jupyter-widgets/controls",
      "model_module_version": "2.0.0",
      "model_name": "HTMLStyleModel",
      "state": {
       "description_width": "",
       "font_size": null,
       "text_color": null
      }
     },
     "628122a255bc4b45b2203f725a6f9518": {
      "model_module": "@jupyter-widgets/base",
      "model_module_version": "2.0.0",
      "model_name": "LayoutModel",
      "state": {}
     },
     "62bb98a5a16a4dcc8d7264fa415b4e5b": {
      "model_module": "@jupyter-widgets/controls",
      "model_module_version": "2.0.0",
      "model_name": "HTMLModel",
      "state": {
       "layout": "IPY_MODEL_f1bed2a4965a42e1a93210c15746b6d7",
       "style": "IPY_MODEL_bd9d3d16f508443b9d10b0e82cb2d975",
       "value": " 63/63 [00:00&lt;00:00, 248.66it/s]"
      }
     },
     "62ec7baa78564781b74a78d4b513227c": {
      "model_module": "@jupyter-widgets/base",
      "model_module_version": "2.0.0",
      "model_name": "LayoutModel",
      "state": {
       "flex": "2"
      }
     },
     "63a372a6672a4e008e803ce3bf2840dc": {
      "model_module": "@jupyter-widgets/base",
      "model_module_version": "2.0.0",
      "model_name": "LayoutModel",
      "state": {
       "flex": "2"
      }
     },
     "6424e61fcbed4d33a7373dee82b8dc66": {
      "model_module": "@jupyter-widgets/controls",
      "model_module_version": "2.0.0",
      "model_name": "HTMLModel",
      "state": {
       "layout": "IPY_MODEL_f669da67d40c484590db42ca3ad2336f",
       "style": "IPY_MODEL_9eafe1b9989a4e158e4270cf7d89e25b",
       "value": " 63/63 [00:00&lt;00:00, 264.82it/s]"
      }
     },
     "662e94b682bd4d1297b136182f5c7743": {
      "model_module": "@jupyter-widgets/base",
      "model_module_version": "2.0.0",
      "model_name": "LayoutModel",
      "state": {
       "display": "inline-flex",
       "flex_flow": "row wrap",
       "visibility": "hidden",
       "width": "100%"
      }
     },
     "663b812e59184d1ea25147487a5d7cb8": {
      "model_module": "@jupyter-widgets/base",
      "model_module_version": "2.0.0",
      "model_name": "LayoutModel",
      "state": {
       "flex": "2"
      }
     },
     "6730730940cc4d19b35aea4408547c07": {
      "model_module": "@jupyter-widgets/controls",
      "model_module_version": "2.0.0",
      "model_name": "FloatProgressModel",
      "state": {
       "layout": "IPY_MODEL_b3e72792e4834672805ffcd6dc26eb71",
       "max": 63,
       "style": "IPY_MODEL_cb3eca10fad14c10a2f41642885507ca",
       "value": 63
      }
     },
     "6749f78c642748d8be94862801f09c4d": {
      "model_module": "@jupyter-widgets/controls",
      "model_module_version": "2.0.0",
      "model_name": "HTMLStyleModel",
      "state": {
       "description_width": "",
       "font_size": null,
       "text_color": null
      }
     },
     "695b6e130695420db5061b84aeae99eb": {
      "model_module": "@jupyter-widgets/controls",
      "model_module_version": "2.0.0",
      "model_name": "HTMLModel",
      "state": {
       "layout": "IPY_MODEL_9ce0a8e0d897425ca4ff576008a00a44",
       "style": "IPY_MODEL_1458859ff8934f5abfd0aa5f8f1833cd",
       "value": "Validation DataLoader 0: 100%"
      }
     },
     "6967ff5ee9a243cfbcad5ee7bcffbe09": {
      "model_module": "@jupyter-widgets/controls",
      "model_module_version": "2.0.0",
      "model_name": "HTMLStyleModel",
      "state": {
       "description_width": "",
       "font_size": null,
       "text_color": null
      }
     },
     "6a933f10d0fa48ad8106705196fd6bc8": {
      "model_module": "@jupyter-widgets/base",
      "model_module_version": "2.0.0",
      "model_name": "LayoutModel",
      "state": {
       "flex": "2"
      }
     },
     "6b5f2397d18045658d16b449e9af4195": {
      "model_module": "@jupyter-widgets/base",
      "model_module_version": "2.0.0",
      "model_name": "LayoutModel",
      "state": {
       "display": "inline-flex",
       "flex_flow": "row wrap",
       "visibility": "hidden",
       "width": "100%"
      }
     },
     "6c3867343bb044bda242b405e5541349": {
      "model_module": "@jupyter-widgets/base",
      "model_module_version": "2.0.0",
      "model_name": "LayoutModel",
      "state": {}
     },
     "6c5b0ef3100a4c39b299a7f3665649ed": {
      "model_module": "@jupyter-widgets/base",
      "model_module_version": "2.0.0",
      "model_name": "LayoutModel",
      "state": {}
     },
     "6ca5ff68c76a47fa82306835fd02b19c": {
      "model_module": "@jupyter-widgets/controls",
      "model_module_version": "2.0.0",
      "model_name": "HTMLStyleModel",
      "state": {
       "description_width": "",
       "font_size": null,
       "text_color": null
      }
     },
     "6d697da690864cc4975eba3b3bd4660b": {
      "model_module": "@jupyter-widgets/base",
      "model_module_version": "2.0.0",
      "model_name": "LayoutModel",
      "state": {}
     },
     "6ded138630924bb5994e9468de29dd1c": {
      "model_module": "@jupyter-widgets/controls",
      "model_module_version": "2.0.0",
      "model_name": "HTMLModel",
      "state": {
       "layout": "IPY_MODEL_83690d1092d34a7893e85dfcab4d73c5",
       "style": "IPY_MODEL_70e4a86a56744d76be934dd12bed0dd2",
       "value": " 63/63 [00:00&lt;00:00, 251.88it/s]"
      }
     },
     "6f28575b45a142bdbd52e36842d62af7": {
      "model_module": "@jupyter-widgets/base",
      "model_module_version": "2.0.0",
      "model_name": "LayoutModel",
      "state": {}
     },
     "6f5c51112d8644ac89143290e2e820e1": {
      "model_module": "@jupyter-widgets/base",
      "model_module_version": "2.0.0",
      "model_name": "LayoutModel",
      "state": {
       "display": "inline-flex",
       "flex_flow": "row wrap",
       "visibility": "hidden",
       "width": "100%"
      }
     },
     "6f8b9879229946348327b72747137352": {
      "model_module": "@jupyter-widgets/controls",
      "model_module_version": "2.0.0",
      "model_name": "HTMLModel",
      "state": {
       "layout": "IPY_MODEL_df9dc84efbb04a9db9854edf7ade20f0",
       "style": "IPY_MODEL_db941b531f6e4d6b87415b3ad5064c74",
       "value": " 63/63 [00:00&lt;00:00, 275.69it/s]"
      }
     },
     "6f8d36a321904fa2b7cd19a77c227d13": {
      "model_module": "@jupyter-widgets/controls",
      "model_module_version": "2.0.0",
      "model_name": "FloatProgressModel",
      "state": {
       "layout": "IPY_MODEL_04378c5fd5ba498c81b814aa9d049766",
       "max": 63,
       "style": "IPY_MODEL_9d3d83c9c34a4708b4ab954aec8ad0e6",
       "value": 63
      }
     },
     "6fa10b970a764b14b5ba5130407d8ada": {
      "model_module": "@jupyter-widgets/base",
      "model_module_version": "2.0.0",
      "model_name": "LayoutModel",
      "state": {
       "display": "inline-flex",
       "flex_flow": "row wrap",
       "visibility": "hidden",
       "width": "100%"
      }
     },
     "70e4a86a56744d76be934dd12bed0dd2": {
      "model_module": "@jupyter-widgets/controls",
      "model_module_version": "2.0.0",
      "model_name": "HTMLStyleModel",
      "state": {
       "description_width": "",
       "font_size": null,
       "text_color": null
      }
     },
     "70f06c1bf3454968bd8892b30ff4e8c2": {
      "model_module": "@jupyter-widgets/controls",
      "model_module_version": "2.0.0",
      "model_name": "HTMLStyleModel",
      "state": {
       "description_width": "",
       "font_size": null,
       "text_color": null
      }
     },
     "7133b2b19e104f77a8d13207fa927d04": {
      "model_module": "@jupyter-widgets/controls",
      "model_module_version": "2.0.0",
      "model_name": "FloatProgressModel",
      "state": {
       "layout": "IPY_MODEL_cf0c88f698fd413fb473b63f7519ec04",
       "max": 63,
       "style": "IPY_MODEL_2d9609823ef241d0a583723c60dde9d5",
       "value": 63
      }
     },
     "7141c9eec5514c618097c255e6b74470": {
      "model_module": "@jupyter-widgets/controls",
      "model_module_version": "2.0.0",
      "model_name": "HTMLStyleModel",
      "state": {
       "description_width": "",
       "font_size": null,
       "text_color": null
      }
     },
     "725f2c4e9b0d4aaeb2da164bf5db02d3": {
      "model_module": "@jupyter-widgets/controls",
      "model_module_version": "2.0.0",
      "model_name": "ProgressStyleModel",
      "state": {
       "description_width": ""
      }
     },
     "7270a74d651e49baba3715720fc3d3ba": {
      "model_module": "@jupyter-widgets/controls",
      "model_module_version": "2.0.0",
      "model_name": "FloatProgressModel",
      "state": {
       "layout": "IPY_MODEL_f6a58a4849564ac4b909940b3caafd7e",
       "max": 63,
       "style": "IPY_MODEL_8b61ee56337c48fab4b46e51fbfb0272",
       "value": 63
      }
     },
     "72b6502de4de4420a9d13ec3340e53df": {
      "model_module": "@jupyter-widgets/controls",
      "model_module_version": "2.0.0",
      "model_name": "ProgressStyleModel",
      "state": {
       "description_width": ""
      }
     },
     "72bc10fef4da4d96a0615c6c36ee77b0": {
      "model_module": "@jupyter-widgets/controls",
      "model_module_version": "2.0.0",
      "model_name": "FloatProgressModel",
      "state": {
       "bar_style": "success",
       "layout": "IPY_MODEL_b2fdc638a21e45d997960dc051b60bbc",
       "max": 63,
       "style": "IPY_MODEL_e2c0d38b4ca845819743764eae108549",
       "value": 63
      }
     },
     "73c7a86469ee4c4b95c922431674034d": {
      "model_module": "@jupyter-widgets/base",
      "model_module_version": "2.0.0",
      "model_name": "LayoutModel",
      "state": {}
     },
     "75e113b363a34316b75f4acfa865e1f4": {
      "model_module": "@jupyter-widgets/controls",
      "model_module_version": "2.0.0",
      "model_name": "HTMLModel",
      "state": {
       "layout": "IPY_MODEL_437a733c0af84fb1bf1bd8b79a31cc3d",
       "style": "IPY_MODEL_b314b598addf4acd9a4f5723f3b242ee",
       "value": "Validation DataLoader 0: 100%"
      }
     },
     "76c8ff0bf04e4dda882c8ca3289c57cd": {
      "model_module": "@jupyter-widgets/controls",
      "model_module_version": "2.0.0",
      "model_name": "HTMLStyleModel",
      "state": {
       "description_width": "",
       "font_size": null,
       "text_color": null
      }
     },
     "7815d39ae601464e93a6f2a760b11b70": {
      "model_module": "@jupyter-widgets/base",
      "model_module_version": "2.0.0",
      "model_name": "LayoutModel",
      "state": {}
     },
     "78ba532347a145059eddc0b9225e22a8": {
      "model_module": "@jupyter-widgets/base",
      "model_module_version": "2.0.0",
      "model_name": "LayoutModel",
      "state": {}
     },
     "7946195e9b8e455db4d5abf4ff198245": {
      "model_module": "@jupyter-widgets/base",
      "model_module_version": "2.0.0",
      "model_name": "LayoutModel",
      "state": {
       "flex": "2"
      }
     },
     "79f5fe5d80ea478ab0556a86f35975b2": {
      "model_module": "@jupyter-widgets/controls",
      "model_module_version": "2.0.0",
      "model_name": "FloatProgressModel",
      "state": {
       "layout": "IPY_MODEL_fffa829da1874d468339c99291e9b914",
       "max": 63,
       "style": "IPY_MODEL_3d0f706b50df45c5b04653ec813ae348",
       "value": 63
      }
     },
     "7a30c1693ee84cd0b8df055adc823947": {
      "model_module": "@jupyter-widgets/controls",
      "model_module_version": "2.0.0",
      "model_name": "HTMLModel",
      "state": {
       "layout": "IPY_MODEL_d0c131b9c07448c1a80418c0fe23ad49",
       "style": "IPY_MODEL_615c0c47b93c4f46981a1fc68d270e24",
       "value": "Validation DataLoader 0: 100%"
      }
     },
     "7aaa5d01faa4471fa643c5b0011c8f90": {
      "model_module": "@jupyter-widgets/controls",
      "model_module_version": "2.0.0",
      "model_name": "HTMLStyleModel",
      "state": {
       "description_width": "",
       "font_size": null,
       "text_color": null
      }
     },
     "7b273b7beba54f62b76afa43929cac30": {
      "model_module": "@jupyter-widgets/controls",
      "model_module_version": "2.0.0",
      "model_name": "FloatProgressModel",
      "state": {
       "layout": "IPY_MODEL_28a0352dedf240dca4a474b6d83ef42a",
       "max": 63,
       "style": "IPY_MODEL_f4180201c2ff46819d4dfda0d6612f90",
       "value": 63
      }
     },
     "7bad10b9f68f40398f8f694d762fb6e9": {
      "model_module": "@jupyter-widgets/controls",
      "model_module_version": "2.0.0",
      "model_name": "HTMLStyleModel",
      "state": {
       "description_width": "",
       "font_size": null,
       "text_color": null
      }
     },
     "7c57e81de42340b98fbc3a69beb06a39": {
      "model_module": "@jupyter-widgets/controls",
      "model_module_version": "2.0.0",
      "model_name": "HTMLModel",
      "state": {
       "layout": "IPY_MODEL_34aff44e82fb43cab465ae32b8fb155e",
       "style": "IPY_MODEL_9f3bf95c7e714f54adc73491d020a1f0",
       "value": " 63/63 [00:00&lt;00:00, 253.30it/s]"
      }
     },
     "7d44f9f746af43898ac4aa99db2f6f51": {
      "model_module": "@jupyter-widgets/base",
      "model_module_version": "2.0.0",
      "model_name": "LayoutModel",
      "state": {}
     },
     "7dcd0270081840a0a743680548488248": {
      "model_module": "@jupyter-widgets/controls",
      "model_module_version": "2.0.0",
      "model_name": "FloatProgressModel",
      "state": {
       "layout": "IPY_MODEL_63a372a6672a4e008e803ce3bf2840dc",
       "max": 63,
       "style": "IPY_MODEL_f561c627b1ae46819bea873b42e7e183",
       "value": 63
      }
     },
     "7ddc6e53e18747a393b3691d665f678c": {
      "model_module": "@jupyter-widgets/controls",
      "model_module_version": "2.0.0",
      "model_name": "FloatProgressModel",
      "state": {
       "layout": "IPY_MODEL_7946195e9b8e455db4d5abf4ff198245",
       "max": 63,
       "style": "IPY_MODEL_d4f6e0fcfffd4fad8d13d92ed6df224c",
       "value": 63
      }
     },
     "7de5d6cf8bcb4074a8fefab5a4751a5f": {
      "model_module": "@jupyter-widgets/controls",
      "model_module_version": "2.0.0",
      "model_name": "ProgressStyleModel",
      "state": {
       "description_width": ""
      }
     },
     "7e17f0c94ece4d15aaf7590813c12b0b": {
      "model_module": "@jupyter-widgets/controls",
      "model_module_version": "2.0.0",
      "model_name": "HTMLStyleModel",
      "state": {
       "description_width": "",
       "font_size": null,
       "text_color": null
      }
     },
     "7e1f523d08494b50bfa5c5b256a6b8d3": {
      "model_module": "@jupyter-widgets/base",
      "model_module_version": "2.0.0",
      "model_name": "LayoutModel",
      "state": {}
     },
     "7f530d2a18fd40b8825ee922482b2a07": {
      "model_module": "@jupyter-widgets/base",
      "model_module_version": "2.0.0",
      "model_name": "LayoutModel",
      "state": {}
     },
     "7fd6066528b24c6cadb7e11e7694dd16": {
      "model_module": "@jupyter-widgets/base",
      "model_module_version": "2.0.0",
      "model_name": "LayoutModel",
      "state": {}
     },
     "80c74a8edc7242819ced811475b7c8c1": {
      "model_module": "@jupyter-widgets/base",
      "model_module_version": "2.0.0",
      "model_name": "LayoutModel",
      "state": {}
     },
     "81e14c876cf24d4093c918492f640a48": {
      "model_module": "@jupyter-widgets/controls",
      "model_module_version": "2.0.0",
      "model_name": "HTMLStyleModel",
      "state": {
       "description_width": "",
       "font_size": null,
       "text_color": null
      }
     },
     "82c701f5e905424f9cbedcba98f249fe": {
      "model_module": "@jupyter-widgets/base",
      "model_module_version": "2.0.0",
      "model_name": "LayoutModel",
      "state": {
       "display": "inline-flex",
       "flex_flow": "row wrap",
       "visibility": "hidden",
       "width": "100%"
      }
     },
     "82ece48d6ea049948055699ae46a03c8": {
      "model_module": "@jupyter-widgets/controls",
      "model_module_version": "2.0.0",
      "model_name": "HTMLStyleModel",
      "state": {
       "description_width": "",
       "font_size": null,
       "text_color": null
      }
     },
     "834bfc9b3cd84557a70dd3f29ff4ae5a": {
      "model_module": "@jupyter-widgets/controls",
      "model_module_version": "2.0.0",
      "model_name": "HTMLModel",
      "state": {
       "layout": "IPY_MODEL_9667ba51ac2945159c0c010c5832ecd4",
       "style": "IPY_MODEL_960f1dcab059479084e093ed30aafda4",
       "value": " 63/63 [00:00&lt;00:00, 271.58it/s]"
      }
     },
     "83690d1092d34a7893e85dfcab4d73c5": {
      "model_module": "@jupyter-widgets/base",
      "model_module_version": "2.0.0",
      "model_name": "LayoutModel",
      "state": {}
     },
     "83de7cfce80b49e8a8548990ff50bea1": {
      "model_module": "@jupyter-widgets/base",
      "model_module_version": "2.0.0",
      "model_name": "LayoutModel",
      "state": {
       "display": "inline-flex",
       "flex_flow": "row wrap",
       "visibility": "hidden",
       "width": "100%"
      }
     },
     "840d31ee993447baa95e98121f5193d0": {
      "model_module": "@jupyter-widgets/base",
      "model_module_version": "2.0.0",
      "model_name": "LayoutModel",
      "state": {}
     },
     "84529b9bb00b4a91a0216f5dce52bebf": {
      "model_module": "@jupyter-widgets/controls",
      "model_module_version": "2.0.0",
      "model_name": "HTMLStyleModel",
      "state": {
       "description_width": "",
       "font_size": null,
       "text_color": null
      }
     },
     "8518d6c71bac4128b4878f9a88fa6043": {
      "model_module": "@jupyter-widgets/controls",
      "model_module_version": "2.0.0",
      "model_name": "ProgressStyleModel",
      "state": {
       "description_width": ""
      }
     },
     "851c5247f81d4ca88cc1e1fedf44792e": {
      "model_module": "@jupyter-widgets/base",
      "model_module_version": "2.0.0",
      "model_name": "LayoutModel",
      "state": {
       "display": "inline-flex",
       "flex_flow": "row wrap",
       "visibility": "hidden",
       "width": "100%"
      }
     },
     "8659f5d976024456be14abaf1feb0f16": {
      "model_module": "@jupyter-widgets/base",
      "model_module_version": "2.0.0",
      "model_name": "LayoutModel",
      "state": {
       "flex": "2"
      }
     },
     "88ad769e0f56424ebcbb7832364a5578": {
      "model_module": "@jupyter-widgets/controls",
      "model_module_version": "2.0.0",
      "model_name": "HTMLModel",
      "state": {
       "layout": "IPY_MODEL_f34f2481ce0d482b8b4553751b9dfe26",
       "style": "IPY_MODEL_d69f66590f5c48978a7885d3af4c116e",
       "value": "Validation DataLoader 0: 100%"
      }
     },
     "897be87f73274b778dccc433e4649598": {
      "model_module": "@jupyter-widgets/controls",
      "model_module_version": "2.0.0",
      "model_name": "FloatProgressModel",
      "state": {
       "layout": "IPY_MODEL_e173c98b33cd4fbcba3444f61a4ee1eb",
       "max": 63,
       "style": "IPY_MODEL_899ea4ebdedc4b149c5c880d1c28439b",
       "value": 63
      }
     },
     "899ea4ebdedc4b149c5c880d1c28439b": {
      "model_module": "@jupyter-widgets/controls",
      "model_module_version": "2.0.0",
      "model_name": "ProgressStyleModel",
      "state": {
       "description_width": ""
      }
     },
     "8aef99a3ad0145d1a4157bffd94ccae2": {
      "model_module": "@jupyter-widgets/controls",
      "model_module_version": "2.0.0",
      "model_name": "HTMLStyleModel",
      "state": {
       "description_width": "",
       "font_size": null,
       "text_color": null
      }
     },
     "8aff5f60731347eb9ad7e3c68287b111": {
      "model_module": "@jupyter-widgets/controls",
      "model_module_version": "2.0.0",
      "model_name": "HTMLModel",
      "state": {
       "layout": "IPY_MODEL_06a71ddea46c4bbab65f98636ee99274",
       "style": "IPY_MODEL_a19708713a3240d1a1c64efd2a48b836",
       "value": " 63/63 [00:00&lt;00:00, 262.35it/s]"
      }
     },
     "8b61ee56337c48fab4b46e51fbfb0272": {
      "model_module": "@jupyter-widgets/controls",
      "model_module_version": "2.0.0",
      "model_name": "ProgressStyleModel",
      "state": {
       "description_width": ""
      }
     },
     "8b966d6ebccc4bcd8081c4dba0c93bcc": {
      "model_module": "@jupyter-widgets/controls",
      "model_module_version": "2.0.0",
      "model_name": "HTMLModel",
      "state": {
       "layout": "IPY_MODEL_59f52e047c694954937295d8ed738e58",
       "style": "IPY_MODEL_a144c335b5f84426840fa995abaf50ca",
       "value": " 63/63 [00:00&lt;00:00, 256.39it/s]"
      }
     },
     "8d5c9e8fe6564e729337393d50801472": {
      "model_module": "@jupyter-widgets/base",
      "model_module_version": "2.0.0",
      "model_name": "LayoutModel",
      "state": {
       "flex": "2"
      }
     },
     "8d8b8019091a4e12a448f974df065951": {
      "model_module": "@jupyter-widgets/controls",
      "model_module_version": "2.0.0",
      "model_name": "HTMLStyleModel",
      "state": {
       "description_width": "",
       "font_size": null,
       "text_color": null
      }
     },
     "8dbc850f1bae4614aa3fdc28724a7bdc": {
      "model_module": "@jupyter-widgets/controls",
      "model_module_version": "2.0.0",
      "model_name": "HTMLModel",
      "state": {
       "layout": "IPY_MODEL_3c659442755f487ab68e487b12fad226",
       "style": "IPY_MODEL_3233cb9d02dd4f209c56971584982071",
       "value": "Validation DataLoader 0: 100%"
      }
     },
     "8e4440c0c1b54c0ca4729069b2ac82d3": {
      "model_module": "@jupyter-widgets/controls",
      "model_module_version": "2.0.0",
      "model_name": "FloatProgressModel",
      "state": {
       "layout": "IPY_MODEL_fd5670455fc449bd8e5f78012686b08d",
       "max": 63,
       "style": "IPY_MODEL_0a9fe3531d20457da900dab36d001548",
       "value": 63
      }
     },
     "8e5608d1acd34b408225fa5aeb781e72": {
      "model_module": "@jupyter-widgets/base",
      "model_module_version": "2.0.0",
      "model_name": "LayoutModel",
      "state": {}
     },
     "8e7997f5c3d6476e85d09208ca279e4d": {
      "model_module": "@jupyter-widgets/controls",
      "model_module_version": "2.0.0",
      "model_name": "HTMLModel",
      "state": {
       "layout": "IPY_MODEL_306133e41c8742a5ba787382efdb9bcd",
       "style": "IPY_MODEL_9303cb7d844545e0abd8d8ad3adb7a5d",
       "value": " 63/63 [00:00&lt;00:00, 267.73it/s]"
      }
     },
     "8e7bace6d357497d99ce62078e01efdc": {
      "model_module": "@jupyter-widgets/controls",
      "model_module_version": "2.0.0",
      "model_name": "HTMLModel",
      "state": {
       "layout": "IPY_MODEL_456cc195a4ce4e09aa89e929c2582a7c",
       "style": "IPY_MODEL_1ad50d7c98cf481f9a0d2442e9aa88d6",
       "value": " 63/63 [00:00&lt;00:00, 236.23it/s]"
      }
     },
     "8e812a29dc784179a3384900d70ed70d": {
      "model_module": "@jupyter-widgets/base",
      "model_module_version": "2.0.0",
      "model_name": "LayoutModel",
      "state": {
       "flex": "2"
      }
     },
     "8f130420da7a461ab6919043c2b620de": {
      "model_module": "@jupyter-widgets/base",
      "model_module_version": "2.0.0",
      "model_name": "LayoutModel",
      "state": {}
     },
     "8f19f60c83bd4b04810bb5bb807261b4": {
      "model_module": "@jupyter-widgets/controls",
      "model_module_version": "2.0.0",
      "model_name": "HTMLStyleModel",
      "state": {
       "description_width": "",
       "font_size": null,
       "text_color": null
      }
     },
     "8f7edf8348fd40ef9d330b141a4718de": {
      "model_module": "@jupyter-widgets/base",
      "model_module_version": "2.0.0",
      "model_name": "LayoutModel",
      "state": {}
     },
     "91664d28d1e54efc9026d5537a7766d0": {
      "model_module": "@jupyter-widgets/base",
      "model_module_version": "2.0.0",
      "model_name": "LayoutModel",
      "state": {}
     },
     "9195f527966f47569fa7c1772fc269bd": {
      "model_module": "@jupyter-widgets/controls",
      "model_module_version": "2.0.0",
      "model_name": "ProgressStyleModel",
      "state": {
       "description_width": ""
      }
     },
     "923f5a05ea1544ed9a101849afb45d69": {
      "model_module": "@jupyter-widgets/controls",
      "model_module_version": "2.0.0",
      "model_name": "HTMLModel",
      "state": {
       "layout": "IPY_MODEL_94c85f0d221447de87d202d2a3362cf5",
       "style": "IPY_MODEL_ef78d56e9d1e4f3da20ab61e78bce87a",
       "value": "Validation DataLoader 0: 100%"
      }
     },
     "925aa64f8e98473e8e4e51b8f78602ab": {
      "model_module": "@jupyter-widgets/base",
      "model_module_version": "2.0.0",
      "model_name": "LayoutModel",
      "state": {
       "display": "inline-flex",
       "flex_flow": "row wrap",
       "width": "100%"
      }
     },
     "92c1b26f30204066bd04094266af2af4": {
      "model_module": "@jupyter-widgets/base",
      "model_module_version": "2.0.0",
      "model_name": "LayoutModel",
      "state": {
       "display": "inline-flex",
       "flex_flow": "row wrap",
       "visibility": "hidden",
       "width": "100%"
      }
     },
     "9303cb7d844545e0abd8d8ad3adb7a5d": {
      "model_module": "@jupyter-widgets/controls",
      "model_module_version": "2.0.0",
      "model_name": "HTMLStyleModel",
      "state": {
       "description_width": "",
       "font_size": null,
       "text_color": null
      }
     },
     "94c85f0d221447de87d202d2a3362cf5": {
      "model_module": "@jupyter-widgets/base",
      "model_module_version": "2.0.0",
      "model_name": "LayoutModel",
      "state": {}
     },
     "94fa4c0f168f458d8f9ff382fba263b2": {
      "model_module": "@jupyter-widgets/base",
      "model_module_version": "2.0.0",
      "model_name": "LayoutModel",
      "state": {}
     },
     "960f1dcab059479084e093ed30aafda4": {
      "model_module": "@jupyter-widgets/controls",
      "model_module_version": "2.0.0",
      "model_name": "HTMLStyleModel",
      "state": {
       "description_width": "",
       "font_size": null,
       "text_color": null
      }
     },
     "9667ba51ac2945159c0c010c5832ecd4": {
      "model_module": "@jupyter-widgets/base",
      "model_module_version": "2.0.0",
      "model_name": "LayoutModel",
      "state": {}
     },
     "96922c511304468492e0c7a8e911015b": {
      "model_module": "@jupyter-widgets/controls",
      "model_module_version": "2.0.0",
      "model_name": "HTMLModel",
      "state": {
       "layout": "IPY_MODEL_73c7a86469ee4c4b95c922431674034d",
       "style": "IPY_MODEL_76c8ff0bf04e4dda882c8ca3289c57cd",
       "value": "Validation DataLoader 0: 100%"
      }
     },
     "971866cf7ee04afc90baeb2e3b3beb94": {
      "model_module": "@jupyter-widgets/base",
      "model_module_version": "2.0.0",
      "model_name": "LayoutModel",
      "state": {
       "flex": "2"
      }
     },
     "97900556629b49b5ad0dd8a419d61026": {
      "model_module": "@jupyter-widgets/controls",
      "model_module_version": "2.0.0",
      "model_name": "HTMLModel",
      "state": {
       "layout": "IPY_MODEL_99bbdde7ab1d4d99b9a77cdc9f66c5f4",
       "style": "IPY_MODEL_1e88d6094be049e29353d72703a46a53",
       "value": " 63/63 [00:00&lt;00:00, 263.53it/s]"
      }
     },
     "98188e37a76f4e69b332f4069be21907": {
      "model_module": "@jupyter-widgets/controls",
      "model_module_version": "2.0.0",
      "model_name": "HTMLStyleModel",
      "state": {
       "description_width": "",
       "font_size": null,
       "text_color": null
      }
     },
     "98d6aabc191342158efb32750a1e565f": {
      "model_module": "@jupyter-widgets/base",
      "model_module_version": "2.0.0",
      "model_name": "LayoutModel",
      "state": {}
     },
     "99bbdde7ab1d4d99b9a77cdc9f66c5f4": {
      "model_module": "@jupyter-widgets/base",
      "model_module_version": "2.0.0",
      "model_name": "LayoutModel",
      "state": {}
     },
     "9a9b6a6de93248a8aa4f2455989b91e2": {
      "model_module": "@jupyter-widgets/base",
      "model_module_version": "2.0.0",
      "model_name": "LayoutModel",
      "state": {
       "flex": "2"
      }
     },
     "9bbf7dfc3666442996a74e41df40b9b3": {
      "model_module": "@jupyter-widgets/controls",
      "model_module_version": "2.0.0",
      "model_name": "HTMLStyleModel",
      "state": {
       "description_width": "",
       "font_size": null,
       "text_color": null
      }
     },
     "9bd76b945ebf4f73a0092f177e1cf7af": {
      "model_module": "@jupyter-widgets/controls",
      "model_module_version": "2.0.0",
      "model_name": "HTMLModel",
      "state": {
       "layout": "IPY_MODEL_6c5b0ef3100a4c39b299a7f3665649ed",
       "style": "IPY_MODEL_8d8b8019091a4e12a448f974df065951",
       "value": "Testing DataLoader 0: 100%"
      }
     },
     "9bec7c0e1d834c2aa2191ccf9c33b73b": {
      "model_module": "@jupyter-widgets/controls",
      "model_module_version": "2.0.0",
      "model_name": "HTMLModel",
      "state": {
       "layout": "IPY_MODEL_f6db223338d940fe9fbc55814175ced6",
       "style": "IPY_MODEL_37a0dd39aa66424390e0d2399f50abbd",
       "value": " 63/63 [00:00&lt;00:00, 265.72it/s]"
      }
     },
     "9c346cb5b88d4ded96942b96e5a9e897": {
      "model_module": "@jupyter-widgets/base",
      "model_module_version": "2.0.0",
      "model_name": "LayoutModel",
      "state": {}
     },
     "9ce0a8e0d897425ca4ff576008a00a44": {
      "model_module": "@jupyter-widgets/base",
      "model_module_version": "2.0.0",
      "model_name": "LayoutModel",
      "state": {}
     },
     "9d0c29af8e3f4b3a9a67b89d3ea1bd74": {
      "model_module": "@jupyter-widgets/base",
      "model_module_version": "2.0.0",
      "model_name": "LayoutModel",
      "state": {
       "display": "inline-flex",
       "flex_flow": "row wrap",
       "visibility": "hidden",
       "width": "100%"
      }
     },
     "9d2fbeb8a45a451b868214a730f590b4": {
      "model_module": "@jupyter-widgets/base",
      "model_module_version": "2.0.0",
      "model_name": "LayoutModel",
      "state": {
       "flex": "2"
      }
     },
     "9d3d83c9c34a4708b4ab954aec8ad0e6": {
      "model_module": "@jupyter-widgets/controls",
      "model_module_version": "2.0.0",
      "model_name": "ProgressStyleModel",
      "state": {
       "description_width": ""
      }
     },
     "9d991853aa37427b8832ce5895547166": {
      "model_module": "@jupyter-widgets/controls",
      "model_module_version": "2.0.0",
      "model_name": "HTMLStyleModel",
      "state": {
       "description_width": "",
       "font_size": null,
       "text_color": null
      }
     },
     "9daf9305260f4a35a8e5fc325130d083": {
      "model_module": "@jupyter-widgets/controls",
      "model_module_version": "2.0.0",
      "model_name": "HTMLStyleModel",
      "state": {
       "description_width": "",
       "font_size": null,
       "text_color": null
      }
     },
     "9db67453fc09434486a8c3e7544ed371": {
      "model_module": "@jupyter-widgets/base",
      "model_module_version": "2.0.0",
      "model_name": "LayoutModel",
      "state": {}
     },
     "9eac7fe9b77a4e8d85d327a76a4f7698": {
      "model_module": "@jupyter-widgets/base",
      "model_module_version": "2.0.0",
      "model_name": "LayoutModel",
      "state": {
       "display": "inline-flex",
       "flex_flow": "row wrap",
       "visibility": "hidden",
       "width": "100%"
      }
     },
     "9eafe1b9989a4e158e4270cf7d89e25b": {
      "model_module": "@jupyter-widgets/controls",
      "model_module_version": "2.0.0",
      "model_name": "HTMLStyleModel",
      "state": {
       "description_width": "",
       "font_size": null,
       "text_color": null
      }
     },
     "9f3bf95c7e714f54adc73491d020a1f0": {
      "model_module": "@jupyter-widgets/controls",
      "model_module_version": "2.0.0",
      "model_name": "HTMLStyleModel",
      "state": {
       "description_width": "",
       "font_size": null,
       "text_color": null
      }
     },
     "9fe3c1be9a8f4f9f8be3807b702a61b3": {
      "model_module": "@jupyter-widgets/base",
      "model_module_version": "2.0.0",
      "model_name": "LayoutModel",
      "state": {
       "display": "inline-flex",
       "flex_flow": "row wrap",
       "visibility": "hidden",
       "width": "100%"
      }
     },
     "a096fd5d7397466cb549e4ff67ecefc9": {
      "model_module": "@jupyter-widgets/controls",
      "model_module_version": "2.0.0",
      "model_name": "HTMLStyleModel",
      "state": {
       "description_width": "",
       "font_size": null,
       "text_color": null
      }
     },
     "a0ca639c82c0463ea4a175932679f4bd": {
      "model_module": "@jupyter-widgets/controls",
      "model_module_version": "2.0.0",
      "model_name": "HTMLModel",
      "state": {
       "layout": "IPY_MODEL_af3e799ff9fb4d67b0694393c92ae5fb",
       "style": "IPY_MODEL_ec8be0823e324536a35a18cff165d4e5",
       "value": " 63/63 [00:00&lt;00:00, 260.47it/s]"
      }
     },
     "a144c335b5f84426840fa995abaf50ca": {
      "model_module": "@jupyter-widgets/controls",
      "model_module_version": "2.0.0",
      "model_name": "HTMLStyleModel",
      "state": {
       "description_width": "",
       "font_size": null,
       "text_color": null
      }
     },
     "a19708713a3240d1a1c64efd2a48b836": {
      "model_module": "@jupyter-widgets/controls",
      "model_module_version": "2.0.0",
      "model_name": "HTMLStyleModel",
      "state": {
       "description_width": "",
       "font_size": null,
       "text_color": null
      }
     },
     "a2675121980e43fb964a8c5aa8bdf015": {
      "model_module": "@jupyter-widgets/controls",
      "model_module_version": "2.0.0",
      "model_name": "ProgressStyleModel",
      "state": {
       "description_width": ""
      }
     },
     "a2922bfa99094fb2bf45ef1ad98e2beb": {
      "model_module": "@jupyter-widgets/controls",
      "model_module_version": "2.0.0",
      "model_name": "HTMLModel",
      "state": {
       "layout": "IPY_MODEL_4e746bda367e4bfe9e87ba9567ade8ae",
       "style": "IPY_MODEL_db8697312432497ebe71f33d32fb3deb",
       "value": "Validation DataLoader 0: 100%"
      }
     },
     "a2cf2160385d4f0b823c7217fe5fd958": {
      "model_module": "@jupyter-widgets/controls",
      "model_module_version": "2.0.0",
      "model_name": "ProgressStyleModel",
      "state": {
       "description_width": ""
      }
     },
     "a35fa12d26eb4190a92713c09265c5c8": {
      "model_module": "@jupyter-widgets/base",
      "model_module_version": "2.0.0",
      "model_name": "LayoutModel",
      "state": {
       "flex": "2"
      }
     },
     "a362f16bc4164b7496d5fcc58d07e581": {
      "model_module": "@jupyter-widgets/controls",
      "model_module_version": "2.0.0",
      "model_name": "FloatProgressModel",
      "state": {
       "layout": "IPY_MODEL_3cfb282480c0408ab57ac2a2d7aa116d",
       "max": 2,
       "style": "IPY_MODEL_ec70c0bbc8e34a12a9d3435a9ee6d72b",
       "value": 2
      }
     },
     "a4ecc246e0af43828b475caa016191cc": {
      "model_module": "@jupyter-widgets/controls",
      "model_module_version": "2.0.0",
      "model_name": "HTMLModel",
      "state": {
       "layout": "IPY_MODEL_e75d25af194449df9e00a74493ac4295",
       "style": "IPY_MODEL_1e76739b29f64acc80d68e8a6de11c3a",
       "value": "Validation DataLoader 0: 100%"
      }
     },
     "a518247d579742679790b7d4de61770c": {
      "model_module": "@jupyter-widgets/base",
      "model_module_version": "2.0.0",
      "model_name": "LayoutModel",
      "state": {}
     },
     "a57ae4d6ad0944a2b6ca559f9d240f36": {
      "model_module": "@jupyter-widgets/controls",
      "model_module_version": "2.0.0",
      "model_name": "HTMLModel",
      "state": {
       "layout": "IPY_MODEL_ecd53b2c35784d15908cdcc72644c923",
       "style": "IPY_MODEL_bb9f030a2eba41249fbe2cb1718e2327",
       "value": " 2/2 [00:00&lt;00:00, 14.36it/s]"
      }
     },
     "a7174e19e30e43198d46c29592d87ab0": {
      "model_module": "@jupyter-widgets/controls",
      "model_module_version": "2.0.0",
      "model_name": "FloatProgressModel",
      "state": {
       "layout": "IPY_MODEL_cbcda917570241c5b37e4215aafd8fbd",
       "max": 63,
       "style": "IPY_MODEL_f686fb9403c54bc69d42a9732409ff98",
       "value": 63
      }
     },
     "a72adb49862341be988a3b7d7f9850ba": {
      "model_module": "@jupyter-widgets/base",
      "model_module_version": "2.0.0",
      "model_name": "LayoutModel",
      "state": {}
     },
     "a7b6803e6d36433a99cba20b2d86a222": {
      "model_module": "@jupyter-widgets/controls",
      "model_module_version": "2.0.0",
      "model_name": "FloatProgressModel",
      "state": {
       "layout": "IPY_MODEL_46a3ac6050824e29bd5d46ba86f1cb2c",
       "max": 63,
       "style": "IPY_MODEL_397063cfea094738b7bf8610e24abe7e",
       "value": 63
      }
     },
     "a8925e6e071c46bf84ab5b2d0895e05c": {
      "model_module": "@jupyter-widgets/controls",
      "model_module_version": "2.0.0",
      "model_name": "HTMLStyleModel",
      "state": {
       "description_width": "",
       "font_size": null,
       "text_color": null
      }
     },
     "a895b4a4f19b4340b5441e43900d5984": {
      "model_module": "@jupyter-widgets/controls",
      "model_module_version": "2.0.0",
      "model_name": "FloatProgressModel",
      "state": {
       "layout": "IPY_MODEL_d38d738c84584229b4e9c50d16a417eb",
       "max": 63,
       "style": "IPY_MODEL_2c5993ea6c314b8e9dfc5f2c22b7c70a",
       "value": 63
      }
     },
     "a8b826a4fd284227ad093ed825256902": {
      "model_module": "@jupyter-widgets/controls",
      "model_module_version": "2.0.0",
      "model_name": "HTMLModel",
      "state": {
       "layout": "IPY_MODEL_78ba532347a145059eddc0b9225e22a8",
       "style": "IPY_MODEL_8f19f60c83bd4b04810bb5bb807261b4",
       "value": "Validation DataLoader 0: 100%"
      }
     },
     "a8bfe91332574dd4b8f386bb95a53b1f": {
      "model_module": "@jupyter-widgets/controls",
      "model_module_version": "2.0.0",
      "model_name": "HTMLModel",
      "state": {
       "layout": "IPY_MODEL_80c74a8edc7242819ced811475b7c8c1",
       "style": "IPY_MODEL_9daf9305260f4a35a8e5fc325130d083",
       "value": "Validation DataLoader 0: 100%"
      }
     },
     "aa00d9d772b241f192ff9f56e82023ae": {
      "model_module": "@jupyter-widgets/controls",
      "model_module_version": "2.0.0",
      "model_name": "ProgressStyleModel",
      "state": {
       "description_width": ""
      }
     },
     "aae72b7ad2354446ac79c00350a70846": {
      "model_module": "@jupyter-widgets/controls",
      "model_module_version": "2.0.0",
      "model_name": "HTMLModel",
      "state": {
       "layout": "IPY_MODEL_7815d39ae601464e93a6f2a760b11b70",
       "style": "IPY_MODEL_15c4048c45c64b85b63a7d70a435d703",
       "value": " 63/63 [00:00&lt;00:00, 83.48it/s, v_num=12391, train_loss=0.295, val_loss=0.331, val_acc=0.860]"
      }
     },
     "aaf8b6444641469583d958bc1a16ebbf": {
      "model_module": "@jupyter-widgets/base",
      "model_module_version": "2.0.0",
      "model_name": "LayoutModel",
      "state": {}
     },
     "abfbc55ba5f14c42b69b1df40339d23e": {
      "model_module": "@jupyter-widgets/controls",
      "model_module_version": "2.0.0",
      "model_name": "HTMLModel",
      "state": {
       "layout": "IPY_MODEL_7d44f9f746af43898ac4aa99db2f6f51",
       "style": "IPY_MODEL_e21fca23b83148eda5d0cf76e7e7e266",
       "value": "Validation DataLoader 0: 100%"
      }
     },
     "ad3a05a145fe4e27a02b7847733e929a": {
      "model_module": "@jupyter-widgets/base",
      "model_module_version": "2.0.0",
      "model_name": "LayoutModel",
      "state": {
       "flex": "2"
      }
     },
     "aea46a2d890e499b9541114ef3cd1f21": {
      "model_module": "@jupyter-widgets/controls",
      "model_module_version": "2.0.0",
      "model_name": "HTMLModel",
      "state": {
       "layout": "IPY_MODEL_344441b6e6944b188788512efc3f24c4",
       "style": "IPY_MODEL_81e14c876cf24d4093c918492f640a48",
       "value": " 63/63 [00:00&lt;00:00, 242.52it/s]"
      }
     },
     "af06fe823e99420db50b1d4a3ee2c3ad": {
      "model_module": "@jupyter-widgets/controls",
      "model_module_version": "2.0.0",
      "model_name": "FloatProgressModel",
      "state": {
       "layout": "IPY_MODEL_25fb05ebf981466f82e62eb7247b4dc8",
       "max": 63,
       "style": "IPY_MODEL_df701473f3004542b0ef13449437a557",
       "value": 63
      }
     },
     "af3e799ff9fb4d67b0694393c92ae5fb": {
      "model_module": "@jupyter-widgets/base",
      "model_module_version": "2.0.0",
      "model_name": "LayoutModel",
      "state": {}
     },
     "af4096c87653485d8922532e0ce79dd8": {
      "model_module": "@jupyter-widgets/controls",
      "model_module_version": "2.0.0",
      "model_name": "HTMLModel",
      "state": {
       "layout": "IPY_MODEL_175a4d3ecc174790a3126787b8889d21",
       "style": "IPY_MODEL_d1b61e9455af4fc1ababc54d81122738",
       "value": " 63/63 [00:00&lt;00:00, 262.32it/s]"
      }
     },
     "afc3cc1d7c4f429f9bc016db62da0134": {
      "model_module": "@jupyter-widgets/base",
      "model_module_version": "2.0.0",
      "model_name": "LayoutModel",
      "state": {
       "flex": "2"
      }
     },
     "b025fcda444142c99b8c15847ecea6d8": {
      "model_module": "@jupyter-widgets/controls",
      "model_module_version": "2.0.0",
      "model_name": "FloatProgressModel",
      "state": {
       "layout": "IPY_MODEL_57afc3fae7a743e5abb5cb9316af8e90",
       "max": 63,
       "style": "IPY_MODEL_5f4f8e7fd0554bdca6e1c6e8c885cd67",
       "value": 63
      }
     },
     "b04152c933ec4fc98e5af14f918bf4a0": {
      "model_module": "@jupyter-widgets/controls",
      "model_module_version": "2.0.0",
      "model_name": "HTMLStyleModel",
      "state": {
       "description_width": "",
       "font_size": null,
       "text_color": null
      }
     },
     "b18f11e4b58642ee86fffb2f39cfb407": {
      "model_module": "@jupyter-widgets/controls",
      "model_module_version": "2.0.0",
      "model_name": "FloatProgressModel",
      "state": {
       "layout": "IPY_MODEL_dd05edf926c842899e515a8c37ca3600",
       "max": 63,
       "style": "IPY_MODEL_7de5d6cf8bcb4074a8fefab5a4751a5f",
       "value": 63
      }
     },
     "b25407193ece4635ad3fec90bbb7ddfa": {
      "model_module": "@jupyter-widgets/base",
      "model_module_version": "2.0.0",
      "model_name": "LayoutModel",
      "state": {
       "display": "inline-flex",
       "flex_flow": "row wrap",
       "visibility": "hidden",
       "width": "100%"
      }
     },
     "b2fdc638a21e45d997960dc051b60bbc": {
      "model_module": "@jupyter-widgets/base",
      "model_module_version": "2.0.0",
      "model_name": "LayoutModel",
      "state": {
       "flex": "2"
      }
     },
     "b314b598addf4acd9a4f5723f3b242ee": {
      "model_module": "@jupyter-widgets/controls",
      "model_module_version": "2.0.0",
      "model_name": "HTMLStyleModel",
      "state": {
       "description_width": "",
       "font_size": null,
       "text_color": null
      }
     },
     "b31879f5b2d341b4b31bf50e17acb7a6": {
      "model_module": "@jupyter-widgets/controls",
      "model_module_version": "2.0.0",
      "model_name": "HTMLModel",
      "state": {
       "layout": "IPY_MODEL_35380e63fb3447909872be909785d9d9",
       "style": "IPY_MODEL_a096fd5d7397466cb549e4ff67ecefc9",
       "value": "Validation DataLoader 0: 100%"
      }
     },
     "b342bbed23e94130b36a81dcd9091a89": {
      "model_module": "@jupyter-widgets/controls",
      "model_module_version": "2.0.0",
      "model_name": "HTMLStyleModel",
      "state": {
       "description_width": "",
       "font_size": null,
       "text_color": null
      }
     },
     "b3e72792e4834672805ffcd6dc26eb71": {
      "model_module": "@jupyter-widgets/base",
      "model_module_version": "2.0.0",
      "model_name": "LayoutModel",
      "state": {
       "flex": "2"
      }
     },
     "b4081e76404f4b258f561fe1780edb27": {
      "model_module": "@jupyter-widgets/base",
      "model_module_version": "2.0.0",
      "model_name": "LayoutModel",
      "state": {
       "display": "inline-flex",
       "flex_flow": "row wrap",
       "visibility": "hidden",
       "width": "100%"
      }
     },
     "b43e83294202421e9ff4e32a02d657fe": {
      "model_module": "@jupyter-widgets/controls",
      "model_module_version": "2.0.0",
      "model_name": "HTMLStyleModel",
      "state": {
       "description_width": "",
       "font_size": null,
       "text_color": null
      }
     },
     "b53801f1e3774dd684b9c40bbb3cfe6b": {
      "model_module": "@jupyter-widgets/base",
      "model_module_version": "2.0.0",
      "model_name": "LayoutModel",
      "state": {}
     },
     "b55a078c60fa4a968a0f3826936f3cbd": {
      "model_module": "@jupyter-widgets/controls",
      "model_module_version": "2.0.0",
      "model_name": "ProgressStyleModel",
      "state": {
       "description_width": ""
      }
     },
     "b6630e10db0546e3b78034b4ea5dfa67": {
      "model_module": "@jupyter-widgets/controls",
      "model_module_version": "2.0.0",
      "model_name": "ProgressStyleModel",
      "state": {
       "description_width": ""
      }
     },
     "b664dc600b864ffda707a91d096b06da": {
      "model_module": "@jupyter-widgets/controls",
      "model_module_version": "2.0.0",
      "model_name": "HTMLModel",
      "state": {
       "layout": "IPY_MODEL_d421b4ac81d6419889eb3a1d591e490b",
       "style": "IPY_MODEL_7141c9eec5514c618097c255e6b74470",
       "value": "Validation DataLoader 0: 100%"
      }
     },
     "b75083295b854bd1a45085b097329748": {
      "model_module": "@jupyter-widgets/controls",
      "model_module_version": "2.0.0",
      "model_name": "FloatProgressModel",
      "state": {
       "layout": "IPY_MODEL_a35fa12d26eb4190a92713c09265c5c8",
       "max": 2,
       "style": "IPY_MODEL_f2f931e2c1ae4dc2889ac0164d5c8b2d",
       "value": 2
      }
     },
     "b88d1ce9c4284bcfb826c8a82aeee2d6": {
      "model_module": "@jupyter-widgets/base",
      "model_module_version": "2.0.0",
      "model_name": "LayoutModel",
      "state": {}
     },
     "ba8baa84d28441498dd88a02a3be72f1": {
      "model_module": "@jupyter-widgets/controls",
      "model_module_version": "2.0.0",
      "model_name": "HTMLModel",
      "state": {
       "layout": "IPY_MODEL_35a09ffd30d44b41b13e90dc5ebd18b8",
       "style": "IPY_MODEL_36fb247deaa24f5987a7fa676bf89681",
       "value": " 63/63 [00:00&lt;00:00, 263.16it/s]"
      }
     },
     "baa19ddf825b418898e5209bd6015d4d": {
      "model_module": "@jupyter-widgets/controls",
      "model_module_version": "2.0.0",
      "model_name": "HTMLStyleModel",
      "state": {
       "description_width": "",
       "font_size": null,
       "text_color": null
      }
     },
     "baafe56ece564d49a98b830fee9d53e3": {
      "model_module": "@jupyter-widgets/controls",
      "model_module_version": "2.0.0",
      "model_name": "ProgressStyleModel",
      "state": {
       "description_width": ""
      }
     },
     "bb9f030a2eba41249fbe2cb1718e2327": {
      "model_module": "@jupyter-widgets/controls",
      "model_module_version": "2.0.0",
      "model_name": "HTMLStyleModel",
      "state": {
       "description_width": "",
       "font_size": null,
       "text_color": null
      }
     },
     "bcd2e42450064c1ea6afdc2eb9636450": {
      "model_module": "@jupyter-widgets/base",
      "model_module_version": "2.0.0",
      "model_name": "LayoutModel",
      "state": {}
     },
     "bd9d3d16f508443b9d10b0e82cb2d975": {
      "model_module": "@jupyter-widgets/controls",
      "model_module_version": "2.0.0",
      "model_name": "HTMLStyleModel",
      "state": {
       "description_width": "",
       "font_size": null,
       "text_color": null
      }
     },
     "bdc6ce9f188f4af3a35aa3ee90d31bd5": {
      "model_module": "@jupyter-widgets/base",
      "model_module_version": "2.0.0",
      "model_name": "LayoutModel",
      "state": {
       "display": "inline-flex",
       "flex_flow": "row wrap",
       "visibility": "hidden",
       "width": "100%"
      }
     },
     "bdfcfe5977fd45c7ae4086093d7e2c11": {
      "model_module": "@jupyter-widgets/base",
      "model_module_version": "2.0.0",
      "model_name": "LayoutModel",
      "state": {}
     },
     "bf2b3a5e1bf7415fb5dd04ff1ee629b3": {
      "model_module": "@jupyter-widgets/controls",
      "model_module_version": "2.0.0",
      "model_name": "ProgressStyleModel",
      "state": {
       "description_width": ""
      }
     },
     "bf55529ba9e840d89e2d43d9bc20053a": {
      "model_module": "@jupyter-widgets/controls",
      "model_module_version": "2.0.0",
      "model_name": "HTMLModel",
      "state": {
       "layout": "IPY_MODEL_e5ba13ea6bd64d95bab9ab05bd5255da",
       "style": "IPY_MODEL_ead0a32eda0b4060b82a32739aa78330",
       "value": " 63/63 [00:00&lt;00:00, 272.50it/s]"
      }
     },
     "c1eebbaac367462b9c0600bfb7a6f497": {
      "model_module": "@jupyter-widgets/controls",
      "model_module_version": "2.0.0",
      "model_name": "FloatProgressModel",
      "state": {
       "layout": "IPY_MODEL_1fa7f0a6856b4a5b8cad46a7fd484a50",
       "max": 63,
       "style": "IPY_MODEL_bf2b3a5e1bf7415fb5dd04ff1ee629b3",
       "value": 63
      }
     },
     "c21f06256e724c849f9e651f34185e18": {
      "model_module": "@jupyter-widgets/controls",
      "model_module_version": "2.0.0",
      "model_name": "HTMLStyleModel",
      "state": {
       "description_width": "",
       "font_size": null,
       "text_color": null
      }
     },
     "c24cb42d05da49178750c75a323c548d": {
      "model_module": "@jupyter-widgets/base",
      "model_module_version": "2.0.0",
      "model_name": "LayoutModel",
      "state": {}
     },
     "c2a8fe21a50e4a2588c15f476e2090cd": {
      "model_module": "@jupyter-widgets/controls",
      "model_module_version": "2.0.0",
      "model_name": "HTMLModel",
      "state": {
       "layout": "IPY_MODEL_9db67453fc09434486a8c3e7544ed371",
       "style": "IPY_MODEL_7aaa5d01faa4471fa643c5b0011c8f90",
       "value": " 63/63 [00:00&lt;00:00, 257.87it/s]"
      }
     },
     "c3693a2834e940c1aafc6ee724672d03": {
      "model_module": "@jupyter-widgets/controls",
      "model_module_version": "2.0.0",
      "model_name": "HTMLModel",
      "state": {
       "layout": "IPY_MODEL_e7233d925b8f4785b93881ffc5bd26e8",
       "style": "IPY_MODEL_15849eed811e4572b69e0d10d0657404",
       "value": " 63/63 [00:00&lt;00:00, 258.78it/s]"
      }
     },
     "c38f2a6b75f84fe2a19853be326b03ce": {
      "model_module": "@jupyter-widgets/controls",
      "model_module_version": "2.0.0",
      "model_name": "HTMLModel",
      "state": {
       "layout": "IPY_MODEL_1602f2eef6964812b3ddc1eaac521e07",
       "style": "IPY_MODEL_82ece48d6ea049948055699ae46a03c8",
       "value": "Validation DataLoader 0: 100%"
      }
     },
     "c429a2e4a1464c12a4197c09ce867630": {
      "model_module": "@jupyter-widgets/controls",
      "model_module_version": "2.0.0",
      "model_name": "HTMLStyleModel",
      "state": {
       "description_width": "",
       "font_size": null,
       "text_color": null
      }
     },
     "c4df8354a5c546c78703d76b90ad3fef": {
      "model_module": "@jupyter-widgets/controls",
      "model_module_version": "2.0.0",
      "model_name": "ProgressStyleModel",
      "state": {
       "description_width": ""
      }
     },
     "c4e79833d89e4bc98650d46a292687d8": {
      "model_module": "@jupyter-widgets/base",
      "model_module_version": "2.0.0",
      "model_name": "LayoutModel",
      "state": {}
     },
     "c603cffae63c4132b400ce48cd6cce4b": {
      "model_module": "@jupyter-widgets/controls",
      "model_module_version": "2.0.0",
      "model_name": "ProgressStyleModel",
      "state": {
       "description_width": ""
      }
     },
     "c6243f8141e74f738bfbe0ef9ddbe3a3": {
      "model_module": "@jupyter-widgets/base",
      "model_module_version": "2.0.0",
      "model_name": "LayoutModel",
      "state": {}
     },
     "c6ab32a784d148dbaa3d7f481a7d283f": {
      "model_module": "@jupyter-widgets/controls",
      "model_module_version": "2.0.0",
      "model_name": "HTMLStyleModel",
      "state": {
       "description_width": "",
       "font_size": null,
       "text_color": null
      }
     },
     "c6de82f38d5a4e89b249d7dc2d585870": {
      "model_module": "@jupyter-widgets/controls",
      "model_module_version": "2.0.0",
      "model_name": "ProgressStyleModel",
      "state": {
       "description_width": ""
      }
     },
     "c86d4f3392a4436dac6376f41ad7b0f6": {
      "model_module": "@jupyter-widgets/controls",
      "model_module_version": "2.0.0",
      "model_name": "HTMLModel",
      "state": {
       "layout": "IPY_MODEL_628122a255bc4b45b2203f725a6f9518",
       "style": "IPY_MODEL_32a863a9de2548a99b1d11971721fd86",
       "value": " 63/63 [00:00&lt;00:00, 87.40it/s, v_num=12391, train_loss=0.303, val_loss=0.352, val_acc=0.861]"
      }
     },
     "c8e14e9195be402fa83aaf8e2bdeb05d": {
      "model_module": "@jupyter-widgets/controls",
      "model_module_version": "2.0.0",
      "model_name": "HTMLStyleModel",
      "state": {
       "description_width": "",
       "font_size": null,
       "text_color": null
      }
     },
     "c901f7310ed84db48f3d60e99f3639cc": {
      "model_module": "@jupyter-widgets/controls",
      "model_module_version": "2.0.0",
      "model_name": "FloatProgressModel",
      "state": {
       "layout": "IPY_MODEL_62ec7baa78564781b74a78d4b513227c",
       "max": 63,
       "style": "IPY_MODEL_4a5673d97a804a2e9ec005e456426052",
       "value": 63
      }
     },
     "c9bf2ea652524369a601aa686b4274aa": {
      "model_module": "@jupyter-widgets/controls",
      "model_module_version": "2.0.0",
      "model_name": "FloatProgressModel",
      "state": {
       "layout": "IPY_MODEL_05e9e3e63cc7442d8ca74f08edc51bf9",
       "max": 63,
       "style": "IPY_MODEL_15fd510bede74d7eb877ca5481dc23eb",
       "value": 63
      }
     },
     "ca112d8cb00f45a7b63592a1fd25d9f3": {
      "model_module": "@jupyter-widgets/controls",
      "model_module_version": "2.0.0",
      "model_name": "HTMLModel",
      "state": {
       "layout": "IPY_MODEL_b88d1ce9c4284bcfb826c8a82aeee2d6",
       "style": "IPY_MODEL_5921ba95a87849eba96a350f00335138",
       "value": " 63/63 [00:00&lt;00:00, 248.99it/s]"
      }
     },
     "caf96d52344f4097abe0d709c5d5333e": {
      "model_module": "@jupyter-widgets/base",
      "model_module_version": "2.0.0",
      "model_name": "LayoutModel",
      "state": {}
     },
     "cb3eca10fad14c10a2f41642885507ca": {
      "model_module": "@jupyter-widgets/controls",
      "model_module_version": "2.0.0",
      "model_name": "ProgressStyleModel",
      "state": {
       "description_width": ""
      }
     },
     "cb582ac653544f5aa968debf87ceb7e8": {
      "model_module": "@jupyter-widgets/controls",
      "model_module_version": "2.0.0",
      "model_name": "HTMLModel",
      "state": {
       "layout": "IPY_MODEL_ed395ad8560844c69197a8e1069b2f12",
       "style": "IPY_MODEL_ee406c6f58744ce6b0052eef78534173",
       "value": "Sanity Checking DataLoader 0: 100%"
      }
     },
     "cbcb80e6add5429fa679f9f3d636786e": {
      "model_module": "@jupyter-widgets/base",
      "model_module_version": "2.0.0",
      "model_name": "LayoutModel",
      "state": {
       "display": "inline-flex",
       "flex_flow": "row wrap",
       "visibility": "hidden",
       "width": "100%"
      }
     },
     "cbcda917570241c5b37e4215aafd8fbd": {
      "model_module": "@jupyter-widgets/base",
      "model_module_version": "2.0.0",
      "model_name": "LayoutModel",
      "state": {
       "flex": "2"
      }
     },
     "cd41b262220e4931b60287f2f0713f88": {
      "model_module": "@jupyter-widgets/base",
      "model_module_version": "2.0.0",
      "model_name": "LayoutModel",
      "state": {
       "display": "inline-flex",
       "flex_flow": "row wrap",
       "visibility": "hidden",
       "width": "100%"
      }
     },
     "cf0c88f698fd413fb473b63f7519ec04": {
      "model_module": "@jupyter-widgets/base",
      "model_module_version": "2.0.0",
      "model_name": "LayoutModel",
      "state": {
       "flex": "2"
      }
     },
     "cf159567071e4d70b4e6e1cc091ad551": {
      "model_module": "@jupyter-widgets/base",
      "model_module_version": "2.0.0",
      "model_name": "LayoutModel",
      "state": {}
     },
     "d013c33d1c6d43d389562900b84e1481": {
      "model_module": "@jupyter-widgets/controls",
      "model_module_version": "2.0.0",
      "model_name": "FloatProgressModel",
      "state": {
       "layout": "IPY_MODEL_e2fe0f2f61f8497783d689d0254aebfa",
       "max": 63,
       "style": "IPY_MODEL_b55a078c60fa4a968a0f3826936f3cbd",
       "value": 63
      }
     },
     "d03a78f58de8481ab02b99c1915fc82f": {
      "model_module": "@jupyter-widgets/controls",
      "model_module_version": "2.0.0",
      "model_name": "HTMLModel",
      "state": {
       "layout": "IPY_MODEL_327c2b0316934ecb8d300fff1bc74980",
       "style": "IPY_MODEL_84529b9bb00b4a91a0216f5dce52bebf",
       "value": " 63/63 [00:00&lt;00:00, 264.00it/s]"
      }
     },
     "d0c131b9c07448c1a80418c0fe23ad49": {
      "model_module": "@jupyter-widgets/base",
      "model_module_version": "2.0.0",
      "model_name": "LayoutModel",
      "state": {}
     },
     "d12a6a2a478a410e83fc3db21b802dad": {
      "model_module": "@jupyter-widgets/base",
      "model_module_version": "2.0.0",
      "model_name": "LayoutModel",
      "state": {
       "display": "inline-flex",
       "flex_flow": "row wrap",
       "visibility": "hidden",
       "width": "100%"
      }
     },
     "d1b61e9455af4fc1ababc54d81122738": {
      "model_module": "@jupyter-widgets/controls",
      "model_module_version": "2.0.0",
      "model_name": "HTMLStyleModel",
      "state": {
       "description_width": "",
       "font_size": null,
       "text_color": null
      }
     },
     "d20bfbd1ccaa45d9999e8aaa628a9b01": {
      "model_module": "@jupyter-widgets/controls",
      "model_module_version": "2.0.0",
      "model_name": "FloatProgressModel",
      "state": {
       "layout": "IPY_MODEL_663b812e59184d1ea25147487a5d7cb8",
       "max": 63,
       "style": "IPY_MODEL_1d93a368de2d45c790749fde492a9bda",
       "value": 63
      }
     },
     "d21c30a273804bd3ac777404c1c74569": {
      "model_module": "@jupyter-widgets/base",
      "model_module_version": "2.0.0",
      "model_name": "LayoutModel",
      "state": {
       "display": "inline-flex",
       "flex_flow": "row wrap",
       "visibility": "hidden",
       "width": "100%"
      }
     },
     "d38d738c84584229b4e9c50d16a417eb": {
      "model_module": "@jupyter-widgets/base",
      "model_module_version": "2.0.0",
      "model_name": "LayoutModel",
      "state": {
       "flex": "2"
      }
     },
     "d421b4ac81d6419889eb3a1d591e490b": {
      "model_module": "@jupyter-widgets/base",
      "model_module_version": "2.0.0",
      "model_name": "LayoutModel",
      "state": {}
     },
     "d4f6e0fcfffd4fad8d13d92ed6df224c": {
      "model_module": "@jupyter-widgets/controls",
      "model_module_version": "2.0.0",
      "model_name": "ProgressStyleModel",
      "state": {
       "description_width": ""
      }
     },
     "d69f66590f5c48978a7885d3af4c116e": {
      "model_module": "@jupyter-widgets/controls",
      "model_module_version": "2.0.0",
      "model_name": "HTMLStyleModel",
      "state": {
       "description_width": "",
       "font_size": null,
       "text_color": null
      }
     },
     "d71e423b15b0435b9d0e73248c74654a": {
      "model_module": "@jupyter-widgets/controls",
      "model_module_version": "2.0.0",
      "model_name": "HTMLStyleModel",
      "state": {
       "description_width": "",
       "font_size": null,
       "text_color": null
      }
     },
     "d721c4a06e2c420a92490cb8be2f602d": {
      "model_module": "@jupyter-widgets/base",
      "model_module_version": "2.0.0",
      "model_name": "LayoutModel",
      "state": {
       "display": "inline-flex",
       "flex_flow": "row wrap",
       "visibility": "hidden",
       "width": "100%"
      }
     },
     "d73ece3a7916412aae544cde9115200f": {
      "model_module": "@jupyter-widgets/controls",
      "model_module_version": "2.0.0",
      "model_name": "HTMLStyleModel",
      "state": {
       "description_width": "",
       "font_size": null,
       "text_color": null
      }
     },
     "d778cdb647b94df8a649c8974ca78c05": {
      "model_module": "@jupyter-widgets/controls",
      "model_module_version": "2.0.0",
      "model_name": "HBoxModel",
      "state": {
       "children": [
        "IPY_MODEL_06a0b6c8deee45be8a8d8ce2bb135c77",
        "IPY_MODEL_72bc10fef4da4d96a0615c6c36ee77b0",
        "IPY_MODEL_c86d4f3392a4436dac6376f41ad7b0f6"
       ],
       "layout": "IPY_MODEL_fc5a0972057a4e7682b656398b041bf0"
      }
     },
     "d78090633f2746f092a964722872515c": {
      "model_module": "@jupyter-widgets/controls",
      "model_module_version": "2.0.0",
      "model_name": "FloatProgressModel",
      "state": {
       "layout": "IPY_MODEL_ef3c12a37c2d4c379305e44dd08fb3a5",
       "max": 63,
       "style": "IPY_MODEL_5e5e30654a0f4cd3965ee944cb706295",
       "value": 63
      }
     },
     "d7bdeb0238014604a5a60bfa2526411f": {
      "model_module": "@jupyter-widgets/controls",
      "model_module_version": "2.0.0",
      "model_name": "FloatProgressModel",
      "state": {
       "layout": "IPY_MODEL_9d2fbeb8a45a451b868214a730f590b4",
       "max": 63,
       "style": "IPY_MODEL_c6de82f38d5a4e89b249d7dc2d585870",
       "value": 63
      }
     },
     "d7c1cf3dbb8545d3be21cb5e03084da7": {
      "model_module": "@jupyter-widgets/base",
      "model_module_version": "2.0.0",
      "model_name": "LayoutModel",
      "state": {
       "flex": "2"
      }
     },
     "d83db4ac48194c16ac6b0ca545e83a79": {
      "model_module": "@jupyter-widgets/controls",
      "model_module_version": "2.0.0",
      "model_name": "HTMLModel",
      "state": {
       "layout": "IPY_MODEL_91664d28d1e54efc9026d5537a7766d0",
       "style": "IPY_MODEL_3c146b1b061447f7bf00defcf868553d",
       "value": " 63/63 [00:00&lt;00:00, 275.40it/s]"
      }
     },
     "d89e70c474284d5c8bf1681c2eb6505c": {
      "model_module": "@jupyter-widgets/base",
      "model_module_version": "2.0.0",
      "model_name": "LayoutModel",
      "state": {
       "display": "inline-flex",
       "flex_flow": "row wrap",
       "visibility": "hidden",
       "width": "100%"
      }
     },
     "d8ba66dc6d2a40289f85c90b1f1a9c9e": {
      "model_module": "@jupyter-widgets/controls",
      "model_module_version": "2.0.0",
      "model_name": "FloatProgressModel",
      "state": {
       "layout": "IPY_MODEL_45a80e065d92461faed3b260fd36fe6d",
       "max": 63,
       "style": "IPY_MODEL_e257995956b8421f86d7e13d23e815f6",
       "value": 63
      }
     },
     "d976ceee8ab940be887ca64dbfa54c06": {
      "model_module": "@jupyter-widgets/controls",
      "model_module_version": "2.0.0",
      "model_name": "HTMLModel",
      "state": {
       "layout": "IPY_MODEL_1f70f13802c540d1a46864b6373a56c3",
       "style": "IPY_MODEL_9bbf7dfc3666442996a74e41df40b9b3",
       "value": " 63/63 [00:00&lt;00:00, 263.63it/s]"
      }
     },
     "da9a4dc971a440579c30cc9373d3d7ed": {
      "model_module": "@jupyter-widgets/base",
      "model_module_version": "2.0.0",
      "model_name": "LayoutModel",
      "state": {}
     },
     "dac4ccea9f6942d49faa0bbe9199dd65": {
      "model_module": "@jupyter-widgets/controls",
      "model_module_version": "2.0.0",
      "model_name": "HTMLStyleModel",
      "state": {
       "description_width": "",
       "font_size": null,
       "text_color": null
      }
     },
     "db8697312432497ebe71f33d32fb3deb": {
      "model_module": "@jupyter-widgets/controls",
      "model_module_version": "2.0.0",
      "model_name": "HTMLStyleModel",
      "state": {
       "description_width": "",
       "font_size": null,
       "text_color": null
      }
     },
     "db941b531f6e4d6b87415b3ad5064c74": {
      "model_module": "@jupyter-widgets/controls",
      "model_module_version": "2.0.0",
      "model_name": "HTMLStyleModel",
      "state": {
       "description_width": "",
       "font_size": null,
       "text_color": null
      }
     },
     "dbb14a8fcad9411d8143965c7cf64dc2": {
      "model_module": "@jupyter-widgets/controls",
      "model_module_version": "2.0.0",
      "model_name": "HTMLStyleModel",
      "state": {
       "description_width": "",
       "font_size": null,
       "text_color": null
      }
     },
     "dd05edf926c842899e515a8c37ca3600": {
      "model_module": "@jupyter-widgets/base",
      "model_module_version": "2.0.0",
      "model_name": "LayoutModel",
      "state": {
       "flex": "2"
      }
     },
     "dddae68028e54e488e67f8773fcef935": {
      "model_module": "@jupyter-widgets/base",
      "model_module_version": "2.0.0",
      "model_name": "LayoutModel",
      "state": {
       "display": "inline-flex",
       "flex_flow": "row wrap",
       "visibility": "hidden",
       "width": "100%"
      }
     },
     "debe2e21b67e461b94c71e558498691b": {
      "model_module": "@jupyter-widgets/controls",
      "model_module_version": "2.0.0",
      "model_name": "HTMLModel",
      "state": {
       "layout": "IPY_MODEL_840d31ee993447baa95e98121f5193d0",
       "style": "IPY_MODEL_b342bbed23e94130b36a81dcd9091a89",
       "value": "Validation DataLoader 0: 100%"
      }
     },
     "df701473f3004542b0ef13449437a557": {
      "model_module": "@jupyter-widgets/controls",
      "model_module_version": "2.0.0",
      "model_name": "ProgressStyleModel",
      "state": {
       "description_width": ""
      }
     },
     "df9dc84efbb04a9db9854edf7ade20f0": {
      "model_module": "@jupyter-widgets/base",
      "model_module_version": "2.0.0",
      "model_name": "LayoutModel",
      "state": {}
     },
     "e173c98b33cd4fbcba3444f61a4ee1eb": {
      "model_module": "@jupyter-widgets/base",
      "model_module_version": "2.0.0",
      "model_name": "LayoutModel",
      "state": {
       "flex": "2"
      }
     },
     "e21fca23b83148eda5d0cf76e7e7e266": {
      "model_module": "@jupyter-widgets/controls",
      "model_module_version": "2.0.0",
      "model_name": "HTMLStyleModel",
      "state": {
       "description_width": "",
       "font_size": null,
       "text_color": null
      }
     },
     "e231e020a9bf4cb496f9ecc61d7adc48": {
      "model_module": "@jupyter-widgets/controls",
      "model_module_version": "2.0.0",
      "model_name": "HTMLStyleModel",
      "state": {
       "description_width": "",
       "font_size": null,
       "text_color": null
      }
     },
     "e232469e77a84928b97f78eecfc6bbb6": {
      "model_module": "@jupyter-widgets/controls",
      "model_module_version": "2.0.0",
      "model_name": "HTMLStyleModel",
      "state": {
       "description_width": "",
       "font_size": null,
       "text_color": null
      }
     },
     "e23814d656ff4ecdaddf40f2b6775de4": {
      "model_module": "@jupyter-widgets/controls",
      "model_module_version": "2.0.0",
      "model_name": "FloatProgressModel",
      "state": {
       "bar_style": "success",
       "layout": "IPY_MODEL_ad3a05a145fe4e27a02b7847733e929a",
       "max": 63,
       "style": "IPY_MODEL_8518d6c71bac4128b4878f9a88fa6043",
       "value": 63
      }
     },
     "e257995956b8421f86d7e13d23e815f6": {
      "model_module": "@jupyter-widgets/controls",
      "model_module_version": "2.0.0",
      "model_name": "ProgressStyleModel",
      "state": {
       "description_width": ""
      }
     },
     "e2c0d38b4ca845819743764eae108549": {
      "model_module": "@jupyter-widgets/controls",
      "model_module_version": "2.0.0",
      "model_name": "ProgressStyleModel",
      "state": {
       "description_width": ""
      }
     },
     "e2fe0f2f61f8497783d689d0254aebfa": {
      "model_module": "@jupyter-widgets/base",
      "model_module_version": "2.0.0",
      "model_name": "LayoutModel",
      "state": {
       "flex": "2"
      }
     },
     "e2fe1b447038487699d1b9ccca2ddc71": {
      "model_module": "@jupyter-widgets/controls",
      "model_module_version": "2.0.0",
      "model_name": "HBoxModel",
      "state": {
       "children": [
        "IPY_MODEL_9bd76b945ebf4f73a0092f177e1cf7af",
        "IPY_MODEL_ee2f7cd0e2784bc5b3a2b47932c61e28",
        "IPY_MODEL_fa9af58b15174595b067432353abda3f"
       ],
       "layout": "IPY_MODEL_925aa64f8e98473e8e4e51b8f78602ab"
      }
     },
     "e4e64673e6d446a79a9ea04b05900051": {
      "model_module": "@jupyter-widgets/controls",
      "model_module_version": "2.0.0",
      "model_name": "ProgressStyleModel",
      "state": {
       "description_width": ""
      }
     },
     "e5ba13ea6bd64d95bab9ab05bd5255da": {
      "model_module": "@jupyter-widgets/base",
      "model_module_version": "2.0.0",
      "model_name": "LayoutModel",
      "state": {}
     },
     "e5f03e85968640c79139fcf6f82d1728": {
      "model_module": "@jupyter-widgets/base",
      "model_module_version": "2.0.0",
      "model_name": "LayoutModel",
      "state": {}
     },
     "e601d28e8bbe4defb2f11f1b10eb119a": {
      "model_module": "@jupyter-widgets/controls",
      "model_module_version": "2.0.0",
      "model_name": "HTMLStyleModel",
      "state": {
       "description_width": "",
       "font_size": null,
       "text_color": null
      }
     },
     "e7233d925b8f4785b93881ffc5bd26e8": {
      "model_module": "@jupyter-widgets/base",
      "model_module_version": "2.0.0",
      "model_name": "LayoutModel",
      "state": {}
     },
     "e75d25af194449df9e00a74493ac4295": {
      "model_module": "@jupyter-widgets/base",
      "model_module_version": "2.0.0",
      "model_name": "LayoutModel",
      "state": {}
     },
     "e7957bce564641f1a32e427611604fe6": {
      "model_module": "@jupyter-widgets/controls",
      "model_module_version": "2.0.0",
      "model_name": "HTMLStyleModel",
      "state": {
       "description_width": "",
       "font_size": null,
       "text_color": null
      }
     },
     "e7f104898ed1430390c0bc10526697d1": {
      "model_module": "@jupyter-widgets/base",
      "model_module_version": "2.0.0",
      "model_name": "LayoutModel",
      "state": {}
     },
     "e8652dd613dc4f0284b62e4225754af1": {
      "model_module": "@jupyter-widgets/controls",
      "model_module_version": "2.0.0",
      "model_name": "FloatProgressModel",
      "state": {
       "layout": "IPY_MODEL_27c0493a7099415a929ef7be9c86afa3",
       "max": 63,
       "style": "IPY_MODEL_54a5eee7e85a484597f1c442ad9692f7",
       "value": 63
      }
     },
     "e9d25b23fe494a6ba43f548097b86ce4": {
      "model_module": "@jupyter-widgets/base",
      "model_module_version": "2.0.0",
      "model_name": "LayoutModel",
      "state": {
       "flex": "2"
      }
     },
     "e9df7274e77f4c52b7af7d7e301ba885": {
      "model_module": "@jupyter-widgets/base",
      "model_module_version": "2.0.0",
      "model_name": "LayoutModel",
      "state": {
       "display": "inline-flex",
       "flex_flow": "row wrap",
       "visibility": "hidden",
       "width": "100%"
      }
     },
     "ea29c9efbe71429b8012a0de8bd83e29": {
      "model_module": "@jupyter-widgets/controls",
      "model_module_version": "2.0.0",
      "model_name": "FloatProgressModel",
      "state": {
       "layout": "IPY_MODEL_8e812a29dc784179a3384900d70ed70d",
       "max": 63,
       "style": "IPY_MODEL_72b6502de4de4420a9d13ec3340e53df",
       "value": 63
      }
     },
     "ead0a32eda0b4060b82a32739aa78330": {
      "model_module": "@jupyter-widgets/controls",
      "model_module_version": "2.0.0",
      "model_name": "HTMLStyleModel",
      "state": {
       "description_width": "",
       "font_size": null,
       "text_color": null
      }
     },
     "eb9488a1ade84832a1bf2e6ebb939798": {
      "model_module": "@jupyter-widgets/base",
      "model_module_version": "2.0.0",
      "model_name": "LayoutModel",
      "state": {
       "display": "inline-flex",
       "flex_flow": "row wrap",
       "width": "100%"
      }
     },
     "ec70c0bbc8e34a12a9d3435a9ee6d72b": {
      "model_module": "@jupyter-widgets/controls",
      "model_module_version": "2.0.0",
      "model_name": "ProgressStyleModel",
      "state": {
       "description_width": ""
      }
     },
     "ec8be0823e324536a35a18cff165d4e5": {
      "model_module": "@jupyter-widgets/controls",
      "model_module_version": "2.0.0",
      "model_name": "HTMLStyleModel",
      "state": {
       "description_width": "",
       "font_size": null,
       "text_color": null
      }
     },
     "ecb1177184b9453fa20859a507a11820": {
      "model_module": "@jupyter-widgets/controls",
      "model_module_version": "2.0.0",
      "model_name": "HTMLModel",
      "state": {
       "layout": "IPY_MODEL_5bb86a97aaba40348401d2d1aa14c929",
       "style": "IPY_MODEL_1bd38a8014624bfc91624b5a0c88c85d",
       "value": "Validation DataLoader 0: 100%"
      }
     },
     "ecd53b2c35784d15908cdcc72644c923": {
      "model_module": "@jupyter-widgets/base",
      "model_module_version": "2.0.0",
      "model_name": "LayoutModel",
      "state": {}
     },
     "ed395ad8560844c69197a8e1069b2f12": {
      "model_module": "@jupyter-widgets/base",
      "model_module_version": "2.0.0",
      "model_name": "LayoutModel",
      "state": {}
     },
     "ed3c35987e0a49699607423b8d7f50a0": {
      "model_module": "@jupyter-widgets/controls",
      "model_module_version": "2.0.0",
      "model_name": "HTMLStyleModel",
      "state": {
       "description_width": "",
       "font_size": null,
       "text_color": null
      }
     },
     "edf5976091e04611846fe923d53a34db": {
      "model_module": "@jupyter-widgets/controls",
      "model_module_version": "2.0.0",
      "model_name": "HTMLStyleModel",
      "state": {
       "description_width": "",
       "font_size": null,
       "text_color": null
      }
     },
     "ee2f7cd0e2784bc5b3a2b47932c61e28": {
      "model_module": "@jupyter-widgets/controls",
      "model_module_version": "2.0.0",
      "model_name": "FloatProgressModel",
      "state": {
       "bar_style": "success",
       "layout": "IPY_MODEL_9a9b6a6de93248a8aa4f2455989b91e2",
       "max": 63,
       "style": "IPY_MODEL_a2cf2160385d4f0b823c7217fe5fd958",
       "value": 63
      }
     },
     "ee406c6f58744ce6b0052eef78534173": {
      "model_module": "@jupyter-widgets/controls",
      "model_module_version": "2.0.0",
      "model_name": "HTMLStyleModel",
      "state": {
       "description_width": "",
       "font_size": null,
       "text_color": null
      }
     },
     "ef3c12a37c2d4c379305e44dd08fb3a5": {
      "model_module": "@jupyter-widgets/base",
      "model_module_version": "2.0.0",
      "model_name": "LayoutModel",
      "state": {
       "flex": "2"
      }
     },
     "ef78d56e9d1e4f3da20ab61e78bce87a": {
      "model_module": "@jupyter-widgets/controls",
      "model_module_version": "2.0.0",
      "model_name": "HTMLStyleModel",
      "state": {
       "description_width": "",
       "font_size": null,
       "text_color": null
      }
     },
     "f04fb6b862b14087b069ab6301860832": {
      "model_module": "@jupyter-widgets/controls",
      "model_module_version": "2.0.0",
      "model_name": "HTMLModel",
      "state": {
       "layout": "IPY_MODEL_94fa4c0f168f458d8f9ff382fba263b2",
       "style": "IPY_MODEL_26598b2b6b5c4cc0807e6e7617c16987",
       "value": "Validation DataLoader 0: 100%"
      }
     },
     "f0841604485947239c43508ba962d97b": {
      "model_module": "@jupyter-widgets/base",
      "model_module_version": "2.0.0",
      "model_name": "LayoutModel",
      "state": {
       "display": "inline-flex",
       "flex_flow": "row wrap",
       "visibility": "hidden",
       "width": "100%"
      }
     },
     "f0c704f8b40b48dfa3290466bdbf4a50": {
      "model_module": "@jupyter-widgets/base",
      "model_module_version": "2.0.0",
      "model_name": "LayoutModel",
      "state": {}
     },
     "f1bed2a4965a42e1a93210c15746b6d7": {
      "model_module": "@jupyter-widgets/base",
      "model_module_version": "2.0.0",
      "model_name": "LayoutModel",
      "state": {}
     },
     "f1d91f02982c4978b03f74aecd03ff37": {
      "model_module": "@jupyter-widgets/controls",
      "model_module_version": "2.0.0",
      "model_name": "HTMLModel",
      "state": {
       "layout": "IPY_MODEL_15d0726ab62b4b1aa27b6b0e5468b541",
       "style": "IPY_MODEL_5ab24488b26146018e6e4b7a9208c4df",
       "value": "Validation DataLoader 0: 100%"
      }
     },
     "f234bc797d1e4ff5a5fc974ca027bc5f": {
      "model_module": "@jupyter-widgets/controls",
      "model_module_version": "2.0.0",
      "model_name": "HTMLModel",
      "state": {
       "layout": "IPY_MODEL_cf159567071e4d70b4e6e1cc091ad551",
       "style": "IPY_MODEL_98188e37a76f4e69b332f4069be21907",
       "value": "Validation DataLoader 0: 100%"
      }
     },
     "f2b81c3afcae490abf29779ef77aa6b2": {
      "model_module": "@jupyter-widgets/controls",
      "model_module_version": "2.0.0",
      "model_name": "HTMLModel",
      "state": {
       "layout": "IPY_MODEL_caf96d52344f4097abe0d709c5d5333e",
       "style": "IPY_MODEL_e231e020a9bf4cb496f9ecc61d7adc48",
       "value": " 2/2 [00:00&lt;00:00, 144.35it/s]"
      }
     },
     "f2f931e2c1ae4dc2889ac0164d5c8b2d": {
      "model_module": "@jupyter-widgets/controls",
      "model_module_version": "2.0.0",
      "model_name": "ProgressStyleModel",
      "state": {
       "description_width": ""
      }
     },
     "f323167b0a1445829415e880fe75497d": {
      "model_module": "@jupyter-widgets/controls",
      "model_module_version": "2.0.0",
      "model_name": "HTMLStyleModel",
      "state": {
       "description_width": "",
       "font_size": null,
       "text_color": null
      }
     },
     "f34f2481ce0d482b8b4553751b9dfe26": {
      "model_module": "@jupyter-widgets/base",
      "model_module_version": "2.0.0",
      "model_name": "LayoutModel",
      "state": {}
     },
     "f4180201c2ff46819d4dfda0d6612f90": {
      "model_module": "@jupyter-widgets/controls",
      "model_module_version": "2.0.0",
      "model_name": "ProgressStyleModel",
      "state": {
       "description_width": ""
      }
     },
     "f4cf16184cb349a49191fabb75de1ea5": {
      "model_module": "@jupyter-widgets/controls",
      "model_module_version": "2.0.0",
      "model_name": "HTMLStyleModel",
      "state": {
       "description_width": "",
       "font_size": null,
       "text_color": null
      }
     },
     "f5293d57c898458183527cfa568731c3": {
      "model_module": "@jupyter-widgets/controls",
      "model_module_version": "2.0.0",
      "model_name": "HTMLStyleModel",
      "state": {
       "description_width": "",
       "font_size": null,
       "text_color": null
      }
     },
     "f561c627b1ae46819bea873b42e7e183": {
      "model_module": "@jupyter-widgets/controls",
      "model_module_version": "2.0.0",
      "model_name": "ProgressStyleModel",
      "state": {
       "description_width": ""
      }
     },
     "f607e2fddd1849f09b474fcdee9f6fff": {
      "model_module": "@jupyter-widgets/controls",
      "model_module_version": "2.0.0",
      "model_name": "FloatProgressModel",
      "state": {
       "layout": "IPY_MODEL_e9d25b23fe494a6ba43f548097b86ce4",
       "max": 63,
       "style": "IPY_MODEL_37ef94ea8b6045228d93d869d98f9348",
       "value": 63
      }
     },
     "f669da67d40c484590db42ca3ad2336f": {
      "model_module": "@jupyter-widgets/base",
      "model_module_version": "2.0.0",
      "model_name": "LayoutModel",
      "state": {}
     },
     "f686fb9403c54bc69d42a9732409ff98": {
      "model_module": "@jupyter-widgets/controls",
      "model_module_version": "2.0.0",
      "model_name": "ProgressStyleModel",
      "state": {
       "description_width": ""
      }
     },
     "f6a58a4849564ac4b909940b3caafd7e": {
      "model_module": "@jupyter-widgets/base",
      "model_module_version": "2.0.0",
      "model_name": "LayoutModel",
      "state": {
       "flex": "2"
      }
     },
     "f6db223338d940fe9fbc55814175ced6": {
      "model_module": "@jupyter-widgets/base",
      "model_module_version": "2.0.0",
      "model_name": "LayoutModel",
      "state": {}
     },
     "f74ea955e71c4a579adf004912d27d81": {
      "model_module": "@jupyter-widgets/controls",
      "model_module_version": "2.0.0",
      "model_name": "HTMLModel",
      "state": {
       "layout": "IPY_MODEL_8f130420da7a461ab6919043c2b620de",
       "style": "IPY_MODEL_54cad512210144619ed1e8bff16b4028",
       "value": " 63/63 [00:00&lt;00:00, 242.75it/s]"
      }
     },
     "f77a855bed154859ab070d92100d81c7": {
      "model_module": "@jupyter-widgets/base",
      "model_module_version": "2.0.0",
      "model_name": "LayoutModel",
      "state": {
       "display": "inline-flex",
       "flex_flow": "row wrap",
       "visibility": "hidden",
       "width": "100%"
      }
     },
     "f89a4a0539e5481791a180e9275a8326": {
      "model_module": "@jupyter-widgets/base",
      "model_module_version": "2.0.0",
      "model_name": "LayoutModel",
      "state": {}
     },
     "f8ad1a0c59704a13bfcc1613e65991cf": {
      "model_module": "@jupyter-widgets/controls",
      "model_module_version": "2.0.0",
      "model_name": "HTMLModel",
      "state": {
       "layout": "IPY_MODEL_7e1f523d08494b50bfa5c5b256a6b8d3",
       "style": "IPY_MODEL_ed3c35987e0a49699607423b8d7f50a0",
       "value": "Validation DataLoader 0: 100%"
      }
     },
     "f8c936c8fb1e4b0db0dc77971634f9bc": {
      "model_module": "@jupyter-widgets/controls",
      "model_module_version": "2.0.0",
      "model_name": "HTMLModel",
      "state": {
       "layout": "IPY_MODEL_b53801f1e3774dd684b9c40bbb3cfe6b",
       "style": "IPY_MODEL_e601d28e8bbe4defb2f11f1b10eb119a",
       "value": "Validation DataLoader 0: 100%"
      }
     },
     "f992167065ea4664a2b1b366dd2c8032": {
      "model_module": "@jupyter-widgets/controls",
      "model_module_version": "2.0.0",
      "model_name": "HTMLModel",
      "state": {
       "layout": "IPY_MODEL_fd7c50b37643490dbe0e0e6e23f08b84",
       "style": "IPY_MODEL_2466abc0f7094fd68a3dda9df72cdbcb",
       "value": "Validation DataLoader 0: 100%"
      }
     },
     "fa8be8630dbc4921b1f9aa86866c48bf": {
      "model_module": "@jupyter-widgets/controls",
      "model_module_version": "2.0.0",
      "model_name": "HTMLModel",
      "state": {
       "layout": "IPY_MODEL_2cd50da9b5b34d5a8d919adea5b0f844",
       "style": "IPY_MODEL_c429a2e4a1464c12a4197c09ce867630",
       "value": " 63/63 [00:00&lt;00:00, 268.62it/s]"
      }
     },
     "fa9af58b15174595b067432353abda3f": {
      "model_module": "@jupyter-widgets/controls",
      "model_module_version": "2.0.0",
      "model_name": "HTMLModel",
      "state": {
       "layout": "IPY_MODEL_a518247d579742679790b7d4de61770c",
       "style": "IPY_MODEL_2040693359284196ae7ba5f763e3651a",
       "value": " 63/63 [00:00&lt;00:00, 80.98it/s]"
      }
     },
     "fb3ad0be1b4e45729c702bee7de03b3b": {
      "model_module": "@jupyter-widgets/controls",
      "model_module_version": "2.0.0",
      "model_name": "HTMLModel",
      "state": {
       "layout": "IPY_MODEL_0193253e449e4666bb6b40af1d52c60a",
       "style": "IPY_MODEL_f323167b0a1445829415e880fe75497d",
       "value": " 63/63 [00:00&lt;00:00, 266.60it/s]"
      }
     },
     "fc5a0972057a4e7682b656398b041bf0": {
      "model_module": "@jupyter-widgets/base",
      "model_module_version": "2.0.0",
      "model_name": "LayoutModel",
      "state": {
       "display": "inline-flex",
       "flex_flow": "row wrap",
       "width": "100%"
      }
     },
     "fd5670455fc449bd8e5f78012686b08d": {
      "model_module": "@jupyter-widgets/base",
      "model_module_version": "2.0.0",
      "model_name": "LayoutModel",
      "state": {
       "flex": "2"
      }
     },
     "fd7c50b37643490dbe0e0e6e23f08b84": {
      "model_module": "@jupyter-widgets/base",
      "model_module_version": "2.0.0",
      "model_name": "LayoutModel",
      "state": {}
     },
     "fd99802f746745148923ff954559ba54": {
      "model_module": "@jupyter-widgets/controls",
      "model_module_version": "2.0.0",
      "model_name": "HTMLModel",
      "state": {
       "layout": "IPY_MODEL_38b6063281454e209277d369afb88991",
       "style": "IPY_MODEL_feb77c36e7bb4acf951ec53d8f0b67a7",
       "value": " 63/63 [00:00&lt;00:00, 252.60it/s]"
      }
     },
     "feb77c36e7bb4acf951ec53d8f0b67a7": {
      "model_module": "@jupyter-widgets/controls",
      "model_module_version": "2.0.0",
      "model_name": "HTMLStyleModel",
      "state": {
       "description_width": "",
       "font_size": null,
       "text_color": null
      }
     },
     "ff7655f50a2a4b8687be8a3d10aaba36": {
      "model_module": "@jupyter-widgets/base",
      "model_module_version": "2.0.0",
      "model_name": "LayoutModel",
      "state": {}
     },
     "ffbc3dae65314337945a064b728cc4a7": {
      "model_module": "@jupyter-widgets/base",
      "model_module_version": "2.0.0",
      "model_name": "LayoutModel",
      "state": {
       "flex": "2"
      }
     },
     "fffa829da1874d468339c99291e9b914": {
      "model_module": "@jupyter-widgets/base",
      "model_module_version": "2.0.0",
      "model_name": "LayoutModel",
      "state": {
       "flex": "2"
      }
     },
     "ffff7a1d3960412382e0867873d8e489": {
      "model_module": "@jupyter-widgets/controls",
      "model_module_version": "2.0.0",
      "model_name": "HTMLStyleModel",
      "state": {
       "description_width": "",
       "font_size": null,
       "text_color": null
      }
     }
    },
    "version_major": 2,
    "version_minor": 0
   }
  }
 },
 "nbformat": 4,
 "nbformat_minor": 4
}
