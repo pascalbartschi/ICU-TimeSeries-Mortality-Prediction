{
 "cells": [
  {
   "cell_type": "code",
   "execution_count": 3,
   "id": "92d359c4-d101-4703-a0ea-350cf9cfcaad",
   "metadata": {},
   "outputs": [],
   "source": [
    "import os\n",
    "import numpy as np\n",
    "import pandas as pd\n",
    "from pathlib import Path\n",
    "from tqdm.notebook import tqdm\n"
   ]
  },
  {
   "cell_type": "code",
   "execution_count": 37,
   "id": "fac3c72f-55b1-4339-8384-66998bd7121a",
   "metadata": {},
   "outputs": [],
   "source": [
    "# 1.1 Data Transformation\n",
    "\n",
    "def process_patient_file(file_path):\n",
    "    \"\"\"\n",
    "    Reads and processes a single patient file.\n",
    "    Returns a DataFrame with a regular 48-hour time grid.\n",
    "    \"\"\"\n",
    "    # print(file_path)\n",
    "    df = pd.read_csv(file_path)\n",
    "    \n",
    "    # Convert time format \"HH:MM\" to minutes\n",
    "    df[\"Time\"] = df[\"Time\"].apply(lambda t: int(t.split(\":\")[0]) * 60 + int(t.split(\":\")[1]))\n",
    "\n",
    "    # print(df[df.duplicated(subset=[\"Time\", \"Parameter\"], keep=False)])\n",
    "\n",
    "    df.drop_duplicates(subset=[\"Time\", \"Parameter\"], keep=\"last\", inplace=True) # TODO: rethink this step\n",
    "\n",
    "    # Extract PatientID\n",
    "    patient_id = df[df[\"Parameter\"] == \"RecordID\"][\"Value\"].values[0]\n",
    "    \n",
    "    # Extract static variables (recorded at 00:00)\n",
    "    static_vars = df[df[\"Time\"] == 0]\n",
    "    static_data = static_vars[static_vars[\"Parameter\"].isin([\"Age\", \"Gender\", \"Height\", \"ICUType\"])]\n",
    "    static_dict = {row[\"Parameter\"]: row[\"Value\"] for _, row in static_data.iterrows()}\n",
    "    \n",
    "    # Extract time-series variables\n",
    "    time_series_df = df[df[\"Parameter\"].isin([\"Age\", \"Gender\", \"Height\", \"ICUType\"]) == False]\n",
    "\n",
    "    time_series_df.reset_index(inplace = True, drop = True)\n",
    "\n",
    "    # print(time_series_df[time_series_df.duplicated(subset=[\"Time\", \"Parameter\"], keep=False)])\n",
    "\n",
    "    # print(time_series_df.head(100))\n",
    "    \n",
    "    # Pivot table to have columns as variables, rows as time steps\n",
    "    time_series_df = time_series_df.pivot(index=\"Time\", columns=\"Parameter\", values=\"Value\").reset_index()\n",
    "    \n",
    "    # Resample to hourly grid (from 0 to 2880 minutes)\n",
    "    time_series_df = time_series_df.set_index(\"Time\").reindex(range(0, 2881, 60)).interpolate().reset_index()\n",
    "    \n",
    "    # Rename time column to hours (from 0 to 48)\n",
    "    time_series_df[\"Time\"] = (time_series_df[\"Time\"] // 60) + 1 # TODO double check this solution to rounding up time\n",
    "    \n",
    "    # Add static variables\n",
    "    for key, value in static_dict.items():\n",
    "        time_series_df[key] = value\n",
    "    \n",
    "    # Add PatientID\n",
    "    time_series_df[\"PatientID\"] = patient_id\n",
    "\n",
    "    return time_series_df\n",
    "\n",
    "def process_dataset(set_folder):\n",
    "    \"\"\"\n",
    "    Process all patient files in a given set (set-a, set-b, set-c).\n",
    "    Returns a DataFrame for the entire dataset.\n",
    "    \"\"\"\n",
    "    files = list(Path(set_folder).glob(\"*.txt\"))\n",
    "    all_data = []\n",
    "    for f in tqdm(range(len(files))):\n",
    "        all_data.append(process_patient_file(files[f]))\n",
    "        \n",
    "    \n",
    "    return pd.concat(all_data, ignore_index=True)\n",
    "\n",
    "def main(data_path):\n",
    "    \"\"\"\n",
    "    Main function to process each dataset (set-a, set-b, set-c) and save them as .parquet files. In \n",
    "    \"\"\"\n",
    "    # for set_name in [\"set-a\", \"set-b\", \"set-c\"]:\n",
    "    #     set_path = os.path.join(data_path, set_name)\n",
    "    #     print(f\"Processing {set_name}...\")\n",
    "    #     df = process_dataset(set_path)\n",
    "    #     save_path = \"/\".join(os.getcwd().split(\"/\")[:-2] + [\"data\"]) # move two dirs out and into data (writable)\n",
    "    #     parquet_file = os.path.join(save_path, f\"{set_name}.parquet\")\n",
    "    #     df.to_parquet(parquet_file, engine=\"pyarrow\")\n",
    "    #     print(f\"Saved {set_name} to {parquet_file}\")\n",
    "\n",
    "    for file_path in list(Path(data_path).glob(\"*.txt\")):\n",
    "        save_path = \"/\".join(os.getcwd().split(\"/\")[:-2] + [\"data/\"]) + str(file_path).split(\"/\")[-1].split(\".\")[0] + \".parquet\"\n",
    "        pd.read_csv(file_path)[[\"RecordID\", \"In-hospital_death\"]].to_parquet(save_path, engine=\"pyarrow\")\n",
    "        \n",
    "        # break\n",
    "        \n",
    "        \n",
    "\n",
    "# Example usage\n",
    "data_directory = \"../../../ml4h_data/p1\"\n",
    "main(data_directory)\n"
   ]
  },
  {
   "cell_type": "code",
   "execution_count": null,
   "id": "a03407c8-ca51-4ea7-87d4-88981756a494",
   "metadata": {},
   "outputs": [],
   "source": []
  },
  {
   "cell_type": "code",
   "execution_count": 30,
   "id": "6c0ab298-692c-45e6-8e7d-7aae530e3624",
   "metadata": {},
   "outputs": [
    {
     "data": {
      "text/plain": [
       "1"
      ]
     },
     "execution_count": 30,
     "metadata": {},
     "output_type": "execute_result"
    }
   ],
   "source": [
    "5//60 + 1"
   ]
  },
  {
   "cell_type": "code",
   "execution_count": null,
   "id": "a716849f-e912-48ad-be75-acb4eb7f6007",
   "metadata": {},
   "outputs": [],
   "source": []
  }
 ],
 "metadata": {
  "kernelspec": {
   "display_name": "Python 3 (ipykernel)",
   "language": "python",
   "name": "python3"
  },
  "language_info": {
   "codemirror_mode": {
    "name": "ipython",
    "version": 3
   },
   "file_extension": ".py",
   "mimetype": "text/x-python",
   "name": "python",
   "nbconvert_exporter": "python",
   "pygments_lexer": "ipython3",
   "version": "3.12.3"
  },
  "widgets": {
   "application/vnd.jupyter.widget-state+json": {
    "state": {},
    "version_major": 2,
    "version_minor": 0
   }
  }
 },
 "nbformat": 4,
 "nbformat_minor": 5
}
