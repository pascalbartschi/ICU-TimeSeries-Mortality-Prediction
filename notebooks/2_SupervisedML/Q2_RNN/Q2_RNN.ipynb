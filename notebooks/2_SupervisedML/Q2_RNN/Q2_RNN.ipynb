{
 "cells": [
  {
   "cell_type": "markdown",
   "metadata": {},
   "source": [
    "# RNN\n",
    "\n",
    "## Lib and Data Loading"
   ]
  },
  {
   "cell_type": "code",
   "execution_count": 1,
   "metadata": {},
   "outputs": [],
   "source": [
    "import numpy as np\n",
    "import pandas as pd\n",
    "from sklearn.model_selection import train_test_split\n",
    "from sklearn.preprocessing import StandardScaler\n",
    "from sklearn.metrics import (\n",
    "    confusion_matrix,\n",
    "    roc_auc_score,\n",
    "    average_precision_score,\n",
    "    RocCurveDisplay,\n",
    "    PrecisionRecallDisplay,\n",
    "    ConfusionMatrixDisplay\n",
    ")\n",
    "import torch\n",
    "import torch.nn as nn\n",
    "import pytorch_lightning as pl\n",
    "from torch.utils.data import DataLoader, TensorDataset\n",
    "from pytorch_lightning.callbacks import EarlyStopping, LearningRateMonitor, ModelCheckpoint\n",
    "import torchmetrics\n",
    "\n",
    "import os\n",
    "from glob import glob\n",
    "from pathlib import Path\n",
    "from tqdm.notebook import tqdm\n",
    "import ipywidgets as widgets\n",
    "from IPython.display import display, clear_output\n",
    "from matplotlib import pyplot as plt\n",
    "\n",
    "# override all pandas display limits\n",
    "pd.options.display.max_columns = None\n",
    "pd.options.display.max_rows = None\n",
    "\n"
   ]
  },
  {
   "cell_type": "code",
   "execution_count": 2,
   "metadata": {},
   "outputs": [
    {
     "name": "stdout",
     "output_type": "stream",
     "text": [
      "Reading /home/pbaertschi/ICU-TimeSeries-Mortality-Prediction/notebooks/2_SupervisedML/Q2_RNN/../../../data/set-a-filled.parquet -> set_a_filled\n",
      "Reading /home/pbaertschi/ICU-TimeSeries-Mortality-Prediction/notebooks/2_SupervisedML/Q2_RNN/../../../data/set-b.parquet -> set_b\n",
      "Reading /home/pbaertschi/ICU-TimeSeries-Mortality-Prediction/notebooks/2_SupervisedML/Q2_RNN/../../../data/set-a.parquet -> set_a\n",
      "Reading /home/pbaertschi/ICU-TimeSeries-Mortality-Prediction/notebooks/2_SupervisedML/Q2_RNN/../../../data/set-c-filled.parquet -> set_c_filled\n",
      "Reading /home/pbaertschi/ICU-TimeSeries-Mortality-Prediction/notebooks/2_SupervisedML/Q2_RNN/../../../data/set-c.parquet -> set_c\n",
      "Reading /home/pbaertschi/ICU-TimeSeries-Mortality-Prediction/notebooks/2_SupervisedML/Q2_RNN/../../../data/set-b-filled.parquet -> set_b_filled\n"
     ]
    }
   ],
   "source": [
    "# load parquet files\n",
    "data_path = Path(\"../../../data\")\n",
    "notebooks_path = Path(os.getcwd())\n",
    "data_dir = {}\n",
    "\n",
    "##unsafe\n",
    "# for file_path in list((notebooks_path / data_path).glob(\"*.parquet\")):\n",
    "#     print(f\"Reading {file_path}\")\n",
    "#     # retrieve the name of the file without the extension for all OS\n",
    "#     data = pd.read_parquet(file_path)\n",
    "#     # if \"Time\" in df.columns:\n",
    "#     #     df[\"Time\"] = pd.to_datetime(df[\"Time\"])\n",
    "#     data_dir[str(file_path).replace(\"\\\\\", \"/\").split(\"/\")[-1].split(\".\")[0].replace(\"-\", \"_\")] = data\n",
    "\n",
    "for file_path in (notebooks_path / data_path).glob(\"set*.parquet\"):\n",
    "    var_name = file_path.stem.replace(\"-\", \"_\")\n",
    "    globals()[var_name] = pd.read_parquet(file_path)\n",
    "    print(f\"Reading {file_path} -> {var_name}\")\n",
    "\n",
    "\n",
    "ID_vars = [\"PatientID\", \"Time\", \"RecordID\"]\n",
    "# stationary variables\n",
    "stationary_vars = [\"Age\", \"Gender\", \"Height\", \"ICUType\"]\n",
    "# dynamic variables\n",
    "dynamic_vars = set_a.columns.difference(stationary_vars + ID_vars).tolist()\n"
   ]
  },
  {
   "cell_type": "markdown",
   "metadata": {},
   "source": [
    "## Preprocess Data Shape"
   ]
  },
  {
   "cell_type": "code",
   "execution_count": 3,
   "metadata": {},
   "outputs": [],
   "source": [
    "class TimeSeriesDataModule(pl.LightningDataModule):\n",
    "    def __init__(\n",
    "        self,\n",
    "        feature_cols,\n",
    "        batch_size=32\n",
    "    ):\n",
    "        super().__init__()\n",
    "        self.feature_cols = feature_cols\n",
    "        self.batch_size = batch_size\n",
    "\n",
    "    def preprocess_parquet_for_lstm(self, key):\n",
    "        labelname = 'In-hospital_death'\n",
    "        df = globals()[f\"set_{key}_filled\"].copy()\n",
    "    \n",
    "        # Group by patient\n",
    "        X = []\n",
    "        y = []\n",
    "        for pid, group in df.groupby(\"RecordID\"):\n",
    "            group = group.sort_values(\"Time\")\n",
    "            group.fillna(0, inplace=True)\n",
    "    \n",
    "            X.append(group[self.feature_cols].values)\n",
    "            # Take the label from the first row (same for all timepoints)\n",
    "            y.append(group[labelname].iloc[0])\n",
    "    \n",
    "        X_tensor = torch.tensor(np.stack(X)).float()  # (n_patients, seq_len, n_features)\n",
    "        y_tensor = torch.tensor(y).float()            # (n_patients,)\n",
    "    \n",
    "        return X_tensor, y_tensor\n",
    "\n",
    "\n",
    "    def setup(self, stage=None):\n",
    "        self.X_train, self.y_train = self.preprocess_parquet_for_lstm(\"a\")\n",
    "        self.X_val, self.y_val     = self.preprocess_parquet_for_lstm(\"b\")\n",
    "        self.X_test, self.y_test   = self.preprocess_parquet_for_lstm(\"c\")\n",
    "\n",
    "        self.train_dataset = TensorDataset(self.X_train, self.y_train)\n",
    "        self.val_dataset   = TensorDataset(self.X_val, self.y_val)\n",
    "        self.test_dataset  = TensorDataset(self.X_test, self.y_test)\n",
    "\n",
    "    def train_dataloader(self):\n",
    "        return DataLoader(self.train_dataset, batch_size=self.batch_size, shuffle=True)\n",
    "\n",
    "    def val_dataloader(self):\n",
    "        return DataLoader(self.val_dataset, batch_size=self.batch_size)\n",
    "\n",
    "    def test_dataloader(self):\n",
    "        return DataLoader(self.test_dataset, batch_size=self.batch_size)\n",
    "\n"
   ]
  },
  {
   "cell_type": "markdown",
   "metadata": {},
   "source": [
    "## LSTM Model Class"
   ]
  },
  {
   "cell_type": "code",
   "execution_count": 4,
   "metadata": {},
   "outputs": [],
   "source": [
    "class LSTMClassifier(pl.LightningModule):\n",
    "    def __init__(self, input_size, hidden_size=64, num_layers=1, lr=1e-3):\n",
    "        super().__init__()\n",
    "        self.save_hyperparameters()\n",
    "        self.lr = lr\n",
    "\n",
    "        self.lstm = nn.LSTM(input_size=input_size, hidden_size=hidden_size, num_layers=num_layers, batch_first=True)\n",
    "        self.classifier = nn.Linear(hidden_size, 1)\n",
    "        self.loss_fn = nn.BCEWithLogitsLoss()\n",
    "\n",
    "        # Store test outputs manually\n",
    "        self.test_probs = []\n",
    "        self.test_targets = []\n",
    "\n",
    "        # Prediction threshold\n",
    "        self.prediction_threshold = 0.5\n",
    "        self.clear_after_testing = False\n",
    "\n",
    "    def forward(self, x):\n",
    "        # Run input through the LSTM\n",
    "        _, (hidden_state, _) = self.lstm(x)  # lstm_output, (hidden_state, cell_state)\n",
    "\n",
    "        # Take the last layer's hidden state (for stacked LSTM)\n",
    "        last_hidden = hidden_state[-1]  # shape: (batch_size, hidden_dim)\n",
    "\n",
    "        # Pass through the classification head\n",
    "        logits = self.classifier(last_hidden)\n",
    "\n",
    "        return logits\n",
    "\n",
    "    def training_step(self, batch, batch_idx):\n",
    "        x, y = batch\n",
    "        logits = self(x).squeeze(1)\n",
    "        loss = self.loss_fn(logits, y.float())\n",
    "        self.log(\"train_loss\", loss, prog_bar=True)\n",
    "        return loss\n",
    "\n",
    "    def validation_step(self, batch, batch_idx):\n",
    "        x, y = batch\n",
    "        logits = self(x).squeeze(1)\n",
    "        loss = self.loss_fn(logits, y.float())\n",
    "        preds = torch.sigmoid(logits) > 0.5\n",
    "        acc = (preds.int() == y).float().mean()\n",
    "        self.log(\"val_loss\", loss, prog_bar=True)\n",
    "        self.log(\"val_acc\", acc, prog_bar=True)\n",
    "        return loss\n",
    "        \n",
    "\n",
    "    def test_step(self, batch, batch_idx):\n",
    "        x, y = batch\n",
    "        logits = self(x).squeeze(1)\n",
    "        probs = torch.sigmoid(logits)\n",
    "        loss = self.loss_fn(logits, y.float())\n",
    "\n",
    "        self.log(\"test_loss\", loss)\n",
    "\n",
    "        # Store results for epoch-end metrics\n",
    "        self.test_probs.append(probs.detach().cpu())\n",
    "        self.test_targets.append(y.detach().cpu())\n",
    "\n",
    "        return loss  # or None — you’re not using batch outputs anymore\n",
    "\n",
    "    def on_test_epoch_end(self):\n",
    "            probs = torch.cat(self.test_probs).cpu()\n",
    "            targets = torch.cat(self.test_targets).cpu()\n",
    "            preds = (probs > 0.5).int()\n",
    "\n",
    "            if self.clear_after_testing: \n",
    "                self.test_probs.clear()\n",
    "                self.test_targets.clear()\n",
    "    \n",
    "            # --- Confusion Matrix ---\n",
    "            cm = confusion_matrix(targets, preds)\n",
    "            disp_cm = ConfusionMatrixDisplay(confusion_matrix=cm)\n",
    "            disp_cm.plot(cmap='Blues')\n",
    "            plt.title(\"Confusion Matrix\")\n",
    "            plt.show()\n",
    "    \n",
    "            # --- ROC Curve ---\n",
    "            auc = roc_auc_score(targets, probs)\n",
    "            RocCurveDisplay.from_predictions(targets, probs)\n",
    "            plt.title(f\"ROC Curve (AuROC = {auc:.3f})\")\n",
    "            plt.show()\n",
    "    \n",
    "            # --- Precision-Recall Curve ---\n",
    "            auprc = average_precision_score(targets, probs)\n",
    "            PrecisionRecallDisplay.from_predictions(targets, probs)\n",
    "            plt.title(f\"Precision-Recall Curve (AuPRC = {auprc:.3f})\")\n",
    "            plt.show()\n",
    "    \n",
    "            # --- Metrics ---\n",
    "            acc = (preds == targets).float().mean()\n",
    "            self.log(\"test_acc\", acc)\n",
    "            self.log(\"test_auroc\", auc)\n",
    "            self.log(\"test_auprc\", auprc)\n",
    "    \n",
    "            print(f\"\\nTest Accuracy : {acc:.4f}\")\n",
    "            print(f\"Test AuROC    : {auc:.4f}\")\n",
    "            print(f\"Test AuPRC    : {auprc:.4f}\")\n",
    "\n",
    "\n",
    "    def configure_optimizers(self):\n",
    "        optimizer = torch.optim.Adam(self.parameters(), lr=self.lr)\n",
    "        scheduler = {\n",
    "            'scheduler': torch.optim.lr_scheduler.ReduceLROnPlateau(optimizer, mode='min', patience=3, factor=0.5, verbose=True),\n",
    "            'monitor': 'val_loss',\n",
    "            'interval': 'epoch',\n",
    "            'frequency': 1\n",
    "        }\n",
    "        return {\"optimizer\": optimizer, \"lr_scheduler\": scheduler}\n",
    "\n",
    "    def tune_threshold_min_fnr(self):\n",
    "        \"\"\"\n",
    "        Find the classification threshold that minimizes the False Negative Rate (FNR)\n",
    "        and store it in self.prediction_threshold.\n",
    "    \n",
    "        Returns:\n",
    "            best_thresh (float): Threshold with the lowest FNR\n",
    "            best_fnr (float): Lowest observed FNR\n",
    "            thresholds (np.ndarray): Array of tested thresholds\n",
    "            fnrs (List[float]): FNRs corresponding to each threshold\n",
    "        \"\"\"\n",
    "    \n",
    "        assert hasattr(self, \"test_probs\") and hasattr(self, \"test_targets\"), \\\n",
    "            \"test_probs and test_targets must be defined (run test first).\"\n",
    "    \n",
    "        probs = torch.cat(self.test_probs).cpu().numpy()\n",
    "        targets = torch.cat(self.test_targets).cpu().numpy()\n",
    "    \n",
    "        thresholds = np.linspace(0, 1, 100)\n",
    "        best_thresh = 0.5\n",
    "        best_fnr = 1.0\n",
    "        fnrs = []\n",
    "    \n",
    "        for t in tqdm(thresholds):\n",
    "            preds = (probs >= t).astype(int)\n",
    "            tn, fp, fn, tp = confusion_matrix(targets, preds).ravel()\n",
    "            fnr = fn / (fn + tp) if (fn + tp) > 0 else 1.0\n",
    "            fnrs.append(fnr)\n",
    "    \n",
    "            if fnr < best_fnr:\n",
    "                best_fnr = fnr\n",
    "                best_thresh = t\n",
    "    \n",
    "        self.prediction_threshold = best_thresh\n",
    "    \n",
    "        return best_thresh, best_fnr, thresholds, fnrs"
   ]
  },
  {
   "cell_type": "code",
   "execution_count": 5,
   "metadata": {},
   "outputs": [
    {
     "name": "stderr",
     "output_type": "stream",
     "text": [
      "GPU available: True (cuda), used: True\n",
      "TPU available: False, using: 0 TPU cores\n",
      "HPU available: False, using: 0 HPUs\n"
     ]
    }
   ],
   "source": [
    "# Callbacks for trainer\n",
    "early_stop_callback = EarlyStopping(monitor='val_loss', patience=10, verbose=True, mode='min')\n",
    "lr_monitor = LearningRateMonitor(logging_interval='epoch')\n",
    "checkpoint_callback = ModelCheckpoint(monitor='val_loss', mode='min', save_top_k=1, verbose=True, filename='best-checkpoint')\n",
    "\n",
    "# Instantiate\n",
    "feature_cols = dynamic_vars + stationary_vars\n",
    "datamodule = TimeSeriesDataModule(feature_cols=feature_cols, batch_size=64)\n",
    "model = LSTMClassifier(input_size=len(feature_cols), hidden_size=64, num_layers=2)\n",
    "\n",
    "# Trainer\n",
    "trainer = pl.Trainer(\n",
    "    max_epochs=20,\n",
    "    callbacks=[early_stop_callback, lr_monitor, checkpoint_callback],\n",
    "    log_every_n_steps=10,\n",
    "    accelerator=\"auto\",\n",
    "    devices=\"auto\"\n",
    ")"
   ]
  },
  {
   "cell_type": "markdown",
   "metadata": {},
   "source": [
    "## Training"
   ]
  },
  {
   "cell_type": "code",
   "execution_count": 9,
   "metadata": {},
   "outputs": [
    {
     "name": "stderr",
     "output_type": "stream",
     "text": [
      "LOCAL_RANK: 0 - CUDA_VISIBLE_DEVICES: [0]\n",
      "\n",
      "  | Name       | Type              | Params | Mode \n",
      "---------------------------------------------------------\n",
      "0 | lstm       | LSTM              | 60.9 K | train\n",
      "1 | classifier | Linear            | 65     | train\n",
      "2 | loss_fn    | BCEWithLogitsLoss | 0      | train\n",
      "---------------------------------------------------------\n",
      "61.0 K    Trainable params\n",
      "0         Non-trainable params\n",
      "61.0 K    Total params\n",
      "0.244     Total estimated model params size (MB)\n",
      "3         Modules in train mode\n",
      "0         Modules in eval mode\n",
      "SLURM auto-requeueing enabled. Setting signal handlers.\n"
     ]
    },
    {
     "data": {
      "application/vnd.jupyter.widget-view+json": {
       "model_id": "da39c04ee9b04c9cb7341b23aebb86b6",
       "version_major": 2,
       "version_minor": 0
      },
      "text/plain": [
       "Sanity Checking: |          | 0/? [00:00<?, ?it/s]"
      ]
     },
     "metadata": {},
     "output_type": "display_data"
    },
    {
     "data": {
      "application/vnd.jupyter.widget-view+json": {
       "model_id": "74555550dcbb4c2cba43d3af7f8e4be8",
       "version_major": 2,
       "version_minor": 0
      },
      "text/plain": [
       "Training: |          | 0/? [00:00<?, ?it/s]"
      ]
     },
     "metadata": {},
     "output_type": "display_data"
    },
    {
     "data": {
      "application/vnd.jupyter.widget-view+json": {
       "model_id": "8c1d5514eec8464386bfa61f3207d26c",
       "version_major": 2,
       "version_minor": 0
      },
      "text/plain": [
       "Validation: |          | 0/? [00:00<?, ?it/s]"
      ]
     },
     "metadata": {},
     "output_type": "display_data"
    },
    {
     "name": "stderr",
     "output_type": "stream",
     "text": [
      "Metric val_loss improved. New best score: 0.388\n",
      "Epoch 0, global step 63: 'val_loss' reached 0.38838 (best 0.38838), saving model to '/home/pbaertschi/ICU-TimeSeries-Mortality-Prediction/notebooks/2_SupervisedML/Q2_RNN/lightning_logs/version_12330/checkpoints/best-checkpoint.ckpt' as top 1\n"
     ]
    },
    {
     "data": {
      "application/vnd.jupyter.widget-view+json": {
       "model_id": "3d1d755dae744d4c8c04c06fe77b173b",
       "version_major": 2,
       "version_minor": 0
      },
      "text/plain": [
       "Validation: |          | 0/? [00:00<?, ?it/s]"
      ]
     },
     "metadata": {},
     "output_type": "display_data"
    },
    {
     "name": "stderr",
     "output_type": "stream",
     "text": [
      "Metric val_loss improved by 0.024 >= min_delta = 0.0. New best score: 0.364\n",
      "Epoch 1, global step 126: 'val_loss' reached 0.36420 (best 0.36420), saving model to '/home/pbaertschi/ICU-TimeSeries-Mortality-Prediction/notebooks/2_SupervisedML/Q2_RNN/lightning_logs/version_12330/checkpoints/best-checkpoint.ckpt' as top 1\n"
     ]
    },
    {
     "data": {
      "application/vnd.jupyter.widget-view+json": {
       "model_id": "44c6762edb90420a89d063eca588f300",
       "version_major": 2,
       "version_minor": 0
      },
      "text/plain": [
       "Validation: |          | 0/? [00:00<?, ?it/s]"
      ]
     },
     "metadata": {},
     "output_type": "display_data"
    },
    {
     "name": "stderr",
     "output_type": "stream",
     "text": [
      "Metric val_loss improved by 0.006 >= min_delta = 0.0. New best score: 0.358\n",
      "Epoch 2, global step 189: 'val_loss' reached 0.35808 (best 0.35808), saving model to '/home/pbaertschi/ICU-TimeSeries-Mortality-Prediction/notebooks/2_SupervisedML/Q2_RNN/lightning_logs/version_12330/checkpoints/best-checkpoint.ckpt' as top 1\n"
     ]
    },
    {
     "data": {
      "application/vnd.jupyter.widget-view+json": {
       "model_id": "91392611ad864d17b04535db3a35be6b",
       "version_major": 2,
       "version_minor": 0
      },
      "text/plain": [
       "Validation: |          | 0/? [00:00<?, ?it/s]"
      ]
     },
     "metadata": {},
     "output_type": "display_data"
    },
    {
     "name": "stderr",
     "output_type": "stream",
     "text": [
      "Epoch 3, global step 252: 'val_loss' was not in top 1\n"
     ]
    },
    {
     "data": {
      "application/vnd.jupyter.widget-view+json": {
       "model_id": "4e82f2253b324d5d9d85b38e3d0336c2",
       "version_major": 2,
       "version_minor": 0
      },
      "text/plain": [
       "Validation: |          | 0/? [00:00<?, ?it/s]"
      ]
     },
     "metadata": {},
     "output_type": "display_data"
    },
    {
     "name": "stderr",
     "output_type": "stream",
     "text": [
      "Metric val_loss improved by 0.002 >= min_delta = 0.0. New best score: 0.356\n",
      "Epoch 4, global step 315: 'val_loss' reached 0.35568 (best 0.35568), saving model to '/home/pbaertschi/ICU-TimeSeries-Mortality-Prediction/notebooks/2_SupervisedML/Q2_RNN/lightning_logs/version_12330/checkpoints/best-checkpoint.ckpt' as top 1\n"
     ]
    },
    {
     "data": {
      "application/vnd.jupyter.widget-view+json": {
       "model_id": "e937c47975224e32b4b2d584f9b172da",
       "version_major": 2,
       "version_minor": 0
      },
      "text/plain": [
       "Validation: |          | 0/? [00:00<?, ?it/s]"
      ]
     },
     "metadata": {},
     "output_type": "display_data"
    },
    {
     "name": "stderr",
     "output_type": "stream",
     "text": [
      "Epoch 5, global step 378: 'val_loss' was not in top 1\n"
     ]
    },
    {
     "data": {
      "application/vnd.jupyter.widget-view+json": {
       "model_id": "b1e53889956846f98fb99128fe59f7bf",
       "version_major": 2,
       "version_minor": 0
      },
      "text/plain": [
       "Validation: |          | 0/? [00:00<?, ?it/s]"
      ]
     },
     "metadata": {},
     "output_type": "display_data"
    },
    {
     "name": "stderr",
     "output_type": "stream",
     "text": [
      "Epoch 6, global step 441: 'val_loss' was not in top 1\n"
     ]
    },
    {
     "data": {
      "application/vnd.jupyter.widget-view+json": {
       "model_id": "d2ce075e8d474c08ba151d594a87d273",
       "version_major": 2,
       "version_minor": 0
      },
      "text/plain": [
       "Validation: |          | 0/? [00:00<?, ?it/s]"
      ]
     },
     "metadata": {},
     "output_type": "display_data"
    },
    {
     "name": "stderr",
     "output_type": "stream",
     "text": [
      "Epoch 7, global step 504: 'val_loss' was not in top 1\n"
     ]
    },
    {
     "data": {
      "application/vnd.jupyter.widget-view+json": {
       "model_id": "fcb11f0aac994f23b0548e31ab15630a",
       "version_major": 2,
       "version_minor": 0
      },
      "text/plain": [
       "Validation: |          | 0/? [00:00<?, ?it/s]"
      ]
     },
     "metadata": {},
     "output_type": "display_data"
    },
    {
     "name": "stderr",
     "output_type": "stream",
     "text": [
      "Metric val_loss improved by 0.011 >= min_delta = 0.0. New best score: 0.345\n",
      "Epoch 8, global step 567: 'val_loss' reached 0.34475 (best 0.34475), saving model to '/home/pbaertschi/ICU-TimeSeries-Mortality-Prediction/notebooks/2_SupervisedML/Q2_RNN/lightning_logs/version_12330/checkpoints/best-checkpoint.ckpt' as top 1\n"
     ]
    },
    {
     "data": {
      "application/vnd.jupyter.widget-view+json": {
       "model_id": "3da163cdb6a74750af174355b276421f",
       "version_major": 2,
       "version_minor": 0
      },
      "text/plain": [
       "Validation: |          | 0/? [00:00<?, ?it/s]"
      ]
     },
     "metadata": {},
     "output_type": "display_data"
    },
    {
     "name": "stderr",
     "output_type": "stream",
     "text": [
      "Epoch 9, global step 630: 'val_loss' was not in top 1\n"
     ]
    },
    {
     "data": {
      "application/vnd.jupyter.widget-view+json": {
       "model_id": "afe0129562a64a15888cb32a61bb360b",
       "version_major": 2,
       "version_minor": 0
      },
      "text/plain": [
       "Validation: |          | 0/? [00:00<?, ?it/s]"
      ]
     },
     "metadata": {},
     "output_type": "display_data"
    },
    {
     "name": "stderr",
     "output_type": "stream",
     "text": [
      "Epoch 10, global step 693: 'val_loss' was not in top 1\n"
     ]
    },
    {
     "data": {
      "application/vnd.jupyter.widget-view+json": {
       "model_id": "c06cddd2834d46d38eb06032094d966b",
       "version_major": 2,
       "version_minor": 0
      },
      "text/plain": [
       "Validation: |          | 0/? [00:00<?, ?it/s]"
      ]
     },
     "metadata": {},
     "output_type": "display_data"
    },
    {
     "name": "stderr",
     "output_type": "stream",
     "text": [
      "Metric val_loss improved by 0.000 >= min_delta = 0.0. New best score: 0.345\n",
      "Epoch 11, global step 756: 'val_loss' reached 0.34462 (best 0.34462), saving model to '/home/pbaertschi/ICU-TimeSeries-Mortality-Prediction/notebooks/2_SupervisedML/Q2_RNN/lightning_logs/version_12330/checkpoints/best-checkpoint.ckpt' as top 1\n"
     ]
    },
    {
     "data": {
      "application/vnd.jupyter.widget-view+json": {
       "model_id": "05b93f7c5820494394ac23dfebcc419f",
       "version_major": 2,
       "version_minor": 0
      },
      "text/plain": [
       "Validation: |          | 0/? [00:00<?, ?it/s]"
      ]
     },
     "metadata": {},
     "output_type": "display_data"
    },
    {
     "name": "stderr",
     "output_type": "stream",
     "text": [
      "Metric val_loss improved by 0.007 >= min_delta = 0.0. New best score: 0.338\n",
      "Epoch 12, global step 819: 'val_loss' reached 0.33793 (best 0.33793), saving model to '/home/pbaertschi/ICU-TimeSeries-Mortality-Prediction/notebooks/2_SupervisedML/Q2_RNN/lightning_logs/version_12330/checkpoints/best-checkpoint.ckpt' as top 1\n"
     ]
    },
    {
     "data": {
      "application/vnd.jupyter.widget-view+json": {
       "model_id": "e5bd104b171c4e5789a40b665215c606",
       "version_major": 2,
       "version_minor": 0
      },
      "text/plain": [
       "Validation: |          | 0/? [00:00<?, ?it/s]"
      ]
     },
     "metadata": {},
     "output_type": "display_data"
    },
    {
     "name": "stderr",
     "output_type": "stream",
     "text": [
      "Metric val_loss improved by 0.008 >= min_delta = 0.0. New best score: 0.330\n",
      "Epoch 13, global step 882: 'val_loss' reached 0.33005 (best 0.33005), saving model to '/home/pbaertschi/ICU-TimeSeries-Mortality-Prediction/notebooks/2_SupervisedML/Q2_RNN/lightning_logs/version_12330/checkpoints/best-checkpoint.ckpt' as top 1\n"
     ]
    },
    {
     "data": {
      "application/vnd.jupyter.widget-view+json": {
       "model_id": "f3a0facde7214bfca0da40b8f46919f3",
       "version_major": 2,
       "version_minor": 0
      },
      "text/plain": [
       "Validation: |          | 0/? [00:00<?, ?it/s]"
      ]
     },
     "metadata": {},
     "output_type": "display_data"
    },
    {
     "name": "stderr",
     "output_type": "stream",
     "text": [
      "Epoch 14, global step 945: 'val_loss' was not in top 1\n"
     ]
    },
    {
     "data": {
      "application/vnd.jupyter.widget-view+json": {
       "model_id": "fb72a163604b40e19f9982779a6d130c",
       "version_major": 2,
       "version_minor": 0
      },
      "text/plain": [
       "Validation: |          | 0/? [00:00<?, ?it/s]"
      ]
     },
     "metadata": {},
     "output_type": "display_data"
    },
    {
     "name": "stderr",
     "output_type": "stream",
     "text": [
      "Epoch 15, global step 1008: 'val_loss' was not in top 1\n"
     ]
    },
    {
     "data": {
      "application/vnd.jupyter.widget-view+json": {
       "model_id": "d249681625344e769e98d319a254511b",
       "version_major": 2,
       "version_minor": 0
      },
      "text/plain": [
       "Validation: |          | 0/? [00:00<?, ?it/s]"
      ]
     },
     "metadata": {},
     "output_type": "display_data"
    },
    {
     "name": "stderr",
     "output_type": "stream",
     "text": [
      "Metric val_loss improved by 0.003 >= min_delta = 0.0. New best score: 0.327\n",
      "Epoch 16, global step 1071: 'val_loss' reached 0.32674 (best 0.32674), saving model to '/home/pbaertschi/ICU-TimeSeries-Mortality-Prediction/notebooks/2_SupervisedML/Q2_RNN/lightning_logs/version_12330/checkpoints/best-checkpoint.ckpt' as top 1\n"
     ]
    },
    {
     "data": {
      "application/vnd.jupyter.widget-view+json": {
       "model_id": "75c3dddfc8cb4340ae9022620ffcebcd",
       "version_major": 2,
       "version_minor": 0
      },
      "text/plain": [
       "Validation: |          | 0/? [00:00<?, ?it/s]"
      ]
     },
     "metadata": {},
     "output_type": "display_data"
    },
    {
     "name": "stderr",
     "output_type": "stream",
     "text": [
      "Metric val_loss improved by 0.001 >= min_delta = 0.0. New best score: 0.325\n",
      "Epoch 17, global step 1134: 'val_loss' reached 0.32545 (best 0.32545), saving model to '/home/pbaertschi/ICU-TimeSeries-Mortality-Prediction/notebooks/2_SupervisedML/Q2_RNN/lightning_logs/version_12330/checkpoints/best-checkpoint.ckpt' as top 1\n"
     ]
    },
    {
     "data": {
      "application/vnd.jupyter.widget-view+json": {
       "model_id": "603521a808154879bb57be3968d5adb9",
       "version_major": 2,
       "version_minor": 0
      },
      "text/plain": [
       "Validation: |          | 0/? [00:00<?, ?it/s]"
      ]
     },
     "metadata": {},
     "output_type": "display_data"
    },
    {
     "name": "stderr",
     "output_type": "stream",
     "text": [
      "Epoch 18, global step 1197: 'val_loss' was not in top 1\n"
     ]
    },
    {
     "data": {
      "application/vnd.jupyter.widget-view+json": {
       "model_id": "2c0aa0a482e64a2cbec16c163f8f8f54",
       "version_major": 2,
       "version_minor": 0
      },
      "text/plain": [
       "Validation: |          | 0/? [00:00<?, ?it/s]"
      ]
     },
     "metadata": {},
     "output_type": "display_data"
    },
    {
     "name": "stderr",
     "output_type": "stream",
     "text": [
      "Metric val_loss improved by 0.007 >= min_delta = 0.0. New best score: 0.318\n",
      "Epoch 19, global step 1260: 'val_loss' reached 0.31810 (best 0.31810), saving model to '/home/pbaertschi/ICU-TimeSeries-Mortality-Prediction/notebooks/2_SupervisedML/Q2_RNN/lightning_logs/version_12330/checkpoints/best-checkpoint.ckpt' as top 1\n",
      "`Trainer.fit` stopped: `max_epochs=20` reached.\n"
     ]
    }
   ],
   "source": [
    "# Fit\n",
    "trainer.fit(model, datamodule=datamodule)"
   ]
  },
  {
   "cell_type": "markdown",
   "metadata": {},
   "source": [
    "## Testing"
   ]
  },
  {
   "cell_type": "code",
   "execution_count": 10,
   "metadata": {},
   "outputs": [
    {
     "name": "stdout",
     "output_type": "stream",
     "text": [
      "['lightning_logs/version_12330/checkpoints/best-checkpoint.ckpt']\n",
      "lightning_logs/version_12330/checkpoints/best-checkpoint.ckpt\n"
     ]
    },
    {
     "name": "stderr",
     "output_type": "stream",
     "text": [
      "LOCAL_RANK: 0 - CUDA_VISIBLE_DEVICES: [0]\n",
      "SLURM auto-requeueing enabled. Setting signal handlers.\n"
     ]
    },
    {
     "data": {
      "application/vnd.jupyter.widget-view+json": {
       "model_id": "3567558cccf4497c941a25e30477a2cc",
       "version_major": 2,
       "version_minor": 0
      },
      "text/plain": [
       "Testing: |          | 0/? [00:00<?, ?it/s]"
      ]
     },
     "metadata": {},
     "output_type": "display_data"
    },
    {
     "data": {
      "image/png": "[encoded data removed]",
      "text/plain": [
       "<Figure size 640x480 with 2 Axes>"
      ]
     },
     "metadata": {},
     "output_type": "display_data"
    },
    {
     "data": {
      "image/png": "[encoded data removed]",
      "text/plain": [
       "<Figure size 640x480 with 1 Axes>"
      ]
     },
     "metadata": {},
     "output_type": "display_data"
    },
    {
     "data": {
      "image/png": "[encoded data removed]",
      "text/plain": [
       "<Figure size 640x480 with 1 Axes>"
      ]
     },
     "metadata": {},
     "output_type": "display_data"
    },
    {
     "name": "stdout",
     "output_type": "stream",
     "text": [
      "\n",
      "Test Accuracy : 0.8652\n",
      "Test AuROC    : 0.8316\n",
      "Test AuPRC    : 0.4631\n"
     ]
    },
    {
     "data": {
      "text/html": [
       "<pre style=\"white-space:pre;overflow-x:auto;line-height:normal;font-family:Menlo,'DejaVu Sans Mono',consolas,'Courier New',monospace\">┏━━━━━━━━━━━━━━━━━━━━━━━━━━━┳━━━━━━━━━━━━━━━━━━━━━━━━━━━┓\n",
       "┃<span style=\"font-weight: bold\">        Test metric        </span>┃<span style=\"font-weight: bold\">       DataLoader 0        </span>┃\n",
       "┡━━━━━━━━━━━━━━━━━━━━━━━━━━━╇━━━━━━━━━━━━━━━━━━━━━━━━━━━┩\n",
       "│<span style=\"color: #008080; text-decoration-color: #008080\">         test_acc          </span>│<span style=\"color: #800080; text-decoration-color: #800080\">    0.8652499914169312     </span>│\n",
       "│<span style=\"color: #008080; text-decoration-color: #008080\">        test_auprc         </span>│<span style=\"color: #800080; text-decoration-color: #800080\">    0.4630735218524933     </span>│\n",
       "│<span style=\"color: #008080; text-decoration-color: #008080\">        test_auroc         </span>│<span style=\"color: #800080; text-decoration-color: #800080\">    0.8315866589546204     </span>│\n",
       "│<span style=\"color: #008080; text-decoration-color: #008080\">         test_loss         </span>│<span style=\"color: #800080; text-decoration-color: #800080\">    0.3274860680103302     </span>│\n",
       "└───────────────────────────┴───────────────────────────┘\n",
       "</pre>\n"
      ],
      "text/plain": [
       "┏━━━━━━━━━━━━━━━━━━━━━━━━━━━┳━━━━━━━━━━━━━━━━━━━━━━━━━━━┓\n",
       "┃\u001b[1m \u001b[0m\u001b[1m       Test metric       \u001b[0m\u001b[1m \u001b[0m┃\u001b[1m \u001b[0m\u001b[1m      DataLoader 0       \u001b[0m\u001b[1m \u001b[0m┃\n",
       "┡━━━━━━━━━━━━━━━━━━━━━━━━━━━╇━━━━━━━━━━━━━━━━━━━━━━━━━━━┩\n",
       "│\u001b[36m \u001b[0m\u001b[36m        test_acc         \u001b[0m\u001b[36m \u001b[0m│\u001b[35m \u001b[0m\u001b[35m   0.8652499914169312    \u001b[0m\u001b[35m \u001b[0m│\n",
       "│\u001b[36m \u001b[0m\u001b[36m       test_auprc        \u001b[0m\u001b[36m \u001b[0m│\u001b[35m \u001b[0m\u001b[35m   0.4630735218524933    \u001b[0m\u001b[35m \u001b[0m│\n",
       "│\u001b[36m \u001b[0m\u001b[36m       test_auroc        \u001b[0m\u001b[36m \u001b[0m│\u001b[35m \u001b[0m\u001b[35m   0.8315866589546204    \u001b[0m\u001b[35m \u001b[0m│\n",
       "│\u001b[36m \u001b[0m\u001b[36m        test_loss        \u001b[0m\u001b[36m \u001b[0m│\u001b[35m \u001b[0m\u001b[35m   0.3274860680103302    \u001b[0m\u001b[35m \u001b[0m│\n",
       "└───────────────────────────┴───────────────────────────┘\n"
      ]
     },
     "metadata": {},
     "output_type": "display_data"
    },
    {
     "data": {
      "text/plain": [
       "[{'test_loss': 0.3274860680103302,\n",
       "  'test_acc': 0.8652499914169312,\n",
       "  'test_auroc': 0.8315866589546204,\n",
       "  'test_auprc': 0.4630735218524933}]"
      ]
     },
     "execution_count": 10,
     "metadata": {},
     "output_type": "execute_result"
    }
   ],
   "source": [
    "log_root = \"lightning_logs\" # ICU-TimeSeries-Mortality-Prediction/notebooks/2_SupervisedML/Q2_RNN/lightning_logs\"\n",
    "manual_version = None # \"12302\"\n",
    "latest_version = max(os.listdir(log_root), key=lambda x: int(x.split(\"_\")[1]) if x.split(\"_\")[0] == \"version\" else 0)\n",
    "latest_ckpt_dir = os.path.join(log_root, manual_version) if manual_version else os.path.join(log_root, latest_version)\n",
    "# print(latest_ckpt_dir)\n",
    "\n",
    "# Get path to best .ckpt file\n",
    "ckpt_files = glob(os.path.join(latest_ckpt_dir, \"checkpoints\", \"*.ckpt\"))\n",
    "best_ckpt_path = ckpt_files[0] if ckpt_files else None\n",
    "print(best_ckpt_path)\n",
    "\n",
    "model = LSTMClassifier.load_from_checkpoint(best_ckpt_path)\n",
    "trainer.test(model, datamodule=datamodule)"
   ]
  },
  {
   "cell_type": "markdown",
   "metadata": {},
   "source": [
    "## Optimize decision Threshold"
   ]
  },
  {
   "cell_type": "code",
   "execution_count": 11,
   "metadata": {},
   "outputs": [
    {
     "data": {
      "application/vnd.jupyter.widget-view+json": {
       "model_id": "a280645883d24e49adc5a934218d82fe",
       "version_major": 2,
       "version_minor": 0
      },
      "text/plain": [
       "  0%|          | 0/100 [00:00<?, ?it/s]"
      ]
     },
     "metadata": {},
     "output_type": "display_data"
    },
    {
     "data": {
      "text/plain": [
       "Text(0.5, 1.0, 'Minimize FNR at Threshold')"
      ]
     },
     "execution_count": 11,
     "metadata": {},
     "output_type": "execute_result"
    },
    {
     "data": {
      "image/png": "[encoded data removed]",
      "text/plain": [
       "<Figure size 640x480 with 1 Axes>"
      ]
     },
     "metadata": {},
     "output_type": "display_data"
    }
   ],
   "source": [
    "# idea: minimize threshold\n",
    "_, _, thresholds, fnrs = model.tune_threshold_min_fnr()\n",
    "plt.plot(thresholds, fnrs)\n",
    "plt.xlabel(\"Thresholds\")\n",
    "plt.ylabel(\"FNR\")\n",
    "plt.title(\"Minimize FNR at Threshold\")\n",
    "# outcome: to simplistic approach, converges to 0"
   ]
  },
  {
   "cell_type": "code",
   "execution_count": 18,
   "metadata": {},
   "outputs": [
    {
     "name": "stderr",
     "output_type": "stream",
     "text": [
      "LOCAL_RANK: 0 - CUDA_VISIBLE_DEVICES: [0]\n",
      "SLURM auto-requeueing enabled. Setting signal handlers.\n"
     ]
    },
    {
     "data": {
      "application/vnd.jupyter.widget-view+json": {
       "model_id": "731b1ccf09b6491d9d7877e2bf576f46",
       "version_major": 2,
       "version_minor": 0
      },
      "text/plain": [
       "Testing: |          | 0/? [00:00<?, ?it/s]"
      ]
     },
     "metadata": {},
     "output_type": "display_data"
    },
    {
     "data": {
      "image/png": "[encoded data removed]",
      "text/plain": [
       "<Figure size 640x480 with 2 Axes>"
      ]
     },
     "metadata": {},
     "output_type": "display_data"
    },
    {
     "data": {
      "image/png": "[encoded data removed]",
      "text/plain": [
       "<Figure size 640x480 with 1 Axes>"
      ]
     },
     "metadata": {},
     "output_type": "display_data"
    },
    {
     "data": {
      "image/png": "[encoded data removed]",
      "text/plain": [
       "<Figure size 640x480 with 1 Axes>"
      ]
     },
     "metadata": {},
     "output_type": "display_data"
    },
    {
     "name": "stdout",
     "output_type": "stream",
     "text": [
      "\n",
      "Test Accuracy : 0.8652\n",
      "Test AuROC    : 0.8316\n",
      "Test AuPRC    : 0.4631\n"
     ]
    },
    {
     "data": {
      "text/html": [
       "<pre style=\"white-space:pre;overflow-x:auto;line-height:normal;font-family:Menlo,'DejaVu Sans Mono',consolas,'Courier New',monospace\">┏━━━━━━━━━━━━━━━━━━━━━━━━━━━┳━━━━━━━━━━━━━━━━━━━━━━━━━━━┓\n",
       "┃<span style=\"font-weight: bold\">        Test metric        </span>┃<span style=\"font-weight: bold\">       DataLoader 0        </span>┃\n",
       "┡━━━━━━━━━━━━━━━━━━━━━━━━━━━╇━━━━━━━━━━━━━━━━━━━━━━━━━━━┩\n",
       "│<span style=\"color: #008080; text-decoration-color: #008080\">         test_acc          </span>│<span style=\"color: #800080; text-decoration-color: #800080\">    0.8652499914169312     </span>│\n",
       "│<span style=\"color: #008080; text-decoration-color: #008080\">        test_auprc         </span>│<span style=\"color: #800080; text-decoration-color: #800080\">    0.4630735218524933     </span>│\n",
       "│<span style=\"color: #008080; text-decoration-color: #008080\">        test_auroc         </span>│<span style=\"color: #800080; text-decoration-color: #800080\">    0.8315866589546204     </span>│\n",
       "│<span style=\"color: #008080; text-decoration-color: #008080\">         test_loss         </span>│<span style=\"color: #800080; text-decoration-color: #800080\">    0.3274860680103302     </span>│\n",
       "└───────────────────────────┴───────────────────────────┘\n",
       "</pre>\n"
      ],
      "text/plain": [
       "┏━━━━━━━━━━━━━━━━━━━━━━━━━━━┳━━━━━━━━━━━━━━━━━━━━━━━━━━━┓\n",
       "┃\u001b[1m \u001b[0m\u001b[1m       Test metric       \u001b[0m\u001b[1m \u001b[0m┃\u001b[1m \u001b[0m\u001b[1m      DataLoader 0       \u001b[0m\u001b[1m \u001b[0m┃\n",
       "┡━━━━━━━━━━━━━━━━━━━━━━━━━━━╇━━━━━━━━━━━━━━━━━━━━━━━━━━━┩\n",
       "│\u001b[36m \u001b[0m\u001b[36m        test_acc         \u001b[0m\u001b[36m \u001b[0m│\u001b[35m \u001b[0m\u001b[35m   0.8652499914169312    \u001b[0m\u001b[35m \u001b[0m│\n",
       "│\u001b[36m \u001b[0m\u001b[36m       test_auprc        \u001b[0m\u001b[36m \u001b[0m│\u001b[35m \u001b[0m\u001b[35m   0.4630735218524933    \u001b[0m\u001b[35m \u001b[0m│\n",
       "│\u001b[36m \u001b[0m\u001b[36m       test_auroc        \u001b[0m\u001b[36m \u001b[0m│\u001b[35m \u001b[0m\u001b[35m   0.8315866589546204    \u001b[0m\u001b[35m \u001b[0m│\n",
       "│\u001b[36m \u001b[0m\u001b[36m        test_loss        \u001b[0m\u001b[36m \u001b[0m│\u001b[35m \u001b[0m\u001b[35m   0.3274860680103302    \u001b[0m\u001b[35m \u001b[0m│\n",
       "└───────────────────────────┴───────────────────────────┘\n"
      ]
     },
     "metadata": {},
     "output_type": "display_data"
    },
    {
     "data": {
      "text/plain": [
       "[{'test_loss': 0.3274860680103302,\n",
       "  'test_acc': 0.8652499914169312,\n",
       "  'test_auroc': 0.8315866589546204,\n",
       "  'test_auprc': 0.4630735218524933}]"
      ]
     },
     "execution_count": 18,
     "metadata": {},
     "output_type": "execute_result"
    }
   ],
   "source": [
    "model.prediction_threshold = 0.65\n",
    "trainer.test(model, datamodule = datamodule)"
   ]
  },
  {
   "cell_type": "code",
   "execution_count": null,
   "metadata": {},
   "outputs": [],
   "source": []
  }
 ],
 "metadata": {
  "kernelspec": {
   "display_name": "Python 3 (ipykernel)",
   "language": "python",
   "name": "python3"
  },
  "language_info": {
   "codemirror_mode": {
    "name": "ipython",
    "version": 3
   },
   "file_extension": ".py",
   "mimetype": "text/x-python",
   "name": "python",
   "nbconvert_exporter": "python",
   "pygments_lexer": "ipython3",
   "version": "3.12.3"
  },
  "widgets": {
   "application/vnd.jupyter.widget-state+json": {
    "state": {
     "0088741b42f84b9489155c68bf05ee11": {
      "model_module": "@jupyter-widgets/controls",
      "model_module_version": "2.0.0",
      "model_name": "HTMLStyleModel",
      "state": {
       "description_width": "",
       "font_size": null,
       "text_color": null
      }
     },
     "02142347ba534d7085871933a8687999": {
      "model_module": "@jupyter-widgets/base",
      "model_module_version": "2.0.0",
      "model_name": "LayoutModel",
      "state": {}
     },
     "0222966874aa47c4bf65ff1d54c9eeb0": {
      "model_module": "@jupyter-widgets/controls",
      "model_module_version": "2.0.0",
      "model_name": "HTMLStyleModel",
      "state": {
       "description_width": "",
       "font_size": null,
       "text_color": null
      }
     },
     "0246fdeffa3c4528ac603ccf8d5213ff": {
      "model_module": "@jupyter-widgets/controls",
      "model_module_version": "2.0.0",
      "model_name": "HTMLModel",
      "state": {
       "layout": "IPY_MODEL_f346a107b9eb419280e0a504ebbed59d",
       "style": "IPY_MODEL_522cb26ba6c9458aac4c2fc973ff8317",
       "value": " 63/63 [00:00&lt;00:00, 247.06it/s]"
      }
     },
     "035e99bf46184f2da6e7293024eb2260": {
      "model_module": "@jupyter-widgets/controls",
      "model_module_version": "2.0.0",
      "model_name": "HTMLStyleModel",
      "state": {
       "description_width": "",
       "font_size": null,
       "text_color": null
      }
     },
     "06329a5222e14fbeb5e7ddb47d36a4af": {
      "model_module": "@jupyter-widgets/base",
      "model_module_version": "2.0.0",
      "model_name": "LayoutModel",
      "state": {
       "display": "inline-flex",
       "flex_flow": "row wrap",
       "visibility": "hidden",
       "width": "100%"
      }
     },
     "0759ca3628e14a4a8733a28a91663299": {
      "model_module": "@jupyter-widgets/controls",
      "model_module_version": "2.0.0",
      "model_name": "HTMLStyleModel",
      "state": {
       "description_width": "",
       "font_size": null,
       "text_color": null
      }
     },
     "07c5dbb12348445ba20673f28c82d208": {
      "model_module": "@jupyter-widgets/controls",
      "model_module_version": "2.0.0",
      "model_name": "HTMLModel",
      "state": {
       "layout": "IPY_MODEL_f3b3e6eb5daa430f9a6bd82e227800d4",
       "style": "IPY_MODEL_18c6f69ab107415dacac3f61c8cb46b7",
       "value": " 63/63 [00:00&lt;00:00, 89.18it/s]"
      }
     },
     "089b4039ed6d4fc7aa50cc4af6cafedc": {
      "model_module": "@jupyter-widgets/base",
      "model_module_version": "2.0.0",
      "model_name": "LayoutModel",
      "state": {
       "flex": "2"
      }
     },
     "09a5e3dd22714ab29031f65f41d24045": {
      "model_module": "@jupyter-widgets/base",
      "model_module_version": "2.0.0",
      "model_name": "LayoutModel",
      "state": {
       "flex": "2"
      }
     },
     "0dc051c3f9f143288c6e519c8405ca8a": {
      "model_module": "@jupyter-widgets/controls",
      "model_module_version": "2.0.0",
      "model_name": "FloatProgressModel",
      "state": {
       "bar_style": "success",
       "layout": "IPY_MODEL_5a2f412328ed41b8aa7b7567d0b989d3",
       "style": "IPY_MODEL_b288d0338248405595af2a8148aa7482",
       "value": 100
      }
     },
     "0e0fdf89497f49209e3ab8dfe18c8328": {
      "model_module": "@jupyter-widgets/controls",
      "model_module_version": "2.0.0",
      "model_name": "HTMLModel",
      "state": {
       "layout": "IPY_MODEL_7fd12bb66e6f4a13be147e592507625e",
       "style": "IPY_MODEL_7a94cb4b5f2b4b9e96114b46fd037353",
       "value": " 63/63 [00:00&lt;00:00, 183.69it/s]"
      }
     },
     "0e82da74929c43adb16e74cf70592a66": {
      "model_module": "@jupyter-widgets/controls",
      "model_module_version": "2.0.0",
      "model_name": "HTMLModel",
      "state": {
       "layout": "IPY_MODEL_ef232aeff5734eb6a0112f4f4510ea89",
       "style": "IPY_MODEL_c37182d2c6c74466bee9367edb8bf2b6",
       "value": " 63/63 [00:00&lt;00:00, 244.68it/s]"
      }
     },
     "0f6d776184674721810037084cca30f7": {
      "model_module": "@jupyter-widgets/base",
      "model_module_version": "2.0.0",
      "model_name": "LayoutModel",
      "state": {}
     },
     "0f7f659bb27c430f96a3d51031e4b643": {
      "model_module": "@jupyter-widgets/controls",
      "model_module_version": "2.0.0",
      "model_name": "HTMLModel",
      "state": {
       "layout": "IPY_MODEL_5f138f81560042008728bc6956a710c3",
       "style": "IPY_MODEL_d3dcfe42b97a4dac892d650a35dbe0c2",
       "value": " 63/63 [00:00&lt;00:00, 235.81it/s]"
      }
     },
     "1034b08a54e8434a93d792dd9ba5ab84": {
      "model_module": "@jupyter-widgets/base",
      "model_module_version": "2.0.0",
      "model_name": "LayoutModel",
      "state": {
       "flex": "2"
      }
     },
     "103de189c5a14f1881069ad78c6f28c4": {
      "model_module": "@jupyter-widgets/base",
      "model_module_version": "2.0.0",
      "model_name": "LayoutModel",
      "state": {
       "flex": "2"
      }
     },
     "1143a67fb0934a3aae4d82860d612906": {
      "model_module": "@jupyter-widgets/base",
      "model_module_version": "2.0.0",
      "model_name": "LayoutModel",
      "state": {
       "flex": "2"
      }
     },
     "11e6941a57e04ff285f4c16f6acd921f": {
      "model_module": "@jupyter-widgets/controls",
      "model_module_version": "2.0.0",
      "model_name": "FloatProgressModel",
      "state": {
       "layout": "IPY_MODEL_61c12274655543d39c6837e467e4167d",
       "max": 63,
       "style": "IPY_MODEL_6ff1a7d474594c7598fbec4e9496ffe2",
       "value": 63
      }
     },
     "12c8736d990a45bb96e19c19fe2d1f70": {
      "model_module": "@jupyter-widgets/controls",
      "model_module_version": "2.0.0",
      "model_name": "HTMLModel",
      "state": {
       "layout": "IPY_MODEL_9cccc9e1690c465e8a84e5605741bf68",
       "style": "IPY_MODEL_6f3fcc6b2ceb4e3fa43426ca089221e7",
       "value": "Validation DataLoader 0: 100%"
      }
     },
     "16c1e05fced14b83ae3eaf6c75f645f7": {
      "model_module": "@jupyter-widgets/base",
      "model_module_version": "2.0.0",
      "model_name": "LayoutModel",
      "state": {}
     },
     "171e4e6fd2764bed86922b15614f98fe": {
      "model_module": "@jupyter-widgets/controls",
      "model_module_version": "2.0.0",
      "model_name": "HTMLModel",
      "state": {
       "layout": "IPY_MODEL_e56187dfa4714c888039e7f38c4d4056",
       "style": "IPY_MODEL_0088741b42f84b9489155c68bf05ee11",
       "value": "Validation DataLoader 0: 100%"
      }
     },
     "1783b9a8f2b64bb78f3fc4969b843b43": {
      "model_module": "@jupyter-widgets/controls",
      "model_module_version": "2.0.0",
      "model_name": "HTMLStyleModel",
      "state": {
       "description_width": "",
       "font_size": null,
       "text_color": null
      }
     },
     "185fab97bc6041e198eca7f8dfcc797d": {
      "model_module": "@jupyter-widgets/controls",
      "model_module_version": "2.0.0",
      "model_name": "HTMLModel",
      "state": {
       "layout": "IPY_MODEL_7ab964c9511b4f9289c39c0d31a9e504",
       "style": "IPY_MODEL_1ffed1cb7fb949778ce6e6636dd5442d",
       "value": "Validation DataLoader 0: 100%"
      }
     },
     "1886d084a95742f2a7ff71b122951b9d": {
      "model_module": "@jupyter-widgets/controls",
      "model_module_version": "2.0.0",
      "model_name": "FloatProgressModel",
      "state": {
       "bar_style": "success",
       "layout": "IPY_MODEL_9a9fdcca9a934895897c52501cdeb1e1",
       "max": 63,
       "style": "IPY_MODEL_a2b0bc6d86a6449393aa0054fbf2dd9f",
       "value": 63
      }
     },
     "18b39cc0b675468ca74b54b3bc3328c3": {
      "model_module": "@jupyter-widgets/base",
      "model_module_version": "2.0.0",
      "model_name": "LayoutModel",
      "state": {}
     },
     "18c6f69ab107415dacac3f61c8cb46b7": {
      "model_module": "@jupyter-widgets/controls",
      "model_module_version": "2.0.0",
      "model_name": "HTMLStyleModel",
      "state": {
       "description_width": "",
       "font_size": null,
       "text_color": null
      }
     },
     "193b470c04e4403d963c8386c04a3e41": {
      "model_module": "@jupyter-widgets/controls",
      "model_module_version": "2.0.0",
      "model_name": "ProgressStyleModel",
      "state": {
       "description_width": ""
      }
     },
     "19dcce5412dd4d8f80f963d24f1a5518": {
      "model_module": "@jupyter-widgets/base",
      "model_module_version": "2.0.0",
      "model_name": "LayoutModel",
      "state": {}
     },
     "1a2e7430b11d44c9a0dc54779a7b6b83": {
      "model_module": "@jupyter-widgets/controls",
      "model_module_version": "2.0.0",
      "model_name": "ProgressStyleModel",
      "state": {
       "description_width": ""
      }
     },
     "1bed9d1f666741e691c3eed3a2cbc3b0": {
      "model_module": "@jupyter-widgets/controls",
      "model_module_version": "2.0.0",
      "model_name": "FloatProgressModel",
      "state": {
       "layout": "IPY_MODEL_089b4039ed6d4fc7aa50cc4af6cafedc",
       "max": 63,
       "style": "IPY_MODEL_49ced20685df442cb0535c0b11b7fdf3",
       "value": 63
      }
     },
     "1e42cebd5a4b4a0691f807e444f369ac": {
      "model_module": "@jupyter-widgets/base",
      "model_module_version": "2.0.0",
      "model_name": "LayoutModel",
      "state": {}
     },
     "1f246a515a3f46968c6be2c9ffa46fc5": {
      "model_module": "@jupyter-widgets/controls",
      "model_module_version": "2.0.0",
      "model_name": "HTMLStyleModel",
      "state": {
       "description_width": "",
       "font_size": null,
       "text_color": null
      }
     },
     "1ffed1cb7fb949778ce6e6636dd5442d": {
      "model_module": "@jupyter-widgets/controls",
      "model_module_version": "2.0.0",
      "model_name": "HTMLStyleModel",
      "state": {
       "description_width": "",
       "font_size": null,
       "text_color": null
      }
     },
     "208fd6678f314b1e90cd8046151e498a": {
      "model_module": "@jupyter-widgets/base",
      "model_module_version": "2.0.0",
      "model_name": "LayoutModel",
      "state": {}
     },
     "209a093855314998bb5a0dac0f311604": {
      "model_module": "@jupyter-widgets/base",
      "model_module_version": "2.0.0",
      "model_name": "LayoutModel",
      "state": {}
     },
     "211915027ac84fe3a8be3fd2d19cb988": {
      "model_module": "@jupyter-widgets/controls",
      "model_module_version": "2.0.0",
      "model_name": "HTMLModel",
      "state": {
       "layout": "IPY_MODEL_5cddfd08305247cead2e1b0e43970016",
       "style": "IPY_MODEL_edd61b1ce6184655b708bc58177576ab",
       "value": " 63/63 [00:00&lt;00:00, 237.20it/s]"
      }
     },
     "231027351f39431db1ccc113ecdcddba": {
      "model_module": "@jupyter-widgets/controls",
      "model_module_version": "2.0.0",
      "model_name": "HTMLModel",
      "state": {
       "layout": "IPY_MODEL_76a364f20c2944ff9d0a8e20d258392a",
       "style": "IPY_MODEL_bbb2cc91aab8444fba7fae4105f0add0",
       "value": "Validation DataLoader 0: 100%"
      }
     },
     "23cfdd7d112b4859aab220d224bd00d7": {
      "model_module": "@jupyter-widgets/controls",
      "model_module_version": "2.0.0",
      "model_name": "ProgressStyleModel",
      "state": {
       "description_width": ""
      }
     },
     "23ec84676abf47b1926e2fbabbfe4b94": {
      "model_module": "@jupyter-widgets/controls",
      "model_module_version": "2.0.0",
      "model_name": "HTMLModel",
      "state": {
       "layout": "IPY_MODEL_8cf97a29607d46f5aa209a6500df796f",
       "style": "IPY_MODEL_e4285a8e8d7748b9a4354c227df72d37",
       "value": "Testing DataLoader 0: 100%"
      }
     },
     "281389ada197459bad2d64221aaaf4d5": {
      "model_module": "@jupyter-widgets/controls",
      "model_module_version": "2.0.0",
      "model_name": "HTMLStyleModel",
      "state": {
       "description_width": "",
       "font_size": null,
       "text_color": null
      }
     },
     "2ad0877f231240bdb3282b47fafc2dbb": {
      "model_module": "@jupyter-widgets/controls",
      "model_module_version": "2.0.0",
      "model_name": "HTMLStyleModel",
      "state": {
       "description_width": "",
       "font_size": null,
       "text_color": null
      }
     },
     "2b2a46880d354855b3b8ac78a3defd61": {
      "model_module": "@jupyter-widgets/controls",
      "model_module_version": "2.0.0",
      "model_name": "HTMLStyleModel",
      "state": {
       "description_width": "",
       "font_size": null,
       "text_color": null
      }
     },
     "2b805361a5b84a209715b776f5794834": {
      "model_module": "@jupyter-widgets/controls",
      "model_module_version": "2.0.0",
      "model_name": "FloatProgressModel",
      "state": {
       "layout": "IPY_MODEL_abf68685636f4188984bc68af82f8481",
       "max": 63,
       "style": "IPY_MODEL_b58a9eebfb474464bcd59ee3536da011",
       "value": 63
      }
     },
     "2be0bcec87314856bf4569c2f5c16917": {
      "model_module": "@jupyter-widgets/controls",
      "model_module_version": "2.0.0",
      "model_name": "FloatProgressModel",
      "state": {
       "bar_style": "success",
       "layout": "IPY_MODEL_62d8421d25704bad864f5807fbb95f9a",
       "max": 63,
       "style": "IPY_MODEL_d5a7ea61eadc4509b44916945303a7ab",
       "value": 63
      }
     },
     "2cfc2cea8e28408fa13b010ff6d738c4": {
      "model_module": "@jupyter-widgets/controls",
      "model_module_version": "2.0.0",
      "model_name": "FloatProgressModel",
      "state": {
       "bar_style": "success",
       "layout": "IPY_MODEL_6925e72f05ce4310b378dc32a63dbccc",
       "max": 63,
       "style": "IPY_MODEL_2d2b80fec68d46a2b9f17bca5fadc8cc",
       "value": 63
      }
     },
     "2d2b80fec68d46a2b9f17bca5fadc8cc": {
      "model_module": "@jupyter-widgets/controls",
      "model_module_version": "2.0.0",
      "model_name": "ProgressStyleModel",
      "state": {
       "description_width": ""
      }
     },
     "2d2bf3364cbd403a9db60c3f7f8a37b0": {
      "model_module": "@jupyter-widgets/controls",
      "model_module_version": "2.0.0",
      "model_name": "HTMLModel",
      "state": {
       "layout": "IPY_MODEL_b7b595c82a524716861a8173eb662426",
       "style": "IPY_MODEL_62ac3a11698c469eaba42ae765fddcdb",
       "value": " 63/63 [00:00&lt;00:00, 235.60it/s]"
      }
     },
     "2dd87b59d18f438fb77840a2ec6ac5be": {
      "model_module": "@jupyter-widgets/controls",
      "model_module_version": "2.0.0",
      "model_name": "HTMLModel",
      "state": {
       "layout": "IPY_MODEL_fa286ec0ecaa468bb3034aedd2515c9d",
       "style": "IPY_MODEL_dd77fe35cf8440b1878845c7898bef85",
       "value": " 63/63 [00:00&lt;00:00, 197.24it/s]"
      }
     },
     "2e4287cb29ff4e129396087fdf538daf": {
      "model_module": "@jupyter-widgets/base",
      "model_module_version": "2.0.0",
      "model_name": "LayoutModel",
      "state": {
       "display": "inline-flex",
       "flex_flow": "row wrap",
       "visibility": "hidden",
       "width": "100%"
      }
     },
     "2ec8336e011744b0b1228c2083f3a499": {
      "model_module": "@jupyter-widgets/controls",
      "model_module_version": "2.0.0",
      "model_name": "HTMLStyleModel",
      "state": {
       "description_width": "",
       "font_size": null,
       "text_color": null
      }
     },
     "2ee4785cd33a435d9227f0923fd28106": {
      "model_module": "@jupyter-widgets/controls",
      "model_module_version": "2.0.0",
      "model_name": "HTMLStyleModel",
      "state": {
       "description_width": "",
       "font_size": null,
       "text_color": null
      }
     },
     "30083e3672ae4d2bbb9f38f28a7a9293": {
      "model_module": "@jupyter-widgets/base",
      "model_module_version": "2.0.0",
      "model_name": "LayoutModel",
      "state": {}
     },
     "3567558cccf4497c941a25e30477a2cc": {
      "model_module": "@jupyter-widgets/controls",
      "model_module_version": "2.0.0",
      "model_name": "HBoxModel",
      "state": {
       "children": [
        "IPY_MODEL_fcefe6a24a6a44469ed7ceaaabfbd306",
        "IPY_MODEL_bbed50820f294e9c8259214c6828ad8c",
        "IPY_MODEL_a46802d8c92b484a86ef2e6fed1c517e"
       ],
       "layout": "IPY_MODEL_cbda61602d23422fa9bd77bb838da5c2"
      }
     },
     "367dfa24998d4a1a9541d854e0010c8d": {
      "model_module": "@jupyter-widgets/base",
      "model_module_version": "2.0.0",
      "model_name": "LayoutModel",
      "state": {}
     },
     "36a2f6eb1191438e8e8e844dfd279610": {
      "model_module": "@jupyter-widgets/base",
      "model_module_version": "2.0.0",
      "model_name": "LayoutModel",
      "state": {
       "flex": "2"
      }
     },
     "37106aa541e74a07b34d4bb38c41485d": {
      "model_module": "@jupyter-widgets/controls",
      "model_module_version": "2.0.0",
      "model_name": "HTMLStyleModel",
      "state": {
       "description_width": "",
       "font_size": null,
       "text_color": null
      }
     },
     "3a56aa2c50b444eda84285fb4487a299": {
      "model_module": "@jupyter-widgets/controls",
      "model_module_version": "2.0.0",
      "model_name": "HTMLModel",
      "state": {
       "layout": "IPY_MODEL_87a4df967b204d6f9b3aee317862fc66",
       "style": "IPY_MODEL_2ad0877f231240bdb3282b47fafc2dbb",
       "value": " 63/63 [00:00&lt;00:00, 251.93it/s]"
      }
     },
     "3adf6e50d8b94105aef9d6e8630b6d78": {
      "model_module": "@jupyter-widgets/controls",
      "model_module_version": "2.0.0",
      "model_name": "HTMLModel",
      "state": {
       "layout": "IPY_MODEL_8ed8813665ae4903bda9e22b5df21da3",
       "style": "IPY_MODEL_0222966874aa47c4bf65ff1d54c9eeb0",
       "value": "Testing DataLoader 0: 100%"
      }
     },
     "3c271b51e4a143d38c1c992ff16c4e02": {
      "model_module": "@jupyter-widgets/controls",
      "model_module_version": "2.0.0",
      "model_name": "HTMLModel",
      "state": {
       "layout": "IPY_MODEL_9812fc085b7048d39310f77561c3e6e1",
       "style": "IPY_MODEL_281389ada197459bad2d64221aaaf4d5",
       "value": " 63/63 [00:00&lt;00:00, 203.11it/s]"
      }
     },
     "3c745a38bccb471ab98c822a559a239d": {
      "model_module": "@jupyter-widgets/base",
      "model_module_version": "2.0.0",
      "model_name": "LayoutModel",
      "state": {
       "display": "inline-flex",
       "flex_flow": "row wrap",
       "visibility": "hidden",
       "width": "100%"
      }
     },
     "3e8157d561994a60bcf6b4d2eaadd3ee": {
      "model_module": "@jupyter-widgets/base",
      "model_module_version": "2.0.0",
      "model_name": "LayoutModel",
      "state": {
       "flex": "2"
      }
     },
     "41193f1b9eda4f0294ed0648015bc7ad": {
      "model_module": "@jupyter-widgets/controls",
      "model_module_version": "2.0.0",
      "model_name": "ProgressStyleModel",
      "state": {
       "description_width": ""
      }
     },
     "4137a03d9a3f4d959327d3a8f11fc792": {
      "model_module": "@jupyter-widgets/controls",
      "model_module_version": "2.0.0",
      "model_name": "HTMLModel",
      "state": {
       "layout": "IPY_MODEL_57de53742e3c47a09187804e619901d0",
       "style": "IPY_MODEL_d0e6b76014a446019b25777b70009a6c",
       "value": "Validation DataLoader 0: 100%"
      }
     },
     "42095aac46d64185b7a3ed480b62cd5e": {
      "model_module": "@jupyter-widgets/base",
      "model_module_version": "2.0.0",
      "model_name": "LayoutModel",
      "state": {
       "flex": "2"
      }
     },
     "42953ce2df554b909dcde9d0e247c3b3": {
      "model_module": "@jupyter-widgets/controls",
      "model_module_version": "2.0.0",
      "model_name": "HTMLStyleModel",
      "state": {
       "description_width": "",
       "font_size": null,
       "text_color": null
      }
     },
     "4411b788294c4e268efca06c34203735": {
      "model_module": "@jupyter-widgets/controls",
      "model_module_version": "2.0.0",
      "model_name": "HTMLModel",
      "state": {
       "layout": "IPY_MODEL_dff65e3317d440e6b8ed4d4133498ab1",
       "style": "IPY_MODEL_4d1c2f45aba04ac894d5a6a2b257bd80",
       "value": "100%"
      }
     },
     "46172648e12842f4824c67f8617090a3": {
      "model_module": "@jupyter-widgets/controls",
      "model_module_version": "2.0.0",
      "model_name": "FloatProgressModel",
      "state": {
       "layout": "IPY_MODEL_ee8ddc9759a4441db3ef69549a82a947",
       "max": 63,
       "style": "IPY_MODEL_c82311956fde49e5920ee9e0a037eb7e",
       "value": 63
      }
     },
     "473d2440d1644cc0819a4bf0be4d6bc1": {
      "model_module": "@jupyter-widgets/controls",
      "model_module_version": "2.0.0",
      "model_name": "HTMLModel",
      "state": {
       "layout": "IPY_MODEL_f94731636c9c4b6286a19eab51442628",
       "style": "IPY_MODEL_42953ce2df554b909dcde9d0e247c3b3",
       "value": "Validation DataLoader 0: 100%"
      }
     },
     "49a2ebacd80743039f7f6c825938553e": {
      "model_module": "@jupyter-widgets/controls",
      "model_module_version": "2.0.0",
      "model_name": "HTMLModel",
      "state": {
       "layout": "IPY_MODEL_90870f1a92b447439c310c088868d1bf",
       "style": "IPY_MODEL_2b2a46880d354855b3b8ac78a3defd61",
       "value": "Validation DataLoader 0: 100%"
      }
     },
     "49ad1c3a5be148d497ba4af1fc6bdfcb": {
      "model_module": "@jupyter-widgets/controls",
      "model_module_version": "2.0.0",
      "model_name": "HTMLModel",
      "state": {
       "layout": "IPY_MODEL_19dcce5412dd4d8f80f963d24f1a5518",
       "style": "IPY_MODEL_cea87173f3ec4844b545716a1e555d32",
       "value": "Validation DataLoader 0: 100%"
      }
     },
     "49c16dd748d84a6a94b5e9c4e24eb788": {
      "model_module": "@jupyter-widgets/controls",
      "model_module_version": "2.0.0",
      "model_name": "FloatProgressModel",
      "state": {
       "layout": "IPY_MODEL_963fe5c5f3fe4d8786edd208c43a95e1",
       "max": 63,
       "style": "IPY_MODEL_cf7f19c620f24fcea8cd34186b3cfec0",
       "value": 63
      }
     },
     "49ced20685df442cb0535c0b11b7fdf3": {
      "model_module": "@jupyter-widgets/controls",
      "model_module_version": "2.0.0",
      "model_name": "ProgressStyleModel",
      "state": {
       "description_width": ""
      }
     },
     "49deedad87fc402f892a25bcae8df7d7": {
      "model_module": "@jupyter-widgets/base",
      "model_module_version": "2.0.0",
      "model_name": "LayoutModel",
      "state": {
       "flex": "2"
      }
     },
     "4ae7962990f64fbc819bcb27735d5a1f": {
      "model_module": "@jupyter-widgets/base",
      "model_module_version": "2.0.0",
      "model_name": "LayoutModel",
      "state": {}
     },
     "4be7f26336aa4b7e8cbb050cd3f85bdb": {
      "model_module": "@jupyter-widgets/base",
      "model_module_version": "2.0.0",
      "model_name": "LayoutModel",
      "state": {
       "flex": "2"
      }
     },
     "4d1c2f45aba04ac894d5a6a2b257bd80": {
      "model_module": "@jupyter-widgets/controls",
      "model_module_version": "2.0.0",
      "model_name": "HTMLStyleModel",
      "state": {
       "description_width": "",
       "font_size": null,
       "text_color": null
      }
     },
     "50b6f64413e74de79eafb517998ea762": {
      "model_module": "@jupyter-widgets/controls",
      "model_module_version": "2.0.0",
      "model_name": "HTMLModel",
      "state": {
       "layout": "IPY_MODEL_4ae7962990f64fbc819bcb27735d5a1f",
       "style": "IPY_MODEL_37106aa541e74a07b34d4bb38c41485d",
       "value": " 63/63 [00:00&lt;00:00, 231.61it/s]"
      }
     },
     "520a58ae4bdf4ef0bad917cc13baa709": {
      "model_module": "@jupyter-widgets/controls",
      "model_module_version": "2.0.0",
      "model_name": "HTMLModel",
      "state": {
       "layout": "IPY_MODEL_946c2582755c45d49583651bf89cc16e",
       "style": "IPY_MODEL_72c156b46a7e44958a735219091abfd0",
       "value": " 63/63 [00:00&lt;00:00, 251.14it/s]"
      }
     },
     "522cb26ba6c9458aac4c2fc973ff8317": {
      "model_module": "@jupyter-widgets/controls",
      "model_module_version": "2.0.0",
      "model_name": "HTMLStyleModel",
      "state": {
       "description_width": "",
       "font_size": null,
       "text_color": null
      }
     },
     "52f54a007906418da5ec0a1c56a18e84": {
      "model_module": "@jupyter-widgets/controls",
      "model_module_version": "2.0.0",
      "model_name": "HTMLStyleModel",
      "state": {
       "description_width": "",
       "font_size": null,
       "text_color": null
      }
     },
     "5440436cd4be462abde650dcb4345fa1": {
      "model_module": "@jupyter-widgets/controls",
      "model_module_version": "2.0.0",
      "model_name": "HTMLStyleModel",
      "state": {
       "description_width": "",
       "font_size": null,
       "text_color": null
      }
     },
     "55c37a28a9e14e099a705b91b8316396": {
      "model_module": "@jupyter-widgets/controls",
      "model_module_version": "2.0.0",
      "model_name": "FloatProgressModel",
      "state": {
       "layout": "IPY_MODEL_103de189c5a14f1881069ad78c6f28c4",
       "max": 63,
       "style": "IPY_MODEL_a20ba7c4a1024b6eb22510ad97c1d6e3",
       "value": 63
      }
     },
     "5677278a4892418cafc846a5bfd2f87d": {
      "model_module": "@jupyter-widgets/base",
      "model_module_version": "2.0.0",
      "model_name": "LayoutModel",
      "state": {
       "flex": "2"
      }
     },
     "57110409ff70496cbbbf33340264eabe": {
      "model_module": "@jupyter-widgets/controls",
      "model_module_version": "2.0.0",
      "model_name": "HTMLModel",
      "state": {
       "layout": "IPY_MODEL_841d42a1f37945a8bdb9307da04d3806",
       "style": "IPY_MODEL_de250c55749247bf9d8e79e65da34782",
       "value": "Validation DataLoader 0: 100%"
      }
     },
     "57a461c2cb384ee3a6315e889f754671": {
      "model_module": "@jupyter-widgets/controls",
      "model_module_version": "2.0.0",
      "model_name": "FloatProgressModel",
      "state": {
       "layout": "IPY_MODEL_a118441db9c7409da642398a9ba69dc7",
       "max": 2,
       "style": "IPY_MODEL_b463d968a8d741ecaf1e7c27c04ca462",
       "value": 2
      }
     },
     "57de53742e3c47a09187804e619901d0": {
      "model_module": "@jupyter-widgets/base",
      "model_module_version": "2.0.0",
      "model_name": "LayoutModel",
      "state": {}
     },
     "58a8096bcd984d799921c1f991c352e0": {
      "model_module": "@jupyter-widgets/base",
      "model_module_version": "2.0.0",
      "model_name": "LayoutModel",
      "state": {}
     },
     "58ba6ab12b8941f78f89264d09c84566": {
      "model_module": "@jupyter-widgets/controls",
      "model_module_version": "2.0.0",
      "model_name": "HTMLModel",
      "state": {
       "layout": "IPY_MODEL_7abe6a64067945d3836232a8816fca63",
       "style": "IPY_MODEL_5440436cd4be462abde650dcb4345fa1",
       "value": " 63/63 [00:00&lt;00:00, 210.49it/s]"
      }
     },
     "58c6933fbf074af28c877465ec783fa8": {
      "model_module": "@jupyter-widgets/controls",
      "model_module_version": "2.0.0",
      "model_name": "ProgressStyleModel",
      "state": {
       "description_width": ""
      }
     },
     "5939dffea5264f8e8c5c139ee05e8f3a": {
      "model_module": "@jupyter-widgets/controls",
      "model_module_version": "2.0.0",
      "model_name": "HTMLStyleModel",
      "state": {
       "description_width": "",
       "font_size": null,
       "text_color": null
      }
     },
     "5a2f412328ed41b8aa7b7567d0b989d3": {
      "model_module": "@jupyter-widgets/base",
      "model_module_version": "2.0.0",
      "model_name": "LayoutModel",
      "state": {}
     },
     "5a8bd71c76df42c990c044bca7f395b5": {
      "model_module": "@jupyter-widgets/base",
      "model_module_version": "2.0.0",
      "model_name": "LayoutModel",
      "state": {
       "flex": "2"
      }
     },
     "5bea31d025f543a4a4f16acb5f5d3621": {
      "model_module": "@jupyter-widgets/controls",
      "model_module_version": "2.0.0",
      "model_name": "FloatProgressModel",
      "state": {
       "layout": "IPY_MODEL_3e8157d561994a60bcf6b4d2eaadd3ee",
       "max": 63,
       "style": "IPY_MODEL_1a2e7430b11d44c9a0dc54779a7b6b83",
       "value": 63
      }
     },
     "5cc04398b083460297542f450d78472d": {
      "model_module": "@jupyter-widgets/base",
      "model_module_version": "2.0.0",
      "model_name": "LayoutModel",
      "state": {
       "display": "inline-flex",
       "flex_flow": "row wrap",
       "visibility": "hidden",
       "width": "100%"
      }
     },
     "5cddfd08305247cead2e1b0e43970016": {
      "model_module": "@jupyter-widgets/base",
      "model_module_version": "2.0.0",
      "model_name": "LayoutModel",
      "state": {}
     },
     "5e5a0bc0f82e485287ec3c797327968c": {
      "model_module": "@jupyter-widgets/base",
      "model_module_version": "2.0.0",
      "model_name": "LayoutModel",
      "state": {}
     },
     "5f138f81560042008728bc6956a710c3": {
      "model_module": "@jupyter-widgets/base",
      "model_module_version": "2.0.0",
      "model_name": "LayoutModel",
      "state": {}
     },
     "61c12274655543d39c6837e467e4167d": {
      "model_module": "@jupyter-widgets/base",
      "model_module_version": "2.0.0",
      "model_name": "LayoutModel",
      "state": {
       "flex": "2"
      }
     },
     "62ac3a11698c469eaba42ae765fddcdb": {
      "model_module": "@jupyter-widgets/controls",
      "model_module_version": "2.0.0",
      "model_name": "HTMLStyleModel",
      "state": {
       "description_width": "",
       "font_size": null,
       "text_color": null
      }
     },
     "62d8421d25704bad864f5807fbb95f9a": {
      "model_module": "@jupyter-widgets/base",
      "model_module_version": "2.0.0",
      "model_name": "LayoutModel",
      "state": {
       "flex": "2"
      }
     },
     "63bb30ae8a484dd1909268fc4f018a0c": {
      "model_module": "@jupyter-widgets/controls",
      "model_module_version": "2.0.0",
      "model_name": "HTMLModel",
      "state": {
       "layout": "IPY_MODEL_5e5a0bc0f82e485287ec3c797327968c",
       "style": "IPY_MODEL_f0d3a0baefcb43419b5e80a682fc78bd",
       "value": " 63/63 [00:00&lt;00:00, 86.15it/s, v_num=12330, train_loss=0.280, val_loss=0.318, val_acc=0.871]"
      }
     },
     "66a52d4650e048e9a10b6501a737d0ad": {
      "model_module": "@jupyter-widgets/controls",
      "model_module_version": "2.0.0",
      "model_name": "HTMLModel",
      "state": {
       "layout": "IPY_MODEL_209a093855314998bb5a0dac0f311604",
       "style": "IPY_MODEL_b157bb3a9bdd4d8eae1c2535aa41c81d",
       "value": "Validation DataLoader 0: 100%"
      }
     },
     "6724c019edb1456db0e4caefbaff16e5": {
      "model_module": "@jupyter-widgets/base",
      "model_module_version": "2.0.0",
      "model_name": "LayoutModel",
      "state": {}
     },
     "6767d32323dc4a10b58cc0280134f84d": {
      "model_module": "@jupyter-widgets/base",
      "model_module_version": "2.0.0",
      "model_name": "LayoutModel",
      "state": {}
     },
     "6797fdef8053458cad94f258685faf17": {
      "model_module": "@jupyter-widgets/controls",
      "model_module_version": "2.0.0",
      "model_name": "HTMLModel",
      "state": {
       "layout": "IPY_MODEL_a7c98d0811174e9cbf387f8623e0aaa9",
       "style": "IPY_MODEL_882ae89408dd4fcaa8294d1d1c800e03",
       "value": " 63/63 [00:00&lt;00:00, 254.35it/s]"
      }
     },
     "68008e4f53be435fa02927bb2cafdc17": {
      "model_module": "@jupyter-widgets/controls",
      "model_module_version": "2.0.0",
      "model_name": "HTMLModel",
      "state": {
       "layout": "IPY_MODEL_8e0507244f26417cb426ea291fa3bfd5",
       "style": "IPY_MODEL_875d28f3b49d44ce937b6f567504f09e",
       "value": "Validation DataLoader 0: 100%"
      }
     },
     "6919112bf9934b7ba9c5e3c55a1db572": {
      "model_module": "@jupyter-widgets/controls",
      "model_module_version": "2.0.0",
      "model_name": "HTMLStyleModel",
      "state": {
       "description_width": "",
       "font_size": null,
       "text_color": null
      }
     },
     "6925e72f05ce4310b378dc32a63dbccc": {
      "model_module": "@jupyter-widgets/base",
      "model_module_version": "2.0.0",
      "model_name": "LayoutModel",
      "state": {
       "flex": "2"
      }
     },
     "6b192ca9ffeb436481e88658ce9c0be3": {
      "model_module": "@jupyter-widgets/controls",
      "model_module_version": "2.0.0",
      "model_name": "HTMLModel",
      "state": {
       "layout": "IPY_MODEL_02142347ba534d7085871933a8687999",
       "style": "IPY_MODEL_1783b9a8f2b64bb78f3fc4969b843b43",
       "value": "Testing DataLoader 0: 100%"
      }
     },
     "6b6c26e5a4e4487ebba1d0230f83b449": {
      "model_module": "@jupyter-widgets/base",
      "model_module_version": "2.0.0",
      "model_name": "LayoutModel",
      "state": {
       "display": "inline-flex",
       "flex_flow": "row wrap",
       "visibility": "hidden",
       "width": "100%"
      }
     },
     "6ba5a876ffe4487cbc278fa8882a6407": {
      "model_module": "@jupyter-widgets/controls",
      "model_module_version": "2.0.0",
      "model_name": "HTMLModel",
      "state": {
       "layout": "IPY_MODEL_a1445741206b4eefac760526f197c546",
       "style": "IPY_MODEL_e490a3d4164c4923bb90db5d9d7dd9c5",
       "value": "Validation DataLoader 0: 100%"
      }
     },
     "6c52ce1949604fbb973dd03cdbd0ef58": {
      "model_module": "@jupyter-widgets/base",
      "model_module_version": "2.0.0",
      "model_name": "LayoutModel",
      "state": {
       "display": "inline-flex",
       "flex_flow": "row wrap",
       "visibility": "hidden",
       "width": "100%"
      }
     },
     "6c57293359df498e929d2f64180f7fbe": {
      "model_module": "@jupyter-widgets/base",
      "model_module_version": "2.0.0",
      "model_name": "LayoutModel",
      "state": {
       "display": "inline-flex",
       "flex_flow": "row wrap",
       "visibility": "hidden",
       "width": "100%"
      }
     },
     "6e5e2d9a4644452f8f8e08fb1224c6c6": {
      "model_module": "@jupyter-widgets/controls",
      "model_module_version": "2.0.0",
      "model_name": "FloatProgressModel",
      "state": {
       "layout": "IPY_MODEL_09a5e3dd22714ab29031f65f41d24045",
       "max": 63,
       "style": "IPY_MODEL_bd5191129a5c4b8eb5d88e92b1189047",
       "value": 63
      }
     },
     "6f3fcc6b2ceb4e3fa43426ca089221e7": {
      "model_module": "@jupyter-widgets/controls",
      "model_module_version": "2.0.0",
      "model_name": "HTMLStyleModel",
      "state": {
       "description_width": "",
       "font_size": null,
       "text_color": null
      }
     },
     "6ff1a7d474594c7598fbec4e9496ffe2": {
      "model_module": "@jupyter-widgets/controls",
      "model_module_version": "2.0.0",
      "model_name": "ProgressStyleModel",
      "state": {
       "description_width": ""
      }
     },
     "70654956e6114bfb9dda4d50e8ac60f2": {
      "model_module": "@jupyter-widgets/controls",
      "model_module_version": "2.0.0",
      "model_name": "HTMLStyleModel",
      "state": {
       "description_width": "",
       "font_size": null,
       "text_color": null
      }
     },
     "71b5361bbd6f412d994e0c4a337c7e4b": {
      "model_module": "@jupyter-widgets/base",
      "model_module_version": "2.0.0",
      "model_name": "LayoutModel",
      "state": {
       "display": "inline-flex",
       "flex_flow": "row wrap",
       "visibility": "hidden",
       "width": "100%"
      }
     },
     "72c156b46a7e44958a735219091abfd0": {
      "model_module": "@jupyter-widgets/controls",
      "model_module_version": "2.0.0",
      "model_name": "HTMLStyleModel",
      "state": {
       "description_width": "",
       "font_size": null,
       "text_color": null
      }
     },
     "731b1ccf09b6491d9d7877e2bf576f46": {
      "model_module": "@jupyter-widgets/controls",
      "model_module_version": "2.0.0",
      "model_name": "HBoxModel",
      "state": {
       "children": [
        "IPY_MODEL_d1e57d6a2586491aa1f02d75e9d6df15",
        "IPY_MODEL_af7a0239fa5b48e6b22bbd974196ff10",
        "IPY_MODEL_07c5dbb12348445ba20673f28c82d208"
       ],
       "layout": "IPY_MODEL_d53db95742f347fb9a77f3e5f957820f"
      }
     },
     "7336c3e8815045f789eaad0049781801": {
      "model_module": "@jupyter-widgets/controls",
      "model_module_version": "2.0.0",
      "model_name": "HTMLStyleModel",
      "state": {
       "description_width": "",
       "font_size": null,
       "text_color": null
      }
     },
     "73ebf9c4f892493f9fdd5d9226cfb8ec": {
      "model_module": "@jupyter-widgets/controls",
      "model_module_version": "2.0.0",
      "model_name": "FloatProgressModel",
      "state": {
       "layout": "IPY_MODEL_892a6d211f3940a497cb666dd093f28a",
       "max": 63,
       "style": "IPY_MODEL_7f89b1fb45e548aea2634758f8e4337e",
       "value": 63
      }
     },
     "74555550dcbb4c2cba43d3af7f8e4be8": {
      "model_module": "@jupyter-widgets/controls",
      "model_module_version": "2.0.0",
      "model_name": "HBoxModel",
      "state": {
       "children": [
        "IPY_MODEL_c59fb40ed2464df3bb3f213a447c2fa4",
        "IPY_MODEL_2cfc2cea8e28408fa13b010ff6d738c4",
        "IPY_MODEL_63bb30ae8a484dd1909268fc4f018a0c"
       ],
       "layout": "IPY_MODEL_c0a6a65e574d4778bba16e84dfa22e58"
      }
     },
     "7662403627b84b70a5e6a98ea76dd266": {
      "model_module": "@jupyter-widgets/controls",
      "model_module_version": "2.0.0",
      "model_name": "HTMLModel",
      "state": {
       "layout": "IPY_MODEL_208fd6678f314b1e90cd8046151e498a",
       "style": "IPY_MODEL_8fbc5cb55cc444caaaf05f03e47f0ef1",
       "value": " 63/63 [00:00&lt;00:00, 88.68it/s]"
      }
     },
     "76a364f20c2944ff9d0a8e20d258392a": {
      "model_module": "@jupyter-widgets/base",
      "model_module_version": "2.0.0",
      "model_name": "LayoutModel",
      "state": {}
     },
     "76d6678ec1c5460185220b94c9dd43a8": {
      "model_module": "@jupyter-widgets/controls",
      "model_module_version": "2.0.0",
      "model_name": "ProgressStyleModel",
      "state": {
       "description_width": ""
      }
     },
     "7742ff9eb0124703a48b4795a5a31935": {
      "model_module": "@jupyter-widgets/controls",
      "model_module_version": "2.0.0",
      "model_name": "HTMLModel",
      "state": {
       "layout": "IPY_MODEL_367dfa24998d4a1a9541d854e0010c8d",
       "style": "IPY_MODEL_7336c3e8815045f789eaad0049781801",
       "value": "Validation DataLoader 0: 100%"
      }
     },
     "78fbff89839149878d2571d5e8b8f423": {
      "model_module": "@jupyter-widgets/controls",
      "model_module_version": "2.0.0",
      "model_name": "HTMLModel",
      "state": {
       "layout": "IPY_MODEL_7b75fe8b09f34798ada65d6fe7100785",
       "style": "IPY_MODEL_fb4ad7345d9f40d8a6d391136e709683",
       "value": " 63/63 [00:00&lt;00:00, 92.42it/s]"
      }
     },
     "7984b25e6d6c493a8b55f4476ae8f0cb": {
      "model_module": "@jupyter-widgets/base",
      "model_module_version": "2.0.0",
      "model_name": "LayoutModel",
      "state": {}
     },
     "7a2fe295cda94a78ada83fa224cf6be6": {
      "model_module": "@jupyter-widgets/base",
      "model_module_version": "2.0.0",
      "model_name": "LayoutModel",
      "state": {
       "display": "inline-flex",
       "flex_flow": "row wrap",
       "width": "100%"
      }
     },
     "7a45a8cbcfd2487d86ac2ff0e7be2359": {
      "model_module": "@jupyter-widgets/controls",
      "model_module_version": "2.0.0",
      "model_name": "ProgressStyleModel",
      "state": {
       "description_width": ""
      }
     },
     "7a94cb4b5f2b4b9e96114b46fd037353": {
      "model_module": "@jupyter-widgets/controls",
      "model_module_version": "2.0.0",
      "model_name": "HTMLStyleModel",
      "state": {
       "description_width": "",
       "font_size": null,
       "text_color": null
      }
     },
     "7ab964c9511b4f9289c39c0d31a9e504": {
      "model_module": "@jupyter-widgets/base",
      "model_module_version": "2.0.0",
      "model_name": "LayoutModel",
      "state": {}
     },
     "7abe6a64067945d3836232a8816fca63": {
      "model_module": "@jupyter-widgets/base",
      "model_module_version": "2.0.0",
      "model_name": "LayoutModel",
      "state": {}
     },
     "7b75fe8b09f34798ada65d6fe7100785": {
      "model_module": "@jupyter-widgets/base",
      "model_module_version": "2.0.0",
      "model_name": "LayoutModel",
      "state": {}
     },
     "7d8296f048e74f318343b67c424d166c": {
      "model_module": "@jupyter-widgets/controls",
      "model_module_version": "2.0.0",
      "model_name": "FloatProgressModel",
      "state": {
       "layout": "IPY_MODEL_5a8bd71c76df42c990c044bca7f395b5",
       "max": 63,
       "style": "IPY_MODEL_193b470c04e4403d963c8386c04a3e41",
       "value": 63
      }
     },
     "7e3f2e24ca8243058cb8ee20927f3214": {
      "model_module": "@jupyter-widgets/controls",
      "model_module_version": "2.0.0",
      "model_name": "ProgressStyleModel",
      "state": {
       "description_width": ""
      }
     },
     "7f89b1fb45e548aea2634758f8e4337e": {
      "model_module": "@jupyter-widgets/controls",
      "model_module_version": "2.0.0",
      "model_name": "ProgressStyleModel",
      "state": {
       "description_width": ""
      }
     },
     "7fd12bb66e6f4a13be147e592507625e": {
      "model_module": "@jupyter-widgets/base",
      "model_module_version": "2.0.0",
      "model_name": "LayoutModel",
      "state": {}
     },
     "8226dbf69817448ea25490289a41269e": {
      "model_module": "@jupyter-widgets/controls",
      "model_module_version": "2.0.0",
      "model_name": "HTMLStyleModel",
      "state": {
       "description_width": "",
       "font_size": null,
       "text_color": null
      }
     },
     "8238391e3a1548dab6ee96a5ffb667fb": {
      "model_module": "@jupyter-widgets/controls",
      "model_module_version": "2.0.0",
      "model_name": "HBoxModel",
      "state": {
       "children": [
        "IPY_MODEL_3adf6e50d8b94105aef9d6e8630b6d78",
        "IPY_MODEL_1886d084a95742f2a7ff71b122951b9d",
        "IPY_MODEL_be3828ef13374227b6e5988de49957ec"
       ],
       "layout": "IPY_MODEL_7a2fe295cda94a78ada83fa224cf6be6"
      }
     },
     "841d42a1f37945a8bdb9307da04d3806": {
      "model_module": "@jupyter-widgets/base",
      "model_module_version": "2.0.0",
      "model_name": "LayoutModel",
      "state": {}
     },
     "842d5ef0ec7942409e9408c1c9caa071": {
      "model_module": "@jupyter-widgets/base",
      "model_module_version": "2.0.0",
      "model_name": "LayoutModel",
      "state": {}
     },
     "846236bac2364ee2ab350a6e7797e750": {
      "model_module": "@jupyter-widgets/controls",
      "model_module_version": "2.0.0",
      "model_name": "FloatProgressModel",
      "state": {
       "layout": "IPY_MODEL_dad5a9d0b62d46689ab45a9bf9eb7b06",
       "max": 63,
       "style": "IPY_MODEL_93ce6ea572c54f068eb86f1133b3b593",
       "value": 63
      }
     },
     "875d28f3b49d44ce937b6f567504f09e": {
      "model_module": "@jupyter-widgets/controls",
      "model_module_version": "2.0.0",
      "model_name": "HTMLStyleModel",
      "state": {
       "description_width": "",
       "font_size": null,
       "text_color": null
      }
     },
     "87a4df967b204d6f9b3aee317862fc66": {
      "model_module": "@jupyter-widgets/base",
      "model_module_version": "2.0.0",
      "model_name": "LayoutModel",
      "state": {}
     },
     "882ae89408dd4fcaa8294d1d1c800e03": {
      "model_module": "@jupyter-widgets/controls",
      "model_module_version": "2.0.0",
      "model_name": "HTMLStyleModel",
      "state": {
       "description_width": "",
       "font_size": null,
       "text_color": null
      }
     },
     "8872eeef0823462b9b49cdf007bcc4e4": {
      "model_module": "@jupyter-widgets/controls",
      "model_module_version": "2.0.0",
      "model_name": "HBoxModel",
      "state": {
       "children": [
        "IPY_MODEL_23ec84676abf47b1926e2fbabbfe4b94",
        "IPY_MODEL_9883e926d61e4dbba97c4ec5c4e5c637",
        "IPY_MODEL_78fbff89839149878d2571d5e8b8f423"
       ],
       "layout": "IPY_MODEL_f6e7ef5d7b0545a4badc86f646dd3f36"
      }
     },
     "892a6d211f3940a497cb666dd093f28a": {
      "model_module": "@jupyter-widgets/base",
      "model_module_version": "2.0.0",
      "model_name": "LayoutModel",
      "state": {
       "flex": "2"
      }
     },
     "8b23c3fcd86645e3928bcd33c6b7efd2": {
      "model_module": "@jupyter-widgets/base",
      "model_module_version": "2.0.0",
      "model_name": "LayoutModel",
      "state": {}
     },
     "8c67c9852ed742c1811295a62c3ada88": {
      "model_module": "@jupyter-widgets/controls",
      "model_module_version": "2.0.0",
      "model_name": "HTMLStyleModel",
      "state": {
       "description_width": "",
       "font_size": null,
       "text_color": null
      }
     },
     "8cf97a29607d46f5aa209a6500df796f": {
      "model_module": "@jupyter-widgets/base",
      "model_module_version": "2.0.0",
      "model_name": "LayoutModel",
      "state": {}
     },
     "8e0507244f26417cb426ea291fa3bfd5": {
      "model_module": "@jupyter-widgets/base",
      "model_module_version": "2.0.0",
      "model_name": "LayoutModel",
      "state": {}
     },
     "8e2557cf885d40f9b94b9004391028db": {
      "model_module": "@jupyter-widgets/controls",
      "model_module_version": "2.0.0",
      "model_name": "HTMLModel",
      "state": {
       "layout": "IPY_MODEL_842d5ef0ec7942409e9408c1c9caa071",
       "style": "IPY_MODEL_fdd582eed29b4e3882411ca7458d9ed7",
       "value": " 100/100 [00:01&lt;00:00, 97.85it/s]"
      }
     },
     "8ed8813665ae4903bda9e22b5df21da3": {
      "model_module": "@jupyter-widgets/base",
      "model_module_version": "2.0.0",
      "model_name": "LayoutModel",
      "state": {}
     },
     "8f6bcbdea3134959a0f6e59c02659e02": {
      "model_module": "@jupyter-widgets/controls",
      "model_module_version": "2.0.0",
      "model_name": "FloatProgressModel",
      "state": {
       "layout": "IPY_MODEL_ab52c4b08fb6475b96f8d86ab10b7956",
       "max": 63,
       "style": "IPY_MODEL_58c6933fbf074af28c877465ec783fa8",
       "value": 63
      }
     },
     "8fbc5cb55cc444caaaf05f03e47f0ef1": {
      "model_module": "@jupyter-widgets/controls",
      "model_module_version": "2.0.0",
      "model_name": "HTMLStyleModel",
      "state": {
       "description_width": "",
       "font_size": null,
       "text_color": null
      }
     },
     "903a8736191d4bfaa21f55fafd5b297f": {
      "model_module": "@jupyter-widgets/base",
      "model_module_version": "2.0.0",
      "model_name": "LayoutModel",
      "state": {
       "display": "inline-flex",
       "flex_flow": "row wrap",
       "visibility": "hidden",
       "width": "100%"
      }
     },
     "90870f1a92b447439c310c088868d1bf": {
      "model_module": "@jupyter-widgets/base",
      "model_module_version": "2.0.0",
      "model_name": "LayoutModel",
      "state": {}
     },
     "909045f7b74744bdafedab821f117dd6": {
      "model_module": "@jupyter-widgets/controls",
      "model_module_version": "2.0.0",
      "model_name": "HTMLStyleModel",
      "state": {
       "description_width": "",
       "font_size": null,
       "text_color": null
      }
     },
     "90d3a00aa15a4d178f00e085507a2249": {
      "model_module": "@jupyter-widgets/controls",
      "model_module_version": "2.0.0",
      "model_name": "HTMLStyleModel",
      "state": {
       "description_width": "",
       "font_size": null,
       "text_color": null
      }
     },
     "92075be901754b19aca28653c3fd46e5": {
      "model_module": "@jupyter-widgets/base",
      "model_module_version": "2.0.0",
      "model_name": "LayoutModel",
      "state": {
       "display": "inline-flex",
       "flex_flow": "row wrap",
       "visibility": "hidden",
       "width": "100%"
      }
     },
     "924f3373d4014bb69d28122f00d9bc0d": {
      "model_module": "@jupyter-widgets/controls",
      "model_module_version": "2.0.0",
      "model_name": "FloatProgressModel",
      "state": {
       "layout": "IPY_MODEL_1143a67fb0934a3aae4d82860d612906",
       "max": 63,
       "style": "IPY_MODEL_c21cd11497c34e51b0704a0f53d5e301",
       "value": 63
      }
     },
     "93ce6ea572c54f068eb86f1133b3b593": {
      "model_module": "@jupyter-widgets/controls",
      "model_module_version": "2.0.0",
      "model_name": "ProgressStyleModel",
      "state": {
       "description_width": ""
      }
     },
     "946c2582755c45d49583651bf89cc16e": {
      "model_module": "@jupyter-widgets/base",
      "model_module_version": "2.0.0",
      "model_name": "LayoutModel",
      "state": {}
     },
     "961e1bd459b04b63b1baa076164381c9": {
      "model_module": "@jupyter-widgets/base",
      "model_module_version": "2.0.0",
      "model_name": "LayoutModel",
      "state": {
       "display": "inline-flex",
       "flex_flow": "row wrap",
       "visibility": "hidden",
       "width": "100%"
      }
     },
     "963fe5c5f3fe4d8786edd208c43a95e1": {
      "model_module": "@jupyter-widgets/base",
      "model_module_version": "2.0.0",
      "model_name": "LayoutModel",
      "state": {
       "flex": "2"
      }
     },
     "9812fc085b7048d39310f77561c3e6e1": {
      "model_module": "@jupyter-widgets/base",
      "model_module_version": "2.0.0",
      "model_name": "LayoutModel",
      "state": {}
     },
     "9883e926d61e4dbba97c4ec5c4e5c637": {
      "model_module": "@jupyter-widgets/controls",
      "model_module_version": "2.0.0",
      "model_name": "FloatProgressModel",
      "state": {
       "bar_style": "success",
       "layout": "IPY_MODEL_da618bb3c4704824bf915a54fa30f0e8",
       "max": 63,
       "style": "IPY_MODEL_e0ac67b4c0744262aa31a045ca22106d",
       "value": 63
      }
     },
     "9a9fdcca9a934895897c52501cdeb1e1": {
      "model_module": "@jupyter-widgets/base",
      "model_module_version": "2.0.0",
      "model_name": "LayoutModel",
      "state": {
       "flex": "2"
      }
     },
     "9b4389f248ae4561981e2e33853a6a34": {
      "model_module": "@jupyter-widgets/controls",
      "model_module_version": "2.0.0",
      "model_name": "HTMLModel",
      "state": {
       "layout": "IPY_MODEL_30083e3672ae4d2bbb9f38f28a7a9293",
       "style": "IPY_MODEL_6919112bf9934b7ba9c5e3c55a1db572",
       "value": " 63/63 [00:00&lt;00:00, 221.19it/s]"
      }
     },
     "9b6a9a7d46944b798976e04a994eab40": {
      "model_module": "@jupyter-widgets/base",
      "model_module_version": "2.0.0",
      "model_name": "LayoutModel",
      "state": {
       "display": "inline-flex",
       "flex_flow": "row wrap",
       "visibility": "hidden",
       "width": "100%"
      }
     },
     "9b74387adddd4023aba32793c28bc337": {
      "model_module": "@jupyter-widgets/controls",
      "model_module_version": "2.0.0",
      "model_name": "HTMLModel",
      "state": {
       "layout": "IPY_MODEL_6724c019edb1456db0e4caefbaff16e5",
       "style": "IPY_MODEL_b5f40cc7015c449a97b722f9b4a542f7",
       "value": "Sanity Checking DataLoader 0: 100%"
      }
     },
     "9c7577266ca646528cf7e257de559160": {
      "model_module": "@jupyter-widgets/base",
      "model_module_version": "2.0.0",
      "model_name": "LayoutModel",
      "state": {}
     },
     "9cccc9e1690c465e8a84e5605741bf68": {
      "model_module": "@jupyter-widgets/base",
      "model_module_version": "2.0.0",
      "model_name": "LayoutModel",
      "state": {}
     },
     "9e2b52adca114f4f86dd10ab9e458b08": {
      "model_module": "@jupyter-widgets/controls",
      "model_module_version": "2.0.0",
      "model_name": "FloatProgressModel",
      "state": {
       "layout": "IPY_MODEL_af7c4bc986e44b5a830dbe64ade4856e",
       "max": 63,
       "style": "IPY_MODEL_7e3f2e24ca8243058cb8ee20927f3214",
       "value": 63
      }
     },
     "a118441db9c7409da642398a9ba69dc7": {
      "model_module": "@jupyter-widgets/base",
      "model_module_version": "2.0.0",
      "model_name": "LayoutModel",
      "state": {
       "flex": "2"
      }
     },
     "a1445741206b4eefac760526f197c546": {
      "model_module": "@jupyter-widgets/base",
      "model_module_version": "2.0.0",
      "model_name": "LayoutModel",
      "state": {}
     },
     "a20ba7c4a1024b6eb22510ad97c1d6e3": {
      "model_module": "@jupyter-widgets/controls",
      "model_module_version": "2.0.0",
      "model_name": "ProgressStyleModel",
      "state": {
       "description_width": ""
      }
     },
     "a280645883d24e49adc5a934218d82fe": {
      "model_module": "@jupyter-widgets/controls",
      "model_module_version": "2.0.0",
      "model_name": "HBoxModel",
      "state": {
       "children": [
        "IPY_MODEL_4411b788294c4e268efca06c34203735",
        "IPY_MODEL_0dc051c3f9f143288c6e519c8405ca8a",
        "IPY_MODEL_8e2557cf885d40f9b94b9004391028db"
       ],
       "layout": "IPY_MODEL_7984b25e6d6c493a8b55f4476ae8f0cb"
      }
     },
     "a282923fa9c34fd6a7232d92063da439": {
      "model_module": "@jupyter-widgets/controls",
      "model_module_version": "2.0.0",
      "model_name": "FloatProgressModel",
      "state": {
       "layout": "IPY_MODEL_1034b08a54e8434a93d792dd9ba5ab84",
       "max": 63,
       "style": "IPY_MODEL_76d6678ec1c5460185220b94c9dd43a8",
       "value": 63
      }
     },
     "a2b0bc6d86a6449393aa0054fbf2dd9f": {
      "model_module": "@jupyter-widgets/controls",
      "model_module_version": "2.0.0",
      "model_name": "ProgressStyleModel",
      "state": {
       "description_width": ""
      }
     },
     "a41ac5ab642c42b6883c29e8108487f0": {
      "model_module": "@jupyter-widgets/base",
      "model_module_version": "2.0.0",
      "model_name": "LayoutModel",
      "state": {
       "flex": "2"
      }
     },
     "a46802d8c92b484a86ef2e6fed1c517e": {
      "model_module": "@jupyter-widgets/controls",
      "model_module_version": "2.0.0",
      "model_name": "HTMLModel",
      "state": {
       "layout": "IPY_MODEL_e18e223c0beb452a9fa7f85b59a6f901",
       "style": "IPY_MODEL_c8428e4ec19e4353ba80e3a2d5668ea2",
       "value": " 63/63 [00:00&lt;00:00, 79.38it/s]"
      }
     },
     "a52b5ff3fea343fbbd75dd7c9e514eb9": {
      "model_module": "@jupyter-widgets/controls",
      "model_module_version": "2.0.0",
      "model_name": "HTMLModel",
      "state": {
       "layout": "IPY_MODEL_16c1e05fced14b83ae3eaf6c75f645f7",
       "style": "IPY_MODEL_035e99bf46184f2da6e7293024eb2260",
       "value": "Validation DataLoader 0: 100%"
      }
     },
     "a7c98d0811174e9cbf387f8623e0aaa9": {
      "model_module": "@jupyter-widgets/base",
      "model_module_version": "2.0.0",
      "model_name": "LayoutModel",
      "state": {}
     },
     "aa31a783521c4d428e1a66a187f58916": {
      "model_module": "@jupyter-widgets/controls",
      "model_module_version": "2.0.0",
      "model_name": "HTMLModel",
      "state": {
       "layout": "IPY_MODEL_6767d32323dc4a10b58cc0280134f84d",
       "style": "IPY_MODEL_fd27e13ad4a24e419f0a3760254a3dfa",
       "value": " 2/2 [00:00&lt;00:00,  4.85it/s]"
      }
     },
     "ab52c4b08fb6475b96f8d86ab10b7956": {
      "model_module": "@jupyter-widgets/base",
      "model_module_version": "2.0.0",
      "model_name": "LayoutModel",
      "state": {
       "flex": "2"
      }
     },
     "abf68685636f4188984bc68af82f8481": {
      "model_module": "@jupyter-widgets/base",
      "model_module_version": "2.0.0",
      "model_name": "LayoutModel",
      "state": {
       "flex": "2"
      }
     },
     "acc75667e0dd4843aa76030fadc531e7": {
      "model_module": "@jupyter-widgets/controls",
      "model_module_version": "2.0.0",
      "model_name": "ProgressStyleModel",
      "state": {
       "description_width": ""
      }
     },
     "aecf6573ff7147b2bfb8f156e450b085": {
      "model_module": "@jupyter-widgets/controls",
      "model_module_version": "2.0.0",
      "model_name": "FloatProgressModel",
      "state": {
       "layout": "IPY_MODEL_a41ac5ab642c42b6883c29e8108487f0",
       "max": 63,
       "style": "IPY_MODEL_acc75667e0dd4843aa76030fadc531e7",
       "value": 63
      }
     },
     "af7a0239fa5b48e6b22bbd974196ff10": {
      "model_module": "@jupyter-widgets/controls",
      "model_module_version": "2.0.0",
      "model_name": "FloatProgressModel",
      "state": {
       "bar_style": "success",
       "layout": "IPY_MODEL_49deedad87fc402f892a25bcae8df7d7",
       "max": 63,
       "style": "IPY_MODEL_fea5293d2c6349089b9bf4550d4e6041",
       "value": 63
      }
     },
     "af7c4bc986e44b5a830dbe64ade4856e": {
      "model_module": "@jupyter-widgets/base",
      "model_module_version": "2.0.0",
      "model_name": "LayoutModel",
      "state": {
       "flex": "2"
      }
     },
     "b0638b42633e43ac9320f36def7051ff": {
      "model_module": "@jupyter-widgets/controls",
      "model_module_version": "2.0.0",
      "model_name": "HTMLModel",
      "state": {
       "layout": "IPY_MODEL_9c7577266ca646528cf7e257de559160",
       "style": "IPY_MODEL_f656e4a346fe46b59f85dbf41c1fdfff",
       "value": "Validation DataLoader 0: 100%"
      }
     },
     "b157bb3a9bdd4d8eae1c2535aa41c81d": {
      "model_module": "@jupyter-widgets/controls",
      "model_module_version": "2.0.0",
      "model_name": "HTMLStyleModel",
      "state": {
       "description_width": "",
       "font_size": null,
       "text_color": null
      }
     },
     "b26f1bb1b4b44cc8bffc162cf8c997ce": {
      "model_module": "@jupyter-widgets/base",
      "model_module_version": "2.0.0",
      "model_name": "LayoutModel",
      "state": {}
     },
     "b288d0338248405595af2a8148aa7482": {
      "model_module": "@jupyter-widgets/controls",
      "model_module_version": "2.0.0",
      "model_name": "ProgressStyleModel",
      "state": {
       "description_width": ""
      }
     },
     "b2a2bfa7e4f64d1b97d386891d6bd034": {
      "model_module": "@jupyter-widgets/controls",
      "model_module_version": "2.0.0",
      "model_name": "FloatProgressModel",
      "state": {
       "layout": "IPY_MODEL_5677278a4892418cafc846a5bfd2f87d",
       "max": 63,
       "style": "IPY_MODEL_23cfdd7d112b4859aab220d224bd00d7",
       "value": 63
      }
     },
     "b463d968a8d741ecaf1e7c27c04ca462": {
      "model_module": "@jupyter-widgets/controls",
      "model_module_version": "2.0.0",
      "model_name": "ProgressStyleModel",
      "state": {
       "description_width": ""
      }
     },
     "b4efbc5fb3df43cfa6492a118c6634ea": {
      "model_module": "@jupyter-widgets/base",
      "model_module_version": "2.0.0",
      "model_name": "LayoutModel",
      "state": {}
     },
     "b547137fdfea4193bed1b51b8eca510f": {
      "model_module": "@jupyter-widgets/controls",
      "model_module_version": "2.0.0",
      "model_name": "HTMLModel",
      "state": {
       "layout": "IPY_MODEL_b26f1bb1b4b44cc8bffc162cf8c997ce",
       "style": "IPY_MODEL_d820f526a522453899c443923bfda35a",
       "value": " 63/63 [00:00&lt;00:00, 236.38it/s]"
      }
     },
     "b58a9eebfb474464bcd59ee3536da011": {
      "model_module": "@jupyter-widgets/controls",
      "model_module_version": "2.0.0",
      "model_name": "ProgressStyleModel",
      "state": {
       "description_width": ""
      }
     },
     "b5f40cc7015c449a97b722f9b4a542f7": {
      "model_module": "@jupyter-widgets/controls",
      "model_module_version": "2.0.0",
      "model_name": "HTMLStyleModel",
      "state": {
       "description_width": "",
       "font_size": null,
       "text_color": null
      }
     },
     "b7367a448b974fce82d63a42cd323962": {
      "model_module": "@jupyter-widgets/base",
      "model_module_version": "2.0.0",
      "model_name": "LayoutModel",
      "state": {}
     },
     "b7afaa7f1f164f6bb7540cf848abfd2d": {
      "model_module": "@jupyter-widgets/base",
      "model_module_version": "2.0.0",
      "model_name": "LayoutModel",
      "state": {}
     },
     "b7b595c82a524716861a8173eb662426": {
      "model_module": "@jupyter-widgets/base",
      "model_module_version": "2.0.0",
      "model_name": "LayoutModel",
      "state": {}
     },
     "b83b39498de74b1e9b6904bacc597bf1": {
      "model_module": "@jupyter-widgets/controls",
      "model_module_version": "2.0.0",
      "model_name": "HBoxModel",
      "state": {
       "children": [
        "IPY_MODEL_6b192ca9ffeb436481e88658ce9c0be3",
        "IPY_MODEL_2be0bcec87314856bf4569c2f5c16917",
        "IPY_MODEL_7662403627b84b70a5e6a98ea76dd266"
       ],
       "layout": "IPY_MODEL_e63a010bbfa44bcaa5bd7d792afb5462"
      }
     },
     "b8a9f5d427a548729dd917cbd6ad6aaf": {
      "model_module": "@jupyter-widgets/controls",
      "model_module_version": "2.0.0",
      "model_name": "ProgressStyleModel",
      "state": {
       "description_width": ""
      }
     },
     "b8fdafb9366140ee849bc14cd0b8fa2d": {
      "model_module": "@jupyter-widgets/controls",
      "model_module_version": "2.0.0",
      "model_name": "FloatProgressModel",
      "state": {
       "layout": "IPY_MODEL_d519c36f5d584526bb19b58da0cbe923",
       "max": 63,
       "style": "IPY_MODEL_b8a9f5d427a548729dd917cbd6ad6aaf",
       "value": 63
      }
     },
     "ba748c2268aa4c7eaa5e3b1ea5c13a23": {
      "model_module": "@jupyter-widgets/controls",
      "model_module_version": "2.0.0",
      "model_name": "ProgressStyleModel",
      "state": {
       "description_width": ""
      }
     },
     "bae1af3d23a94337b017a3861eb7b903": {
      "model_module": "@jupyter-widgets/controls",
      "model_module_version": "2.0.0",
      "model_name": "HTMLModel",
      "state": {
       "layout": "IPY_MODEL_58a8096bcd984d799921c1f991c352e0",
       "style": "IPY_MODEL_909045f7b74744bdafedab821f117dd6",
       "value": " 63/63 [00:00&lt;00:00, 224.41it/s]"
      }
     },
     "bbb2cc91aab8444fba7fae4105f0add0": {
      "model_module": "@jupyter-widgets/controls",
      "model_module_version": "2.0.0",
      "model_name": "HTMLStyleModel",
      "state": {
       "description_width": "",
       "font_size": null,
       "text_color": null
      }
     },
     "bbed50820f294e9c8259214c6828ad8c": {
      "model_module": "@jupyter-widgets/controls",
      "model_module_version": "2.0.0",
      "model_name": "FloatProgressModel",
      "state": {
       "bar_style": "success",
       "layout": "IPY_MODEL_4be7f26336aa4b7e8cbb050cd3f85bdb",
       "max": 63,
       "style": "IPY_MODEL_41193f1b9eda4f0294ed0648015bc7ad",
       "value": 63
      }
     },
     "bd5191129a5c4b8eb5d88e92b1189047": {
      "model_module": "@jupyter-widgets/controls",
      "model_module_version": "2.0.0",
      "model_name": "ProgressStyleModel",
      "state": {
       "description_width": ""
      }
     },
     "bd5a52020db34589ab873418d8e6fc1c": {
      "model_module": "@jupyter-widgets/base",
      "model_module_version": "2.0.0",
      "model_name": "LayoutModel",
      "state": {}
     },
     "be3828ef13374227b6e5988de49957ec": {
      "model_module": "@jupyter-widgets/controls",
      "model_module_version": "2.0.0",
      "model_name": "HTMLModel",
      "state": {
       "layout": "IPY_MODEL_18b39cc0b675468ca74b54b3bc3328c3",
       "style": "IPY_MODEL_e38a6f63a7bf4bdfa611aa05185e29f3",
       "value": " 63/63 [00:00&lt;00:00, 96.74it/s]"
      }
     },
     "bf08703d4e394af4a23608442897ca25": {
      "model_module": "@jupyter-widgets/controls",
      "model_module_version": "2.0.0",
      "model_name": "HTMLModel",
      "state": {
       "layout": "IPY_MODEL_b7afaa7f1f164f6bb7540cf848abfd2d",
       "style": "IPY_MODEL_70654956e6114bfb9dda4d50e8ac60f2",
       "value": "Validation DataLoader 0: 100%"
      }
     },
     "c01d53073fd6493ea147865c60376de3": {
      "model_module": "@jupyter-widgets/base",
      "model_module_version": "2.0.0",
      "model_name": "LayoutModel",
      "state": {
       "display": "inline-flex",
       "flex_flow": "row wrap",
       "visibility": "hidden",
       "width": "100%"
      }
     },
     "c0a6a65e574d4778bba16e84dfa22e58": {
      "model_module": "@jupyter-widgets/base",
      "model_module_version": "2.0.0",
      "model_name": "LayoutModel",
      "state": {
       "display": "inline-flex",
       "flex_flow": "row wrap",
       "width": "100%"
      }
     },
     "c21cd11497c34e51b0704a0f53d5e301": {
      "model_module": "@jupyter-widgets/controls",
      "model_module_version": "2.0.0",
      "model_name": "ProgressStyleModel",
      "state": {
       "description_width": ""
      }
     },
     "c37182d2c6c74466bee9367edb8bf2b6": {
      "model_module": "@jupyter-widgets/controls",
      "model_module_version": "2.0.0",
      "model_name": "HTMLStyleModel",
      "state": {
       "description_width": "",
       "font_size": null,
       "text_color": null
      }
     },
     "c59fb40ed2464df3bb3f213a447c2fa4": {
      "model_module": "@jupyter-widgets/controls",
      "model_module_version": "2.0.0",
      "model_name": "HTMLModel",
      "state": {
       "layout": "IPY_MODEL_ec9341daa725432fa49f7004055f25f2",
       "style": "IPY_MODEL_90d3a00aa15a4d178f00e085507a2249",
       "value": "Epoch 19: 100%"
      }
     },
     "c6599dfa713647dd93870c30008761a3": {
      "model_module": "@jupyter-widgets/base",
      "model_module_version": "2.0.0",
      "model_name": "LayoutModel",
      "state": {
       "display": "inline-flex",
       "flex_flow": "row wrap",
       "visibility": "hidden",
       "width": "100%"
      }
     },
     "c82311956fde49e5920ee9e0a037eb7e": {
      "model_module": "@jupyter-widgets/controls",
      "model_module_version": "2.0.0",
      "model_name": "ProgressStyleModel",
      "state": {
       "description_width": ""
      }
     },
     "c8428e4ec19e4353ba80e3a2d5668ea2": {
      "model_module": "@jupyter-widgets/controls",
      "model_module_version": "2.0.0",
      "model_name": "HTMLStyleModel",
      "state": {
       "description_width": "",
       "font_size": null,
       "text_color": null
      }
     },
     "c970070959734365831338f473f075ef": {
      "model_module": "@jupyter-widgets/controls",
      "model_module_version": "2.0.0",
      "model_name": "HTMLModel",
      "state": {
       "layout": "IPY_MODEL_d8f5c556211b493fb324ceb1a19326fc",
       "style": "IPY_MODEL_f3a4277cf0c041dc85ae1b50bf762d4c",
       "value": " 63/63 [00:00&lt;00:00, 260.55it/s]"
      }
     },
     "cbda61602d23422fa9bd77bb838da5c2": {
      "model_module": "@jupyter-widgets/base",
      "model_module_version": "2.0.0",
      "model_name": "LayoutModel",
      "state": {
       "display": "inline-flex",
       "flex_flow": "row wrap",
       "width": "100%"
      }
     },
     "cc200083def4441aad4559f0d0273485": {
      "model_module": "@jupyter-widgets/base",
      "model_module_version": "2.0.0",
      "model_name": "LayoutModel",
      "state": {}
     },
     "cea87173f3ec4844b545716a1e555d32": {
      "model_module": "@jupyter-widgets/controls",
      "model_module_version": "2.0.0",
      "model_name": "HTMLStyleModel",
      "state": {
       "description_width": "",
       "font_size": null,
       "text_color": null
      }
     },
     "cf7f19c620f24fcea8cd34186b3cfec0": {
      "model_module": "@jupyter-widgets/controls",
      "model_module_version": "2.0.0",
      "model_name": "ProgressStyleModel",
      "state": {
       "description_width": ""
      }
     },
     "d0e6b76014a446019b25777b70009a6c": {
      "model_module": "@jupyter-widgets/controls",
      "model_module_version": "2.0.0",
      "model_name": "HTMLStyleModel",
      "state": {
       "description_width": "",
       "font_size": null,
       "text_color": null
      }
     },
     "d106c17b63fb4d178f8fc8644856228a": {
      "model_module": "@jupyter-widgets/controls",
      "model_module_version": "2.0.0",
      "model_name": "HTMLModel",
      "state": {
       "layout": "IPY_MODEL_1e42cebd5a4b4a0691f807e444f369ac",
       "style": "IPY_MODEL_2ee4785cd33a435d9227f0923fd28106",
       "value": " 63/63 [00:00&lt;00:00, 252.99it/s]"
      }
     },
     "d1507ec6e1c646e08a3a7b76413b6fec": {
      "model_module": "@jupyter-widgets/base",
      "model_module_version": "2.0.0",
      "model_name": "LayoutModel",
      "state": {
       "display": "inline-flex",
       "flex_flow": "row wrap",
       "visibility": "hidden",
       "width": "100%"
      }
     },
     "d1e57d6a2586491aa1f02d75e9d6df15": {
      "model_module": "@jupyter-widgets/controls",
      "model_module_version": "2.0.0",
      "model_name": "HTMLModel",
      "state": {
       "layout": "IPY_MODEL_cc200083def4441aad4559f0d0273485",
       "style": "IPY_MODEL_2ec8336e011744b0b1228c2083f3a499",
       "value": "Testing DataLoader 0: 100%"
      }
     },
     "d2e40fc4786946a28cec5a2659fa6ed7": {
      "model_module": "@jupyter-widgets/controls",
      "model_module_version": "2.0.0",
      "model_name": "HTMLModel",
      "state": {
       "layout": "IPY_MODEL_0f6d776184674721810037084cca30f7",
       "style": "IPY_MODEL_5939dffea5264f8e8c5c139ee05e8f3a",
       "value": "Validation DataLoader 0: 100%"
      }
     },
     "d3dcfe42b97a4dac892d650a35dbe0c2": {
      "model_module": "@jupyter-widgets/controls",
      "model_module_version": "2.0.0",
      "model_name": "HTMLStyleModel",
      "state": {
       "description_width": "",
       "font_size": null,
       "text_color": null
      }
     },
     "d519c36f5d584526bb19b58da0cbe923": {
      "model_module": "@jupyter-widgets/base",
      "model_module_version": "2.0.0",
      "model_name": "LayoutModel",
      "state": {
       "flex": "2"
      }
     },
     "d53db95742f347fb9a77f3e5f957820f": {
      "model_module": "@jupyter-widgets/base",
      "model_module_version": "2.0.0",
      "model_name": "LayoutModel",
      "state": {
       "display": "inline-flex",
       "flex_flow": "row wrap",
       "width": "100%"
      }
     },
     "d5a7ea61eadc4509b44916945303a7ab": {
      "model_module": "@jupyter-widgets/controls",
      "model_module_version": "2.0.0",
      "model_name": "ProgressStyleModel",
      "state": {
       "description_width": ""
      }
     },
     "d820f526a522453899c443923bfda35a": {
      "model_module": "@jupyter-widgets/controls",
      "model_module_version": "2.0.0",
      "model_name": "HTMLStyleModel",
      "state": {
       "description_width": "",
       "font_size": null,
       "text_color": null
      }
     },
     "d8f5c556211b493fb324ceb1a19326fc": {
      "model_module": "@jupyter-widgets/base",
      "model_module_version": "2.0.0",
      "model_name": "LayoutModel",
      "state": {}
     },
     "da618bb3c4704824bf915a54fa30f0e8": {
      "model_module": "@jupyter-widgets/base",
      "model_module_version": "2.0.0",
      "model_name": "LayoutModel",
      "state": {
       "flex": "2"
      }
     },
     "da7f1e42cc254d83bc6ec68376750008": {
      "model_module": "@jupyter-widgets/base",
      "model_module_version": "2.0.0",
      "model_name": "LayoutModel",
      "state": {
       "display": "inline-flex",
       "flex_flow": "row wrap",
       "visibility": "hidden",
       "width": "100%"
      }
     },
     "dad5a9d0b62d46689ab45a9bf9eb7b06": {
      "model_module": "@jupyter-widgets/base",
      "model_module_version": "2.0.0",
      "model_name": "LayoutModel",
      "state": {
       "flex": "2"
      }
     },
     "daf7c20b803647839851d9a21a25b967": {
      "model_module": "@jupyter-widgets/base",
      "model_module_version": "2.0.0",
      "model_name": "LayoutModel",
      "state": {
       "display": "inline-flex",
       "flex_flow": "row wrap",
       "visibility": "hidden",
       "width": "100%"
      }
     },
     "dc877dcd37c34482a3a50f7e9090b2c9": {
      "model_module": "@jupyter-widgets/base",
      "model_module_version": "2.0.0",
      "model_name": "LayoutModel",
      "state": {
       "display": "inline-flex",
       "flex_flow": "row wrap",
       "visibility": "hidden",
       "width": "100%"
      }
     },
     "dcdffbbdcfa54ce98c6b2ce55f57ab9a": {
      "model_module": "@jupyter-widgets/controls",
      "model_module_version": "2.0.0",
      "model_name": "HTMLModel",
      "state": {
       "layout": "IPY_MODEL_8b23c3fcd86645e3928bcd33c6b7efd2",
       "style": "IPY_MODEL_52f54a007906418da5ec0a1c56a18e84",
       "value": "Validation DataLoader 0: 100%"
      }
     },
     "dd77fe35cf8440b1878845c7898bef85": {
      "model_module": "@jupyter-widgets/controls",
      "model_module_version": "2.0.0",
      "model_name": "HTMLStyleModel",
      "state": {
       "description_width": "",
       "font_size": null,
       "text_color": null
      }
     },
     "de250c55749247bf9d8e79e65da34782": {
      "model_module": "@jupyter-widgets/controls",
      "model_module_version": "2.0.0",
      "model_name": "HTMLStyleModel",
      "state": {
       "description_width": "",
       "font_size": null,
       "text_color": null
      }
     },
     "def6b30263ce422db5976b327a6c3696": {
      "model_module": "@jupyter-widgets/controls",
      "model_module_version": "2.0.0",
      "model_name": "HTMLModel",
      "state": {
       "layout": "IPY_MODEL_bd5a52020db34589ab873418d8e6fc1c",
       "style": "IPY_MODEL_8c67c9852ed742c1811295a62c3ada88",
       "value": " 63/63 [00:00&lt;00:00, 216.30it/s]"
      }
     },
     "dff65e3317d440e6b8ed4d4133498ab1": {
      "model_module": "@jupyter-widgets/base",
      "model_module_version": "2.0.0",
      "model_name": "LayoutModel",
      "state": {}
     },
     "e07cd57c2d8f4d3b84b7a18c0a265352": {
      "model_module": "@jupyter-widgets/controls",
      "model_module_version": "2.0.0",
      "model_name": "FloatProgressModel",
      "state": {
       "layout": "IPY_MODEL_36a2f6eb1191438e8e8e844dfd279610",
       "max": 63,
       "style": "IPY_MODEL_7a45a8cbcfd2487d86ac2ff0e7be2359",
       "value": 63
      }
     },
     "e0ac67b4c0744262aa31a045ca22106d": {
      "model_module": "@jupyter-widgets/controls",
      "model_module_version": "2.0.0",
      "model_name": "ProgressStyleModel",
      "state": {
       "description_width": ""
      }
     },
     "e18e223c0beb452a9fa7f85b59a6f901": {
      "model_module": "@jupyter-widgets/base",
      "model_module_version": "2.0.0",
      "model_name": "LayoutModel",
      "state": {}
     },
     "e38a6f63a7bf4bdfa611aa05185e29f3": {
      "model_module": "@jupyter-widgets/controls",
      "model_module_version": "2.0.0",
      "model_name": "HTMLStyleModel",
      "state": {
       "description_width": "",
       "font_size": null,
       "text_color": null
      }
     },
     "e4285a8e8d7748b9a4354c227df72d37": {
      "model_module": "@jupyter-widgets/controls",
      "model_module_version": "2.0.0",
      "model_name": "HTMLStyleModel",
      "state": {
       "description_width": "",
       "font_size": null,
       "text_color": null
      }
     },
     "e4555f54e5cc47ba98c42bc70b0b60c7": {
      "model_module": "@jupyter-widgets/base",
      "model_module_version": "2.0.0",
      "model_name": "LayoutModel",
      "state": {
       "display": "inline-flex",
       "flex_flow": "row wrap",
       "visibility": "hidden",
       "width": "100%"
      }
     },
     "e490a3d4164c4923bb90db5d9d7dd9c5": {
      "model_module": "@jupyter-widgets/controls",
      "model_module_version": "2.0.0",
      "model_name": "HTMLStyleModel",
      "state": {
       "description_width": "",
       "font_size": null,
       "text_color": null
      }
     },
     "e56187dfa4714c888039e7f38c4d4056": {
      "model_module": "@jupyter-widgets/base",
      "model_module_version": "2.0.0",
      "model_name": "LayoutModel",
      "state": {}
     },
     "e63a010bbfa44bcaa5bd7d792afb5462": {
      "model_module": "@jupyter-widgets/base",
      "model_module_version": "2.0.0",
      "model_name": "LayoutModel",
      "state": {
       "display": "inline-flex",
       "flex_flow": "row wrap",
       "width": "100%"
      }
     },
     "e81da9cad4db428cae075ce83122785c": {
      "model_module": "@jupyter-widgets/base",
      "model_module_version": "2.0.0",
      "model_name": "LayoutModel",
      "state": {}
     },
     "ec9341daa725432fa49f7004055f25f2": {
      "model_module": "@jupyter-widgets/base",
      "model_module_version": "2.0.0",
      "model_name": "LayoutModel",
      "state": {}
     },
     "edd61b1ce6184655b708bc58177576ab": {
      "model_module": "@jupyter-widgets/controls",
      "model_module_version": "2.0.0",
      "model_name": "HTMLStyleModel",
      "state": {
       "description_width": "",
       "font_size": null,
       "text_color": null
      }
     },
     "ee8ddc9759a4441db3ef69549a82a947": {
      "model_module": "@jupyter-widgets/base",
      "model_module_version": "2.0.0",
      "model_name": "LayoutModel",
      "state": {
       "flex": "2"
      }
     },
     "ef232aeff5734eb6a0112f4f4510ea89": {
      "model_module": "@jupyter-widgets/base",
      "model_module_version": "2.0.0",
      "model_name": "LayoutModel",
      "state": {}
     },
     "efe8168b305f4c2f9350433c5957745f": {
      "model_module": "@jupyter-widgets/controls",
      "model_module_version": "2.0.0",
      "model_name": "HTMLModel",
      "state": {
       "layout": "IPY_MODEL_b4efbc5fb3df43cfa6492a118c6634ea",
       "style": "IPY_MODEL_f1490b0de3694421ad009b65f7b770d8",
       "value": "Validation DataLoader 0: 100%"
      }
     },
     "f0d3a0baefcb43419b5e80a682fc78bd": {
      "model_module": "@jupyter-widgets/controls",
      "model_module_version": "2.0.0",
      "model_name": "HTMLStyleModel",
      "state": {
       "description_width": "",
       "font_size": null,
       "text_color": null
      }
     },
     "f1490b0de3694421ad009b65f7b770d8": {
      "model_module": "@jupyter-widgets/controls",
      "model_module_version": "2.0.0",
      "model_name": "HTMLStyleModel",
      "state": {
       "description_width": "",
       "font_size": null,
       "text_color": null
      }
     },
     "f346a107b9eb419280e0a504ebbed59d": {
      "model_module": "@jupyter-widgets/base",
      "model_module_version": "2.0.0",
      "model_name": "LayoutModel",
      "state": {}
     },
     "f3a4277cf0c041dc85ae1b50bf762d4c": {
      "model_module": "@jupyter-widgets/controls",
      "model_module_version": "2.0.0",
      "model_name": "HTMLStyleModel",
      "state": {
       "description_width": "",
       "font_size": null,
       "text_color": null
      }
     },
     "f3b3e6eb5daa430f9a6bd82e227800d4": {
      "model_module": "@jupyter-widgets/base",
      "model_module_version": "2.0.0",
      "model_name": "LayoutModel",
      "state": {}
     },
     "f656e4a346fe46b59f85dbf41c1fdfff": {
      "model_module": "@jupyter-widgets/controls",
      "model_module_version": "2.0.0",
      "model_name": "HTMLStyleModel",
      "state": {
       "description_width": "",
       "font_size": null,
       "text_color": null
      }
     },
     "f6e7ef5d7b0545a4badc86f646dd3f36": {
      "model_module": "@jupyter-widgets/base",
      "model_module_version": "2.0.0",
      "model_name": "LayoutModel",
      "state": {
       "display": "inline-flex",
       "flex_flow": "row wrap",
       "width": "100%"
      }
     },
     "f94731636c9c4b6286a19eab51442628": {
      "model_module": "@jupyter-widgets/base",
      "model_module_version": "2.0.0",
      "model_name": "LayoutModel",
      "state": {}
     },
     "f9f07f7fb59b45e8bc1c1fe4a43bd90e": {
      "model_module": "@jupyter-widgets/controls",
      "model_module_version": "2.0.0",
      "model_name": "HTMLModel",
      "state": {
       "layout": "IPY_MODEL_b7367a448b974fce82d63a42cd323962",
       "style": "IPY_MODEL_8226dbf69817448ea25490289a41269e",
       "value": "Validation DataLoader 0: 100%"
      }
     },
     "fa286ec0ecaa468bb3034aedd2515c9d": {
      "model_module": "@jupyter-widgets/base",
      "model_module_version": "2.0.0",
      "model_name": "LayoutModel",
      "state": {}
     },
     "fb4ad7345d9f40d8a6d391136e709683": {
      "model_module": "@jupyter-widgets/controls",
      "model_module_version": "2.0.0",
      "model_name": "HTMLStyleModel",
      "state": {
       "description_width": "",
       "font_size": null,
       "text_color": null
      }
     },
     "fb568861493947f5bbabe5405906627a": {
      "model_module": "@jupyter-widgets/base",
      "model_module_version": "2.0.0",
      "model_name": "LayoutModel",
      "state": {}
     },
     "fc3491ff69aa4e6e9d279198733a1ae9": {
      "model_module": "@jupyter-widgets/controls",
      "model_module_version": "2.0.0",
      "model_name": "HTMLModel",
      "state": {
       "layout": "IPY_MODEL_e81da9cad4db428cae075ce83122785c",
       "style": "IPY_MODEL_0759ca3628e14a4a8733a28a91663299",
       "value": " 63/63 [00:00&lt;00:00, 239.13it/s]"
      }
     },
     "fcefe6a24a6a44469ed7ceaaabfbd306": {
      "model_module": "@jupyter-widgets/controls",
      "model_module_version": "2.0.0",
      "model_name": "HTMLModel",
      "state": {
       "layout": "IPY_MODEL_fb568861493947f5bbabe5405906627a",
       "style": "IPY_MODEL_1f246a515a3f46968c6be2c9ffa46fc5",
       "value": "Testing DataLoader 0: 100%"
      }
     },
     "fd27e13ad4a24e419f0a3760254a3dfa": {
      "model_module": "@jupyter-widgets/controls",
      "model_module_version": "2.0.0",
      "model_name": "HTMLStyleModel",
      "state": {
       "description_width": "",
       "font_size": null,
       "text_color": null
      }
     },
     "fdcbec7e69cb4133a8c75727c008f8de": {
      "model_module": "@jupyter-widgets/base",
      "model_module_version": "2.0.0",
      "model_name": "LayoutModel",
      "state": {
       "display": "inline-flex",
       "flex_flow": "row wrap",
       "visibility": "hidden",
       "width": "100%"
      }
     },
     "fdd582eed29b4e3882411ca7458d9ed7": {
      "model_module": "@jupyter-widgets/controls",
      "model_module_version": "2.0.0",
      "model_name": "HTMLStyleModel",
      "state": {
       "description_width": "",
       "font_size": null,
       "text_color": null
      }
     },
     "fea5293d2c6349089b9bf4550d4e6041": {
      "model_module": "@jupyter-widgets/controls",
      "model_module_version": "2.0.0",
      "model_name": "ProgressStyleModel",
      "state": {
       "description_width": ""
      }
     },
     "fed2fb595ba545e182070f25a334ae0a": {
      "model_module": "@jupyter-widgets/base",
      "model_module_version": "2.0.0",
      "model_name": "LayoutModel",
      "state": {
       "display": "inline-flex",
       "flex_flow": "row wrap",
       "visibility": "hidden",
       "width": "100%"
      }
     },
     "ff86279fa5a94d5ba29145a44f71202a": {
      "model_module": "@jupyter-widgets/controls",
      "model_module_version": "2.0.0",
      "model_name": "FloatProgressModel",
      "state": {
       "layout": "IPY_MODEL_42095aac46d64185b7a3ed480b62cd5e",
       "max": 63,
       "style": "IPY_MODEL_ba748c2268aa4c7eaa5e3b1ea5c13a23",
       "value": 63
      }
     }
    },
    "version_major": 2,
    "version_minor": 0
   }
  }
 },
 "nbformat": 4,
 "nbformat_minor": 4
}
