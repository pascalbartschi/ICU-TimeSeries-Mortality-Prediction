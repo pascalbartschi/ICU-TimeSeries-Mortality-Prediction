{
 "cells": [
  {
   "cell_type": "markdown",
   "metadata": {},
   "source": [
    "# RNN\n",
    "\n",
    "## Lib and Data Loading"
   ]
  },
  {
   "cell_type": "code",
   "execution_count": 7,
   "metadata": {},
   "outputs": [],
   "source": [
    "import numpy as np\n",
    "import pandas as pd\n",
    "from sklearn.model_selection import train_test_split, KFold\n",
    "from sklearn.preprocessing import StandardScaler\n",
    "from sklearn.metrics import (\n",
    "    confusion_matrix,\n",
    "    roc_auc_score,\n",
    "    average_precision_score,\n",
    "    RocCurveDisplay,\n",
    "    PrecisionRecallDisplay,\n",
    "    ConfusionMatrixDisplay\n",
    ")\n",
    "import torch\n",
    "import torch.nn as nn\n",
    "import pytorch_lightning as pl\n",
    "from torch.utils.data import DataLoader, TensorDataset\n",
    "from pytorch_lightning.callbacks import EarlyStopping, LearningRateMonitor, ModelCheckpoint\n",
    "import torchmetrics\n",
    "\n",
    "import os\n",
    "from glob import glob\n",
    "from pathlib import Path\n",
    "from tqdm.notebook import tqdm\n",
    "import ipywidgets as widgets\n",
    "from IPython.display import display, clear_output\n",
    "from matplotlib import pyplot as plt\n",
    "\n",
    "# override all pandas display limits\n",
    "pd.options.display.max_columns = None\n",
    "pd.options.display.max_rows = None\n",
    "\n"
   ]
  },
  {
   "cell_type": "code",
   "execution_count": 8,
   "metadata": {},
   "outputs": [
    {
     "name": "stdout",
     "output_type": "stream",
     "text": [
      "Reading /home/pbaertschi/ICU-TimeSeries-Mortality-Prediction/notebooks/2_SupervisedML/Q2_RNN/../../../data/set-a-filled.parquet -> set_a_filled\n",
      "Reading /home/pbaertschi/ICU-TimeSeries-Mortality-Prediction/notebooks/2_SupervisedML/Q2_RNN/../../../data/set-b.parquet -> set_b\n",
      "Reading /home/pbaertschi/ICU-TimeSeries-Mortality-Prediction/notebooks/2_SupervisedML/Q2_RNN/../../../data/set-a.parquet -> set_a\n",
      "Reading /home/pbaertschi/ICU-TimeSeries-Mortality-Prediction/notebooks/2_SupervisedML/Q2_RNN/../../../data/set-c-filled.parquet -> set_c_filled\n",
      "Reading /home/pbaertschi/ICU-TimeSeries-Mortality-Prediction/notebooks/2_SupervisedML/Q2_RNN/../../../data/set-c.parquet -> set_c\n",
      "Reading /home/pbaertschi/ICU-TimeSeries-Mortality-Prediction/notebooks/2_SupervisedML/Q2_RNN/../../../data/set-b-filled.parquet -> set_b_filled\n"
     ]
    }
   ],
   "source": [
    "# load parquet files\n",
    "data_path = Path(\"../../../data\")\n",
    "notebooks_path = Path(os.getcwd())\n",
    "data_dir = {}\n",
    "\n",
    "##unsafe\n",
    "# for file_path in list((notebooks_path / data_path).glob(\"*.parquet\")):\n",
    "#     print(f\"Reading {file_path}\")\n",
    "#     # retrieve the name of the file without the extension for all OS\n",
    "#     data = pd.read_parquet(file_path)\n",
    "#     # if \"Time\" in df.columns:\n",
    "#     #     df[\"Time\"] = pd.to_datetime(df[\"Time\"])\n",
    "#     data_dir[str(file_path).replace(\"\\\\\", \"/\").split(\"/\")[-1].split(\".\")[0].replace(\"-\", \"_\")] = data\n",
    "\n",
    "for file_path in (notebooks_path / data_path).glob(\"set*.parquet\"):\n",
    "    var_name = file_path.stem.replace(\"-\", \"_\")\n",
    "    globals()[var_name] = pd.read_parquet(file_path)\n",
    "    print(f\"Reading {file_path} -> {var_name}\")\n",
    "\n",
    "\n",
    "ID_vars = [\"PatientID\", \"Time\", \"RecordID\"] # TODO \n",
    "# stationary variables\n",
    "stationary_vars = [\"Age\", \"Gender\", \"Height\"] #, \"ICUType\"]\n",
    "# dynamic variables\n",
    "dynamic_vars = set_a.columns.difference(stationary_vars + ID_vars).tolist()\n",
    "\n",
    "feature_cols = dynamic_vars + stationary_vars\n",
    "\n",
    "\n"
   ]
  },
  {
   "cell_type": "markdown",
   "metadata": {},
   "source": [
    "## Preprocess Data Shape"
   ]
  },
  {
   "cell_type": "code",
   "execution_count": 15,
   "metadata": {},
   "outputs": [],
   "source": [
    "from sklearn.model_selection import KFold\n",
    "\n",
    "class TimeSeriesDataModule(pl.LightningDataModule):\n",
    "    def __init__(\n",
    "        self,\n",
    "        feature_cols,\n",
    "        batch_size=32,\n",
    "        k_folds=None,  # set this to an int (e.g., 5) to activate k-fold\n",
    "        fold_index=0    # index of current fold\n",
    "    ):\n",
    "        super().__init__()\n",
    "        self.feature_cols = feature_cols\n",
    "        self.batch_size = batch_size\n",
    "        self.k_folds = k_folds\n",
    "        self.fold_index = fold_index\n",
    "\n",
    "\n",
    "\n",
    "    def preprocess_parquet_for_lstm(self, key, scaler=None, fit_scaler=False):\n",
    "        labelname = 'In-hospital_death'\n",
    "        \n",
    "\n",
    "        # if isinstance(key, list):\n",
    "        #     df = globals()[f\"set_{key}_filled\"].copy()\n",
    "        # else: \n",
    "        df = globals()[f\"set_{key}_filled\"].copy()\n",
    "            \n",
    "    \n",
    "        # Sort and fill NaNs\n",
    "        df = df.sort_values([\"RecordID\", \"Time\"])\n",
    "        df[self.feature_cols] = df[self.feature_cols].fillna(0)\n",
    "    \n",
    "        # Replace -1 with 0 in binary categorical feature\n",
    "        if \"MechVent\" in df.columns:\n",
    "            df[\"MechVent\"] = df[\"MechVent\"].replace(-1, 0)\n",
    "    \n",
    "        # One-hot encode Gender, drop last column to avoid multicollinearity\n",
    "        if \"Gender\" in df.columns:\n",
    "            gender_dummies = pd.get_dummies(df[\"Gender\"], prefix=\"Gender\", dtype=float)\n",
    "            gender_dummies = gender_dummies.iloc[:, :-1]  # drop last dummy column\n",
    "            df = df.drop(columns=[\"Gender\"])\n",
    "            df = pd.concat([df, gender_dummies], axis=1)\n",
    "    \n",
    "        # Update feature columns after dummy encoding\n",
    "        current_feature_cols = [col for col in df.columns if col in self.feature_cols or col.startswith(\"Gender_\")]\n",
    "    \n",
    "        # Extract numerical columns for scaling\n",
    "        numerical = [f for f in current_feature_cols if f not in [\"MechVent\", labelname] and not f.startswith(\"Gender_\")]\n",
    "    \n",
    "        # Fit or reuse scaler\n",
    "        if fit_scaler or scaler is None:\n",
    "            scaler = StandardScaler()\n",
    "            scaler.fit(df[numerical])\n",
    "    \n",
    "        # Apply scaling\n",
    "        df[numerical] = scaler.transform(df[numerical])\n",
    "    \n",
    "        # Group by RecordID\n",
    "        X, y = [], []\n",
    "        for pid, group in df.groupby(\"RecordID\"):\n",
    "            group = group.sort_values(\"Time\")\n",
    "            X.append(group[current_feature_cols].values)\n",
    "            label = group[labelname].iloc[0]\n",
    "            # if label not in [0, 1]:\n",
    "            #     raise ValueError(f\"Unexpected label {label} for patient {pid}. Expected binary labels only.\")\n",
    "            y.append(int(label))\n",
    "\n",
    "    \n",
    "        X_tensor = torch.tensor(np.stack(X)).float()\n",
    "        y_tensor = torch.tensor(y).float()\n",
    "    \n",
    "        return X_tensor, y_tensor, scaler\n",
    "        \n",
    "\n",
    "\n",
    "\n",
    "    def setup(self, stage=None):\n",
    "        # Load training and validation sets and stack them\n",
    "        X_trainval_a, y_trainval_a, fitted_scaler = self.preprocess_parquet_for_lstm(\"a\", fit_scaler=True)\n",
    "        X_trainval_b, y_trainval_b, _ = self.preprocess_parquet_for_lstm(\"b\", scaler=fitted_scaler)\n",
    "\n",
    "        # Stack A and B\n",
    "        X_trainval = torch.cat([X_trainval_a, X_trainval_b], dim=0)\n",
    "        y_trainval = torch.cat([y_trainval_a, y_trainval_b], dim=0)\n",
    "\n",
    "        if self.k_folds:\n",
    "            kf = KFold(n_splits=self.k_folds, shuffle=True, random_state=42)\n",
    "            indices = list(kf.split(X_trainval))\n",
    "\n",
    "            train_idx, val_idx = indices[self.fold_index]\n",
    "            self.X_train, self.y_train = X_trainval[train_idx], y_trainval[train_idx]\n",
    "            self.X_val, self.y_val     = X_trainval[val_idx], y_trainval[val_idx]\n",
    "        else:\n",
    "            self.X_train, self.y_train = X_trainval_a, y_trainval_a\n",
    "            self.X_val, self.y_val     = X_trainval_b, y_trainval_b\n",
    "\n",
    "        self.X_test, self.y_test, _ = self.preprocess_parquet_for_lstm(\"c\", scaler=fitted_scaler)\n",
    "\n",
    "        self.train_dataset = TensorDataset(self.X_train, self.y_train)\n",
    "        self.val_dataset   = TensorDataset(self.X_val, self.y_val)\n",
    "        self.test_dataset  = TensorDataset(self.X_test, self.y_test)\n",
    "\n",
    "\n",
    "    def train_dataloader(self):\n",
    "        return DataLoader(self.train_dataset, batch_size=self.batch_size, shuffle=True)\n",
    "\n",
    "    def val_dataloader(self):\n",
    "        return DataLoader(self.val_dataset, batch_size=self.batch_size)\n",
    "\n",
    "    def test_dataloader(self):\n",
    "        return DataLoader(self.test_dataset, batch_size=self.batch_size)\n",
    "\n"
   ]
  },
  {
   "cell_type": "markdown",
   "metadata": {},
   "source": [
    "## LSTM Model Class"
   ]
  },
  {
   "cell_type": "code",
   "execution_count": 16,
   "metadata": {},
   "outputs": [],
   "source": [
    "class LSTMClassifier(pl.LightningModule):\n",
    "    def __init__(self, input_size, hidden_size=64, num_layers=1, lr=1e-3):\n",
    "        super().__init__()\n",
    "        self.save_hyperparameters()\n",
    "        self.lr = lr\n",
    "\n",
    "        self.lstm = nn.LSTM(input_size=input_size, hidden_size=hidden_size, num_layers=num_layers, batch_first=True)\n",
    "        self.classifier = nn.Linear(hidden_size, 1)\n",
    "        self.loss_fn = nn.BCEWithLogitsLoss()\n",
    "\n",
    "        # Store test outputs manually\n",
    "        self.test_probs = []\n",
    "        self.test_targets = []\n",
    "\n",
    "        # Prediction threshold\n",
    "        self.prediction_threshold = 0.5\n",
    "        self.clear_after_testing = False\n",
    "\n",
    "    def forward(self, x):\n",
    "        # Run input through the LSTM\n",
    "        _, (hidden_state, _) = self.lstm(x)  # lstm_output, (hidden_state, cell_state)\n",
    "\n",
    "        # Take the last layer's hidden state (for stacked LSTM)\n",
    "        last_hidden = hidden_state[-1]  # shape: (batch_size, hidden_dim)\n",
    "\n",
    "        # Pass through the classification head\n",
    "        logits = self.classifier(last_hidden)\n",
    "\n",
    "        return logits\n",
    "\n",
    "    def training_step(self, batch, batch_idx):\n",
    "        x, y = batch\n",
    "        logits = self(x).squeeze(1)\n",
    "        loss = self.loss_fn(logits, y.float())\n",
    "        self.log(\"train_loss\", loss, prog_bar=True)\n",
    "        return loss\n",
    "\n",
    "    def validation_step(self, batch, batch_idx):\n",
    "        x, y = batch\n",
    "        logits = self(x).squeeze(1)\n",
    "        loss = self.loss_fn(logits, y.float())\n",
    "        preds = torch.sigmoid(logits) > 0.5\n",
    "        acc = (preds.int() == y).float().mean()\n",
    "        self.log(\"val_loss\", loss, prog_bar=True)\n",
    "        self.log(\"val_acc\", acc, prog_bar=True)\n",
    "        return loss\n",
    "        \n",
    "\n",
    "    def test_step(self, batch, batch_idx):\n",
    "        x, y = batch\n",
    "        logits = self(x).squeeze(1)\n",
    "        probs = torch.sigmoid(logits)\n",
    "        # print(torch.unique(log\n",
    "        loss = self.loss_fn(logits, y.float())\n",
    "\n",
    "        self.log(\"test_loss\", loss)\n",
    "\n",
    "        # Store results for epoch-end metrics\n",
    "        self.test_probs.append(probs.detach().cpu())\n",
    "        self.test_targets.append(y.detach().cpu())\n",
    "\n",
    "        return loss  # or None — you’re not using batch outputs anymore\n",
    "\n",
    "    def on_test_epoch_end(self):\n",
    "            probs = torch.cat(self.test_probs).cpu()\n",
    "            targets = torch.cat(self.test_targets).cpu()\n",
    "            preds = (probs > 0.5).int()\n",
    "            \n",
    "            # Convert both to int numpy arrays\n",
    "            targets_np = targets.int().numpy()\n",
    "            preds_np = preds.numpy()\n",
    "\n",
    "            if self.clear_after_testing: \n",
    "                self.test_probs.clear()\n",
    "                self.test_targets.clear()\n",
    "    \n",
    "            # --- Confusion Matrix ---\n",
    "            cm = confusion_matrix(targets_np, preds_np)\n",
    "            disp_cm = ConfusionMatrixDisplay(confusion_matrix=cm)\n",
    "            disp_cm.plot(cmap='Blues')\n",
    "            plt.title(\"Confusion Matrix\")\n",
    "            plt.show()\n",
    "    \n",
    "            # --- ROC Curve ---\n",
    "            auc = roc_auc_score(targets_np, probs.numpy())\n",
    "            RocCurveDisplay.from_predictions(targets, probs)\n",
    "            plt.title(f\"ROC Curve (AuROC = {auc:.3f})\")\n",
    "            plt.show()\n",
    "    \n",
    "            # --- Precision-Recall Curve ---\n",
    "            auprc = average_precision_score(targets_np, probs.numpy())\n",
    "            PrecisionRecallDisplay.from_predictions(targets, probs)\n",
    "            plt.title(f\"Precision-Recall Curve (AuPRC = {auprc:.3f})\")\n",
    "            plt.show()\n",
    "    \n",
    "            # --- Metrics ---\n",
    "            acc = (preds == targets).float().mean()\n",
    "            self.log(\"test_acc\", acc)\n",
    "            self.log(\"test_auroc\", auc)\n",
    "            self.log(\"test_auprc\", auprc)\n",
    "    \n",
    "            print(f\"\\nTest Accuracy : {acc:.4f}\")\n",
    "            print(f\"Test AuROC    : {auc:.4f}\")\n",
    "            print(f\"Test AuPRC    : {auprc:.4f}\")\n",
    "\n",
    "\n",
    "    def configure_optimizers(self):\n",
    "        optimizer = torch.optim.Adam(self.parameters(), lr=self.lr)\n",
    "        scheduler = {\n",
    "            'scheduler': torch.optim.lr_scheduler.ReduceLROnPlateau(optimizer, mode='min', patience=3, factor=0.5, verbose=True),\n",
    "            'monitor': 'val_loss',\n",
    "            'interval': 'epoch',\n",
    "            'frequency': 1\n",
    "        }\n",
    "        return {\"optimizer\": optimizer, \"lr_scheduler\": scheduler}\n",
    "\n",
    "    def tune_threshold_min_fnr(self):\n",
    "        \"\"\"\n",
    "        Find the classification threshold that minimizes the False Negative Rate (FNR)\n",
    "        and store it in self.prediction_threshold.\n",
    "    \n",
    "        Returns:\n",
    "            best_thresh (float): Threshold with the lowest FNR\n",
    "            best_fnr (float): Lowest observed FNR\n",
    "            thresholds (np.ndarray): Array of tested thresholds\n",
    "            fnrs (List[float]): FNRs corresponding to each threshold\n",
    "        \"\"\"\n",
    "    \n",
    "        assert hasattr(self, \"test_probs\") and hasattr(self, \"test_targets\"), \\\n",
    "            \"test_probs and test_targets must be defined (run test first).\"\n",
    "    \n",
    "        probs = torch.cat(self.test_probs).cpu().numpy()\n",
    "        targets = torch.cat(self.test_targets).cpu().numpy()\n",
    "    \n",
    "        thresholds = np.linspace(0, 1, 100)\n",
    "        best_thresh = 0.5\n",
    "        best_fnr = 1.0\n",
    "        fnrs = []\n",
    "    \n",
    "        for t in tqdm(thresholds):\n",
    "            preds = (probs >= t).astype(int)\n",
    "            tn, fp, fn, tp = confusion_matrix(targets, preds).ravel()\n",
    "            fnr = fn / (fn + tp) if (fn + tp) > 0 else 1.0\n",
    "            fnrs.append(fnr)\n",
    "    \n",
    "            if fnr < best_fnr:\n",
    "                best_fnr = fnr\n",
    "                best_thresh = t\n",
    "    \n",
    "        self.prediction_threshold = best_thresh\n",
    "    \n",
    "        return best_thresh, best_fnr, thresholds, fnrs\n",
    "\n",
    "class BiLSTMClassifier(LSTMClassifier):\n",
    "    def __init__(self, input_size, hidden_size=64, num_layers=1, lr=1e-3):\n",
    "        super().__init__(input_size, hidden_size, num_layers, lr)\n",
    "\n",
    "        # Redefine LSTM as bidirectional\n",
    "        self.lstm = nn.LSTM(\n",
    "            input_size=input_size,\n",
    "            hidden_size=hidden_size,\n",
    "            num_layers=num_layers,\n",
    "            batch_first=True,\n",
    "            bidirectional=True\n",
    "        )\n",
    "\n",
    "        # Since BiLSTM doubles hidden size, update classifier input\n",
    "        self.classifier = nn.Linear(hidden_size * 2, 1)\n",
    "\n",
    "    def forward(self, x):\n",
    "        _, (hidden_state, _) = self.lstm(x)  # hidden_state: (num_layers*2, batch, hidden)\n",
    "\n",
    "        # Get last layer's forward and backward hidden states\n",
    "        forward = hidden_state[-2]\n",
    "        backward = hidden_state[-1]\n",
    "\n",
    "        # Concatenate both directions\n",
    "        last_hidden = torch.cat((forward, backward), dim=1)  # (batch, hidden*2)\n",
    "\n",
    "        return self.classifier(last_hidden)\n"
   ]
  },
  {
   "cell_type": "code",
   "execution_count": 17,
   "metadata": {},
   "outputs": [],
   "source": [
    "def get_callbacks(model_name):\n",
    "    return [\n",
    "        EarlyStopping(monitor='val_loss', patience=10, verbose=True, mode='min'),\n",
    "        LearningRateMonitor(logging_interval='epoch'),\n",
    "        ModelCheckpoint(\n",
    "            monitor='val_loss',\n",
    "            mode='min',\n",
    "            save_top_k=1,\n",
    "            verbose=True,\n",
    "            filename=f'{model_name}-best-checkpoint',\n",
    "            dirpath=os.path.join(\"lightning_logs\", model_name, \"checkpoints\")\n",
    "        )\n",
    "    ]\n",
    "\n",
    "def train_model(ModelClass, model_name, datamodule, input_size, k_folds=None):\n",
    "    if k_folds:\n",
    "        print(f\"Training {model_name} with {k_folds}-fold cross-validation...\\n\")\n",
    "\n",
    "        for fold in range(k_folds):\n",
    "            print(f\"\\n=== Fold {fold+1}/{k_folds} ===\")\n",
    "\n",
    "            # Re-initialize datamodule with current fold\n",
    "            fold_dm = TimeSeriesDataModule(\n",
    "                feature_cols=datamodule.feature_cols,\n",
    "                batch_size=datamodule.batch_size,\n",
    "                k_folds=k_folds,\n",
    "                fold_index=fold\n",
    "            )\n",
    "            fold_dm.setup()\n",
    "\n",
    "            model = ModelClass(input_size=input_size, hidden_size=64, num_layers=2)\n",
    "            fold_name = f\"{model_name}-fold{fold}\"\n",
    "\n",
    "            trainer = pl.Trainer(\n",
    "                max_epochs=20,\n",
    "                callbacks=get_callbacks(fold_name),\n",
    "                log_every_n_steps=10,\n",
    "                accelerator=\"auto\",\n",
    "                devices=\"auto\",\n",
    "                default_root_dir=os.path.join(\"lightning_logs\", fold_name)\n",
    "            )\n",
    "\n",
    "            trainer.fit(model, datamodule=fold_dm)\n",
    "            \n",
    "            # Optional test after each fold\n",
    "            test_model(ModelClass, fold_name, fold_dm)\n",
    "\n",
    "    else:\n",
    "        print(f\"Training {model_name} without cross-validation...\")\n",
    "        model = ModelClass(input_size=input_size, hidden_size=64, num_layers=2)\n",
    "\n",
    "        trainer = pl.Trainer(\n",
    "            max_epochs=20,\n",
    "            callbacks=get_callbacks(model_name),\n",
    "            log_every_n_steps=10,\n",
    "            accelerator=\"auto\",\n",
    "            devices=\"auto\",\n",
    "            default_root_dir=os.path.join(\"lightning_logs\", model_name)\n",
    "        )\n",
    "\n",
    "        trainer.fit(model, datamodule=datamodule)\n",
    "\n",
    "\n",
    "def test_model(ModelClass, model_name, datamodule):\n",
    "    print(f\"Testing {model_name}...\")\n",
    "\n",
    "    ckpt_dir = os.path.join(\"lightning_logs\", model_name, \"checkpoints\")\n",
    "    ckpt_files = glob(os.path.join(ckpt_dir, \"*.ckpt\"))\n",
    "    best_ckpt_path = ckpt_files[0] if ckpt_files else None\n",
    "\n",
    "    if best_ckpt_path:\n",
    "        print(f\"Best checkpoint: {best_ckpt_path}\")\n",
    "        model = ModelClass.load_from_checkpoint(best_ckpt_path)\n",
    "        trainer = pl.Trainer(accelerator=\"auto\", devices=\"auto\")\n",
    "        trainer.test(model, datamodule=datamodule)\n",
    "    else:\n",
    "        print(f\"No checkpoint found for model '{model_name}'.\")\n",
    "\n"
   ]
  },
  {
   "cell_type": "code",
   "execution_count": 18,
   "metadata": {},
   "outputs": [],
   "source": [
    "# Setup\n",
    "\n",
    "input_size = len(feature_cols) + 1\n",
    "datamodule = TimeSeriesDataModule(feature_cols=feature_cols, batch_size=64)"
   ]
  },
  {
   "cell_type": "code",
   "execution_count": null,
   "metadata": {},
   "outputs": [
    {
     "name": "stdout",
     "output_type": "stream",
     "text": [
      "Training lstm with 5-fold cross-validation...\n",
      "\n",
      "\n",
      "=== Fold 1/5 ===\n"
     ]
    },
    {
     "name": "stderr",
     "output_type": "stream",
     "text": [
      "GPU available: True (cuda), used: True\n",
      "TPU available: False, using: 0 TPU cores\n",
      "HPU available: False, using: 0 HPUs\n",
      "/cluster/courses/ml4h/project1env/lib/python3.12/site-packages/pytorch_lightning/callbacks/model_checkpoint.py:654: Checkpoint directory /home/pbaertschi/ICU-TimeSeries-Mortality-Prediction/notebooks/2_SupervisedML/Q2_RNN/lightning_logs/lstm-fold0/checkpoints exists and is not empty.\n",
      "LOCAL_RANK: 0 - CUDA_VISIBLE_DEVICES: [0]\n",
      "\n",
      "  | Name       | Type              | Params | Mode \n",
      "---------------------------------------------------------\n",
      "0 | lstm       | LSTM              | 61.2 K | train\n",
      "1 | classifier | Linear            | 65     | train\n",
      "2 | loss_fn    | BCEWithLogitsLoss | 0      | train\n",
      "---------------------------------------------------------\n",
      "61.2 K    Trainable params\n",
      "0         Non-trainable params\n",
      "61.2 K    Total params\n",
      "0.245     Total estimated model params size (MB)\n",
      "3         Modules in train mode\n",
      "0         Modules in eval mode\n",
      "SLURM auto-requeueing enabled. Setting signal handlers.\n"
     ]
    },
    {
     "data": {
      "application/vnd.jupyter.widget-view+json": {
       "model_id": "b3dbc5c5acb246f481c1e90a930cb264",
       "version_major": 2,
       "version_minor": 0
      },
      "text/plain": [
       "Sanity Checking: |          | 0/? [00:00<?, ?it/s]"
      ]
     },
     "metadata": {},
     "output_type": "display_data"
    },
    {
     "data": {
      "application/vnd.jupyter.widget-view+json": {
       "model_id": "a0ad3301a5ef489d818f58862f2d40f8",
       "version_major": 2,
       "version_minor": 0
      },
      "text/plain": [
       "Training: |          | 0/? [00:00<?, ?it/s]"
      ]
     },
     "metadata": {},
     "output_type": "display_data"
    },
    {
     "data": {
      "application/vnd.jupyter.widget-view+json": {
       "model_id": "3c56729b794d453483c86c55da23ee95",
       "version_major": 2,
       "version_minor": 0
      },
      "text/plain": [
       "Validation: |          | 0/? [00:00<?, ?it/s]"
      ]
     },
     "metadata": {},
     "output_type": "display_data"
    },
    {
     "name": "stderr",
     "output_type": "stream",
     "text": [
      "Metric val_loss improved. New best score: 0.073\n",
      "Epoch 0, global step 100: 'val_loss' reached 0.07257 (best 0.07257), saving model to '/home/pbaertschi/ICU-TimeSeries-Mortality-Prediction/notebooks/2_SupervisedML/Q2_RNN/lightning_logs/lstm-fold0/checkpoints/lstm-fold0-best-checkpoint-v3.ckpt' as top 1\n"
     ]
    },
    {
     "data": {
      "application/vnd.jupyter.widget-view+json": {
       "model_id": "ac668787a4d34f42bd1d3c7bc662fc7d",
       "version_major": 2,
       "version_minor": 0
      },
      "text/plain": [
       "Validation: |          | 0/? [00:00<?, ?it/s]"
      ]
     },
     "metadata": {},
     "output_type": "display_data"
    },
    {
     "name": "stderr",
     "output_type": "stream",
     "text": [
      "Metric val_loss improved by 0.054 >= min_delta = 0.0. New best score: 0.018\n",
      "Epoch 1, global step 200: 'val_loss' reached 0.01840 (best 0.01840), saving model to '/home/pbaertschi/ICU-TimeSeries-Mortality-Prediction/notebooks/2_SupervisedML/Q2_RNN/lightning_logs/lstm-fold0/checkpoints/lstm-fold0-best-checkpoint-v3.ckpt' as top 1\n"
     ]
    },
    {
     "data": {
      "application/vnd.jupyter.widget-view+json": {
       "model_id": "f1139a8994fa41549ab92a36b5872a4a",
       "version_major": 2,
       "version_minor": 0
      },
      "text/plain": [
       "Validation: |          | 0/? [00:00<?, ?it/s]"
      ]
     },
     "metadata": {},
     "output_type": "display_data"
    },
    {
     "name": "stderr",
     "output_type": "stream",
     "text": [
      "Metric val_loss improved by 0.003 >= min_delta = 0.0. New best score: 0.015\n",
      "Epoch 2, global step 300: 'val_loss' reached 0.01518 (best 0.01518), saving model to '/home/pbaertschi/ICU-TimeSeries-Mortality-Prediction/notebooks/2_SupervisedML/Q2_RNN/lightning_logs/lstm-fold0/checkpoints/lstm-fold0-best-checkpoint-v3.ckpt' as top 1\n"
     ]
    },
    {
     "data": {
      "application/vnd.jupyter.widget-view+json": {
       "model_id": "1d10dec8aa8f432b9833f04d37b83c02",
       "version_major": 2,
       "version_minor": 0
      },
      "text/plain": [
       "Validation: |          | 0/? [00:00<?, ?it/s]"
      ]
     },
     "metadata": {},
     "output_type": "display_data"
    },
    {
     "name": "stderr",
     "output_type": "stream",
     "text": [
      "Metric val_loss improved by 0.007 >= min_delta = 0.0. New best score: 0.008\n",
      "Epoch 3, global step 400: 'val_loss' reached 0.00834 (best 0.00834), saving model to '/home/pbaertschi/ICU-TimeSeries-Mortality-Prediction/notebooks/2_SupervisedML/Q2_RNN/lightning_logs/lstm-fold0/checkpoints/lstm-fold0-best-checkpoint-v3.ckpt' as top 1\n"
     ]
    },
    {
     "data": {
      "application/vnd.jupyter.widget-view+json": {
       "model_id": "ffcb229adb8a4601a68e8df3cac5c5c6",
       "version_major": 2,
       "version_minor": 0
      },
      "text/plain": [
       "Validation: |          | 0/? [00:00<?, ?it/s]"
      ]
     },
     "metadata": {},
     "output_type": "display_data"
    },
    {
     "name": "stderr",
     "output_type": "stream",
     "text": [
      "Epoch 4, global step 500: 'val_loss' was not in top 1\n"
     ]
    },
    {
     "data": {
      "application/vnd.jupyter.widget-view+json": {
       "model_id": "ed81565af9cb4c2e99e80d8ba7de32dc",
       "version_major": 2,
       "version_minor": 0
      },
      "text/plain": [
       "Validation: |          | 0/? [00:00<?, ?it/s]"
      ]
     },
     "metadata": {},
     "output_type": "display_data"
    },
    {
     "name": "stderr",
     "output_type": "stream",
     "text": [
      "Metric val_loss improved by 0.005 >= min_delta = 0.0. New best score: 0.004\n",
      "Epoch 5, global step 600: 'val_loss' reached 0.00370 (best 0.00370), saving model to '/home/pbaertschi/ICU-TimeSeries-Mortality-Prediction/notebooks/2_SupervisedML/Q2_RNN/lightning_logs/lstm-fold0/checkpoints/lstm-fold0-best-checkpoint-v3.ckpt' as top 1\n"
     ]
    },
    {
     "data": {
      "application/vnd.jupyter.widget-view+json": {
       "model_id": "f6c625b849c74cdd84b92ec3e9e8c501",
       "version_major": 2,
       "version_minor": 0
      },
      "text/plain": [
       "Validation: |          | 0/? [00:00<?, ?it/s]"
      ]
     },
     "metadata": {},
     "output_type": "display_data"
    },
    {
     "name": "stderr",
     "output_type": "stream",
     "text": [
      "Epoch 6, global step 700: 'val_loss' was not in top 1\n"
     ]
    },
    {
     "data": {
      "application/vnd.jupyter.widget-view+json": {
       "model_id": "4a54783a805648ed8ac055324d826826",
       "version_major": 2,
       "version_minor": 0
      },
      "text/plain": [
       "Validation: |          | 0/? [00:00<?, ?it/s]"
      ]
     },
     "metadata": {},
     "output_type": "display_data"
    },
    {
     "name": "stderr",
     "output_type": "stream",
     "text": [
      "Epoch 7, global step 800: 'val_loss' was not in top 1\n"
     ]
    },
    {
     "data": {
      "application/vnd.jupyter.widget-view+json": {
       "model_id": "6430e9af99ce4f91ab544ee80e902464",
       "version_major": 2,
       "version_minor": 0
      },
      "text/plain": [
       "Validation: |          | 0/? [00:00<?, ?it/s]"
      ]
     },
     "metadata": {},
     "output_type": "display_data"
    },
    {
     "name": "stderr",
     "output_type": "stream",
     "text": [
      "Epoch 8, global step 900: 'val_loss' was not in top 1\n"
     ]
    },
    {
     "data": {
      "application/vnd.jupyter.widget-view+json": {
       "model_id": "427efd9ad9d64438aa33b808ceafc705",
       "version_major": 2,
       "version_minor": 0
      },
      "text/plain": [
       "Validation: |          | 0/? [00:00<?, ?it/s]"
      ]
     },
     "metadata": {},
     "output_type": "display_data"
    },
    {
     "name": "stderr",
     "output_type": "stream",
     "text": [
      "Epoch 9, global step 1000: 'val_loss' was not in top 1\n"
     ]
    },
    {
     "data": {
      "application/vnd.jupyter.widget-view+json": {
       "model_id": "5c26b690db3047d19766081dd1f93790",
       "version_major": 2,
       "version_minor": 0
      },
      "text/plain": [
       "Validation: |          | 0/? [00:00<?, ?it/s]"
      ]
     },
     "metadata": {},
     "output_type": "display_data"
    },
    {
     "name": "stderr",
     "output_type": "stream",
     "text": [
      "Epoch 10, global step 1100: 'val_loss' was not in top 1\n"
     ]
    },
    {
     "data": {
      "application/vnd.jupyter.widget-view+json": {
       "model_id": "6ac5576ecb194ffd93ac20abca24981d",
       "version_major": 2,
       "version_minor": 0
      },
      "text/plain": [
       "Validation: |          | 0/? [00:00<?, ?it/s]"
      ]
     },
     "metadata": {},
     "output_type": "display_data"
    },
    {
     "name": "stderr",
     "output_type": "stream",
     "text": [
      "Epoch 11, global step 1200: 'val_loss' was not in top 1\n"
     ]
    },
    {
     "data": {
      "application/vnd.jupyter.widget-view+json": {
       "model_id": "2aa942af80f345089b00614cb4b63475",
       "version_major": 2,
       "version_minor": 0
      },
      "text/plain": [
       "Validation: |          | 0/? [00:00<?, ?it/s]"
      ]
     },
     "metadata": {},
     "output_type": "display_data"
    },
    {
     "name": "stderr",
     "output_type": "stream",
     "text": [
      "Epoch 12, global step 1300: 'val_loss' was not in top 1\n"
     ]
    },
    {
     "data": {
      "application/vnd.jupyter.widget-view+json": {
       "model_id": "785c302f1a454c8e89f0bdacde415bcf",
       "version_major": 2,
       "version_minor": 0
      },
      "text/plain": [
       "Validation: |          | 0/? [00:00<?, ?it/s]"
      ]
     },
     "metadata": {},
     "output_type": "display_data"
    },
    {
     "name": "stderr",
     "output_type": "stream",
     "text": [
      "Epoch 13, global step 1400: 'val_loss' was not in top 1\n"
     ]
    },
    {
     "data": {
      "application/vnd.jupyter.widget-view+json": {
       "model_id": "f2a755c5135347639861c752385fe2ee",
       "version_major": 2,
       "version_minor": 0
      },
      "text/plain": [
       "Validation: |          | 0/? [00:00<?, ?it/s]"
      ]
     },
     "metadata": {},
     "output_type": "display_data"
    },
    {
     "name": "stderr",
     "output_type": "stream",
     "text": [
      "Epoch 14, global step 1500: 'val_loss' was not in top 1\n"
     ]
    },
    {
     "data": {
      "application/vnd.jupyter.widget-view+json": {
       "model_id": "8f1e4ec6725e44b5a1550d87dc5d62de",
       "version_major": 2,
       "version_minor": 0
      },
      "text/plain": [
       "Validation: |          | 0/? [00:00<?, ?it/s]"
      ]
     },
     "metadata": {},
     "output_type": "display_data"
    },
    {
     "name": "stderr",
     "output_type": "stream",
     "text": [
      "Monitored metric val_loss did not improve in the last 10 records. Best score: 0.004. Signaling Trainer to stop.\n",
      "Epoch 15, global step 1600: 'val_loss' was not in top 1\n",
      "GPU available: True (cuda), used: True\n",
      "TPU available: False, using: 0 TPU cores\n",
      "HPU available: False, using: 0 HPUs\n"
     ]
    },
    {
     "name": "stdout",
     "output_type": "stream",
     "text": [
      "Testing lstm-fold0...\n",
      "Best checkpoint: lightning_logs/lstm-fold0/checkpoints/lstm-fold0-best-checkpoint-v1.ckpt\n"
     ]
    },
    {
     "name": "stderr",
     "output_type": "stream",
     "text": [
      "LOCAL_RANK: 0 - CUDA_VISIBLE_DEVICES: [0]\n",
      "SLURM auto-requeueing enabled. Setting signal handlers.\n"
     ]
    },
    {
     "data": {
      "application/vnd.jupyter.widget-view+json": {
       "model_id": "8ebeda1bff1a4962abc4a1c906731118",
       "version_major": 2,
       "version_minor": 0
      },
      "text/plain": [
       "Testing: |          | 0/? [00:00<?, ?it/s]"
      ]
     },
     "metadata": {},
     "output_type": "display_data"
    },
    {
     "data": {
      "image/png": "[encoded data removed]",
      "text/plain": [
       "<Figure size 640x480 with 2 Axes>"
      ]
     },
     "metadata": {},
     "output_type": "display_data"
    },
    {
     "data": {
      "image/png": "[encoded data removed]",
      "text/plain": [
       "<Figure size 640x480 with 1 Axes>"
      ]
     },
     "metadata": {},
     "output_type": "display_data"
    },
    {
     "data": {
      "image/png": "[encoded data removed]",
      "text/plain": [
       "<Figure size 640x480 with 1 Axes>"
      ]
     },
     "metadata": {},
     "output_type": "display_data"
    },
    {
     "name": "stdout",
     "output_type": "stream",
     "text": [
      "\n",
      "Test Accuracy : 0.9898\n",
      "Test AuROC    : 0.9805\n",
      "Test AuPRC    : 0.9361\n"
     ]
    },
    {
     "data": {
      "text/html": [
       "<pre style=\"white-space:pre;overflow-x:auto;line-height:normal;font-family:Menlo,'DejaVu Sans Mono',consolas,'Courier New',monospace\">┏━━━━━━━━━━━━━━━━━━━━━━━━━━━┳━━━━━━━━━━━━━━━━━━━━━━━━━━━┓\n",
       "┃<span style=\"font-weight: bold\">        Test metric        </span>┃<span style=\"font-weight: bold\">       DataLoader 0        </span>┃\n",
       "┡━━━━━━━━━━━━━━━━━━━━━━━━━━━╇━━━━━━━━━━━━━━━━━━━━━━━━━━━┩\n",
       "│<span style=\"color: #008080; text-decoration-color: #008080\">         test_acc          </span>│<span style=\"color: #800080; text-decoration-color: #800080\">    0.9897500276565552     </span>│\n",
       "│<span style=\"color: #008080; text-decoration-color: #008080\">        test_auprc         </span>│<span style=\"color: #800080; text-decoration-color: #800080\">    0.9360715746879578     </span>│\n",
       "│<span style=\"color: #008080; text-decoration-color: #008080\">        test_auroc         </span>│<span style=\"color: #800080; text-decoration-color: #800080\">    0.9805396199226379     </span>│\n",
       "│<span style=\"color: #008080; text-decoration-color: #008080\">         test_loss         </span>│<span style=\"color: #800080; text-decoration-color: #800080\">     1.411818504333496     </span>│\n",
       "└───────────────────────────┴───────────────────────────┘\n",
       "</pre>\n"
      ],
      "text/plain": [
       "┏━━━━━━━━━━━━━━━━━━━━━━━━━━━┳━━━━━━━━━━━━━━━━━━━━━━━━━━━┓\n",
       "┃\u001b[1m \u001b[0m\u001b[1m       Test metric       \u001b[0m\u001b[1m \u001b[0m┃\u001b[1m \u001b[0m\u001b[1m      DataLoader 0       \u001b[0m\u001b[1m \u001b[0m┃\n",
       "┡━━━━━━━━━━━━━━━━━━━━━━━━━━━╇━━━━━━━━━━━━━━━━━━━━━━━━━━━┩\n",
       "│\u001b[36m \u001b[0m\u001b[36m        test_acc         \u001b[0m\u001b[36m \u001b[0m│\u001b[35m \u001b[0m\u001b[35m   0.9897500276565552    \u001b[0m\u001b[35m \u001b[0m│\n",
       "│\u001b[36m \u001b[0m\u001b[36m       test_auprc        \u001b[0m\u001b[36m \u001b[0m│\u001b[35m \u001b[0m\u001b[35m   0.9360715746879578    \u001b[0m\u001b[35m \u001b[0m│\n",
       "│\u001b[36m \u001b[0m\u001b[36m       test_auroc        \u001b[0m\u001b[36m \u001b[0m│\u001b[35m \u001b[0m\u001b[35m   0.9805396199226379    \u001b[0m\u001b[35m \u001b[0m│\n",
       "│\u001b[36m \u001b[0m\u001b[36m        test_loss        \u001b[0m\u001b[36m \u001b[0m│\u001b[35m \u001b[0m\u001b[35m    1.411818504333496    \u001b[0m\u001b[35m \u001b[0m│\n",
       "└───────────────────────────┴───────────────────────────┘\n"
      ]
     },
     "metadata": {},
     "output_type": "display_data"
    },
    {
     "name": "stdout",
     "output_type": "stream",
     "text": [
      "\n",
      "=== Fold 2/5 ===\n"
     ]
    },
    {
     "name": "stderr",
     "output_type": "stream",
     "text": [
      "GPU available: True (cuda), used: True\n",
      "TPU available: False, using: 0 TPU cores\n",
      "HPU available: False, using: 0 HPUs\n",
      "/cluster/courses/ml4h/project1env/lib/python3.12/site-packages/pytorch_lightning/callbacks/model_checkpoint.py:654: Checkpoint directory /home/pbaertschi/ICU-TimeSeries-Mortality-Prediction/notebooks/2_SupervisedML/Q2_RNN/lightning_logs/lstm-fold1/checkpoints exists and is not empty.\n",
      "LOCAL_RANK: 0 - CUDA_VISIBLE_DEVICES: [0]\n",
      "\n",
      "  | Name       | Type              | Params | Mode \n",
      "---------------------------------------------------------\n",
      "0 | lstm       | LSTM              | 61.2 K | train\n",
      "1 | classifier | Linear            | 65     | train\n",
      "2 | loss_fn    | BCEWithLogitsLoss | 0      | train\n",
      "---------------------------------------------------------\n",
      "61.2 K    Trainable params\n",
      "0         Non-trainable params\n",
      "61.2 K    Total params\n",
      "0.245     Total estimated model params size (MB)\n",
      "3         Modules in train mode\n",
      "0         Modules in eval mode\n",
      "SLURM auto-requeueing enabled. Setting signal handlers.\n"
     ]
    },
    {
     "data": {
      "application/vnd.jupyter.widget-view+json": {
       "model_id": "25f913b98b3d4b04a36fbb0cc619866d",
       "version_major": 2,
       "version_minor": 0
      },
      "text/plain": [
       "Sanity Checking: |          | 0/? [00:00<?, ?it/s]"
      ]
     },
     "metadata": {},
     "output_type": "display_data"
    },
    {
     "data": {
      "application/vnd.jupyter.widget-view+json": {
       "model_id": "ce1d43dce3cf48999b436de40b7f454d",
       "version_major": 2,
       "version_minor": 0
      },
      "text/plain": [
       "Training: |          | 0/? [00:00<?, ?it/s]"
      ]
     },
     "metadata": {},
     "output_type": "display_data"
    },
    {
     "data": {
      "application/vnd.jupyter.widget-view+json": {
       "model_id": "346c3e35be49449aba6bd3a9e5048531",
       "version_major": 2,
       "version_minor": 0
      },
      "text/plain": [
       "Validation: |          | 0/? [00:00<?, ?it/s]"
      ]
     },
     "metadata": {},
     "output_type": "display_data"
    },
    {
     "name": "stderr",
     "output_type": "stream",
     "text": [
      "Metric val_loss improved. New best score: 0.054\n",
      "Epoch 0, global step 100: 'val_loss' reached 0.05408 (best 0.05408), saving model to '/home/pbaertschi/ICU-TimeSeries-Mortality-Prediction/notebooks/2_SupervisedML/Q2_RNN/lightning_logs/lstm-fold1/checkpoints/lstm-fold1-best-checkpoint-v1.ckpt' as top 1\n"
     ]
    },
    {
     "data": {
      "application/vnd.jupyter.widget-view+json": {
       "model_id": "d2fe59f8b9eb434e98fb6fa7d8ac02dd",
       "version_major": 2,
       "version_minor": 0
      },
      "text/plain": [
       "Validation: |          | 0/? [00:00<?, ?it/s]"
      ]
     },
     "metadata": {},
     "output_type": "display_data"
    },
    {
     "name": "stderr",
     "output_type": "stream",
     "text": [
      "Metric val_loss improved by 0.038 >= min_delta = 0.0. New best score: 0.016\n",
      "Epoch 1, global step 200: 'val_loss' reached 0.01600 (best 0.01600), saving model to '/home/pbaertschi/ICU-TimeSeries-Mortality-Prediction/notebooks/2_SupervisedML/Q2_RNN/lightning_logs/lstm-fold1/checkpoints/lstm-fold1-best-checkpoint-v1.ckpt' as top 1\n"
     ]
    },
    {
     "data": {
      "application/vnd.jupyter.widget-view+json": {
       "model_id": "3714e039c9d848949fc6f96a20a1cf3c",
       "version_major": 2,
       "version_minor": 0
      },
      "text/plain": [
       "Validation: |          | 0/? [00:00<?, ?it/s]"
      ]
     },
     "metadata": {},
     "output_type": "display_data"
    },
    {
     "name": "stderr",
     "output_type": "stream",
     "text": [
      "Metric val_loss improved by 0.004 >= min_delta = 0.0. New best score: 0.012\n",
      "Epoch 2, global step 300: 'val_loss' reached 0.01153 (best 0.01153), saving model to '/home/pbaertschi/ICU-TimeSeries-Mortality-Prediction/notebooks/2_SupervisedML/Q2_RNN/lightning_logs/lstm-fold1/checkpoints/lstm-fold1-best-checkpoint-v1.ckpt' as top 1\n"
     ]
    },
    {
     "data": {
      "application/vnd.jupyter.widget-view+json": {
       "model_id": "bd8af6e019dc4597b3376dbfd98c7a53",
       "version_major": 2,
       "version_minor": 0
      },
      "text/plain": [
       "Validation: |          | 0/? [00:00<?, ?it/s]"
      ]
     },
     "metadata": {},
     "output_type": "display_data"
    },
    {
     "name": "stderr",
     "output_type": "stream",
     "text": [
      "Metric val_loss improved by 0.006 >= min_delta = 0.0. New best score: 0.006\n",
      "Epoch 3, global step 400: 'val_loss' reached 0.00589 (best 0.00589), saving model to '/home/pbaertschi/ICU-TimeSeries-Mortality-Prediction/notebooks/2_SupervisedML/Q2_RNN/lightning_logs/lstm-fold1/checkpoints/lstm-fold1-best-checkpoint-v1.ckpt' as top 1\n"
     ]
    },
    {
     "data": {
      "application/vnd.jupyter.widget-view+json": {
       "model_id": "ecebe9f3ff514bf5bad897a945a968a8",
       "version_major": 2,
       "version_minor": 0
      },
      "text/plain": [
       "Validation: |          | 0/? [00:00<?, ?it/s]"
      ]
     },
     "metadata": {},
     "output_type": "display_data"
    },
    {
     "name": "stderr",
     "output_type": "stream",
     "text": [
      "Epoch 4, global step 500: 'val_loss' was not in top 1\n"
     ]
    },
    {
     "data": {
      "application/vnd.jupyter.widget-view+json": {
       "model_id": "1ffd384e950f482da07bf9ddcff3f741",
       "version_major": 2,
       "version_minor": 0
      },
      "text/plain": [
       "Validation: |          | 0/? [00:00<?, ?it/s]"
      ]
     },
     "metadata": {},
     "output_type": "display_data"
    },
    {
     "name": "stderr",
     "output_type": "stream",
     "text": [
      "Epoch 5, global step 600: 'val_loss' was not in top 1\n"
     ]
    },
    {
     "data": {
      "application/vnd.jupyter.widget-view+json": {
       "model_id": "00c1ce5975c6474698861edf3be89c93",
       "version_major": 2,
       "version_minor": 0
      },
      "text/plain": [
       "Validation: |          | 0/? [00:00<?, ?it/s]"
      ]
     },
     "metadata": {},
     "output_type": "display_data"
    },
    {
     "name": "stderr",
     "output_type": "stream",
     "text": [
      "Metric val_loss improved by 0.002 >= min_delta = 0.0. New best score: 0.003\n",
      "Epoch 6, global step 700: 'val_loss' reached 0.00344 (best 0.00344), saving model to '/home/pbaertschi/ICU-TimeSeries-Mortality-Prediction/notebooks/2_SupervisedML/Q2_RNN/lightning_logs/lstm-fold1/checkpoints/lstm-fold1-best-checkpoint-v1.ckpt' as top 1\n"
     ]
    },
    {
     "data": {
      "application/vnd.jupyter.widget-view+json": {
       "model_id": "7b046d4b037948f7a6a1229ef77bd77a",
       "version_major": 2,
       "version_minor": 0
      },
      "text/plain": [
       "Validation: |          | 0/? [00:00<?, ?it/s]"
      ]
     },
     "metadata": {},
     "output_type": "display_data"
    },
    {
     "name": "stderr",
     "output_type": "stream",
     "text": [
      "Metric val_loss improved by 0.002 >= min_delta = 0.0. New best score: 0.002\n",
      "Epoch 7, global step 800: 'val_loss' reached 0.00184 (best 0.00184), saving model to '/home/pbaertschi/ICU-TimeSeries-Mortality-Prediction/notebooks/2_SupervisedML/Q2_RNN/lightning_logs/lstm-fold1/checkpoints/lstm-fold1-best-checkpoint-v1.ckpt' as top 1\n"
     ]
    },
    {
     "data": {
      "application/vnd.jupyter.widget-view+json": {
       "model_id": "9808d5768d014428b9cfd78cfa74e383",
       "version_major": 2,
       "version_minor": 0
      },
      "text/plain": [
       "Validation: |          | 0/? [00:00<?, ?it/s]"
      ]
     },
     "metadata": {},
     "output_type": "display_data"
    },
    {
     "name": "stderr",
     "output_type": "stream",
     "text": [
      "Epoch 8, global step 900: 'val_loss' was not in top 1\n"
     ]
    },
    {
     "data": {
      "application/vnd.jupyter.widget-view+json": {
       "model_id": "bc9f3688941f4b6e8a7937ad2d2e943c",
       "version_major": 2,
       "version_minor": 0
      },
      "text/plain": [
       "Validation: |          | 0/? [00:00<?, ?it/s]"
      ]
     },
     "metadata": {},
     "output_type": "display_data"
    },
    {
     "name": "stderr",
     "output_type": "stream",
     "text": [
      "Epoch 9, global step 1000: 'val_loss' was not in top 1\n"
     ]
    },
    {
     "data": {
      "application/vnd.jupyter.widget-view+json": {
       "model_id": "449dee1a273a4fea943efbaf0282b9a2",
       "version_major": 2,
       "version_minor": 0
      },
      "text/plain": [
       "Validation: |          | 0/? [00:00<?, ?it/s]"
      ]
     },
     "metadata": {},
     "output_type": "display_data"
    },
    {
     "name": "stderr",
     "output_type": "stream",
     "text": [
      "Epoch 10, global step 1100: 'val_loss' was not in top 1\n"
     ]
    },
    {
     "data": {
      "application/vnd.jupyter.widget-view+json": {
       "model_id": "77b97bb2ad17404190dd9364ff5a0f22",
       "version_major": 2,
       "version_minor": 0
      },
      "text/plain": [
       "Validation: |          | 0/? [00:00<?, ?it/s]"
      ]
     },
     "metadata": {},
     "output_type": "display_data"
    },
    {
     "name": "stderr",
     "output_type": "stream",
     "text": [
      "Epoch 11, global step 1200: 'val_loss' was not in top 1\n"
     ]
    },
    {
     "data": {
      "application/vnd.jupyter.widget-view+json": {
       "model_id": "28ecf56b4f214398b8530dcd4b6e8ab7",
       "version_major": 2,
       "version_minor": 0
      },
      "text/plain": [
       "Validation: |          | 0/? [00:00<?, ?it/s]"
      ]
     },
     "metadata": {},
     "output_type": "display_data"
    },
    {
     "name": "stderr",
     "output_type": "stream",
     "text": [
      "Epoch 12, global step 1300: 'val_loss' was not in top 1\n"
     ]
    },
    {
     "data": {
      "application/vnd.jupyter.widget-view+json": {
       "model_id": "0ecff42e622d402e92cba113df2c2a4d",
       "version_major": 2,
       "version_minor": 0
      },
      "text/plain": [
       "Validation: |          | 0/? [00:00<?, ?it/s]"
      ]
     },
     "metadata": {},
     "output_type": "display_data"
    },
    {
     "name": "stderr",
     "output_type": "stream",
     "text": [
      "Epoch 13, global step 1400: 'val_loss' was not in top 1\n"
     ]
    },
    {
     "data": {
      "application/vnd.jupyter.widget-view+json": {
       "model_id": "b63f91cdf34249018f44ab759326e2d0",
       "version_major": 2,
       "version_minor": 0
      },
      "text/plain": [
       "Validation: |          | 0/? [00:00<?, ?it/s]"
      ]
     },
     "metadata": {},
     "output_type": "display_data"
    },
    {
     "name": "stderr",
     "output_type": "stream",
     "text": [
      "Epoch 14, global step 1500: 'val_loss' was not in top 1\n"
     ]
    },
    {
     "data": {
      "application/vnd.jupyter.widget-view+json": {
       "model_id": "9bc32226930243d4836a0e5ae1d92f63",
       "version_major": 2,
       "version_minor": 0
      },
      "text/plain": [
       "Validation: |          | 0/? [00:00<?, ?it/s]"
      ]
     },
     "metadata": {},
     "output_type": "display_data"
    },
    {
     "name": "stderr",
     "output_type": "stream",
     "text": [
      "Epoch 15, global step 1600: 'val_loss' was not in top 1\n"
     ]
    },
    {
     "data": {
      "application/vnd.jupyter.widget-view+json": {
       "model_id": "525e8925166e405181a809c261188794",
       "version_major": 2,
       "version_minor": 0
      },
      "text/plain": [
       "Validation: |          | 0/? [00:00<?, ?it/s]"
      ]
     },
     "metadata": {},
     "output_type": "display_data"
    },
    {
     "name": "stderr",
     "output_type": "stream",
     "text": [
      "Epoch 16, global step 1700: 'val_loss' was not in top 1\n"
     ]
    },
    {
     "data": {
      "application/vnd.jupyter.widget-view+json": {
       "model_id": "d6e14bd64c8c41c8999e7c4bea69142f",
       "version_major": 2,
       "version_minor": 0
      },
      "text/plain": [
       "Validation: |          | 0/? [00:00<?, ?it/s]"
      ]
     },
     "metadata": {},
     "output_type": "display_data"
    },
    {
     "name": "stderr",
     "output_type": "stream",
     "text": [
      "Monitored metric val_loss did not improve in the last 10 records. Best score: 0.002. Signaling Trainer to stop.\n",
      "Epoch 17, global step 1800: 'val_loss' was not in top 1\n",
      "GPU available: True (cuda), used: True\n",
      "TPU available: False, using: 0 TPU cores\n",
      "HPU available: False, using: 0 HPUs\n"
     ]
    },
    {
     "name": "stdout",
     "output_type": "stream",
     "text": [
      "Testing lstm-fold1...\n",
      "Best checkpoint: lightning_logs/lstm-fold1/checkpoints/lstm-fold1-best-checkpoint.ckpt\n"
     ]
    },
    {
     "name": "stderr",
     "output_type": "stream",
     "text": [
      "LOCAL_RANK: 0 - CUDA_VISIBLE_DEVICES: [0]\n",
      "SLURM auto-requeueing enabled. Setting signal handlers.\n"
     ]
    },
    {
     "data": {
      "application/vnd.jupyter.widget-view+json": {
       "model_id": "745e8e0b891446c794772d1a82dab7c3",
       "version_major": 2,
       "version_minor": 0
      },
      "text/plain": [
       "Testing: |          | 0/? [00:00<?, ?it/s]"
      ]
     },
     "metadata": {},
     "output_type": "display_data"
    },
    {
     "data": {
      "image/png": "[encoded data removed]",
      "text/plain": [
       "<Figure size 640x480 with 2 Axes>"
      ]
     },
     "metadata": {},
     "output_type": "display_data"
    },
    {
     "data": {
      "image/png": "[encoded data removed]",
      "text/plain": [
       "<Figure size 640x480 with 1 Axes>"
      ]
     },
     "metadata": {},
     "output_type": "display_data"
    },
    {
     "data": {
      "image/png": "[encoded data removed]",
      "text/plain": [
       "<Figure size 640x480 with 1 Axes>"
      ]
     },
     "metadata": {},
     "output_type": "display_data"
    },
    {
     "name": "stdout",
     "output_type": "stream",
     "text": [
      "\n",
      "Test Accuracy : 0.9992\n",
      "Test AuROC    : 1.0000\n",
      "Test AuPRC    : 1.0000\n"
     ]
    },
    {
     "data": {
      "text/html": [
       "<pre style=\"white-space:pre;overflow-x:auto;line-height:normal;font-family:Menlo,'DejaVu Sans Mono',consolas,'Courier New',monospace\">┏━━━━━━━━━━━━━━━━━━━━━━━━━━━┳━━━━━━━━━━━━━━━━━━━━━━━━━━━┓\n",
       "┃<span style=\"font-weight: bold\">        Test metric        </span>┃<span style=\"font-weight: bold\">       DataLoader 0        </span>┃\n",
       "┡━━━━━━━━━━━━━━━━━━━━━━━━━━━╇━━━━━━━━━━━━━━━━━━━━━━━━━━━┩\n",
       "│<span style=\"color: #008080; text-decoration-color: #008080\">         test_acc          </span>│<span style=\"color: #800080; text-decoration-color: #800080\">    0.9992499947547913     </span>│\n",
       "│<span style=\"color: #008080; text-decoration-color: #008080\">        test_auprc         </span>│<span style=\"color: #800080; text-decoration-color: #800080\">            1.0            </span>│\n",
       "│<span style=\"color: #008080; text-decoration-color: #008080\">        test_auroc         </span>│<span style=\"color: #800080; text-decoration-color: #800080\">            1.0            </span>│\n",
       "│<span style=\"color: #008080; text-decoration-color: #008080\">         test_loss         </span>│<span style=\"color: #800080; text-decoration-color: #800080\">   0.003998043481260538    </span>│\n",
       "└───────────────────────────┴───────────────────────────┘\n",
       "</pre>\n"
      ],
      "text/plain": [
       "┏━━━━━━━━━━━━━━━━━━━━━━━━━━━┳━━━━━━━━━━━━━━━━━━━━━━━━━━━┓\n",
       "┃\u001b[1m \u001b[0m\u001b[1m       Test metric       \u001b[0m\u001b[1m \u001b[0m┃\u001b[1m \u001b[0m\u001b[1m      DataLoader 0       \u001b[0m\u001b[1m \u001b[0m┃\n",
       "┡━━━━━━━━━━━━━━━━━━━━━━━━━━━╇━━━━━━━━━━━━━━━━━━━━━━━━━━━┩\n",
       "│\u001b[36m \u001b[0m\u001b[36m        test_acc         \u001b[0m\u001b[36m \u001b[0m│\u001b[35m \u001b[0m\u001b[35m   0.9992499947547913    \u001b[0m\u001b[35m \u001b[0m│\n",
       "│\u001b[36m \u001b[0m\u001b[36m       test_auprc        \u001b[0m\u001b[36m \u001b[0m│\u001b[35m \u001b[0m\u001b[35m           1.0           \u001b[0m\u001b[35m \u001b[0m│\n",
       "│\u001b[36m \u001b[0m\u001b[36m       test_auroc        \u001b[0m\u001b[36m \u001b[0m│\u001b[35m \u001b[0m\u001b[35m           1.0           \u001b[0m\u001b[35m \u001b[0m│\n",
       "│\u001b[36m \u001b[0m\u001b[36m        test_loss        \u001b[0m\u001b[36m \u001b[0m│\u001b[35m \u001b[0m\u001b[35m  0.003998043481260538   \u001b[0m\u001b[35m \u001b[0m│\n",
       "└───────────────────────────┴───────────────────────────┘\n"
      ]
     },
     "metadata": {},
     "output_type": "display_data"
    },
    {
     "name": "stdout",
     "output_type": "stream",
     "text": [
      "\n",
      "=== Fold 3/5 ===\n"
     ]
    },
    {
     "name": "stderr",
     "output_type": "stream",
     "text": [
      "GPU available: True (cuda), used: True\n",
      "TPU available: False, using: 0 TPU cores\n",
      "HPU available: False, using: 0 HPUs\n",
      "/cluster/courses/ml4h/project1env/lib/python3.12/site-packages/pytorch_lightning/callbacks/model_checkpoint.py:654: Checkpoint directory /home/pbaertschi/ICU-TimeSeries-Mortality-Prediction/notebooks/2_SupervisedML/Q2_RNN/lightning_logs/lstm-fold2/checkpoints exists and is not empty.\n",
      "LOCAL_RANK: 0 - CUDA_VISIBLE_DEVICES: [0]\n",
      "\n",
      "  | Name       | Type              | Params | Mode \n",
      "---------------------------------------------------------\n",
      "0 | lstm       | LSTM              | 61.2 K | train\n",
      "1 | classifier | Linear            | 65     | train\n",
      "2 | loss_fn    | BCEWithLogitsLoss | 0      | train\n",
      "---------------------------------------------------------\n",
      "61.2 K    Trainable params\n",
      "0         Non-trainable params\n",
      "61.2 K    Total params\n",
      "0.245     Total estimated model params size (MB)\n",
      "3         Modules in train mode\n",
      "0         Modules in eval mode\n",
      "SLURM auto-requeueing enabled. Setting signal handlers.\n"
     ]
    },
    {
     "data": {
      "application/vnd.jupyter.widget-view+json": {
       "model_id": "045cb0367a0a461fa7d3e3bdcc686c73",
       "version_major": 2,
       "version_minor": 0
      },
      "text/plain": [
       "Sanity Checking: |          | 0/? [00:00<?, ?it/s]"
      ]
     },
     "metadata": {},
     "output_type": "display_data"
    },
    {
     "data": {
      "application/vnd.jupyter.widget-view+json": {
       "model_id": "ba601993c8f646a1b8485674a8530aea",
       "version_major": 2,
       "version_minor": 0
      },
      "text/plain": [
       "Training: |          | 0/? [00:00<?, ?it/s]"
      ]
     },
     "metadata": {},
     "output_type": "display_data"
    },
    {
     "data": {
      "application/vnd.jupyter.widget-view+json": {
       "model_id": "530eb45357084c25909092541a9d8eaf",
       "version_major": 2,
       "version_minor": 0
      },
      "text/plain": [
       "Validation: |          | 0/? [00:00<?, ?it/s]"
      ]
     },
     "metadata": {},
     "output_type": "display_data"
    },
    {
     "name": "stderr",
     "output_type": "stream",
     "text": [
      "Metric val_loss improved. New best score: 0.070\n",
      "Epoch 0, global step 100: 'val_loss' reached 0.07008 (best 0.07008), saving model to '/home/pbaertschi/ICU-TimeSeries-Mortality-Prediction/notebooks/2_SupervisedML/Q2_RNN/lightning_logs/lstm-fold2/checkpoints/lstm-fold2-best-checkpoint-v1.ckpt' as top 1\n"
     ]
    },
    {
     "data": {
      "application/vnd.jupyter.widget-view+json": {
       "model_id": "c2648ab408f74906b1d35ce2993a31d4",
       "version_major": 2,
       "version_minor": 0
      },
      "text/plain": [
       "Validation: |          | 0/? [00:00<?, ?it/s]"
      ]
     },
     "metadata": {},
     "output_type": "display_data"
    },
    {
     "name": "stderr",
     "output_type": "stream",
     "text": [
      "Epoch 1, global step 200: 'val_loss' was not in top 1\n"
     ]
    },
    {
     "data": {
      "application/vnd.jupyter.widget-view+json": {
       "model_id": "6d9713ed32c542038e5e8290bb30fd65",
       "version_major": 2,
       "version_minor": 0
      },
      "text/plain": [
       "Validation: |          | 0/? [00:00<?, ?it/s]"
      ]
     },
     "metadata": {},
     "output_type": "display_data"
    },
    {
     "name": "stderr",
     "output_type": "stream",
     "text": [
      "Metric val_loss improved by 0.049 >= min_delta = 0.0. New best score: 0.021\n",
      "Epoch 2, global step 300: 'val_loss' reached 0.02125 (best 0.02125), saving model to '/home/pbaertschi/ICU-TimeSeries-Mortality-Prediction/notebooks/2_SupervisedML/Q2_RNN/lightning_logs/lstm-fold2/checkpoints/lstm-fold2-best-checkpoint-v1.ckpt' as top 1\n"
     ]
    },
    {
     "data": {
      "application/vnd.jupyter.widget-view+json": {
       "model_id": "d361e6a9fe424838a390082bd4bf2e61",
       "version_major": 2,
       "version_minor": 0
      },
      "text/plain": [
       "Validation: |          | 0/? [00:00<?, ?it/s]"
      ]
     },
     "metadata": {},
     "output_type": "display_data"
    },
    {
     "name": "stderr",
     "output_type": "stream",
     "text": [
      "Metric val_loss improved by 0.013 >= min_delta = 0.0. New best score: 0.008\n",
      "Epoch 3, global step 400: 'val_loss' reached 0.00848 (best 0.00848), saving model to '/home/pbaertschi/ICU-TimeSeries-Mortality-Prediction/notebooks/2_SupervisedML/Q2_RNN/lightning_logs/lstm-fold2/checkpoints/lstm-fold2-best-checkpoint-v1.ckpt' as top 1\n"
     ]
    },
    {
     "data": {
      "application/vnd.jupyter.widget-view+json": {
       "model_id": "e947fe75e6d044ab801cd21cb65f4bff",
       "version_major": 2,
       "version_minor": 0
      },
      "text/plain": [
       "Validation: |          | 0/? [00:00<?, ?it/s]"
      ]
     },
     "metadata": {},
     "output_type": "display_data"
    },
    {
     "name": "stderr",
     "output_type": "stream",
     "text": [
      "Epoch 4, global step 500: 'val_loss' was not in top 1\n"
     ]
    },
    {
     "data": {
      "application/vnd.jupyter.widget-view+json": {
       "model_id": "9e05ea518e1f4b2d9f4fcfc54e899af4",
       "version_major": 2,
       "version_minor": 0
      },
      "text/plain": [
       "Validation: |          | 0/? [00:00<?, ?it/s]"
      ]
     },
     "metadata": {},
     "output_type": "display_data"
    },
    {
     "name": "stderr",
     "output_type": "stream",
     "text": [
      "Metric val_loss improved by 0.002 >= min_delta = 0.0. New best score: 0.007\n",
      "Epoch 5, global step 600: 'val_loss' reached 0.00693 (best 0.00693), saving model to '/home/pbaertschi/ICU-TimeSeries-Mortality-Prediction/notebooks/2_SupervisedML/Q2_RNN/lightning_logs/lstm-fold2/checkpoints/lstm-fold2-best-checkpoint-v1.ckpt' as top 1\n"
     ]
    },
    {
     "data": {
      "application/vnd.jupyter.widget-view+json": {
       "model_id": "944c32718e404e62a2c79843bd9d1d3f",
       "version_major": 2,
       "version_minor": 0
      },
      "text/plain": [
       "Validation: |          | 0/? [00:00<?, ?it/s]"
      ]
     },
     "metadata": {},
     "output_type": "display_data"
    },
    {
     "name": "stderr",
     "output_type": "stream",
     "text": [
      "Metric val_loss improved by 0.002 >= min_delta = 0.0. New best score: 0.005\n",
      "Epoch 6, global step 700: 'val_loss' reached 0.00483 (best 0.00483), saving model to '/home/pbaertschi/ICU-TimeSeries-Mortality-Prediction/notebooks/2_SupervisedML/Q2_RNN/lightning_logs/lstm-fold2/checkpoints/lstm-fold2-best-checkpoint-v1.ckpt' as top 1\n"
     ]
    },
    {
     "data": {
      "application/vnd.jupyter.widget-view+json": {
       "model_id": "92f507ea43f340ac8b3590ad80137830",
       "version_major": 2,
       "version_minor": 0
      },
      "text/plain": [
       "Validation: |          | 0/? [00:00<?, ?it/s]"
      ]
     },
     "metadata": {},
     "output_type": "display_data"
    },
    {
     "name": "stderr",
     "output_type": "stream",
     "text": [
      "Metric val_loss improved by 0.003 >= min_delta = 0.0. New best score: 0.002\n",
      "Epoch 7, global step 800: 'val_loss' reached 0.00189 (best 0.00189), saving model to '/home/pbaertschi/ICU-TimeSeries-Mortality-Prediction/notebooks/2_SupervisedML/Q2_RNN/lightning_logs/lstm-fold2/checkpoints/lstm-fold2-best-checkpoint-v1.ckpt' as top 1\n"
     ]
    },
    {
     "data": {
      "application/vnd.jupyter.widget-view+json": {
       "model_id": "f0d687e1877a47159f17f903a557dcdf",
       "version_major": 2,
       "version_minor": 0
      },
      "text/plain": [
       "Validation: |          | 0/? [00:00<?, ?it/s]"
      ]
     },
     "metadata": {},
     "output_type": "display_data"
    },
    {
     "name": "stderr",
     "output_type": "stream",
     "text": [
      "Metric val_loss improved by 0.000 >= min_delta = 0.0. New best score: 0.002\n",
      "Epoch 8, global step 900: 'val_loss' reached 0.00182 (best 0.00182), saving model to '/home/pbaertschi/ICU-TimeSeries-Mortality-Prediction/notebooks/2_SupervisedML/Q2_RNN/lightning_logs/lstm-fold2/checkpoints/lstm-fold2-best-checkpoint-v1.ckpt' as top 1\n"
     ]
    },
    {
     "data": {
      "application/vnd.jupyter.widget-view+json": {
       "model_id": "adc4a4fff6334dfba34b23c89ff7aa95",
       "version_major": 2,
       "version_minor": 0
      },
      "text/plain": [
       "Validation: |          | 0/? [00:00<?, ?it/s]"
      ]
     },
     "metadata": {},
     "output_type": "display_data"
    },
    {
     "name": "stderr",
     "output_type": "stream",
     "text": [
      "Epoch 9, global step 1000: 'val_loss' was not in top 1\n"
     ]
    },
    {
     "data": {
      "application/vnd.jupyter.widget-view+json": {
       "model_id": "4451ecdeaa6642b5a380a078e10521a6",
       "version_major": 2,
       "version_minor": 0
      },
      "text/plain": [
       "Validation: |          | 0/? [00:00<?, ?it/s]"
      ]
     },
     "metadata": {},
     "output_type": "display_data"
    },
    {
     "name": "stderr",
     "output_type": "stream",
     "text": [
      "Epoch 10, global step 1100: 'val_loss' was not in top 1\n"
     ]
    },
    {
     "data": {
      "application/vnd.jupyter.widget-view+json": {
       "model_id": "bdc46457e8dd4e74828f17a27c0adf65",
       "version_major": 2,
       "version_minor": 0
      },
      "text/plain": [
       "Validation: |          | 0/? [00:00<?, ?it/s]"
      ]
     },
     "metadata": {},
     "output_type": "display_data"
    },
    {
     "name": "stderr",
     "output_type": "stream",
     "text": [
      "Epoch 11, global step 1200: 'val_loss' was not in top 1\n"
     ]
    },
    {
     "data": {
      "application/vnd.jupyter.widget-view+json": {
       "model_id": "517d988250034ae98d6119ea22da0164",
       "version_major": 2,
       "version_minor": 0
      },
      "text/plain": [
       "Validation: |          | 0/? [00:00<?, ?it/s]"
      ]
     },
     "metadata": {},
     "output_type": "display_data"
    },
    {
     "name": "stderr",
     "output_type": "stream",
     "text": [
      "Epoch 12, global step 1300: 'val_loss' was not in top 1\n"
     ]
    },
    {
     "data": {
      "application/vnd.jupyter.widget-view+json": {
       "model_id": "d085e1eca3454e7f87cea48f3f02a5ad",
       "version_major": 2,
       "version_minor": 0
      },
      "text/plain": [
       "Validation: |          | 0/? [00:00<?, ?it/s]"
      ]
     },
     "metadata": {},
     "output_type": "display_data"
    },
    {
     "name": "stderr",
     "output_type": "stream",
     "text": [
      "Epoch 13, global step 1400: 'val_loss' was not in top 1\n"
     ]
    },
    {
     "data": {
      "application/vnd.jupyter.widget-view+json": {
       "model_id": "f2ed94c983d04befb5c4a1d9ca848e9e",
       "version_major": 2,
       "version_minor": 0
      },
      "text/plain": [
       "Validation: |          | 0/? [00:00<?, ?it/s]"
      ]
     },
     "metadata": {},
     "output_type": "display_data"
    },
    {
     "name": "stderr",
     "output_type": "stream",
     "text": [
      "Epoch 14, global step 1500: 'val_loss' was not in top 1\n"
     ]
    },
    {
     "data": {
      "application/vnd.jupyter.widget-view+json": {
       "model_id": "7a8a4b4019294cb2a31d88631fb70332",
       "version_major": 2,
       "version_minor": 0
      },
      "text/plain": [
       "Validation: |          | 0/? [00:00<?, ?it/s]"
      ]
     },
     "metadata": {},
     "output_type": "display_data"
    },
    {
     "name": "stderr",
     "output_type": "stream",
     "text": [
      "Epoch 15, global step 1600: 'val_loss' was not in top 1\n"
     ]
    },
    {
     "data": {
      "application/vnd.jupyter.widget-view+json": {
       "model_id": "82454db1956e41feb7ea214fd2b4110b",
       "version_major": 2,
       "version_minor": 0
      },
      "text/plain": [
       "Validation: |          | 0/? [00:00<?, ?it/s]"
      ]
     },
     "metadata": {},
     "output_type": "display_data"
    },
    {
     "name": "stderr",
     "output_type": "stream",
     "text": [
      "Epoch 16, global step 1700: 'val_loss' was not in top 1\n"
     ]
    },
    {
     "data": {
      "application/vnd.jupyter.widget-view+json": {
       "model_id": "23cc6794a7014b71bee96126f226402a",
       "version_major": 2,
       "version_minor": 0
      },
      "text/plain": [
       "Validation: |          | 0/? [00:00<?, ?it/s]"
      ]
     },
     "metadata": {},
     "output_type": "display_data"
    },
    {
     "name": "stderr",
     "output_type": "stream",
     "text": [
      "Epoch 17, global step 1800: 'val_loss' was not in top 1\n"
     ]
    },
    {
     "data": {
      "application/vnd.jupyter.widget-view+json": {
       "model_id": "e4052a510986450fb190343088c138aa",
       "version_major": 2,
       "version_minor": 0
      },
      "text/plain": [
       "Validation: |          | 0/? [00:00<?, ?it/s]"
      ]
     },
     "metadata": {},
     "output_type": "display_data"
    },
    {
     "name": "stderr",
     "output_type": "stream",
     "text": [
      "Monitored metric val_loss did not improve in the last 10 records. Best score: 0.002. Signaling Trainer to stop.\n",
      "Epoch 18, global step 1900: 'val_loss' was not in top 1\n",
      "GPU available: True (cuda), used: True\n",
      "TPU available: False, using: 0 TPU cores\n",
      "HPU available: False, using: 0 HPUs\n"
     ]
    },
    {
     "name": "stdout",
     "output_type": "stream",
     "text": [
      "Testing lstm-fold2...\n",
      "Best checkpoint: lightning_logs/lstm-fold2/checkpoints/lstm-fold2-best-checkpoint-v1.ckpt\n"
     ]
    },
    {
     "name": "stderr",
     "output_type": "stream",
     "text": [
      "LOCAL_RANK: 0 - CUDA_VISIBLE_DEVICES: [0]\n",
      "SLURM auto-requeueing enabled. Setting signal handlers.\n"
     ]
    },
    {
     "data": {
      "application/vnd.jupyter.widget-view+json": {
       "model_id": "a8c55d9a40164bbeb868f71b1ac786e7",
       "version_major": 2,
       "version_minor": 0
      },
      "text/plain": [
       "Testing: |          | 0/? [00:00<?, ?it/s]"
      ]
     },
     "metadata": {},
     "output_type": "display_data"
    },
    {
     "data": {
      "image/png": "[encoded data removed]",
      "text/plain": [
       "<Figure size 640x480 with 2 Axes>"
      ]
     },
     "metadata": {},
     "output_type": "display_data"
    },
    {
     "data": {
      "image/png": "[encoded data removed]",
      "text/plain": [
       "<Figure size 640x480 with 1 Axes>"
      ]
     },
     "metadata": {},
     "output_type": "display_data"
    },
    {
     "data": {
      "image/png": "[encoded data removed]",
      "text/plain": [
       "<Figure size 640x480 with 1 Axes>"
      ]
     },
     "metadata": {},
     "output_type": "display_data"
    },
    {
     "name": "stdout",
     "output_type": "stream",
     "text": [
      "\n",
      "Test Accuracy : 0.9980\n",
      "Test AuROC    : 0.9998\n",
      "Test AuPRC    : 0.9987\n"
     ]
    },
    {
     "data": {
      "text/html": [
       "<pre style=\"white-space:pre;overflow-x:auto;line-height:normal;font-family:Menlo,'DejaVu Sans Mono',consolas,'Courier New',monospace\">┏━━━━━━━━━━━━━━━━━━━━━━━━━━━┳━━━━━━━━━━━━━━━━━━━━━━━━━━━┓\n",
       "┃<span style=\"font-weight: bold\">        Test metric        </span>┃<span style=\"font-weight: bold\">       DataLoader 0        </span>┃\n",
       "┡━━━━━━━━━━━━━━━━━━━━━━━━━━━╇━━━━━━━━━━━━━━━━━━━━━━━━━━━┩\n",
       "│<span style=\"color: #008080; text-decoration-color: #008080\">         test_acc          </span>│<span style=\"color: #800080; text-decoration-color: #800080\">    0.9980000257492065     </span>│\n",
       "│<span style=\"color: #008080; text-decoration-color: #008080\">        test_auprc         </span>│<span style=\"color: #800080; text-decoration-color: #800080\">    0.9987325668334961     </span>│\n",
       "│<span style=\"color: #008080; text-decoration-color: #008080\">        test_auroc         </span>│<span style=\"color: #800080; text-decoration-color: #800080\">    0.9997797608375549     </span>│\n",
       "│<span style=\"color: #008080; text-decoration-color: #008080\">         test_loss         </span>│<span style=\"color: #800080; text-decoration-color: #800080\">   0.012823265977203846    </span>│\n",
       "└───────────────────────────┴───────────────────────────┘\n",
       "</pre>\n"
      ],
      "text/plain": [
       "┏━━━━━━━━━━━━━━━━━━━━━━━━━━━┳━━━━━━━━━━━━━━━━━━━━━━━━━━━┓\n",
       "┃\u001b[1m \u001b[0m\u001b[1m       Test metric       \u001b[0m\u001b[1m \u001b[0m┃\u001b[1m \u001b[0m\u001b[1m      DataLoader 0       \u001b[0m\u001b[1m \u001b[0m┃\n",
       "┡━━━━━━━━━━━━━━━━━━━━━━━━━━━╇━━━━━━━━━━━━━━━━━━━━━━━━━━━┩\n",
       "│\u001b[36m \u001b[0m\u001b[36m        test_acc         \u001b[0m\u001b[36m \u001b[0m│\u001b[35m \u001b[0m\u001b[35m   0.9980000257492065    \u001b[0m\u001b[35m \u001b[0m│\n",
       "│\u001b[36m \u001b[0m\u001b[36m       test_auprc        \u001b[0m\u001b[36m \u001b[0m│\u001b[35m \u001b[0m\u001b[35m   0.9987325668334961    \u001b[0m\u001b[35m \u001b[0m│\n",
       "│\u001b[36m \u001b[0m\u001b[36m       test_auroc        \u001b[0m\u001b[36m \u001b[0m│\u001b[35m \u001b[0m\u001b[35m   0.9997797608375549    \u001b[0m\u001b[35m \u001b[0m│\n",
       "│\u001b[36m \u001b[0m\u001b[36m        test_loss        \u001b[0m\u001b[36m \u001b[0m│\u001b[35m \u001b[0m\u001b[35m  0.012823265977203846   \u001b[0m\u001b[35m \u001b[0m│\n",
       "└───────────────────────────┴───────────────────────────┘\n"
      ]
     },
     "metadata": {},
     "output_type": "display_data"
    },
    {
     "name": "stdout",
     "output_type": "stream",
     "text": [
      "\n",
      "=== Fold 4/5 ===\n"
     ]
    },
    {
     "name": "stderr",
     "output_type": "stream",
     "text": [
      "GPU available: True (cuda), used: True\n",
      "TPU available: False, using: 0 TPU cores\n",
      "HPU available: False, using: 0 HPUs\n",
      "/cluster/courses/ml4h/project1env/lib/python3.12/site-packages/pytorch_lightning/callbacks/model_checkpoint.py:654: Checkpoint directory /home/pbaertschi/ICU-TimeSeries-Mortality-Prediction/notebooks/2_SupervisedML/Q2_RNN/lightning_logs/lstm-fold3/checkpoints exists and is not empty.\n",
      "LOCAL_RANK: 0 - CUDA_VISIBLE_DEVICES: [0]\n",
      "\n",
      "  | Name       | Type              | Params | Mode \n",
      "---------------------------------------------------------\n",
      "0 | lstm       | LSTM              | 61.2 K | train\n",
      "1 | classifier | Linear            | 65     | train\n",
      "2 | loss_fn    | BCEWithLogitsLoss | 0      | train\n",
      "---------------------------------------------------------\n",
      "61.2 K    Trainable params\n",
      "0         Non-trainable params\n",
      "61.2 K    Total params\n",
      "0.245     Total estimated model params size (MB)\n",
      "3         Modules in train mode\n",
      "0         Modules in eval mode\n",
      "SLURM auto-requeueing enabled. Setting signal handlers.\n"
     ]
    },
    {
     "data": {
      "application/vnd.jupyter.widget-view+json": {
       "model_id": "d05ee50d5d3641438dbeb4b144509495",
       "version_major": 2,
       "version_minor": 0
      },
      "text/plain": [
       "Sanity Checking: |          | 0/? [00:00<?, ?it/s]"
      ]
     },
     "metadata": {},
     "output_type": "display_data"
    },
    {
     "data": {
      "application/vnd.jupyter.widget-view+json": {
       "model_id": "6e99368bc9e24a628ec91ba7f5d654cd",
       "version_major": 2,
       "version_minor": 0
      },
      "text/plain": [
       "Training: |          | 0/? [00:00<?, ?it/s]"
      ]
     },
     "metadata": {},
     "output_type": "display_data"
    },
    {
     "data": {
      "application/vnd.jupyter.widget-view+json": {
       "model_id": "0b79b5652ea446d39d06b1346506e9a9",
       "version_major": 2,
       "version_minor": 0
      },
      "text/plain": [
       "Validation: |          | 0/? [00:00<?, ?it/s]"
      ]
     },
     "metadata": {},
     "output_type": "display_data"
    },
    {
     "name": "stderr",
     "output_type": "stream",
     "text": [
      "Metric val_loss improved. New best score: 0.049\n",
      "Epoch 0, global step 100: 'val_loss' reached 0.04903 (best 0.04903), saving model to '/home/pbaertschi/ICU-TimeSeries-Mortality-Prediction/notebooks/2_SupervisedML/Q2_RNN/lightning_logs/lstm-fold3/checkpoints/lstm-fold3-best-checkpoint-v1.ckpt' as top 1\n"
     ]
    },
    {
     "data": {
      "application/vnd.jupyter.widget-view+json": {
       "model_id": "277da2cb37684349ad3058e016e6547c",
       "version_major": 2,
       "version_minor": 0
      },
      "text/plain": [
       "Validation: |          | 0/? [00:00<?, ?it/s]"
      ]
     },
     "metadata": {},
     "output_type": "display_data"
    },
    {
     "name": "stderr",
     "output_type": "stream",
     "text": [
      "Metric val_loss improved by 0.038 >= min_delta = 0.0. New best score: 0.011\n",
      "Epoch 1, global step 200: 'val_loss' reached 0.01131 (best 0.01131), saving model to '/home/pbaertschi/ICU-TimeSeries-Mortality-Prediction/notebooks/2_SupervisedML/Q2_RNN/lightning_logs/lstm-fold3/checkpoints/lstm-fold3-best-checkpoint-v1.ckpt' as top 1\n"
     ]
    },
    {
     "data": {
      "application/vnd.jupyter.widget-view+json": {
       "model_id": "96c866cda28e4dc9998fde430348fbd4",
       "version_major": 2,
       "version_minor": 0
      },
      "text/plain": [
       "Validation: |          | 0/? [00:00<?, ?it/s]"
      ]
     },
     "metadata": {},
     "output_type": "display_data"
    },
    {
     "name": "stderr",
     "output_type": "stream",
     "text": [
      "Epoch 2, global step 300: 'val_loss' was not in top 1\n"
     ]
    },
    {
     "data": {
      "application/vnd.jupyter.widget-view+json": {
       "model_id": "8d8e5b813f57495ea65760fa1c204486",
       "version_major": 2,
       "version_minor": 0
      },
      "text/plain": [
       "Validation: |          | 0/? [00:00<?, ?it/s]"
      ]
     },
     "metadata": {},
     "output_type": "display_data"
    },
    {
     "name": "stderr",
     "output_type": "stream",
     "text": [
      "Epoch 3, global step 400: 'val_loss' was not in top 1\n"
     ]
    },
    {
     "data": {
      "application/vnd.jupyter.widget-view+json": {
       "model_id": "18f7d2aa32db43fc97ff21d904c0e7dd",
       "version_major": 2,
       "version_minor": 0
      },
      "text/plain": [
       "Validation: |          | 0/? [00:00<?, ?it/s]"
      ]
     },
     "metadata": {},
     "output_type": "display_data"
    },
    {
     "name": "stderr",
     "output_type": "stream",
     "text": [
      "Epoch 4, global step 500: 'val_loss' was not in top 1\n"
     ]
    },
    {
     "data": {
      "application/vnd.jupyter.widget-view+json": {
       "model_id": "03d7f491ab3748758d93ed897698003e",
       "version_major": 2,
       "version_minor": 0
      },
      "text/plain": [
       "Validation: |          | 0/? [00:00<?, ?it/s]"
      ]
     },
     "metadata": {},
     "output_type": "display_data"
    },
    {
     "name": "stderr",
     "output_type": "stream",
     "text": [
      "Metric val_loss improved by 0.007 >= min_delta = 0.0. New best score: 0.005\n",
      "Epoch 5, global step 600: 'val_loss' reached 0.00472 (best 0.00472), saving model to '/home/pbaertschi/ICU-TimeSeries-Mortality-Prediction/notebooks/2_SupervisedML/Q2_RNN/lightning_logs/lstm-fold3/checkpoints/lstm-fold3-best-checkpoint-v1.ckpt' as top 1\n"
     ]
    },
    {
     "data": {
      "application/vnd.jupyter.widget-view+json": {
       "model_id": "af321a669d454fc38898c59313db73a8",
       "version_major": 2,
       "version_minor": 0
      },
      "text/plain": [
       "Validation: |          | 0/? [00:00<?, ?it/s]"
      ]
     },
     "metadata": {},
     "output_type": "display_data"
    },
    {
     "name": "stderr",
     "output_type": "stream",
     "text": [
      "Metric val_loss improved by 0.001 >= min_delta = 0.0. New best score: 0.004\n",
      "Epoch 6, global step 700: 'val_loss' reached 0.00367 (best 0.00367), saving model to '/home/pbaertschi/ICU-TimeSeries-Mortality-Prediction/notebooks/2_SupervisedML/Q2_RNN/lightning_logs/lstm-fold3/checkpoints/lstm-fold3-best-checkpoint-v1.ckpt' as top 1\n"
     ]
    },
    {
     "data": {
      "application/vnd.jupyter.widget-view+json": {
       "model_id": "3a10de3240684067aad9119cf282a678",
       "version_major": 2,
       "version_minor": 0
      },
      "text/plain": [
       "Validation: |          | 0/? [00:00<?, ?it/s]"
      ]
     },
     "metadata": {},
     "output_type": "display_data"
    },
    {
     "name": "stderr",
     "output_type": "stream",
     "text": [
      "Metric val_loss improved by 0.000 >= min_delta = 0.0. New best score: 0.003\n",
      "Epoch 7, global step 800: 'val_loss' reached 0.00324 (best 0.00324), saving model to '/home/pbaertschi/ICU-TimeSeries-Mortality-Prediction/notebooks/2_SupervisedML/Q2_RNN/lightning_logs/lstm-fold3/checkpoints/lstm-fold3-best-checkpoint-v1.ckpt' as top 1\n"
     ]
    },
    {
     "data": {
      "application/vnd.jupyter.widget-view+json": {
       "model_id": "5f2067bce25f4a20841efbd9ae7557b8",
       "version_major": 2,
       "version_minor": 0
      },
      "text/plain": [
       "Validation: |          | 0/? [00:00<?, ?it/s]"
      ]
     },
     "metadata": {},
     "output_type": "display_data"
    },
    {
     "name": "stderr",
     "output_type": "stream",
     "text": [
      "Metric val_loss improved by 0.000 >= min_delta = 0.0. New best score: 0.003\n",
      "Epoch 8, global step 900: 'val_loss' reached 0.00297 (best 0.00297), saving model to '/home/pbaertschi/ICU-TimeSeries-Mortality-Prediction/notebooks/2_SupervisedML/Q2_RNN/lightning_logs/lstm-fold3/checkpoints/lstm-fold3-best-checkpoint-v1.ckpt' as top 1\n"
     ]
    },
    {
     "data": {
      "application/vnd.jupyter.widget-view+json": {
       "model_id": "f55b9584094f41fc8a0af93f739642ef",
       "version_major": 2,
       "version_minor": 0
      },
      "text/plain": [
       "Validation: |          | 0/? [00:00<?, ?it/s]"
      ]
     },
     "metadata": {},
     "output_type": "display_data"
    },
    {
     "name": "stderr",
     "output_type": "stream",
     "text": [
      "Metric val_loss improved by 0.000 >= min_delta = 0.0. New best score: 0.003\n",
      "Epoch 9, global step 1000: 'val_loss' reached 0.00286 (best 0.00286), saving model to '/home/pbaertschi/ICU-TimeSeries-Mortality-Prediction/notebooks/2_SupervisedML/Q2_RNN/lightning_logs/lstm-fold3/checkpoints/lstm-fold3-best-checkpoint-v1.ckpt' as top 1\n"
     ]
    },
    {
     "data": {
      "application/vnd.jupyter.widget-view+json": {
       "model_id": "b777abd6a5974769864c7e80d93e7684",
       "version_major": 2,
       "version_minor": 0
      },
      "text/plain": [
       "Validation: |          | 0/? [00:00<?, ?it/s]"
      ]
     },
     "metadata": {},
     "output_type": "display_data"
    },
    {
     "name": "stderr",
     "output_type": "stream",
     "text": [
      "Metric val_loss improved by 0.001 >= min_delta = 0.0. New best score: 0.002\n",
      "Epoch 10, global step 1100: 'val_loss' reached 0.00177 (best 0.00177), saving model to '/home/pbaertschi/ICU-TimeSeries-Mortality-Prediction/notebooks/2_SupervisedML/Q2_RNN/lightning_logs/lstm-fold3/checkpoints/lstm-fold3-best-checkpoint-v1.ckpt' as top 1\n"
     ]
    },
    {
     "data": {
      "application/vnd.jupyter.widget-view+json": {
       "model_id": "4e1b597d83e949cb9a38fc3048893544",
       "version_major": 2,
       "version_minor": 0
      },
      "text/plain": [
       "Validation: |          | 0/? [00:00<?, ?it/s]"
      ]
     },
     "metadata": {},
     "output_type": "display_data"
    },
    {
     "name": "stderr",
     "output_type": "stream",
     "text": [
      "Metric val_loss improved by 0.000 >= min_delta = 0.0. New best score: 0.002\n",
      "Epoch 11, global step 1200: 'val_loss' reached 0.00176 (best 0.00176), saving model to '/home/pbaertschi/ICU-TimeSeries-Mortality-Prediction/notebooks/2_SupervisedML/Q2_RNN/lightning_logs/lstm-fold3/checkpoints/lstm-fold3-best-checkpoint-v1.ckpt' as top 1\n"
     ]
    },
    {
     "data": {
      "application/vnd.jupyter.widget-view+json": {
       "model_id": "a28191c836cd48b6b533b8ac736cc620",
       "version_major": 2,
       "version_minor": 0
      },
      "text/plain": [
       "Validation: |          | 0/? [00:00<?, ?it/s]"
      ]
     },
     "metadata": {},
     "output_type": "display_data"
    },
    {
     "name": "stderr",
     "output_type": "stream",
     "text": [
      "Epoch 12, global step 1300: 'val_loss' was not in top 1\n"
     ]
    },
    {
     "data": {
      "application/vnd.jupyter.widget-view+json": {
       "model_id": "f26464fed932465588a1e4f0bd8fc570",
       "version_major": 2,
       "version_minor": 0
      },
      "text/plain": [
       "Validation: |          | 0/? [00:00<?, ?it/s]"
      ]
     },
     "metadata": {},
     "output_type": "display_data"
    },
    {
     "name": "stderr",
     "output_type": "stream",
     "text": [
      "Epoch 13, global step 1400: 'val_loss' was not in top 1\n"
     ]
    },
    {
     "data": {
      "application/vnd.jupyter.widget-view+json": {
       "model_id": "d508da2b061d4aeab028083fb8c1f7bf",
       "version_major": 2,
       "version_minor": 0
      },
      "text/plain": [
       "Validation: |          | 0/? [00:00<?, ?it/s]"
      ]
     },
     "metadata": {},
     "output_type": "display_data"
    },
    {
     "name": "stderr",
     "output_type": "stream",
     "text": [
      "Epoch 14, global step 1500: 'val_loss' was not in top 1\n"
     ]
    },
    {
     "data": {
      "application/vnd.jupyter.widget-view+json": {
       "model_id": "cb40475e623d472f859495cb3a39abd5",
       "version_major": 2,
       "version_minor": 0
      },
      "text/plain": [
       "Validation: |          | 0/? [00:00<?, ?it/s]"
      ]
     },
     "metadata": {},
     "output_type": "display_data"
    },
    {
     "name": "stderr",
     "output_type": "stream",
     "text": [
      "Epoch 15, global step 1600: 'val_loss' was not in top 1\n"
     ]
    },
    {
     "data": {
      "application/vnd.jupyter.widget-view+json": {
       "model_id": "440be21f51484cc9bca99748beb308a6",
       "version_major": 2,
       "version_minor": 0
      },
      "text/plain": [
       "Validation: |          | 0/? [00:00<?, ?it/s]"
      ]
     },
     "metadata": {},
     "output_type": "display_data"
    },
    {
     "name": "stderr",
     "output_type": "stream",
     "text": [
      "Epoch 16, global step 1700: 'val_loss' was not in top 1\n"
     ]
    },
    {
     "data": {
      "application/vnd.jupyter.widget-view+json": {
       "model_id": "3a28dbc0d68a48e6be91e0e2d0537ec5",
       "version_major": 2,
       "version_minor": 0
      },
      "text/plain": [
       "Validation: |          | 0/? [00:00<?, ?it/s]"
      ]
     },
     "metadata": {},
     "output_type": "display_data"
    },
    {
     "name": "stderr",
     "output_type": "stream",
     "text": [
      "Epoch 17, global step 1800: 'val_loss' was not in top 1\n"
     ]
    },
    {
     "data": {
      "application/vnd.jupyter.widget-view+json": {
       "model_id": "3796af8d22d9461fb5292c65946b1e73",
       "version_major": 2,
       "version_minor": 0
      },
      "text/plain": [
       "Validation: |          | 0/? [00:00<?, ?it/s]"
      ]
     },
     "metadata": {},
     "output_type": "display_data"
    },
    {
     "name": "stderr",
     "output_type": "stream",
     "text": [
      "Epoch 18, global step 1900: 'val_loss' was not in top 1\n"
     ]
    },
    {
     "data": {
      "application/vnd.jupyter.widget-view+json": {
       "model_id": "881aa773350c4c088422549cb33f751b",
       "version_major": 2,
       "version_minor": 0
      },
      "text/plain": [
       "Validation: |          | 0/? [00:00<?, ?it/s]"
      ]
     },
     "metadata": {},
     "output_type": "display_data"
    },
    {
     "name": "stderr",
     "output_type": "stream",
     "text": [
      "Epoch 19, global step 2000: 'val_loss' was not in top 1\n",
      "`Trainer.fit` stopped: `max_epochs=20` reached.\n",
      "GPU available: True (cuda), used: True\n",
      "TPU available: False, using: 0 TPU cores\n",
      "HPU available: False, using: 0 HPUs\n"
     ]
    },
    {
     "name": "stdout",
     "output_type": "stream",
     "text": [
      "Testing lstm-fold3...\n",
      "Best checkpoint: lightning_logs/lstm-fold3/checkpoints/lstm-fold3-best-checkpoint.ckpt\n"
     ]
    },
    {
     "name": "stderr",
     "output_type": "stream",
     "text": [
      "LOCAL_RANK: 0 - CUDA_VISIBLE_DEVICES: [0]\n",
      "SLURM auto-requeueing enabled. Setting signal handlers.\n"
     ]
    },
    {
     "data": {
      "application/vnd.jupyter.widget-view+json": {
       "model_id": "8838d41f84b04b7baf51c4013769b65f",
       "version_major": 2,
       "version_minor": 0
      },
      "text/plain": [
       "Testing: |          | 0/? [00:00<?, ?it/s]"
      ]
     },
     "metadata": {},
     "output_type": "display_data"
    },
    {
     "data": {
      "image/png": "[encoded data removed]",
      "text/plain": [
       "<Figure size 640x480 with 2 Axes>"
      ]
     },
     "metadata": {},
     "output_type": "display_data"
    },
    {
     "data": {
      "image/png": "[encoded data removed]",
      "text/plain": [
       "<Figure size 640x480 with 1 Axes>"
      ]
     },
     "metadata": {},
     "output_type": "display_data"
    },
    {
     "data": {
      "image/png": "[encoded data removed]",
      "text/plain": [
       "<Figure size 640x480 with 1 Axes>"
      ]
     },
     "metadata": {},
     "output_type": "display_data"
    },
    {
     "name": "stdout",
     "output_type": "stream",
     "text": [
      "\n",
      "Test Accuracy : 0.9985\n",
      "Test AuROC    : 0.9996\n",
      "Test AuPRC    : 0.9973\n"
     ]
    },
    {
     "data": {
      "text/html": [
       "<pre style=\"white-space:pre;overflow-x:auto;line-height:normal;font-family:Menlo,'DejaVu Sans Mono',consolas,'Courier New',monospace\">┏━━━━━━━━━━━━━━━━━━━━━━━━━━━┳━━━━━━━━━━━━━━━━━━━━━━━━━━━┓\n",
       "┃<span style=\"font-weight: bold\">        Test metric        </span>┃<span style=\"font-weight: bold\">       DataLoader 0        </span>┃\n",
       "┡━━━━━━━━━━━━━━━━━━━━━━━━━━━╇━━━━━━━━━━━━━━━━━━━━━━━━━━━┩\n",
       "│<span style=\"color: #008080; text-decoration-color: #008080\">         test_acc          </span>│<span style=\"color: #800080; text-decoration-color: #800080\">    0.9984999895095825     </span>│\n",
       "│<span style=\"color: #008080; text-decoration-color: #008080\">        test_auprc         </span>│<span style=\"color: #800080; text-decoration-color: #800080\">    0.9972767233848572     </span>│\n",
       "│<span style=\"color: #008080; text-decoration-color: #008080\">        test_auroc         </span>│<span style=\"color: #800080; text-decoration-color: #800080\">    0.9996386170387268     </span>│\n",
       "│<span style=\"color: #008080; text-decoration-color: #008080\">         test_loss         </span>│<span style=\"color: #800080; text-decoration-color: #800080\">   0.008376622572541237    </span>│\n",
       "└───────────────────────────┴───────────────────────────┘\n",
       "</pre>\n"
      ],
      "text/plain": [
       "┏━━━━━━━━━━━━━━━━━━━━━━━━━━━┳━━━━━━━━━━━━━━━━━━━━━━━━━━━┓\n",
       "┃\u001b[1m \u001b[0m\u001b[1m       Test metric       \u001b[0m\u001b[1m \u001b[0m┃\u001b[1m \u001b[0m\u001b[1m      DataLoader 0       \u001b[0m\u001b[1m \u001b[0m┃\n",
       "┡━━━━━━━━━━━━━━━━━━━━━━━━━━━╇━━━━━━━━━━━━━━━━━━━━━━━━━━━┩\n",
       "│\u001b[36m \u001b[0m\u001b[36m        test_acc         \u001b[0m\u001b[36m \u001b[0m│\u001b[35m \u001b[0m\u001b[35m   0.9984999895095825    \u001b[0m\u001b[35m \u001b[0m│\n",
       "│\u001b[36m \u001b[0m\u001b[36m       test_auprc        \u001b[0m\u001b[36m \u001b[0m│\u001b[35m \u001b[0m\u001b[35m   0.9972767233848572    \u001b[0m\u001b[35m \u001b[0m│\n",
       "│\u001b[36m \u001b[0m\u001b[36m       test_auroc        \u001b[0m\u001b[36m \u001b[0m│\u001b[35m \u001b[0m\u001b[35m   0.9996386170387268    \u001b[0m\u001b[35m \u001b[0m│\n",
       "│\u001b[36m \u001b[0m\u001b[36m        test_loss        \u001b[0m\u001b[36m \u001b[0m│\u001b[35m \u001b[0m\u001b[35m  0.008376622572541237   \u001b[0m\u001b[35m \u001b[0m│\n",
       "└───────────────────────────┴───────────────────────────┘\n"
      ]
     },
     "metadata": {},
     "output_type": "display_data"
    },
    {
     "name": "stdout",
     "output_type": "stream",
     "text": [
      "\n",
      "=== Fold 5/5 ===\n"
     ]
    },
    {
     "name": "stderr",
     "output_type": "stream",
     "text": [
      "GPU available: True (cuda), used: True\n",
      "TPU available: False, using: 0 TPU cores\n",
      "HPU available: False, using: 0 HPUs\n",
      "/cluster/courses/ml4h/project1env/lib/python3.12/site-packages/pytorch_lightning/callbacks/model_checkpoint.py:654: Checkpoint directory /home/pbaertschi/ICU-TimeSeries-Mortality-Prediction/notebooks/2_SupervisedML/Q2_RNN/lightning_logs/lstm-fold4/checkpoints exists and is not empty.\n",
      "LOCAL_RANK: 0 - CUDA_VISIBLE_DEVICES: [0]\n",
      "\n",
      "  | Name       | Type              | Params | Mode \n",
      "---------------------------------------------------------\n",
      "0 | lstm       | LSTM              | 61.2 K | train\n",
      "1 | classifier | Linear            | 65     | train\n",
      "2 | loss_fn    | BCEWithLogitsLoss | 0      | train\n",
      "---------------------------------------------------------\n",
      "61.2 K    Trainable params\n",
      "0         Non-trainable params\n",
      "61.2 K    Total params\n",
      "0.245     Total estimated model params size (MB)\n",
      "3         Modules in train mode\n",
      "0         Modules in eval mode\n",
      "SLURM auto-requeueing enabled. Setting signal handlers.\n"
     ]
    },
    {
     "data": {
      "application/vnd.jupyter.widget-view+json": {
       "model_id": "de0d12fa14924c5daf28c24f2cca1cb1",
       "version_major": 2,
       "version_minor": 0
      },
      "text/plain": [
       "Sanity Checking: |          | 0/? [00:00<?, ?it/s]"
      ]
     },
     "metadata": {},
     "output_type": "display_data"
    },
    {
     "data": {
      "application/vnd.jupyter.widget-view+json": {
       "model_id": "5d7e3d601d904d57af2802f147020167",
       "version_major": 2,
       "version_minor": 0
      },
      "text/plain": [
       "Training: |          | 0/? [00:00<?, ?it/s]"
      ]
     },
     "metadata": {},
     "output_type": "display_data"
    },
    {
     "data": {
      "application/vnd.jupyter.widget-view+json": {
       "model_id": "573cb6d2e9984b0988be10f196deb13f",
       "version_major": 2,
       "version_minor": 0
      },
      "text/plain": [
       "Validation: |          | 0/? [00:00<?, ?it/s]"
      ]
     },
     "metadata": {},
     "output_type": "display_data"
    },
    {
     "name": "stderr",
     "output_type": "stream",
     "text": [
      "Metric val_loss improved. New best score: 0.077\n",
      "Epoch 0, global step 100: 'val_loss' reached 0.07666 (best 0.07666), saving model to '/home/pbaertschi/ICU-TimeSeries-Mortality-Prediction/notebooks/2_SupervisedML/Q2_RNN/lightning_logs/lstm-fold4/checkpoints/lstm-fold4-best-checkpoint-v1.ckpt' as top 1\n"
     ]
    },
    {
     "data": {
      "application/vnd.jupyter.widget-view+json": {
       "model_id": "0574fe6f8714484f9aa46729755f32a6",
       "version_major": 2,
       "version_minor": 0
      },
      "text/plain": [
       "Validation: |          | 0/? [00:00<?, ?it/s]"
      ]
     },
     "metadata": {},
     "output_type": "display_data"
    }
   ],
   "source": [
    "# Train both models\n",
    "# For single train/val split:\n",
    "# train_model(LSTMClassifier, \"lstm\", datamodule, input_size)\n",
    "\n",
    "# For 5-fold cross-validation:\n",
    "train_model(LSTMClassifier, \"lstm\", datamodule, input_size, k_folds=5)\n"
   ]
  },
  {
   "cell_type": "code",
   "execution_count": 18,
   "metadata": {},
   "outputs": [
    {
     "name": "stderr",
     "output_type": "stream",
     "text": [
      "GPU available: True (cuda), used: True\n",
      "TPU available: False, using: 0 TPU cores\n",
      "HPU available: False, using: 0 HPUs\n"
     ]
    },
    {
     "name": "stdout",
     "output_type": "stream",
     "text": [
      "Training bilstm...\n"
     ]
    },
    {
     "name": "stderr",
     "output_type": "stream",
     "text": [
      "LOCAL_RANK: 0 - CUDA_VISIBLE_DEVICES: [0]\n",
      "\n",
      "  | Name       | Type              | Params | Mode \n",
      "---------------------------------------------------------\n",
      "0 | lstm       | LSTM              | 154 K  | train\n",
      "1 | classifier | Linear            | 129    | train\n",
      "2 | loss_fn    | BCEWithLogitsLoss | 0      | train\n",
      "---------------------------------------------------------\n",
      "154 K     Trainable params\n",
      "0         Non-trainable params\n",
      "154 K     Total params\n",
      "0.619     Total estimated model params size (MB)\n",
      "3         Modules in train mode\n",
      "0         Modules in eval mode\n",
      "SLURM auto-requeueing enabled. Setting signal handlers.\n"
     ]
    },
    {
     "data": {
      "application/vnd.jupyter.widget-view+json": {
       "model_id": "aca564343cf34c43951107be8397a5a9",
       "version_major": 2,
       "version_minor": 0
      },
      "text/plain": [
       "Sanity Checking: |          | 0/? [00:00<?, ?it/s]"
      ]
     },
     "metadata": {},
     "output_type": "display_data"
    },
    {
     "data": {
      "application/vnd.jupyter.widget-view+json": {
       "model_id": "d778cdb647b94df8a649c8974ca78c05",
       "version_major": 2,
       "version_minor": 0
      },
      "text/plain": [
       "Training: |          | 0/? [00:00<?, ?it/s]"
      ]
     },
     "metadata": {},
     "output_type": "display_data"
    },
    {
     "data": {
      "application/vnd.jupyter.widget-view+json": {
       "model_id": "299b56c7f1884cb08e03038c99d8d592",
       "version_major": 2,
       "version_minor": 0
      },
      "text/plain": [
       "Validation: |          | 0/? [00:00<?, ?it/s]"
      ]
     },
     "metadata": {},
     "output_type": "display_data"
    },
    {
     "name": "stderr",
     "output_type": "stream",
     "text": [
      "Metric val_loss improved. New best score: 0.383\n",
      "Epoch 0, global step 63: 'val_loss' reached 0.38303 (best 0.38303), saving model to '/home/pbaertschi/ICU-TimeSeries-Mortality-Prediction/notebooks/2_SupervisedML/Q2_RNN/lightning_logs/bilstm/checkpoints/bilstm-best-checkpoint.ckpt' as top 1\n"
     ]
    },
    {
     "data": {
      "application/vnd.jupyter.widget-view+json": {
       "model_id": "72b5a9ad80fc47bd9fd66136d94da58d",
       "version_major": 2,
       "version_minor": 0
      },
      "text/plain": [
       "Validation: |          | 0/? [00:00<?, ?it/s]"
      ]
     },
     "metadata": {},
     "output_type": "display_data"
    },
    {
     "name": "stderr",
     "output_type": "stream",
     "text": [
      "Metric val_loss improved by 0.018 >= min_delta = 0.0. New best score: 0.365\n",
      "Epoch 1, global step 126: 'val_loss' reached 0.36544 (best 0.36544), saving model to '/home/pbaertschi/ICU-TimeSeries-Mortality-Prediction/notebooks/2_SupervisedML/Q2_RNN/lightning_logs/bilstm/checkpoints/bilstm-best-checkpoint.ckpt' as top 1\n"
     ]
    },
    {
     "data": {
      "application/vnd.jupyter.widget-view+json": {
       "model_id": "c982b373e7654ab3b31b80272163abcd",
       "version_major": 2,
       "version_minor": 0
      },
      "text/plain": [
       "Validation: |          | 0/? [00:00<?, ?it/s]"
      ]
     },
     "metadata": {},
     "output_type": "display_data"
    },
    {
     "name": "stderr",
     "output_type": "stream",
     "text": [
      "Metric val_loss improved by 0.002 >= min_delta = 0.0. New best score: 0.363\n",
      "Epoch 2, global step 189: 'val_loss' reached 0.36307 (best 0.36307), saving model to '/home/pbaertschi/ICU-TimeSeries-Mortality-Prediction/notebooks/2_SupervisedML/Q2_RNN/lightning_logs/bilstm/checkpoints/bilstm-best-checkpoint.ckpt' as top 1\n"
     ]
    },
    {
     "data": {
      "application/vnd.jupyter.widget-view+json": {
       "model_id": "c236d8dcb02b499bbace321c99b466de",
       "version_major": 2,
       "version_minor": 0
      },
      "text/plain": [
       "Validation: |          | 0/? [00:00<?, ?it/s]"
      ]
     },
     "metadata": {},
     "output_type": "display_data"
    },
    {
     "name": "stderr",
     "output_type": "stream",
     "text": [
      "Metric val_loss improved by 0.004 >= min_delta = 0.0. New best score: 0.359\n",
      "Epoch 3, global step 252: 'val_loss' reached 0.35896 (best 0.35896), saving model to '/home/pbaertschi/ICU-TimeSeries-Mortality-Prediction/notebooks/2_SupervisedML/Q2_RNN/lightning_logs/bilstm/checkpoints/bilstm-best-checkpoint.ckpt' as top 1\n"
     ]
    },
    {
     "data": {
      "application/vnd.jupyter.widget-view+json": {
       "model_id": "f3ba7d47ad044d618c9287f84ae1e1d5",
       "version_major": 2,
       "version_minor": 0
      },
      "text/plain": [
       "Validation: |          | 0/? [00:00<?, ?it/s]"
      ]
     },
     "metadata": {},
     "output_type": "display_data"
    },
    {
     "name": "stderr",
     "output_type": "stream",
     "text": [
      "Metric val_loss improved by 0.003 >= min_delta = 0.0. New best score: 0.356\n",
      "Epoch 4, global step 315: 'val_loss' reached 0.35646 (best 0.35646), saving model to '/home/pbaertschi/ICU-TimeSeries-Mortality-Prediction/notebooks/2_SupervisedML/Q2_RNN/lightning_logs/bilstm/checkpoints/bilstm-best-checkpoint.ckpt' as top 1\n"
     ]
    },
    {
     "data": {
      "application/vnd.jupyter.widget-view+json": {
       "model_id": "a489146ea1d845d094c4d0b7566398bf",
       "version_major": 2,
       "version_minor": 0
      },
      "text/plain": [
       "Validation: |          | 0/? [00:00<?, ?it/s]"
      ]
     },
     "metadata": {},
     "output_type": "display_data"
    },
    {
     "name": "stderr",
     "output_type": "stream",
     "text": [
      "Metric val_loss improved by 0.003 >= min_delta = 0.0. New best score: 0.354\n",
      "Epoch 5, global step 378: 'val_loss' reached 0.35356 (best 0.35356), saving model to '/home/pbaertschi/ICU-TimeSeries-Mortality-Prediction/notebooks/2_SupervisedML/Q2_RNN/lightning_logs/bilstm/checkpoints/bilstm-best-checkpoint.ckpt' as top 1\n"
     ]
    },
    {
     "data": {
      "application/vnd.jupyter.widget-view+json": {
       "model_id": "1b78a97a189e46979e7cd9f94bb469ee",
       "version_major": 2,
       "version_minor": 0
      },
      "text/plain": [
       "Validation: |          | 0/? [00:00<?, ?it/s]"
      ]
     },
     "metadata": {},
     "output_type": "display_data"
    },
    {
     "name": "stderr",
     "output_type": "stream",
     "text": [
      "Epoch 6, global step 441: 'val_loss' was not in top 1\n"
     ]
    },
    {
     "data": {
      "application/vnd.jupyter.widget-view+json": {
       "model_id": "cdde189e88f14c059fc97e6b0dd7fa91",
       "version_major": 2,
       "version_minor": 0
      },
      "text/plain": [
       "Validation: |          | 0/? [00:00<?, ?it/s]"
      ]
     },
     "metadata": {},
     "output_type": "display_data"
    },
    {
     "name": "stderr",
     "output_type": "stream",
     "text": [
      "Epoch 7, global step 504: 'val_loss' was not in top 1\n"
     ]
    },
    {
     "data": {
      "application/vnd.jupyter.widget-view+json": {
       "model_id": "7a5078dd14624b75b9c1cd5b5992803b",
       "version_major": 2,
       "version_minor": 0
      },
      "text/plain": [
       "Validation: |          | 0/? [00:00<?, ?it/s]"
      ]
     },
     "metadata": {},
     "output_type": "display_data"
    },
    {
     "name": "stderr",
     "output_type": "stream",
     "text": [
      "Metric val_loss improved by 0.007 >= min_delta = 0.0. New best score: 0.346\n",
      "Epoch 8, global step 567: 'val_loss' reached 0.34617 (best 0.34617), saving model to '/home/pbaertschi/ICU-TimeSeries-Mortality-Prediction/notebooks/2_SupervisedML/Q2_RNN/lightning_logs/bilstm/checkpoints/bilstm-best-checkpoint.ckpt' as top 1\n"
     ]
    },
    {
     "data": {
      "application/vnd.jupyter.widget-view+json": {
       "model_id": "468b7f66da464602bf527cf025a401af",
       "version_major": 2,
       "version_minor": 0
      },
      "text/plain": [
       "Validation: |          | 0/? [00:00<?, ?it/s]"
      ]
     },
     "metadata": {},
     "output_type": "display_data"
    },
    {
     "name": "stderr",
     "output_type": "stream",
     "text": [
      "Metric val_loss improved by 0.005 >= min_delta = 0.0. New best score: 0.341\n",
      "Epoch 9, global step 630: 'val_loss' reached 0.34077 (best 0.34077), saving model to '/home/pbaertschi/ICU-TimeSeries-Mortality-Prediction/notebooks/2_SupervisedML/Q2_RNN/lightning_logs/bilstm/checkpoints/bilstm-best-checkpoint.ckpt' as top 1\n"
     ]
    },
    {
     "data": {
      "application/vnd.jupyter.widget-view+json": {
       "model_id": "dd07f0a30a264db39ef99cdc572e456d",
       "version_major": 2,
       "version_minor": 0
      },
      "text/plain": [
       "Validation: |          | 0/? [00:00<?, ?it/s]"
      ]
     },
     "metadata": {},
     "output_type": "display_data"
    },
    {
     "name": "stderr",
     "output_type": "stream",
     "text": [
      "Epoch 10, global step 693: 'val_loss' was not in top 1\n"
     ]
    },
    {
     "data": {
      "application/vnd.jupyter.widget-view+json": {
       "model_id": "6fedc3bda8984ef8a07c1caa8fed8fc8",
       "version_major": 2,
       "version_minor": 0
      },
      "text/plain": [
       "Validation: |          | 0/? [00:00<?, ?it/s]"
      ]
     },
     "metadata": {},
     "output_type": "display_data"
    },
    {
     "name": "stderr",
     "output_type": "stream",
     "text": [
      "Epoch 11, global step 756: 'val_loss' was not in top 1\n"
     ]
    },
    {
     "data": {
      "application/vnd.jupyter.widget-view+json": {
       "model_id": "889cb43acdf24251810a239122cd9ab0",
       "version_major": 2,
       "version_minor": 0
      },
      "text/plain": [
       "Validation: |          | 0/? [00:00<?, ?it/s]"
      ]
     },
     "metadata": {},
     "output_type": "display_data"
    },
    {
     "name": "stderr",
     "output_type": "stream",
     "text": [
      "Epoch 12, global step 819: 'val_loss' was not in top 1\n"
     ]
    },
    {
     "data": {
      "application/vnd.jupyter.widget-view+json": {
       "model_id": "c5d5f2e8642f41dab1ce52455bc8925a",
       "version_major": 2,
       "version_minor": 0
      },
      "text/plain": [
       "Validation: |          | 0/? [00:00<?, ?it/s]"
      ]
     },
     "metadata": {},
     "output_type": "display_data"
    },
    {
     "name": "stderr",
     "output_type": "stream",
     "text": [
      "Metric val_loss improved by 0.005 >= min_delta = 0.0. New best score: 0.336\n",
      "Epoch 13, global step 882: 'val_loss' reached 0.33603 (best 0.33603), saving model to '/home/pbaertschi/ICU-TimeSeries-Mortality-Prediction/notebooks/2_SupervisedML/Q2_RNN/lightning_logs/bilstm/checkpoints/bilstm-best-checkpoint.ckpt' as top 1\n"
     ]
    },
    {
     "data": {
      "application/vnd.jupyter.widget-view+json": {
       "model_id": "39c5cce5bca042f6b690b67d8e8d3abd",
       "version_major": 2,
       "version_minor": 0
      },
      "text/plain": [
       "Validation: |          | 0/? [00:00<?, ?it/s]"
      ]
     },
     "metadata": {},
     "output_type": "display_data"
    },
    {
     "name": "stderr",
     "output_type": "stream",
     "text": [
      "Metric val_loss improved by 0.005 >= min_delta = 0.0. New best score: 0.331\n",
      "Epoch 14, global step 945: 'val_loss' reached 0.33087 (best 0.33087), saving model to '/home/pbaertschi/ICU-TimeSeries-Mortality-Prediction/notebooks/2_SupervisedML/Q2_RNN/lightning_logs/bilstm/checkpoints/bilstm-best-checkpoint.ckpt' as top 1\n"
     ]
    },
    {
     "data": {
      "application/vnd.jupyter.widget-view+json": {
       "model_id": "9d2833c76f7b49539427679c5aa851fa",
       "version_major": 2,
       "version_minor": 0
      },
      "text/plain": [
       "Validation: |          | 0/? [00:00<?, ?it/s]"
      ]
     },
     "metadata": {},
     "output_type": "display_data"
    },
    {
     "name": "stderr",
     "output_type": "stream",
     "text": [
      "Metric val_loss improved by 0.008 >= min_delta = 0.0. New best score: 0.323\n",
      "Epoch 15, global step 1008: 'val_loss' reached 0.32336 (best 0.32336), saving model to '/home/pbaertschi/ICU-TimeSeries-Mortality-Prediction/notebooks/2_SupervisedML/Q2_RNN/lightning_logs/bilstm/checkpoints/bilstm-best-checkpoint.ckpt' as top 1\n"
     ]
    },
    {
     "data": {
      "application/vnd.jupyter.widget-view+json": {
       "model_id": "f9d05968ef6d4148a23ea51d8d79d4a4",
       "version_major": 2,
       "version_minor": 0
      },
      "text/plain": [
       "Validation: |          | 0/? [00:00<?, ?it/s]"
      ]
     },
     "metadata": {},
     "output_type": "display_data"
    },
    {
     "name": "stderr",
     "output_type": "stream",
     "text": [
      "Epoch 16, global step 1071: 'val_loss' was not in top 1\n"
     ]
    },
    {
     "data": {
      "application/vnd.jupyter.widget-view+json": {
       "model_id": "b9b7783ebe964f5d85376e7e08698481",
       "version_major": 2,
       "version_minor": 0
      },
      "text/plain": [
       "Validation: |          | 0/? [00:00<?, ?it/s]"
      ]
     },
     "metadata": {},
     "output_type": "display_data"
    },
    {
     "name": "stderr",
     "output_type": "stream",
     "text": [
      "Epoch 17, global step 1134: 'val_loss' was not in top 1\n"
     ]
    },
    {
     "data": {
      "application/vnd.jupyter.widget-view+json": {
       "model_id": "1362b1d43dd045289f2607eece51b045",
       "version_major": 2,
       "version_minor": 0
      },
      "text/plain": [
       "Validation: |          | 0/? [00:00<?, ?it/s]"
      ]
     },
     "metadata": {},
     "output_type": "display_data"
    },
    {
     "name": "stderr",
     "output_type": "stream",
     "text": [
      "Epoch 18, global step 1197: 'val_loss' was not in top 1\n"
     ]
    },
    {
     "data": {
      "application/vnd.jupyter.widget-view+json": {
       "model_id": "75f99c527ffc4d5fbfd48bd2ab9c1c08",
       "version_major": 2,
       "version_minor": 0
      },
      "text/plain": [
       "Validation: |          | 0/? [00:00<?, ?it/s]"
      ]
     },
     "metadata": {},
     "output_type": "display_data"
    },
    {
     "name": "stderr",
     "output_type": "stream",
     "text": [
      "Epoch 19, global step 1260: 'val_loss' was not in top 1\n",
      "`Trainer.fit` stopped: `max_epochs=20` reached.\n"
     ]
    }
   ],
   "source": [
    "train_model(BiLSTMClassifier, \"bilstm\", datamodule, input_size, k_folds = 5)"
   ]
  },
  {
   "cell_type": "code",
   "execution_count": 19,
   "metadata": {},
   "outputs": [
    {
     "name": "stdout",
     "output_type": "stream",
     "text": [
      "Testing lstm...\n",
      "Best checkpoint: lightning_logs/lstm/checkpoints/lstm-best-checkpoint.ckpt\n"
     ]
    },
    {
     "name": "stderr",
     "output_type": "stream",
     "text": [
      "GPU available: True (cuda), used: True\n",
      "TPU available: False, using: 0 TPU cores\n",
      "HPU available: False, using: 0 HPUs\n",
      "LOCAL_RANK: 0 - CUDA_VISIBLE_DEVICES: [0]\n",
      "SLURM auto-requeueing enabled. Setting signal handlers.\n"
     ]
    },
    {
     "data": {
      "application/vnd.jupyter.widget-view+json": {
       "model_id": "e2fe1b447038487699d1b9ccca2ddc71",
       "version_major": 2,
       "version_minor": 0
      },
      "text/plain": [
       "Testing: |          | 0/? [00:00<?, ?it/s]"
      ]
     },
     "metadata": {},
     "output_type": "display_data"
    },
    {
     "data": {
      "image/png": "[encoded data removed]",
      "text/plain": [
       "<Figure size 640x480 with 2 Axes>"
      ]
     },
     "metadata": {},
     "output_type": "display_data"
    },
    {
     "data": {
      "image/png": "[encoded data removed]",
      "text/plain": [
       "<Figure size 640x480 with 1 Axes>"
      ]
     },
     "metadata": {},
     "output_type": "display_data"
    },
    {
     "data": {
      "image/png": "[encoded data removed]",
      "text/plain": [
       "<Figure size 640x480 with 1 Axes>"
      ]
     },
     "metadata": {},
     "output_type": "display_data"
    },
    {
     "name": "stdout",
     "output_type": "stream",
     "text": [
      "\n",
      "Test Accuracy : 0.8652\n",
      "Test AuROC    : 0.8115\n",
      "Test AuPRC    : 0.4556\n"
     ]
    },
    {
     "data": {
      "text/html": [
       "<pre style=\"white-space:pre;overflow-x:auto;line-height:normal;font-family:Menlo,'DejaVu Sans Mono',consolas,'Courier New',monospace\">┏━━━━━━━━━━━━━━━━━━━━━━━━━━━┳━━━━━━━━━━━━━━━━━━━━━━━━━━━┓\n",
       "┃<span style=\"font-weight: bold\">        Test metric        </span>┃<span style=\"font-weight: bold\">       DataLoader 0        </span>┃\n",
       "┡━━━━━━━━━━━━━━━━━━━━━━━━━━━╇━━━━━━━━━━━━━━━━━━━━━━━━━━━┩\n",
       "│<span style=\"color: #008080; text-decoration-color: #008080\">         test_acc          </span>│<span style=\"color: #800080; text-decoration-color: #800080\">    0.8652499914169312     </span>│\n",
       "│<span style=\"color: #008080; text-decoration-color: #008080\">        test_auprc         </span>│<span style=\"color: #800080; text-decoration-color: #800080\">    0.45558813214302063    </span>│\n",
       "│<span style=\"color: #008080; text-decoration-color: #008080\">        test_auroc         </span>│<span style=\"color: #800080; text-decoration-color: #800080\">    0.8114697337150574     </span>│\n",
       "│<span style=\"color: #008080; text-decoration-color: #008080\">         test_loss         </span>│<span style=\"color: #800080; text-decoration-color: #800080\">    0.33437806367874146    </span>│\n",
       "└───────────────────────────┴───────────────────────────┘\n",
       "</pre>\n"
      ],
      "text/plain": [
       "┏━━━━━━━━━━━━━━━━━━━━━━━━━━━┳━━━━━━━━━━━━━━━━━━━━━━━━━━━┓\n",
       "┃\u001b[1m \u001b[0m\u001b[1m       Test metric       \u001b[0m\u001b[1m \u001b[0m┃\u001b[1m \u001b[0m\u001b[1m      DataLoader 0       \u001b[0m\u001b[1m \u001b[0m┃\n",
       "┡━━━━━━━━━━━━━━━━━━━━━━━━━━━╇━━━━━━━━━━━━━━━━━━━━━━━━━━━┩\n",
       "│\u001b[36m \u001b[0m\u001b[36m        test_acc         \u001b[0m\u001b[36m \u001b[0m│\u001b[35m \u001b[0m\u001b[35m   0.8652499914169312    \u001b[0m\u001b[35m \u001b[0m│\n",
       "│\u001b[36m \u001b[0m\u001b[36m       test_auprc        \u001b[0m\u001b[36m \u001b[0m│\u001b[35m \u001b[0m\u001b[35m   0.45558813214302063   \u001b[0m\u001b[35m \u001b[0m│\n",
       "│\u001b[36m \u001b[0m\u001b[36m       test_auroc        \u001b[0m\u001b[36m \u001b[0m│\u001b[35m \u001b[0m\u001b[35m   0.8114697337150574    \u001b[0m\u001b[35m \u001b[0m│\n",
       "│\u001b[36m \u001b[0m\u001b[36m        test_loss        \u001b[0m\u001b[36m \u001b[0m│\u001b[35m \u001b[0m\u001b[35m   0.33437806367874146   \u001b[0m\u001b[35m \u001b[0m│\n",
       "└───────────────────────────┴───────────────────────────┘\n"
      ]
     },
     "metadata": {},
     "output_type": "display_data"
    },
    {
     "name": "stderr",
     "output_type": "stream",
     "text": [
      "GPU available: True (cuda), used: True\n",
      "TPU available: False, using: 0 TPU cores\n",
      "HPU available: False, using: 0 HPUs\n"
     ]
    },
    {
     "name": "stdout",
     "output_type": "stream",
     "text": [
      "Testing bilstm...\n",
      "Best checkpoint: lightning_logs/bilstm/checkpoints/bilstm-best-checkpoint.ckpt\n"
     ]
    },
    {
     "name": "stderr",
     "output_type": "stream",
     "text": [
      "LOCAL_RANK: 0 - CUDA_VISIBLE_DEVICES: [0]\n",
      "SLURM auto-requeueing enabled. Setting signal handlers.\n"
     ]
    },
    {
     "data": {
      "application/vnd.jupyter.widget-view+json": {
       "model_id": "2d5ab9dca1314a1caefc35d377d7ec04",
       "version_major": 2,
       "version_minor": 0
      },
      "text/plain": [
       "Testing: |          | 0/? [00:00<?, ?it/s]"
      ]
     },
     "metadata": {},
     "output_type": "display_data"
    },
    {
     "data": {
      "image/png": "[encoded data removed]",
      "text/plain": [
       "<Figure size 640x480 with 2 Axes>"
      ]
     },
     "metadata": {},
     "output_type": "display_data"
    },
    {
     "data": {
      "image/png": "[encoded data removed]",
      "text/plain": [
       "<Figure size 640x480 with 1 Axes>"
      ]
     },
     "metadata": {},
     "output_type": "display_data"
    },
    {
     "data": {
      "image/png": "[encoded data removed]",
      "text/plain": [
       "<Figure size 640x480 with 1 Axes>"
      ]
     },
     "metadata": {},
     "output_type": "display_data"
    },
    {
     "name": "stdout",
     "output_type": "stream",
     "text": [
      "\n",
      "Test Accuracy : 0.8595\n",
      "Test AuROC    : 0.8086\n",
      "Test AuPRC    : 0.4256\n"
     ]
    },
    {
     "data": {
      "text/html": [
       "<pre style=\"white-space:pre;overflow-x:auto;line-height:normal;font-family:Menlo,'DejaVu Sans Mono',consolas,'Courier New',monospace\">┏━━━━━━━━━━━━━━━━━━━━━━━━━━━┳━━━━━━━━━━━━━━━━━━━━━━━━━━━┓\n",
       "┃<span style=\"font-weight: bold\">        Test metric        </span>┃<span style=\"font-weight: bold\">       DataLoader 0        </span>┃\n",
       "┡━━━━━━━━━━━━━━━━━━━━━━━━━━━╇━━━━━━━━━━━━━━━━━━━━━━━━━━━┩\n",
       "│<span style=\"color: #008080; text-decoration-color: #008080\">         test_acc          </span>│<span style=\"color: #800080; text-decoration-color: #800080\">     0.859499990940094     </span>│\n",
       "│<span style=\"color: #008080; text-decoration-color: #008080\">        test_auprc         </span>│<span style=\"color: #800080; text-decoration-color: #800080\">    0.4255572259426117     </span>│\n",
       "│<span style=\"color: #008080; text-decoration-color: #008080\">        test_auroc         </span>│<span style=\"color: #800080; text-decoration-color: #800080\">    0.8086186051368713     </span>│\n",
       "│<span style=\"color: #008080; text-decoration-color: #008080\">         test_loss         </span>│<span style=\"color: #800080; text-decoration-color: #800080\">    0.33608394861221313    </span>│\n",
       "└───────────────────────────┴───────────────────────────┘\n",
       "</pre>\n"
      ],
      "text/plain": [
       "┏━━━━━━━━━━━━━━━━━━━━━━━━━━━┳━━━━━━━━━━━━━━━━━━━━━━━━━━━┓\n",
       "┃\u001b[1m \u001b[0m\u001b[1m       Test metric       \u001b[0m\u001b[1m \u001b[0m┃\u001b[1m \u001b[0m\u001b[1m      DataLoader 0       \u001b[0m\u001b[1m \u001b[0m┃\n",
       "┡━━━━━━━━━━━━━━━━━━━━━━━━━━━╇━━━━━━━━━━━━━━━━━━━━━━━━━━━┩\n",
       "│\u001b[36m \u001b[0m\u001b[36m        test_acc         \u001b[0m\u001b[36m \u001b[0m│\u001b[35m \u001b[0m\u001b[35m    0.859499990940094    \u001b[0m\u001b[35m \u001b[0m│\n",
       "│\u001b[36m \u001b[0m\u001b[36m       test_auprc        \u001b[0m\u001b[36m \u001b[0m│\u001b[35m \u001b[0m\u001b[35m   0.4255572259426117    \u001b[0m\u001b[35m \u001b[0m│\n",
       "│\u001b[36m \u001b[0m\u001b[36m       test_auroc        \u001b[0m\u001b[36m \u001b[0m│\u001b[35m \u001b[0m\u001b[35m   0.8086186051368713    \u001b[0m\u001b[35m \u001b[0m│\n",
       "│\u001b[36m \u001b[0m\u001b[36m        test_loss        \u001b[0m\u001b[36m \u001b[0m│\u001b[35m \u001b[0m\u001b[35m   0.33608394861221313   \u001b[0m\u001b[35m \u001b[0m│\n",
       "└───────────────────────────┴───────────────────────────┘\n"
      ]
     },
     "metadata": {},
     "output_type": "display_data"
    }
   ],
   "source": [
    "# Test both models\n",
    "test_model(LSTMClassifier, \"lstm\", datamodule)\n",
    "test_model(BiLSTMClassifier, \"bilstm\", datamodule)"
   ]
  },
  {
   "cell_type": "markdown",
   "metadata": {},
   "source": [
    "## Optimize decision Threshold"
   ]
  },
  {
   "cell_type": "code",
   "execution_count": 11,
   "metadata": {},
   "outputs": [
    {
     "data": {
      "application/vnd.jupyter.widget-view+json": {
       "model_id": "a280645883d24e49adc5a934218d82fe",
       "version_major": 2,
       "version_minor": 0
      },
      "text/plain": [
       "  0%|          | 0/100 [00:00<?, ?it/s]"
      ]
     },
     "metadata": {},
     "output_type": "display_data"
    },
    {
     "data": {
      "text/plain": [
       "Text(0.5, 1.0, 'Minimize FNR at Threshold')"
      ]
     },
     "execution_count": 11,
     "metadata": {},
     "output_type": "execute_result"
    },
    {
     "data": {
      "image/png": "[encoded data removed]",
      "text/plain": [
       "<Figure size 640x480 with 1 Axes>"
      ]
     },
     "metadata": {},
     "output_type": "display_data"
    }
   ],
   "source": [
    "# idea: minimize threshold\n",
    "_, _, thresholds, fnrs = model.tune_threshold_min_fnr()\n",
    "plt.plot(thresholds, fnrs)\n",
    "plt.xlabel(\"Thresholds\")\n",
    "plt.ylabel(\"FNR\")\n",
    "plt.title(\"Minimize FNR at Threshold\")\n",
    "# outcome: to simplistic approach, converges to 0"
   ]
  },
  {
   "cell_type": "code",
   "execution_count": 20,
   "metadata": {},
   "outputs": [],
   "source": [
    "# model.prediction_threshold = 0.65\n",
    "# trainer.test(model, datamodule = datamodule)"
   ]
  },
  {
   "cell_type": "code",
   "execution_count": null,
   "metadata": {},
   "outputs": [],
   "source": []
  }
 ],
 "metadata": {
  "kernelspec": {
   "display_name": "Python 3 (ipykernel)",
   "language": "python",
   "name": "python3"
  },
  "language_info": {
   "codemirror_mode": {
    "name": "ipython",
    "version": 3
   },
   "file_extension": ".py",
   "mimetype": "text/x-python",
   "name": "python",
   "nbconvert_exporter": "python",
   "pygments_lexer": "ipython3",
   "version": "3.12.3"
  },
  "widgets": {
   "application/vnd.jupyter.widget-state+json": {
    "state": {
     "00111b20dd2e4b778b0d238d0f6a7e09": {
      "model_module": "@jupyter-widgets/controls",
      "model_module_version": "2.0.0",
      "model_name": "ProgressStyleModel",
      "state": {
       "description_width": ""
      }
     },
     "0083b71e631b42fb9bb8f1ef78b4c1af": {
      "model_module": "@jupyter-widgets/controls",
      "model_module_version": "2.0.0",
      "model_name": "FloatProgressModel",
      "state": {
       "layout": "IPY_MODEL_df449e024dde41b1ab224ef64adc8754",
       "max": 25,
       "style": "IPY_MODEL_a04613428ecf4679811f8d0dcc495ae5",
       "value": 25
      }
     },
     "009196924c0441ae969ba74e025e7a63": {
      "model_module": "@jupyter-widgets/controls",
      "model_module_version": "2.0.0",
      "model_name": "HTMLModel",
      "state": {
       "layout": "IPY_MODEL_901c9251a2f64b179ee798b86054062b",
       "style": "IPY_MODEL_74e1c42b5e684c64a1a8a8720ed3bd28",
       "value": " 25/25 [00:00&lt;00:00, 266.29it/s]"
      }
     },
     "017fba34d28341e08dd31304070ec292": {
      "model_module": "@jupyter-widgets/controls",
      "model_module_version": "2.0.0",
      "model_name": "HTMLStyleModel",
      "state": {
       "description_width": "",
       "font_size": null,
       "text_color": null
      }
     },
     "01c8041bac044b8f9d418ed735c0db05": {
      "model_module": "@jupyter-widgets/controls",
      "model_module_version": "2.0.0",
      "model_name": "HTMLStyleModel",
      "state": {
       "description_width": "",
       "font_size": null,
       "text_color": null
      }
     },
     "01fe8ad362a549f980ce3bd5d46549f4": {
      "model_module": "@jupyter-widgets/controls",
      "model_module_version": "2.0.0",
      "model_name": "HTMLStyleModel",
      "state": {
       "description_width": "",
       "font_size": null,
       "text_color": null
      }
     },
     "028d0f2a425d4bec9aea94e7d0d61d9f": {
      "model_module": "@jupyter-widgets/base",
      "model_module_version": "2.0.0",
      "model_name": "LayoutModel",
      "state": {}
     },
     "02dfcba533a543efbeb55ce37878a481": {
      "model_module": "@jupyter-widgets/base",
      "model_module_version": "2.0.0",
      "model_name": "LayoutModel",
      "state": {
       "flex": "2"
      }
     },
     "02fc7f962f25445fa1c577acb1e50695": {
      "model_module": "@jupyter-widgets/controls",
      "model_module_version": "2.0.0",
      "model_name": "HTMLModel",
      "state": {
       "layout": "IPY_MODEL_89049503956848e28fc45a4ec99805e7",
       "style": "IPY_MODEL_1f9b9979f0f3496889356ab243a87972",
       "value": " 25/25 [00:00&lt;00:00, 270.15it/s]"
      }
     },
     "03313a3b4a4e49e9a83d772cb7599fb5": {
      "model_module": "@jupyter-widgets/base",
      "model_module_version": "2.0.0",
      "model_name": "LayoutModel",
      "state": {
       "display": "inline-flex",
       "flex_flow": "row wrap",
       "visibility": "hidden",
       "width": "100%"
      }
     },
     "03443f25cbee419fa6879433b35f4357": {
      "model_module": "@jupyter-widgets/controls",
      "model_module_version": "2.0.0",
      "model_name": "HTMLStyleModel",
      "state": {
       "description_width": "",
       "font_size": null,
       "text_color": null
      }
     },
     "036573ca500f45fd9e638744c7b79bec": {
      "model_module": "@jupyter-widgets/base",
      "model_module_version": "2.0.0",
      "model_name": "LayoutModel",
      "state": {}
     },
     "03c9577056c34defa4099b5da77b7a99": {
      "model_module": "@jupyter-widgets/base",
      "model_module_version": "2.0.0",
      "model_name": "LayoutModel",
      "state": {}
     },
     "041a36e4cbe647f7a20036d72808f928": {
      "model_module": "@jupyter-widgets/controls",
      "model_module_version": "2.0.0",
      "model_name": "HTMLStyleModel",
      "state": {
       "description_width": "",
       "font_size": null,
       "text_color": null
      }
     },
     "041e97b244f5477087ffc99ecdad7c0a": {
      "model_module": "@jupyter-widgets/controls",
      "model_module_version": "2.0.0",
      "model_name": "HTMLModel",
      "state": {
       "layout": "IPY_MODEL_b833f2c4cda9467da10d506cb719da22",
       "style": "IPY_MODEL_7258d9376b9f4c40ac0aee53f365af85",
       "value": " 25/25 [00:00&lt;00:00, 287.56it/s]"
      }
     },
     "04d94af3a02c4c96bbaa72a2cec10379": {
      "model_module": "@jupyter-widgets/controls",
      "model_module_version": "2.0.0",
      "model_name": "FloatProgressModel",
      "state": {
       "layout": "IPY_MODEL_71846c15874a4b2e8d27787181f5bd0f",
       "max": 25,
       "style": "IPY_MODEL_f949189d5e964244ae3bbfb69e51e643",
       "value": 25
      }
     },
     "04f5d76aae6c49b491645d89fba40276": {
      "model_module": "@jupyter-widgets/controls",
      "model_module_version": "2.0.0",
      "model_name": "HTMLStyleModel",
      "state": {
       "description_width": "",
       "font_size": null,
       "text_color": null
      }
     },
     "053fd489a6e74d1883d39cecac300697": {
      "model_module": "@jupyter-widgets/base",
      "model_module_version": "2.0.0",
      "model_name": "LayoutModel",
      "state": {}
     },
     "05508292479d4172b67636b3ad1b057b": {
      "model_module": "@jupyter-widgets/base",
      "model_module_version": "2.0.0",
      "model_name": "LayoutModel",
      "state": {}
     },
     "0555252eb9c64555acb2a686f2af4439": {
      "model_module": "@jupyter-widgets/controls",
      "model_module_version": "2.0.0",
      "model_name": "HTMLStyleModel",
      "state": {
       "description_width": "",
       "font_size": null,
       "text_color": null
      }
     },
     "0574fe6f8714484f9aa46729755f32a6": {
      "model_module": "@jupyter-widgets/controls",
      "model_module_version": "2.0.0",
      "model_name": "HBoxModel",
      "state": {
       "children": [
        "IPY_MODEL_c81d6dcc04614d5191a8b580082ae22e",
        "IPY_MODEL_fe48482637d04fe895a22205370f3211",
        "IPY_MODEL_79011c591f6748b2aafa7822a1cc42ba"
       ],
       "layout": "IPY_MODEL_b0fc371be25a49c6881a1adea3ec0630"
      }
     },
     "05bc07288f234d43aa96cc2cb7189d02": {
      "model_module": "@jupyter-widgets/base",
      "model_module_version": "2.0.0",
      "model_name": "LayoutModel",
      "state": {}
     },
     "05e1d0001b044bf58a6fb4e9c5755c2a": {
      "model_module": "@jupyter-widgets/base",
      "model_module_version": "2.0.0",
      "model_name": "LayoutModel",
      "state": {
       "flex": "2"
      }
     },
     "05f3f177111f415a93c6809ea38c9672": {
      "model_module": "@jupyter-widgets/controls",
      "model_module_version": "2.0.0",
      "model_name": "FloatProgressModel",
      "state": {
       "layout": "IPY_MODEL_b37c2e1ee5eb4bd193c9138b65a79708",
       "max": 2,
       "style": "IPY_MODEL_4a66c6867b14410aa448035474850725",
       "value": 2
      }
     },
     "063ea30d5b8143d5afaafaff6ec76438": {
      "model_module": "@jupyter-widgets/controls",
      "model_module_version": "2.0.0",
      "model_name": "HTMLModel",
      "state": {
       "layout": "IPY_MODEL_7402bd6753ac42e2b23d1b28d27ac381",
       "style": "IPY_MODEL_0d612bfd0584463c9a879e7d260e108d",
       "value": " 25/25 [00:00&lt;00:00, 231.29it/s]"
      }
     },
     "064d2ab264ca4f388bef88c11794108d": {
      "model_module": "@jupyter-widgets/controls",
      "model_module_version": "2.0.0",
      "model_name": "FloatProgressModel",
      "state": {
       "layout": "IPY_MODEL_ae0e7d783f6b4e19ad7e83084b26bf48",
       "max": 25,
       "style": "IPY_MODEL_cf9a25bbf1194ce9921e100166e75d58",
       "value": 25
      }
     },
     "072d43d00f114f679725103b8626a71b": {
      "model_module": "@jupyter-widgets/controls",
      "model_module_version": "2.0.0",
      "model_name": "HTMLStyleModel",
      "state": {
       "description_width": "",
       "font_size": null,
       "text_color": null
      }
     },
     "074ad605ea08477ab3ea70f684504224": {
      "model_module": "@jupyter-widgets/base",
      "model_module_version": "2.0.0",
      "model_name": "LayoutModel",
      "state": {
       "flex": "2"
      }
     },
     "07b029fdf99745519b34dc678b347c4e": {
      "model_module": "@jupyter-widgets/base",
      "model_module_version": "2.0.0",
      "model_name": "LayoutModel",
      "state": {}
     },
     "07cabcc63b8642a49e691a61167213d9": {
      "model_module": "@jupyter-widgets/controls",
      "model_module_version": "2.0.0",
      "model_name": "HTMLModel",
      "state": {
       "layout": "IPY_MODEL_99abe06853b546eeb2dba19888d00905",
       "style": "IPY_MODEL_bf96ccab280e4267a6aead635b577fa4",
       "value": "Testing DataLoader 0: 100%"
      }
     },
     "07f57ec9f028494aaef2068762eb9b86": {
      "model_module": "@jupyter-widgets/base",
      "model_module_version": "2.0.0",
      "model_name": "LayoutModel",
      "state": {}
     },
     "0882bc1e6ac744a789d4caf977fdbe94": {
      "model_module": "@jupyter-widgets/controls",
      "model_module_version": "2.0.0",
      "model_name": "ProgressStyleModel",
      "state": {
       "description_width": ""
      }
     },
     "0906604f03034883b79bcef30d84d263": {
      "model_module": "@jupyter-widgets/base",
      "model_module_version": "2.0.0",
      "model_name": "LayoutModel",
      "state": {}
     },
     "094db5e0a6764c679b04810f641ef42d": {
      "model_module": "@jupyter-widgets/base",
      "model_module_version": "2.0.0",
      "model_name": "LayoutModel",
      "state": {
       "flex": "2"
      }
     },
     "0a29e789928349f1b9be13c8b35e7642": {
      "model_module": "@jupyter-widgets/controls",
      "model_module_version": "2.0.0",
      "model_name": "HTMLModel",
      "state": {
       "layout": "IPY_MODEL_a3181473e22f4bdf8b95d1321f2c74f7",
       "style": "IPY_MODEL_8950b2349aeb4b15b06772efd92f0231",
       "value": " 25/25 [00:00&lt;00:00, 265.86it/s]"
      }
     },
     "0a503162e8584eb1b44528e998b45039": {
      "model_module": "@jupyter-widgets/controls",
      "model_module_version": "2.0.0",
      "model_name": "FloatProgressModel",
      "state": {
       "layout": "IPY_MODEL_8842902917824cdcbc3eec748b6937cd",
       "max": 2,
       "style": "IPY_MODEL_e074d73756e9478bb9364750a5293d59",
       "value": 2
      }
     },
     "0a6f53cda21545a0867b9c6a872ae77b": {
      "model_module": "@jupyter-widgets/controls",
      "model_module_version": "2.0.0",
      "model_name": "HTMLStyleModel",
      "state": {
       "description_width": "",
       "font_size": null,
       "text_color": null
      }
     },
     "0b14e4302de347758d3051b620c6645c": {
      "model_module": "@jupyter-widgets/controls",
      "model_module_version": "2.0.0",
      "model_name": "FloatProgressModel",
      "state": {
       "layout": "IPY_MODEL_ff8344f7144a405f94f0be93839a68d2",
       "max": 25,
       "style": "IPY_MODEL_bd6d03eba9a54a7ea043eda24375a6e6",
       "value": 25
      }
     },
     "0b4277915f3042a798c71ed921087a5f": {
      "model_module": "@jupyter-widgets/controls",
      "model_module_version": "2.0.0",
      "model_name": "HTMLModel",
      "state": {
       "layout": "IPY_MODEL_252f0cc9d45b4b5dbdd20f3dea5c4355",
       "style": "IPY_MODEL_5f4057f325504e3982deb5e82d16ef2b",
       "value": "Validation DataLoader 0: 100%"
      }
     },
     "0b78dbc4d4f74825aa539bb651b221f8": {
      "model_module": "@jupyter-widgets/controls",
      "model_module_version": "2.0.0",
      "model_name": "HTMLModel",
      "state": {
       "layout": "IPY_MODEL_d8ffede252da4734a453055c1496d840",
       "style": "IPY_MODEL_44ac0978f2b7486fa3aef06c1de71964",
       "value": " 25/25 [00:00&lt;00:00, 262.53it/s]"
      }
     },
     "0c0ac00870784b779718eadedffed81f": {
      "model_module": "@jupyter-widgets/controls",
      "model_module_version": "2.0.0",
      "model_name": "HTMLModel",
      "state": {
       "layout": "IPY_MODEL_44663004f68c44dd80832b627c74add7",
       "style": "IPY_MODEL_90f2f5fd76234b68aa5a370b0dedaff0",
       "value": "Validation DataLoader 0: 100%"
      }
     },
     "0c1f2e8a39ab4aa2991e1b92caac2fff": {
      "model_module": "@jupyter-widgets/controls",
      "model_module_version": "2.0.0",
      "model_name": "HTMLStyleModel",
      "state": {
       "description_width": "",
       "font_size": null,
       "text_color": null
      }
     },
     "0c98682873354dd6b645b6e18311f29e": {
      "model_module": "@jupyter-widgets/controls",
      "model_module_version": "2.0.0",
      "model_name": "HTMLModel",
      "state": {
       "layout": "IPY_MODEL_c940f0ec107344afb8c3a45c98a1311f",
       "style": "IPY_MODEL_f750f9195ccd442381f94a6cd8ec48be",
       "value": " 25/25 [00:00&lt;00:00, 294.98it/s]"
      }
     },
     "0d31c597ea304998b31b1072009c10b4": {
      "model_module": "@jupyter-widgets/base",
      "model_module_version": "2.0.0",
      "model_name": "LayoutModel",
      "state": {
       "flex": "2"
      }
     },
     "0d37c7d2b73f40488f1453f1b27c60f5": {
      "model_module": "@jupyter-widgets/controls",
      "model_module_version": "2.0.0",
      "model_name": "HTMLModel",
      "state": {
       "layout": "IPY_MODEL_67b8aa0369fa428784d5b005f47f8e0b",
       "style": "IPY_MODEL_36956f7c48d24a35ba22b378c26fe8cd",
       "value": " 25/25 [00:00&lt;00:00, 279.94it/s]"
      }
     },
     "0d54dc4d35b246529fda7bd3f47b9db9": {
      "model_module": "@jupyter-widgets/controls",
      "model_module_version": "2.0.0",
      "model_name": "HTMLStyleModel",
      "state": {
       "description_width": "",
       "font_size": null,
       "text_color": null
      }
     },
     "0d612bfd0584463c9a879e7d260e108d": {
      "model_module": "@jupyter-widgets/controls",
      "model_module_version": "2.0.0",
      "model_name": "HTMLStyleModel",
      "state": {
       "description_width": "",
       "font_size": null,
       "text_color": null
      }
     },
     "0d63ffe8017649d1861fb91828f09b02": {
      "model_module": "@jupyter-widgets/base",
      "model_module_version": "2.0.0",
      "model_name": "LayoutModel",
      "state": {}
     },
     "0df22a0060444ee190fdf2f5ea37fa15": {
      "model_module": "@jupyter-widgets/base",
      "model_module_version": "2.0.0",
      "model_name": "LayoutModel",
      "state": {
       "display": "inline-flex",
       "flex_flow": "row wrap",
       "visibility": "hidden",
       "width": "100%"
      }
     },
     "0e1386b775cc4d5588d18e205acf4bb9": {
      "model_module": "@jupyter-widgets/controls",
      "model_module_version": "2.0.0",
      "model_name": "ProgressStyleModel",
      "state": {
       "description_width": ""
      }
     },
     "0e1ec111ea7e416485e10c8d15435f56": {
      "model_module": "@jupyter-widgets/base",
      "model_module_version": "2.0.0",
      "model_name": "LayoutModel",
      "state": {
       "display": "inline-flex",
       "flex_flow": "row wrap",
       "visibility": "hidden",
       "width": "100%"
      }
     },
     "0e9224471c41483397282dfe6577e407": {
      "model_module": "@jupyter-widgets/base",
      "model_module_version": "2.0.0",
      "model_name": "LayoutModel",
      "state": {}
     },
     "0edb5af37d5d443b968441b30ae3dd75": {
      "model_module": "@jupyter-widgets/controls",
      "model_module_version": "2.0.0",
      "model_name": "ProgressStyleModel",
      "state": {
       "description_width": ""
      }
     },
     "0f0f771acf0e48da8e9e1b8b52c59d46": {
      "model_module": "@jupyter-widgets/controls",
      "model_module_version": "2.0.0",
      "model_name": "ProgressStyleModel",
      "state": {
       "description_width": ""
      }
     },
     "0f1c0997bd504fc8b7d20e7a49aad088": {
      "model_module": "@jupyter-widgets/base",
      "model_module_version": "2.0.0",
      "model_name": "LayoutModel",
      "state": {}
     },
     "0f2cc8000202498b912b3cf96ecfc32b": {
      "model_module": "@jupyter-widgets/base",
      "model_module_version": "2.0.0",
      "model_name": "LayoutModel",
      "state": {}
     },
     "0f710ea681734a6e8bfa2531ea44716e": {
      "model_module": "@jupyter-widgets/controls",
      "model_module_version": "2.0.0",
      "model_name": "HTMLModel",
      "state": {
       "layout": "IPY_MODEL_d0b084b58556438dacbb81fea34c8b72",
       "style": "IPY_MODEL_81ce7d85f50b444a832a9daa1687c802",
       "value": " 100/100 [00:00&lt;00:00, 145.60it/s, v_num=13622, train_loss=7.01e-5, val_loss=0.00194, val_acc=0.999]"
      }
     },
     "0faeecb07083434f9527558cfb2ff89c": {
      "model_module": "@jupyter-widgets/controls",
      "model_module_version": "2.0.0",
      "model_name": "HTMLModel",
      "state": {
       "layout": "IPY_MODEL_6cb5eb11d5104439a92f13c184aa703c",
       "style": "IPY_MODEL_3d65b0495ff94e4aae304db7b38d2435",
       "value": " 25/25 [00:00&lt;00:00, 265.30it/s]"
      }
     },
     "0fbc030597794c0e893532823075f9f2": {
      "model_module": "@jupyter-widgets/controls",
      "model_module_version": "2.0.0",
      "model_name": "ProgressStyleModel",
      "state": {
       "description_width": ""
      }
     },
     "0fc47fa55bc94677bceb074bbd34e134": {
      "model_module": "@jupyter-widgets/controls",
      "model_module_version": "2.0.0",
      "model_name": "HTMLStyleModel",
      "state": {
       "description_width": "",
       "font_size": null,
       "text_color": null
      }
     },
     "0fca18b2e4e94f2093ddd3c6e4737021": {
      "model_module": "@jupyter-widgets/controls",
      "model_module_version": "2.0.0",
      "model_name": "HTMLStyleModel",
      "state": {
       "description_width": "",
       "font_size": null,
       "text_color": null
      }
     },
     "10125e9f8132438aacce729026f772c3": {
      "model_module": "@jupyter-widgets/controls",
      "model_module_version": "2.0.0",
      "model_name": "HTMLStyleModel",
      "state": {
       "description_width": "",
       "font_size": null,
       "text_color": null
      }
     },
     "106e75315eac416ba29c1b880b0b1b7c": {
      "model_module": "@jupyter-widgets/controls",
      "model_module_version": "2.0.0",
      "model_name": "HTMLStyleModel",
      "state": {
       "description_width": "",
       "font_size": null,
       "text_color": null
      }
     },
     "10f5832a1ffe4ea881e925f901d9d351": {
      "model_module": "@jupyter-widgets/controls",
      "model_module_version": "2.0.0",
      "model_name": "ProgressStyleModel",
      "state": {
       "description_width": ""
      }
     },
     "1177f29e753e4380b95047976cd3d1a9": {
      "model_module": "@jupyter-widgets/base",
      "model_module_version": "2.0.0",
      "model_name": "LayoutModel",
      "state": {}
     },
     "11812bb7b17246e1869b567fd3f57b69": {
      "model_module": "@jupyter-widgets/controls",
      "model_module_version": "2.0.0",
      "model_name": "HTMLModel",
      "state": {
       "layout": "IPY_MODEL_b45ce4d185fb4926b89d2c2bd703b993",
       "style": "IPY_MODEL_497c6c0df4534c71b9483c6012cd159e",
       "value": " 25/25 [00:00&lt;00:00, 245.36it/s]"
      }
     },
     "11e5247c1bfc44a7947dfc2bddc83e4c": {
      "model_module": "@jupyter-widgets/controls",
      "model_module_version": "2.0.0",
      "model_name": "ProgressStyleModel",
      "state": {
       "description_width": ""
      }
     },
     "11ee186f7de4477d9773be9cafaea627": {
      "model_module": "@jupyter-widgets/base",
      "model_module_version": "2.0.0",
      "model_name": "LayoutModel",
      "state": {
       "flex": "2"
      }
     },
     "123b8ba5edca4aa2996ceb9acb5caba3": {
      "model_module": "@jupyter-widgets/base",
      "model_module_version": "2.0.0",
      "model_name": "LayoutModel",
      "state": {
       "display": "inline-flex",
       "flex_flow": "row wrap",
       "width": "100%"
      }
     },
     "127fa2483e28423b8c8ecbfad4a4291c": {
      "model_module": "@jupyter-widgets/base",
      "model_module_version": "2.0.0",
      "model_name": "LayoutModel",
      "state": {
       "flex": "2"
      }
     },
     "132f36a540d04c819e3aae71d9629e5c": {
      "model_module": "@jupyter-widgets/base",
      "model_module_version": "2.0.0",
      "model_name": "LayoutModel",
      "state": {}
     },
     "1333bada6ef14ab3a594d5276403f26f": {
      "model_module": "@jupyter-widgets/base",
      "model_module_version": "2.0.0",
      "model_name": "LayoutModel",
      "state": {
       "flex": "2"
      }
     },
     "133b6fba494d4a59beeb05fdd6f55c4b": {
      "model_module": "@jupyter-widgets/controls",
      "model_module_version": "2.0.0",
      "model_name": "ProgressStyleModel",
      "state": {
       "description_width": ""
      }
     },
     "1341090bbd1045a997422bb54da3d436": {
      "model_module": "@jupyter-widgets/base",
      "model_module_version": "2.0.0",
      "model_name": "LayoutModel",
      "state": {
       "flex": "2"
      }
     },
     "13c38c27ccfb44c9addd1feb96689b15": {
      "model_module": "@jupyter-widgets/base",
      "model_module_version": "2.0.0",
      "model_name": "LayoutModel",
      "state": {}
     },
     "143dc1139c214c7a93e4256ad51760bd": {
      "model_module": "@jupyter-widgets/base",
      "model_module_version": "2.0.0",
      "model_name": "LayoutModel",
      "state": {
       "display": "inline-flex",
       "flex_flow": "row wrap",
       "width": "100%"
      }
     },
     "145d01ab58314753ad6c9788fc4cbfe8": {
      "model_module": "@jupyter-widgets/base",
      "model_module_version": "2.0.0",
      "model_name": "LayoutModel",
      "state": {}
     },
     "14d932c660944f889033522740f5aebb": {
      "model_module": "@jupyter-widgets/base",
      "model_module_version": "2.0.0",
      "model_name": "LayoutModel",
      "state": {}
     },
     "15513c76dac5427d81a221dc059e1984": {
      "model_module": "@jupyter-widgets/base",
      "model_module_version": "2.0.0",
      "model_name": "LayoutModel",
      "state": {}
     },
     "156fe7f8ce0541c0bc16b524817a2b1f": {
      "model_module": "@jupyter-widgets/base",
      "model_module_version": "2.0.0",
      "model_name": "LayoutModel",
      "state": {
       "flex": "2"
      }
     },
     "158a2ceb62a24883b351fa7dd900556d": {
      "model_module": "@jupyter-widgets/base",
      "model_module_version": "2.0.0",
      "model_name": "LayoutModel",
      "state": {}
     },
     "158c7c7358244ba89efb6ebc3ea9e335": {
      "model_module": "@jupyter-widgets/controls",
      "model_module_version": "2.0.0",
      "model_name": "HTMLStyleModel",
      "state": {
       "description_width": "",
       "font_size": null,
       "text_color": null
      }
     },
     "15a5b823c96642f4a535e79ef130cb0e": {
      "model_module": "@jupyter-widgets/controls",
      "model_module_version": "2.0.0",
      "model_name": "ProgressStyleModel",
      "state": {
       "description_width": ""
      }
     },
     "15cc806b301a482ba82d6943f0de66c8": {
      "model_module": "@jupyter-widgets/base",
      "model_module_version": "2.0.0",
      "model_name": "LayoutModel",
      "state": {}
     },
     "167df55a50eb4ef0807903b67270e873": {
      "model_module": "@jupyter-widgets/controls",
      "model_module_version": "2.0.0",
      "model_name": "FloatProgressModel",
      "state": {
       "layout": "IPY_MODEL_564272c5c55744a899170cf1dcb755c0",
       "max": 25,
       "style": "IPY_MODEL_680342c963434030b2ac82ba7cf317b2",
       "value": 25
      }
     },
     "16ab307231c94dcd88553b289965de40": {
      "model_module": "@jupyter-widgets/base",
      "model_module_version": "2.0.0",
      "model_name": "LayoutModel",
      "state": {}
     },
     "17040dc8bed646779732c7f58ee8064a": {
      "model_module": "@jupyter-widgets/controls",
      "model_module_version": "2.0.0",
      "model_name": "HTMLStyleModel",
      "state": {
       "description_width": "",
       "font_size": null,
       "text_color": null
      }
     },
     "17789ad964eb44348ce3cd7c56a6277f": {
      "model_module": "@jupyter-widgets/controls",
      "model_module_version": "2.0.0",
      "model_name": "HTMLModel",
      "state": {
       "layout": "IPY_MODEL_350b00f4de9c4aa4984d7e4ca38c65f5",
       "style": "IPY_MODEL_a7dd4cd3e5af4011a2f83e79c17ba92c",
       "value": "Validation DataLoader 0: 100%"
      }
     },
     "17de736480fe4e519580657c4db11f8b": {
      "model_module": "@jupyter-widgets/base",
      "model_module_version": "2.0.0",
      "model_name": "LayoutModel",
      "state": {}
     },
     "18001401209f45d3890de8b16233ff04": {
      "model_module": "@jupyter-widgets/controls",
      "model_module_version": "2.0.0",
      "model_name": "FloatProgressModel",
      "state": {
       "layout": "IPY_MODEL_cbe083b7fc0245c58a463987cfa19390",
       "max": 25,
       "style": "IPY_MODEL_35ac2c2a014d4a8e84109b1f6eb7470c",
       "value": 25
      }
     },
     "181acac6c422453cacf20b427045a408": {
      "model_module": "@jupyter-widgets/controls",
      "model_module_version": "2.0.0",
      "model_name": "ProgressStyleModel",
      "state": {
       "description_width": ""
      }
     },
     "186b1757e60a4f76a24ed691086353b4": {
      "model_module": "@jupyter-widgets/controls",
      "model_module_version": "2.0.0",
      "model_name": "HTMLModel",
      "state": {
       "layout": "IPY_MODEL_6152bbcc995f4281a7ded4e8f3dfe6b4",
       "style": "IPY_MODEL_041a36e4cbe647f7a20036d72808f928",
       "value": "Validation DataLoader 0: 100%"
      }
     },
     "197ebca3b102407dac048f6a76cd2999": {
      "model_module": "@jupyter-widgets/base",
      "model_module_version": "2.0.0",
      "model_name": "LayoutModel",
      "state": {}
     },
     "198713674a3e4cb9ba068e65b699ce3b": {
      "model_module": "@jupyter-widgets/base",
      "model_module_version": "2.0.0",
      "model_name": "LayoutModel",
      "state": {}
     },
     "19ad30bc064643c7ad142b15b457436e": {
      "model_module": "@jupyter-widgets/controls",
      "model_module_version": "2.0.0",
      "model_name": "ProgressStyleModel",
      "state": {
       "description_width": ""
      }
     },
     "1aa3e9e6a26c4de8a428093a0023ed6b": {
      "model_module": "@jupyter-widgets/controls",
      "model_module_version": "2.0.0",
      "model_name": "FloatProgressModel",
      "state": {
       "layout": "IPY_MODEL_c9993cb883c74d378804ef4da7f3a90b",
       "max": 25,
       "style": "IPY_MODEL_10f5832a1ffe4ea881e925f901d9d351",
       "value": 25
      }
     },
     "1ad92d68fcce46ab9e700972e648d371": {
      "model_module": "@jupyter-widgets/base",
      "model_module_version": "2.0.0",
      "model_name": "LayoutModel",
      "state": {
       "display": "inline-flex",
       "flex_flow": "row wrap",
       "visibility": "hidden",
       "width": "100%"
      }
     },
     "1ae8d6f877ff4a44b4fcc223ebebf7e9": {
      "model_module": "@jupyter-widgets/base",
      "model_module_version": "2.0.0",
      "model_name": "LayoutModel",
      "state": {
       "flex": "2"
      }
     },
     "1b79b191146f486b95e16e73f1e8156f": {
      "model_module": "@jupyter-widgets/controls",
      "model_module_version": "2.0.0",
      "model_name": "HTMLModel",
      "state": {
       "layout": "IPY_MODEL_3912048fcfb74ddea1a272be7daf6e2a",
       "style": "IPY_MODEL_d581e30ca32949cf9300f0d9fd2ee5b6",
       "value": "Validation DataLoader 0: 100%"
      }
     },
     "1bac4bf5cf6f4f43886da29bc63d6948": {
      "model_module": "@jupyter-widgets/controls",
      "model_module_version": "2.0.0",
      "model_name": "ProgressStyleModel",
      "state": {
       "description_width": ""
      }
     },
     "1d0de6063cdd420fa9e33584ee77249a": {
      "model_module": "@jupyter-widgets/base",
      "model_module_version": "2.0.0",
      "model_name": "LayoutModel",
      "state": {}
     },
     "1d1bbfce0b6546ff8d03dfb4e5a5d879": {
      "model_module": "@jupyter-widgets/base",
      "model_module_version": "2.0.0",
      "model_name": "LayoutModel",
      "state": {
       "display": "inline-flex",
       "flex_flow": "row wrap",
       "visibility": "hidden",
       "width": "100%"
      }
     },
     "1d7330f5330d4b0f96b1ee66e86b9702": {
      "model_module": "@jupyter-widgets/base",
      "model_module_version": "2.0.0",
      "model_name": "LayoutModel",
      "state": {
       "display": "inline-flex",
       "flex_flow": "row wrap",
       "visibility": "hidden",
       "width": "100%"
      }
     },
     "1d9a52e7b4764f6db2505839103a6c67": {
      "model_module": "@jupyter-widgets/controls",
      "model_module_version": "2.0.0",
      "model_name": "ProgressStyleModel",
      "state": {
       "description_width": ""
      }
     },
     "1db5cbba002042afa19b3d3fe942821e": {
      "model_module": "@jupyter-widgets/controls",
      "model_module_version": "2.0.0",
      "model_name": "HTMLModel",
      "state": {
       "layout": "IPY_MODEL_198713674a3e4cb9ba068e65b699ce3b",
       "style": "IPY_MODEL_55e0cee419d443e8b3a681b301f3e34e",
       "value": " 25/25 [00:00&lt;00:00, 264.54it/s]"
      }
     },
     "1de855e1da9d4fc48abe7ed7817fc070": {
      "model_module": "@jupyter-widgets/controls",
      "model_module_version": "2.0.0",
      "model_name": "HTMLStyleModel",
      "state": {
       "description_width": "",
       "font_size": null,
       "text_color": null
      }
     },
     "1df334fbe6914c7c8f5643b38d5b6453": {
      "model_module": "@jupyter-widgets/controls",
      "model_module_version": "2.0.0",
      "model_name": "HTMLStyleModel",
      "state": {
       "description_width": "",
       "font_size": null,
       "text_color": null
      }
     },
     "1e03211314694df7a146372c1ddeac57": {
      "model_module": "@jupyter-widgets/base",
      "model_module_version": "2.0.0",
      "model_name": "LayoutModel",
      "state": {}
     },
     "1e12cb8985d9420b9cc8930065769d0f": {
      "model_module": "@jupyter-widgets/controls",
      "model_module_version": "2.0.0",
      "model_name": "HTMLStyleModel",
      "state": {
       "description_width": "",
       "font_size": null,
       "text_color": null
      }
     },
     "1efc74488a2d4f9f8a291a806001a026": {
      "model_module": "@jupyter-widgets/controls",
      "model_module_version": "2.0.0",
      "model_name": "HTMLModel",
      "state": {
       "layout": "IPY_MODEL_b53fed2c662441be9c966667a58f97dc",
       "style": "IPY_MODEL_5bdb2a4910224bad92cead917ab6072e",
       "value": "Validation DataLoader 0: 100%"
      }
     },
     "1f43e085b34e463abca758de49def8e7": {
      "model_module": "@jupyter-widgets/controls",
      "model_module_version": "2.0.0",
      "model_name": "HTMLStyleModel",
      "state": {
       "description_width": "",
       "font_size": null,
       "text_color": null
      }
     },
     "1f9b9979f0f3496889356ab243a87972": {
      "model_module": "@jupyter-widgets/controls",
      "model_module_version": "2.0.0",
      "model_name": "HTMLStyleModel",
      "state": {
       "description_width": "",
       "font_size": null,
       "text_color": null
      }
     },
     "1fc6e284679c4a39a60b8c0c0617041f": {
      "model_module": "@jupyter-widgets/base",
      "model_module_version": "2.0.0",
      "model_name": "LayoutModel",
      "state": {
       "flex": "2"
      }
     },
     "203549aa54fc417296a56e9d993ebef8": {
      "model_module": "@jupyter-widgets/controls",
      "model_module_version": "2.0.0",
      "model_name": "HTMLStyleModel",
      "state": {
       "description_width": "",
       "font_size": null,
       "text_color": null
      }
     },
     "208bfffdef954b959c14236a07fa35de": {
      "model_module": "@jupyter-widgets/base",
      "model_module_version": "2.0.0",
      "model_name": "LayoutModel",
      "state": {
       "display": "inline-flex",
       "flex_flow": "row wrap",
       "visibility": "hidden",
       "width": "100%"
      }
     },
     "20bfa7008f3e44f4bba66034142b2cde": {
      "model_module": "@jupyter-widgets/base",
      "model_module_version": "2.0.0",
      "model_name": "LayoutModel",
      "state": {
       "flex": "2"
      }
     },
     "20d86e7950ad4f27900e905d14daeda0": {
      "model_module": "@jupyter-widgets/base",
      "model_module_version": "2.0.0",
      "model_name": "LayoutModel",
      "state": {
       "flex": "2"
      }
     },
     "20ee85e923e843a9a44452fd78e193ed": {
      "model_module": "@jupyter-widgets/controls",
      "model_module_version": "2.0.0",
      "model_name": "HTMLStyleModel",
      "state": {
       "description_width": "",
       "font_size": null,
       "text_color": null
      }
     },
     "2113028e9b0941f1a58a357833384cbe": {
      "model_module": "@jupyter-widgets/controls",
      "model_module_version": "2.0.0",
      "model_name": "HTMLStyleModel",
      "state": {
       "description_width": "",
       "font_size": null,
       "text_color": null
      }
     },
     "21ac65793b8d41c2bf401d502c2bd22d": {
      "model_module": "@jupyter-widgets/base",
      "model_module_version": "2.0.0",
      "model_name": "LayoutModel",
      "state": {}
     },
     "21fa284a20e64d8cb9873bf9a03b5ffe": {
      "model_module": "@jupyter-widgets/base",
      "model_module_version": "2.0.0",
      "model_name": "LayoutModel",
      "state": {
       "display": "inline-flex",
       "flex_flow": "row wrap",
       "visibility": "hidden",
       "width": "100%"
      }
     },
     "224184e6f5b84a6c9793a4dc43772b57": {
      "model_module": "@jupyter-widgets/controls",
      "model_module_version": "2.0.0",
      "model_name": "HTMLStyleModel",
      "state": {
       "description_width": "",
       "font_size": null,
       "text_color": null
      }
     },
     "230242750de64816a2bae8d759ba99b3": {
      "model_module": "@jupyter-widgets/base",
      "model_module_version": "2.0.0",
      "model_name": "LayoutModel",
      "state": {
       "display": "inline-flex",
       "flex_flow": "row wrap",
       "visibility": "hidden",
       "width": "100%"
      }
     },
     "231d5d4d91b34049b9f70c6565b13678": {
      "model_module": "@jupyter-widgets/controls",
      "model_module_version": "2.0.0",
      "model_name": "HTMLStyleModel",
      "state": {
       "description_width": "",
       "font_size": null,
       "text_color": null
      }
     },
     "23558a70c8454f5ca39f7d88ef2fbaad": {
      "model_module": "@jupyter-widgets/controls",
      "model_module_version": "2.0.0",
      "model_name": "ProgressStyleModel",
      "state": {
       "description_width": ""
      }
     },
     "23b74c4ffa3f4faf9c47696e4fa564b9": {
      "model_module": "@jupyter-widgets/controls",
      "model_module_version": "2.0.0",
      "model_name": "HTMLModel",
      "state": {
       "layout": "IPY_MODEL_c980db3c14c24ba0ab8a6f40303853e3",
       "style": "IPY_MODEL_aaa6ad1b61ac483f86801e9a05b959b1",
       "value": " 25/25 [00:00&lt;00:00, 259.75it/s]"
      }
     },
     "2446209cc1d64c3f813cdd5c8008bbf8": {
      "model_module": "@jupyter-widgets/controls",
      "model_module_version": "2.0.0",
      "model_name": "FloatProgressModel",
      "state": {
       "layout": "IPY_MODEL_3d8c10b9529f43368ca42372f87719cd",
       "max": 25,
       "style": "IPY_MODEL_86a286da75854257be8dfe54d0f237c2",
       "value": 25
      }
     },
     "247ec4f43f344d43a45ad7d0a12c689a": {
      "model_module": "@jupyter-widgets/base",
      "model_module_version": "2.0.0",
      "model_name": "LayoutModel",
      "state": {
       "display": "inline-flex",
       "flex_flow": "row wrap",
       "visibility": "hidden",
       "width": "100%"
      }
     },
     "24bed4ca04cc49688dfd7bda3a2f5742": {
      "model_module": "@jupyter-widgets/base",
      "model_module_version": "2.0.0",
      "model_name": "LayoutModel",
      "state": {
       "flex": "2"
      }
     },
     "24f9cc6bce7b4065b867ec302c52e08d": {
      "model_module": "@jupyter-widgets/base",
      "model_module_version": "2.0.0",
      "model_name": "LayoutModel",
      "state": {}
     },
     "251dd8598baf43c5849441e81124291e": {
      "model_module": "@jupyter-widgets/base",
      "model_module_version": "2.0.0",
      "model_name": "LayoutModel",
      "state": {}
     },
     "252f0cc9d45b4b5dbdd20f3dea5c4355": {
      "model_module": "@jupyter-widgets/base",
      "model_module_version": "2.0.0",
      "model_name": "LayoutModel",
      "state": {}
     },
     "262c7f20168549fb96462398c17fa396": {
      "model_module": "@jupyter-widgets/base",
      "model_module_version": "2.0.0",
      "model_name": "LayoutModel",
      "state": {}
     },
     "26ff9942bf6a4b12ab1fa7030efab0e5": {
      "model_module": "@jupyter-widgets/controls",
      "model_module_version": "2.0.0",
      "model_name": "ProgressStyleModel",
      "state": {
       "description_width": ""
      }
     },
     "2762561121264d1583a38ed86c664de9": {
      "model_module": "@jupyter-widgets/controls",
      "model_module_version": "2.0.0",
      "model_name": "HTMLModel",
      "state": {
       "layout": "IPY_MODEL_3719a6c581e24577b99ad6db8789dfd2",
       "style": "IPY_MODEL_106e75315eac416ba29c1b880b0b1b7c",
       "value": " 25/25 [00:00&lt;00:00, 270.00it/s]"
      }
     },
     "2795c3ac934b4ec69a74ae26f2909f13": {
      "model_module": "@jupyter-widgets/controls",
      "model_module_version": "2.0.0",
      "model_name": "FloatProgressModel",
      "state": {
       "layout": "IPY_MODEL_b2059549ac8a4b47b93dffbf3a7f9750",
       "max": 25,
       "style": "IPY_MODEL_dbfb45b7926744d3bfc792ac8a0dd6cc",
       "value": 25
      }
     },
     "27e8c919016946e68e038e9161dd2d2a": {
      "model_module": "@jupyter-widgets/base",
      "model_module_version": "2.0.0",
      "model_name": "LayoutModel",
      "state": {}
     },
     "280a916984894fb09d1b5fe43fc6cc24": {
      "model_module": "@jupyter-widgets/controls",
      "model_module_version": "2.0.0",
      "model_name": "HTMLStyleModel",
      "state": {
       "description_width": "",
       "font_size": null,
       "text_color": null
      }
     },
     "286e567a62f44d719eacb927ec82f348": {
      "model_module": "@jupyter-widgets/base",
      "model_module_version": "2.0.0",
      "model_name": "LayoutModel",
      "state": {
       "display": "inline-flex",
       "flex_flow": "row wrap",
       "visibility": "hidden",
       "width": "100%"
      }
     },
     "28a091f865614d8b93069f81e5ef9263": {
      "model_module": "@jupyter-widgets/controls",
      "model_module_version": "2.0.0",
      "model_name": "ProgressStyleModel",
      "state": {
       "description_width": ""
      }
     },
     "28a5d1b3f25a42e7adf3c0824b8a81ea": {
      "model_module": "@jupyter-widgets/base",
      "model_module_version": "2.0.0",
      "model_name": "LayoutModel",
      "state": {}
     },
     "297c3921c2394bbeba441da86c48fb26": {
      "model_module": "@jupyter-widgets/base",
      "model_module_version": "2.0.0",
      "model_name": "LayoutModel",
      "state": {}
     },
     "29ea448d27cc464bb926fb398409acb5": {
      "model_module": "@jupyter-widgets/controls",
      "model_module_version": "2.0.0",
      "model_name": "ProgressStyleModel",
      "state": {
       "description_width": ""
      }
     },
     "2a2b7cc01625443eba9ad5d97e2c5cbf": {
      "model_module": "@jupyter-widgets/base",
      "model_module_version": "2.0.0",
      "model_name": "LayoutModel",
      "state": {}
     },
     "2a3847bc06a74322aa97378b9c00c31d": {
      "model_module": "@jupyter-widgets/controls",
      "model_module_version": "2.0.0",
      "model_name": "HTMLStyleModel",
      "state": {
       "description_width": "",
       "font_size": null,
       "text_color": null
      }
     },
     "2a384b7828284c49a1fba1e73d4b45cf": {
      "model_module": "@jupyter-widgets/controls",
      "model_module_version": "2.0.0",
      "model_name": "HTMLModel",
      "state": {
       "layout": "IPY_MODEL_8bf8038b1d9c40b2b1625b70e2b742bc",
       "style": "IPY_MODEL_7d444629c7c94cf6b5e832c02f0b46b5",
       "value": " 25/25 [00:00&lt;00:00, 241.98it/s]"
      }
     },
     "2a9a6ad2c43743fcab61ce378315d132": {
      "model_module": "@jupyter-widgets/base",
      "model_module_version": "2.0.0",
      "model_name": "LayoutModel",
      "state": {
       "display": "inline-flex",
       "flex_flow": "row wrap",
       "visibility": "hidden",
       "width": "100%"
      }
     },
     "2ac47ce59f2a4737a9571b6a361cd940": {
      "model_module": "@jupyter-widgets/controls",
      "model_module_version": "2.0.0",
      "model_name": "ProgressStyleModel",
      "state": {
       "description_width": ""
      }
     },
     "2aeb84cc39064c8c96a911f1a901e564": {
      "model_module": "@jupyter-widgets/controls",
      "model_module_version": "2.0.0",
      "model_name": "HTMLStyleModel",
      "state": {
       "description_width": "",
       "font_size": null,
       "text_color": null
      }
     },
     "2b128ad5666246a489e57000b400abc6": {
      "model_module": "@jupyter-widgets/controls",
      "model_module_version": "2.0.0",
      "model_name": "FloatProgressModel",
      "state": {
       "layout": "IPY_MODEL_ef7353a6651840b59f595483b3e28d97",
       "max": 25,
       "style": "IPY_MODEL_0fbc030597794c0e893532823075f9f2",
       "value": 25
      }
     },
     "2b8c7b3ecd4e43c5966e3c0923443455": {
      "model_module": "@jupyter-widgets/base",
      "model_module_version": "2.0.0",
      "model_name": "LayoutModel",
      "state": {
       "display": "inline-flex",
       "flex_flow": "row wrap",
       "visibility": "hidden",
       "width": "100%"
      }
     },
     "2bc49a1d08784c03bbec508a1a2ade3c": {
      "model_module": "@jupyter-widgets/base",
      "model_module_version": "2.0.0",
      "model_name": "LayoutModel",
      "state": {}
     },
     "2bfc403784a342dda91081072a8a20a9": {
      "model_module": "@jupyter-widgets/controls",
      "model_module_version": "2.0.0",
      "model_name": "HTMLModel",
      "state": {
       "layout": "IPY_MODEL_262c7f20168549fb96462398c17fa396",
       "style": "IPY_MODEL_be716cca164c47c18c987e90d78338ea",
       "value": " 25/25 [00:00&lt;00:00, 253.95it/s]"
      }
     },
     "2cf1e5bf604a4663bba96b149fe94d43": {
      "model_module": "@jupyter-widgets/controls",
      "model_module_version": "2.0.0",
      "model_name": "HTMLStyleModel",
      "state": {
       "description_width": "",
       "font_size": null,
       "text_color": null
      }
     },
     "2cfeae6ac4ce41829244d228838116ca": {
      "model_module": "@jupyter-widgets/controls",
      "model_module_version": "2.0.0",
      "model_name": "HTMLStyleModel",
      "state": {
       "description_width": "",
       "font_size": null,
       "text_color": null
      }
     },
     "2e4f1b2a6e764a9eaa6e6c1a5dfa08e2": {
      "model_module": "@jupyter-widgets/base",
      "model_module_version": "2.0.0",
      "model_name": "LayoutModel",
      "state": {}
     },
     "2e65a5712f174073beb20a3f4af73bbf": {
      "model_module": "@jupyter-widgets/base",
      "model_module_version": "2.0.0",
      "model_name": "LayoutModel",
      "state": {}
     },
     "2e7c633ba3dd41c6bcd0c4f07a7b85fb": {
      "model_module": "@jupyter-widgets/base",
      "model_module_version": "2.0.0",
      "model_name": "LayoutModel",
      "state": {}
     },
     "2eba1dd0922949d5ae711aec8b3feabc": {
      "model_module": "@jupyter-widgets/controls",
      "model_module_version": "2.0.0",
      "model_name": "HTMLModel",
      "state": {
       "layout": "IPY_MODEL_522ac6fd5b1c4629996c96d307fcb970",
       "style": "IPY_MODEL_93a707628e994caa80e8c8201fbd052a",
       "value": "Validation DataLoader 0: 100%"
      }
     },
     "2ec20581b188429a9e0ee4d1fc05efca": {
      "model_module": "@jupyter-widgets/base",
      "model_module_version": "2.0.0",
      "model_name": "LayoutModel",
      "state": {}
     },
     "2f28e32fb63a46229d0333eb1fd0cd9e": {
      "model_module": "@jupyter-widgets/controls",
      "model_module_version": "2.0.0",
      "model_name": "FloatProgressModel",
      "state": {
       "layout": "IPY_MODEL_57589f83b0484b7883234a4992b211b5",
       "max": 25,
       "style": "IPY_MODEL_a52e1b801875401281b6f8b573f4799b",
       "value": 25
      }
     },
     "30094ab870ea4e33a1b7c5a684bdba0c": {
      "model_module": "@jupyter-widgets/controls",
      "model_module_version": "2.0.0",
      "model_name": "HTMLModel",
      "state": {
       "layout": "IPY_MODEL_79d56b9d536e40bc883a81667c00b445",
       "style": "IPY_MODEL_bf6387cfa1f548cba9441cda61893aaf",
       "value": "Validation DataLoader 0: 100%"
      }
     },
     "307263d0f7e3475b9dd56e12dfd34139": {
      "model_module": "@jupyter-widgets/controls",
      "model_module_version": "2.0.0",
      "model_name": "HTMLModel",
      "state": {
       "layout": "IPY_MODEL_1e03211314694df7a146372c1ddeac57",
       "style": "IPY_MODEL_e6c5624e382847ca97d4356d177f6245",
       "value": " 25/25 [00:00&lt;00:00, 238.68it/s]"
      }
     },
     "308df533b6d74f278bda90e668df45f9": {
      "model_module": "@jupyter-widgets/base",
      "model_module_version": "2.0.0",
      "model_name": "LayoutModel",
      "state": {
       "display": "inline-flex",
       "flex_flow": "row wrap",
       "visibility": "hidden",
       "width": "100%"
      }
     },
     "31300cf1e1344143aee78cfff604e995": {
      "model_module": "@jupyter-widgets/controls",
      "model_module_version": "2.0.0",
      "model_name": "HTMLModel",
      "state": {
       "layout": "IPY_MODEL_ba0c9c0d970a4f87bc5242d19c22c192",
       "style": "IPY_MODEL_9c47d5da67a74b49b3ebe6b939e4fc93",
       "value": "Validation DataLoader 0: 100%"
      }
     },
     "32680cf5a4c24415a429d11a754e19a3": {
      "model_module": "@jupyter-widgets/base",
      "model_module_version": "2.0.0",
      "model_name": "LayoutModel",
      "state": {
       "display": "inline-flex",
       "flex_flow": "row wrap",
       "visibility": "hidden",
       "width": "100%"
      }
     },
     "327fbe6dbdbb45889206f0a6a4a2d3b5": {
      "model_module": "@jupyter-widgets/base",
      "model_module_version": "2.0.0",
      "model_name": "LayoutModel",
      "state": {
       "flex": "2"
      }
     },
     "32bdb25cb616489b9cdb2639c2353551": {
      "model_module": "@jupyter-widgets/base",
      "model_module_version": "2.0.0",
      "model_name": "LayoutModel",
      "state": {
       "flex": "2"
      }
     },
     "330e298b2eb545bbbc91923fa5eceeb7": {
      "model_module": "@jupyter-widgets/base",
      "model_module_version": "2.0.0",
      "model_name": "LayoutModel",
      "state": {}
     },
     "3319bac3ac464c5dbe34ff2a6ab90e49": {
      "model_module": "@jupyter-widgets/controls",
      "model_module_version": "2.0.0",
      "model_name": "FloatProgressModel",
      "state": {
       "layout": "IPY_MODEL_72017343428c4ad199be6edea85c875b",
       "max": 25,
       "style": "IPY_MODEL_181acac6c422453cacf20b427045a408",
       "value": 25
      }
     },
     "33a6ec4422e84d81abedf5742161707b": {
      "model_module": "@jupyter-widgets/controls",
      "model_module_version": "2.0.0",
      "model_name": "HTMLStyleModel",
      "state": {
       "description_width": "",
       "font_size": null,
       "text_color": null
      }
     },
     "343e3a82aa3a4817b45b906a605aacfc": {
      "model_module": "@jupyter-widgets/controls",
      "model_module_version": "2.0.0",
      "model_name": "FloatProgressModel",
      "state": {
       "layout": "IPY_MODEL_69e53c3e57d9475cbb54c6c1d6cb65bd",
       "max": 25,
       "style": "IPY_MODEL_0e1386b775cc4d5588d18e205acf4bb9",
       "value": 25
      }
     },
     "347211e5798446208b2a1bf2d74dd292": {
      "model_module": "@jupyter-widgets/controls",
      "model_module_version": "2.0.0",
      "model_name": "ProgressStyleModel",
      "state": {
       "description_width": ""
      }
     },
     "350b00f4de9c4aa4984d7e4ca38c65f5": {
      "model_module": "@jupyter-widgets/base",
      "model_module_version": "2.0.0",
      "model_name": "LayoutModel",
      "state": {}
     },
     "350d7a7a0ca545bc8584c75c07f62730": {
      "model_module": "@jupyter-widgets/controls",
      "model_module_version": "2.0.0",
      "model_name": "HTMLModel",
      "state": {
       "layout": "IPY_MODEL_330e298b2eb545bbbc91923fa5eceeb7",
       "style": "IPY_MODEL_8a7e85e9fa0a4564b1fb4ff8696f67de",
       "value": "Validation DataLoader 0: 100%"
      }
     },
     "358b7b5975a0486b9ae77d8e73699510": {
      "model_module": "@jupyter-widgets/base",
      "model_module_version": "2.0.0",
      "model_name": "LayoutModel",
      "state": {
       "flex": "2"
      }
     },
     "35ac2c2a014d4a8e84109b1f6eb7470c": {
      "model_module": "@jupyter-widgets/controls",
      "model_module_version": "2.0.0",
      "model_name": "ProgressStyleModel",
      "state": {
       "description_width": ""
      }
     },
     "36956f7c48d24a35ba22b378c26fe8cd": {
      "model_module": "@jupyter-widgets/controls",
      "model_module_version": "2.0.0",
      "model_name": "HTMLStyleModel",
      "state": {
       "description_width": "",
       "font_size": null,
       "text_color": null
      }
     },
     "36c6888a8fb74c6e81312440fcfd1774": {
      "model_module": "@jupyter-widgets/controls",
      "model_module_version": "2.0.0",
      "model_name": "HTMLStyleModel",
      "state": {
       "description_width": "",
       "font_size": null,
       "text_color": null
      }
     },
     "36cc7f93ed2b4a86b9218cb7f12f62e9": {
      "model_module": "@jupyter-widgets/base",
      "model_module_version": "2.0.0",
      "model_name": "LayoutModel",
      "state": {
       "flex": "2"
      }
     },
     "3719a6c581e24577b99ad6db8789dfd2": {
      "model_module": "@jupyter-widgets/base",
      "model_module_version": "2.0.0",
      "model_name": "LayoutModel",
      "state": {}
     },
     "374a8f4c16974be78180171a88275060": {
      "model_module": "@jupyter-widgets/controls",
      "model_module_version": "2.0.0",
      "model_name": "HTMLStyleModel",
      "state": {
       "description_width": "",
       "font_size": null,
       "text_color": null
      }
     },
     "3761dab6482e4f95ae4eb0fa7986cd2b": {
      "model_module": "@jupyter-widgets/controls",
      "model_module_version": "2.0.0",
      "model_name": "HTMLStyleModel",
      "state": {
       "description_width": "",
       "font_size": null,
       "text_color": null
      }
     },
     "37b664d143844cf08bcfb4fc231f449b": {
      "model_module": "@jupyter-widgets/base",
      "model_module_version": "2.0.0",
      "model_name": "LayoutModel",
      "state": {}
     },
     "37ba95af41734c7ab12336a3d6ac06d7": {
      "model_module": "@jupyter-widgets/controls",
      "model_module_version": "2.0.0",
      "model_name": "FloatProgressModel",
      "state": {
       "layout": "IPY_MODEL_536acad9fac64d8991a625d286a6fcc2",
       "max": 25,
       "style": "IPY_MODEL_5191c426999f4a41bbabe9837ca82e3a",
       "value": 25
      }
     },
     "3822f30708f64cc0a82ce0d26d2149ef": {
      "model_module": "@jupyter-widgets/controls",
      "model_module_version": "2.0.0",
      "model_name": "ProgressStyleModel",
      "state": {
       "description_width": ""
      }
     },
     "388c647e06fe45bcae233fb50a0005fb": {
      "model_module": "@jupyter-widgets/base",
      "model_module_version": "2.0.0",
      "model_name": "LayoutModel",
      "state": {}
     },
     "38bc16ca597848a193863524b389dd22": {
      "model_module": "@jupyter-widgets/controls",
      "model_module_version": "2.0.0",
      "model_name": "HTMLModel",
      "state": {
       "layout": "IPY_MODEL_ddabfb931380421383f6b58d63e7b1c4",
       "style": "IPY_MODEL_0d54dc4d35b246529fda7bd3f47b9db9",
       "value": "Sanity Checking DataLoader 0: 100%"
      }
     },
     "3912048fcfb74ddea1a272be7daf6e2a": {
      "model_module": "@jupyter-widgets/base",
      "model_module_version": "2.0.0",
      "model_name": "LayoutModel",
      "state": {}
     },
     "3a526c50fd0148ff847c69a56524d2f7": {
      "model_module": "@jupyter-widgets/base",
      "model_module_version": "2.0.0",
      "model_name": "LayoutModel",
      "state": {}
     },
     "3a8dd39ae7074af1aea162d4b1c3dc54": {
      "model_module": "@jupyter-widgets/controls",
      "model_module_version": "2.0.0",
      "model_name": "FloatProgressModel",
      "state": {
       "bar_style": "success",
       "layout": "IPY_MODEL_1ae8d6f877ff4a44b4fcc223ebebf7e9",
       "max": 63,
       "style": "IPY_MODEL_1d9a52e7b4764f6db2505839103a6c67",
       "value": 63
      }
     },
     "3a8df1010ee141f9b0756a96b526a654": {
      "model_module": "@jupyter-widgets/base",
      "model_module_version": "2.0.0",
      "model_name": "LayoutModel",
      "state": {
       "flex": "2"
      }
     },
     "3a9dcffb39f64b31852f8aa1256350d3": {
      "model_module": "@jupyter-widgets/base",
      "model_module_version": "2.0.0",
      "model_name": "LayoutModel",
      "state": {}
     },
     "3ad65091b73449da99e3a617964619aa": {
      "model_module": "@jupyter-widgets/controls",
      "model_module_version": "2.0.0",
      "model_name": "ProgressStyleModel",
      "state": {
       "description_width": ""
      }
     },
     "3bcfdf90383b46fba160f0334299ff7d": {
      "model_module": "@jupyter-widgets/controls",
      "model_module_version": "2.0.0",
      "model_name": "HTMLStyleModel",
      "state": {
       "description_width": "",
       "font_size": null,
       "text_color": null
      }
     },
     "3be686bda6dc4c23bd93d48766f1c84d": {
      "model_module": "@jupyter-widgets/controls",
      "model_module_version": "2.0.0",
      "model_name": "HTMLStyleModel",
      "state": {
       "description_width": "",
       "font_size": null,
       "text_color": null
      }
     },
     "3c0300a532404fb2a87c99445d703967": {
      "model_module": "@jupyter-widgets/controls",
      "model_module_version": "2.0.0",
      "model_name": "HTMLModel",
      "state": {
       "layout": "IPY_MODEL_ac95a583feec42bdac38008b15451046",
       "style": "IPY_MODEL_f6d7a326ec3e442ea7c76bf946a2f7c4",
       "value": " 25/25 [00:00&lt;00:00, 267.04it/s]"
      }
     },
     "3cf4f523b4b84a70bf9712bc79d42473": {
      "model_module": "@jupyter-widgets/base",
      "model_module_version": "2.0.0",
      "model_name": "LayoutModel",
      "state": {}
     },
     "3d65b0495ff94e4aae304db7b38d2435": {
      "model_module": "@jupyter-widgets/controls",
      "model_module_version": "2.0.0",
      "model_name": "HTMLStyleModel",
      "state": {
       "description_width": "",
       "font_size": null,
       "text_color": null
      }
     },
     "3d8c10b9529f43368ca42372f87719cd": {
      "model_module": "@jupyter-widgets/base",
      "model_module_version": "2.0.0",
      "model_name": "LayoutModel",
      "state": {
       "flex": "2"
      }
     },
     "3df058097e83407d935edaede6865623": {
      "model_module": "@jupyter-widgets/controls",
      "model_module_version": "2.0.0",
      "model_name": "HTMLStyleModel",
      "state": {
       "description_width": "",
       "font_size": null,
       "text_color": null
      }
     },
     "3e1a92e6d6da44f782392e663a297d1f": {
      "model_module": "@jupyter-widgets/base",
      "model_module_version": "2.0.0",
      "model_name": "LayoutModel",
      "state": {
       "display": "inline-flex",
       "flex_flow": "row wrap",
       "visibility": "hidden",
       "width": "100%"
      }
     },
     "3e5278ec55264737aced0c9397e91629": {
      "model_module": "@jupyter-widgets/controls",
      "model_module_version": "2.0.0",
      "model_name": "HTMLStyleModel",
      "state": {
       "description_width": "",
       "font_size": null,
       "text_color": null
      }
     },
     "3eaf67d5221042279afee32f0830b562": {
      "model_module": "@jupyter-widgets/base",
      "model_module_version": "2.0.0",
      "model_name": "LayoutModel",
      "state": {}
     },
     "3f193d2d711148729be5d7c9fd1c40fc": {
      "model_module": "@jupyter-widgets/base",
      "model_module_version": "2.0.0",
      "model_name": "LayoutModel",
      "state": {}
     },
     "3f2ac93466374f9dac0cb31ee020704e": {
      "model_module": "@jupyter-widgets/controls",
      "model_module_version": "2.0.0",
      "model_name": "HTMLStyleModel",
      "state": {
       "description_width": "",
       "font_size": null,
       "text_color": null
      }
     },
     "3fbf3837cecd4784a23b3e000d75873a": {
      "model_module": "@jupyter-widgets/controls",
      "model_module_version": "2.0.0",
      "model_name": "HTMLModel",
      "state": {
       "layout": "IPY_MODEL_1d0de6063cdd420fa9e33584ee77249a",
       "style": "IPY_MODEL_b82640169b144c609bb9dda33b6ff1d4",
       "value": "Validation DataLoader 0: 100%"
      }
     },
     "3ff2caa62a94487ba45ee89ca83ea47e": {
      "model_module": "@jupyter-widgets/controls",
      "model_module_version": "2.0.0",
      "model_name": "HTMLModel",
      "state": {
       "layout": "IPY_MODEL_d3f42ca15edd4bd1b2b12b2883affffd",
       "style": "IPY_MODEL_8acc17781eae4b5db2db35fa0a68e38b",
       "value": "Validation DataLoader 0: 100%"
      }
     },
     "4023fc63eeec491ab8060f6156d8de1d": {
      "model_module": "@jupyter-widgets/controls",
      "model_module_version": "2.0.0",
      "model_name": "ProgressStyleModel",
      "state": {
       "description_width": ""
      }
     },
     "40e9d62df9f24f90bf6dbe5ae4d52370": {
      "model_module": "@jupyter-widgets/controls",
      "model_module_version": "2.0.0",
      "model_name": "FloatProgressModel",
      "state": {
       "layout": "IPY_MODEL_074ad605ea08477ab3ea70f684504224",
       "max": 25,
       "style": "IPY_MODEL_11e5247c1bfc44a7947dfc2bddc83e4c",
       "value": 25
      }
     },
     "40ec1f8c30654b089b19299319fc2e5c": {
      "model_module": "@jupyter-widgets/controls",
      "model_module_version": "2.0.0",
      "model_name": "HTMLModel",
      "state": {
       "layout": "IPY_MODEL_7975abb0859b4eabaccc13ca714edeca",
       "style": "IPY_MODEL_f5a840761b21404696daa16673c79a23",
       "value": "Validation DataLoader 0: 100%"
      }
     },
     "415f973fe2db4858b79cf8432e4c0337": {
      "model_module": "@jupyter-widgets/controls",
      "model_module_version": "2.0.0",
      "model_name": "FloatProgressModel",
      "state": {
       "layout": "IPY_MODEL_bc42236d779042a6848d83b972fdd5e5",
       "max": 25,
       "style": "IPY_MODEL_133b6fba494d4a59beeb05fdd6f55c4b",
       "value": 25
      }
     },
     "41c45fd40d2a40859404663a6b30d411": {
      "model_module": "@jupyter-widgets/controls",
      "model_module_version": "2.0.0",
      "model_name": "ProgressStyleModel",
      "state": {
       "description_width": ""
      }
     },
     "41f9dd5157ab417487822a5b8b5f7d22": {
      "model_module": "@jupyter-widgets/controls",
      "model_module_version": "2.0.0",
      "model_name": "HTMLStyleModel",
      "state": {
       "description_width": "",
       "font_size": null,
       "text_color": null
      }
     },
     "421492c6ff1945acb24d39329c477fa2": {
      "model_module": "@jupyter-widgets/controls",
      "model_module_version": "2.0.0",
      "model_name": "HTMLModel",
      "state": {
       "layout": "IPY_MODEL_27e8c919016946e68e038e9161dd2d2a",
       "style": "IPY_MODEL_f639abe9b6df40339c70f562571e1e82",
       "value": " 25/25 [00:00&lt;00:00, 238.82it/s]"
      }
     },
     "423fd054d006422f83ce3db6143746bf": {
      "model_module": "@jupyter-widgets/base",
      "model_module_version": "2.0.0",
      "model_name": "LayoutModel",
      "state": {}
     },
     "435edbb63db2480c8f358e7906d23453": {
      "model_module": "@jupyter-widgets/controls",
      "model_module_version": "2.0.0",
      "model_name": "HTMLModel",
      "state": {
       "layout": "IPY_MODEL_9793f38ce89f440c80cca1d418e0b70d",
       "style": "IPY_MODEL_d17758b73fbb49a1af54404aff1813ab",
       "value": " 25/25 [00:00&lt;00:00, 262.75it/s]"
      }
     },
     "438b5400ab9a45dd813d821c0bf06c5c": {
      "model_module": "@jupyter-widgets/controls",
      "model_module_version": "2.0.0",
      "model_name": "HTMLStyleModel",
      "state": {
       "description_width": "",
       "font_size": null,
       "text_color": null
      }
     },
     "43fa9e161a6a41faa8a3a92b93c0ad95": {
      "model_module": "@jupyter-widgets/base",
      "model_module_version": "2.0.0",
      "model_name": "LayoutModel",
      "state": {
       "flex": "2"
      }
     },
     "4430e23c79974739805ed60ff40b60d8": {
      "model_module": "@jupyter-widgets/controls",
      "model_module_version": "2.0.0",
      "model_name": "HTMLModel",
      "state": {
       "layout": "IPY_MODEL_388c647e06fe45bcae233fb50a0005fb",
       "style": "IPY_MODEL_898226b8261a488ca7073137bb877d39",
       "value": "Validation DataLoader 0: 100%"
      }
     },
     "44663004f68c44dd80832b627c74add7": {
      "model_module": "@jupyter-widgets/base",
      "model_module_version": "2.0.0",
      "model_name": "LayoutModel",
      "state": {}
     },
     "448a19cab04241b19b4e1abbe4a8a4cb": {
      "model_module": "@jupyter-widgets/controls",
      "model_module_version": "2.0.0",
      "model_name": "HTMLStyleModel",
      "state": {
       "description_width": "",
       "font_size": null,
       "text_color": null
      }
     },
     "44ac0978f2b7486fa3aef06c1de71964": {
      "model_module": "@jupyter-widgets/controls",
      "model_module_version": "2.0.0",
      "model_name": "HTMLStyleModel",
      "state": {
       "description_width": "",
       "font_size": null,
       "text_color": null
      }
     },
     "44c352f15e10406d913ddee9ec57ce41": {
      "model_module": "@jupyter-widgets/controls",
      "model_module_version": "2.0.0",
      "model_name": "HTMLStyleModel",
      "state": {
       "description_width": "",
       "font_size": null,
       "text_color": null
      }
     },
     "44e0a7f26131455ebb259a5b7ee2c926": {
      "model_module": "@jupyter-widgets/controls",
      "model_module_version": "2.0.0",
      "model_name": "HTMLModel",
      "state": {
       "layout": "IPY_MODEL_8fed1afd31d74ed9b0365d0b06d98434",
       "style": "IPY_MODEL_4e41feeb7123424a9111cba1ad7dcf60",
       "value": " 25/25 [00:00&lt;00:00, 226.06it/s]"
      }
     },
     "44e129d4aa434a00a10a4aa7a3ca9563": {
      "model_module": "@jupyter-widgets/controls",
      "model_module_version": "2.0.0",
      "model_name": "ProgressStyleModel",
      "state": {
       "description_width": ""
      }
     },
     "457dc5542c9a4127a013187710579aa5": {
      "model_module": "@jupyter-widgets/controls",
      "model_module_version": "2.0.0",
      "model_name": "FloatProgressModel",
      "state": {
       "layout": "IPY_MODEL_ff487854fc014a0abea10ab60d38b751",
       "max": 25,
       "style": "IPY_MODEL_59a57b4839dc46a9939070a3842e5775",
       "value": 25
      }
     },
     "46339d5a714d47c490e30b8d91102684": {
      "model_module": "@jupyter-widgets/base",
      "model_module_version": "2.0.0",
      "model_name": "LayoutModel",
      "state": {}
     },
     "46c58591fd9f428e8c2d9239f513a66e": {
      "model_module": "@jupyter-widgets/controls",
      "model_module_version": "2.0.0",
      "model_name": "HTMLModel",
      "state": {
       "layout": "IPY_MODEL_5de6dac738e945a6b76afb89bb0a67b3",
       "style": "IPY_MODEL_da3e14286772441482c42ebc09eb0f4c",
       "value": " 25/25 [00:00&lt;00:00, 282.06it/s]"
      }
     },
     "46d1904c472248dfb0a540701aa6ca1e": {
      "model_module": "@jupyter-widgets/controls",
      "model_module_version": "2.0.0",
      "model_name": "HTMLModel",
      "state": {
       "layout": "IPY_MODEL_37b664d143844cf08bcfb4fc231f449b",
       "style": "IPY_MODEL_4e2a93be8bb34be391b648519b5d314f",
       "value": "Validation DataLoader 0: 100%"
      }
     },
     "46d980cbfaf1438b9b688d49f1778536": {
      "model_module": "@jupyter-widgets/controls",
      "model_module_version": "2.0.0",
      "model_name": "ProgressStyleModel",
      "state": {
       "description_width": ""
      }
     },
     "476d2a818534426c82a0c45daf28f328": {
      "model_module": "@jupyter-widgets/base",
      "model_module_version": "2.0.0",
      "model_name": "LayoutModel",
      "state": {
       "flex": "2"
      }
     },
     "47a87f474502447a8ee2b9737971757f": {
      "model_module": "@jupyter-widgets/controls",
      "model_module_version": "2.0.0",
      "model_name": "HTMLStyleModel",
      "state": {
       "description_width": "",
       "font_size": null,
       "text_color": null
      }
     },
     "47bacd27cd3d461794cfa116edab7b51": {
      "model_module": "@jupyter-widgets/controls",
      "model_module_version": "2.0.0",
      "model_name": "ProgressStyleModel",
      "state": {
       "description_width": ""
      }
     },
     "48110804769349f49e34e78900cc7957": {
      "model_module": "@jupyter-widgets/controls",
      "model_module_version": "2.0.0",
      "model_name": "FloatProgressModel",
      "state": {
       "layout": "IPY_MODEL_d6ca23da04384066b2b1ac493f2adb82",
       "max": 25,
       "style": "IPY_MODEL_58cd321c74d24681b70d8d70867e2e40",
       "value": 25
      }
     },
     "487f8a8165044cfbba0d7a225b42ebc9": {
      "model_module": "@jupyter-widgets/base",
      "model_module_version": "2.0.0",
      "model_name": "LayoutModel",
      "state": {}
     },
     "48f4956217be4714b06b0d99d8decaeb": {
      "model_module": "@jupyter-widgets/base",
      "model_module_version": "2.0.0",
      "model_name": "LayoutModel",
      "state": {
       "display": "inline-flex",
       "flex_flow": "row wrap",
       "visibility": "hidden",
       "width": "100%"
      }
     },
     "491210cf35c5471f9dc9380a709a9098": {
      "model_module": "@jupyter-widgets/controls",
      "model_module_version": "2.0.0",
      "model_name": "FloatProgressModel",
      "state": {
       "layout": "IPY_MODEL_be7fd7bc139b4286b8fbb56c9b0a9b57",
       "max": 25,
       "style": "IPY_MODEL_b9c8790f979549d292623c94c346511d",
       "value": 25
      }
     },
     "497c6c0df4534c71b9483c6012cd159e": {
      "model_module": "@jupyter-widgets/controls",
      "model_module_version": "2.0.0",
      "model_name": "HTMLStyleModel",
      "state": {
       "description_width": "",
       "font_size": null,
       "text_color": null
      }
     },
     "4a0305cff4694d20aa259cd49171c604": {
      "model_module": "@jupyter-widgets/base",
      "model_module_version": "2.0.0",
      "model_name": "LayoutModel",
      "state": {
       "flex": "2"
      }
     },
     "4a29f53f96534bf69345d9da66c18074": {
      "model_module": "@jupyter-widgets/controls",
      "model_module_version": "2.0.0",
      "model_name": "FloatProgressModel",
      "state": {
       "layout": "IPY_MODEL_36cc7f93ed2b4a86b9218cb7f12f62e9",
       "max": 25,
       "style": "IPY_MODEL_0f0f771acf0e48da8e9e1b8b52c59d46",
       "value": 25
      }
     },
     "4a47c10229f34aafb88823ad43be8895": {
      "model_module": "@jupyter-widgets/controls",
      "model_module_version": "2.0.0",
      "model_name": "FloatProgressModel",
      "state": {
       "layout": "IPY_MODEL_1333bada6ef14ab3a594d5276403f26f",
       "style": "IPY_MODEL_347211e5798446208b2a1bf2d74dd292",
       "value": 100
      }
     },
     "4a66c6867b14410aa448035474850725": {
      "model_module": "@jupyter-widgets/controls",
      "model_module_version": "2.0.0",
      "model_name": "ProgressStyleModel",
      "state": {
       "description_width": ""
      }
     },
     "4a6a704eb4d64b81a961ee8d5b5f39c6": {
      "model_module": "@jupyter-widgets/base",
      "model_module_version": "2.0.0",
      "model_name": "LayoutModel",
      "state": {
       "flex": "2"
      }
     },
     "4ac2fed6279e479d9c933b4aa3b5f986": {
      "model_module": "@jupyter-widgets/base",
      "model_module_version": "2.0.0",
      "model_name": "LayoutModel",
      "state": {
       "display": "inline-flex",
       "flex_flow": "row wrap",
       "visibility": "hidden",
       "width": "100%"
      }
     },
     "4ae939522af64a5f8bb90c40ada65886": {
      "model_module": "@jupyter-widgets/base",
      "model_module_version": "2.0.0",
      "model_name": "LayoutModel",
      "state": {}
     },
     "4b36f2f4b0874a76b4f5b4451422dbfb": {
      "model_module": "@jupyter-widgets/controls",
      "model_module_version": "2.0.0",
      "model_name": "FloatProgressModel",
      "state": {
       "layout": "IPY_MODEL_cf714dc777e349f6bdef54203f84198f",
       "max": 25,
       "style": "IPY_MODEL_19ad30bc064643c7ad142b15b457436e",
       "value": 25
      }
     },
     "4ba5ed49e0834062a0639de064feaed6": {
      "model_module": "@jupyter-widgets/controls",
      "model_module_version": "2.0.0",
      "model_name": "HTMLModel",
      "state": {
       "layout": "IPY_MODEL_bb2411eaf3934633af1f5f151ad58276",
       "style": "IPY_MODEL_203549aa54fc417296a56e9d993ebef8",
       "value": " 25/25 [00:00&lt;00:00, 279.85it/s]"
      }
     },
     "4be02e3beba64ae4a5b09f7db5a97256": {
      "model_module": "@jupyter-widgets/controls",
      "model_module_version": "2.0.0",
      "model_name": "FloatProgressModel",
      "state": {
       "layout": "IPY_MODEL_7515757f15404648a545bcfa2b93b954",
       "max": 25,
       "style": "IPY_MODEL_92105a52120641128271f420a66df267",
       "value": 25
      }
     },
     "4cb9ec1794d24e62ad172655c2a779ab": {
      "model_module": "@jupyter-widgets/controls",
      "model_module_version": "2.0.0",
      "model_name": "HTMLModel",
      "state": {
       "layout": "IPY_MODEL_4ff931cc6daa423189903e8f8e165a8e",
       "style": "IPY_MODEL_fc5c9aeea5244fc1a2fe8213a429876e",
       "value": " 25/25 [00:00&lt;00:00, 275.64it/s]"
      }
     },
     "4cf4c19a8be94bdbb2275bd458118416": {
      "model_module": "@jupyter-widgets/controls",
      "model_module_version": "2.0.0",
      "model_name": "ProgressStyleModel",
      "state": {
       "description_width": ""
      }
     },
     "4dc7336ce7504185b6a6549586c72b66": {
      "model_module": "@jupyter-widgets/controls",
      "model_module_version": "2.0.0",
      "model_name": "HTMLModel",
      "state": {
       "layout": "IPY_MODEL_15513c76dac5427d81a221dc059e1984",
       "style": "IPY_MODEL_5820de8c742647569192d17852f4e8ce",
       "value": " 2/2 [00:00&lt;00:00, 217.10it/s]"
      }
     },
     "4e2a93be8bb34be391b648519b5d314f": {
      "model_module": "@jupyter-widgets/controls",
      "model_module_version": "2.0.0",
      "model_name": "HTMLStyleModel",
      "state": {
       "description_width": "",
       "font_size": null,
       "text_color": null
      }
     },
     "4e2aa552bff3453f9e752836f6ea2410": {
      "model_module": "@jupyter-widgets/controls",
      "model_module_version": "2.0.0",
      "model_name": "ProgressStyleModel",
      "state": {
       "description_width": ""
      }
     },
     "4e41feeb7123424a9111cba1ad7dcf60": {
      "model_module": "@jupyter-widgets/controls",
      "model_module_version": "2.0.0",
      "model_name": "HTMLStyleModel",
      "state": {
       "description_width": "",
       "font_size": null,
       "text_color": null
      }
     },
     "4e792fa596a14303a321caf78a30bac5": {
      "model_module": "@jupyter-widgets/base",
      "model_module_version": "2.0.0",
      "model_name": "LayoutModel",
      "state": {
       "display": "inline-flex",
       "flex_flow": "row wrap",
       "visibility": "hidden",
       "width": "100%"
      }
     },
     "4e7fab3d2abf4767becad6b7aa3bb690": {
      "model_module": "@jupyter-widgets/controls",
      "model_module_version": "2.0.0",
      "model_name": "HTMLStyleModel",
      "state": {
       "description_width": "",
       "font_size": null,
       "text_color": null
      }
     },
     "4ec28364344e49158f7c4971e5d45122": {
      "model_module": "@jupyter-widgets/base",
      "model_module_version": "2.0.0",
      "model_name": "LayoutModel",
      "state": {}
     },
     "4f2b2afd542a4b25b57927ad6c550ddc": {
      "model_module": "@jupyter-widgets/controls",
      "model_module_version": "2.0.0",
      "model_name": "FloatProgressModel",
      "state": {
       "layout": "IPY_MODEL_8b907d0ebfc44f67ab5a88b4b1632be9",
       "max": 25,
       "style": "IPY_MODEL_7d3c1107bbb1487a8d5d4a84d2bd836c",
       "value": 25
      }
     },
     "4fea8df9912142b1a924fa1b2a7795ff": {
      "model_module": "@jupyter-widgets/controls",
      "model_module_version": "2.0.0",
      "model_name": "ProgressStyleModel",
      "state": {
       "description_width": ""
      }
     },
     "4ff931cc6daa423189903e8f8e165a8e": {
      "model_module": "@jupyter-widgets/base",
      "model_module_version": "2.0.0",
      "model_name": "LayoutModel",
      "state": {}
     },
     "508ee35ef67c4b989a83eef991d29035": {
      "model_module": "@jupyter-widgets/base",
      "model_module_version": "2.0.0",
      "model_name": "LayoutModel",
      "state": {}
     },
     "50e5871015054dd393b02fd282d60a2e": {
      "model_module": "@jupyter-widgets/controls",
      "model_module_version": "2.0.0",
      "model_name": "ProgressStyleModel",
      "state": {
       "description_width": ""
      }
     },
     "50fac53c204c4f679ef845fe65ed7f7e": {
      "model_module": "@jupyter-widgets/controls",
      "model_module_version": "2.0.0",
      "model_name": "ProgressStyleModel",
      "state": {
       "description_width": ""
      }
     },
     "51280e7aafb6409aa87934ce5169e541": {
      "model_module": "@jupyter-widgets/controls",
      "model_module_version": "2.0.0",
      "model_name": "HTMLModel",
      "state": {
       "layout": "IPY_MODEL_dfee7b0984b04e05bb14ed49a0edd9b1",
       "style": "IPY_MODEL_a6810448ecf540ee8d2ea8f84985391f",
       "value": "Validation DataLoader 0: 100%"
      }
     },
     "5179f6258b534e10b874e5c7f9475036": {
      "model_module": "@jupyter-widgets/controls",
      "model_module_version": "2.0.0",
      "model_name": "FloatProgressModel",
      "state": {
       "layout": "IPY_MODEL_327fbe6dbdbb45889206f0a6a4a2d3b5",
       "max": 25,
       "style": "IPY_MODEL_47bacd27cd3d461794cfa116edab7b51",
       "value": 25
      }
     },
     "5191c426999f4a41bbabe9837ca82e3a": {
      "model_module": "@jupyter-widgets/controls",
      "model_module_version": "2.0.0",
      "model_name": "ProgressStyleModel",
      "state": {
       "description_width": ""
      }
     },
     "51d71fc601674fa0b6a6332f4b981c82": {
      "model_module": "@jupyter-widgets/base",
      "model_module_version": "2.0.0",
      "model_name": "LayoutModel",
      "state": {}
     },
     "522ac6fd5b1c4629996c96d307fcb970": {
      "model_module": "@jupyter-widgets/base",
      "model_module_version": "2.0.0",
      "model_name": "LayoutModel",
      "state": {}
     },
     "524e4bd3053247e2854cdf28fe0260fe": {
      "model_module": "@jupyter-widgets/controls",
      "model_module_version": "2.0.0",
      "model_name": "FloatProgressModel",
      "state": {
       "layout": "IPY_MODEL_f9febda8686c4ed0be1c96dc5a1c15e3",
       "max": 25,
       "style": "IPY_MODEL_46d980cbfaf1438b9b688d49f1778536",
       "value": 25
      }
     },
     "524eb62655644a8fb760fc3a0ae0be49": {
      "model_module": "@jupyter-widgets/controls",
      "model_module_version": "2.0.0",
      "model_name": "HTMLStyleModel",
      "state": {
       "description_width": "",
       "font_size": null,
       "text_color": null
      }
     },
     "536acad9fac64d8991a625d286a6fcc2": {
      "model_module": "@jupyter-widgets/base",
      "model_module_version": "2.0.0",
      "model_name": "LayoutModel",
      "state": {
       "flex": "2"
      }
     },
     "54b22088e5e040bc90ffc0b765c38158": {
      "model_module": "@jupyter-widgets/controls",
      "model_module_version": "2.0.0",
      "model_name": "HTMLStyleModel",
      "state": {
       "description_width": "",
       "font_size": null,
       "text_color": null
      }
     },
     "54ea5769f67e4aada7b4134d436b68a9": {
      "model_module": "@jupyter-widgets/base",
      "model_module_version": "2.0.0",
      "model_name": "LayoutModel",
      "state": {
       "display": "inline-flex",
       "flex_flow": "row wrap",
       "visibility": "hidden",
       "width": "100%"
      }
     },
     "5512c3615baf4aa0bc54e7445a685c34": {
      "model_module": "@jupyter-widgets/base",
      "model_module_version": "2.0.0",
      "model_name": "LayoutModel",
      "state": {
       "display": "inline-flex",
       "flex_flow": "row wrap",
       "visibility": "hidden",
       "width": "100%"
      }
     },
     "5572a6913fc84a21b676b2dd5e8786b8": {
      "model_module": "@jupyter-widgets/controls",
      "model_module_version": "2.0.0",
      "model_name": "HTMLModel",
      "state": {
       "layout": "IPY_MODEL_15cc806b301a482ba82d6943f0de66c8",
       "style": "IPY_MODEL_b3e6a9c97b16424f890b31e2e5066e26",
       "value": "Validation DataLoader 0: 100%"
      }
     },
     "5592236f760940068efc701571d3fceb": {
      "model_module": "@jupyter-widgets/base",
      "model_module_version": "2.0.0",
      "model_name": "LayoutModel",
      "state": {}
     },
     "55b4aabb73e5460ebd81aaacf2581bfe": {
      "model_module": "@jupyter-widgets/controls",
      "model_module_version": "2.0.0",
      "model_name": "HTMLStyleModel",
      "state": {
       "description_width": "",
       "font_size": null,
       "text_color": null
      }
     },
     "55ca8ae5ed434d89bf114784aee441cb": {
      "model_module": "@jupyter-widgets/controls",
      "model_module_version": "2.0.0",
      "model_name": "HTMLStyleModel",
      "state": {
       "description_width": "",
       "font_size": null,
       "text_color": null
      }
     },
     "55e0cee419d443e8b3a681b301f3e34e": {
      "model_module": "@jupyter-widgets/controls",
      "model_module_version": "2.0.0",
      "model_name": "HTMLStyleModel",
      "state": {
       "description_width": "",
       "font_size": null,
       "text_color": null
      }
     },
     "561be7b4c6144ea381064edbc18bc215": {
      "model_module": "@jupyter-widgets/base",
      "model_module_version": "2.0.0",
      "model_name": "LayoutModel",
      "state": {
       "flex": "2"
      }
     },
     "564272c5c55744a899170cf1dcb755c0": {
      "model_module": "@jupyter-widgets/base",
      "model_module_version": "2.0.0",
      "model_name": "LayoutModel",
      "state": {
       "flex": "2"
      }
     },
     "572108786cbd4aa4821e57ba16ce7031": {
      "model_module": "@jupyter-widgets/base",
      "model_module_version": "2.0.0",
      "model_name": "LayoutModel",
      "state": {
       "flex": "2"
      }
     },
     "5757c76df46449aa974a7d122aec9151": {
      "model_module": "@jupyter-widgets/base",
      "model_module_version": "2.0.0",
      "model_name": "LayoutModel",
      "state": {}
     },
     "57589f83b0484b7883234a4992b211b5": {
      "model_module": "@jupyter-widgets/base",
      "model_module_version": "2.0.0",
      "model_name": "LayoutModel",
      "state": {
       "flex": "2"
      }
     },
     "5766af903dc24f949ab83392324d3dc7": {
      "model_module": "@jupyter-widgets/controls",
      "model_module_version": "2.0.0",
      "model_name": "ProgressStyleModel",
      "state": {
       "description_width": ""
      }
     },
     "579cdfe6f4b548fdae10dc64e06b03bb": {
      "model_module": "@jupyter-widgets/controls",
      "model_module_version": "2.0.0",
      "model_name": "HTMLModel",
      "state": {
       "layout": "IPY_MODEL_1177f29e753e4380b95047976cd3d1a9",
       "style": "IPY_MODEL_e318aa69831e484ab40eda3fc7d2d3f6",
       "value": " 100/100 [00:00&lt;00:00, 135.53it/s, v_num=13622, train_loss=0.000145, val_loss=0.0029, val_acc=0.999]"
      }
     },
     "57cae021b3ae47f89b94092b330712ae": {
      "model_module": "@jupyter-widgets/base",
      "model_module_version": "2.0.0",
      "model_name": "LayoutModel",
      "state": {
       "flex": "2"
      }
     },
     "57e84fb55c144d7597079e5733fe89d0": {
      "model_module": "@jupyter-widgets/base",
      "model_module_version": "2.0.0",
      "model_name": "LayoutModel",
      "state": {
       "display": "inline-flex",
       "flex_flow": "row wrap",
       "width": "100%"
      }
     },
     "580c0e0420774facaa62e2c3a0871257": {
      "model_module": "@jupyter-widgets/base",
      "model_module_version": "2.0.0",
      "model_name": "LayoutModel",
      "state": {
       "display": "inline-flex",
       "flex_flow": "row wrap",
       "visibility": "hidden",
       "width": "100%"
      }
     },
     "5820de8c742647569192d17852f4e8ce": {
      "model_module": "@jupyter-widgets/controls",
      "model_module_version": "2.0.0",
      "model_name": "HTMLStyleModel",
      "state": {
       "description_width": "",
       "font_size": null,
       "text_color": null
      }
     },
     "5829e7a7138e401ab5b1d21d62c9c721": {
      "model_module": "@jupyter-widgets/controls",
      "model_module_version": "2.0.0",
      "model_name": "HTMLStyleModel",
      "state": {
       "description_width": "",
       "font_size": null,
       "text_color": null
      }
     },
     "584501bfdb6d46f1833ec786f830a34f": {
      "model_module": "@jupyter-widgets/controls",
      "model_module_version": "2.0.0",
      "model_name": "ProgressStyleModel",
      "state": {
       "description_width": ""
      }
     },
     "588f5dd6db854751b5ec29426121dc7c": {
      "model_module": "@jupyter-widgets/base",
      "model_module_version": "2.0.0",
      "model_name": "LayoutModel",
      "state": {}
     },
     "58cd321c74d24681b70d8d70867e2e40": {
      "model_module": "@jupyter-widgets/controls",
      "model_module_version": "2.0.0",
      "model_name": "ProgressStyleModel",
      "state": {
       "description_width": ""
      }
     },
     "590a2a766e8b4b3aba85bad4fe90cbbe": {
      "model_module": "@jupyter-widgets/base",
      "model_module_version": "2.0.0",
      "model_name": "LayoutModel",
      "state": {
       "flex": "2"
      }
     },
     "5924be818aa94ad3becb2daf267e75d0": {
      "model_module": "@jupyter-widgets/base",
      "model_module_version": "2.0.0",
      "model_name": "LayoutModel",
      "state": {
       "display": "inline-flex",
       "flex_flow": "row wrap",
       "visibility": "hidden",
       "width": "100%"
      }
     },
     "5928e8fef9ff41b5afca3391b3b5636e": {
      "model_module": "@jupyter-widgets/base",
      "model_module_version": "2.0.0",
      "model_name": "LayoutModel",
      "state": {
       "flex": "2"
      }
     },
     "599cdb80a0704b23b052f7f3597984a2": {
      "model_module": "@jupyter-widgets/base",
      "model_module_version": "2.0.0",
      "model_name": "LayoutModel",
      "state": {}
     },
     "59a57b4839dc46a9939070a3842e5775": {
      "model_module": "@jupyter-widgets/controls",
      "model_module_version": "2.0.0",
      "model_name": "ProgressStyleModel",
      "state": {
       "description_width": ""
      }
     },
     "5a2024f02ce84d2eb2d9d21131093b86": {
      "model_module": "@jupyter-widgets/controls",
      "model_module_version": "2.0.0",
      "model_name": "HTMLModel",
      "state": {
       "layout": "IPY_MODEL_7c562cbdc32c42359c41fcdb22668bb9",
       "style": "IPY_MODEL_374a8f4c16974be78180171a88275060",
       "value": " 25/25 [00:00&lt;00:00, 273.95it/s]"
      }
     },
     "5a96810e49f14112b0d184a76939231e": {
      "model_module": "@jupyter-widgets/controls",
      "model_module_version": "2.0.0",
      "model_name": "HTMLStyleModel",
      "state": {
       "description_width": "",
       "font_size": null,
       "text_color": null
      }
     },
     "5ab4b6e1e15445778044e8b5572aeab4": {
      "model_module": "@jupyter-widgets/base",
      "model_module_version": "2.0.0",
      "model_name": "LayoutModel",
      "state": {
       "flex": "2"
      }
     },
     "5b016eacaf014429b16cb9c116e8236c": {
      "model_module": "@jupyter-widgets/base",
      "model_module_version": "2.0.0",
      "model_name": "LayoutModel",
      "state": {}
     },
     "5b2cc7b35ae340fcb226f37e2ee274c6": {
      "model_module": "@jupyter-widgets/base",
      "model_module_version": "2.0.0",
      "model_name": "LayoutModel",
      "state": {}
     },
     "5bdb2a4910224bad92cead917ab6072e": {
      "model_module": "@jupyter-widgets/controls",
      "model_module_version": "2.0.0",
      "model_name": "HTMLStyleModel",
      "state": {
       "description_width": "",
       "font_size": null,
       "text_color": null
      }
     },
     "5bf698bc31044b46b009b31567dfca66": {
      "model_module": "@jupyter-widgets/controls",
      "model_module_version": "2.0.0",
      "model_name": "HTMLModel",
      "state": {
       "layout": "IPY_MODEL_132f36a540d04c819e3aae71d9629e5c",
       "style": "IPY_MODEL_72303e8968544a228caa0215ecdea52f",
       "value": "Validation DataLoader 0: 100%"
      }
     },
     "5c0b6d434efc4b8e88da131618ed3900": {
      "model_module": "@jupyter-widgets/controls",
      "model_module_version": "2.0.0",
      "model_name": "HTMLModel",
      "state": {
       "layout": "IPY_MODEL_cb0e838ed1094f58af35203e1c2469c1",
       "style": "IPY_MODEL_438b5400ab9a45dd813d821c0bf06c5c",
       "value": " 25/25 [00:00&lt;00:00, 272.94it/s]"
      }
     },
     "5c0fdfa5ef29461e9eb0befedf983aad": {
      "model_module": "@jupyter-widgets/controls",
      "model_module_version": "2.0.0",
      "model_name": "FloatProgressModel",
      "state": {
       "layout": "IPY_MODEL_ae303373dc0c4166801eac2fc3501f48",
       "max": 25,
       "style": "IPY_MODEL_b67c20afaca5491ea9feb9423282141d",
       "value": 25
      }
     },
     "5c27c90edf164af898a71e3224496349": {
      "model_module": "@jupyter-widgets/base",
      "model_module_version": "2.0.0",
      "model_name": "LayoutModel",
      "state": {
       "display": "inline-flex",
       "flex_flow": "row wrap",
       "visibility": "hidden",
       "width": "100%"
      }
     },
     "5c771b2f894e4a02a41dab10909cef00": {
      "model_module": "@jupyter-widgets/base",
      "model_module_version": "2.0.0",
      "model_name": "LayoutModel",
      "state": {
       "flex": "2"
      }
     },
     "5c7ce08d5d31475791774b326b538949": {
      "model_module": "@jupyter-widgets/base",
      "model_module_version": "2.0.0",
      "model_name": "LayoutModel",
      "state": {
       "display": "inline-flex",
       "flex_flow": "row wrap",
       "visibility": "hidden",
       "width": "100%"
      }
     },
     "5cb3613d276b4215ab3d1d59781a8839": {
      "model_module": "@jupyter-widgets/controls",
      "model_module_version": "2.0.0",
      "model_name": "HTMLStyleModel",
      "state": {
       "description_width": "",
       "font_size": null,
       "text_color": null
      }
     },
     "5d1051ef12434e609c2f7e7ec6c1639d": {
      "model_module": "@jupyter-widgets/controls",
      "model_module_version": "2.0.0",
      "model_name": "HTMLModel",
      "state": {
       "layout": "IPY_MODEL_7e33f6543ad54e3eacfc4650d2ec9548",
       "style": "IPY_MODEL_c92ad9c869c74b0fb8f9a717f6ed43d2",
       "value": " 25/25 [00:00&lt;00:00, 267.92it/s]"
      }
     },
     "5d2ecd89190543379cfe6cb865034661": {
      "model_module": "@jupyter-widgets/controls",
      "model_module_version": "2.0.0",
      "model_name": "HTMLModel",
      "state": {
       "layout": "IPY_MODEL_c0c641e1ec4e4d0ba449b92700ad321b",
       "style": "IPY_MODEL_e1f8356a4ea64c2c807c7d1cdbf164c3",
       "value": "Validation DataLoader 0: 100%"
      }
     },
     "5d7e3d601d904d57af2802f147020167": {
      "model_module": "@jupyter-widgets/controls",
      "model_module_version": "2.0.0",
      "model_name": "HBoxModel",
      "state": {
       "children": [
        "IPY_MODEL_e85c8fb6f21943dfaf10399ddab37b92",
        "IPY_MODEL_4a47c10229f34aafb88823ad43be8895",
        "IPY_MODEL_9e9d0ceda2954f34a1546b70bc23b146"
       ],
       "layout": "IPY_MODEL_8d846dcddd4248d49597b5f0ee43cff7"
      }
     },
     "5de6dac738e945a6b76afb89bb0a67b3": {
      "model_module": "@jupyter-widgets/base",
      "model_module_version": "2.0.0",
      "model_name": "LayoutModel",
      "state": {}
     },
     "5e36bf3f41ea4987ad7c432dad464eab": {
      "model_module": "@jupyter-widgets/base",
      "model_module_version": "2.0.0",
      "model_name": "LayoutModel",
      "state": {}
     },
     "5ea7bfd4544d499ea0efc49806c47ce9": {
      "model_module": "@jupyter-widgets/controls",
      "model_module_version": "2.0.0",
      "model_name": "FloatProgressModel",
      "state": {
       "layout": "IPY_MODEL_d5fae573a36d45b7bb2256420ce11ca3",
       "max": 25,
       "style": "IPY_MODEL_e853fca28a1a4b44894818bfade6da03",
       "value": 25
      }
     },
     "5eb8f23d011e4fb6b13a07c5bf6a10a0": {
      "model_module": "@jupyter-widgets/controls",
      "model_module_version": "2.0.0",
      "model_name": "FloatProgressModel",
      "state": {
       "layout": "IPY_MODEL_02dfcba533a543efbeb55ce37878a481",
       "max": 25,
       "style": "IPY_MODEL_23558a70c8454f5ca39f7d88ef2fbaad",
       "value": 25
      }
     },
     "5ed2997718b147a88be4ede8f183fda7": {
      "model_module": "@jupyter-widgets/controls",
      "model_module_version": "2.0.0",
      "model_name": "HTMLModel",
      "state": {
       "layout": "IPY_MODEL_ee3c61019d234ad18341eeb03ce6de24",
       "style": "IPY_MODEL_83a0a31af9df4058a669642b7582e10d",
       "value": " 25/25 [00:00&lt;00:00, 269.63it/s]"
      }
     },
     "5f4057f325504e3982deb5e82d16ef2b": {
      "model_module": "@jupyter-widgets/controls",
      "model_module_version": "2.0.0",
      "model_name": "HTMLStyleModel",
      "state": {
       "description_width": "",
       "font_size": null,
       "text_color": null
      }
     },
     "5f467d303f8447e58dbb79555d51129f": {
      "model_module": "@jupyter-widgets/base",
      "model_module_version": "2.0.0",
      "model_name": "LayoutModel",
      "state": {
       "flex": "2"
      }
     },
     "5f5367ecff6b4900adbf7fa3259a54b3": {
      "model_module": "@jupyter-widgets/base",
      "model_module_version": "2.0.0",
      "model_name": "LayoutModel",
      "state": {
       "display": "inline-flex",
       "flex_flow": "row wrap",
       "visibility": "hidden",
       "width": "100%"
      }
     },
     "5f7c65840739436aa8c235558032c286": {
      "model_module": "@jupyter-widgets/controls",
      "model_module_version": "2.0.0",
      "model_name": "HTMLModel",
      "state": {
       "layout": "IPY_MODEL_508ee35ef67c4b989a83eef991d29035",
       "style": "IPY_MODEL_d57bd2fc043848039b39d28ad1376939",
       "value": "Validation DataLoader 0: 100%"
      }
     },
     "5fa3fcbb8ac54ff9b32ea683fb9e2843": {
      "model_module": "@jupyter-widgets/controls",
      "model_module_version": "2.0.0",
      "model_name": "FloatProgressModel",
      "state": {
       "layout": "IPY_MODEL_5c771b2f894e4a02a41dab10909cef00",
       "max": 25,
       "style": "IPY_MODEL_60cb8fc5046e444d938d119b5b7d5d4e",
       "value": 25
      }
     },
     "60cb8fc5046e444d938d119b5b7d5d4e": {
      "model_module": "@jupyter-widgets/controls",
      "model_module_version": "2.0.0",
      "model_name": "ProgressStyleModel",
      "state": {
       "description_width": ""
      }
     },
     "60eb4648a7e5460187cf7ee2b241b44f": {
      "model_module": "@jupyter-widgets/controls",
      "model_module_version": "2.0.0",
      "model_name": "HTMLStyleModel",
      "state": {
       "description_width": "",
       "font_size": null,
       "text_color": null
      }
     },
     "6104bdb391dc4ecc9aec235aac2bec4e": {
      "model_module": "@jupyter-widgets/controls",
      "model_module_version": "2.0.0",
      "model_name": "HTMLModel",
      "state": {
       "layout": "IPY_MODEL_13c38c27ccfb44c9addd1feb96689b15",
       "style": "IPY_MODEL_0555252eb9c64555acb2a686f2af4439",
       "value": " 100/100 [00:00&lt;00:00, 142.65it/s, v_num=13622, train_loss=0.000129, val_loss=0.00584, val_acc=0.999]"
      }
     },
     "6152bbcc995f4281a7ded4e8f3dfe6b4": {
      "model_module": "@jupyter-widgets/base",
      "model_module_version": "2.0.0",
      "model_name": "LayoutModel",
      "state": {}
     },
     "621f1f7265494af1baf009821e29c4c3": {
      "model_module": "@jupyter-widgets/controls",
      "model_module_version": "2.0.0",
      "model_name": "HTMLStyleModel",
      "state": {
       "description_width": "",
       "font_size": null,
       "text_color": null
      }
     },
     "62ee15e85e4b4231998ebdf0b3bc9a05": {
      "model_module": "@jupyter-widgets/controls",
      "model_module_version": "2.0.0",
      "model_name": "FloatProgressModel",
      "state": {
       "layout": "IPY_MODEL_7a027515ffcb414d9244f0dca3a06599",
       "max": 25,
       "style": "IPY_MODEL_7a689debe77949c8ab3302b561b5165e",
       "value": 25
      }
     },
     "631d65ff171e493197a0760d9b7db8ab": {
      "model_module": "@jupyter-widgets/controls",
      "model_module_version": "2.0.0",
      "model_name": "HTMLModel",
      "state": {
       "layout": "IPY_MODEL_0e9224471c41483397282dfe6577e407",
       "style": "IPY_MODEL_be97100083554fdd9ff9ac80873ff7d2",
       "value": " 25/25 [00:00&lt;00:00, 286.87it/s]"
      }
     },
     "632cb08126fa4307af39d5cb12b902bb": {
      "model_module": "@jupyter-widgets/controls",
      "model_module_version": "2.0.0",
      "model_name": "HTMLModel",
      "state": {
       "layout": "IPY_MODEL_824cac0c33ea430ba582601209bd8c59",
       "style": "IPY_MODEL_04f5d76aae6c49b491645d89fba40276",
       "value": "Validation DataLoader 0: 100%"
      }
     },
     "634b1634f4684d968ab56760cd6005d7": {
      "model_module": "@jupyter-widgets/controls",
      "model_module_version": "2.0.0",
      "model_name": "ProgressStyleModel",
      "state": {
       "description_width": ""
      }
     },
     "63616b43e7354c92ac39f7f55eec5141": {
      "model_module": "@jupyter-widgets/controls",
      "model_module_version": "2.0.0",
      "model_name": "FloatProgressModel",
      "state": {
       "layout": "IPY_MODEL_919c731936b840f58cc188ad52de8a3e",
       "max": 25,
       "style": "IPY_MODEL_9d3b3607f9774fbd96bd77fb45167232",
       "value": 25
      }
     },
     "63d4cf168572414688085d5bc29a77f3": {
      "model_module": "@jupyter-widgets/controls",
      "model_module_version": "2.0.0",
      "model_name": "HTMLModel",
      "state": {
       "layout": "IPY_MODEL_647c2d70040e42f2a10c689453caa907",
       "style": "IPY_MODEL_b394d308af40464faf0d3b426db190b9",
       "value": "Validation DataLoader 0: 100%"
      }
     },
     "647c2d70040e42f2a10c689453caa907": {
      "model_module": "@jupyter-widgets/base",
      "model_module_version": "2.0.0",
      "model_name": "LayoutModel",
      "state": {}
     },
     "656f5c0b93ad4383b09fc8fcbdab133f": {
      "model_module": "@jupyter-widgets/controls",
      "model_module_version": "2.0.0",
      "model_name": "FloatProgressModel",
      "state": {
       "layout": "IPY_MODEL_590a2a766e8b4b3aba85bad4fe90cbbe",
       "max": 25,
       "style": "IPY_MODEL_4e2aa552bff3453f9e752836f6ea2410",
       "value": 25
      }
     },
     "65b0e04212bd41939884499d1eb30242": {
      "model_module": "@jupyter-widgets/controls",
      "model_module_version": "2.0.0",
      "model_name": "HTMLStyleModel",
      "state": {
       "description_width": "",
       "font_size": null,
       "text_color": null
      }
     },
     "65dcc4b887dc419da9cc02e8ae82ce25": {
      "model_module": "@jupyter-widgets/base",
      "model_module_version": "2.0.0",
      "model_name": "LayoutModel",
      "state": {
       "display": "inline-flex",
       "flex_flow": "row wrap",
       "visibility": "hidden",
       "width": "100%"
      }
     },
     "663da327303345b8a9f11bb24c3b8a2b": {
      "model_module": "@jupyter-widgets/controls",
      "model_module_version": "2.0.0",
      "model_name": "HTMLStyleModel",
      "state": {
       "description_width": "",
       "font_size": null,
       "text_color": null
      }
     },
     "665686622d41450686fb69ff62aa55c4": {
      "model_module": "@jupyter-widgets/base",
      "model_module_version": "2.0.0",
      "model_name": "LayoutModel",
      "state": {
       "display": "inline-flex",
       "flex_flow": "row wrap",
       "visibility": "hidden",
       "width": "100%"
      }
     },
     "669612f0b2ae4aa58a1b873633732d78": {
      "model_module": "@jupyter-widgets/controls",
      "model_module_version": "2.0.0",
      "model_name": "HTMLStyleModel",
      "state": {
       "description_width": "",
       "font_size": null,
       "text_color": null
      }
     },
     "6696bec2a4d54ec0b2f59a6ea92e66c6": {
      "model_module": "@jupyter-widgets/base",
      "model_module_version": "2.0.0",
      "model_name": "LayoutModel",
      "state": {
       "display": "inline-flex",
       "flex_flow": "row wrap",
       "visibility": "hidden",
       "width": "100%"
      }
     },
     "6768047b39bd48d49fa3f89ad6aef655": {
      "model_module": "@jupyter-widgets/controls",
      "model_module_version": "2.0.0",
      "model_name": "HTMLModel",
      "state": {
       "layout": "IPY_MODEL_c3b8358ce98c45028096dd3d1c3875c3",
       "style": "IPY_MODEL_3bcfdf90383b46fba160f0334299ff7d",
       "value": "Epoch 15: 100%"
      }
     },
     "678788354e584793b3022bb474302a32": {
      "model_module": "@jupyter-widgets/base",
      "model_module_version": "2.0.0",
      "model_name": "LayoutModel",
      "state": {}
     },
     "67b8aa0369fa428784d5b005f47f8e0b": {
      "model_module": "@jupyter-widgets/base",
      "model_module_version": "2.0.0",
      "model_name": "LayoutModel",
      "state": {}
     },
     "67c573f4c81d4721ac5c97b125eb88ba": {
      "model_module": "@jupyter-widgets/controls",
      "model_module_version": "2.0.0",
      "model_name": "HTMLStyleModel",
      "state": {
       "description_width": "",
       "font_size": null,
       "text_color": null
      }
     },
     "680342c963434030b2ac82ba7cf317b2": {
      "model_module": "@jupyter-widgets/controls",
      "model_module_version": "2.0.0",
      "model_name": "ProgressStyleModel",
      "state": {
       "description_width": ""
      }
     },
     "68a5bba9676642d3b9dd7d4f97eb78e8": {
      "model_module": "@jupyter-widgets/controls",
      "model_module_version": "2.0.0",
      "model_name": "HTMLModel",
      "state": {
       "layout": "IPY_MODEL_46339d5a714d47c490e30b8d91102684",
       "style": "IPY_MODEL_6a39fae002c14e749e17daff9113a24d",
       "value": " 25/25 [00:00&lt;00:00, 258.49it/s]"
      }
     },
     "68b5ec076f3d46b3ab5c148c2d696a3a": {
      "model_module": "@jupyter-widgets/base",
      "model_module_version": "2.0.0",
      "model_name": "LayoutModel",
      "state": {}
     },
     "68cfb3ffadc941259d88d79fc15c94c1": {
      "model_module": "@jupyter-widgets/controls",
      "model_module_version": "2.0.0",
      "model_name": "HTMLModel",
      "state": {
       "layout": "IPY_MODEL_a200981c7f4549f08bb7ca088cebc095",
       "style": "IPY_MODEL_e89b5d2aa3874589a2d92744e2bf515f",
       "value": " 25/25 [00:00&lt;00:00, 276.26it/s]"
      }
     },
     "6938e0fb6b2a4019a6d3604db79f831c": {
      "model_module": "@jupyter-widgets/controls",
      "model_module_version": "2.0.0",
      "model_name": "HTMLModel",
      "state": {
       "layout": "IPY_MODEL_5592236f760940068efc701571d3fceb",
       "style": "IPY_MODEL_8faa043602984086869ffe57b13b0272",
       "value": " 25/25 [00:00&lt;00:00, 276.00it/s]"
      }
     },
     "69d97cea87b842f985499845ba9e8482": {
      "model_module": "@jupyter-widgets/controls",
      "model_module_version": "2.0.0",
      "model_name": "FloatProgressModel",
      "state": {
       "bar_style": "success",
       "layout": "IPY_MODEL_c810b9ea5589417a8856a8d7cf7d8907",
       "max": 63,
       "style": "IPY_MODEL_8a28fdbdaec6452fb8cf4f52f31904d4",
       "value": 63
      }
     },
     "69e53c3e57d9475cbb54c6c1d6cb65bd": {
      "model_module": "@jupyter-widgets/base",
      "model_module_version": "2.0.0",
      "model_name": "LayoutModel",
      "state": {
       "flex": "2"
      }
     },
     "6a39fae002c14e749e17daff9113a24d": {
      "model_module": "@jupyter-widgets/controls",
      "model_module_version": "2.0.0",
      "model_name": "HTMLStyleModel",
      "state": {
       "description_width": "",
       "font_size": null,
       "text_color": null
      }
     },
     "6b1876d1cd154c5b9e121cf88ab07c2c": {
      "model_module": "@jupyter-widgets/controls",
      "model_module_version": "2.0.0",
      "model_name": "HTMLModel",
      "state": {
       "layout": "IPY_MODEL_7c001d5a36a248168950d0aaa413f4fe",
       "style": "IPY_MODEL_0fca18b2e4e94f2093ddd3c6e4737021",
       "value": " 25/25 [00:00&lt;00:00, 283.91it/s]"
      }
     },
     "6b2b4f0502e74d229c5fcb2691621156": {
      "model_module": "@jupyter-widgets/controls",
      "model_module_version": "2.0.0",
      "model_name": "FloatProgressModel",
      "state": {
       "layout": "IPY_MODEL_f3d7f925620b4a0bb6399c0b0dd7b76a",
       "max": 2,
       "style": "IPY_MODEL_44e129d4aa434a00a10a4aa7a3ca9563",
       "value": 2
      }
     },
     "6b536db33ec344c79473754b7fc41cef": {
      "model_module": "@jupyter-widgets/base",
      "model_module_version": "2.0.0",
      "model_name": "LayoutModel",
      "state": {}
     },
     "6b55668d649043f0b7bc020d66cefc6c": {
      "model_module": "@jupyter-widgets/controls",
      "model_module_version": "2.0.0",
      "model_name": "HTMLModel",
      "state": {
       "layout": "IPY_MODEL_f12aff2d48764c09837979c0faa3001f",
       "style": "IPY_MODEL_afaa9f23c347403da01f1fa46c42b8b1",
       "value": "Validation DataLoader 0: 100%"
      }
     },
     "6ba106be615141c4a737f2622ed51c66": {
      "model_module": "@jupyter-widgets/base",
      "model_module_version": "2.0.0",
      "model_name": "LayoutModel",
      "state": {
       "flex": "2"
      }
     },
     "6be5145e2bd64949883474fb1bd558da": {
      "model_module": "@jupyter-widgets/controls",
      "model_module_version": "2.0.0",
      "model_name": "HTMLModel",
      "state": {
       "layout": "IPY_MODEL_bc481e92aa7540c7bd657fadf79789a3",
       "style": "IPY_MODEL_f1c0054c5f2b418b9a75542c611fc306",
       "value": "Sanity Checking DataLoader 0: 100%"
      }
     },
     "6cb5eb11d5104439a92f13c184aa703c": {
      "model_module": "@jupyter-widgets/base",
      "model_module_version": "2.0.0",
      "model_name": "LayoutModel",
      "state": {}
     },
     "6cc55407d4f942d99a5f6eb5231707e4": {
      "model_module": "@jupyter-widgets/base",
      "model_module_version": "2.0.0",
      "model_name": "LayoutModel",
      "state": {}
     },
     "6ce52d7f25b8401997d735c76419bc6e": {
      "model_module": "@jupyter-widgets/controls",
      "model_module_version": "2.0.0",
      "model_name": "HTMLModel",
      "state": {
       "layout": "IPY_MODEL_c93ef947595742718b53e4174471878c",
       "style": "IPY_MODEL_c854ef5fed864b42aad0bea1e1a2561a",
       "value": "Validation DataLoader 0: 100%"
      }
     },
     "6e18113b040b4dfab4370071ee7fb67f": {
      "model_module": "@jupyter-widgets/base",
      "model_module_version": "2.0.0",
      "model_name": "LayoutModel",
      "state": {
       "flex": "2"
      }
     },
     "6e7f71e44b3641faa94a8a01b0a3482a": {
      "model_module": "@jupyter-widgets/base",
      "model_module_version": "2.0.0",
      "model_name": "LayoutModel",
      "state": {}
     },
     "6e99368bc9e24a628ec91ba7f5d654cd": {
      "model_module": "@jupyter-widgets/controls",
      "model_module_version": "2.0.0",
      "model_name": "HBoxModel",
      "state": {
       "children": [
        "IPY_MODEL_f23f965c9fe240cfb94e5983ae7fc147",
        "IPY_MODEL_8b98c294906b4a9fabe53a4f0753911d",
        "IPY_MODEL_0f710ea681734a6e8bfa2531ea44716e"
       ],
       "layout": "IPY_MODEL_143dc1139c214c7a93e4256ad51760bd"
      }
     },
     "6eaa63e0bf634e26a4895821b6082110": {
      "model_module": "@jupyter-widgets/controls",
      "model_module_version": "2.0.0",
      "model_name": "FloatProgressModel",
      "state": {
       "layout": "IPY_MODEL_5ab4b6e1e15445778044e8b5572aeab4",
       "max": 25,
       "style": "IPY_MODEL_9dc18bbb99d64949a968b8fbebf4e6e1",
       "value": 25
      }
     },
     "6ecf59d907df4b359c7236b06d898f19": {
      "model_module": "@jupyter-widgets/base",
      "model_module_version": "2.0.0",
      "model_name": "LayoutModel",
      "state": {
       "flex": "2"
      }
     },
     "6edc30cd52184751afd6cf32ed3e8e5e": {
      "model_module": "@jupyter-widgets/controls",
      "model_module_version": "2.0.0",
      "model_name": "FloatProgressModel",
      "state": {
       "layout": "IPY_MODEL_0d31c597ea304998b31b1072009c10b4",
       "max": 25,
       "style": "IPY_MODEL_b168cb5922124ff0adf523da70753800",
       "value": 25
      }
     },
     "6f29e107d74349369568a27a57c83bf6": {
      "model_module": "@jupyter-widgets/controls",
      "model_module_version": "2.0.0",
      "model_name": "HTMLModel",
      "state": {
       "layout": "IPY_MODEL_297c3921c2394bbeba441da86c48fb26",
       "style": "IPY_MODEL_dc7bc3347469422da46c4cb89148c25b",
       "value": "Validation DataLoader 0: 100%"
      }
     },
     "6f8efb51450d461fb757ec958ff85770": {
      "model_module": "@jupyter-widgets/base",
      "model_module_version": "2.0.0",
      "model_name": "LayoutModel",
      "state": {
       "display": "inline-flex",
       "flex_flow": "row wrap",
       "visibility": "hidden",
       "width": "100%"
      }
     },
     "6fffe4cf212a40f5a605638c5ffad042": {
      "model_module": "@jupyter-widgets/controls",
      "model_module_version": "2.0.0",
      "model_name": "FloatProgressModel",
      "state": {
       "layout": "IPY_MODEL_561be7b4c6144ea381064edbc18bc215",
       "max": 25,
       "style": "IPY_MODEL_ec43eb6f04f8481591916b3fac4628fb",
       "value": 25
      }
     },
     "7006e88b3f214d77bcbe49ec66192cd6": {
      "model_module": "@jupyter-widgets/base",
      "model_module_version": "2.0.0",
      "model_name": "LayoutModel",
      "state": {
       "display": "inline-flex",
       "flex_flow": "row wrap",
       "visibility": "hidden",
       "width": "100%"
      }
     },
     "7013278c5279410ba9755c56a58bb5d4": {
      "model_module": "@jupyter-widgets/base",
      "model_module_version": "2.0.0",
      "model_name": "LayoutModel",
      "state": {
       "flex": "2"
      }
     },
     "714b3e87794b463c9935ced773ec7141": {
      "model_module": "@jupyter-widgets/base",
      "model_module_version": "2.0.0",
      "model_name": "LayoutModel",
      "state": {
       "display": "inline-flex",
       "flex_flow": "row wrap",
       "visibility": "hidden",
       "width": "100%"
      }
     },
     "714e7c9fbe1b40d5b1d3fa133c834de2": {
      "model_module": "@jupyter-widgets/controls",
      "model_module_version": "2.0.0",
      "model_name": "FloatProgressModel",
      "state": {
       "layout": "IPY_MODEL_32bdb25cb616489b9cdb2639c2353551",
       "max": 25,
       "style": "IPY_MODEL_26ff9942bf6a4b12ab1fa7030efab0e5",
       "value": 25
      }
     },
     "71583ac4354c49c9a7e5ade3c62efc1b": {
      "model_module": "@jupyter-widgets/controls",
      "model_module_version": "2.0.0",
      "model_name": "HTMLStyleModel",
      "state": {
       "description_width": "",
       "font_size": null,
       "text_color": null
      }
     },
     "71846c15874a4b2e8d27787181f5bd0f": {
      "model_module": "@jupyter-widgets/base",
      "model_module_version": "2.0.0",
      "model_name": "LayoutModel",
      "state": {
       "flex": "2"
      }
     },
     "719f87fa62f245a18ecb3387b85bce53": {
      "model_module": "@jupyter-widgets/controls",
      "model_module_version": "2.0.0",
      "model_name": "HTMLStyleModel",
      "state": {
       "description_width": "",
       "font_size": null,
       "text_color": null
      }
     },
     "71a3a43ed3174b4f861782c8e2fc2ab7": {
      "model_module": "@jupyter-widgets/controls",
      "model_module_version": "2.0.0",
      "model_name": "HTMLModel",
      "state": {
       "layout": "IPY_MODEL_07f57ec9f028494aaef2068762eb9b86",
       "style": "IPY_MODEL_67c573f4c81d4721ac5c97b125eb88ba",
       "value": "Validation DataLoader 0: 100%"
      }
     },
     "71be3b0943114f8b9af9f5b9d2f7b117": {
      "model_module": "@jupyter-widgets/controls",
      "model_module_version": "2.0.0",
      "model_name": "HTMLModel",
      "state": {
       "layout": "IPY_MODEL_c780b480b1794a49833b0dff29858fa8",
       "style": "IPY_MODEL_c89b6d5e4dd24621ad458313a9b46e6e",
       "value": " 25/25 [00:00&lt;00:00, 237.78it/s]"
      }
     },
     "72017343428c4ad199be6edea85c875b": {
      "model_module": "@jupyter-widgets/base",
      "model_module_version": "2.0.0",
      "model_name": "LayoutModel",
      "state": {
       "flex": "2"
      }
     },
     "72303e8968544a228caa0215ecdea52f": {
      "model_module": "@jupyter-widgets/controls",
      "model_module_version": "2.0.0",
      "model_name": "HTMLStyleModel",
      "state": {
       "description_width": "",
       "font_size": null,
       "text_color": null
      }
     },
     "7258d9376b9f4c40ac0aee53f365af85": {
      "model_module": "@jupyter-widgets/controls",
      "model_module_version": "2.0.0",
      "model_name": "HTMLStyleModel",
      "state": {
       "description_width": "",
       "font_size": null,
       "text_color": null
      }
     },
     "72a308ff6bee4e1791abe41556045992": {
      "model_module": "@jupyter-widgets/controls",
      "model_module_version": "2.0.0",
      "model_name": "HTMLModel",
      "state": {
       "layout": "IPY_MODEL_678788354e584793b3022bb474302a32",
       "style": "IPY_MODEL_1df334fbe6914c7c8f5643b38d5b6453",
       "value": " 25/25 [00:00&lt;00:00, 253.23it/s]"
      }
     },
     "733b356192d8445fb6fdfeb8c1a2fb2a": {
      "model_module": "@jupyter-widgets/controls",
      "model_module_version": "2.0.0",
      "model_name": "HTMLModel",
      "state": {
       "layout": "IPY_MODEL_90dd8051bb1a4a8fb05b5413b227dbea",
       "style": "IPY_MODEL_2cfeae6ac4ce41829244d228838116ca",
       "value": "Validation DataLoader 0: 100%"
      }
     },
     "7402bd6753ac42e2b23d1b28d27ac381": {
      "model_module": "@jupyter-widgets/base",
      "model_module_version": "2.0.0",
      "model_name": "LayoutModel",
      "state": {}
     },
     "7402c2d428b84280abe5d579b4e56c94": {
      "model_module": "@jupyter-widgets/controls",
      "model_module_version": "2.0.0",
      "model_name": "HTMLStyleModel",
      "state": {
       "description_width": "",
       "font_size": null,
       "text_color": null
      }
     },
     "7414b28ead0242cfabab8fe8f4e7078b": {
      "model_module": "@jupyter-widgets/controls",
      "model_module_version": "2.0.0",
      "model_name": "FloatProgressModel",
      "state": {
       "layout": "IPY_MODEL_358b7b5975a0486b9ae77d8e73699510",
       "max": 2,
       "style": "IPY_MODEL_d259488d649340459f8797c005048eaf",
       "value": 2
      }
     },
     "74333dc5e0364150abe7f0d0a6c7680e": {
      "model_module": "@jupyter-widgets/controls",
      "model_module_version": "2.0.0",
      "model_name": "HTMLStyleModel",
      "state": {
       "description_width": "",
       "font_size": null,
       "text_color": null
      }
     },
     "745e8e0b891446c794772d1a82dab7c3": {
      "model_module": "@jupyter-widgets/controls",
      "model_module_version": "2.0.0",
      "model_name": "HBoxModel",
      "state": {
       "children": [
        "IPY_MODEL_07cabcc63b8642a49e691a61167213d9",
        "IPY_MODEL_98232cc8911942afa18ce042030b7dab",
        "IPY_MODEL_c4a44c8bba464dd78a8ffb4d82d6d6f6"
       ],
       "layout": "IPY_MODEL_85a8b83923a94fb89f5da761dbc1cd23"
      }
     },
     "74d609ba74964cfb938a0c013d648142": {
      "model_module": "@jupyter-widgets/controls",
      "model_module_version": "2.0.0",
      "model_name": "HTMLModel",
      "state": {
       "layout": "IPY_MODEL_24f9cc6bce7b4065b867ec302c52e08d",
       "style": "IPY_MODEL_9ba72085ac654ca4b81efb61df8f6b96",
       "value": "Epoch 17: 100%"
      }
     },
     "74e1c42b5e684c64a1a8a8720ed3bd28": {
      "model_module": "@jupyter-widgets/controls",
      "model_module_version": "2.0.0",
      "model_name": "HTMLStyleModel",
      "state": {
       "description_width": "",
       "font_size": null,
       "text_color": null
      }
     },
     "74e50b6406fd4100b1c5538ab52b1f25": {
      "model_module": "@jupyter-widgets/base",
      "model_module_version": "2.0.0",
      "model_name": "LayoutModel",
      "state": {
       "display": "inline-flex",
       "flex_flow": "row wrap",
       "visibility": "hidden",
       "width": "100%"
      }
     },
     "7515757f15404648a545bcfa2b93b954": {
      "model_module": "@jupyter-widgets/base",
      "model_module_version": "2.0.0",
      "model_name": "LayoutModel",
      "state": {
       "flex": "2"
      }
     },
     "75518870a981412c8f64669579df6f45": {
      "model_module": "@jupyter-widgets/controls",
      "model_module_version": "2.0.0",
      "model_name": "HTMLStyleModel",
      "state": {
       "description_width": "",
       "font_size": null,
       "text_color": null
      }
     },
     "7553f6ed1c4244429bf484859e8dbe3c": {
      "model_module": "@jupyter-widgets/base",
      "model_module_version": "2.0.0",
      "model_name": "LayoutModel",
      "state": {
       "display": "inline-flex",
       "flex_flow": "row wrap",
       "visibility": "hidden",
       "width": "100%"
      }
     },
     "75c15f9637094dc89ab96af39cc7fb31": {
      "model_module": "@jupyter-widgets/controls",
      "model_module_version": "2.0.0",
      "model_name": "HTMLStyleModel",
      "state": {
       "description_width": "",
       "font_size": null,
       "text_color": null
      }
     },
     "76d246551ade418c98dbe89bdfd27f54": {
      "model_module": "@jupyter-widgets/base",
      "model_module_version": "2.0.0",
      "model_name": "LayoutModel",
      "state": {}
     },
     "76ec65542f9e41429865519e09b56b8c": {
      "model_module": "@jupyter-widgets/base",
      "model_module_version": "2.0.0",
      "model_name": "LayoutModel",
      "state": {}
     },
     "771c44f5125f411fb6182df1e02eb61d": {
      "model_module": "@jupyter-widgets/controls",
      "model_module_version": "2.0.0",
      "model_name": "HTMLModel",
      "state": {
       "layout": "IPY_MODEL_4ec28364344e49158f7c4971e5d45122",
       "style": "IPY_MODEL_75518870a981412c8f64669579df6f45",
       "value": "Validation DataLoader 0: 100%"
      }
     },
     "7724e90949b749a9a7ba32c56a41c574": {
      "model_module": "@jupyter-widgets/controls",
      "model_module_version": "2.0.0",
      "model_name": "HTMLStyleModel",
      "state": {
       "description_width": "",
       "font_size": null,
       "text_color": null
      }
     },
     "773178fb2ac34196b65c401ce2af95ed": {
      "model_module": "@jupyter-widgets/controls",
      "model_module_version": "2.0.0",
      "model_name": "ProgressStyleModel",
      "state": {
       "description_width": ""
      }
     },
     "775a3102fb934f38bbdbe15cae2da583": {
      "model_module": "@jupyter-widgets/base",
      "model_module_version": "2.0.0",
      "model_name": "LayoutModel",
      "state": {
       "display": "inline-flex",
       "flex_flow": "row wrap",
       "visibility": "hidden",
       "width": "100%"
      }
     },
     "777a689dbc6a4f0aa1787f36ca2eb939": {
      "model_module": "@jupyter-widgets/controls",
      "model_module_version": "2.0.0",
      "model_name": "ProgressStyleModel",
      "state": {
       "description_width": ""
      }
     },
     "77a8959fcacd4d05b90a818b71a28e84": {
      "model_module": "@jupyter-widgets/controls",
      "model_module_version": "2.0.0",
      "model_name": "ProgressStyleModel",
      "state": {
       "description_width": ""
      }
     },
     "77bc09c0d56c4a759e0cd5c1cd779bda": {
      "model_module": "@jupyter-widgets/controls",
      "model_module_version": "2.0.0",
      "model_name": "HTMLModel",
      "state": {
       "layout": "IPY_MODEL_036573ca500f45fd9e638744c7b79bec",
       "style": "IPY_MODEL_3e5278ec55264737aced0c9397e91629",
       "value": "Validation DataLoader 0: 100%"
      }
     },
     "780d762369e0499eae83ca72d7aa3f0f": {
      "model_module": "@jupyter-widgets/base",
      "model_module_version": "2.0.0",
      "model_name": "LayoutModel",
      "state": {}
     },
     "7862aae951604da4b9c393b4f9f12b37": {
      "model_module": "@jupyter-widgets/controls",
      "model_module_version": "2.0.0",
      "model_name": "HTMLStyleModel",
      "state": {
       "description_width": "",
       "font_size": null,
       "text_color": null
      }
     },
     "78741469d72d404ea436c245e056c75e": {
      "model_module": "@jupyter-widgets/base",
      "model_module_version": "2.0.0",
      "model_name": "LayoutModel",
      "state": {
       "display": "inline-flex",
       "flex_flow": "row wrap",
       "visibility": "hidden",
       "width": "100%"
      }
     },
     "78a89ad9de4845bfb96950fb680bd45c": {
      "model_module": "@jupyter-widgets/controls",
      "model_module_version": "2.0.0",
      "model_name": "HTMLModel",
      "state": {
       "layout": "IPY_MODEL_cf729d59f0284cb1a44704374dd1eda7",
       "style": "IPY_MODEL_cb839d65ab644898935f448904899b6a",
       "value": "Validation DataLoader 0: 100%"
      }
     },
     "79011c591f6748b2aafa7822a1cc42ba": {
      "model_module": "@jupyter-widgets/controls",
      "model_module_version": "2.0.0",
      "model_name": "HTMLModel",
      "state": {
       "layout": "IPY_MODEL_cfbfe5bcf7af4d0b850676033fced06a",
       "style": "IPY_MODEL_01c8041bac044b8f9d418ed735c0db05",
       "value": " 7/25 [00:00&lt;00:00, 215.82it/s]"
      }
     },
     "790ba08c0ca9465a9998ae7e3146c490": {
      "model_module": "@jupyter-widgets/controls",
      "model_module_version": "2.0.0",
      "model_name": "HTMLStyleModel",
      "state": {
       "description_width": "",
       "font_size": null,
       "text_color": null
      }
     },
     "7960fdc83e4643fab4803bd5c4c51efc": {
      "model_module": "@jupyter-widgets/controls",
      "model_module_version": "2.0.0",
      "model_name": "ProgressStyleModel",
      "state": {
       "description_width": ""
      }
     },
     "7975abb0859b4eabaccc13ca714edeca": {
      "model_module": "@jupyter-widgets/base",
      "model_module_version": "2.0.0",
      "model_name": "LayoutModel",
      "state": {}
     },
     "79d56b9d536e40bc883a81667c00b445": {
      "model_module": "@jupyter-widgets/base",
      "model_module_version": "2.0.0",
      "model_name": "LayoutModel",
      "state": {}
     },
     "7a027515ffcb414d9244f0dca3a06599": {
      "model_module": "@jupyter-widgets/base",
      "model_module_version": "2.0.0",
      "model_name": "LayoutModel",
      "state": {
       "flex": "2"
      }
     },
     "7a1eccfe2b3f489ca06b06b68a1e7979": {
      "model_module": "@jupyter-widgets/controls",
      "model_module_version": "2.0.0",
      "model_name": "HTMLModel",
      "state": {
       "layout": "IPY_MODEL_e99917df5952476697b3a9d079d250b0",
       "style": "IPY_MODEL_7862aae951604da4b9c393b4f9f12b37",
       "value": "Validation DataLoader 0: 100%"
      }
     },
     "7a689debe77949c8ab3302b561b5165e": {
      "model_module": "@jupyter-widgets/controls",
      "model_module_version": "2.0.0",
      "model_name": "ProgressStyleModel",
      "state": {
       "description_width": ""
      }
     },
     "7ae9a3673b304dbc977e3f959131cbed": {
      "model_module": "@jupyter-widgets/controls",
      "model_module_version": "2.0.0",
      "model_name": "ProgressStyleModel",
      "state": {
       "description_width": ""
      }
     },
     "7b407a67ab884728a9a0b8c03b4250bc": {
      "model_module": "@jupyter-widgets/controls",
      "model_module_version": "2.0.0",
      "model_name": "HTMLModel",
      "state": {
       "layout": "IPY_MODEL_68b5ec076f3d46b3ab5c148c2d696a3a",
       "style": "IPY_MODEL_deef43accb2f4a9aa8cf42f04418a667",
       "value": "Validation DataLoader 0: 100%"
      }
     },
     "7ba76097dbf24493b5fee9878bc35539": {
      "model_module": "@jupyter-widgets/base",
      "model_module_version": "2.0.0",
      "model_name": "LayoutModel",
      "state": {
       "flex": "2"
      }
     },
     "7bf3c70039244783a0de11a9fe1d5172": {
      "model_module": "@jupyter-widgets/controls",
      "model_module_version": "2.0.0",
      "model_name": "HTMLModel",
      "state": {
       "layout": "IPY_MODEL_14d932c660944f889033522740f5aebb",
       "style": "IPY_MODEL_ea6acc473a8a42c2aeeebf610ec73263",
       "value": "Validation DataLoader 0: 100%"
      }
     },
     "7c001d5a36a248168950d0aaa413f4fe": {
      "model_module": "@jupyter-widgets/base",
      "model_module_version": "2.0.0",
      "model_name": "LayoutModel",
      "state": {}
     },
     "7c3851066ad14572aa73068a9e2b0f4e": {
      "model_module": "@jupyter-widgets/controls",
      "model_module_version": "2.0.0",
      "model_name": "HTMLModel",
      "state": {
       "layout": "IPY_MODEL_a37911e3651b43ce85f9cb87747e0aa1",
       "style": "IPY_MODEL_0c1f2e8a39ab4aa2991e1b92caac2fff",
       "value": "Validation DataLoader 0: 100%"
      }
     },
     "7c400df32faf4419880444ab7d1b3966": {
      "model_module": "@jupyter-widgets/base",
      "model_module_version": "2.0.0",
      "model_name": "LayoutModel",
      "state": {}
     },
     "7c562cbdc32c42359c41fcdb22668bb9": {
      "model_module": "@jupyter-widgets/base",
      "model_module_version": "2.0.0",
      "model_name": "LayoutModel",
      "state": {}
     },
     "7cc50d45117643c9847a27749c291561": {
      "model_module": "@jupyter-widgets/controls",
      "model_module_version": "2.0.0",
      "model_name": "HTMLModel",
      "state": {
       "layout": "IPY_MODEL_ee4adf17299944389e4d86e1790b8416",
       "style": "IPY_MODEL_75c15f9637094dc89ab96af39cc7fb31",
       "value": " 25/25 [00:00&lt;00:00, 295.14it/s]"
      }
     },
     "7d3c1107bbb1487a8d5d4a84d2bd836c": {
      "model_module": "@jupyter-widgets/controls",
      "model_module_version": "2.0.0",
      "model_name": "ProgressStyleModel",
      "state": {
       "description_width": ""
      }
     },
     "7d3d3b57ae0f44adba4ab5ea15d9470a": {
      "model_module": "@jupyter-widgets/controls",
      "model_module_version": "2.0.0",
      "model_name": "HTMLModel",
      "state": {
       "layout": "IPY_MODEL_2e7c633ba3dd41c6bcd0c4f07a7b85fb",
       "style": "IPY_MODEL_e2118555c83f4ceda766b624b9c81c06",
       "value": " 25/25 [00:00&lt;00:00, 258.25it/s]"
      }
     },
     "7d444629c7c94cf6b5e832c02f0b46b5": {
      "model_module": "@jupyter-widgets/controls",
      "model_module_version": "2.0.0",
      "model_name": "HTMLStyleModel",
      "state": {
       "description_width": "",
       "font_size": null,
       "text_color": null
      }
     },
     "7d9711cdfe2d4aa68d16f779a9541404": {
      "model_module": "@jupyter-widgets/controls",
      "model_module_version": "2.0.0",
      "model_name": "HTMLModel",
      "state": {
       "layout": "IPY_MODEL_bb50eed079ff44699bb260b4afac8660",
       "style": "IPY_MODEL_4e7fab3d2abf4767becad6b7aa3bb690",
       "value": " 25/25 [00:00&lt;00:00, 263.79it/s]"
      }
     },
     "7dd19af5dd364c3d9ce4a76195f91a39": {
      "model_module": "@jupyter-widgets/controls",
      "model_module_version": "2.0.0",
      "model_name": "FloatProgressModel",
      "state": {
       "layout": "IPY_MODEL_20d86e7950ad4f27900e905d14daeda0",
       "max": 25,
       "style": "IPY_MODEL_773178fb2ac34196b65c401ce2af95ed",
       "value": 25
      }
     },
     "7e100f757f4b483db8bd6898e8d239a0": {
      "model_module": "@jupyter-widgets/controls",
      "model_module_version": "2.0.0",
      "model_name": "HTMLStyleModel",
      "state": {
       "description_width": "",
       "font_size": null,
       "text_color": null
      }
     },
     "7e33f6543ad54e3eacfc4650d2ec9548": {
      "model_module": "@jupyter-widgets/base",
      "model_module_version": "2.0.0",
      "model_name": "LayoutModel",
      "state": {}
     },
     "7e831e0b8e3141088db47e153258fbe6": {
      "model_module": "@jupyter-widgets/base",
      "model_module_version": "2.0.0",
      "model_name": "LayoutModel",
      "state": {
       "display": "inline-flex",
       "flex_flow": "row wrap",
       "visibility": "hidden",
       "width": "100%"
      }
     },
     "7e8ad14b2fbd4e318470519511c1ea3b": {
      "model_module": "@jupyter-widgets/controls",
      "model_module_version": "2.0.0",
      "model_name": "HTMLStyleModel",
      "state": {
       "description_width": "",
       "font_size": null,
       "text_color": null
      }
     },
     "7eae6b953a6542689ba4ec6d71e3b47f": {
      "model_module": "@jupyter-widgets/controls",
      "model_module_version": "2.0.0",
      "model_name": "HTMLModel",
      "state": {
       "layout": "IPY_MODEL_da14a6ffe3de47468019362660bdd8d2",
       "style": "IPY_MODEL_c2f7533261c14c31b5e3cd8063ea08f0",
       "value": "Validation DataLoader 0: 100%"
      }
     },
     "7eb3b50e73154715abdc8be634d5652f": {
      "model_module": "@jupyter-widgets/controls",
      "model_module_version": "2.0.0",
      "model_name": "HTMLStyleModel",
      "state": {
       "description_width": "",
       "font_size": null,
       "text_color": null
      }
     },
     "802293a18d434dde8064e62aa0e73993": {
      "model_module": "@jupyter-widgets/controls",
      "model_module_version": "2.0.0",
      "model_name": "FloatProgressModel",
      "state": {
       "layout": "IPY_MODEL_d941e7f471ed4fdab6ffe4c121b77638",
       "max": 25,
       "style": "IPY_MODEL_7ae9a3673b304dbc977e3f959131cbed",
       "value": 25
      }
     },
     "805e93b72b904b59bf3293e3ed5ec010": {
      "model_module": "@jupyter-widgets/base",
      "model_module_version": "2.0.0",
      "model_name": "LayoutModel",
      "state": {
       "display": "inline-flex",
       "flex_flow": "row wrap",
       "visibility": "hidden",
       "width": "100%"
      }
     },
     "811f19a58faf48d39493c4158a93f1dc": {
      "model_module": "@jupyter-widgets/base",
      "model_module_version": "2.0.0",
      "model_name": "LayoutModel",
      "state": {
       "display": "inline-flex",
       "flex_flow": "row wrap",
       "visibility": "hidden",
       "width": "100%"
      }
     },
     "81ce7d85f50b444a832a9daa1687c802": {
      "model_module": "@jupyter-widgets/controls",
      "model_module_version": "2.0.0",
      "model_name": "HTMLStyleModel",
      "state": {
       "description_width": "",
       "font_size": null,
       "text_color": null
      }
     },
     "81fdaefb6fa9419ab62239ac8a5d6be1": {
      "model_module": "@jupyter-widgets/controls",
      "model_module_version": "2.0.0",
      "model_name": "HTMLModel",
      "state": {
       "layout": "IPY_MODEL_bc333b96e0f843e2813a58320ec37ab4",
       "style": "IPY_MODEL_ca0034c6a3104c1fbf9925167d3c286f",
       "value": "Testing DataLoader 0: 100%"
      }
     },
     "824cac0c33ea430ba582601209bd8c59": {
      "model_module": "@jupyter-widgets/base",
      "model_module_version": "2.0.0",
      "model_name": "LayoutModel",
      "state": {}
     },
     "82645234149d44a09047d63d220938a5": {
      "model_module": "@jupyter-widgets/controls",
      "model_module_version": "2.0.0",
      "model_name": "HTMLModel",
      "state": {
       "layout": "IPY_MODEL_f574fe41d6bc45398120dc1fdecea8bb",
       "style": "IPY_MODEL_0fc47fa55bc94677bceb074bbd34e134",
       "value": " 25/25 [00:00&lt;00:00, 256.78it/s]"
      }
     },
     "82f525d8016842e7a352ab947d99eac8": {
      "model_module": "@jupyter-widgets/controls",
      "model_module_version": "2.0.0",
      "model_name": "HTMLModel",
      "state": {
       "layout": "IPY_MODEL_3a9dcffb39f64b31852f8aa1256350d3",
       "style": "IPY_MODEL_7e8ad14b2fbd4e318470519511c1ea3b",
       "value": " 25/25 [00:00&lt;00:00, 284.03it/s]"
      }
     },
     "8304eda932994a15bc3d298e74a8707d": {
      "model_module": "@jupyter-widgets/controls",
      "model_module_version": "2.0.0",
      "model_name": "HTMLStyleModel",
      "state": {
       "description_width": "",
       "font_size": null,
       "text_color": null
      }
     },
     "83a0a31af9df4058a669642b7582e10d": {
      "model_module": "@jupyter-widgets/controls",
      "model_module_version": "2.0.0",
      "model_name": "HTMLStyleModel",
      "state": {
       "description_width": "",
       "font_size": null,
       "text_color": null
      }
     },
     "848106ee776d4db8a3fe756a2eec0bd7": {
      "model_module": "@jupyter-widgets/controls",
      "model_module_version": "2.0.0",
      "model_name": "HTMLModel",
      "state": {
       "layout": "IPY_MODEL_b033391b8dea47eb81d42ae207a100ef",
       "style": "IPY_MODEL_a6869f17f87042eab400b0084d5c7a78",
       "value": "Validation DataLoader 0: 100%"
      }
     },
     "84c6d624d9324a9f9a857e0a0e5a1cf4": {
      "model_module": "@jupyter-widgets/base",
      "model_module_version": "2.0.0",
      "model_name": "LayoutModel",
      "state": {
       "display": "inline-flex",
       "flex_flow": "row wrap",
       "visibility": "hidden",
       "width": "100%"
      }
     },
     "852a2c3cbe7c47c2b70fd2bf8b55cd86": {
      "model_module": "@jupyter-widgets/controls",
      "model_module_version": "2.0.0",
      "model_name": "ProgressStyleModel",
      "state": {
       "description_width": ""
      }
     },
     "85a8b83923a94fb89f5da761dbc1cd23": {
      "model_module": "@jupyter-widgets/base",
      "model_module_version": "2.0.0",
      "model_name": "LayoutModel",
      "state": {
       "display": "inline-flex",
       "flex_flow": "row wrap",
       "width": "100%"
      }
     },
     "85b9e60f9b7948039cb163c8ae8760ff": {
      "model_module": "@jupyter-widgets/controls",
      "model_module_version": "2.0.0",
      "model_name": "FloatProgressModel",
      "state": {
       "layout": "IPY_MODEL_1fc6e284679c4a39a60b8c0c0617041f",
       "max": 25,
       "style": "IPY_MODEL_86ba40c4be39485b89a8c330fd05541d",
       "value": 25
      }
     },
     "85fd9dd0b9644143bfdca58ea95ac522": {
      "model_module": "@jupyter-widgets/controls",
      "model_module_version": "2.0.0",
      "model_name": "FloatProgressModel",
      "state": {
       "layout": "IPY_MODEL_6ecf59d907df4b359c7236b06d898f19",
       "max": 25,
       "style": "IPY_MODEL_bbce6da40c64458ba3d1b94a15a6748d",
       "value": 25
      }
     },
     "8624220a01e04150aa8f66fe8caac2b3": {
      "model_module": "@jupyter-widgets/base",
      "model_module_version": "2.0.0",
      "model_name": "LayoutModel",
      "state": {
       "display": "inline-flex",
       "flex_flow": "row wrap",
       "visibility": "hidden",
       "width": "100%"
      }
     },
     "86623d3e2f4f462f9c634f73137cd27a": {
      "model_module": "@jupyter-widgets/controls",
      "model_module_version": "2.0.0",
      "model_name": "HTMLModel",
      "state": {
       "layout": "IPY_MODEL_93d57fb5352f4105bcb0590a1826d83d",
       "style": "IPY_MODEL_8304eda932994a15bc3d298e74a8707d",
       "value": " 25/25 [00:00&lt;00:00, 252.88it/s]"
      }
     },
     "8684a2ae4e58419c8c90ed047e107510": {
      "model_module": "@jupyter-widgets/base",
      "model_module_version": "2.0.0",
      "model_name": "LayoutModel",
      "state": {
       "flex": "2"
      }
     },
     "868ce94930fd4555adeb490543a68009": {
      "model_module": "@jupyter-widgets/base",
      "model_module_version": "2.0.0",
      "model_name": "LayoutModel",
      "state": {}
     },
     "86a286da75854257be8dfe54d0f237c2": {
      "model_module": "@jupyter-widgets/controls",
      "model_module_version": "2.0.0",
      "model_name": "ProgressStyleModel",
      "state": {
       "description_width": ""
      }
     },
     "86ba40c4be39485b89a8c330fd05541d": {
      "model_module": "@jupyter-widgets/controls",
      "model_module_version": "2.0.0",
      "model_name": "ProgressStyleModel",
      "state": {
       "description_width": ""
      }
     },
     "86f1e1241d0545d19788473e83a77526": {
      "model_module": "@jupyter-widgets/controls",
      "model_module_version": "2.0.0",
      "model_name": "HTMLModel",
      "state": {
       "layout": "IPY_MODEL_be95d6e927eb43f1bc0b7bbc916c7803",
       "style": "IPY_MODEL_3be686bda6dc4c23bd93d48766f1c84d",
       "value": "Testing DataLoader 0: 100%"
      }
     },
     "87304e87b12b464482a2a4d57a19657a": {
      "model_module": "@jupyter-widgets/controls",
      "model_module_version": "2.0.0",
      "model_name": "HTMLModel",
      "state": {
       "layout": "IPY_MODEL_158a2ceb62a24883b351fa7dd900556d",
       "style": "IPY_MODEL_55b4aabb73e5460ebd81aaacf2581bfe",
       "value": " 25/25 [00:00&lt;00:00, 267.46it/s]"
      }
     },
     "8838d41f84b04b7baf51c4013769b65f": {
      "model_module": "@jupyter-widgets/controls",
      "model_module_version": "2.0.0",
      "model_name": "HBoxModel",
      "state": {
       "children": [
        "IPY_MODEL_86f1e1241d0545d19788473e83a77526",
        "IPY_MODEL_69d97cea87b842f985499845ba9e8482",
        "IPY_MODEL_d27e4c392861414a93881dc0878340c9"
       ],
       "layout": "IPY_MODEL_123b8ba5edca4aa2996ceb9acb5caba3"
      }
     },
     "8842902917824cdcbc3eec748b6937cd": {
      "model_module": "@jupyter-widgets/base",
      "model_module_version": "2.0.0",
      "model_name": "LayoutModel",
      "state": {
       "flex": "2"
      }
     },
     "88661d307dea4993ba48c42ca55e2912": {
      "model_module": "@jupyter-widgets/controls",
      "model_module_version": "2.0.0",
      "model_name": "FloatProgressModel",
      "state": {
       "layout": "IPY_MODEL_7013278c5279410ba9755c56a58bb5d4",
       "max": 25,
       "style": "IPY_MODEL_4fea8df9912142b1a924fa1b2a7795ff",
       "value": 25
      }
     },
     "88fa4dd93e0343deb365efb74e5d7c5b": {
      "model_module": "@jupyter-widgets/controls",
      "model_module_version": "2.0.0",
      "model_name": "HTMLModel",
      "state": {
       "layout": "IPY_MODEL_4ae939522af64a5f8bb90c40ada65886",
       "style": "IPY_MODEL_cc103bb16eea49468e5bef3df25cb2a2",
       "value": " 25/25 [00:00&lt;00:00, 276.89it/s]"
      }
     },
     "89049503956848e28fc45a4ec99805e7": {
      "model_module": "@jupyter-widgets/base",
      "model_module_version": "2.0.0",
      "model_name": "LayoutModel",
      "state": {}
     },
     "8950b2349aeb4b15b06772efd92f0231": {
      "model_module": "@jupyter-widgets/controls",
      "model_module_version": "2.0.0",
      "model_name": "HTMLStyleModel",
      "state": {
       "description_width": "",
       "font_size": null,
       "text_color": null
      }
     },
     "898226b8261a488ca7073137bb877d39": {
      "model_module": "@jupyter-widgets/controls",
      "model_module_version": "2.0.0",
      "model_name": "HTMLStyleModel",
      "state": {
       "description_width": "",
       "font_size": null,
       "text_color": null
      }
     },
     "89f6a7395b2b4f7fb66b05db17c80a06": {
      "model_module": "@jupyter-widgets/controls",
      "model_module_version": "2.0.0",
      "model_name": "FloatProgressModel",
      "state": {
       "layout": "IPY_MODEL_156fe7f8ce0541c0bc16b524817a2b1f",
       "max": 25,
       "style": "IPY_MODEL_e00733f1fc1b464fbdac13a18726c076",
       "value": 25
      }
     },
     "8a28fdbdaec6452fb8cf4f52f31904d4": {
      "model_module": "@jupyter-widgets/controls",
      "model_module_version": "2.0.0",
      "model_name": "ProgressStyleModel",
      "state": {
       "description_width": ""
      }
     },
     "8a5b674a633a4dea9231556bcb3de5ba": {
      "model_module": "@jupyter-widgets/controls",
      "model_module_version": "2.0.0",
      "model_name": "ProgressStyleModel",
      "state": {
       "description_width": ""
      }
     },
     "8a5e68275a524d1bae59b08cc2d547f5": {
      "model_module": "@jupyter-widgets/controls",
      "model_module_version": "2.0.0",
      "model_name": "HTMLModel",
      "state": {
       "layout": "IPY_MODEL_ffe860d03d6248afa826c6fde1c7963b",
       "style": "IPY_MODEL_20ee85e923e843a9a44452fd78e193ed",
       "value": "Sanity Checking DataLoader 0: 100%"
      }
     },
     "8a7e85e9fa0a4564b1fb4ff8696f67de": {
      "model_module": "@jupyter-widgets/controls",
      "model_module_version": "2.0.0",
      "model_name": "HTMLStyleModel",
      "state": {
       "description_width": "",
       "font_size": null,
       "text_color": null
      }
     },
     "8acc17781eae4b5db2db35fa0a68e38b": {
      "model_module": "@jupyter-widgets/controls",
      "model_module_version": "2.0.0",
      "model_name": "HTMLStyleModel",
      "state": {
       "description_width": "",
       "font_size": null,
       "text_color": null
      }
     },
     "8b8a65f1956e440b996f7858043da163": {
      "model_module": "@jupyter-widgets/base",
      "model_module_version": "2.0.0",
      "model_name": "LayoutModel",
      "state": {
       "flex": "2"
      }
     },
     "8b907d0ebfc44f67ab5a88b4b1632be9": {
      "model_module": "@jupyter-widgets/base",
      "model_module_version": "2.0.0",
      "model_name": "LayoutModel",
      "state": {
       "flex": "2"
      }
     },
     "8b98c294906b4a9fabe53a4f0753911d": {
      "model_module": "@jupyter-widgets/controls",
      "model_module_version": "2.0.0",
      "model_name": "FloatProgressModel",
      "state": {
       "bar_style": "success",
       "layout": "IPY_MODEL_9ad273921e6941289e09a7247810cdc5",
       "style": "IPY_MODEL_584501bfdb6d46f1833ec786f830a34f",
       "value": 100
      }
     },
     "8bf8038b1d9c40b2b1625b70e2b742bc": {
      "model_module": "@jupyter-widgets/base",
      "model_module_version": "2.0.0",
      "model_name": "LayoutModel",
      "state": {}
     },
     "8c31508aced34c0c82484aed5e59a0b2": {
      "model_module": "@jupyter-widgets/base",
      "model_module_version": "2.0.0",
      "model_name": "LayoutModel",
      "state": {
       "display": "inline-flex",
       "flex_flow": "row wrap",
       "visibility": "hidden",
       "width": "100%"
      }
     },
     "8d4d255cfc964a5ba7bde467c57cacad": {
      "model_module": "@jupyter-widgets/controls",
      "model_module_version": "2.0.0",
      "model_name": "HTMLModel",
      "state": {
       "layout": "IPY_MODEL_03c9577056c34defa4099b5da77b7a99",
       "style": "IPY_MODEL_17040dc8bed646779732c7f58ee8064a",
       "value": "Epoch 18: 100%"
      }
     },
     "8d846dcddd4248d49597b5f0ee43cff7": {
      "model_module": "@jupyter-widgets/base",
      "model_module_version": "2.0.0",
      "model_name": "LayoutModel",
      "state": {
       "display": "inline-flex",
       "flex_flow": "row wrap",
       "width": "100%"
      }
     },
     "8e09e2f842774d518690202780fe4853": {
      "model_module": "@jupyter-widgets/controls",
      "model_module_version": "2.0.0",
      "model_name": "HTMLModel",
      "state": {
       "layout": "IPY_MODEL_f15217b52e40445c88f6d35e48190a38",
       "style": "IPY_MODEL_2cf1e5bf604a4663bba96b149fe94d43",
       "value": "Sanity Checking DataLoader 0: 100%"
      }
     },
     "8e86fa94e98b42c69b0a2c940c61b1c1": {
      "model_module": "@jupyter-widgets/base",
      "model_module_version": "2.0.0",
      "model_name": "LayoutModel",
      "state": {
       "display": "inline-flex",
       "flex_flow": "row wrap",
       "visibility": "hidden",
       "width": "100%"
      }
     },
     "8e8ebb313d42468983e923adf5e8325d": {
      "model_module": "@jupyter-widgets/controls",
      "model_module_version": "2.0.0",
      "model_name": "HTMLModel",
      "state": {
       "layout": "IPY_MODEL_251dd8598baf43c5849441e81124291e",
       "style": "IPY_MODEL_280a916984894fb09d1b5fe43fc6cc24",
       "value": "Validation DataLoader 0: 100%"
      }
     },
     "8ea3b71819294e8c970370601297b9aa": {
      "model_module": "@jupyter-widgets/controls",
      "model_module_version": "2.0.0",
      "model_name": "HTMLModel",
      "state": {
       "layout": "IPY_MODEL_9402d17ca5fc4b80bb5982360fd81f53",
       "style": "IPY_MODEL_41f9dd5157ab417487822a5b8b5f7d22",
       "value": " 25/25 [00:00&lt;00:00, 261.73it/s]"
      }
     },
     "8ebeda1bff1a4962abc4a1c906731118": {
      "model_module": "@jupyter-widgets/controls",
      "model_module_version": "2.0.0",
      "model_name": "HBoxModel",
      "state": {
       "children": [
        "IPY_MODEL_81fdaefb6fa9419ab62239ac8a5d6be1",
        "IPY_MODEL_3a8dd39ae7074af1aea162d4b1c3dc54",
        "IPY_MODEL_e3be1844d2c84c739be1786212c91e53"
       ],
       "layout": "IPY_MODEL_fad5fe7ebc77434f9646127bbcb6373d"
      }
     },
     "8faa043602984086869ffe57b13b0272": {
      "model_module": "@jupyter-widgets/controls",
      "model_module_version": "2.0.0",
      "model_name": "HTMLStyleModel",
      "state": {
       "description_width": "",
       "font_size": null,
       "text_color": null
      }
     },
     "8fccf406feb344418c1448923b1ed606": {
      "model_module": "@jupyter-widgets/base",
      "model_module_version": "2.0.0",
      "model_name": "LayoutModel",
      "state": {
       "flex": "2"
      }
     },
     "8fed1afd31d74ed9b0365d0b06d98434": {
      "model_module": "@jupyter-widgets/base",
      "model_module_version": "2.0.0",
      "model_name": "LayoutModel",
      "state": {}
     },
     "9015825aef0f4cbe98152da519d48e8a": {
      "model_module": "@jupyter-widgets/controls",
      "model_module_version": "2.0.0",
      "model_name": "ProgressStyleModel",
      "state": {
       "description_width": ""
      }
     },
     "901918296ade4214b769a87726ae91e2": {
      "model_module": "@jupyter-widgets/controls",
      "model_module_version": "2.0.0",
      "model_name": "FloatProgressModel",
      "state": {
       "layout": "IPY_MODEL_a70834f78748497d8879c6c146d77de3",
       "max": 25,
       "style": "IPY_MODEL_77a8959fcacd4d05b90a818b71a28e84",
       "value": 25
      }
     },
     "901c9251a2f64b179ee798b86054062b": {
      "model_module": "@jupyter-widgets/base",
      "model_module_version": "2.0.0",
      "model_name": "LayoutModel",
      "state": {}
     },
     "90dd8051bb1a4a8fb05b5413b227dbea": {
      "model_module": "@jupyter-widgets/base",
      "model_module_version": "2.0.0",
      "model_name": "LayoutModel",
      "state": {}
     },
     "90f2f5fd76234b68aa5a370b0dedaff0": {
      "model_module": "@jupyter-widgets/controls",
      "model_module_version": "2.0.0",
      "model_name": "HTMLStyleModel",
      "state": {
       "description_width": "",
       "font_size": null,
       "text_color": null
      }
     },
     "91288ca51fb746b0b26d03895433e396": {
      "model_module": "@jupyter-widgets/controls",
      "model_module_version": "2.0.0",
      "model_name": "FloatProgressModel",
      "state": {
       "layout": "IPY_MODEL_e0062682ff1d4bc1af3409696d576150",
       "max": 25,
       "style": "IPY_MODEL_fdc694d4be45408ca7e80eb9cd2fd272",
       "value": 25
      }
     },
     "91650dc2ff594352b682cd70e1301105": {
      "model_module": "@jupyter-widgets/controls",
      "model_module_version": "2.0.0",
      "model_name": "ProgressStyleModel",
      "state": {
       "description_width": ""
      }
     },
     "917e9365dc314c479c01b0b697b48846": {
      "model_module": "@jupyter-widgets/controls",
      "model_module_version": "2.0.0",
      "model_name": "HTMLModel",
      "state": {
       "layout": "IPY_MODEL_197ebca3b102407dac048f6a76cd2999",
       "style": "IPY_MODEL_9af96ff7aa6f45e58508cdbbb1e3bbf3",
       "value": "Validation DataLoader 0: 100%"
      }
     },
     "919c731936b840f58cc188ad52de8a3e": {
      "model_module": "@jupyter-widgets/base",
      "model_module_version": "2.0.0",
      "model_name": "LayoutModel",
      "state": {
       "flex": "2"
      }
     },
     "92105a52120641128271f420a66df267": {
      "model_module": "@jupyter-widgets/controls",
      "model_module_version": "2.0.0",
      "model_name": "ProgressStyleModel",
      "state": {
       "description_width": ""
      }
     },
     "9261e607ab3c4ce0a55150251e42f19d": {
      "model_module": "@jupyter-widgets/controls",
      "model_module_version": "2.0.0",
      "model_name": "HTMLModel",
      "state": {
       "layout": "IPY_MODEL_6e7f71e44b3641faa94a8a01b0a3482a",
       "style": "IPY_MODEL_ab2df8a448c74bdba61c8829badce4c0",
       "value": "Validation DataLoader 0: 100%"
      }
     },
     "92b40336bf5142c48f58681430b246c1": {
      "model_module": "@jupyter-widgets/controls",
      "model_module_version": "2.0.0",
      "model_name": "HTMLStyleModel",
      "state": {
       "description_width": "",
       "font_size": null,
       "text_color": null
      }
     },
     "92d40a5819144b0a87a66ca89b7d17c1": {
      "model_module": "@jupyter-widgets/base",
      "model_module_version": "2.0.0",
      "model_name": "LayoutModel",
      "state": {}
     },
     "935cffe3d1e74904867604f1ad2c6ce3": {
      "model_module": "@jupyter-widgets/base",
      "model_module_version": "2.0.0",
      "model_name": "LayoutModel",
      "state": {
       "display": "inline-flex",
       "flex_flow": "row wrap",
       "visibility": "hidden",
       "width": "100%"
      }
     },
     "937b0601a1094e0abec78183e1c1b6a4": {
      "model_module": "@jupyter-widgets/controls",
      "model_module_version": "2.0.0",
      "model_name": "ProgressStyleModel",
      "state": {
       "description_width": ""
      }
     },
     "93a707628e994caa80e8c8201fbd052a": {
      "model_module": "@jupyter-widgets/controls",
      "model_module_version": "2.0.0",
      "model_name": "HTMLStyleModel",
      "state": {
       "description_width": "",
       "font_size": null,
       "text_color": null
      }
     },
     "93d57fb5352f4105bcb0590a1826d83d": {
      "model_module": "@jupyter-widgets/base",
      "model_module_version": "2.0.0",
      "model_name": "LayoutModel",
      "state": {}
     },
     "9402d17ca5fc4b80bb5982360fd81f53": {
      "model_module": "@jupyter-widgets/base",
      "model_module_version": "2.0.0",
      "model_name": "LayoutModel",
      "state": {}
     },
     "940a12e48a594e09850d4bed00ad7464": {
      "model_module": "@jupyter-widgets/controls",
      "model_module_version": "2.0.0",
      "model_name": "HTMLModel",
      "state": {
       "layout": "IPY_MODEL_5b016eacaf014429b16cb9c116e8236c",
       "style": "IPY_MODEL_a7ed81e58c2a48b893aacdf155db41a0",
       "value": "Validation DataLoader 0: 100%"
      }
     },
     "94733bbd7c234c7baa42c4bf91dba820": {
      "model_module": "@jupyter-widgets/base",
      "model_module_version": "2.0.0",
      "model_name": "LayoutModel",
      "state": {
       "display": "inline-flex",
       "flex_flow": "row wrap",
       "width": "100%"
      }
     },
     "94d4fa26d76541cfafdb77b2ebf3f5fc": {
      "model_module": "@jupyter-widgets/base",
      "model_module_version": "2.0.0",
      "model_name": "LayoutModel",
      "state": {
       "display": "inline-flex",
       "flex_flow": "row wrap",
       "visibility": "hidden",
       "width": "100%"
      }
     },
     "94fce8bfae8f4fa194577c887bbb24c3": {
      "model_module": "@jupyter-widgets/controls",
      "model_module_version": "2.0.0",
      "model_name": "HTMLModel",
      "state": {
       "layout": "IPY_MODEL_3cf4f523b4b84a70bf9712bc79d42473",
       "style": "IPY_MODEL_c4dc9a0d56ba408685d2144c98217baa",
       "value": "Validation DataLoader 0: 100%"
      }
     },
     "951d1637a18845379ba789afd331bb53": {
      "model_module": "@jupyter-widgets/base",
      "model_module_version": "2.0.0",
      "model_name": "LayoutModel",
      "state": {
       "display": "inline-flex",
       "flex_flow": "row wrap",
       "visibility": "hidden",
       "width": "100%"
      }
     },
     "9627e178200545d29141b898a8a617cf": {
      "model_module": "@jupyter-widgets/base",
      "model_module_version": "2.0.0",
      "model_name": "LayoutModel",
      "state": {
       "display": "inline-flex",
       "flex_flow": "row wrap",
       "visibility": "hidden",
       "width": "100%"
      }
     },
     "96324a68cf49433c9f662d9cf1ce8bfe": {
      "model_module": "@jupyter-widgets/base",
      "model_module_version": "2.0.0",
      "model_name": "LayoutModel",
      "state": {
       "display": "inline-flex",
       "flex_flow": "row wrap",
       "visibility": "hidden",
       "width": "100%"
      }
     },
     "96892782fc7842ee8f7e5b65663fcb79": {
      "model_module": "@jupyter-widgets/controls",
      "model_module_version": "2.0.0",
      "model_name": "HTMLModel",
      "state": {
       "layout": "IPY_MODEL_c0862c3f9ed04be698a78034a94962b7",
       "style": "IPY_MODEL_03443f25cbee419fa6879433b35f4357",
       "value": " 25/25 [00:00&lt;00:00, 274.24it/s]"
      }
     },
     "96d4542a58bb4456bff31861519ccd9e": {
      "model_module": "@jupyter-widgets/controls",
      "model_module_version": "2.0.0",
      "model_name": "FloatProgressModel",
      "state": {
       "layout": "IPY_MODEL_d465cfb50a4d4245bde48cb102b19ffa",
       "max": 25,
       "style": "IPY_MODEL_937b0601a1094e0abec78183e1c1b6a4",
       "value": 25
      }
     },
     "979027842a9842ca884d4143b6fa4413": {
      "model_module": "@jupyter-widgets/controls",
      "model_module_version": "2.0.0",
      "model_name": "HTMLStyleModel",
      "state": {
       "description_width": "",
       "font_size": null,
       "text_color": null
      }
     },
     "9793f38ce89f440c80cca1d418e0b70d": {
      "model_module": "@jupyter-widgets/base",
      "model_module_version": "2.0.0",
      "model_name": "LayoutModel",
      "state": {}
     },
     "97afbeec5eba4413bb47a84909598a74": {
      "model_module": "@jupyter-widgets/base",
      "model_module_version": "2.0.0",
      "model_name": "LayoutModel",
      "state": {}
     },
     "98232cc8911942afa18ce042030b7dab": {
      "model_module": "@jupyter-widgets/controls",
      "model_module_version": "2.0.0",
      "model_name": "FloatProgressModel",
      "state": {
       "bar_style": "success",
       "layout": "IPY_MODEL_24bed4ca04cc49688dfd7bda3a2f5742",
       "max": 63,
       "style": "IPY_MODEL_7960fdc83e4643fab4803bd5c4c51efc",
       "value": 63
      }
     },
     "9872d0ce53614974a7c66f99db84a931": {
      "model_module": "@jupyter-widgets/controls",
      "model_module_version": "2.0.0",
      "model_name": "FloatProgressModel",
      "state": {
       "layout": "IPY_MODEL_6ba106be615141c4a737f2622ed51c66",
       "max": 25,
       "style": "IPY_MODEL_3822f30708f64cc0a82ce0d26d2149ef",
       "value": 25
      }
     },
     "9978d5464c124f13ae369bb3fdf90396": {
      "model_module": "@jupyter-widgets/base",
      "model_module_version": "2.0.0",
      "model_name": "LayoutModel",
      "state": {
       "display": "inline-flex",
       "flex_flow": "row wrap",
       "visibility": "hidden",
       "width": "100%"
      }
     },
     "99abe06853b546eeb2dba19888d00905": {
      "model_module": "@jupyter-widgets/base",
      "model_module_version": "2.0.0",
      "model_name": "LayoutModel",
      "state": {}
     },
     "9a09318e0e15437899fadc3ac1b3fb36": {
      "model_module": "@jupyter-widgets/base",
      "model_module_version": "2.0.0",
      "model_name": "LayoutModel",
      "state": {
       "display": "inline-flex",
       "flex_flow": "row wrap",
       "visibility": "hidden",
       "width": "100%"
      }
     },
     "9a18ea36ef9746889d6dc50246be9768": {
      "model_module": "@jupyter-widgets/controls",
      "model_module_version": "2.0.0",
      "model_name": "ProgressStyleModel",
      "state": {
       "description_width": ""
      }
     },
     "9a2febc6430c46509158f6446a1dd6fe": {
      "model_module": "@jupyter-widgets/base",
      "model_module_version": "2.0.0",
      "model_name": "LayoutModel",
      "state": {
       "display": "inline-flex",
       "flex_flow": "row wrap",
       "visibility": "hidden",
       "width": "100%"
      }
     },
     "9ad273921e6941289e09a7247810cdc5": {
      "model_module": "@jupyter-widgets/base",
      "model_module_version": "2.0.0",
      "model_name": "LayoutModel",
      "state": {
       "flex": "2"
      }
     },
     "9ae8b94a1c054ff1b6baaa8c408b9ff9": {
      "model_module": "@jupyter-widgets/base",
      "model_module_version": "2.0.0",
      "model_name": "LayoutModel",
      "state": {}
     },
     "9aedb56a42c34d1faea9b49da7eb7ae2": {
      "model_module": "@jupyter-widgets/controls",
      "model_module_version": "2.0.0",
      "model_name": "HTMLModel",
      "state": {
       "layout": "IPY_MODEL_e2daaf492b564a0595c838d702400aba",
       "style": "IPY_MODEL_f653bfe367d442b6a5aa2af26adb8996",
       "value": " 25/25 [00:00&lt;00:00, 271.12it/s]"
      }
     },
     "9af96ff7aa6f45e58508cdbbb1e3bbf3": {
      "model_module": "@jupyter-widgets/controls",
      "model_module_version": "2.0.0",
      "model_name": "HTMLStyleModel",
      "state": {
       "description_width": "",
       "font_size": null,
       "text_color": null
      }
     },
     "9b6007f0cc564acfb7797daa8bd5458a": {
      "model_module": "@jupyter-widgets/controls",
      "model_module_version": "2.0.0",
      "model_name": "HTMLModel",
      "state": {
       "layout": "IPY_MODEL_599cdb80a0704b23b052f7f3597984a2",
       "style": "IPY_MODEL_71583ac4354c49c9a7e5ade3c62efc1b",
       "value": " 2/2 [00:00&lt;00:00, 173.20it/s]"
      }
     },
     "9b9a3bcca4de4b68a2e02fc5593dede8": {
      "model_module": "@jupyter-widgets/base",
      "model_module_version": "2.0.0",
      "model_name": "LayoutModel",
      "state": {
       "flex": "2"
      }
     },
     "9ba72085ac654ca4b81efb61df8f6b96": {
      "model_module": "@jupyter-widgets/controls",
      "model_module_version": "2.0.0",
      "model_name": "HTMLStyleModel",
      "state": {
       "description_width": "",
       "font_size": null,
       "text_color": null
      }
     },
     "9bc1a112a28f4dceb98cabbe1294d975": {
      "model_module": "@jupyter-widgets/controls",
      "model_module_version": "2.0.0",
      "model_name": "HTMLModel",
      "state": {
       "layout": "IPY_MODEL_d7142694e7e44b75a29f34e476d9f9e5",
       "style": "IPY_MODEL_ee2386397a2c4920922fcd98da0f2c7f",
       "value": " 25/25 [00:00&lt;00:00, 270.63it/s]"
      }
     },
     "9c47d5da67a74b49b3ebe6b939e4fc93": {
      "model_module": "@jupyter-widgets/controls",
      "model_module_version": "2.0.0",
      "model_name": "HTMLStyleModel",
      "state": {
       "description_width": "",
       "font_size": null,
       "text_color": null
      }
     },
     "9caba5e9bf4545faa19706643edd1cc4": {
      "model_module": "@jupyter-widgets/controls",
      "model_module_version": "2.0.0",
      "model_name": "FloatProgressModel",
      "state": {
       "layout": "IPY_MODEL_9b9a3bcca4de4b68a2e02fc5593dede8",
       "max": 25,
       "style": "IPY_MODEL_b3e8e2004eed44848f3547dfa1b619d4",
       "value": 25
      }
     },
     "9d3b3607f9774fbd96bd77fb45167232": {
      "model_module": "@jupyter-widgets/controls",
      "model_module_version": "2.0.0",
      "model_name": "ProgressStyleModel",
      "state": {
       "description_width": ""
      }
     },
     "9d6f192e775c457dba928e23dfb3cf35": {
      "model_module": "@jupyter-widgets/controls",
      "model_module_version": "2.0.0",
      "model_name": "HTMLModel",
      "state": {
       "layout": "IPY_MODEL_0906604f03034883b79bcef30d84d263",
       "style": "IPY_MODEL_621f1f7265494af1baf009821e29c4c3",
       "value": "Validation DataLoader 0: 100%"
      }
     },
     "9d76e0a0e6f14217a6ea2503704250b1": {
      "model_module": "@jupyter-widgets/controls",
      "model_module_version": "2.0.0",
      "model_name": "HTMLModel",
      "state": {
       "layout": "IPY_MODEL_cca5847d6e4e405eae370f9cca276953",
       "style": "IPY_MODEL_224184e6f5b84a6c9793a4dc43772b57",
       "value": " 25/25 [00:00&lt;00:00, 277.59it/s]"
      }
     },
     "9dc18bbb99d64949a968b8fbebf4e6e1": {
      "model_module": "@jupyter-widgets/controls",
      "model_module_version": "2.0.0",
      "model_name": "ProgressStyleModel",
      "state": {
       "description_width": ""
      }
     },
     "9dd39613514b4700a80cdc5c16c7fbbf": {
      "model_module": "@jupyter-widgets/controls",
      "model_module_version": "2.0.0",
      "model_name": "HTMLModel",
      "state": {
       "layout": "IPY_MODEL_6cc55407d4f942d99a5f6eb5231707e4",
       "style": "IPY_MODEL_072d43d00f114f679725103b8626a71b",
       "value": "Validation DataLoader 0: 100%"
      }
     },
     "9de27af126134e4188d9e21087811195": {
      "model_module": "@jupyter-widgets/controls",
      "model_module_version": "2.0.0",
      "model_name": "HTMLStyleModel",
      "state": {
       "description_width": "",
       "font_size": null,
       "text_color": null
      }
     },
     "9e800e4f681c48e3b91a89b0e916eb85": {
      "model_module": "@jupyter-widgets/controls",
      "model_module_version": "2.0.0",
      "model_name": "HTMLModel",
      "state": {
       "layout": "IPY_MODEL_e9edc8b58494416fa8894dfee1ad73c1",
       "style": "IPY_MODEL_b2c6a2262d48471db34f6ac63153626e",
       "value": "Validation DataLoader 0: 100%"
      }
     },
     "9e8ffd14fe4f4fafa7b82709f353101d": {
      "model_module": "@jupyter-widgets/base",
      "model_module_version": "2.0.0",
      "model_name": "LayoutModel",
      "state": {
       "display": "inline-flex",
       "flex_flow": "row wrap",
       "width": "100%"
      }
     },
     "9e9d0ceda2954f34a1546b70bc23b146": {
      "model_module": "@jupyter-widgets/controls",
      "model_module_version": "2.0.0",
      "model_name": "HTMLModel",
      "state": {
       "layout": "IPY_MODEL_b234fdd7ddcb4a5ba6672113d7cc49b1",
       "style": "IPY_MODEL_979027842a9842ca884d4143b6fa4413",
       "value": " 100/100 [00:00&lt;00:00, 166.55it/s, v_num=13622, train_loss=0.0792, val_loss=0.0767, val_acc=0.987]"
      }
     },
     "9ec52fdc5f0f449e9b3ed0afc908307e": {
      "model_module": "@jupyter-widgets/controls",
      "model_module_version": "2.0.0",
      "model_name": "HTMLModel",
      "state": {
       "layout": "IPY_MODEL_d4c48c7021bd4d8daea2995b3ce5b4a6",
       "style": "IPY_MODEL_dcf49f0105c4402ca2b8b93a783ef6e2",
       "value": " 25/25 [00:00&lt;00:00, 269.98it/s]"
      }
     },
     "9ec6259650e54096a2e52f39789ba205": {
      "model_module": "@jupyter-widgets/controls",
      "model_module_version": "2.0.0",
      "model_name": "FloatProgressModel",
      "state": {
       "layout": "IPY_MODEL_4a6a704eb4d64b81a961ee8d5b5f39c6",
       "max": 25,
       "style": "IPY_MODEL_e4bf6763009c4f5a9ea5b98dc4fb988e",
       "value": 25
      }
     },
     "9f36fab97b624fb3be595586d5bd578e": {
      "model_module": "@jupyter-widgets/base",
      "model_module_version": "2.0.0",
      "model_name": "LayoutModel",
      "state": {}
     },
     "9f806611469248f982a6931faaf3e638": {
      "model_module": "@jupyter-widgets/base",
      "model_module_version": "2.0.0",
      "model_name": "LayoutModel",
      "state": {}
     },
     "a031064778884ba4bc69b08c9649ed11": {
      "model_module": "@jupyter-widgets/base",
      "model_module_version": "2.0.0",
      "model_name": "LayoutModel",
      "state": {}
     },
     "a04613428ecf4679811f8d0dcc495ae5": {
      "model_module": "@jupyter-widgets/controls",
      "model_module_version": "2.0.0",
      "model_name": "ProgressStyleModel",
      "state": {
       "description_width": ""
      }
     },
     "a0ad3301a5ef489d818f58862f2d40f8": {
      "model_module": "@jupyter-widgets/controls",
      "model_module_version": "2.0.0",
      "model_name": "HBoxModel",
      "state": {
       "children": [
        "IPY_MODEL_6768047b39bd48d49fa3f89ad6aef655",
        "IPY_MODEL_df36b08cf10447eb8993fc15a8d96bba",
        "IPY_MODEL_6104bdb391dc4ecc9aec235aac2bec4e"
       ],
       "layout": "IPY_MODEL_57e84fb55c144d7597079e5733fe89d0"
      }
     },
     "a11eb13180be4ec4905ceaaed54468ed": {
      "model_module": "@jupyter-widgets/controls",
      "model_module_version": "2.0.0",
      "model_name": "FloatProgressModel",
      "state": {
       "layout": "IPY_MODEL_5928e8fef9ff41b5afca3391b3b5636e",
       "max": 25,
       "style": "IPY_MODEL_b2d416337b4349cbb0ca2d7a55933c8d",
       "value": 25
      }
     },
     "a13c26ff9ac146719eed936e4a2dc1cf": {
      "model_module": "@jupyter-widgets/controls",
      "model_module_version": "2.0.0",
      "model_name": "HTMLModel",
      "state": {
       "layout": "IPY_MODEL_2bc49a1d08784c03bbec508a1a2ade3c",
       "style": "IPY_MODEL_1de855e1da9d4fc48abe7ed7817fc070",
       "value": "Validation DataLoader 0: 100%"
      }
     },
     "a1d48dca0f8d4e24b1d1e3ad341ed9ff": {
      "model_module": "@jupyter-widgets/base",
      "model_module_version": "2.0.0",
      "model_name": "LayoutModel",
      "state": {
       "flex": "2"
      }
     },
     "a1d80faf779f450a8e6fd62c468d4e1b": {
      "model_module": "@jupyter-widgets/controls",
      "model_module_version": "2.0.0",
      "model_name": "HTMLModel",
      "state": {
       "layout": "IPY_MODEL_aef54af6cd554c608405cd52c21bfbda",
       "style": "IPY_MODEL_d4faa2e72ab84de6aa9f496de85d065c",
       "value": "Validation DataLoader 0: 100%"
      }
     },
     "a200981c7f4549f08bb7ca088cebc095": {
      "model_module": "@jupyter-widgets/base",
      "model_module_version": "2.0.0",
      "model_name": "LayoutModel",
      "state": {}
     },
     "a20f056f36af4dea83b5858b60d2a69f": {
      "model_module": "@jupyter-widgets/controls",
      "model_module_version": "2.0.0",
      "model_name": "FloatProgressModel",
      "state": {
       "layout": "IPY_MODEL_d3435c5a7f0e45199e7aff58520d3615",
       "max": 25,
       "style": "IPY_MODEL_9015825aef0f4cbe98152da519d48e8a",
       "value": 25
      }
     },
     "a2500b9ec15c42b8b4246d958274d8ff": {
      "model_module": "@jupyter-widgets/base",
      "model_module_version": "2.0.0",
      "model_name": "LayoutModel",
      "state": {
       "display": "inline-flex",
       "flex_flow": "row wrap",
       "width": "100%"
      }
     },
     "a2687426b2964862b7ba36057c4a7aa9": {
      "model_module": "@jupyter-widgets/controls",
      "model_module_version": "2.0.0",
      "model_name": "FloatProgressModel",
      "state": {
       "layout": "IPY_MODEL_ef5ec03128a046f29052e43520bd4ca6",
       "max": 25,
       "style": "IPY_MODEL_0882bc1e6ac744a789d4caf977fdbe94",
       "value": 25
      }
     },
     "a28d825b645f43acb5ee3d537e1bf9a4": {
      "model_module": "@jupyter-widgets/controls",
      "model_module_version": "2.0.0",
      "model_name": "HTMLModel",
      "state": {
       "layout": "IPY_MODEL_3a526c50fd0148ff847c69a56524d2f7",
       "style": "IPY_MODEL_448a19cab04241b19b4e1abbe4a8a4cb",
       "value": "Validation DataLoader 0: 100%"
      }
     },
     "a2b2a34aa76b4b58a7fedd0d7eeb3017": {
      "model_module": "@jupyter-widgets/base",
      "model_module_version": "2.0.0",
      "model_name": "LayoutModel",
      "state": {}
     },
     "a313caee10f340a0957ea93efb09efbc": {
      "model_module": "@jupyter-widgets/controls",
      "model_module_version": "2.0.0",
      "model_name": "HTMLStyleModel",
      "state": {
       "description_width": "",
       "font_size": null,
       "text_color": null
      }
     },
     "a3181473e22f4bdf8b95d1321f2c74f7": {
      "model_module": "@jupyter-widgets/base",
      "model_module_version": "2.0.0",
      "model_name": "LayoutModel",
      "state": {}
     },
     "a31d7ba3c3f24affbab39a11bcda9e75": {
      "model_module": "@jupyter-widgets/base",
      "model_module_version": "2.0.0",
      "model_name": "LayoutModel",
      "state": {
       "display": "inline-flex",
       "flex_flow": "row wrap",
       "visibility": "hidden",
       "width": "100%"
      }
     },
     "a37911e3651b43ce85f9cb87747e0aa1": {
      "model_module": "@jupyter-widgets/base",
      "model_module_version": "2.0.0",
      "model_name": "LayoutModel",
      "state": {}
     },
     "a3b3c120b79647f1842ee637f5c4378c": {
      "model_module": "@jupyter-widgets/controls",
      "model_module_version": "2.0.0",
      "model_name": "HTMLStyleModel",
      "state": {
       "description_width": "",
       "font_size": null,
       "text_color": null
      }
     },
     "a3d62bbce7cc45aa90f559a7006f9322": {
      "model_module": "@jupyter-widgets/controls",
      "model_module_version": "2.0.0",
      "model_name": "HTMLStyleModel",
      "state": {
       "description_width": "",
       "font_size": null,
       "text_color": null
      }
     },
     "a43b4b5456ff4dae9b62e101fdd45c77": {
      "model_module": "@jupyter-widgets/controls",
      "model_module_version": "2.0.0",
      "model_name": "HTMLModel",
      "state": {
       "layout": "IPY_MODEL_be600284b77f497cb30ef5aaba145585",
       "style": "IPY_MODEL_db4f8f7b25934842b9153185d4a75da1",
       "value": "Validation DataLoader 0: 100%"
      }
     },
     "a52e1b801875401281b6f8b573f4799b": {
      "model_module": "@jupyter-widgets/controls",
      "model_module_version": "2.0.0",
      "model_name": "ProgressStyleModel",
      "state": {
       "description_width": ""
      }
     },
     "a628844f17714c27922286a14fa1bcb4": {
      "model_module": "@jupyter-widgets/base",
      "model_module_version": "2.0.0",
      "model_name": "LayoutModel",
      "state": {
       "display": "inline-flex",
       "flex_flow": "row wrap",
       "visibility": "hidden",
       "width": "100%"
      }
     },
     "a63c5ea88abf4a8691a8a59859972418": {
      "model_module": "@jupyter-widgets/base",
      "model_module_version": "2.0.0",
      "model_name": "LayoutModel",
      "state": {}
     },
     "a6714eeb2971489c8a74ec37155bbda2": {
      "model_module": "@jupyter-widgets/base",
      "model_module_version": "2.0.0",
      "model_name": "LayoutModel",
      "state": {}
     },
     "a6810448ecf540ee8d2ea8f84985391f": {
      "model_module": "@jupyter-widgets/controls",
      "model_module_version": "2.0.0",
      "model_name": "HTMLStyleModel",
      "state": {
       "description_width": "",
       "font_size": null,
       "text_color": null
      }
     },
     "a681734a0ccc4c4784a6a20fcc784001": {
      "model_module": "@jupyter-widgets/controls",
      "model_module_version": "2.0.0",
      "model_name": "HTMLStyleModel",
      "state": {
       "description_width": "",
       "font_size": null,
       "text_color": null
      }
     },
     "a6869f17f87042eab400b0084d5c7a78": {
      "model_module": "@jupyter-widgets/controls",
      "model_module_version": "2.0.0",
      "model_name": "HTMLStyleModel",
      "state": {
       "description_width": "",
       "font_size": null,
       "text_color": null
      }
     },
     "a70834f78748497d8879c6c146d77de3": {
      "model_module": "@jupyter-widgets/base",
      "model_module_version": "2.0.0",
      "model_name": "LayoutModel",
      "state": {
       "flex": "2"
      }
     },
     "a749b1995c304e349cc1d00813c6c43e": {
      "model_module": "@jupyter-widgets/controls",
      "model_module_version": "2.0.0",
      "model_name": "HTMLModel",
      "state": {
       "layout": "IPY_MODEL_cc83a128d3554725bfbedcae1e839def",
       "style": "IPY_MODEL_c1ba61ec34e444c99ed5529596373fa4",
       "value": " 25/25 [00:00&lt;00:00, 259.05it/s]"
      }
     },
     "a7b13a5180894912a3de835812f6028f": {
      "model_module": "@jupyter-widgets/base",
      "model_module_version": "2.0.0",
      "model_name": "LayoutModel",
      "state": {}
     },
     "a7b4427d6626461ca6046cc4f4658250": {
      "model_module": "@jupyter-widgets/controls",
      "model_module_version": "2.0.0",
      "model_name": "FloatProgressModel",
      "state": {
       "layout": "IPY_MODEL_05e1d0001b044bf58a6fb4e9c5755c2a",
       "max": 25,
       "style": "IPY_MODEL_50fac53c204c4f679ef845fe65ed7f7e",
       "value": 25
      }
     },
     "a7b8f93f303e4e3399f092105a98e4b3": {
      "model_module": "@jupyter-widgets/base",
      "model_module_version": "2.0.0",
      "model_name": "LayoutModel",
      "state": {}
     },
     "a7dd4cd3e5af4011a2f83e79c17ba92c": {
      "model_module": "@jupyter-widgets/controls",
      "model_module_version": "2.0.0",
      "model_name": "HTMLStyleModel",
      "state": {
       "description_width": "",
       "font_size": null,
       "text_color": null
      }
     },
     "a7ed81e58c2a48b893aacdf155db41a0": {
      "model_module": "@jupyter-widgets/controls",
      "model_module_version": "2.0.0",
      "model_name": "HTMLStyleModel",
      "state": {
       "description_width": "",
       "font_size": null,
       "text_color": null
      }
     },
     "a8c55d9a40164bbeb868f71b1ac786e7": {
      "model_module": "@jupyter-widgets/controls",
      "model_module_version": "2.0.0",
      "model_name": "HBoxModel",
      "state": {
       "children": [
        "IPY_MODEL_e7053f25268145a599c4f2846a96509f",
        "IPY_MODEL_b5f4f4545f4e4b13bb9ef8823099038c",
        "IPY_MODEL_b9f0722575294233835c1ca1415f391b"
       ],
       "layout": "IPY_MODEL_94733bbd7c234c7baa42c4bf91dba820"
      }
     },
     "a8ebbe8b3e994b218a7d97d3fb3626a3": {
      "model_module": "@jupyter-widgets/controls",
      "model_module_version": "2.0.0",
      "model_name": "HTMLStyleModel",
      "state": {
       "description_width": "",
       "font_size": null,
       "text_color": null
      }
     },
     "a94e2232ae604824b2eb97cde1597025": {
      "model_module": "@jupyter-widgets/base",
      "model_module_version": "2.0.0",
      "model_name": "LayoutModel",
      "state": {}
     },
     "a96cd381ef7f40809ee5fe007e1f7ecc": {
      "model_module": "@jupyter-widgets/controls",
      "model_module_version": "2.0.0",
      "model_name": "HTMLModel",
      "state": {
       "layout": "IPY_MODEL_05508292479d4172b67636b3ad1b057b",
       "style": "IPY_MODEL_158c7c7358244ba89efb6ebc3ea9e335",
       "value": "Validation DataLoader 0: 100%"
      }
     },
     "a9b4acfb60344ca0b84c2f58384c3d3e": {
      "model_module": "@jupyter-widgets/controls",
      "model_module_version": "2.0.0",
      "model_name": "HTMLModel",
      "state": {
       "layout": "IPY_MODEL_b755f2ecc19b44b68cba2ad3e2a98932",
       "style": "IPY_MODEL_663da327303345b8a9f11bb24c3b8a2b",
       "value": " 2/2 [00:00&lt;00:00, 181.71it/s]"
      }
     },
     "aa9d263c42484cac8c05df25bd0b7c8c": {
      "model_module": "@jupyter-widgets/base",
      "model_module_version": "2.0.0",
      "model_name": "LayoutModel",
      "state": {}
     },
     "aaa6ad1b61ac483f86801e9a05b959b1": {
      "model_module": "@jupyter-widgets/controls",
      "model_module_version": "2.0.0",
      "model_name": "HTMLStyleModel",
      "state": {
       "description_width": "",
       "font_size": null,
       "text_color": null
      }
     },
     "ab17e61a2314473b9a309b7fcb7ef000": {
      "model_module": "@jupyter-widgets/controls",
      "model_module_version": "2.0.0",
      "model_name": "FloatProgressModel",
      "state": {
       "layout": "IPY_MODEL_dfd65084656440a4aae66e88834a7a2f",
       "max": 25,
       "style": "IPY_MODEL_15a5b823c96642f4a535e79ef130cb0e",
       "value": 25
      }
     },
     "ab2df8a448c74bdba61c8829badce4c0": {
      "model_module": "@jupyter-widgets/controls",
      "model_module_version": "2.0.0",
      "model_name": "HTMLStyleModel",
      "state": {
       "description_width": "",
       "font_size": null,
       "text_color": null
      }
     },
     "abac5eb6cd5045ea8636d030bd24276a": {
      "model_module": "@jupyter-widgets/controls",
      "model_module_version": "2.0.0",
      "model_name": "HTMLStyleModel",
      "state": {
       "description_width": "",
       "font_size": null,
       "text_color": null
      }
     },
     "abb3c204caf54789ad8807058ab1b9cb": {
      "model_module": "@jupyter-widgets/controls",
      "model_module_version": "2.0.0",
      "model_name": "HTMLModel",
      "state": {
       "layout": "IPY_MODEL_5b2cc7b35ae340fcb226f37e2ee274c6",
       "style": "IPY_MODEL_a313caee10f340a0957ea93efb09efbc",
       "value": " 25/25 [00:00&lt;00:00, 275.09it/s]"
      }
     },
     "abd47110cea54126860950038d9b0502": {
      "model_module": "@jupyter-widgets/controls",
      "model_module_version": "2.0.0",
      "model_name": "FloatProgressModel",
      "state": {
       "layout": "IPY_MODEL_57cae021b3ae47f89b94092b330712ae",
       "max": 25,
       "style": "IPY_MODEL_d20165f3c2194b85b6ade59778cf5611",
       "value": 25
      }
     },
     "abf5304ccc1546bb8af0ae28b6e85990": {
      "model_module": "@jupyter-widgets/base",
      "model_module_version": "2.0.0",
      "model_name": "LayoutModel",
      "state": {
       "flex": "2"
      }
     },
     "ac0dd7dbbd3f41e0a886e9d3c55435a6": {
      "model_module": "@jupyter-widgets/base",
      "model_module_version": "2.0.0",
      "model_name": "LayoutModel",
      "state": {}
     },
     "ac95a583feec42bdac38008b15451046": {
      "model_module": "@jupyter-widgets/base",
      "model_module_version": "2.0.0",
      "model_name": "LayoutModel",
      "state": {}
     },
     "ac97bf58a6b34fe0b3d6dccd4eec559f": {
      "model_module": "@jupyter-widgets/base",
      "model_module_version": "2.0.0",
      "model_name": "LayoutModel",
      "state": {
       "display": "inline-flex",
       "flex_flow": "row wrap",
       "visibility": "hidden",
       "width": "100%"
      }
     },
     "aca9c7043ff44718b004975026db7a56": {
      "model_module": "@jupyter-widgets/controls",
      "model_module_version": "2.0.0",
      "model_name": "HTMLModel",
      "state": {
       "layout": "IPY_MODEL_2ec20581b188429a9e0ee4d1fc05efca",
       "style": "IPY_MODEL_e3587a63772a43b780bca4e0fce6258a",
       "value": "Validation DataLoader 0: 100%"
      }
     },
     "ad6e07852b50429c818ba48c3315f538": {
      "model_module": "@jupyter-widgets/base",
      "model_module_version": "2.0.0",
      "model_name": "LayoutModel",
      "state": {
       "display": "inline-flex",
       "flex_flow": "row wrap",
       "visibility": "hidden",
       "width": "100%"
      }
     },
     "adace41222b34f69b47a0aed85418b27": {
      "model_module": "@jupyter-widgets/base",
      "model_module_version": "2.0.0",
      "model_name": "LayoutModel",
      "state": {
       "display": "inline-flex",
       "flex_flow": "row wrap",
       "visibility": "hidden",
       "width": "100%"
      }
     },
     "adbc6d6e33b1443b863cfd449efc7ca8": {
      "model_module": "@jupyter-widgets/base",
      "model_module_version": "2.0.0",
      "model_name": "LayoutModel",
      "state": {
       "display": "inline-flex",
       "flex_flow": "row wrap",
       "visibility": "hidden",
       "width": "100%"
      }
     },
     "ae0e7d783f6b4e19ad7e83084b26bf48": {
      "model_module": "@jupyter-widgets/base",
      "model_module_version": "2.0.0",
      "model_name": "LayoutModel",
      "state": {
       "flex": "2"
      }
     },
     "ae303373dc0c4166801eac2fc3501f48": {
      "model_module": "@jupyter-widgets/base",
      "model_module_version": "2.0.0",
      "model_name": "LayoutModel",
      "state": {
       "flex": "2"
      }
     },
     "ae7c818094454fd3819baf6ca54532e7": {
      "model_module": "@jupyter-widgets/controls",
      "model_module_version": "2.0.0",
      "model_name": "HTMLModel",
      "state": {
       "layout": "IPY_MODEL_f7a74fbb8e4f4875be91a6f58c860cdc",
       "style": "IPY_MODEL_d68ab50dd2b84b979a749e04dacee81b",
       "value": " 25/25 [00:00&lt;00:00, 262.55it/s]"
      }
     },
     "aef54af6cd554c608405cd52c21bfbda": {
      "model_module": "@jupyter-widgets/base",
      "model_module_version": "2.0.0",
      "model_name": "LayoutModel",
      "state": {}
     },
     "af0b16b553934e3cbf7090d7f6deaa15": {
      "model_module": "@jupyter-widgets/controls",
      "model_module_version": "2.0.0",
      "model_name": "HTMLStyleModel",
      "state": {
       "description_width": "",
       "font_size": null,
       "text_color": null
      }
     },
     "af656298b6b34215805acc0499fb0036": {
      "model_module": "@jupyter-widgets/controls",
      "model_module_version": "2.0.0",
      "model_name": "ProgressStyleModel",
      "state": {
       "description_width": ""
      }
     },
     "afaa9f23c347403da01f1fa46c42b8b1": {
      "model_module": "@jupyter-widgets/controls",
      "model_module_version": "2.0.0",
      "model_name": "HTMLStyleModel",
      "state": {
       "description_width": "",
       "font_size": null,
       "text_color": null
      }
     },
     "b033391b8dea47eb81d42ae207a100ef": {
      "model_module": "@jupyter-widgets/base",
      "model_module_version": "2.0.0",
      "model_name": "LayoutModel",
      "state": {}
     },
     "b0c3bb08d7a6489ca8fdfdb404199ba8": {
      "model_module": "@jupyter-widgets/controls",
      "model_module_version": "2.0.0",
      "model_name": "HTMLStyleModel",
      "state": {
       "description_width": "",
       "font_size": null,
       "text_color": null
      }
     },
     "b0f71431187c43108b1f4ab81f4a75a2": {
      "model_module": "@jupyter-widgets/base",
      "model_module_version": "2.0.0",
      "model_name": "LayoutModel",
      "state": {}
     },
     "b0fc371be25a49c6881a1adea3ec0630": {
      "model_module": "@jupyter-widgets/base",
      "model_module_version": "2.0.0",
      "model_name": "LayoutModel",
      "state": {
       "display": "inline-flex",
       "flex_flow": "row wrap",
       "width": "100%"
      }
     },
     "b13f07f91d7945b6b6db8e267f2e4b9d": {
      "model_module": "@jupyter-widgets/controls",
      "model_module_version": "2.0.0",
      "model_name": "HTMLModel",
      "state": {
       "layout": "IPY_MODEL_a7b8f93f303e4e3399f092105a98e4b3",
       "style": "IPY_MODEL_a3b3c120b79647f1842ee637f5c4378c",
       "value": "Sanity Checking DataLoader 0: 100%"
      }
     },
     "b168cb5922124ff0adf523da70753800": {
      "model_module": "@jupyter-widgets/controls",
      "model_module_version": "2.0.0",
      "model_name": "ProgressStyleModel",
      "state": {
       "description_width": ""
      }
     },
     "b1cbda24d0a241f2ac57fe446c44e0c7": {
      "model_module": "@jupyter-widgets/controls",
      "model_module_version": "2.0.0",
      "model_name": "HTMLStyleModel",
      "state": {
       "description_width": "",
       "font_size": null,
       "text_color": null
      }
     },
     "b2059549ac8a4b47b93dffbf3a7f9750": {
      "model_module": "@jupyter-widgets/base",
      "model_module_version": "2.0.0",
      "model_name": "LayoutModel",
      "state": {
       "flex": "2"
      }
     },
     "b234fdd7ddcb4a5ba6672113d7cc49b1": {
      "model_module": "@jupyter-widgets/base",
      "model_module_version": "2.0.0",
      "model_name": "LayoutModel",
      "state": {}
     },
     "b2c6a2262d48471db34f6ac63153626e": {
      "model_module": "@jupyter-widgets/controls",
      "model_module_version": "2.0.0",
      "model_name": "HTMLStyleModel",
      "state": {
       "description_width": "",
       "font_size": null,
       "text_color": null
      }
     },
     "b2d416337b4349cbb0ca2d7a55933c8d": {
      "model_module": "@jupyter-widgets/controls",
      "model_module_version": "2.0.0",
      "model_name": "ProgressStyleModel",
      "state": {
       "description_width": ""
      }
     },
     "b37c2e1ee5eb4bd193c9138b65a79708": {
      "model_module": "@jupyter-widgets/base",
      "model_module_version": "2.0.0",
      "model_name": "LayoutModel",
      "state": {
       "flex": "2"
      }
     },
     "b394d308af40464faf0d3b426db190b9": {
      "model_module": "@jupyter-widgets/controls",
      "model_module_version": "2.0.0",
      "model_name": "HTMLStyleModel",
      "state": {
       "description_width": "",
       "font_size": null,
       "text_color": null
      }
     },
     "b3b06274df9c4423b7f18e3979841764": {
      "model_module": "@jupyter-widgets/controls",
      "model_module_version": "2.0.0",
      "model_name": "HTMLStyleModel",
      "state": {
       "description_width": "",
       "font_size": null,
       "text_color": null
      }
     },
     "b3e2ffd6bab74a9085014bb23d4d9de4": {
      "model_module": "@jupyter-widgets/controls",
      "model_module_version": "2.0.0",
      "model_name": "HTMLModel",
      "state": {
       "layout": "IPY_MODEL_f4e639563f1742fd8cd5fcf3f01ca074",
       "style": "IPY_MODEL_f973af76ad8a4d19853ce5096ac9d9c5",
       "value": "Validation DataLoader 0: 100%"
      }
     },
     "b3e6a9c97b16424f890b31e2e5066e26": {
      "model_module": "@jupyter-widgets/controls",
      "model_module_version": "2.0.0",
      "model_name": "HTMLStyleModel",
      "state": {
       "description_width": "",
       "font_size": null,
       "text_color": null
      }
     },
     "b3e8e2004eed44848f3547dfa1b619d4": {
      "model_module": "@jupyter-widgets/controls",
      "model_module_version": "2.0.0",
      "model_name": "ProgressStyleModel",
      "state": {
       "description_width": ""
      }
     },
     "b45ce4d185fb4926b89d2c2bd703b993": {
      "model_module": "@jupyter-widgets/base",
      "model_module_version": "2.0.0",
      "model_name": "LayoutModel",
      "state": {}
     },
     "b53fed2c662441be9c966667a58f97dc": {
      "model_module": "@jupyter-widgets/base",
      "model_module_version": "2.0.0",
      "model_name": "LayoutModel",
      "state": {}
     },
     "b5f4f4545f4e4b13bb9ef8823099038c": {
      "model_module": "@jupyter-widgets/controls",
      "model_module_version": "2.0.0",
      "model_name": "FloatProgressModel",
      "state": {
       "bar_style": "success",
       "layout": "IPY_MODEL_8684a2ae4e58419c8c90ed047e107510",
       "max": 63,
       "style": "IPY_MODEL_fa4434c9166944f8be571c822b70584e",
       "value": 63
      }
     },
     "b61f832a9235430b9d2b8df67db77b3b": {
      "model_module": "@jupyter-widgets/base",
      "model_module_version": "2.0.0",
      "model_name": "LayoutModel",
      "state": {
       "display": "inline-flex",
       "flex_flow": "row wrap",
       "visibility": "hidden",
       "width": "100%"
      }
     },
     "b67c20afaca5491ea9feb9423282141d": {
      "model_module": "@jupyter-widgets/controls",
      "model_module_version": "2.0.0",
      "model_name": "ProgressStyleModel",
      "state": {
       "description_width": ""
      }
     },
     "b6db23f25a55402aa2298261d0933dc5": {
      "model_module": "@jupyter-widgets/controls",
      "model_module_version": "2.0.0",
      "model_name": "HTMLStyleModel",
      "state": {
       "description_width": "",
       "font_size": null,
       "text_color": null
      }
     },
     "b6e78ed863364a39a179ffd81e621bb8": {
      "model_module": "@jupyter-widgets/base",
      "model_module_version": "2.0.0",
      "model_name": "LayoutModel",
      "state": {
       "display": "inline-flex",
       "flex_flow": "row wrap",
       "visibility": "hidden",
       "width": "100%"
      }
     },
     "b6f5a55c37e3470c91374af9a9cccea5": {
      "model_module": "@jupyter-widgets/base",
      "model_module_version": "2.0.0",
      "model_name": "LayoutModel",
      "state": {
       "display": "inline-flex",
       "flex_flow": "row wrap",
       "visibility": "hidden",
       "width": "100%"
      }
     },
     "b71bc0770cf2468393e5a056ba2fa3ef": {
      "model_module": "@jupyter-widgets/controls",
      "model_module_version": "2.0.0",
      "model_name": "HTMLModel",
      "state": {
       "layout": "IPY_MODEL_aa9d263c42484cac8c05df25bd0b7c8c",
       "style": "IPY_MODEL_7402c2d428b84280abe5d579b4e56c94",
       "value": " 100/100 [00:00&lt;00:00, 141.66it/s, v_num=13622, train_loss=0.00551, val_loss=0.0241, val_acc=0.994]"
      }
     },
     "b755f2ecc19b44b68cba2ad3e2a98932": {
      "model_module": "@jupyter-widgets/base",
      "model_module_version": "2.0.0",
      "model_name": "LayoutModel",
      "state": {}
     },
     "b7ca7a3e5cf04dc5bb3f11548e343e58": {
      "model_module": "@jupyter-widgets/controls",
      "model_module_version": "2.0.0",
      "model_name": "ProgressStyleModel",
      "state": {
       "description_width": ""
      }
     },
     "b82640169b144c609bb9dda33b6ff1d4": {
      "model_module": "@jupyter-widgets/controls",
      "model_module_version": "2.0.0",
      "model_name": "HTMLStyleModel",
      "state": {
       "description_width": "",
       "font_size": null,
       "text_color": null
      }
     },
     "b833f2c4cda9467da10d506cb719da22": {
      "model_module": "@jupyter-widgets/base",
      "model_module_version": "2.0.0",
      "model_name": "LayoutModel",
      "state": {}
     },
     "b85f05cd1afb4ebcb3be2a545e8de272": {
      "model_module": "@jupyter-widgets/controls",
      "model_module_version": "2.0.0",
      "model_name": "HTMLModel",
      "state": {
       "layout": "IPY_MODEL_ec2b36b0268a48619525b3c4ba27c17b",
       "style": "IPY_MODEL_2a3847bc06a74322aa97378b9c00c31d",
       "value": " 25/25 [00:00&lt;00:00, 271.83it/s]"
      }
     },
     "b86bf8af6e564f7cafbfa5faf8907c58": {
      "model_module": "@jupyter-widgets/controls",
      "model_module_version": "2.0.0",
      "model_name": "HTMLModel",
      "state": {
       "layout": "IPY_MODEL_97afbeec5eba4413bb47a84909598a74",
       "style": "IPY_MODEL_44c352f15e10406d913ddee9ec57ce41",
       "value": " 25/25 [00:00&lt;00:00, 271.11it/s]"
      }
     },
     "b8bda886dae24c94a0322228fe14fe70": {
      "model_module": "@jupyter-widgets/controls",
      "model_module_version": "2.0.0",
      "model_name": "HTMLModel",
      "state": {
       "layout": "IPY_MODEL_dfffe6271a614037bb1b3010182c0d7e",
       "style": "IPY_MODEL_719f87fa62f245a18ecb3387b85bce53",
       "value": "Validation DataLoader 0: 100%"
      }
     },
     "b8d64e17021548eea0469599851e4448": {
      "model_module": "@jupyter-widgets/base",
      "model_module_version": "2.0.0",
      "model_name": "LayoutModel",
      "state": {
       "display": "inline-flex",
       "flex_flow": "row wrap",
       "visibility": "hidden",
       "width": "100%"
      }
     },
     "b9c8790f979549d292623c94c346511d": {
      "model_module": "@jupyter-widgets/controls",
      "model_module_version": "2.0.0",
      "model_name": "ProgressStyleModel",
      "state": {
       "description_width": ""
      }
     },
     "b9f0722575294233835c1ca1415f391b": {
      "model_module": "@jupyter-widgets/controls",
      "model_module_version": "2.0.0",
      "model_name": "HTMLModel",
      "state": {
       "layout": "IPY_MODEL_b0f71431187c43108b1f4ab81f4a75a2",
       "style": "IPY_MODEL_b6db23f25a55402aa2298261d0933dc5",
       "value": " 63/63 [00:00&lt;00:00, 102.74it/s]"
      }
     },
     "ba04190651714106a2d998f2086cf062": {
      "model_module": "@jupyter-widgets/controls",
      "model_module_version": "2.0.0",
      "model_name": "HTMLModel",
      "state": {
       "layout": "IPY_MODEL_780d762369e0499eae83ca72d7aa3f0f",
       "style": "IPY_MODEL_d3f5ae0d5b044e3294cfbf93356ad371",
       "value": " 25/25 [00:00&lt;00:00, 281.17it/s]"
      }
     },
     "ba0c9c0d970a4f87bc5242d19c22c192": {
      "model_module": "@jupyter-widgets/base",
      "model_module_version": "2.0.0",
      "model_name": "LayoutModel",
      "state": {}
     },
     "ba601993c8f646a1b8485674a8530aea": {
      "model_module": "@jupyter-widgets/controls",
      "model_module_version": "2.0.0",
      "model_name": "HBoxModel",
      "state": {
       "children": [
        "IPY_MODEL_8d4d255cfc964a5ba7bde467c57cacad",
        "IPY_MODEL_fe0023e858604923bee645d3cd1ee94e",
        "IPY_MODEL_b71bc0770cf2468393e5a056ba2fa3ef"
       ],
       "layout": "IPY_MODEL_9e8ffd14fe4f4fafa7b82709f353101d"
      }
     },
     "bad9b09aa28c4abf85e6ff53835ede92": {
      "model_module": "@jupyter-widgets/controls",
      "model_module_version": "2.0.0",
      "model_name": "HTMLStyleModel",
      "state": {
       "description_width": "",
       "font_size": null,
       "text_color": null
      }
     },
     "bb2411eaf3934633af1f5f151ad58276": {
      "model_module": "@jupyter-widgets/base",
      "model_module_version": "2.0.0",
      "model_name": "LayoutModel",
      "state": {}
     },
     "bb40d164b6e24bbf97ab22389c30a0df": {
      "model_module": "@jupyter-widgets/base",
      "model_module_version": "2.0.0",
      "model_name": "LayoutModel",
      "state": {}
     },
     "bb50eed079ff44699bb260b4afac8660": {
      "model_module": "@jupyter-widgets/base",
      "model_module_version": "2.0.0",
      "model_name": "LayoutModel",
      "state": {}
     },
     "bb703797b1b24a2a8992df79bbbe4fd9": {
      "model_module": "@jupyter-widgets/controls",
      "model_module_version": "2.0.0",
      "model_name": "HTMLModel",
      "state": {
       "layout": "IPY_MODEL_145d01ab58314753ad6c9788fc4cbfe8",
       "style": "IPY_MODEL_b1cbda24d0a241f2ac57fe446c44e0c7",
       "value": " 25/25 [00:00&lt;00:00, 278.20it/s]"
      }
     },
     "bbce6da40c64458ba3d1b94a15a6748d": {
      "model_module": "@jupyter-widgets/controls",
      "model_module_version": "2.0.0",
      "model_name": "ProgressStyleModel",
      "state": {
       "description_width": ""
      }
     },
     "bc333b96e0f843e2813a58320ec37ab4": {
      "model_module": "@jupyter-widgets/base",
      "model_module_version": "2.0.0",
      "model_name": "LayoutModel",
      "state": {}
     },
     "bc42236d779042a6848d83b972fdd5e5": {
      "model_module": "@jupyter-widgets/base",
      "model_module_version": "2.0.0",
      "model_name": "LayoutModel",
      "state": {
       "flex": "2"
      }
     },
     "bc481e92aa7540c7bd657fadf79789a3": {
      "model_module": "@jupyter-widgets/base",
      "model_module_version": "2.0.0",
      "model_name": "LayoutModel",
      "state": {}
     },
     "bc5efa5ad8ee459c9da7222cdf28cfdc": {
      "model_module": "@jupyter-widgets/controls",
      "model_module_version": "2.0.0",
      "model_name": "FloatProgressModel",
      "state": {
       "layout": "IPY_MODEL_4a0305cff4694d20aa259cd49171c604",
       "max": 25,
       "style": "IPY_MODEL_af656298b6b34215805acc0499fb0036",
       "value": 25
      }
     },
     "bd4799e4fafe4c8e85dc1c2f4e96d141": {
      "model_module": "@jupyter-widgets/base",
      "model_module_version": "2.0.0",
      "model_name": "LayoutModel",
      "state": {
       "flex": "2"
      }
     },
     "bd4f9a5c7c9744769c8da02ad6ddfbe5": {
      "model_module": "@jupyter-widgets/controls",
      "model_module_version": "2.0.0",
      "model_name": "HTMLStyleModel",
      "state": {
       "description_width": "",
       "font_size": null,
       "text_color": null
      }
     },
     "bd6d03eba9a54a7ea043eda24375a6e6": {
      "model_module": "@jupyter-widgets/controls",
      "model_module_version": "2.0.0",
      "model_name": "ProgressStyleModel",
      "state": {
       "description_width": ""
      }
     },
     "be016f8c860f4a11926ec556a29fe950": {
      "model_module": "@jupyter-widgets/base",
      "model_module_version": "2.0.0",
      "model_name": "LayoutModel",
      "state": {
       "display": "inline-flex",
       "flex_flow": "row wrap",
       "visibility": "hidden",
       "width": "100%"
      }
     },
     "be247102de2f46239a9c756bce65bc49": {
      "model_module": "@jupyter-widgets/controls",
      "model_module_version": "2.0.0",
      "model_name": "HTMLModel",
      "state": {
       "layout": "IPY_MODEL_17de736480fe4e519580657c4db11f8b",
       "style": "IPY_MODEL_017fba34d28341e08dd31304070ec292",
       "value": "Validation DataLoader 0: 100%"
      }
     },
     "be600284b77f497cb30ef5aaba145585": {
      "model_module": "@jupyter-widgets/base",
      "model_module_version": "2.0.0",
      "model_name": "LayoutModel",
      "state": {}
     },
     "be716cca164c47c18c987e90d78338ea": {
      "model_module": "@jupyter-widgets/controls",
      "model_module_version": "2.0.0",
      "model_name": "HTMLStyleModel",
      "state": {
       "description_width": "",
       "font_size": null,
       "text_color": null
      }
     },
     "be7fd7bc139b4286b8fbb56c9b0a9b57": {
      "model_module": "@jupyter-widgets/base",
      "model_module_version": "2.0.0",
      "model_name": "LayoutModel",
      "state": {
       "flex": "2"
      }
     },
     "be840815462641519952c9f708f07578": {
      "model_module": "@jupyter-widgets/controls",
      "model_module_version": "2.0.0",
      "model_name": "HTMLModel",
      "state": {
       "layout": "IPY_MODEL_f24281d3900b4a7abb0d42fa3deb911e",
       "style": "IPY_MODEL_b0c3bb08d7a6489ca8fdfdb404199ba8",
       "value": "Validation DataLoader 0: 100%"
      }
     },
     "be95d6e927eb43f1bc0b7bbc916c7803": {
      "model_module": "@jupyter-widgets/base",
      "model_module_version": "2.0.0",
      "model_name": "LayoutModel",
      "state": {}
     },
     "be97100083554fdd9ff9ac80873ff7d2": {
      "model_module": "@jupyter-widgets/controls",
      "model_module_version": "2.0.0",
      "model_name": "HTMLStyleModel",
      "state": {
       "description_width": "",
       "font_size": null,
       "text_color": null
      }
     },
     "be9b86c995124e16a0f70188409a0285": {
      "model_module": "@jupyter-widgets/controls",
      "model_module_version": "2.0.0",
      "model_name": "HTMLStyleModel",
      "state": {
       "description_width": "",
       "font_size": null,
       "text_color": null
      }
     },
     "befe5e46ad864ef5b605dd7a9f247b55": {
      "model_module": "@jupyter-widgets/controls",
      "model_module_version": "2.0.0",
      "model_name": "HTMLModel",
      "state": {
       "layout": "IPY_MODEL_76ec65542f9e41429865519e09b56b8c",
       "style": "IPY_MODEL_fac566b2f89b40028a4a6a529574d793",
       "value": " 25/25 [00:00&lt;00:00, 280.92it/s]"
      }
     },
     "bf6387cfa1f548cba9441cda61893aaf": {
      "model_module": "@jupyter-widgets/controls",
      "model_module_version": "2.0.0",
      "model_name": "HTMLStyleModel",
      "state": {
       "description_width": "",
       "font_size": null,
       "text_color": null
      }
     },
     "bf96ccab280e4267a6aead635b577fa4": {
      "model_module": "@jupyter-widgets/controls",
      "model_module_version": "2.0.0",
      "model_name": "HTMLStyleModel",
      "state": {
       "description_width": "",
       "font_size": null,
       "text_color": null
      }
     },
     "bfd213bc97d24b85a9196a640098e18b": {
      "model_module": "@jupyter-widgets/controls",
      "model_module_version": "2.0.0",
      "model_name": "FloatProgressModel",
      "state": {
       "layout": "IPY_MODEL_c590cae814db4a8cb716f9335d9393f8",
       "max": 25,
       "style": "IPY_MODEL_e72bc1bf99c24ea68dd37d02404b8112",
       "value": 25
      }
     },
     "c0862c3f9ed04be698a78034a94962b7": {
      "model_module": "@jupyter-widgets/base",
      "model_module_version": "2.0.0",
      "model_name": "LayoutModel",
      "state": {}
     },
     "c0acfeb2ab5941a68410dde399bbadd6": {
      "model_module": "@jupyter-widgets/controls",
      "model_module_version": "2.0.0",
      "model_name": "HTMLModel",
      "state": {
       "layout": "IPY_MODEL_ef0491235d3d483b91cf91480ffe6dd4",
       "style": "IPY_MODEL_36c6888a8fb74c6e81312440fcfd1774",
       "value": "Validation DataLoader 0: 100%"
      }
     },
     "c0be6f8c5ec44dcdad8af99fc876d6aa": {
      "model_module": "@jupyter-widgets/controls",
      "model_module_version": "2.0.0",
      "model_name": "HTMLModel",
      "state": {
       "layout": "IPY_MODEL_0d63ffe8017649d1861fb91828f09b02",
       "style": "IPY_MODEL_b3b06274df9c4423b7f18e3979841764",
       "value": "Validation DataLoader 0: 100%"
      }
     },
     "c0c641e1ec4e4d0ba449b92700ad321b": {
      "model_module": "@jupyter-widgets/base",
      "model_module_version": "2.0.0",
      "model_name": "LayoutModel",
      "state": {}
     },
     "c1b12080aefa4dcca27cfbdbf696db51": {
      "model_module": "@jupyter-widgets/controls",
      "model_module_version": "2.0.0",
      "model_name": "FloatProgressModel",
      "state": {
       "layout": "IPY_MODEL_bd4799e4fafe4c8e85dc1c2f4e96d141",
       "max": 25,
       "style": "IPY_MODEL_00111b20dd2e4b778b0d238d0f6a7e09",
       "value": 25
      }
     },
     "c1ba61ec34e444c99ed5529596373fa4": {
      "model_module": "@jupyter-widgets/controls",
      "model_module_version": "2.0.0",
      "model_name": "HTMLStyleModel",
      "state": {
       "description_width": "",
       "font_size": null,
       "text_color": null
      }
     },
     "c20373b0a1b94899bfaa070889f29a01": {
      "model_module": "@jupyter-widgets/controls",
      "model_module_version": "2.0.0",
      "model_name": "HTMLModel",
      "state": {
       "layout": "IPY_MODEL_a7b13a5180894912a3de835812f6028f",
       "style": "IPY_MODEL_01fe8ad362a549f980ce3bd5d46549f4",
       "value": "Validation DataLoader 0: 100%"
      }
     },
     "c2219692dc3448a4990dfce9bf0b3d65": {
      "model_module": "@jupyter-widgets/base",
      "model_module_version": "2.0.0",
      "model_name": "LayoutModel",
      "state": {
       "display": "inline-flex",
       "flex_flow": "row wrap",
       "visibility": "hidden",
       "width": "100%"
      }
     },
     "c2f7533261c14c31b5e3cd8063ea08f0": {
      "model_module": "@jupyter-widgets/controls",
      "model_module_version": "2.0.0",
      "model_name": "HTMLStyleModel",
      "state": {
       "description_width": "",
       "font_size": null,
       "text_color": null
      }
     },
     "c2fa4b612bc14344bea03389ccb1b8ae": {
      "model_module": "@jupyter-widgets/base",
      "model_module_version": "2.0.0",
      "model_name": "LayoutModel",
      "state": {
       "display": "inline-flex",
       "flex_flow": "row wrap",
       "visibility": "hidden",
       "width": "100%"
      }
     },
     "c2fe0ad5b92a44b3a32bf73a1621c8a6": {
      "model_module": "@jupyter-widgets/controls",
      "model_module_version": "2.0.0",
      "model_name": "FloatProgressModel",
      "state": {
       "layout": "IPY_MODEL_5f467d303f8447e58dbb79555d51129f",
       "max": 25,
       "style": "IPY_MODEL_91650dc2ff594352b682cd70e1301105",
       "value": 25
      }
     },
     "c3b8358ce98c45028096dd3d1c3875c3": {
      "model_module": "@jupyter-widgets/base",
      "model_module_version": "2.0.0",
      "model_name": "LayoutModel",
      "state": {}
     },
     "c3f5fe57ffef4de48ffb018debc8a4bc": {
      "model_module": "@jupyter-widgets/controls",
      "model_module_version": "2.0.0",
      "model_name": "HTMLModel",
      "state": {
       "layout": "IPY_MODEL_a031064778884ba4bc69b08c9649ed11",
       "style": "IPY_MODEL_a681734a0ccc4c4784a6a20fcc784001",
       "value": "Validation DataLoader 0: 100%"
      }
     },
     "c412f30a2dff40b8a6e3f0735dc05ffc": {
      "model_module": "@jupyter-widgets/controls",
      "model_module_version": "2.0.0",
      "model_name": "HTMLModel",
      "state": {
       "layout": "IPY_MODEL_dcc2d5859fa6411f8149ad494bfb8778",
       "style": "IPY_MODEL_65b0e04212bd41939884499d1eb30242",
       "value": " 25/25 [00:00&lt;00:00, 274.38it/s]"
      }
     },
     "c4a44c8bba464dd78a8ffb4d82d6d6f6": {
      "model_module": "@jupyter-widgets/controls",
      "model_module_version": "2.0.0",
      "model_name": "HTMLModel",
      "state": {
       "layout": "IPY_MODEL_3eaf67d5221042279afee32f0830b562",
       "style": "IPY_MODEL_2aeb84cc39064c8c96a911f1a901e564",
       "value": " 63/63 [00:00&lt;00:00, 97.22it/s]"
      }
     },
     "c4dc9a0d56ba408685d2144c98217baa": {
      "model_module": "@jupyter-widgets/controls",
      "model_module_version": "2.0.0",
      "model_name": "HTMLStyleModel",
      "state": {
       "description_width": "",
       "font_size": null,
       "text_color": null
      }
     },
     "c590cae814db4a8cb716f9335d9393f8": {
      "model_module": "@jupyter-widgets/base",
      "model_module_version": "2.0.0",
      "model_name": "LayoutModel",
      "state": {
       "flex": "2"
      }
     },
     "c59494f77a40419ea7d4d4cb224ba6d5": {
      "model_module": "@jupyter-widgets/controls",
      "model_module_version": "2.0.0",
      "model_name": "HTMLModel",
      "state": {
       "layout": "IPY_MODEL_92d40a5819144b0a87a66ca89b7d17c1",
       "style": "IPY_MODEL_7eb3b50e73154715abdc8be634d5652f",
       "value": " 2/2 [00:00&lt;00:00, 11.30it/s]"
      }
     },
     "c5a8a0a884494cf28b272664d7b55e01": {
      "model_module": "@jupyter-widgets/base",
      "model_module_version": "2.0.0",
      "model_name": "LayoutModel",
      "state": {
       "display": "inline-flex",
       "flex_flow": "row wrap",
       "visibility": "hidden",
       "width": "100%"
      }
     },
     "c5ccdee6b43d4473b67586ef56212cee": {
      "model_module": "@jupyter-widgets/controls",
      "model_module_version": "2.0.0",
      "model_name": "FloatProgressModel",
      "state": {
       "layout": "IPY_MODEL_43fa9e161a6a41faa8a3a92b93c0ad95",
       "max": 25,
       "style": "IPY_MODEL_41c45fd40d2a40859404663a6b30d411",
       "value": 25
      }
     },
     "c780b480b1794a49833b0dff29858fa8": {
      "model_module": "@jupyter-widgets/base",
      "model_module_version": "2.0.0",
      "model_name": "LayoutModel",
      "state": {}
     },
     "c7ba6953fcf94e41ad14122ae9d8a3cf": {
      "model_module": "@jupyter-widgets/base",
      "model_module_version": "2.0.0",
      "model_name": "LayoutModel",
      "state": {
       "flex": "2"
      }
     },
     "c7fb0b25a8c94ceb96ff10d0cd4ec614": {
      "model_module": "@jupyter-widgets/controls",
      "model_module_version": "2.0.0",
      "model_name": "FloatProgressModel",
      "state": {
       "layout": "IPY_MODEL_7ba76097dbf24493b5fee9878bc35539",
       "max": 25,
       "style": "IPY_MODEL_e4966d30983d42db8aaffc55d2a90389",
       "value": 25
      }
     },
     "c810b9ea5589417a8856a8d7cf7d8907": {
      "model_module": "@jupyter-widgets/base",
      "model_module_version": "2.0.0",
      "model_name": "LayoutModel",
      "state": {
       "flex": "2"
      }
     },
     "c81d6dcc04614d5191a8b580082ae22e": {
      "model_module": "@jupyter-widgets/controls",
      "model_module_version": "2.0.0",
      "model_name": "HTMLModel",
      "state": {
       "layout": "IPY_MODEL_5757c76df46449aa974a7d122aec9151",
       "style": "IPY_MODEL_db7c85746f4b412f9037d7f9cfc2cd29",
       "value": "Validation DataLoader 0:  28%"
      }
     },
     "c854ef5fed864b42aad0bea1e1a2561a": {
      "model_module": "@jupyter-widgets/controls",
      "model_module_version": "2.0.0",
      "model_name": "HTMLStyleModel",
      "state": {
       "description_width": "",
       "font_size": null,
       "text_color": null
      }
     },
     "c89b6d5e4dd24621ad458313a9b46e6e": {
      "model_module": "@jupyter-widgets/controls",
      "model_module_version": "2.0.0",
      "model_name": "HTMLStyleModel",
      "state": {
       "description_width": "",
       "font_size": null,
       "text_color": null
      }
     },
     "c92ad9c869c74b0fb8f9a717f6ed43d2": {
      "model_module": "@jupyter-widgets/controls",
      "model_module_version": "2.0.0",
      "model_name": "HTMLStyleModel",
      "state": {
       "description_width": "",
       "font_size": null,
       "text_color": null
      }
     },
     "c93ef947595742718b53e4174471878c": {
      "model_module": "@jupyter-widgets/base",
      "model_module_version": "2.0.0",
      "model_name": "LayoutModel",
      "state": {}
     },
     "c940f0ec107344afb8c3a45c98a1311f": {
      "model_module": "@jupyter-widgets/base",
      "model_module_version": "2.0.0",
      "model_name": "LayoutModel",
      "state": {}
     },
     "c980db3c14c24ba0ab8a6f40303853e3": {
      "model_module": "@jupyter-widgets/base",
      "model_module_version": "2.0.0",
      "model_name": "LayoutModel",
      "state": {}
     },
     "c9993cb883c74d378804ef4da7f3a90b": {
      "model_module": "@jupyter-widgets/base",
      "model_module_version": "2.0.0",
      "model_name": "LayoutModel",
      "state": {
       "flex": "2"
      }
     },
     "c9e11737210b41c88a83a02e4f3b88ef": {
      "model_module": "@jupyter-widgets/base",
      "model_module_version": "2.0.0",
      "model_name": "LayoutModel",
      "state": {}
     },
     "ca0034c6a3104c1fbf9925167d3c286f": {
      "model_module": "@jupyter-widgets/controls",
      "model_module_version": "2.0.0",
      "model_name": "HTMLStyleModel",
      "state": {
       "description_width": "",
       "font_size": null,
       "text_color": null
      }
     },
     "cb0e838ed1094f58af35203e1c2469c1": {
      "model_module": "@jupyter-widgets/base",
      "model_module_version": "2.0.0",
      "model_name": "LayoutModel",
      "state": {}
     },
     "cb839d65ab644898935f448904899b6a": {
      "model_module": "@jupyter-widgets/controls",
      "model_module_version": "2.0.0",
      "model_name": "HTMLStyleModel",
      "state": {
       "description_width": "",
       "font_size": null,
       "text_color": null
      }
     },
     "cbe083b7fc0245c58a463987cfa19390": {
      "model_module": "@jupyter-widgets/base",
      "model_module_version": "2.0.0",
      "model_name": "LayoutModel",
      "state": {
       "flex": "2"
      }
     },
     "cc103bb16eea49468e5bef3df25cb2a2": {
      "model_module": "@jupyter-widgets/controls",
      "model_module_version": "2.0.0",
      "model_name": "HTMLStyleModel",
      "state": {
       "description_width": "",
       "font_size": null,
       "text_color": null
      }
     },
     "cc26f035853b475e8a090c79ae9fad87": {
      "model_module": "@jupyter-widgets/controls",
      "model_module_version": "2.0.0",
      "model_name": "HTMLModel",
      "state": {
       "layout": "IPY_MODEL_a94e2232ae604824b2eb97cde1597025",
       "style": "IPY_MODEL_bad9b09aa28c4abf85e6ff53835ede92",
       "value": "Validation DataLoader 0: 100%"
      }
     },
     "cc83a128d3554725bfbedcae1e839def": {
      "model_module": "@jupyter-widgets/base",
      "model_module_version": "2.0.0",
      "model_name": "LayoutModel",
      "state": {}
     },
     "cca5847d6e4e405eae370f9cca276953": {
      "model_module": "@jupyter-widgets/base",
      "model_module_version": "2.0.0",
      "model_name": "LayoutModel",
      "state": {}
     },
     "ccdc34309a344476bbf1a367d0723c18": {
      "model_module": "@jupyter-widgets/controls",
      "model_module_version": "2.0.0",
      "model_name": "FloatProgressModel",
      "state": {
       "layout": "IPY_MODEL_3a8df1010ee141f9b0756a96b526a654",
       "max": 25,
       "style": "IPY_MODEL_4023fc63eeec491ab8060f6156d8de1d",
       "value": 25
      }
     },
     "ccdf7be3290e4c718ef0e9b04eb57663": {
      "model_module": "@jupyter-widgets/base",
      "model_module_version": "2.0.0",
      "model_name": "LayoutModel",
      "state": {
       "flex": "2"
      }
     },
     "cdc44992b8fa4ad8906f797495b80c09": {
      "model_module": "@jupyter-widgets/base",
      "model_module_version": "2.0.0",
      "model_name": "LayoutModel",
      "state": {}
     },
     "ce1d43dce3cf48999b436de40b7f454d": {
      "model_module": "@jupyter-widgets/controls",
      "model_module_version": "2.0.0",
      "model_name": "HBoxModel",
      "state": {
       "children": [
        "IPY_MODEL_74d609ba74964cfb938a0c013d648142",
        "IPY_MODEL_f886b12af2574394b379a8f323cbb2b1",
        "IPY_MODEL_579cdfe6f4b548fdae10dc64e06b03bb"
       ],
       "layout": "IPY_MODEL_a2500b9ec15c42b8b4246d958274d8ff"
      }
     },
     "cf00653515194b2392bf2724d5359a5f": {
      "model_module": "@jupyter-widgets/controls",
      "model_module_version": "2.0.0",
      "model_name": "HTMLModel",
      "state": {
       "layout": "IPY_MODEL_ef379b51780c4cb38d3389b938c051b9",
       "style": "IPY_MODEL_524eb62655644a8fb760fc3a0ae0be49",
       "value": "Validation DataLoader 0: 100%"
      }
     },
     "cf714dc777e349f6bdef54203f84198f": {
      "model_module": "@jupyter-widgets/base",
      "model_module_version": "2.0.0",
      "model_name": "LayoutModel",
      "state": {
       "flex": "2"
      }
     },
     "cf729d59f0284cb1a44704374dd1eda7": {
      "model_module": "@jupyter-widgets/base",
      "model_module_version": "2.0.0",
      "model_name": "LayoutModel",
      "state": {}
     },
     "cf9a25bbf1194ce9921e100166e75d58": {
      "model_module": "@jupyter-widgets/controls",
      "model_module_version": "2.0.0",
      "model_name": "ProgressStyleModel",
      "state": {
       "description_width": ""
      }
     },
     "cfbfe5bcf7af4d0b850676033fced06a": {
      "model_module": "@jupyter-widgets/base",
      "model_module_version": "2.0.0",
      "model_name": "LayoutModel",
      "state": {}
     },
     "d075c18dfb8b456ebbf8bf953d471c0e": {
      "model_module": "@jupyter-widgets/controls",
      "model_module_version": "2.0.0",
      "model_name": "ProgressStyleModel",
      "state": {
       "description_width": ""
      }
     },
     "d0b084b58556438dacbb81fea34c8b72": {
      "model_module": "@jupyter-widgets/base",
      "model_module_version": "2.0.0",
      "model_name": "LayoutModel",
      "state": {}
     },
     "d0d7989f958b4a449af1e1188b6e7a66": {
      "model_module": "@jupyter-widgets/controls",
      "model_module_version": "2.0.0",
      "model_name": "HTMLModel",
      "state": {
       "layout": "IPY_MODEL_2e65a5712f174073beb20a3f4af73bbf",
       "style": "IPY_MODEL_ecae310b57fe4a71a021d0f7ac03c70f",
       "value": "Validation DataLoader 0: 100%"
      }
     },
     "d12883882b784b17aca844479bf9083a": {
      "model_module": "@jupyter-widgets/base",
      "model_module_version": "2.0.0",
      "model_name": "LayoutModel",
      "state": {}
     },
     "d17758b73fbb49a1af54404aff1813ab": {
      "model_module": "@jupyter-widgets/controls",
      "model_module_version": "2.0.0",
      "model_name": "HTMLStyleModel",
      "state": {
       "description_width": "",
       "font_size": null,
       "text_color": null
      }
     },
     "d1eb411b8caa4170b3d8384f46958d65": {
      "model_module": "@jupyter-widgets/controls",
      "model_module_version": "2.0.0",
      "model_name": "HTMLStyleModel",
      "state": {
       "description_width": "",
       "font_size": null,
       "text_color": null
      }
     },
     "d20165f3c2194b85b6ade59778cf5611": {
      "model_module": "@jupyter-widgets/controls",
      "model_module_version": "2.0.0",
      "model_name": "ProgressStyleModel",
      "state": {
       "description_width": ""
      }
     },
     "d259488d649340459f8797c005048eaf": {
      "model_module": "@jupyter-widgets/controls",
      "model_module_version": "2.0.0",
      "model_name": "ProgressStyleModel",
      "state": {
       "description_width": ""
      }
     },
     "d27e4c392861414a93881dc0878340c9": {
      "model_module": "@jupyter-widgets/controls",
      "model_module_version": "2.0.0",
      "model_name": "HTMLModel",
      "state": {
       "layout": "IPY_MODEL_05bc07288f234d43aa96cc2cb7189d02",
       "style": "IPY_MODEL_3761dab6482e4f95ae4eb0fa7986cd2b",
       "value": " 63/63 [00:00&lt;00:00, 104.79it/s]"
      }
     },
     "d3435c5a7f0e45199e7aff58520d3615": {
      "model_module": "@jupyter-widgets/base",
      "model_module_version": "2.0.0",
      "model_name": "LayoutModel",
      "state": {
       "flex": "2"
      }
     },
     "d343ad6a0c90439ab43e2cad8953bcaa": {
      "model_module": "@jupyter-widgets/controls",
      "model_module_version": "2.0.0",
      "model_name": "HTMLModel",
      "state": {
       "layout": "IPY_MODEL_76d246551ade418c98dbe89bdfd27f54",
       "style": "IPY_MODEL_abac5eb6cd5045ea8636d030bd24276a",
       "value": " 25/25 [00:00&lt;00:00, 228.11it/s]"
      }
     },
     "d37bda1da61c4b649a914fa2a25b1b3d": {
      "model_module": "@jupyter-widgets/controls",
      "model_module_version": "2.0.0",
      "model_name": "HTMLModel",
      "state": {
       "layout": "IPY_MODEL_7c400df32faf4419880444ab7d1b3966",
       "style": "IPY_MODEL_f029c3385904403cb7b3cc1edf32af0b",
       "value": " 25/25 [00:00&lt;00:00, 272.02it/s]"
      }
     },
     "d3d3347c1f8e4fe08ad95246980ef56a": {
      "model_module": "@jupyter-widgets/base",
      "model_module_version": "2.0.0",
      "model_name": "LayoutModel",
      "state": {
       "display": "inline-flex",
       "flex_flow": "row wrap",
       "visibility": "hidden",
       "width": "100%"
      }
     },
     "d3f42ca15edd4bd1b2b12b2883affffd": {
      "model_module": "@jupyter-widgets/base",
      "model_module_version": "2.0.0",
      "model_name": "LayoutModel",
      "state": {}
     },
     "d3f5ae0d5b044e3294cfbf93356ad371": {
      "model_module": "@jupyter-widgets/controls",
      "model_module_version": "2.0.0",
      "model_name": "HTMLStyleModel",
      "state": {
       "description_width": "",
       "font_size": null,
       "text_color": null
      }
     },
     "d44b45f7c28f45248cb31026f8b57fda": {
      "model_module": "@jupyter-widgets/controls",
      "model_module_version": "2.0.0",
      "model_name": "HTMLModel",
      "state": {
       "layout": "IPY_MODEL_a2b2a34aa76b4b58a7fedd0d7eeb3017",
       "style": "IPY_MODEL_5cb3613d276b4215ab3d1d59781a8839",
       "value": "Validation DataLoader 0: 100%"
      }
     },
     "d465cfb50a4d4245bde48cb102b19ffa": {
      "model_module": "@jupyter-widgets/base",
      "model_module_version": "2.0.0",
      "model_name": "LayoutModel",
      "state": {
       "flex": "2"
      }
     },
     "d4a0aef9cf654f36a90735c2d99f2c51": {
      "model_module": "@jupyter-widgets/base",
      "model_module_version": "2.0.0",
      "model_name": "LayoutModel",
      "state": {
       "display": "inline-flex",
       "flex_flow": "row wrap",
       "visibility": "hidden",
       "width": "100%"
      }
     },
     "d4c48c7021bd4d8daea2995b3ce5b4a6": {
      "model_module": "@jupyter-widgets/base",
      "model_module_version": "2.0.0",
      "model_name": "LayoutModel",
      "state": {}
     },
     "d4d426bcbf48406b9264edb5c2e325a4": {
      "model_module": "@jupyter-widgets/controls",
      "model_module_version": "2.0.0",
      "model_name": "FloatProgressModel",
      "state": {
       "layout": "IPY_MODEL_ccdf7be3290e4c718ef0e9b04eb57663",
       "max": 2,
       "style": "IPY_MODEL_777a689dbc6a4f0aa1787f36ca2eb939",
       "value": 2
      }
     },
     "d4e400c07f8247f6ab3ef53cb2295774": {
      "model_module": "@jupyter-widgets/base",
      "model_module_version": "2.0.0",
      "model_name": "LayoutModel",
      "state": {}
     },
     "d4faa2e72ab84de6aa9f496de85d065c": {
      "model_module": "@jupyter-widgets/controls",
      "model_module_version": "2.0.0",
      "model_name": "HTMLStyleModel",
      "state": {
       "description_width": "",
       "font_size": null,
       "text_color": null
      }
     },
     "d51d7b08a337436bb5d7020dc18fb2c0": {
      "model_module": "@jupyter-widgets/base",
      "model_module_version": "2.0.0",
      "model_name": "LayoutModel",
      "state": {
       "display": "inline-flex",
       "flex_flow": "row wrap",
       "visibility": "hidden",
       "width": "100%"
      }
     },
     "d57bd2fc043848039b39d28ad1376939": {
      "model_module": "@jupyter-widgets/controls",
      "model_module_version": "2.0.0",
      "model_name": "HTMLStyleModel",
      "state": {
       "description_width": "",
       "font_size": null,
       "text_color": null
      }
     },
     "d581e30ca32949cf9300f0d9fd2ee5b6": {
      "model_module": "@jupyter-widgets/controls",
      "model_module_version": "2.0.0",
      "model_name": "HTMLStyleModel",
      "state": {
       "description_width": "",
       "font_size": null,
       "text_color": null
      }
     },
     "d5f4980acba341739823f697640667e5": {
      "model_module": "@jupyter-widgets/controls",
      "model_module_version": "2.0.0",
      "model_name": "FloatProgressModel",
      "state": {
       "layout": "IPY_MODEL_1341090bbd1045a997422bb54da3d436",
       "max": 25,
       "style": "IPY_MODEL_2ac47ce59f2a4737a9571b6a361cd940",
       "value": 25
      }
     },
     "d5f6d2c9ebac4fe3bf6e2f19dd1e17cb": {
      "model_module": "@jupyter-widgets/controls",
      "model_module_version": "2.0.0",
      "model_name": "HTMLModel",
      "state": {
       "layout": "IPY_MODEL_16ab307231c94dcd88553b289965de40",
       "style": "IPY_MODEL_9de27af126134e4188d9e21087811195",
       "value": " 25/25 [00:00&lt;00:00, 249.88it/s]"
      }
     },
     "d5fae573a36d45b7bb2256420ce11ca3": {
      "model_module": "@jupyter-widgets/base",
      "model_module_version": "2.0.0",
      "model_name": "LayoutModel",
      "state": {
       "flex": "2"
      }
     },
     "d68ab50dd2b84b979a749e04dacee81b": {
      "model_module": "@jupyter-widgets/controls",
      "model_module_version": "2.0.0",
      "model_name": "HTMLStyleModel",
      "state": {
       "description_width": "",
       "font_size": null,
       "text_color": null
      }
     },
     "d6ca23da04384066b2b1ac493f2adb82": {
      "model_module": "@jupyter-widgets/base",
      "model_module_version": "2.0.0",
      "model_name": "LayoutModel",
      "state": {
       "flex": "2"
      }
     },
     "d7142694e7e44b75a29f34e476d9f9e5": {
      "model_module": "@jupyter-widgets/base",
      "model_module_version": "2.0.0",
      "model_name": "LayoutModel",
      "state": {}
     },
     "d718af5977cf4d529107af42259c1ab8": {
      "model_module": "@jupyter-widgets/controls",
      "model_module_version": "2.0.0",
      "model_name": "HTMLModel",
      "state": {
       "layout": "IPY_MODEL_d90c227e9f054ae6b4459014d06528bf",
       "style": "IPY_MODEL_af0b16b553934e3cbf7090d7f6deaa15",
       "value": " 25/25 [00:00&lt;00:00, 259.83it/s]"
      }
     },
     "d8c42350f7ea4a0caa2e519b4417ca7f": {
      "model_module": "@jupyter-widgets/controls",
      "model_module_version": "2.0.0",
      "model_name": "HTMLModel",
      "state": {
       "layout": "IPY_MODEL_c9e11737210b41c88a83a02e4f3b88ef",
       "style": "IPY_MODEL_55ca8ae5ed434d89bf114784aee441cb",
       "value": " 25/25 [00:00&lt;00:00, 288.45it/s]"
      }
     },
     "d8ffede252da4734a453055c1496d840": {
      "model_module": "@jupyter-widgets/base",
      "model_module_version": "2.0.0",
      "model_name": "LayoutModel",
      "state": {}
     },
     "d90c227e9f054ae6b4459014d06528bf": {
      "model_module": "@jupyter-widgets/base",
      "model_module_version": "2.0.0",
      "model_name": "LayoutModel",
      "state": {}
     },
     "d90deb3cf97e4f70af26eaf697bbdbc4": {
      "model_module": "@jupyter-widgets/controls",
      "model_module_version": "2.0.0",
      "model_name": "HTMLModel",
      "state": {
       "layout": "IPY_MODEL_d12883882b784b17aca844479bf9083a",
       "style": "IPY_MODEL_790ba08c0ca9465a9998ae7e3146c490",
       "value": " 25/25 [00:00&lt;00:00, 261.88it/s]"
      }
     },
     "d941e7f471ed4fdab6ffe4c121b77638": {
      "model_module": "@jupyter-widgets/base",
      "model_module_version": "2.0.0",
      "model_name": "LayoutModel",
      "state": {
       "flex": "2"
      }
     },
     "d98ef11eec4146e0b710936d5333ba35": {
      "model_module": "@jupyter-widgets/controls",
      "model_module_version": "2.0.0",
      "model_name": "HTMLModel",
      "state": {
       "layout": "IPY_MODEL_a63c5ea88abf4a8691a8a59859972418",
       "style": "IPY_MODEL_47a87f474502447a8ee2b9737971757f",
       "value": "Validation DataLoader 0: 100%"
      }
     },
     "da14a6ffe3de47468019362660bdd8d2": {
      "model_module": "@jupyter-widgets/base",
      "model_module_version": "2.0.0",
      "model_name": "LayoutModel",
      "state": {}
     },
     "da3e14286772441482c42ebc09eb0f4c": {
      "model_module": "@jupyter-widgets/controls",
      "model_module_version": "2.0.0",
      "model_name": "HTMLStyleModel",
      "state": {
       "description_width": "",
       "font_size": null,
       "text_color": null
      }
     },
     "db4f8f7b25934842b9153185d4a75da1": {
      "model_module": "@jupyter-widgets/controls",
      "model_module_version": "2.0.0",
      "model_name": "HTMLStyleModel",
      "state": {
       "description_width": "",
       "font_size": null,
       "text_color": null
      }
     },
     "db7c85746f4b412f9037d7f9cfc2cd29": {
      "model_module": "@jupyter-widgets/controls",
      "model_module_version": "2.0.0",
      "model_name": "HTMLStyleModel",
      "state": {
       "description_width": "",
       "font_size": null,
       "text_color": null
      }
     },
     "dbe1962b01ec4873b6c4ccafbe4bb999": {
      "model_module": "@jupyter-widgets/controls",
      "model_module_version": "2.0.0",
      "model_name": "HTMLModel",
      "state": {
       "layout": "IPY_MODEL_21ac65793b8d41c2bf401d502c2bd22d",
       "style": "IPY_MODEL_be9b86c995124e16a0f70188409a0285",
       "value": " 25/25 [00:00&lt;00:00, 226.51it/s]"
      }
     },
     "dbfb45b7926744d3bfc792ac8a0dd6cc": {
      "model_module": "@jupyter-widgets/controls",
      "model_module_version": "2.0.0",
      "model_name": "ProgressStyleModel",
      "state": {
       "description_width": ""
      }
     },
     "dc7bc3347469422da46c4cb89148c25b": {
      "model_module": "@jupyter-widgets/controls",
      "model_module_version": "2.0.0",
      "model_name": "HTMLStyleModel",
      "state": {
       "description_width": "",
       "font_size": null,
       "text_color": null
      }
     },
     "dc98f5bfeca04dc886c641d037239c3d": {
      "model_module": "@jupyter-widgets/controls",
      "model_module_version": "2.0.0",
      "model_name": "HTMLStyleModel",
      "state": {
       "description_width": "",
       "font_size": null,
       "text_color": null
      }
     },
     "dcc2d5859fa6411f8149ad494bfb8778": {
      "model_module": "@jupyter-widgets/base",
      "model_module_version": "2.0.0",
      "model_name": "LayoutModel",
      "state": {}
     },
     "dcf49f0105c4402ca2b8b93a783ef6e2": {
      "model_module": "@jupyter-widgets/controls",
      "model_module_version": "2.0.0",
      "model_name": "HTMLStyleModel",
      "state": {
       "description_width": "",
       "font_size": null,
       "text_color": null
      }
     },
     "dd01e8e0dae04118a96eea27204a666c": {
      "model_module": "@jupyter-widgets/controls",
      "model_module_version": "2.0.0",
      "model_name": "HTMLModel",
      "state": {
       "layout": "IPY_MODEL_bb40d164b6e24bbf97ab22389c30a0df",
       "style": "IPY_MODEL_54b22088e5e040bc90ffc0b765c38158",
       "value": " 2/2 [00:00&lt;00:00, 135.78it/s]"
      }
     },
     "ddabfb931380421383f6b58d63e7b1c4": {
      "model_module": "@jupyter-widgets/base",
      "model_module_version": "2.0.0",
      "model_name": "LayoutModel",
      "state": {}
     },
     "decebca39e0a4345aed8679538747a67": {
      "model_module": "@jupyter-widgets/controls",
      "model_module_version": "2.0.0",
      "model_name": "HTMLModel",
      "state": {
       "layout": "IPY_MODEL_28a5d1b3f25a42e7adf3c0824b8a81ea",
       "style": "IPY_MODEL_5a96810e49f14112b0d184a76939231e",
       "value": " 25/25 [00:00&lt;00:00, 264.76it/s]"
      }
     },
     "deef43accb2f4a9aa8cf42f04418a667": {
      "model_module": "@jupyter-widgets/controls",
      "model_module_version": "2.0.0",
      "model_name": "HTMLStyleModel",
      "state": {
       "description_width": "",
       "font_size": null,
       "text_color": null
      }
     },
     "df20170a7730453886de9bef60c1f02d": {
      "model_module": "@jupyter-widgets/base",
      "model_module_version": "2.0.0",
      "model_name": "LayoutModel",
      "state": {
       "flex": "2"
      }
     },
     "df36b08cf10447eb8993fc15a8d96bba": {
      "model_module": "@jupyter-widgets/controls",
      "model_module_version": "2.0.0",
      "model_name": "FloatProgressModel",
      "state": {
       "bar_style": "success",
       "layout": "IPY_MODEL_a1d48dca0f8d4e24b1d1e3ad341ed9ff",
       "style": "IPY_MODEL_29ea448d27cc464bb926fb398409acb5",
       "value": 100
      }
     },
     "df3a6d86f22e4252aff1bf0478c69f81": {
      "model_module": "@jupyter-widgets/controls",
      "model_module_version": "2.0.0",
      "model_name": "HTMLModel",
      "state": {
       "layout": "IPY_MODEL_2e4f1b2a6e764a9eaa6e6c1a5dfa08e2",
       "style": "IPY_MODEL_5829e7a7138e401ab5b1d21d62c9c721",
       "value": "Validation DataLoader 0: 100%"
      }
     },
     "df449e024dde41b1ab224ef64adc8754": {
      "model_module": "@jupyter-widgets/base",
      "model_module_version": "2.0.0",
      "model_name": "LayoutModel",
      "state": {
       "flex": "2"
      }
     },
     "dfd65084656440a4aae66e88834a7a2f": {
      "model_module": "@jupyter-widgets/base",
      "model_module_version": "2.0.0",
      "model_name": "LayoutModel",
      "state": {
       "flex": "2"
      }
     },
     "dfee7b0984b04e05bb14ed49a0edd9b1": {
      "model_module": "@jupyter-widgets/base",
      "model_module_version": "2.0.0",
      "model_name": "LayoutModel",
      "state": {}
     },
     "dfffe6271a614037bb1b3010182c0d7e": {
      "model_module": "@jupyter-widgets/base",
      "model_module_version": "2.0.0",
      "model_name": "LayoutModel",
      "state": {}
     },
     "e0062682ff1d4bc1af3409696d576150": {
      "model_module": "@jupyter-widgets/base",
      "model_module_version": "2.0.0",
      "model_name": "LayoutModel",
      "state": {
       "flex": "2"
      }
     },
     "e00733f1fc1b464fbdac13a18726c076": {
      "model_module": "@jupyter-widgets/controls",
      "model_module_version": "2.0.0",
      "model_name": "ProgressStyleModel",
      "state": {
       "description_width": ""
      }
     },
     "e02ecb6067894958acab8064c46f2489": {
      "model_module": "@jupyter-widgets/controls",
      "model_module_version": "2.0.0",
      "model_name": "HTMLModel",
      "state": {
       "layout": "IPY_MODEL_053fd489a6e74d1883d39cecac300697",
       "style": "IPY_MODEL_a3d62bbce7cc45aa90f559a7006f9322",
       "value": "Validation DataLoader 0: 100%"
      }
     },
     "e04c8bf59c67448ba579a1e283d48d38": {
      "model_module": "@jupyter-widgets/controls",
      "model_module_version": "2.0.0",
      "model_name": "ProgressStyleModel",
      "state": {
       "description_width": ""
      }
     },
     "e074d73756e9478bb9364750a5293d59": {
      "model_module": "@jupyter-widgets/controls",
      "model_module_version": "2.0.0",
      "model_name": "ProgressStyleModel",
      "state": {
       "description_width": ""
      }
     },
     "e09a5626b8a14691b05f78887b1e9837": {
      "model_module": "@jupyter-widgets/controls",
      "model_module_version": "2.0.0",
      "model_name": "HTMLModel",
      "state": {
       "layout": "IPY_MODEL_0f2cc8000202498b912b3cf96ecfc32b",
       "style": "IPY_MODEL_dc98f5bfeca04dc886c641d037239c3d",
       "value": " 25/25 [00:00&lt;00:00, 261.87it/s]"
      }
     },
     "e1f8356a4ea64c2c807c7d1cdbf164c3": {
      "model_module": "@jupyter-widgets/controls",
      "model_module_version": "2.0.0",
      "model_name": "HTMLStyleModel",
      "state": {
       "description_width": "",
       "font_size": null,
       "text_color": null
      }
     },
     "e2118555c83f4ceda766b624b9c81c06": {
      "model_module": "@jupyter-widgets/controls",
      "model_module_version": "2.0.0",
      "model_name": "HTMLStyleModel",
      "state": {
       "description_width": "",
       "font_size": null,
       "text_color": null
      }
     },
     "e2333c9c405f4fa39e1fdb6ee5eaf3ed": {
      "model_module": "@jupyter-widgets/controls",
      "model_module_version": "2.0.0",
      "model_name": "FloatProgressModel",
      "state": {
       "layout": "IPY_MODEL_f64628b6bcb24046865d8f23f82763a8",
       "max": 25,
       "style": "IPY_MODEL_d075c18dfb8b456ebbf8bf953d471c0e",
       "value": 25
      }
     },
     "e276d4c7b3cc4d4294db24544ba6b5bd": {
      "model_module": "@jupyter-widgets/controls",
      "model_module_version": "2.0.0",
      "model_name": "HTMLModel",
      "state": {
       "layout": "IPY_MODEL_9f806611469248f982a6931faaf3e638",
       "style": "IPY_MODEL_a8ebbe8b3e994b218a7d97d3fb3626a3",
       "value": " 25/25 [00:00&lt;00:00, 294.21it/s]"
      }
     },
     "e2daaf492b564a0595c838d702400aba": {
      "model_module": "@jupyter-widgets/base",
      "model_module_version": "2.0.0",
      "model_name": "LayoutModel",
      "state": {}
     },
     "e318aa69831e484ab40eda3fc7d2d3f6": {
      "model_module": "@jupyter-widgets/controls",
      "model_module_version": "2.0.0",
      "model_name": "HTMLStyleModel",
      "state": {
       "description_width": "",
       "font_size": null,
       "text_color": null
      }
     },
     "e33a1e50ede448298814f59011eff23c": {
      "model_module": "@jupyter-widgets/controls",
      "model_module_version": "2.0.0",
      "model_name": "HTMLModel",
      "state": {
       "layout": "IPY_MODEL_51d71fc601674fa0b6a6332f4b981c82",
       "style": "IPY_MODEL_7e100f757f4b483db8bd6898e8d239a0",
       "value": "Validation DataLoader 0: 100%"
      }
     },
     "e3587a63772a43b780bca4e0fce6258a": {
      "model_module": "@jupyter-widgets/controls",
      "model_module_version": "2.0.0",
      "model_name": "HTMLStyleModel",
      "state": {
       "description_width": "",
       "font_size": null,
       "text_color": null
      }
     },
     "e3bc61f0236643cfa681b45a60053cef": {
      "model_module": "@jupyter-widgets/base",
      "model_module_version": "2.0.0",
      "model_name": "LayoutModel",
      "state": {
       "flex": "2"
      }
     },
     "e3be1844d2c84c739be1786212c91e53": {
      "model_module": "@jupyter-widgets/controls",
      "model_module_version": "2.0.0",
      "model_name": "HTMLModel",
      "state": {
       "layout": "IPY_MODEL_868ce94930fd4555adeb490543a68009",
       "style": "IPY_MODEL_3df058097e83407d935edaede6865623",
       "value": " 63/63 [00:00&lt;00:00, 95.94it/s]"
      }
     },
     "e4050f027fb24e83bff649b316e0d918": {
      "model_module": "@jupyter-widgets/base",
      "model_module_version": "2.0.0",
      "model_name": "LayoutModel",
      "state": {
       "display": "inline-flex",
       "flex_flow": "row wrap",
       "visibility": "hidden",
       "width": "100%"
      }
     },
     "e4161c91091f4658b6b81cabaf232b9b": {
      "model_module": "@jupyter-widgets/base",
      "model_module_version": "2.0.0",
      "model_name": "LayoutModel",
      "state": {}
     },
     "e427f62b3cf44817bf950e2c53849f60": {
      "model_module": "@jupyter-widgets/controls",
      "model_module_version": "2.0.0",
      "model_name": "HTMLModel",
      "state": {
       "layout": "IPY_MODEL_cdc44992b8fa4ad8906f797495b80c09",
       "style": "IPY_MODEL_bd4f9a5c7c9744769c8da02ad6ddfbe5",
       "value": "Validation DataLoader 0: 100%"
      }
     },
     "e459bba25d314dce859ab210ea639d46": {
      "model_module": "@jupyter-widgets/controls",
      "model_module_version": "2.0.0",
      "model_name": "HTMLModel",
      "state": {
       "layout": "IPY_MODEL_9ae8b94a1c054ff1b6baaa8c408b9ff9",
       "style": "IPY_MODEL_74333dc5e0364150abe7f0d0a6c7680e",
       "value": "Validation DataLoader 0: 100%"
      }
     },
     "e4966d30983d42db8aaffc55d2a90389": {
      "model_module": "@jupyter-widgets/controls",
      "model_module_version": "2.0.0",
      "model_name": "ProgressStyleModel",
      "state": {
       "description_width": ""
      }
     },
     "e4bf6763009c4f5a9ea5b98dc4fb988e": {
      "model_module": "@jupyter-widgets/controls",
      "model_module_version": "2.0.0",
      "model_name": "ProgressStyleModel",
      "state": {
       "description_width": ""
      }
     },
     "e54524b1cee340ba944defe0073d80ec": {
      "model_module": "@jupyter-widgets/controls",
      "model_module_version": "2.0.0",
      "model_name": "HTMLModel",
      "state": {
       "layout": "IPY_MODEL_3f193d2d711148729be5d7c9fd1c40fc",
       "style": "IPY_MODEL_33a6ec4422e84d81abedf5742161707b",
       "value": "Validation DataLoader 0: 100%"
      }
     },
     "e577ddb35c6948589094474c91c66dd5": {
      "model_module": "@jupyter-widgets/controls",
      "model_module_version": "2.0.0",
      "model_name": "FloatProgressModel",
      "state": {
       "layout": "IPY_MODEL_e3bc61f0236643cfa681b45a60053cef",
       "max": 25,
       "style": "IPY_MODEL_3ad65091b73449da99e3a617964619aa",
       "value": 25
      }
     },
     "e68241ae89b0485f9b029d02f886820c": {
      "model_module": "@jupyter-widgets/controls",
      "model_module_version": "2.0.0",
      "model_name": "HTMLModel",
      "state": {
       "layout": "IPY_MODEL_0f1c0997bd504fc8b7d20e7a49aad088",
       "style": "IPY_MODEL_d1eb411b8caa4170b3d8384f46958d65",
       "value": " 25/25 [00:00&lt;00:00, 249.83it/s]"
      }
     },
     "e6c5624e382847ca97d4356d177f6245": {
      "model_module": "@jupyter-widgets/controls",
      "model_module_version": "2.0.0",
      "model_name": "HTMLStyleModel",
      "state": {
       "description_width": "",
       "font_size": null,
       "text_color": null
      }
     },
     "e7053f25268145a599c4f2846a96509f": {
      "model_module": "@jupyter-widgets/controls",
      "model_module_version": "2.0.0",
      "model_name": "HTMLModel",
      "state": {
       "layout": "IPY_MODEL_487f8a8165044cfbba0d7a225b42ebc9",
       "style": "IPY_MODEL_fbba513a670b4a9cbe63f2465f96ff6d",
       "value": "Testing DataLoader 0: 100%"
      }
     },
     "e72bc1bf99c24ea68dd37d02404b8112": {
      "model_module": "@jupyter-widgets/controls",
      "model_module_version": "2.0.0",
      "model_name": "ProgressStyleModel",
      "state": {
       "description_width": ""
      }
     },
     "e853fca28a1a4b44894818bfade6da03": {
      "model_module": "@jupyter-widgets/controls",
      "model_module_version": "2.0.0",
      "model_name": "ProgressStyleModel",
      "state": {
       "description_width": ""
      }
     },
     "e85c8fb6f21943dfaf10399ddab37b92": {
      "model_module": "@jupyter-widgets/controls",
      "model_module_version": "2.0.0",
      "model_name": "HTMLModel",
      "state": {
       "layout": "IPY_MODEL_d4e400c07f8247f6ab3ef53cb2295774",
       "style": "IPY_MODEL_2113028e9b0941f1a58a357833384cbe",
       "value": "Epoch 1: 100%"
      }
     },
     "e89b5d2aa3874589a2d92744e2bf515f": {
      "model_module": "@jupyter-widgets/controls",
      "model_module_version": "2.0.0",
      "model_name": "HTMLStyleModel",
      "state": {
       "description_width": "",
       "font_size": null,
       "text_color": null
      }
     },
     "e99917df5952476697b3a9d079d250b0": {
      "model_module": "@jupyter-widgets/base",
      "model_module_version": "2.0.0",
      "model_name": "LayoutModel",
      "state": {}
     },
     "e9e53d8701534e78942da5706174101c": {
      "model_module": "@jupyter-widgets/controls",
      "model_module_version": "2.0.0",
      "model_name": "HTMLModel",
      "state": {
       "layout": "IPY_MODEL_423fd054d006422f83ce3db6143746bf",
       "style": "IPY_MODEL_7724e90949b749a9a7ba32c56a41c574",
       "value": "Validation DataLoader 0: 100%"
      }
     },
     "e9edc8b58494416fa8894dfee1ad73c1": {
      "model_module": "@jupyter-widgets/base",
      "model_module_version": "2.0.0",
      "model_name": "LayoutModel",
      "state": {}
     },
     "ea0449f5bfb2467097b24528af8ac0a3": {
      "model_module": "@jupyter-widgets/base",
      "model_module_version": "2.0.0",
      "model_name": "LayoutModel",
      "state": {
       "display": "inline-flex",
       "flex_flow": "row wrap",
       "visibility": "hidden",
       "width": "100%"
      }
     },
     "ea5587609ecd4be8a465182b36a71b4f": {
      "model_module": "@jupyter-widgets/controls",
      "model_module_version": "2.0.0",
      "model_name": "FloatProgressModel",
      "state": {
       "layout": "IPY_MODEL_572108786cbd4aa4821e57ba16ce7031",
       "max": 25,
       "style": "IPY_MODEL_b7ca7a3e5cf04dc5bb3f11548e343e58",
       "value": 25
      }
     },
     "ea6acc473a8a42c2aeeebf610ec73263": {
      "model_module": "@jupyter-widgets/controls",
      "model_module_version": "2.0.0",
      "model_name": "HTMLStyleModel",
      "state": {
       "description_width": "",
       "font_size": null,
       "text_color": null
      }
     },
     "ea6d21de30674d659634a47ff7f569f4": {
      "model_module": "@jupyter-widgets/base",
      "model_module_version": "2.0.0",
      "model_name": "LayoutModel",
      "state": {}
     },
     "eacc8a7b2b9b4f208acaf35f07b08ba7": {
      "model_module": "@jupyter-widgets/controls",
      "model_module_version": "2.0.0",
      "model_name": "HTMLModel",
      "state": {
       "layout": "IPY_MODEL_ea6d21de30674d659634a47ff7f569f4",
       "style": "IPY_MODEL_231d5d4d91b34049b9f70c6565b13678",
       "value": " 25/25 [00:00&lt;00:00, 284.41it/s]"
      }
     },
     "ec2b36b0268a48619525b3c4ba27c17b": {
      "model_module": "@jupyter-widgets/base",
      "model_module_version": "2.0.0",
      "model_name": "LayoutModel",
      "state": {}
     },
     "ec43eb6f04f8481591916b3fac4628fb": {
      "model_module": "@jupyter-widgets/controls",
      "model_module_version": "2.0.0",
      "model_name": "ProgressStyleModel",
      "state": {
       "description_width": ""
      }
     },
     "ecae310b57fe4a71a021d0f7ac03c70f": {
      "model_module": "@jupyter-widgets/controls",
      "model_module_version": "2.0.0",
      "model_name": "HTMLStyleModel",
      "state": {
       "description_width": "",
       "font_size": null,
       "text_color": null
      }
     },
     "ed2023f750884c3d98d152458d608a11": {
      "model_module": "@jupyter-widgets/controls",
      "model_module_version": "2.0.0",
      "model_name": "FloatProgressModel",
      "state": {
       "layout": "IPY_MODEL_8fccf406feb344418c1448923b1ed606",
       "max": 25,
       "style": "IPY_MODEL_1bac4bf5cf6f4f43886da29bc63d6948",
       "value": 25
      }
     },
     "edefd0c6ce8042c682a7af824b045ee3": {
      "model_module": "@jupyter-widgets/base",
      "model_module_version": "2.0.0",
      "model_name": "LayoutModel",
      "state": {
       "display": "inline-flex",
       "flex_flow": "row wrap",
       "visibility": "hidden",
       "width": "100%"
      }
     },
     "ee2386397a2c4920922fcd98da0f2c7f": {
      "model_module": "@jupyter-widgets/controls",
      "model_module_version": "2.0.0",
      "model_name": "HTMLStyleModel",
      "state": {
       "description_width": "",
       "font_size": null,
       "text_color": null
      }
     },
     "ee3c61019d234ad18341eeb03ce6de24": {
      "model_module": "@jupyter-widgets/base",
      "model_module_version": "2.0.0",
      "model_name": "LayoutModel",
      "state": {}
     },
     "ee4adf17299944389e4d86e1790b8416": {
      "model_module": "@jupyter-widgets/base",
      "model_module_version": "2.0.0",
      "model_name": "LayoutModel",
      "state": {}
     },
     "ee9b761665f2464dba02af7010cf653a": {
      "model_module": "@jupyter-widgets/controls",
      "model_module_version": "2.0.0",
      "model_name": "ProgressStyleModel",
      "state": {
       "description_width": ""
      }
     },
     "eec0e4cd5d5e47af9daf788c8564265c": {
      "model_module": "@jupyter-widgets/base",
      "model_module_version": "2.0.0",
      "model_name": "LayoutModel",
      "state": {
       "display": "inline-flex",
       "flex_flow": "row wrap",
       "visibility": "hidden",
       "width": "100%"
      }
     },
     "ef0491235d3d483b91cf91480ffe6dd4": {
      "model_module": "@jupyter-widgets/base",
      "model_module_version": "2.0.0",
      "model_name": "LayoutModel",
      "state": {}
     },
     "ef379b51780c4cb38d3389b938c051b9": {
      "model_module": "@jupyter-widgets/base",
      "model_module_version": "2.0.0",
      "model_name": "LayoutModel",
      "state": {}
     },
     "ef5ec03128a046f29052e43520bd4ca6": {
      "model_module": "@jupyter-widgets/base",
      "model_module_version": "2.0.0",
      "model_name": "LayoutModel",
      "state": {
       "flex": "2"
      }
     },
     "ef7353a6651840b59f595483b3e28d97": {
      "model_module": "@jupyter-widgets/base",
      "model_module_version": "2.0.0",
      "model_name": "LayoutModel",
      "state": {
       "flex": "2"
      }
     },
     "efc8f29e0a9849d3bccea218f0f8868b": {
      "model_module": "@jupyter-widgets/controls",
      "model_module_version": "2.0.0",
      "model_name": "HTMLModel",
      "state": {
       "layout": "IPY_MODEL_e4161c91091f4658b6b81cabaf232b9b",
       "style": "IPY_MODEL_f6d0fcc4a58f4f10be9a2e6369244f52",
       "value": "Validation DataLoader 0: 100%"
      }
     },
     "efce5f8082e149d689fcecacd57bbd3d": {
      "model_module": "@jupyter-widgets/controls",
      "model_module_version": "2.0.0",
      "model_name": "HTMLModel",
      "state": {
       "layout": "IPY_MODEL_028d0f2a425d4bec9aea94e7d0d61d9f",
       "style": "IPY_MODEL_0a6f53cda21545a0867b9c6a872ae77b",
       "value": " 25/25 [00:00&lt;00:00, 289.22it/s]"
      }
     },
     "f029c3385904403cb7b3cc1edf32af0b": {
      "model_module": "@jupyter-widgets/controls",
      "model_module_version": "2.0.0",
      "model_name": "HTMLStyleModel",
      "state": {
       "description_width": "",
       "font_size": null,
       "text_color": null
      }
     },
     "f12aff2d48764c09837979c0faa3001f": {
      "model_module": "@jupyter-widgets/base",
      "model_module_version": "2.0.0",
      "model_name": "LayoutModel",
      "state": {}
     },
     "f15217b52e40445c88f6d35e48190a38": {
      "model_module": "@jupyter-widgets/base",
      "model_module_version": "2.0.0",
      "model_name": "LayoutModel",
      "state": {}
     },
     "f15c0b8575f54bbfb86ed0d24bcba52b": {
      "model_module": "@jupyter-widgets/controls",
      "model_module_version": "2.0.0",
      "model_name": "FloatProgressModel",
      "state": {
       "layout": "IPY_MODEL_094db5e0a6764c679b04810f641ef42d",
       "max": 25,
       "style": "IPY_MODEL_ee9b761665f2464dba02af7010cf653a",
       "value": 25
      }
     },
     "f18d1f08010c45d48761062b2e029f2b": {
      "model_module": "@jupyter-widgets/base",
      "model_module_version": "2.0.0",
      "model_name": "LayoutModel",
      "state": {
       "display": "inline-flex",
       "flex_flow": "row wrap",
       "visibility": "hidden",
       "width": "100%"
      }
     },
     "f1c0054c5f2b418b9a75542c611fc306": {
      "model_module": "@jupyter-widgets/controls",
      "model_module_version": "2.0.0",
      "model_name": "HTMLStyleModel",
      "state": {
       "description_width": "",
       "font_size": null,
       "text_color": null
      }
     },
     "f23f965c9fe240cfb94e5983ae7fc147": {
      "model_module": "@jupyter-widgets/controls",
      "model_module_version": "2.0.0",
      "model_name": "HTMLModel",
      "state": {
       "layout": "IPY_MODEL_ac0dd7dbbd3f41e0a886e9d3c55435a6",
       "style": "IPY_MODEL_fbe3508c71b8470baac119014a6b17f9",
       "value": "Epoch 19: 100%"
      }
     },
     "f24281d3900b4a7abb0d42fa3deb911e": {
      "model_module": "@jupyter-widgets/base",
      "model_module_version": "2.0.0",
      "model_name": "LayoutModel",
      "state": {}
     },
     "f2df1eb93e23407a8b3fec259ac37cd5": {
      "model_module": "@jupyter-widgets/base",
      "model_module_version": "2.0.0",
      "model_name": "LayoutModel",
      "state": {
       "flex": "2"
      }
     },
     "f376acc8b08b4fd0bb38dcaee59744b1": {
      "model_module": "@jupyter-widgets/controls",
      "model_module_version": "2.0.0",
      "model_name": "FloatProgressModel",
      "state": {
       "layout": "IPY_MODEL_11ee186f7de4477d9773be9cafaea627",
       "max": 25,
       "style": "IPY_MODEL_e04c8bf59c67448ba579a1e283d48d38",
       "value": 25
      }
     },
     "f3d7f925620b4a0bb6399c0b0dd7b76a": {
      "model_module": "@jupyter-widgets/base",
      "model_module_version": "2.0.0",
      "model_name": "LayoutModel",
      "state": {
       "flex": "2"
      }
     },
     "f3e2b7f34459432cbc2a8b666388c74c": {
      "model_module": "@jupyter-widgets/base",
      "model_module_version": "2.0.0",
      "model_name": "LayoutModel",
      "state": {
       "display": "inline-flex",
       "flex_flow": "row wrap",
       "visibility": "hidden",
       "width": "100%"
      }
     },
     "f4c2122cd6344da3acf556e680c7bb3d": {
      "model_module": "@jupyter-widgets/controls",
      "model_module_version": "2.0.0",
      "model_name": "HTMLModel",
      "state": {
       "layout": "IPY_MODEL_2a2b7cc01625443eba9ad5d97e2c5cbf",
       "style": "IPY_MODEL_669612f0b2ae4aa58a1b873633732d78",
       "value": "Validation DataLoader 0: 100%"
      }
     },
     "f4e639563f1742fd8cd5fcf3f01ca074": {
      "model_module": "@jupyter-widgets/base",
      "model_module_version": "2.0.0",
      "model_name": "LayoutModel",
      "state": {}
     },
     "f50c0b3c7c0549b18322cbde0540a99a": {
      "model_module": "@jupyter-widgets/controls",
      "model_module_version": "2.0.0",
      "model_name": "HTMLModel",
      "state": {
       "layout": "IPY_MODEL_9f36fab97b624fb3be595586d5bd578e",
       "style": "IPY_MODEL_1f43e085b34e463abca758de49def8e7",
       "value": " 25/25 [00:00&lt;00:00, 267.40it/s]"
      }
     },
     "f574fe41d6bc45398120dc1fdecea8bb": {
      "model_module": "@jupyter-widgets/base",
      "model_module_version": "2.0.0",
      "model_name": "LayoutModel",
      "state": {}
     },
     "f5a840761b21404696daa16673c79a23": {
      "model_module": "@jupyter-widgets/controls",
      "model_module_version": "2.0.0",
      "model_name": "HTMLStyleModel",
      "state": {
       "description_width": "",
       "font_size": null,
       "text_color": null
      }
     },
     "f639abe9b6df40339c70f562571e1e82": {
      "model_module": "@jupyter-widgets/controls",
      "model_module_version": "2.0.0",
      "model_name": "HTMLStyleModel",
      "state": {
       "description_width": "",
       "font_size": null,
       "text_color": null
      }
     },
     "f64628b6bcb24046865d8f23f82763a8": {
      "model_module": "@jupyter-widgets/base",
      "model_module_version": "2.0.0",
      "model_name": "LayoutModel",
      "state": {
       "flex": "2"
      }
     },
     "f653bfe367d442b6a5aa2af26adb8996": {
      "model_module": "@jupyter-widgets/controls",
      "model_module_version": "2.0.0",
      "model_name": "HTMLStyleModel",
      "state": {
       "description_width": "",
       "font_size": null,
       "text_color": null
      }
     },
     "f688f325b8944f6eb56a28f847530b9f": {
      "model_module": "@jupyter-widgets/controls",
      "model_module_version": "2.0.0",
      "model_name": "HTMLModel",
      "state": {
       "layout": "IPY_MODEL_6b536db33ec344c79473754b7fc41cef",
       "style": "IPY_MODEL_92b40336bf5142c48f58681430b246c1",
       "value": " 25/25 [00:00&lt;00:00, 278.19it/s]"
      }
     },
     "f6d0fcc4a58f4f10be9a2e6369244f52": {
      "model_module": "@jupyter-widgets/controls",
      "model_module_version": "2.0.0",
      "model_name": "HTMLStyleModel",
      "state": {
       "description_width": "",
       "font_size": null,
       "text_color": null
      }
     },
     "f6d7a326ec3e442ea7c76bf946a2f7c4": {
      "model_module": "@jupyter-widgets/controls",
      "model_module_version": "2.0.0",
      "model_name": "HTMLStyleModel",
      "state": {
       "description_width": "",
       "font_size": null,
       "text_color": null
      }
     },
     "f750f9195ccd442381f94a6cd8ec48be": {
      "model_module": "@jupyter-widgets/controls",
      "model_module_version": "2.0.0",
      "model_name": "HTMLStyleModel",
      "state": {
       "description_width": "",
       "font_size": null,
       "text_color": null
      }
     },
     "f7542b800f66483695c27a9af677c199": {
      "model_module": "@jupyter-widgets/base",
      "model_module_version": "2.0.0",
      "model_name": "LayoutModel",
      "state": {
       "display": "inline-flex",
       "flex_flow": "row wrap",
       "visibility": "hidden",
       "width": "100%"
      }
     },
     "f7a74fbb8e4f4875be91a6f58c860cdc": {
      "model_module": "@jupyter-widgets/base",
      "model_module_version": "2.0.0",
      "model_name": "LayoutModel",
      "state": {}
     },
     "f812f16804bb4b2aad90a92e68e06cbe": {
      "model_module": "@jupyter-widgets/controls",
      "model_module_version": "2.0.0",
      "model_name": "HTMLModel",
      "state": {
       "layout": "IPY_MODEL_07b029fdf99745519b34dc678b347c4e",
       "style": "IPY_MODEL_1e12cb8985d9420b9cc8930065769d0f",
       "value": " 25/25 [00:00&lt;00:00, 286.23it/s]"
      }
     },
     "f886b12af2574394b379a8f323cbb2b1": {
      "model_module": "@jupyter-widgets/controls",
      "model_module_version": "2.0.0",
      "model_name": "FloatProgressModel",
      "state": {
       "bar_style": "success",
       "layout": "IPY_MODEL_df20170a7730453886de9bef60c1f02d",
       "style": "IPY_MODEL_4cf4c19a8be94bdbb2275bd458118416",
       "value": 100
      }
     },
     "f9447927e4d646b1b59738f8cc84c9d5": {
      "model_module": "@jupyter-widgets/controls",
      "model_module_version": "2.0.0",
      "model_name": "FloatProgressModel",
      "state": {
       "layout": "IPY_MODEL_6e18113b040b4dfab4370071ee7fb67f",
       "max": 25,
       "style": "IPY_MODEL_5766af903dc24f949ab83392324d3dc7",
       "value": 25
      }
     },
     "f949189d5e964244ae3bbfb69e51e643": {
      "model_module": "@jupyter-widgets/controls",
      "model_module_version": "2.0.0",
      "model_name": "ProgressStyleModel",
      "state": {
       "description_width": ""
      }
     },
     "f973af76ad8a4d19853ce5096ac9d9c5": {
      "model_module": "@jupyter-widgets/controls",
      "model_module_version": "2.0.0",
      "model_name": "HTMLStyleModel",
      "state": {
       "description_width": "",
       "font_size": null,
       "text_color": null
      }
     },
     "f9d018ad3f2446ee9fe651b9730ccbb3": {
      "model_module": "@jupyter-widgets/base",
      "model_module_version": "2.0.0",
      "model_name": "LayoutModel",
      "state": {
       "display": "inline-flex",
       "flex_flow": "row wrap",
       "visibility": "hidden",
       "width": "100%"
      }
     },
     "f9e401840c12476ab7f9011f7c35ccc1": {
      "model_module": "@jupyter-widgets/controls",
      "model_module_version": "2.0.0",
      "model_name": "HTMLModel",
      "state": {
       "layout": "IPY_MODEL_588f5dd6db854751b5ec29426121dc7c",
       "style": "IPY_MODEL_3f2ac93466374f9dac0cb31ee020704e",
       "value": "Validation DataLoader 0: 100%"
      }
     },
     "f9febda8686c4ed0be1c96dc5a1c15e3": {
      "model_module": "@jupyter-widgets/base",
      "model_module_version": "2.0.0",
      "model_name": "LayoutModel",
      "state": {
       "flex": "2"
      }
     },
     "fa0a03cff4f444feb5a4515f5ac64eeb": {
      "model_module": "@jupyter-widgets/controls",
      "model_module_version": "2.0.0",
      "model_name": "HTMLModel",
      "state": {
       "layout": "IPY_MODEL_a6714eeb2971489c8a74ec37155bbda2",
       "style": "IPY_MODEL_10125e9f8132438aacce729026f772c3",
       "value": " 25/25 [00:00&lt;00:00, 270.71it/s]"
      }
     },
     "fa262476768b47b2aa6778111180e946": {
      "model_module": "@jupyter-widgets/controls",
      "model_module_version": "2.0.0",
      "model_name": "HTMLModel",
      "state": {
       "layout": "IPY_MODEL_5e36bf3f41ea4987ad7c432dad464eab",
       "style": "IPY_MODEL_60eb4648a7e5460187cf7ee2b241b44f",
       "value": "Validation DataLoader 0: 100%"
      }
     },
     "fa4434c9166944f8be571c822b70584e": {
      "model_module": "@jupyter-widgets/controls",
      "model_module_version": "2.0.0",
      "model_name": "ProgressStyleModel",
      "state": {
       "description_width": ""
      }
     },
     "fac566b2f89b40028a4a6a529574d793": {
      "model_module": "@jupyter-widgets/controls",
      "model_module_version": "2.0.0",
      "model_name": "HTMLStyleModel",
      "state": {
       "description_width": "",
       "font_size": null,
       "text_color": null
      }
     },
     "fad5fe7ebc77434f9646127bbcb6373d": {
      "model_module": "@jupyter-widgets/base",
      "model_module_version": "2.0.0",
      "model_name": "LayoutModel",
      "state": {
       "display": "inline-flex",
       "flex_flow": "row wrap",
       "width": "100%"
      }
     },
     "fb8f94c64d864706b2bd4da687425c43": {
      "model_module": "@jupyter-widgets/controls",
      "model_module_version": "2.0.0",
      "model_name": "FloatProgressModel",
      "state": {
       "layout": "IPY_MODEL_c7ba6953fcf94e41ad14122ae9d8a3cf",
       "max": 25,
       "style": "IPY_MODEL_0edb5af37d5d443b968441b30ae3dd75",
       "value": 25
      }
     },
     "fba96a55eb4641b7898152227ae18460": {
      "model_module": "@jupyter-widgets/base",
      "model_module_version": "2.0.0",
      "model_name": "LayoutModel",
      "state": {
       "display": "inline-flex",
       "flex_flow": "row wrap",
       "visibility": "hidden",
       "width": "100%"
      }
     },
     "fbab887c14874c75ad5338ccad36c52e": {
      "model_module": "@jupyter-widgets/controls",
      "model_module_version": "2.0.0",
      "model_name": "FloatProgressModel",
      "state": {
       "layout": "IPY_MODEL_f2df1eb93e23407a8b3fec259ac37cd5",
       "max": 25,
       "style": "IPY_MODEL_28a091f865614d8b93069f81e5ef9263",
       "value": 25
      }
     },
     "fbba513a670b4a9cbe63f2465f96ff6d": {
      "model_module": "@jupyter-widgets/controls",
      "model_module_version": "2.0.0",
      "model_name": "HTMLStyleModel",
      "state": {
       "description_width": "",
       "font_size": null,
       "text_color": null
      }
     },
     "fbe3508c71b8470baac119014a6b17f9": {
      "model_module": "@jupyter-widgets/controls",
      "model_module_version": "2.0.0",
      "model_name": "HTMLStyleModel",
      "state": {
       "description_width": "",
       "font_size": null,
       "text_color": null
      }
     },
     "fc5c9aeea5244fc1a2fe8213a429876e": {
      "model_module": "@jupyter-widgets/controls",
      "model_module_version": "2.0.0",
      "model_name": "HTMLStyleModel",
      "state": {
       "description_width": "",
       "font_size": null,
       "text_color": null
      }
     },
     "fd8255dbe42846f2b65b930ab4e44075": {
      "model_module": "@jupyter-widgets/controls",
      "model_module_version": "2.0.0",
      "model_name": "FloatProgressModel",
      "state": {
       "layout": "IPY_MODEL_abf5304ccc1546bb8af0ae28b6e85990",
       "max": 25,
       "style": "IPY_MODEL_50e5871015054dd393b02fd282d60a2e",
       "value": 25
      }
     },
     "fdc694d4be45408ca7e80eb9cd2fd272": {
      "model_module": "@jupyter-widgets/controls",
      "model_module_version": "2.0.0",
      "model_name": "ProgressStyleModel",
      "state": {
       "description_width": ""
      }
     },
     "fdcbb20d17ef466c80ed89172ff690c6": {
      "model_module": "@jupyter-widgets/base",
      "model_module_version": "2.0.0",
      "model_name": "LayoutModel",
      "state": {
       "display": "inline-flex",
       "flex_flow": "row wrap",
       "visibility": "hidden",
       "width": "100%"
      }
     },
     "fe0023e858604923bee645d3cd1ee94e": {
      "model_module": "@jupyter-widgets/controls",
      "model_module_version": "2.0.0",
      "model_name": "FloatProgressModel",
      "state": {
       "bar_style": "success",
       "layout": "IPY_MODEL_127fa2483e28423b8c8ecbfad4a4291c",
       "style": "IPY_MODEL_634b1634f4684d968ab56760cd6005d7",
       "value": 100
      }
     },
     "fe332982e36e43babdec41730cb00f8d": {
      "model_module": "@jupyter-widgets/controls",
      "model_module_version": "2.0.0",
      "model_name": "FloatProgressModel",
      "state": {
       "layout": "IPY_MODEL_476d2a818534426c82a0c45daf28f328",
       "max": 25,
       "style": "IPY_MODEL_9a18ea36ef9746889d6dc50246be9768",
       "value": 25
      }
     },
     "fe48482637d04fe895a22205370f3211": {
      "model_module": "@jupyter-widgets/controls",
      "model_module_version": "2.0.0",
      "model_name": "FloatProgressModel",
      "state": {
       "layout": "IPY_MODEL_8b8a65f1956e440b996f7858043da163",
       "max": 25,
       "style": "IPY_MODEL_852a2c3cbe7c47c2b70fd2bf8b55cd86",
       "value": 8
      }
     },
     "fe83eeda5f6248c4a1a86dd0ec057cab": {
      "model_module": "@jupyter-widgets/controls",
      "model_module_version": "2.0.0",
      "model_name": "FloatProgressModel",
      "state": {
       "layout": "IPY_MODEL_20bfa7008f3e44f4bba66034142b2cde",
       "max": 25,
       "style": "IPY_MODEL_8a5b674a633a4dea9231556bcb3de5ba",
       "value": 25
      }
     },
     "fee90171e17542569d679272a8a40870": {
      "model_module": "@jupyter-widgets/base",
      "model_module_version": "2.0.0",
      "model_name": "LayoutModel",
      "state": {
       "display": "inline-flex",
       "flex_flow": "row wrap",
       "visibility": "hidden",
       "width": "100%"
      }
     },
     "ff487854fc014a0abea10ab60d38b751": {
      "model_module": "@jupyter-widgets/base",
      "model_module_version": "2.0.0",
      "model_name": "LayoutModel",
      "state": {
       "flex": "2"
      }
     },
     "ff8344f7144a405f94f0be93839a68d2": {
      "model_module": "@jupyter-widgets/base",
      "model_module_version": "2.0.0",
      "model_name": "LayoutModel",
      "state": {
       "flex": "2"
      }
     },
     "ffe860d03d6248afa826c6fde1c7963b": {
      "model_module": "@jupyter-widgets/base",
      "model_module_version": "2.0.0",
      "model_name": "LayoutModel",
      "state": {}
     }
    },
    "version_major": 2,
    "version_minor": 0
   }
  }
 },
 "nbformat": 4,
 "nbformat_minor": 4
}
