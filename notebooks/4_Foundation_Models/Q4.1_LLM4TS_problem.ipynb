{
 "cells": [
  {
   "cell_type": "code",
   "execution_count": 1,
   "id": "96acc0fc-0275-4348-85e7-2c98524217a4",
   "metadata": {},
   "outputs": [],
   "source": [
    "# TODO: clean imports\n",
    "import numpy as np\n",
    "import pandas as pd\n",
    "from sklearn.linear_model import (LogisticRegression, LinearRegression)\n",
    "from sklearn.ensemble import RandomForestClassifier\n",
    "\n",
    "\n",
    "from ollama import chat\n",
    "from ollama import embeddings\n",
    "# from sklearn.model_selection import train_test_split\n",
    "# from sklearn.preprocessing import StandardScaler\n",
    "from sklearn.metrics import (\n",
    "    confusion_matrix,\n",
    "    roc_auc_score,\n",
    "    average_precision_score,\n",
    "    RocCurveDisplay,\n",
    "    PrecisionRecallDisplay,\n",
    "    ConfusionMatrixDisplay\n",
    ")\n",
    "# import torch\n",
    "# import torch.nn as nn\n",
    "# import pytorch_lightning as pl\n",
    "# from torch.utils.data import DataLoader, TensorDataset\n",
    "# from pytorch_lightning.callbacks import EarlyStopping, LearningRateMonitor, ModelCheckpoint\n",
    "# import torchmetrics\n",
    "\n",
    "import os\n",
    "from glob import glob\n",
    "from pathlib import Path\n",
    "from tqdm.notebook import tqdm\n",
    "import ipywidgets as widgets\n",
    "from IPython.display import display, clear_output\n",
    "from matplotlib import pyplot as plt\n",
    "\n",
    "from modules import *\n",
    "\n",
    "# override all pandas display limits\n",
    "pd.options.display.max_columns = None\n",
    "pd.options.display.max_rows = None\n",
    "\n"
   ]
  },
  {
   "cell_type": "code",
   "execution_count": 2,
   "id": "6205bbfd-552d-4b6c-9472-3924bb508654",
   "metadata": {},
   "outputs": [
    {
     "name": "stdout",
     "output_type": "stream",
     "text": [
      "Reading /home/pbaertschi/ICU-TimeSeries-Mortality-Prediction/notebooks/4_Foundation_Models/../../data/set-a-filled.parquet -> set_a_filled\n",
      "Reading /home/pbaertschi/ICU-TimeSeries-Mortality-Prediction/notebooks/4_Foundation_Models/../../data/set-b.parquet -> set_b\n",
      "Reading /home/pbaertschi/ICU-TimeSeries-Mortality-Prediction/notebooks/4_Foundation_Models/../../data/set-a.parquet -> set_a\n",
      "Reading /home/pbaertschi/ICU-TimeSeries-Mortality-Prediction/notebooks/4_Foundation_Models/../../data/set-c-filled.parquet -> set_c_filled\n",
      "Reading /home/pbaertschi/ICU-TimeSeries-Mortality-Prediction/notebooks/4_Foundation_Models/../../data/set-c.parquet -> set_c\n",
      "Reading /home/pbaertschi/ICU-TimeSeries-Mortality-Prediction/notebooks/4_Foundation_Models/../../data/set-b-filled.parquet -> set_b_filled\n"
     ]
    }
   ],
   "source": [
    "# load parquet files\n",
    "data_path = Path(\"../../data\")\n",
    "notebooks_path = Path(os.getcwd())\n",
    "data_dir = {}\n",
    "\n",
    "##unsafe\n",
    "# for file_path in list((notebooks_path / data_path).glob(\"*.parquet\")):\n",
    "#     print(f\"Reading {file_path}\")\n",
    "#     # retrieve the name of the file without the extension for all OS\n",
    "#     data = pd.read_parquet(file_path)\n",
    "#     # if \"Time\" in df.columns:\n",
    "#     #     df[\"Time\"] = pd.to_datetime(df[\"Time\"])\n",
    "#     data_dir[str(file_path).replace(\"\\\\\", \"/\").split(\"/\")[-1].split(\".\")[0].replace(\"-\", \"_\")] = data\n",
    "\n",
    "for file_path in (notebooks_path / data_path).glob(\"set*.parquet\"):\n",
    "    var_name = file_path.stem.replace(\"-\", \"_\")\n",
    "    globals()[var_name] = pd.read_parquet(file_path)\n",
    "    print(f\"Reading {file_path} -> {var_name}\")\n",
    "\n",
    "\n",
    "ID_vars = [\"PatientID\", \"Time\", \"RecordID\"]\n",
    "# stationary variables\n",
    "stationary_vars = [\"Age\", \"Gender\", \"Height\"] #, \"ICUType\"]\n",
    "# dynamic variables\n",
    "dynamic_vars = set_a.columns.difference(stationary_vars + ID_vars).tolist()\n"
   ]
  },
  {
   "cell_type": "code",
   "execution_count": 3,
   "id": "ef950db1-2fa2-4cfb-b4eb-686597051882",
   "metadata": {},
   "outputs": [],
   "source": [
    "# for key in [\"a\", \"b\", \"c\"]:\n",
    "#     print(f\"Extracting set_{key}\") \n",
    "#     df = extract_features(globals()[f\"set_{key}_filled\"])\n",
    "#     df.to_csv(notebooks_path / data_path / Path(f\"features_{key}.csv\"))"
   ]
  },
  {
   "cell_type": "code",
   "execution_count": 4,
   "id": "072b4f46-74fe-4e5b-9f67-9e3ee46a75fe",
   "metadata": {},
   "outputs": [
    {
     "name": "stdout",
     "output_type": "stream",
     "text": [
      "Reading /home/pbaertschi/ICU-TimeSeries-Mortality-Prediction/notebooks/4_Foundation_Models/../../data/features_a.csv -> features_a\n",
      "Reading /home/pbaertschi/ICU-TimeSeries-Mortality-Prediction/notebooks/4_Foundation_Models/../../data/features_c.csv -> features_c\n",
      "Reading /home/pbaertschi/ICU-TimeSeries-Mortality-Prediction/notebooks/4_Foundation_Models/../../data/features_b.csv -> features_b\n"
     ]
    }
   ],
   "source": [
    "for file_path in (notebooks_path / data_path).glob(\"features*.csv\"):\n",
    "    var_name = file_path.stem.replace(\"-\", \"_\")\n",
    "    globals()[var_name] = pd.read_csv(file_path)\n",
    "    print(f\"Reading {file_path} -> {var_name}\")"
   ]
  },
  {
   "cell_type": "code",
   "execution_count": 5,
   "id": "f6d91b5b-4bef-453f-b6d0-064bff091cf2",
   "metadata": {},
   "outputs": [],
   "source": [
    "# Train a Random Forest to check feature importance for classification\n",
    "def split_labels_and_features(df):\n",
    "    exclude = [\"In-hospital_death\", \"RecordID\", \"Unnamed\", \"ICUType\"]\n",
    "    labels = df['In-hospital_death_mean']\n",
    "    features = df.loc[:, ~df.columns.str.contains(\"|\".join(exclude))].copy()\n",
    "\n",
    "    return features, labels\n",
    "\n",
    "# ## top k features\n",
    "# top_k_features = 20\n",
    "\n",
    "# X_train, y_train = split_labels_and_features(features_a)\n",
    "\n",
    "# # Assuming you've already trained your Random Forest\n",
    "# rf = RandomForestClassifier(n_estimators=100, random_state=42)\n",
    "# rf.fit(X_train, y_train)\n",
    "\n",
    "# # Extract importances\n",
    "# importances = rf.feature_importances_\n",
    "\n",
    "# # Create a sorted DataFrame\n",
    "# feature_names = X_train.columns if isinstance(X_train, pd.DataFrame) else [f\"f{i}\" for i in range(X_train.shape[1])]\n",
    "# importance_df = pd.DataFrame({\n",
    "#     \"Feature\": feature_names,\n",
    "#     \"Importance\": importances\n",
    "# }).sort_values(by=\"Importance\", ascending=False)\n",
    "\n",
    "# # Print top features\n",
    "# print(importance_df.head(top_k_features))\n",
    "\n",
    "# # Optional: plot\n",
    "# plt.figure(figsize=(10, 6))\n",
    "# plt.barh(importance_df[\"Feature\"][:top_k_features][::-1], importance_df[\"Importance\"][:20][::-1])\n",
    "# plt.xlabel(\"Importance\")\n",
    "# plt.title(\"Top 20 Feature Importances\")\n",
    "# plt.tight_layout()\n",
    "# plt.show()\n"
   ]
  },
  {
   "cell_type": "code",
   "execution_count": 9,
   "id": "eb63b10b-2690-4b1b-9eec-eb072fa50831",
   "metadata": {},
   "outputs": [
    {
     "name": "stdout",
     "output_type": "stream",
     "text": [
      "/bin/bash: line 1: ollama: command not found\n",
      "/bin/bash: line 1: ollama: command not found\n"
     ]
    }
   ],
   "source": [
    "# Assume df is your test set DataFrame with top features + labels\n",
    "# !ollama serve\n",
    "# !ollama list"
   ]
  },
  {
   "cell_type": "code",
   "execution_count": 7,
   "id": "86370ec0-4743-4a7f-8d81-91b603b7ec1d",
   "metadata": {},
   "outputs": [],
   "source": [
    "# MVP\n",
    "# max_cases = 1\n",
    "# scoring_bool = True\n",
    "\n",
    "# prompt, test_cases, outcomes = build_few_shot_prompt(features_a, label_col = \"In-hospital_death_mean\", scoring = scoring_bool)\n",
    "\n",
    "\n",
    "# for i, test_case in enumerate(test_cases[:max_cases]):\n",
    "#     print(f\"\\n--- Test Case {i+1} ---\")\n",
    "#     prediction = query_llm(prompt, test_case).lower()\n",
    "#     print(f\"Prediction: {prediction}\")\n",
    "#     print(f\"Truth: {outcomes[i]}\")\n"
   ]
  },
  {
   "cell_type": "code",
   "execution_count": 10,
   "id": "bc0a9199-2aaa-4920-8864-df7df0fed88a",
   "metadata": {},
   "outputs": [
    {
     "data": {
      "application/vnd.jupyter.widget-view+json": {
       "model_id": "db6da34c66dd4a87a25573e3b30f59bb",
       "version_major": 2,
       "version_minor": 0
      },
      "text/plain": [
       "Patient Cases:   0%|          | 0/20 [00:00<?, ?it/s]"
      ]
     },
     "metadata": {},
     "output_type": "display_data"
    },
    {
     "name": "stdout",
     "output_type": "stream",
     "text": [
      "\n",
      "📊 Confusion Matrix:\n"
     ]
    },
    {
     "data": {
      "image/png": "[encoded data removed]",
      "text/plain": [
       "<Figure size 640x480 with 2 Axes>"
      ]
     },
     "metadata": {},
     "output_type": "display_data"
    },
    {
     "name": "stdout",
     "output_type": "stream",
     "text": [
      "AUROC : 0.3889\n",
      "AUPRC : 0.0857\n"
     ]
    },
    {
     "data": {
      "image/png": "[encoded data removed]",
      "text/plain": [
       "<Figure size 640x480 with 1 Axes>"
      ]
     },
     "metadata": {},
     "output_type": "display_data"
    },
    {
     "data": {
      "image/png": "[encoded data removed]",
      "text/plain": [
       "<Figure size 640x480 with 1 Axes>"
      ]
     },
     "metadata": {},
     "output_type": "display_data"
    }
   ],
   "source": [
    "prompt, test_cases, outcomes = build_few_shot_prompt(\n",
    "    features_a,\n",
    "    label_col=\"In-hospital_death_mean\",\n",
    "    scoring=False\n",
    ")\n",
    "\n",
    "y_true, y_pred, y_scores = evaluate_llm_predictions(prompt, test_cases, outcomes, model=\"gemma2:2b\", max_cases=20)\n"
   ]
  },
  {
   "cell_type": "markdown",
   "id": "1a081e1c-148b-426e-8789-a8a6baf94a47",
   "metadata": {},
   "source": [
    "## Q4.2 Embedding Task"
   ]
  },
  {
   "cell_type": "code",
   "execution_count": 11,
   "id": "decc5685-051a-4201-b2a1-fd63e280c0a5",
   "metadata": {},
   "outputs": [
    {
     "data": {
      "application/vnd.jupyter.widget-view+json": {
       "model_id": "29606a441a76447882c26c7ebd600b4a",
       "version_major": 2,
       "version_minor": 0
      },
      "text/plain": [
       "Generating embeddings:   0%|          | 0/3997 [00:00<?, ?it/s]"
      ]
     },
     "metadata": {},
     "output_type": "display_data"
    }
   ],
   "source": [
    "def get_patient_embedding(text, model='gemma2:2b'):\n",
    "    response = embeddings(model=model, prompt=text)\n",
    "    return response['embedding']\n",
    "\n",
    "def get_all_embeddings(prompt, test_cases, model='gemma2:2b'):\n",
    "    return [get_patient_embedding(f\"{prompt}\\n\\n{t}\", model=model) for t in tqdm(test_cases, desc=\"Generating embeddings\")]\n",
    "\n",
    "prompt, test_cases, outcomes = build_few_shot_prompt(\n",
    "    features_a,\n",
    "    label_col=\"In-hospital_death_mean\",\n",
    "    scoring=False\n",
    ")\n",
    "\n",
    "# # patient_summaries = [generate_patient_summary(row) for _, row in features_a.iterrows()]\n",
    "# embeddings_list = get_all_embeddings(prompt, test_cases, model='gemma2:2b')\n",
    "\n",
    "# # Save as DataFrame for probe training\n",
    "# embedding_df = pd.DataFrame(embeddings_list)\n",
    "\n",
    "# # Add labels\n",
    "# embedding_df['label'] = features_a['In-hospital_death_mean'].copy()\n",
    "\n",
    "# # Save to csv \n",
    "# filename = Path(f\"embedding_df_Q42.csv\")\n",
    "# embedding_df.to_csv(notebooks_path / data_path / filename)"
   ]
  },
  {
   "cell_type": "code",
   "execution_count": null,
   "id": "d84639fc-878b-44d1-8e52-30671c4fe20c",
   "metadata": {},
   "outputs": [],
   "source": [
    "# load embeddings df\n",
    "filename = Path(f\"embedding_df_Q42.csv\")\n",
    "embedding_df = pd.read_csv(notebooks_path / data / path / filename)\n",
    "del filename"
   ]
  },
  {
   "cell_type": "code",
   "execution_count": null,
   "id": "ea1194bf-2220-4f02-b6c7-3b3946946671",
   "metadata": {},
   "outputs": [],
   "source": []
  }
 ],
 "metadata": {
  "kernelspec": {
   "display_name": "Python 3 (ipykernel)",
   "language": "python",
   "name": "python3"
  },
  "language_info": {
   "codemirror_mode": {
    "name": "ipython",
    "version": 3
   },
   "file_extension": ".py",
   "mimetype": "text/x-python",
   "name": "python",
   "nbconvert_exporter": "python",
   "pygments_lexer": "ipython3",
   "version": "3.12.3"
  },
  "widgets": {
   "application/vnd.jupyter.widget-state+json": {
    "state": {
     "0f77e3ccf55d4385a651c272827fd3b8": {
      "model_module": "@jupyter-widgets/controls",
      "model_module_version": "2.0.0",
      "model_name": "FloatProgressModel",
      "state": {
       "bar_style": "success",
       "layout": "IPY_MODEL_41dd3f044c1c48c4a56db732aa5357c5",
       "max": 3997,
       "style": "IPY_MODEL_7fc74da7c07a43878d9d6d06979e9f78",
       "value": 3997
      }
     },
     "11b989459087436195fe511fc6c6489b": {
      "model_module": "@jupyter-widgets/controls",
      "model_module_version": "2.0.0",
      "model_name": "HTMLStyleModel",
      "state": {
       "description_width": "",
       "font_size": null,
       "text_color": null
      }
     },
     "15e8c90c39d148d29d452aa37d31ea87": {
      "model_module": "@jupyter-widgets/base",
      "model_module_version": "2.0.0",
      "model_name": "LayoutModel",
      "state": {}
     },
     "20af83f7dbad4bfb8575749c090982ab": {
      "model_module": "@jupyter-widgets/controls",
      "model_module_version": "2.0.0",
      "model_name": "ProgressStyleModel",
      "state": {
       "description_width": ""
      }
     },
     "259d031be3964930abaebea496904205": {
      "model_module": "@jupyter-widgets/base",
      "model_module_version": "2.0.0",
      "model_name": "LayoutModel",
      "state": {}
     },
     "26fa735eb02447339dff24f5ef3d0cfa": {
      "model_module": "@jupyter-widgets/controls",
      "model_module_version": "2.0.0",
      "model_name": "ProgressStyleModel",
      "state": {
       "description_width": ""
      }
     },
     "29606a441a76447882c26c7ebd600b4a": {
      "model_module": "@jupyter-widgets/controls",
      "model_module_version": "2.0.0",
      "model_name": "HBoxModel",
      "state": {
       "children": [
        "IPY_MODEL_6ead3ed13c684a23b037f44c0792a0d3",
        "IPY_MODEL_0f77e3ccf55d4385a651c272827fd3b8",
        "IPY_MODEL_331ef0e204cc4b698da8cf910739007a"
       ],
       "layout": "IPY_MODEL_610cf394e04f4482906b237de3c6f268"
      }
     },
     "2e0d0bbbdd32494eafa008cc88c5519c": {
      "model_module": "@jupyter-widgets/base",
      "model_module_version": "2.0.0",
      "model_name": "LayoutModel",
      "state": {}
     },
     "2fe2591302374ded9e6995656a6dbbe0": {
      "model_module": "@jupyter-widgets/base",
      "model_module_version": "2.0.0",
      "model_name": "LayoutModel",
      "state": {}
     },
     "331ef0e204cc4b698da8cf910739007a": {
      "model_module": "@jupyter-widgets/controls",
      "model_module_version": "2.0.0",
      "model_name": "HTMLModel",
      "state": {
       "layout": "IPY_MODEL_15e8c90c39d148d29d452aa37d31ea87",
       "style": "IPY_MODEL_11b989459087436195fe511fc6c6489b",
       "value": " 3997/3997 [11:06&lt;00:00,  5.94it/s]"
      }
     },
     "3c2cbf4de0e8403c9d001bcb3972f9d3": {
      "model_module": "@jupyter-widgets/controls",
      "model_module_version": "2.0.0",
      "model_name": "FloatProgressModel",
      "state": {
       "bar_style": "success",
       "layout": "IPY_MODEL_92ed8cc5fe9d4032b47ac062fbd2521f",
       "max": 20,
       "style": "IPY_MODEL_26fa735eb02447339dff24f5ef3d0cfa",
       "value": 20
      }
     },
     "41dd3f044c1c48c4a56db732aa5357c5": {
      "model_module": "@jupyter-widgets/base",
      "model_module_version": "2.0.0",
      "model_name": "LayoutModel",
      "state": {}
     },
     "45ca7110c01f4d258a79dba49ebde5d3": {
      "model_module": "@jupyter-widgets/controls",
      "model_module_version": "2.0.0",
      "model_name": "HTMLModel",
      "state": {
       "layout": "IPY_MODEL_b18dcb965a874e11b19d787ad43bef0a",
       "style": "IPY_MODEL_ea8473c4f5d0441a8ced868df6de6b97",
       "value": "Patient Cases:   0%"
      }
     },
     "4ed8e020545440df899e7129df9502d9": {
      "model_module": "@jupyter-widgets/base",
      "model_module_version": "2.0.0",
      "model_name": "LayoutModel",
      "state": {}
     },
     "57fb28887f7e4f45a60fc147ad06dcf4": {
      "model_module": "@jupyter-widgets/controls",
      "model_module_version": "2.0.0",
      "model_name": "HTMLStyleModel",
      "state": {
       "description_width": "",
       "font_size": null,
       "text_color": null
      }
     },
     "5cbf5d88d7e74010acc55d9f21ac4189": {
      "model_module": "@jupyter-widgets/controls",
      "model_module_version": "2.0.0",
      "model_name": "HTMLModel",
      "state": {
       "layout": "IPY_MODEL_4ed8e020545440df899e7129df9502d9",
       "style": "IPY_MODEL_57fb28887f7e4f45a60fc147ad06dcf4",
       "value": " 20/20 [00:06&lt;00:00,  4.99it/s]"
      }
     },
     "610cf394e04f4482906b237de3c6f268": {
      "model_module": "@jupyter-widgets/base",
      "model_module_version": "2.0.0",
      "model_name": "LayoutModel",
      "state": {}
     },
     "64ef57e4891e493db4226403629d49ce": {
      "model_module": "@jupyter-widgets/controls",
      "model_module_version": "2.0.0",
      "model_name": "HTMLStyleModel",
      "state": {
       "description_width": "",
       "font_size": null,
       "text_color": null
      }
     },
     "6cb64bb8bc5b4ffa81f485f67d6b144e": {
      "model_module": "@jupyter-widgets/controls",
      "model_module_version": "2.0.0",
      "model_name": "HTMLModel",
      "state": {
       "layout": "IPY_MODEL_6f23495369c5407fabb0538320d32073",
       "style": "IPY_MODEL_64ef57e4891e493db4226403629d49ce",
       "value": " 0/20 [00:00&lt;?, ?it/s]"
      }
     },
     "6ead3ed13c684a23b037f44c0792a0d3": {
      "model_module": "@jupyter-widgets/controls",
      "model_module_version": "2.0.0",
      "model_name": "HTMLModel",
      "state": {
       "layout": "IPY_MODEL_2e0d0bbbdd32494eafa008cc88c5519c",
       "style": "IPY_MODEL_d65f032b9451460a838c492dee3d5a60",
       "value": "Generating embeddings: 100%"
      }
     },
     "6f23495369c5407fabb0538320d32073": {
      "model_module": "@jupyter-widgets/base",
      "model_module_version": "2.0.0",
      "model_name": "LayoutModel",
      "state": {}
     },
     "7fc74da7c07a43878d9d6d06979e9f78": {
      "model_module": "@jupyter-widgets/controls",
      "model_module_version": "2.0.0",
      "model_name": "ProgressStyleModel",
      "state": {
       "description_width": ""
      }
     },
     "827911245854421fb88d0fe648c8a4b5": {
      "model_module": "@jupyter-widgets/controls",
      "model_module_version": "2.0.0",
      "model_name": "FloatProgressModel",
      "state": {
       "bar_style": "danger",
       "layout": "IPY_MODEL_bc4c400a45e0485e96a20891aa0c2fb7",
       "max": 20,
       "style": "IPY_MODEL_20af83f7dbad4bfb8575749c090982ab"
      }
     },
     "92ed8cc5fe9d4032b47ac062fbd2521f": {
      "model_module": "@jupyter-widgets/base",
      "model_module_version": "2.0.0",
      "model_name": "LayoutModel",
      "state": {}
     },
     "95f5d4f4f48742349943518f8558a8bb": {
      "model_module": "@jupyter-widgets/controls",
      "model_module_version": "2.0.0",
      "model_name": "HTMLStyleModel",
      "state": {
       "description_width": "",
       "font_size": null,
       "text_color": null
      }
     },
     "aa3dbeec3b28496580c9014c1399a9e7": {
      "model_module": "@jupyter-widgets/base",
      "model_module_version": "2.0.0",
      "model_name": "LayoutModel",
      "state": {}
     },
     "b18dcb965a874e11b19d787ad43bef0a": {
      "model_module": "@jupyter-widgets/base",
      "model_module_version": "2.0.0",
      "model_name": "LayoutModel",
      "state": {}
     },
     "bc4c400a45e0485e96a20891aa0c2fb7": {
      "model_module": "@jupyter-widgets/base",
      "model_module_version": "2.0.0",
      "model_name": "LayoutModel",
      "state": {}
     },
     "d65f032b9451460a838c492dee3d5a60": {
      "model_module": "@jupyter-widgets/controls",
      "model_module_version": "2.0.0",
      "model_name": "HTMLStyleModel",
      "state": {
       "description_width": "",
       "font_size": null,
       "text_color": null
      }
     },
     "db6da34c66dd4a87a25573e3b30f59bb": {
      "model_module": "@jupyter-widgets/controls",
      "model_module_version": "2.0.0",
      "model_name": "HBoxModel",
      "state": {
       "children": [
        "IPY_MODEL_fdba6aa504164ac7994eabbc2a94914d",
        "IPY_MODEL_3c2cbf4de0e8403c9d001bcb3972f9d3",
        "IPY_MODEL_5cbf5d88d7e74010acc55d9f21ac4189"
       ],
       "layout": "IPY_MODEL_259d031be3964930abaebea496904205"
      }
     },
     "ea8473c4f5d0441a8ced868df6de6b97": {
      "model_module": "@jupyter-widgets/controls",
      "model_module_version": "2.0.0",
      "model_name": "HTMLStyleModel",
      "state": {
       "description_width": "",
       "font_size": null,
       "text_color": null
      }
     },
     "f66fbd16c3284c1fbed757fdf94a7e9e": {
      "model_module": "@jupyter-widgets/controls",
      "model_module_version": "2.0.0",
      "model_name": "HBoxModel",
      "state": {
       "children": [
        "IPY_MODEL_45ca7110c01f4d258a79dba49ebde5d3",
        "IPY_MODEL_827911245854421fb88d0fe648c8a4b5",
        "IPY_MODEL_6cb64bb8bc5b4ffa81f485f67d6b144e"
       ],
       "layout": "IPY_MODEL_2fe2591302374ded9e6995656a6dbbe0"
      }
     },
     "fdba6aa504164ac7994eabbc2a94914d": {
      "model_module": "@jupyter-widgets/controls",
      "model_module_version": "2.0.0",
      "model_name": "HTMLModel",
      "state": {
       "layout": "IPY_MODEL_aa3dbeec3b28496580c9014c1399a9e7",
       "style": "IPY_MODEL_95f5d4f4f48742349943518f8558a8bb",
       "value": "Patient Cases: 100%"
      }
     }
    },
    "version_major": 2,
    "version_minor": 0
   }
  }
 },
 "nbformat": 4,
 "nbformat_minor": 5
}
