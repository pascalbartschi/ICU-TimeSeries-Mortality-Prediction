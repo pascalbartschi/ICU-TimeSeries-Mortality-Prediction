{
 "cells": [
  {
   "cell_type": "code",
   "execution_count": 1,
   "id": "96acc0fc-0275-4348-85e7-2c98524217a4",
   "metadata": {},
   "outputs": [],
   "source": [
    "# TODO: clean imports\n",
    "import numpy as np\n",
    "import pandas as pd\n",
    "from sklearn.linear_model import (LogisticRegression, LinearRegression)\n",
    "from sklearn.ensemble import RandomForestClassifier\n",
    "\n",
    "\n",
    "\n",
    "from ollama import chat\n",
    "from ollama import embeddings\n",
    "# from sklearn.model_selection import train_test_split\n",
    "# from sklearn.preprocessing import StandardScaler\n",
    "from sklearn.metrics import (\n",
    "    confusion_matrix,\n",
    "    roc_auc_score,\n",
    "    average_precision_score,\n",
    "    RocCurveDisplay,\n",
    "    PrecisionRecallDisplay,\n",
    "    ConfusionMatrixDisplay\n",
    ")\n",
    "import torch\n",
    "import torch.nn as nn\n",
    "from torch.utils.data import DataLoader, TensorDataset, random_split\n",
    "\n",
    "import os\n",
    "from glob import glob\n",
    "from pathlib import Path\n",
    "from tqdm.notebook import tqdm\n",
    "import ipywidgets as widgets\n",
    "from IPython.display import display, clear_output\n",
    "from matplotlib import pyplot as plt\n",
    "\n",
    "from modules import *\n",
    "\n",
    "# override all pandas display limits\n",
    "pd.options.display.max_columns = None\n",
    "pd.options.display.max_rows = None\n",
    "\n"
   ]
  },
  {
   "cell_type": "code",
   "execution_count": 2,
   "id": "6205bbfd-552d-4b6c-9472-3924bb508654",
   "metadata": {},
   "outputs": [
    {
     "name": "stdout",
     "output_type": "stream",
     "text": [
      "Reading /home/pbaertschi/ICU-TimeSeries-Mortality-Prediction/notebooks/4_Foundation_Models/../../data/set-a-filled.parquet -> set_a_filled\n",
      "Reading /home/pbaertschi/ICU-TimeSeries-Mortality-Prediction/notebooks/4_Foundation_Models/../../data/set-b.parquet -> set_b\n",
      "Reading /home/pbaertschi/ICU-TimeSeries-Mortality-Prediction/notebooks/4_Foundation_Models/../../data/set-a.parquet -> set_a\n",
      "Reading /home/pbaertschi/ICU-TimeSeries-Mortality-Prediction/notebooks/4_Foundation_Models/../../data/set-c-filled.parquet -> set_c_filled\n",
      "Reading /home/pbaertschi/ICU-TimeSeries-Mortality-Prediction/notebooks/4_Foundation_Models/../../data/set-c.parquet -> set_c\n",
      "Reading /home/pbaertschi/ICU-TimeSeries-Mortality-Prediction/notebooks/4_Foundation_Models/../../data/set-b-filled.parquet -> set_b_filled\n"
     ]
    }
   ],
   "source": [
    "# load parquet files\n",
    "data_path = Path(\"../../data\")\n",
    "notebooks_path = Path(os.getcwd())\n",
    "data_dir = {}\n",
    "\n",
    "##unsafe\n",
    "# for file_path in list((notebooks_path / data_path).glob(\"*.parquet\")):\n",
    "#     print(f\"Reading {file_path}\")\n",
    "#     # retrieve the name of the file without the extension for all OS\n",
    "#     data = pd.read_parquet(file_path)\n",
    "#     # if \"Time\" in df.columns:\n",
    "#     #     df[\"Time\"] = pd.to_datetime(df[\"Time\"])\n",
    "#     data_dir[str(file_path).replace(\"\\\\\", \"/\").split(\"/\")[-1].split(\".\")[0].replace(\"-\", \"_\")] = data\n",
    "\n",
    "for file_path in (notebooks_path / data_path).glob(\"set*.parquet\"):\n",
    "    var_name = file_path.stem.replace(\"-\", \"_\")\n",
    "    globals()[var_name] = pd.read_parquet(file_path)\n",
    "    print(f\"Reading {file_path} -> {var_name}\")\n",
    "\n",
    "\n",
    "ID_vars = [\"PatientID\", \"Time\", \"RecordID\"]\n",
    "# stationary variables\n",
    "stationary_vars = [\"Age\", \"Gender\", \"Height\"] #, \"ICUType\"]\n",
    "# dynamic variables\n",
    "dynamic_vars = set_a.columns.difference(stationary_vars + ID_vars).tolist()\n"
   ]
  },
  {
   "cell_type": "code",
   "execution_count": 3,
   "id": "ef950db1-2fa2-4cfb-b4eb-686597051882",
   "metadata": {},
   "outputs": [],
   "source": [
    "# for key in [\"a\", \"b\", \"c\"]:\n",
    "#     print(f\"Extracting set_{key}\") \n",
    "#     df = extract_features(globals()[f\"set_{key}_filled\"])\n",
    "#     df.to_csv(notebooks_path / data_path / Path(f\"features_{key}.csv\"))"
   ]
  },
  {
   "cell_type": "code",
   "execution_count": 4,
   "id": "072b4f46-74fe-4e5b-9f67-9e3ee46a75fe",
   "metadata": {},
   "outputs": [
    {
     "name": "stdout",
     "output_type": "stream",
     "text": [
      "Reading /home/pbaertschi/ICU-TimeSeries-Mortality-Prediction/notebooks/4_Foundation_Models/../../data/features_a.csv -> features_a\n",
      "Reading /home/pbaertschi/ICU-TimeSeries-Mortality-Prediction/notebooks/4_Foundation_Models/../../data/features_c.csv -> features_c\n",
      "Reading /home/pbaertschi/ICU-TimeSeries-Mortality-Prediction/notebooks/4_Foundation_Models/../../data/features_b.csv -> features_b\n"
     ]
    }
   ],
   "source": [
    "for file_path in (notebooks_path / data_path).glob(\"features*.csv\"):\n",
    "    var_name = file_path.stem.replace(\"-\", \"_\")\n",
    "    globals()[var_name] = pd.read_csv(file_path)\n",
    "    print(f\"Reading {file_path} -> {var_name}\")"
   ]
  },
  {
   "cell_type": "code",
   "execution_count": 5,
   "id": "f6d91b5b-4bef-453f-b6d0-064bff091cf2",
   "metadata": {},
   "outputs": [],
   "source": [
    "# Train a Random Forest to check feature importance for classification\n",
    "def split_labels_and_features(df):\n",
    "    exclude = [\"In-hospital_death\", \"RecordID\", \"Unnamed\", \"ICUType\"]\n",
    "    labels = df['In-hospital_death_mean']\n",
    "    features = df.loc[:, ~df.columns.str.contains(\"|\".join(exclude))].copy()\n",
    "\n",
    "    return features, labels\n",
    "\n",
    "# ## top k features\n",
    "# top_k_features = 20\n",
    "\n",
    "# X_train, y_train = split_labels_and_features(features_a)\n",
    "\n",
    "# # Assuming you've already trained your Random Forest\n",
    "# rf = RandomForestClassifier(n_estimators=100, random_state=42)\n",
    "# rf.fit(X_train, y_train)\n",
    "\n",
    "# # Extract importances\n",
    "# importances = rf.feature_importances_\n",
    "\n",
    "# # Create a sorted DataFrame\n",
    "# feature_names = X_train.columns if isinstance(X_train, pd.DataFrame) else [f\"f{i}\" for i in range(X_train.shape[1])]\n",
    "# importance_df = pd.DataFrame({\n",
    "#     \"Feature\": feature_names,\n",
    "#     \"Importance\": importances\n",
    "# }).sort_values(by=\"Importance\", ascending=False)\n",
    "\n",
    "# # Print top features\n",
    "# print(importance_df.head(top_k_features))\n",
    "\n",
    "# # Optional: plot\n",
    "# plt.figure(figsize=(10, 6))\n",
    "# plt.barh(importance_df[\"Feature\"][:top_k_features][::-1], importance_df[\"Importance\"][:20][::-1])\n",
    "# plt.xlabel(\"Importance\")\n",
    "# plt.title(\"Top 20 Feature Importances\")\n",
    "# plt.tight_layout()\n",
    "# plt.show()\n"
   ]
  },
  {
   "cell_type": "code",
   "execution_count": 6,
   "id": "eb63b10b-2690-4b1b-9eec-eb072fa50831",
   "metadata": {},
   "outputs": [],
   "source": [
    "# Assume df is your test set DataFrame with top features + labels\n",
    "# !ollama serve\n",
    "# !ollama list"
   ]
  },
  {
   "cell_type": "code",
   "execution_count": 7,
   "id": "86370ec0-4743-4a7f-8d81-91b603b7ec1d",
   "metadata": {},
   "outputs": [],
   "source": [
    "# MVP\n",
    "# max_cases = 1\n",
    "# scoring_bool = True\n",
    "\n",
    "# prompt, test_cases, outcomes = build_few_shot_prompt(features_a, label_col = \"In-hospital_death_mean\", scoring = scoring_bool)\n",
    "\n",
    "\n",
    "# for i, test_case in enumerate(test_cases[:max_cases]):\n",
    "#     print(f\"\\n--- Test Case {i+1} ---\")\n",
    "#     prediction = query_llm(prompt, test_case).lower()\n",
    "#     print(f\"Prediction: {prediction}\")\n",
    "#     print(f\"Truth: {outcomes[i]}\")\n"
   ]
  },
  {
   "cell_type": "code",
   "execution_count": 8,
   "id": "bc0a9199-2aaa-4920-8864-df7df0fed88a",
   "metadata": {},
   "outputs": [
    {
     "data": {
      "application/vnd.jupyter.widget-view+json": {
       "model_id": "cf55221be0fb4d02951382bfe7497546",
       "version_major": 2,
       "version_minor": 0
      },
      "text/plain": [
       "Patient Cases:   0%|          | 0/20 [00:00<?, ?it/s]"
      ]
     },
     "metadata": {},
     "output_type": "display_data"
    },
    {
     "name": "stdout",
     "output_type": "stream",
     "text": [
      "\n",
      "📊 Confusion Matrix:\n"
     ]
    },
    {
     "data": {
      "image/png": "[encoded data removed]",
      "text/plain": [
       "<Figure size 640x480 with 2 Axes>"
      ]
     },
     "metadata": {},
     "output_type": "display_data"
    },
    {
     "name": "stdout",
     "output_type": "stream",
     "text": [
      "AUROC : 0.4722\n",
      "AUPRC : 0.0955\n"
     ]
    },
    {
     "data": {
      "image/png": "[encoded data removed]",
      "text/plain": [
       "<Figure size 640x480 with 1 Axes>"
      ]
     },
     "metadata": {},
     "output_type": "display_data"
    },
    {
     "data": {
      "image/png": "[encoded data removed]",
      "text/plain": [
       "<Figure size 640x480 with 1 Axes>"
      ]
     },
     "metadata": {},
     "output_type": "display_data"
    }
   ],
   "source": [
    "prompt, test_cases, outcomes = build_few_shot_prompt(\n",
    "    features_a,\n",
    "    label_col=\"In-hospital_death_mean\",\n",
    "    scoring=False\n",
    ")\n",
    "\n",
    "y_true, y_pred, y_scores = evaluate_llm_predictions(prompt, test_cases, outcomes, model=\"gemma2:2b\", max_cases=20)\n"
   ]
  },
  {
   "cell_type": "markdown",
   "id": "1a081e1c-148b-426e-8789-a8a6baf94a47",
   "metadata": {},
   "source": [
    "## Q4.2 Embedding Task"
   ]
  },
  {
   "cell_type": "code",
   "execution_count": 10,
   "id": "decc5685-051a-4201-b2a1-fd63e280c0a5",
   "metadata": {},
   "outputs": [],
   "source": [
    "def get_patient_embedding(text, model='gemma2:2b'):\n",
    "    response = embeddings(model=model, prompt=text)\n",
    "    return response['embedding']\n",
    "\n",
    "def get_all(prompt, test_cases, model='gemma2:2b'):\n",
    "    return [get_patient_embedding(f\"{prompt}\\n\\n{t}\", model=model) for t in tqdm(test_cases, desc=\"Generating embeddings\")]\n",
    "\n",
    "\n",
    "######################### Training Data #########################\n",
    "# prompt, test_cases, outcomes = build_few_shot_prompt(\n",
    "#     features_a,\n",
    "#     label_col=\"In-hospital_death_mean\",\n",
    "#     scoring=False\n",
    "# )\n",
    "\n",
    "# embeddings_list = get_all(prompt, test_cases, model='gemma2:2b')\n",
    "\n",
    "# # Save as DataFrame for probe training\n",
    "# embedding_df = pd.DataFrame(embeddings_list)\n",
    "\n",
    "# # Add labels\n",
    "# embedding_df['label'] = features_a['In-hospital_death_mean'].copy()\n",
    "\n",
    "# # Save to csv \n",
    "# filename = Path(f\"embedding_df_Q42_a.csv\")\n",
    "# embedding_df.to_csv(notebooks_path / data_path / filename)\n",
    "\n",
    "# ######################## Validation Data #########################\n",
    "# prompt, test_cases, outcomes = build_few_shot_prompt(\n",
    "#     features_b,\n",
    "#     label_col=\"In-hospital_death_mean\",\n",
    "#     scoring=False\n",
    "# )\n",
    "\n",
    "# embeddings_list = get_all(prompt, test_cases, model='gemma2:2b')\n",
    "\n",
    "# # Save as DataFrame for probe training\n",
    "# embedding_df = pd.DataFrame(embeddings_list)\n",
    "\n",
    "# # Add labels\n",
    "# embedding_df['label'] = features_b['In-hospital_death_mean'].copy()\n",
    "\n",
    "# # Save to csv \n",
    "# filename = Path(f\"embedding_df_Q42_b.csv\")\n",
    "# embedding_df.to_csv(notebooks_path / data_path / filename)\n",
    "\n",
    "# ######################## Test Data #########################\n",
    "# prompt, test_cases, outcomes = build_few_shot_prompt(\n",
    "#     features_c,\n",
    "#     label_col=\"In-hospital_death_mean\",\n",
    "#     scoring=False\n",
    "# )\n",
    "\n",
    "# embeddings_list = get_all(prompt, test_cases, model='gemma2:2b')\n",
    "\n",
    "# # Save as DataFrame for probe training\n",
    "# embedding_df = pd.DataFrame(embeddings_list)\n",
    "\n",
    "# # Add labels\n",
    "# embedding_df['label'] = features_c['In-hospital_death_mean'].copy()\n",
    "\n",
    "# # Save to csv \n",
    "# filename = Path(f\"embedding_df_Q42_c.csv\")\n",
    "# embedding_df.to_csv(notebooks_path / data_path / filename)"
   ]
  },
  {
   "cell_type": "code",
   "execution_count": 11,
   "id": "d84639fc-878b-44d1-8e52-30671c4fe20c",
   "metadata": {},
   "outputs": [],
   "source": [
    "# load embeddings df\n",
    "\n",
    "# train\n",
    "filename = Path(f\"embedding_df_Q42_a.csv\")\n",
    "embedding_df_a = pd.read_csv(notebooks_path / data_path / filename)\n",
    "filename = Path(f\"embedding_df_Q42_b.csv\")\n",
    "embedding_df_b = pd.read_csv(notebooks_path / data_path / filename)\n",
    "filename = Path(f\"embedding_df_Q42_c.csv\")\n",
    "embedding_df_c = pd.read_csv(notebooks_path / data_path / filename)\n",
    "del filename"
   ]
  },
  {
   "cell_type": "code",
   "execution_count": 17,
   "id": "ea1194bf-2220-4f02-b6c7-3b3946946671",
   "metadata": {},
   "outputs": [
    {
     "data": {
      "text/plain": [
       "(torch.Size([3997]), torch.Size([3997, 2305]))"
      ]
     },
     "execution_count": 17,
     "metadata": {},
     "output_type": "execute_result"
    }
   ],
   "source": [
    "# Logistic Regression \n",
    "\n",
    "\n",
    "# ==== 1. Define Model ====\n",
    "class MortalityPredictor(nn.Module):\n",
    "    def __init__(self, input_dim):\n",
    "        super().__init__()\n",
    "        self.layer = nn.Linear(input_dim, 1)\n",
    "\n",
    "    def forward(self, x):\n",
    "        return self.layer(x).squeeze(-1)\n"
   ]
  },
  {
   "cell_type": "code",
   "execution_count": 20,
   "id": "974d6a0f-67d5-42fc-9d67-9c53a80b28a4",
   "metadata": {},
   "outputs": [
    {
     "data": {
      "application/vnd.jupyter.widget-view+json": {
       "model_id": "3862a4f25d0045ec89dccf1a91ec42d6",
       "version_major": 2,
       "version_minor": 0
      },
      "text/plain": [
       "  0%|          | 0/20 [00:00<?, ?it/s]"
      ]
     },
     "metadata": {},
     "output_type": "display_data"
    },
    {
     "name": "stdout",
     "output_type": "stream",
     "text": [
      "[Epoch 1] Val AUROC: 0.5317, AUPRC: 0.1549\n",
      "[Epoch 2] Val AUROC: 0.5278, AUPRC: 0.1495\n",
      "[Epoch 3] Val AUROC: 0.5439, AUPRC: 0.1596\n",
      "[Epoch 4] Val AUROC: 0.5204, AUPRC: 0.1464\n",
      "[Epoch 5] Val AUROC: 0.5304, AUPRC: 0.1504\n",
      "[Epoch 6] Val AUROC: 0.5374, AUPRC: 0.1544\n",
      "[Epoch 7] Val AUROC: 0.5698, AUPRC: 0.1767\n",
      "[Epoch 8] Val AUROC: 0.5803, AUPRC: 0.1792\n",
      "[Epoch 9] Val AUROC: 0.5477, AUPRC: 0.1580\n",
      "[Epoch 10] Val AUROC: 0.5333, AUPRC: 0.1532\n",
      "[Epoch 11] Val AUROC: 0.5504, AUPRC: 0.1613\n",
      "[Epoch 12] Val AUROC: 0.5885, AUPRC: 0.1895\n",
      "[Epoch 13] Val AUROC: 0.5822, AUPRC: 0.1847\n",
      "[Epoch 14] Val AUROC: 0.6128, AUPRC: 0.1954\n",
      "[Epoch 15] Val AUROC: 0.6522, AUPRC: 0.2304\n",
      "[Epoch 16] Val AUROC: 0.5810, AUPRC: 0.1818\n",
      "[Epoch 17] Val AUROC: 0.5399, AUPRC: 0.1593\n",
      "[Epoch 18] Val AUROC: 0.5760, AUPRC: 0.1814\n",
      "[Epoch 19] Val AUROC: 0.6425, AUPRC: 0.2212\n",
      "[Epoch 20] Val AUROC: 0.6050, AUPRC: 0.2011\n",
      "✅ Finished training. Evaluating on test set...\n",
      "Test AUROC: 0.6050, AUPRC: 0.2011\n"
     ]
    }
   ],
   "source": [
    "# ==== 2. Training & Evaluation Logic ====\n",
    "def evaluate(model, loader, device):\n",
    "    model.eval()\n",
    "    all_logits, all_labels = [], []\n",
    "    with torch.no_grad():\n",
    "        for xb, yb in loader:\n",
    "            xb, yb = xb.to(device), yb.to(device)\n",
    "            logits = model(xb)\n",
    "            probs = torch.sigmoid(logits)\n",
    "            all_logits.append(probs.cpu())\n",
    "            all_labels.append(yb.cpu())\n",
    "    y_true = torch.cat(all_labels).numpy()\n",
    "    y_score = torch.cat(all_logits).numpy()\n",
    "    \n",
    "    # print(\"y_true:\", np.unique(y_true))\n",
    "    # print(\"y_score shape:\", y_score.shape, \"dtype:\", y_score.dtype)\n",
    "\n",
    "    return {\n",
    "        'AUROC': roc_auc_score(y_true, y_score),\n",
    "        'AUPRC': average_precision_score(y_true, y_score)\n",
    "    }\n",
    "    \n",
    "def train_model(X_train, y_train, X_val, y_val, X_test, y_test, model, \n",
    "                epochs=20, batch_size=32, lr=1e-3):\n",
    "    \n",
    "    device = torch.device('cuda' if torch.cuda.is_available() else 'cpu')\n",
    "\n",
    "    # Wrap tensors in datasets\n",
    "    train_ds = TensorDataset(X_train, y_train)\n",
    "    val_ds = TensorDataset(X_val, y_val)\n",
    "    test_ds = TensorDataset(X_test, y_test)\n",
    "\n",
    "    # Create data loaders\n",
    "    train_loader = DataLoader(train_ds, batch_size=batch_size, shuffle=True)\n",
    "    val_loader = DataLoader(val_ds, batch_size=batch_size)\n",
    "    test_loader = DataLoader(test_ds, batch_size=batch_size)\n",
    "\n",
    "    # Define model\n",
    "    model = model.to(device)\n",
    "    optimizer = torch.optim.Adam(model.parameters(), lr=lr)\n",
    "    loss_fn = nn.BCEWithLogitsLoss()\n",
    "\n",
    "    # Training loop\n",
    "    for epoch in tqdm(range(epochs)):\n",
    "        model.train()\n",
    "        for xb, yb in train_loader:\n",
    "            # print(xb.shape)\n",
    "            xb, yb = xb.to(device), yb.to(device).float()\n",
    "            logits = model(xb)\n",
    "            # print(logits.device)\n",
    "            # return\n",
    "            # print(logits.shape)\n",
    "            # print(yb.shape)\n",
    "            # return\n",
    "            loss = loss_fn(logits, yb)\n",
    "            optimizer.zero_grad()\n",
    "            loss.backward()\n",
    "            optimizer.step()\n",
    "\n",
    "        val_metrics = evaluate(model, val_loader, device)\n",
    "        print(f\"[Epoch {epoch+1}] Val AUROC: {val_metrics['AUROC']:.4f}, AUPRC: {val_metrics['AUPRC']:.4f}\")\n",
    "        # return\n",
    "\n",
    "    print(\"✅ Finished training. Evaluating on test set...\")\n",
    "    test_metrics = evaluate(model, test_loader, device)\n",
    "    print(f\"Test AUROC: {test_metrics['AUROC']:.4f}, AUPRC: {test_metrics['AUPRC']:.4f}\")\n",
    "\n",
    "    return model, test_metrics\n",
    "\n",
    "y_train = torch.tensor(embedding_df_a[\"label\"]).float()\n",
    "X_train = torch.tensor(embedding_df_a.iloc[:, :-1].values).float()\n",
    "y_val = torch.tensor(embedding_df_a[\"label\"]).float()\n",
    "X_val = torch.tensor(embedding_df_a.iloc[:, :-1].values).float()\n",
    "y_test = torch.tensor(embedding_df_a[\"label\"]).float()\n",
    "X_test = torch.tensor(embedding_df_a.iloc[:, :-1].values).float()\n",
    "model = MortalityPredictor(input_dim = X_train.shape[-1])\n",
    "model, test_metrics = train_model(X_train, y_train, X_val, y_val, X_test, y_test, model, epochs=20, batch_size=32, lr=1e-3)"
   ]
  },
  {
   "cell_type": "code",
   "execution_count": null,
   "id": "bce52d14-b889-4516-a240-6243b6372280",
   "metadata": {},
   "outputs": [],
   "source": []
  }
 ],
 "metadata": {
  "kernelspec": {
   "display_name": "Python 3 (ipykernel)",
   "language": "python",
   "name": "python3"
  },
  "language_info": {
   "codemirror_mode": {
    "name": "ipython",
    "version": 3
   },
   "file_extension": ".py",
   "mimetype": "text/x-python",
   "name": "python",
   "nbconvert_exporter": "python",
   "pygments_lexer": "ipython3",
   "version": "3.12.3"
  },
  "widgets": {
   "application/vnd.jupyter.widget-state+json": {
    "state": {},
    "version_major": 2,
    "version_minor": 0
   }
  }
 },
 "nbformat": 4,
 "nbformat_minor": 5
}
