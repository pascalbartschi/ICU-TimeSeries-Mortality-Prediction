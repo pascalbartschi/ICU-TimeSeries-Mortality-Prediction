{
 "cells": [
  {
   "cell_type": "markdown",
   "metadata": {},
   "source": [
    "# RNN\n",
    "\n",
    "## Lib and Data Loading"
   ]
  },
  {
   "cell_type": "code",
   "execution_count": 1,
   "metadata": {},
   "outputs": [],
   "source": [
    "import numpy as np\n",
    "import pandas as pd\n",
    "from sklearn.model_selection import train_test_split, KFold\n",
    "from sklearn.preprocessing import StandardScaler\n",
    "from sklearn.metrics import (\n",
    "    confusion_matrix,\n",
    "    roc_auc_score,\n",
    "    average_precision_score,\n",
    "    RocCurveDisplay,\n",
    "    PrecisionRecallDisplay,\n",
    "    ConfusionMatrixDisplay\n",
    ")\n",
    "import torch\n",
    "import torch.nn as nn\n",
    "import pytorch_lightning as pl\n",
    "from torch.utils.data import DataLoader, TensorDataset\n",
    "from pytorch_lightning.callbacks import EarlyStopping, LearningRateMonitor, ModelCheckpoint\n",
    "import torchmetrics\n",
    "\n",
    "import os\n",
    "from glob import glob\n",
    "from pathlib import Path\n",
    "from tqdm.notebook import tqdm\n",
    "import ipywidgets as widgets\n",
    "from IPython.display import display, clear_output\n",
    "from matplotlib import pyplot as plt\n",
    "\n",
    "# override all pandas display limits\n",
    "pd.options.display.max_columns = None\n",
    "pd.options.display.max_rows = None\n",
    "\n"
   ]
  },
  {
   "cell_type": "code",
   "execution_count": 2,
   "metadata": {},
   "outputs": [
    {
     "name": "stdout",
     "output_type": "stream",
     "text": [
      "Reading /home/pbaertschi/ICU-TimeSeries-Mortality-Prediction/notebooks/2_SupervisedML/Q2_RNN/../../../data/set-a-filled.parquet -> set_a_filled\n",
      "Reading /home/pbaertschi/ICU-TimeSeries-Mortality-Prediction/notebooks/2_SupervisedML/Q2_RNN/../../../data/set-b.parquet -> set_b\n",
      "Reading /home/pbaertschi/ICU-TimeSeries-Mortality-Prediction/notebooks/2_SupervisedML/Q2_RNN/../../../data/set-a.parquet -> set_a\n",
      "Reading /home/pbaertschi/ICU-TimeSeries-Mortality-Prediction/notebooks/2_SupervisedML/Q2_RNN/../../../data/set-c-filled.parquet -> set_c_filled\n",
      "Reading /home/pbaertschi/ICU-TimeSeries-Mortality-Prediction/notebooks/2_SupervisedML/Q2_RNN/../../../data/set-c.parquet -> set_c\n",
      "Reading /home/pbaertschi/ICU-TimeSeries-Mortality-Prediction/notebooks/2_SupervisedML/Q2_RNN/../../../data/set-b-filled.parquet -> set_b_filled\n"
     ]
    }
   ],
   "source": [
    "# load parquet files\n",
    "data_path = Path(\"../../../data\")\n",
    "notebooks_path = Path(os.getcwd())\n",
    "data_dir = {}\n",
    "\n",
    "##unsafe\n",
    "# for file_path in list((notebooks_path / data_path).glob(\"*.parquet\")):\n",
    "#     print(f\"Reading {file_path}\")\n",
    "#     # retrieve the name of the file without the extension for all OS\n",
    "#     data = pd.read_parquet(file_path)\n",
    "#     # if \"Time\" in df.columns:\n",
    "#     #     df[\"Time\"] = pd.to_datetime(df[\"Time\"])\n",
    "#     data_dir[str(file_path).replace(\"\\\\\", \"/\").split(\"/\")[-1].split(\".\")[0].replace(\"-\", \"_\")] = data\n",
    "\n",
    "for file_path in (notebooks_path / data_path).glob(\"set*.parquet\"):\n",
    "    var_name = file_path.stem.replace(\"-\", \"_\")\n",
    "    globals()[var_name] = pd.read_parquet(file_path)\n",
    "    print(f\"Reading {file_path} -> {var_name}\")\n",
    "\n",
    "\n",
    "ID_vars = [\"PatientID\", \"Time\", \"RecordID\"] # TODO \n",
    "# stationary variables\n",
    "stationary_vars = [\"Age\", \"Gender\", \"Height\"] #, \"ICUType\"]\n",
    "# dynamic variables\n",
    "dynamic_vars = set_a.columns.difference(stationary_vars + ID_vars).tolist()\n",
    "\n",
    "feature_cols = dynamic_vars + stationary_vars\n",
    "\n",
    "\n"
   ]
  },
  {
   "cell_type": "markdown",
   "metadata": {},
   "source": [
    "## Preprocess Data Shape"
   ]
  },
  {
   "cell_type": "code",
   "execution_count": 3,
   "metadata": {},
   "outputs": [],
   "source": [
    "from sklearn.model_selection import KFold\n",
    "\n",
    "class TimeSeriesDataModule(pl.LightningDataModule):\n",
    "    def __init__(\n",
    "        self,\n",
    "        feature_cols,\n",
    "        batch_size=32,\n",
    "        k_folds=None,  # set this to an int (e.g., 5) to activate k-fold\n",
    "        fold_index=0    # index of current fold\n",
    "    ):\n",
    "        super().__init__()\n",
    "        self.feature_cols = feature_cols\n",
    "        self.batch_size = batch_size\n",
    "        self.k_folds = k_folds\n",
    "        self.fold_index = fold_index\n",
    "\n",
    "\n",
    "\n",
    "    def preprocess_parquet_for_lstm(self, key, scaler=None, fit_scaler=False):\n",
    "        labelname = 'In-hospital_death'\n",
    "        \n",
    "\n",
    "        # if isinstance(key, list):\n",
    "        #     df = globals()[f\"set_{key}_filled\"].copy()\n",
    "        # else: \n",
    "        df = globals()[f\"set_{key}_filled\"].copy()\n",
    "            \n",
    "    \n",
    "        # Sort and fill NaNs\n",
    "        df = df.sort_values([\"RecordID\", \"Time\"])\n",
    "        df[self.feature_cols] = df[self.feature_cols].fillna(0)\n",
    "    \n",
    "        # Replace -1 with 0 in binary categorical feature\n",
    "        if \"MechVent\" in df.columns:\n",
    "            df[\"MechVent\"] = df[\"MechVent\"].replace(-1, 0)\n",
    "    \n",
    "        # One-hot encode Gender, drop last column to avoid multicollinearity\n",
    "        if \"Gender\" in df.columns:\n",
    "            gender_dummies = pd.get_dummies(df[\"Gender\"], prefix=\"Gender\", dtype=float)\n",
    "            gender_dummies = gender_dummies.iloc[:, :-1]  # drop last dummy column\n",
    "            df = df.drop(columns=[\"Gender\"])\n",
    "            df = pd.concat([df, gender_dummies], axis=1)\n",
    "    \n",
    "        # Update feature columns after dummy encoding\n",
    "        current_feature_cols = [col for col in df.columns if col in self.feature_cols or col.startswith(\"Gender_\")]\n",
    "    \n",
    "        # Extract numerical columns for scaling\n",
    "        numerical = [f for f in current_feature_cols if f not in [\"MechVent\", labelname] and not f.startswith(\"Gender_\")]\n",
    "    \n",
    "        # Fit or reuse scaler\n",
    "        if fit_scaler or scaler is None:\n",
    "            scaler = StandardScaler()\n",
    "            scaler.fit(df[numerical])\n",
    "    \n",
    "        # Apply scaling\n",
    "        df[numerical] = scaler.transform(df[numerical])\n",
    "    \n",
    "        # Group by RecordID\n",
    "        X, y = [], []\n",
    "        for pid, group in df.groupby(\"RecordID\"):\n",
    "            group = group.sort_values(\"Time\")\n",
    "            X.append(group[current_feature_cols].values)\n",
    "            label = group[labelname].iloc[0]\n",
    "            # if label not in [0, 1]:\n",
    "            #     raise ValueError(f\"Unexpected label {label} for patient {pid}. Expected binary labels only.\")\n",
    "            y.append(int(label))\n",
    "\n",
    "    \n",
    "        X_tensor = torch.tensor(np.stack(X)).float()\n",
    "        y_tensor = torch.tensor(y).float()\n",
    "    \n",
    "        return X_tensor, y_tensor, scaler\n",
    "        \n",
    "\n",
    "\n",
    "\n",
    "    def setup(self, stage=None):\n",
    "        # # Load training and validation sets and stack them\n",
    "        # X_trainval_a, y_trainval_a, fitted_scaler = self.preprocess_parquet_for_lstm(\"a\", fit_scaler=True)\n",
    "        # X_trainval_b, y_trainval_b, _ = self.preprocess_parquet_for_lstm(\"b\", scaler=fitted_scaler)\n",
    "\n",
    "        # # Stack A and B\n",
    "        # X_trainval = torch.cat([X_trainval_a, X_trainval_b], dim=0)\n",
    "        # y_trainval = torch.cat([y_trainval_a, y_trainval_b], dim=0)\n",
    "\n",
    "        # if self.k_folds:\n",
    "        #     kf = KFold(n_splits=self.k_folds, shuffle=True, random_state=42)\n",
    "        #     indices = list(kf.split(X_trainval))\n",
    "\n",
    "        #     train_idx, val_idx = indices[self.fold_index]\n",
    "        #     self.X_train, self.y_train = X_trainval[train_idx], y_trainval[train_idx]\n",
    "        #     self.X_val, self.y_val     = X_trainval[val_idx], y_trainval[val_idx]\n",
    "        # else:\n",
    "        #     self.X_train, self.y_train = X_trainval_a, y_trainval_a\n",
    "        #     self.X_val, self.y_val     = X_trainval_b, y_trainval_b\n",
    "\n",
    "        # self.X_test, self.y_test, _ = self.preprocess_parquet_for_lstm(\"c\", scaler=fitted_scaler)\n",
    "\n",
    "        # self.train_dataset = TensorDataset(self.X_train, self.y_train)\n",
    "        # self.val_dataset   = TensorDataset(self.X_val, self.y_val)\n",
    "        # self.test_dataset  = TensorDataset(self.X_test, self.y_test)\n",
    "        self.X_train, self.y_train, fitted_scaler = self.preprocess_parquet_for_lstm(\"a\", fit_scaler = True)\n",
    "        self.X_val, self.y_val , _    = self.preprocess_parquet_for_lstm(\"b\", scaler = fitted_scaler)\n",
    "        self.X_test, self.y_test , _  = self.preprocess_parquet_for_lstm(\"c\", scaler = fitted_scaler)\n",
    "\n",
    "        self.train_dataset = TensorDataset(self.X_train, self.y_train)\n",
    "        self.val_dataset   = TensorDataset(self.X_val, self.y_val)\n",
    "        self.test_dataset  = TensorDataset(self.X_test, self.y_test)\n",
    "\n",
    "    def train_dataloader(self):\n",
    "        return DataLoader(self.train_dataset, batch_size=self.batch_size, shuffle=True)\n",
    "\n",
    "    def val_dataloader(self):\n",
    "        return DataLoader(self.val_dataset, batch_size=self.batch_size)\n",
    "\n",
    "    def test_dataloader(self):\n",
    "        return DataLoader(self.test_dataset, batch_size=self.batch_size)\n",
    "\n"
   ]
  },
  {
   "cell_type": "markdown",
   "metadata": {},
   "source": [
    "## LSTM Model Class"
   ]
  },
  {
   "cell_type": "code",
   "execution_count": 4,
   "metadata": {},
   "outputs": [],
   "source": [
    "class LSTMClassifier(pl.LightningModule):\n",
    "    def __init__(self, input_size, hidden_size=64, num_layers=1, lr=1e-3):\n",
    "        super().__init__()\n",
    "        self.save_hyperparameters()\n",
    "        self.lr = lr\n",
    "\n",
    "        self.lstm = nn.LSTM(input_size=input_size, hidden_size=hidden_size, num_layers=num_layers, batch_first=True)\n",
    "        self.classifier = nn.Linear(hidden_size, 1)\n",
    "        self.loss_fn = nn.BCEWithLogitsLoss()\n",
    "\n",
    "        # Store test outputs manually\n",
    "        self.test_probs = []\n",
    "        self.test_targets = []\n",
    "\n",
    "        # Prediction threshold\n",
    "        self.prediction_threshold = 0.5\n",
    "        self.clear_after_testing = False\n",
    "\n",
    "    def forward(self, x):\n",
    "        # Run input through the LSTM\n",
    "        _, (hidden_state, _) = self.lstm(x)  # lstm_output, (hidden_state, cell_state)\n",
    "\n",
    "        # Take the last layer's hidden state (for stacked LSTM)\n",
    "        last_hidden = hidden_state[-1]  # shape: (batch_size, hidden_dim)\n",
    "\n",
    "        # Pass through the classification head\n",
    "        logits = self.classifier(last_hidden)\n",
    "\n",
    "        return logits\n",
    "\n",
    "    def training_step(self, batch, batch_idx):\n",
    "        x, y = batch\n",
    "        logits = self(x).squeeze(1)\n",
    "        loss = self.loss_fn(logits, y.float())\n",
    "        self.log(\"train_loss\", loss, prog_bar=True)\n",
    "        return loss\n",
    "\n",
    "    def validation_step(self, batch, batch_idx):\n",
    "        x, y = batch\n",
    "        logits = self(x).squeeze(1)\n",
    "        loss = self.loss_fn(logits, y.float())\n",
    "        preds = torch.sigmoid(logits) > 0.5\n",
    "        acc = (preds.int() == y).float().mean()\n",
    "        self.log(\"val_loss\", loss, prog_bar=True)\n",
    "        self.log(\"val_acc\", acc, prog_bar=True)\n",
    "        return loss\n",
    "        \n",
    "\n",
    "    def test_step(self, batch, batch_idx):\n",
    "        x, y = batch\n",
    "        logits = self(x).squeeze(1)\n",
    "        probs = torch.sigmoid(logits)\n",
    "        # print(torch.unique(log\n",
    "        loss = self.loss_fn(logits, y.float())\n",
    "\n",
    "        self.log(\"test_loss\", loss)\n",
    "\n",
    "        # Store results for epoch-end metrics\n",
    "        self.test_probs.append(probs.detach().cpu())\n",
    "        self.test_targets.append(y.detach().cpu())\n",
    "\n",
    "        return loss  # or None — you’re not using batch outputs anymore\n",
    "\n",
    "    def on_test_epoch_end(self):\n",
    "            probs = torch.cat(self.test_probs).cpu()\n",
    "            targets = torch.cat(self.test_targets).cpu()\n",
    "            preds = (probs > 0.5).int()\n",
    "            \n",
    "            # Convert both to int numpy arrays\n",
    "            targets_np = targets.int().numpy()\n",
    "            preds_np = preds.numpy()\n",
    "\n",
    "            if self.clear_after_testing: \n",
    "                self.test_probs.clear()\n",
    "                self.test_targets.clear()\n",
    "    \n",
    "            # --- Confusion Matrix ---\n",
    "            cm = confusion_matrix(targets_np, preds_np)\n",
    "            disp_cm = ConfusionMatrixDisplay(confusion_matrix=cm)\n",
    "            disp_cm.plot(cmap='Blues')\n",
    "            plt.title(\"Confusion Matrix\")\n",
    "            plt.show()\n",
    "    \n",
    "            # --- ROC Curve ---\n",
    "            auc = roc_auc_score(targets_np, probs.numpy())\n",
    "            RocCurveDisplay.from_predictions(targets, probs)\n",
    "            plt.title(f\"ROC Curve (AuROC = {auc:.3f})\")\n",
    "            plt.show()\n",
    "    \n",
    "            # --- Precision-Recall Curve ---\n",
    "            auprc = average_precision_score(targets_np, probs.numpy())\n",
    "            PrecisionRecallDisplay.from_predictions(targets, probs)\n",
    "            plt.title(f\"Precision-Recall Curve (AuPRC = {auprc:.3f})\")\n",
    "            plt.show()\n",
    "    \n",
    "            # --- Metrics ---\n",
    "            acc = (preds == targets).float().mean()\n",
    "            self.log(\"test_acc\", acc)\n",
    "            self.log(\"test_auroc\", auc)\n",
    "            self.log(\"test_auprc\", auprc)\n",
    "    \n",
    "            print(f\"\\nTest Accuracy : {acc:.4f}\")\n",
    "            print(f\"Test AuROC    : {auc:.4f}\")\n",
    "            print(f\"Test AuPRC    : {auprc:.4f}\")\n",
    "\n",
    "\n",
    "    def configure_optimizers(self):\n",
    "        optimizer = torch.optim.Adam(self.parameters(), lr=self.lr)\n",
    "        scheduler = {\n",
    "            'scheduler': torch.optim.lr_scheduler.ReduceLROnPlateau(optimizer, mode='min', patience=3, factor=0.5, verbose=True),\n",
    "            'monitor': 'val_loss',\n",
    "            'interval': 'epoch',\n",
    "            'frequency': 1\n",
    "        }\n",
    "        return {\"optimizer\": optimizer, \"lr_scheduler\": scheduler}\n",
    "\n",
    "    def tune_threshold_min_fnr(self):\n",
    "        \"\"\"\n",
    "        Find the classification threshold that minimizes the False Negative Rate (FNR)\n",
    "        and store it in self.prediction_threshold.\n",
    "    \n",
    "        Returns:\n",
    "            best_thresh (float): Threshold with the lowest FNR\n",
    "            best_fnr (float): Lowest observed FNR\n",
    "            thresholds (np.ndarray): Array of tested thresholds\n",
    "            fnrs (List[float]): FNRs corresponding to each threshold\n",
    "        \"\"\"\n",
    "    \n",
    "        assert hasattr(self, \"test_probs\") and hasattr(self, \"test_targets\"), \\\n",
    "            \"test_probs and test_targets must be defined (run test first).\"\n",
    "    \n",
    "        probs = torch.cat(self.test_probs).cpu().numpy()\n",
    "        targets = torch.cat(self.test_targets).cpu().numpy()\n",
    "    \n",
    "        thresholds = np.linspace(0, 1, 100)\n",
    "        best_thresh = 0.5\n",
    "        best_fnr = 1.0\n",
    "        fnrs = []\n",
    "    \n",
    "        for t in tqdm(thresholds):\n",
    "            preds = (probs >= t).astype(int)\n",
    "            tn, fp, fn, tp = confusion_matrix(targets, preds).ravel()\n",
    "            fnr = fn / (fn + tp) if (fn + tp) > 0 else 1.0\n",
    "            fnrs.append(fnr)\n",
    "    \n",
    "            if fnr < best_fnr:\n",
    "                best_fnr = fnr\n",
    "                best_thresh = t\n",
    "    \n",
    "        self.prediction_threshold = best_thresh\n",
    "    \n",
    "        return best_thresh, best_fnr, thresholds, fnrs\n",
    "\n",
    "class BiLSTMClassifier(LSTMClassifier):\n",
    "    def __init__(self, input_size, hidden_size=64, num_layers=1, lr=1e-3):\n",
    "        super().__init__(input_size, hidden_size, num_layers, lr)\n",
    "\n",
    "        # Redefine LSTM as bidirectional\n",
    "        self.lstm = nn.LSTM(\n",
    "            input_size=input_size,\n",
    "            hidden_size=hidden_size,\n",
    "            num_layers=num_layers,\n",
    "            batch_first=True,\n",
    "            bidirectional=True\n",
    "        )\n",
    "\n",
    "        # Since BiLSTM doubles hidden size, update classifier input\n",
    "        self.classifier = nn.Linear(hidden_size * 2, 1)\n",
    "\n",
    "    def forward(self, x):\n",
    "        _, (hidden_state, _) = self.lstm(x)  # hidden_state: (num_layers*2, batch, hidden)\n",
    "\n",
    "        # Get last layer's forward and backward hidden states\n",
    "        forward = hidden_state[-2]\n",
    "        backward = hidden_state[-1]\n",
    "\n",
    "        # Concatenate both directions\n",
    "        last_hidden = torch.cat((forward, backward), dim=1)  # (batch, hidden*2)\n",
    "\n",
    "        return self.classifier(last_hidden)\n"
   ]
  },
  {
   "cell_type": "code",
   "execution_count": 5,
   "metadata": {},
   "outputs": [],
   "source": [
    "def get_callbacks(model_name):\n",
    "    return [\n",
    "        EarlyStopping(monitor='val_loss', patience=10, verbose=True, mode='min'),\n",
    "        LearningRateMonitor(logging_interval='epoch'),\n",
    "        ModelCheckpoint(\n",
    "            monitor='val_loss',\n",
    "            mode='min',\n",
    "            save_top_k=1,\n",
    "            verbose=True,\n",
    "            filename=f'{model_name}-best-checkpoint',\n",
    "            dirpath=os.path.join(\"lightning_logs\", model_name, \"checkpoints\")\n",
    "        )\n",
    "    ]\n",
    "def train_model(ModelClass, model_name, datamodule, input_size, k_folds=None, n_layers=5, h_size=64, return_model=False):\n",
    "    if k_folds:\n",
    "        print(f\"Training {model_name} with {k_folds}-fold cross-validation...\\n\")\n",
    "        trained_models = []\n",
    "\n",
    "        for fold in range(k_folds):\n",
    "            print(f\"\\n=== Fold {fold+1}/{k_folds} ===\")\n",
    "\n",
    "            # Re-initialize datamodule with current fold\n",
    "            fold_dm = TimeSeriesDataModule(\n",
    "                feature_cols=datamodule.feature_cols,\n",
    "                batch_size=datamodule.batch_size,\n",
    "                k_folds=k_folds,\n",
    "                fold_index=fold\n",
    "            )\n",
    "            fold_dm.setup()\n",
    "\n",
    "            model = ModelClass(input_size=input_size, hidden_size=h_size, num_layers=n_layers)\n",
    "            fold_name = f\"{model_name}-fold{fold}\"\n",
    "\n",
    "            trainer = pl.Trainer(\n",
    "                max_epochs=20,\n",
    "                callbacks=get_callbacks(fold_name),\n",
    "                log_every_n_steps=10,\n",
    "                accelerator=\"auto\",\n",
    "                devices=\"auto\",\n",
    "                default_root_dir=os.path.join(\"lightning_logs\", fold_name)\n",
    "            )\n",
    "\n",
    "            trainer.fit(model, datamodule=fold_dm)\n",
    "\n",
    "            if return_model:\n",
    "                trained_models.append(model)\n",
    "\n",
    "            # Optional test after each fold\n",
    "            test_model(ModelClass, fold_name, fold_dm, model=model)\n",
    "\n",
    "        if return_model:\n",
    "            return trained_models\n",
    "\n",
    "    else:\n",
    "        print(f\"Training {model_name} without cross-validation...\")\n",
    "        model = ModelClass(input_size=input_size, hidden_size=h_size, num_layers=n_layers)\n",
    "\n",
    "        trainer = pl.Trainer(\n",
    "            max_epochs=20,\n",
    "            callbacks=get_callbacks(model_name),\n",
    "            log_every_n_steps=10,\n",
    "            accelerator=\"auto\",\n",
    "            devices=\"auto\",\n",
    "            default_root_dir=os.path.join(\"lightning_logs\", model_name)\n",
    "        )\n",
    "\n",
    "        trainer.fit(model, datamodule=datamodule)\n",
    "\n",
    "        if return_model:\n",
    "            return model\n",
    "\n",
    "\n",
    "def test_model(ModelClass, model_name, datamodule, model=None):\n",
    "    print(f\"Testing {model_name}...\")\n",
    "\n",
    "    if model is None:\n",
    "        # Load best checkpoint if model is not provided\n",
    "        ckpt_dir = os.path.join(\"lightning_logs\", model_name, \"checkpoints\")\n",
    "        ckpt_files = glob(os.path.join(ckpt_dir, \"*.ckpt\"))\n",
    "        best_ckpt_path = ckpt_files[0] if ckpt_files else None\n",
    "        print(f\"Checkpoint files found: {ckpt_files}\")\n",
    "\n",
    "        if best_ckpt_path:\n",
    "            print(f\"Best checkpoint: {best_ckpt_path}\")\n",
    "            model = ModelClass.load_from_checkpoint(best_ckpt_path)\n",
    "        else:\n",
    "            print(f\"No checkpoint found for model '{model_name}'. Skipping test.\")\n",
    "            return\n",
    "\n",
    "    trainer = pl.Trainer(accelerator=\"auto\", devices=\"auto\")\n",
    "    trainer.test(model, datamodule=datamodule)\n"
   ]
  },
  {
   "cell_type": "code",
   "execution_count": 6,
   "metadata": {},
   "outputs": [],
   "source": [
    "# Setup\n",
    "k_folds = None\n",
    "h_size = 64\n",
    "n_layers = 5\n",
    "input_size = len(feature_cols) + 1\n",
    "datamodule = TimeSeriesDataModule(feature_cols=feature_cols, batch_size=64, k_folds = k_folds)"
   ]
  },
  {
   "cell_type": "code",
   "execution_count": 7,
   "metadata": {},
   "outputs": [
    {
     "name": "stderr",
     "output_type": "stream",
     "text": [
      "GPU available: True (cuda), used: True\n",
      "TPU available: False, using: 0 TPU cores\n",
      "HPU available: False, using: 0 HPUs\n"
     ]
    },
    {
     "name": "stdout",
     "output_type": "stream",
     "text": [
      "Training lstm without cross-validation...\n"
     ]
    },
    {
     "name": "stderr",
     "output_type": "stream",
     "text": [
      "/cluster/courses/ml4h/project1env/lib/python3.12/site-packages/pytorch_lightning/callbacks/model_checkpoint.py:654: Checkpoint directory /home/pbaertschi/ICU-TimeSeries-Mortality-Prediction/notebooks/2_SupervisedML/Q2_RNN/lightning_logs/lstm/checkpoints exists and is not empty.\n",
      "LOCAL_RANK: 0 - CUDA_VISIBLE_DEVICES: [0]\n",
      "\n",
      "  | Name       | Type              | Params | Mode \n",
      "---------------------------------------------------------\n",
      "0 | lstm       | LSTM              | 161 K  | train\n",
      "1 | classifier | Linear            | 65     | train\n",
      "2 | loss_fn    | BCEWithLogitsLoss | 0      | train\n",
      "---------------------------------------------------------\n",
      "161 K     Trainable params\n",
      "0         Non-trainable params\n",
      "161 K     Total params\n",
      "0.644     Total estimated model params size (MB)\n",
      "3         Modules in train mode\n",
      "0         Modules in eval mode\n",
      "SLURM auto-requeueing enabled. Setting signal handlers.\n"
     ]
    },
    {
     "data": {
      "application/vnd.jupyter.widget-view+json": {
       "model_id": "1014189c0c114f34ba6854f17af20fb6",
       "version_major": 2,
       "version_minor": 0
      },
      "text/plain": [
       "Sanity Checking: |          | 0/? [00:00<?, ?it/s]"
      ]
     },
     "metadata": {},
     "output_type": "display_data"
    },
    {
     "data": {
      "application/vnd.jupyter.widget-view+json": {
       "model_id": "d884901a03554256907114d57e6ea96b",
       "version_major": 2,
       "version_minor": 0
      },
      "text/plain": [
       "Training: |          | 0/? [00:00<?, ?it/s]"
      ]
     },
     "metadata": {},
     "output_type": "display_data"
    },
    {
     "data": {
      "application/vnd.jupyter.widget-view+json": {
       "model_id": "8140ff2e0f29465ab656a1eb1400540f",
       "version_major": 2,
       "version_minor": 0
      },
      "text/plain": [
       "Validation: |          | 0/? [00:00<?, ?it/s]"
      ]
     },
     "metadata": {},
     "output_type": "display_data"
    },
    {
     "name": "stderr",
     "output_type": "stream",
     "text": [
      "Metric val_loss improved. New best score: 0.188\n",
      "Epoch 0, global step 63: 'val_loss' reached 0.18832 (best 0.18832), saving model to '/home/pbaertschi/ICU-TimeSeries-Mortality-Prediction/notebooks/2_SupervisedML/Q2_RNN/lightning_logs/lstm/checkpoints/lstm-best-checkpoint-v4.ckpt' as top 1\n"
     ]
    },
    {
     "data": {
      "application/vnd.jupyter.widget-view+json": {
       "model_id": "d7fa1a6fb92142e6ab47c5f0e4208fd4",
       "version_major": 2,
       "version_minor": 0
      },
      "text/plain": [
       "Validation: |          | 0/? [00:00<?, ?it/s]"
      ]
     },
     "metadata": {},
     "output_type": "display_data"
    },
    {
     "name": "stderr",
     "output_type": "stream",
     "text": [
      "Metric val_loss improved by 0.145 >= min_delta = 0.0. New best score: 0.043\n",
      "Epoch 1, global step 126: 'val_loss' reached 0.04327 (best 0.04327), saving model to '/home/pbaertschi/ICU-TimeSeries-Mortality-Prediction/notebooks/2_SupervisedML/Q2_RNN/lightning_logs/lstm/checkpoints/lstm-best-checkpoint-v4.ckpt' as top 1\n"
     ]
    },
    {
     "data": {
      "application/vnd.jupyter.widget-view+json": {
       "model_id": "20716c3e519f47b3ad17f7a4f0a6febc",
       "version_major": 2,
       "version_minor": 0
      },
      "text/plain": [
       "Validation: |          | 0/? [00:00<?, ?it/s]"
      ]
     },
     "metadata": {},
     "output_type": "display_data"
    },
    {
     "name": "stderr",
     "output_type": "stream",
     "text": [
      "Metric val_loss improved by 0.016 >= min_delta = 0.0. New best score: 0.027\n",
      "Epoch 2, global step 189: 'val_loss' reached 0.02694 (best 0.02694), saving model to '/home/pbaertschi/ICU-TimeSeries-Mortality-Prediction/notebooks/2_SupervisedML/Q2_RNN/lightning_logs/lstm/checkpoints/lstm-best-checkpoint-v4.ckpt' as top 1\n"
     ]
    },
    {
     "data": {
      "application/vnd.jupyter.widget-view+json": {
       "model_id": "6a0bb348bf97417ca5e554c4f2849d16",
       "version_major": 2,
       "version_minor": 0
      },
      "text/plain": [
       "Validation: |          | 0/? [00:00<?, ?it/s]"
      ]
     },
     "metadata": {},
     "output_type": "display_data"
    },
    {
     "name": "stderr",
     "output_type": "stream",
     "text": [
      "Epoch 3, global step 252: 'val_loss' was not in top 1\n"
     ]
    },
    {
     "data": {
      "application/vnd.jupyter.widget-view+json": {
       "model_id": "f07e9cae3bf24eb3974de4290fc470c8",
       "version_major": 2,
       "version_minor": 0
      },
      "text/plain": [
       "Validation: |          | 0/? [00:00<?, ?it/s]"
      ]
     },
     "metadata": {},
     "output_type": "display_data"
    },
    {
     "name": "stderr",
     "output_type": "stream",
     "text": [
      "Epoch 4, global step 315: 'val_loss' was not in top 1\n"
     ]
    },
    {
     "data": {
      "application/vnd.jupyter.widget-view+json": {
       "model_id": "eae2408230174033aca2e58e2efee89d",
       "version_major": 2,
       "version_minor": 0
      },
      "text/plain": [
       "Validation: |          | 0/? [00:00<?, ?it/s]"
      ]
     },
     "metadata": {},
     "output_type": "display_data"
    },
    {
     "name": "stderr",
     "output_type": "stream",
     "text": [
      "Metric val_loss improved by 0.011 >= min_delta = 0.0. New best score: 0.016\n",
      "Epoch 5, global step 378: 'val_loss' reached 0.01630 (best 0.01630), saving model to '/home/pbaertschi/ICU-TimeSeries-Mortality-Prediction/notebooks/2_SupervisedML/Q2_RNN/lightning_logs/lstm/checkpoints/lstm-best-checkpoint-v4.ckpt' as top 1\n"
     ]
    },
    {
     "data": {
      "application/vnd.jupyter.widget-view+json": {
       "model_id": "51b499f1daa6489e9baf46211801f816",
       "version_major": 2,
       "version_minor": 0
      },
      "text/plain": [
       "Validation: |          | 0/? [00:00<?, ?it/s]"
      ]
     },
     "metadata": {},
     "output_type": "display_data"
    },
    {
     "name": "stderr",
     "output_type": "stream",
     "text": [
      "Epoch 6, global step 441: 'val_loss' was not in top 1\n"
     ]
    },
    {
     "data": {
      "application/vnd.jupyter.widget-view+json": {
       "model_id": "730ffc18d82546ffbae2cc88ca0789c6",
       "version_major": 2,
       "version_minor": 0
      },
      "text/plain": [
       "Validation: |          | 0/? [00:00<?, ?it/s]"
      ]
     },
     "metadata": {},
     "output_type": "display_data"
    },
    {
     "name": "stderr",
     "output_type": "stream",
     "text": [
      "Epoch 7, global step 504: 'val_loss' was not in top 1\n"
     ]
    },
    {
     "data": {
      "application/vnd.jupyter.widget-view+json": {
       "model_id": "cd583e764c5447b89f32a78e3f6f71a3",
       "version_major": 2,
       "version_minor": 0
      },
      "text/plain": [
       "Validation: |          | 0/? [00:00<?, ?it/s]"
      ]
     },
     "metadata": {},
     "output_type": "display_data"
    },
    {
     "name": "stderr",
     "output_type": "stream",
     "text": [
      "Epoch 8, global step 567: 'val_loss' was not in top 1\n"
     ]
    },
    {
     "data": {
      "application/vnd.jupyter.widget-view+json": {
       "model_id": "cd42d6b5deaa4b18be3fd476f301338d",
       "version_major": 2,
       "version_minor": 0
      },
      "text/plain": [
       "Validation: |          | 0/? [00:00<?, ?it/s]"
      ]
     },
     "metadata": {},
     "output_type": "display_data"
    },
    {
     "name": "stderr",
     "output_type": "stream",
     "text": [
      "Epoch 9, global step 630: 'val_loss' was not in top 1\n"
     ]
    },
    {
     "data": {
      "application/vnd.jupyter.widget-view+json": {
       "model_id": "75aeca2b07b54748950f72dcf7d7b35c",
       "version_major": 2,
       "version_minor": 0
      },
      "text/plain": [
       "Validation: |          | 0/? [00:00<?, ?it/s]"
      ]
     },
     "metadata": {},
     "output_type": "display_data"
    },
    {
     "name": "stderr",
     "output_type": "stream",
     "text": [
      "Metric val_loss improved by 0.007 >= min_delta = 0.0. New best score: 0.009\n",
      "Epoch 10, global step 693: 'val_loss' reached 0.00948 (best 0.00948), saving model to '/home/pbaertschi/ICU-TimeSeries-Mortality-Prediction/notebooks/2_SupervisedML/Q2_RNN/lightning_logs/lstm/checkpoints/lstm-best-checkpoint-v4.ckpt' as top 1\n"
     ]
    },
    {
     "data": {
      "application/vnd.jupyter.widget-view+json": {
       "model_id": "6221996bcdda44ab9d720fbfa89f75ac",
       "version_major": 2,
       "version_minor": 0
      },
      "text/plain": [
       "Validation: |          | 0/? [00:00<?, ?it/s]"
      ]
     },
     "metadata": {},
     "output_type": "display_data"
    },
    {
     "name": "stderr",
     "output_type": "stream",
     "text": [
      "Metric val_loss improved by 0.001 >= min_delta = 0.0. New best score: 0.009\n",
      "Epoch 11, global step 756: 'val_loss' reached 0.00858 (best 0.00858), saving model to '/home/pbaertschi/ICU-TimeSeries-Mortality-Prediction/notebooks/2_SupervisedML/Q2_RNN/lightning_logs/lstm/checkpoints/lstm-best-checkpoint-v4.ckpt' as top 1\n"
     ]
    },
    {
     "data": {
      "application/vnd.jupyter.widget-view+json": {
       "model_id": "a86e39dcf6184e3e9b585c2fd5aa83fa",
       "version_major": 2,
       "version_minor": 0
      },
      "text/plain": [
       "Validation: |          | 0/? [00:00<?, ?it/s]"
      ]
     },
     "metadata": {},
     "output_type": "display_data"
    },
    {
     "name": "stderr",
     "output_type": "stream",
     "text": [
      "Metric val_loss improved by 0.001 >= min_delta = 0.0. New best score: 0.008\n",
      "Epoch 12, global step 819: 'val_loss' reached 0.00792 (best 0.00792), saving model to '/home/pbaertschi/ICU-TimeSeries-Mortality-Prediction/notebooks/2_SupervisedML/Q2_RNN/lightning_logs/lstm/checkpoints/lstm-best-checkpoint-v4.ckpt' as top 1\n"
     ]
    },
    {
     "data": {
      "application/vnd.jupyter.widget-view+json": {
       "model_id": "e8f755ddc70f40d9adff20f0ea6c62f5",
       "version_major": 2,
       "version_minor": 0
      },
      "text/plain": [
       "Validation: |          | 0/? [00:00<?, ?it/s]"
      ]
     },
     "metadata": {},
     "output_type": "display_data"
    },
    {
     "name": "stderr",
     "output_type": "stream",
     "text": [
      "Metric val_loss improved by 0.001 >= min_delta = 0.0. New best score: 0.007\n",
      "Epoch 13, global step 882: 'val_loss' reached 0.00660 (best 0.00660), saving model to '/home/pbaertschi/ICU-TimeSeries-Mortality-Prediction/notebooks/2_SupervisedML/Q2_RNN/lightning_logs/lstm/checkpoints/lstm-best-checkpoint-v4.ckpt' as top 1\n"
     ]
    },
    {
     "data": {
      "application/vnd.jupyter.widget-view+json": {
       "model_id": "933c8264ebbd4b18b7758edb370ede90",
       "version_major": 2,
       "version_minor": 0
      },
      "text/plain": [
       "Validation: |          | 0/? [00:00<?, ?it/s]"
      ]
     },
     "metadata": {},
     "output_type": "display_data"
    },
    {
     "name": "stderr",
     "output_type": "stream",
     "text": [
      "Metric val_loss improved by 0.000 >= min_delta = 0.0. New best score: 0.006\n",
      "Epoch 14, global step 945: 'val_loss' reached 0.00632 (best 0.00632), saving model to '/home/pbaertschi/ICU-TimeSeries-Mortality-Prediction/notebooks/2_SupervisedML/Q2_RNN/lightning_logs/lstm/checkpoints/lstm-best-checkpoint-v4.ckpt' as top 1\n"
     ]
    },
    {
     "data": {
      "application/vnd.jupyter.widget-view+json": {
       "model_id": "636e2c2228604beeb9c8912a17e240e6",
       "version_major": 2,
       "version_minor": 0
      },
      "text/plain": [
       "Validation: |          | 0/? [00:00<?, ?it/s]"
      ]
     },
     "metadata": {},
     "output_type": "display_data"
    },
    {
     "name": "stderr",
     "output_type": "stream",
     "text": [
      "Epoch 15, global step 1008: 'val_loss' was not in top 1\n"
     ]
    },
    {
     "data": {
      "application/vnd.jupyter.widget-view+json": {
       "model_id": "69550a6bcc6a4a8b8a8ec88d53ca1494",
       "version_major": 2,
       "version_minor": 0
      },
      "text/plain": [
       "Validation: |          | 0/? [00:00<?, ?it/s]"
      ]
     },
     "metadata": {},
     "output_type": "display_data"
    },
    {
     "name": "stderr",
     "output_type": "stream",
     "text": [
      "Metric val_loss improved by 0.001 >= min_delta = 0.0. New best score: 0.006\n",
      "Epoch 16, global step 1071: 'val_loss' reached 0.00568 (best 0.00568), saving model to '/home/pbaertschi/ICU-TimeSeries-Mortality-Prediction/notebooks/2_SupervisedML/Q2_RNN/lightning_logs/lstm/checkpoints/lstm-best-checkpoint-v4.ckpt' as top 1\n"
     ]
    },
    {
     "data": {
      "application/vnd.jupyter.widget-view+json": {
       "model_id": "fe60c2e1f1904362aed2d356109fd055",
       "version_major": 2,
       "version_minor": 0
      },
      "text/plain": [
       "Validation: |          | 0/? [00:00<?, ?it/s]"
      ]
     },
     "metadata": {},
     "output_type": "display_data"
    },
    {
     "name": "stderr",
     "output_type": "stream",
     "text": [
      "Metric val_loss improved by 0.000 >= min_delta = 0.0. New best score: 0.006\n",
      "Epoch 17, global step 1134: 'val_loss' reached 0.00558 (best 0.00558), saving model to '/home/pbaertschi/ICU-TimeSeries-Mortality-Prediction/notebooks/2_SupervisedML/Q2_RNN/lightning_logs/lstm/checkpoints/lstm-best-checkpoint-v4.ckpt' as top 1\n"
     ]
    },
    {
     "data": {
      "application/vnd.jupyter.widget-view+json": {
       "model_id": "18332258b09346a4badb74393188b81e",
       "version_major": 2,
       "version_minor": 0
      },
      "text/plain": [
       "Validation: |          | 0/? [00:00<?, ?it/s]"
      ]
     },
     "metadata": {},
     "output_type": "display_data"
    },
    {
     "name": "stderr",
     "output_type": "stream",
     "text": [
      "Epoch 18, global step 1197: 'val_loss' was not in top 1\n"
     ]
    },
    {
     "data": {
      "application/vnd.jupyter.widget-view+json": {
       "model_id": "2a736fef703945e289599416cd119370",
       "version_major": 2,
       "version_minor": 0
      },
      "text/plain": [
       "Validation: |          | 0/? [00:00<?, ?it/s]"
      ]
     },
     "metadata": {},
     "output_type": "display_data"
    },
    {
     "name": "stderr",
     "output_type": "stream",
     "text": [
      "Metric val_loss improved by 0.000 >= min_delta = 0.0. New best score: 0.006\n",
      "Epoch 19, global step 1260: 'val_loss' reached 0.00556 (best 0.00556), saving model to '/home/pbaertschi/ICU-TimeSeries-Mortality-Prediction/notebooks/2_SupervisedML/Q2_RNN/lightning_logs/lstm/checkpoints/lstm-best-checkpoint-v4.ckpt' as top 1\n",
      "`Trainer.fit` stopped: `max_epochs=20` reached.\n"
     ]
    }
   ],
   "source": [
    "# Train both models\n",
    "# For single train/val split:\n",
    "# train_model(LSTMClassifier, \"lstm\", datamodule, input_size)\n",
    "\n",
    "# For 5-fold cross-validation:\n",
    "lstm_model = train_model(LSTMClassifier, \"lstm\", datamodule, input_size, k_folds=k_folds, h_size = h_size, n_layers = n_layers, return_model=True)\n"
   ]
  },
  {
   "cell_type": "code",
   "execution_count": 8,
   "metadata": {},
   "outputs": [
    {
     "name": "stderr",
     "output_type": "stream",
     "text": [
      "GPU available: True (cuda), used: True\n",
      "TPU available: False, using: 0 TPU cores\n",
      "HPU available: False, using: 0 HPUs\n"
     ]
    },
    {
     "name": "stdout",
     "output_type": "stream",
     "text": [
      "Training bilstm without cross-validation...\n"
     ]
    },
    {
     "name": "stderr",
     "output_type": "stream",
     "text": [
      "/cluster/courses/ml4h/project1env/lib/python3.12/site-packages/pytorch_lightning/callbacks/model_checkpoint.py:654: Checkpoint directory /home/pbaertschi/ICU-TimeSeries-Mortality-Prediction/notebooks/2_SupervisedML/Q2_RNN/lightning_logs/bilstm/checkpoints exists and is not empty.\n",
      "LOCAL_RANK: 0 - CUDA_VISIBLE_DEVICES: [0]\n",
      "\n",
      "  | Name       | Type              | Params | Mode \n",
      "---------------------------------------------------------\n",
      "0 | lstm       | LSTM              | 453 K  | train\n",
      "1 | classifier | Linear            | 129    | train\n",
      "2 | loss_fn    | BCEWithLogitsLoss | 0      | train\n",
      "---------------------------------------------------------\n",
      "453 K     Trainable params\n",
      "0         Non-trainable params\n",
      "453 K     Total params\n",
      "1.813     Total estimated model params size (MB)\n",
      "3         Modules in train mode\n",
      "0         Modules in eval mode\n",
      "SLURM auto-requeueing enabled. Setting signal handlers.\n"
     ]
    },
    {
     "data": {
      "application/vnd.jupyter.widget-view+json": {
       "model_id": "ed4b9760bf704c3caa70d8065aeb88c1",
       "version_major": 2,
       "version_minor": 0
      },
      "text/plain": [
       "Sanity Checking: |          | 0/? [00:00<?, ?it/s]"
      ]
     },
     "metadata": {},
     "output_type": "display_data"
    },
    {
     "data": {
      "application/vnd.jupyter.widget-view+json": {
       "model_id": "515858f7d14a42dbbe6de19171e0000e",
       "version_major": 2,
       "version_minor": 0
      },
      "text/plain": [
       "Training: |          | 0/? [00:00<?, ?it/s]"
      ]
     },
     "metadata": {},
     "output_type": "display_data"
    },
    {
     "data": {
      "application/vnd.jupyter.widget-view+json": {
       "model_id": "588d81a97ba440b9a11078e1c2be14fd",
       "version_major": 2,
       "version_minor": 0
      },
      "text/plain": [
       "Validation: |          | 0/? [00:00<?, ?it/s]"
      ]
     },
     "metadata": {},
     "output_type": "display_data"
    },
    {
     "name": "stderr",
     "output_type": "stream",
     "text": [
      "Metric val_loss improved. New best score: 0.052\n",
      "Epoch 0, global step 63: 'val_loss' reached 0.05181 (best 0.05181), saving model to '/home/pbaertschi/ICU-TimeSeries-Mortality-Prediction/notebooks/2_SupervisedML/Q2_RNN/lightning_logs/bilstm/checkpoints/bilstm-best-checkpoint-v3.ckpt' as top 1\n"
     ]
    },
    {
     "data": {
      "application/vnd.jupyter.widget-view+json": {
       "model_id": "8e2b110ef60e46db84944738b8794f79",
       "version_major": 2,
       "version_minor": 0
      },
      "text/plain": [
       "Validation: |          | 0/? [00:00<?, ?it/s]"
      ]
     },
     "metadata": {},
     "output_type": "display_data"
    },
    {
     "name": "stderr",
     "output_type": "stream",
     "text": [
      "Metric val_loss improved by 0.032 >= min_delta = 0.0. New best score: 0.020\n",
      "Epoch 1, global step 126: 'val_loss' reached 0.01997 (best 0.01997), saving model to '/home/pbaertschi/ICU-TimeSeries-Mortality-Prediction/notebooks/2_SupervisedML/Q2_RNN/lightning_logs/bilstm/checkpoints/bilstm-best-checkpoint-v3.ckpt' as top 1\n"
     ]
    },
    {
     "data": {
      "application/vnd.jupyter.widget-view+json": {
       "model_id": "817e76b2c7784b06a2d51a02577f8518",
       "version_major": 2,
       "version_minor": 0
      },
      "text/plain": [
       "Validation: |          | 0/? [00:00<?, ?it/s]"
      ]
     },
     "metadata": {},
     "output_type": "display_data"
    },
    {
     "name": "stderr",
     "output_type": "stream",
     "text": [
      "Metric val_loss improved by 0.006 >= min_delta = 0.0. New best score: 0.014\n",
      "Epoch 2, global step 189: 'val_loss' reached 0.01369 (best 0.01369), saving model to '/home/pbaertschi/ICU-TimeSeries-Mortality-Prediction/notebooks/2_SupervisedML/Q2_RNN/lightning_logs/bilstm/checkpoints/bilstm-best-checkpoint-v3.ckpt' as top 1\n"
     ]
    },
    {
     "data": {
      "application/vnd.jupyter.widget-view+json": {
       "model_id": "dd9f413eaf064081bba104b5898fb8d7",
       "version_major": 2,
       "version_minor": 0
      },
      "text/plain": [
       "Validation: |          | 0/? [00:00<?, ?it/s]"
      ]
     },
     "metadata": {},
     "output_type": "display_data"
    },
    {
     "name": "stderr",
     "output_type": "stream",
     "text": [
      "Metric val_loss improved by 0.002 >= min_delta = 0.0. New best score: 0.011\n",
      "Epoch 3, global step 252: 'val_loss' reached 0.01147 (best 0.01147), saving model to '/home/pbaertschi/ICU-TimeSeries-Mortality-Prediction/notebooks/2_SupervisedML/Q2_RNN/lightning_logs/bilstm/checkpoints/bilstm-best-checkpoint-v3.ckpt' as top 1\n"
     ]
    },
    {
     "data": {
      "application/vnd.jupyter.widget-view+json": {
       "model_id": "228df4c912344747a81fffcf4bb874b1",
       "version_major": 2,
       "version_minor": 0
      },
      "text/plain": [
       "Validation: |          | 0/? [00:00<?, ?it/s]"
      ]
     },
     "metadata": {},
     "output_type": "display_data"
    },
    {
     "name": "stderr",
     "output_type": "stream",
     "text": [
      "Metric val_loss improved by 0.005 >= min_delta = 0.0. New best score: 0.006\n",
      "Epoch 4, global step 315: 'val_loss' reached 0.00633 (best 0.00633), saving model to '/home/pbaertschi/ICU-TimeSeries-Mortality-Prediction/notebooks/2_SupervisedML/Q2_RNN/lightning_logs/bilstm/checkpoints/bilstm-best-checkpoint-v3.ckpt' as top 1\n"
     ]
    },
    {
     "data": {
      "application/vnd.jupyter.widget-view+json": {
       "model_id": "5301c7a90e1f446f867527724e04e610",
       "version_major": 2,
       "version_minor": 0
      },
      "text/plain": [
       "Validation: |          | 0/? [00:00<?, ?it/s]"
      ]
     },
     "metadata": {},
     "output_type": "display_data"
    },
    {
     "name": "stderr",
     "output_type": "stream",
     "text": [
      "Epoch 5, global step 378: 'val_loss' was not in top 1\n"
     ]
    },
    {
     "data": {
      "application/vnd.jupyter.widget-view+json": {
       "model_id": "33388b4333c2465a98a77dc6751db3de",
       "version_major": 2,
       "version_minor": 0
      },
      "text/plain": [
       "Validation: |          | 0/? [00:00<?, ?it/s]"
      ]
     },
     "metadata": {},
     "output_type": "display_data"
    },
    {
     "name": "stderr",
     "output_type": "stream",
     "text": [
      "Epoch 6, global step 441: 'val_loss' was not in top 1\n"
     ]
    },
    {
     "data": {
      "application/vnd.jupyter.widget-view+json": {
       "model_id": "9d8a0f1958e64a0d9ebc9c15854cee94",
       "version_major": 2,
       "version_minor": 0
      },
      "text/plain": [
       "Validation: |          | 0/? [00:00<?, ?it/s]"
      ]
     },
     "metadata": {},
     "output_type": "display_data"
    },
    {
     "name": "stderr",
     "output_type": "stream",
     "text": [
      "Epoch 7, global step 504: 'val_loss' was not in top 1\n"
     ]
    },
    {
     "data": {
      "application/vnd.jupyter.widget-view+json": {
       "model_id": "3ea16d3f3a3043b59688a156c5ea742a",
       "version_major": 2,
       "version_minor": 0
      },
      "text/plain": [
       "Validation: |          | 0/? [00:00<?, ?it/s]"
      ]
     },
     "metadata": {},
     "output_type": "display_data"
    },
    {
     "name": "stderr",
     "output_type": "stream",
     "text": [
      "Epoch 8, global step 567: 'val_loss' was not in top 1\n"
     ]
    },
    {
     "data": {
      "application/vnd.jupyter.widget-view+json": {
       "model_id": "9c5da1c5a6d147acad0c8eb1a61a6d92",
       "version_major": 2,
       "version_minor": 0
      },
      "text/plain": [
       "Validation: |          | 0/? [00:00<?, ?it/s]"
      ]
     },
     "metadata": {},
     "output_type": "display_data"
    },
    {
     "name": "stderr",
     "output_type": "stream",
     "text": [
      "Epoch 9, global step 630: 'val_loss' was not in top 1\n"
     ]
    },
    {
     "data": {
      "application/vnd.jupyter.widget-view+json": {
       "model_id": "090f87903f444f74bdb8b3303ee615ec",
       "version_major": 2,
       "version_minor": 0
      },
      "text/plain": [
       "Validation: |          | 0/? [00:00<?, ?it/s]"
      ]
     },
     "metadata": {},
     "output_type": "display_data"
    },
    {
     "name": "stderr",
     "output_type": "stream",
     "text": [
      "Epoch 10, global step 693: 'val_loss' was not in top 1\n"
     ]
    },
    {
     "data": {
      "application/vnd.jupyter.widget-view+json": {
       "model_id": "e4ef6a7874e64c1abbe316e7090cfbba",
       "version_major": 2,
       "version_minor": 0
      },
      "text/plain": [
       "Validation: |          | 0/? [00:00<?, ?it/s]"
      ]
     },
     "metadata": {},
     "output_type": "display_data"
    },
    {
     "name": "stderr",
     "output_type": "stream",
     "text": [
      "Epoch 11, global step 756: 'val_loss' was not in top 1\n"
     ]
    },
    {
     "data": {
      "application/vnd.jupyter.widget-view+json": {
       "model_id": "3fd482ee7aea44cdb8f5a60cb2b00f7d",
       "version_major": 2,
       "version_minor": 0
      },
      "text/plain": [
       "Validation: |          | 0/? [00:00<?, ?it/s]"
      ]
     },
     "metadata": {},
     "output_type": "display_data"
    },
    {
     "name": "stderr",
     "output_type": "stream",
     "text": [
      "Epoch 12, global step 819: 'val_loss' was not in top 1\n"
     ]
    },
    {
     "data": {
      "application/vnd.jupyter.widget-view+json": {
       "model_id": "94c5317f2aa94e2493f0fde7075d099b",
       "version_major": 2,
       "version_minor": 0
      },
      "text/plain": [
       "Validation: |          | 0/? [00:00<?, ?it/s]"
      ]
     },
     "metadata": {},
     "output_type": "display_data"
    },
    {
     "name": "stderr",
     "output_type": "stream",
     "text": [
      "Epoch 13, global step 882: 'val_loss' was not in top 1\n"
     ]
    },
    {
     "data": {
      "application/vnd.jupyter.widget-view+json": {
       "model_id": "49d5aeb3dd6e4b29b555fea4ad267f70",
       "version_major": 2,
       "version_minor": 0
      },
      "text/plain": [
       "Validation: |          | 0/? [00:00<?, ?it/s]"
      ]
     },
     "metadata": {},
     "output_type": "display_data"
    },
    {
     "name": "stderr",
     "output_type": "stream",
     "text": [
      "Monitored metric val_loss did not improve in the last 10 records. Best score: 0.006. Signaling Trainer to stop.\n",
      "Epoch 14, global step 945: 'val_loss' was not in top 1\n"
     ]
    }
   ],
   "source": [
    "bilstm_model = train_model(BiLSTMClassifier, \"bilstm\", datamodule, input_size, k_folds = k_folds, return_model=True)"
   ]
  },
  {
   "cell_type": "code",
   "execution_count": 22,
   "metadata": {},
   "outputs": [
    {
     "name": "stderr",
     "output_type": "stream",
     "text": [
      "GPU available: True (cuda), used: True\n",
      "TPU available: False, using: 0 TPU cores\n",
      "HPU available: False, using: 0 HPUs\n"
     ]
    },
    {
     "name": "stdout",
     "output_type": "stream",
     "text": [
      "Testing lstm...\n"
     ]
    },
    {
     "name": "stderr",
     "output_type": "stream",
     "text": [
      "LOCAL_RANK: 0 - CUDA_VISIBLE_DEVICES: [0]\n",
      "SLURM auto-requeueing enabled. Setting signal handlers.\n"
     ]
    },
    {
     "data": {
      "application/vnd.jupyter.widget-view+json": {
       "model_id": "a81d0fe3a05c4f61b47b823863113a21",
       "version_major": 2,
       "version_minor": 0
      },
      "text/plain": [
       "Testing: |          | 0/? [00:00<?, ?it/s]"
      ]
     },
     "metadata": {},
     "output_type": "display_data"
    },
    {
     "data": {
      "image/png": "[encoded data removed]",
      "text/plain": [
       "<Figure size 640x480 with 2 Axes>"
      ]
     },
     "metadata": {},
     "output_type": "display_data"
    },
    {
     "data": {
      "image/png": "[encoded data removed]",
      "text/plain": [
       "<Figure size 640x480 with 1 Axes>"
      ]
     },
     "metadata": {},
     "output_type": "display_data"
    },
    {
     "data": {
      "image/png": "[encoded data removed]",
      "text/plain": [
       "<Figure size 640x480 with 1 Axes>"
      ]
     },
     "metadata": {},
     "output_type": "display_data"
    },
    {
     "name": "stdout",
     "output_type": "stream",
     "text": [
      "\n",
      "Test Accuracy : 0.9962\n",
      "Test AuROC    : 0.9998\n",
      "Test AuPRC    : 0.9990\n"
     ]
    },
    {
     "data": {
      "text/html": [
       "<pre style=\"white-space:pre;overflow-x:auto;line-height:normal;font-family:Menlo,'DejaVu Sans Mono',consolas,'Courier New',monospace\">┏━━━━━━━━━━━━━━━━━━━━━━━━━━━┳━━━━━━━━━━━━━━━━━━━━━━━━━━━┓\n",
       "┃<span style=\"font-weight: bold\">        Test metric        </span>┃<span style=\"font-weight: bold\">       DataLoader 0        </span>┃\n",
       "┡━━━━━━━━━━━━━━━━━━━━━━━━━━━╇━━━━━━━━━━━━━━━━━━━━━━━━━━━┩\n",
       "│<span style=\"color: #008080; text-decoration-color: #008080\">         test_acc          </span>│<span style=\"color: #800080; text-decoration-color: #800080\">    0.9962499737739563     </span>│\n",
       "│<span style=\"color: #008080; text-decoration-color: #008080\">        test_auprc         </span>│<span style=\"color: #800080; text-decoration-color: #800080\">    0.9990112781524658     </span>│\n",
       "│<span style=\"color: #008080; text-decoration-color: #008080\">        test_auroc         </span>│<span style=\"color: #800080; text-decoration-color: #800080\">     0.999837338924408     </span>│\n",
       "│<span style=\"color: #008080; text-decoration-color: #008080\">         test_loss         </span>│<span style=\"color: #800080; text-decoration-color: #800080\">    0.02600165642797947    </span>│\n",
       "└───────────────────────────┴───────────────────────────┘\n",
       "</pre>\n"
      ],
      "text/plain": [
       "┏━━━━━━━━━━━━━━━━━━━━━━━━━━━┳━━━━━━━━━━━━━━━━━━━━━━━━━━━┓\n",
       "┃\u001b[1m \u001b[0m\u001b[1m       Test metric       \u001b[0m\u001b[1m \u001b[0m┃\u001b[1m \u001b[0m\u001b[1m      DataLoader 0       \u001b[0m\u001b[1m \u001b[0m┃\n",
       "┡━━━━━━━━━━━━━━━━━━━━━━━━━━━╇━━━━━━━━━━━━━━━━━━━━━━━━━━━┩\n",
       "│\u001b[36m \u001b[0m\u001b[36m        test_acc         \u001b[0m\u001b[36m \u001b[0m│\u001b[35m \u001b[0m\u001b[35m   0.9962499737739563    \u001b[0m\u001b[35m \u001b[0m│\n",
       "│\u001b[36m \u001b[0m\u001b[36m       test_auprc        \u001b[0m\u001b[36m \u001b[0m│\u001b[35m \u001b[0m\u001b[35m   0.9990112781524658    \u001b[0m\u001b[35m \u001b[0m│\n",
       "│\u001b[36m \u001b[0m\u001b[36m       test_auroc        \u001b[0m\u001b[36m \u001b[0m│\u001b[35m \u001b[0m\u001b[35m    0.999837338924408    \u001b[0m\u001b[35m \u001b[0m│\n",
       "│\u001b[36m \u001b[0m\u001b[36m        test_loss        \u001b[0m\u001b[36m \u001b[0m│\u001b[35m \u001b[0m\u001b[35m   0.02600165642797947   \u001b[0m\u001b[35m \u001b[0m│\n",
       "└───────────────────────────┴───────────────────────────┘\n"
      ]
     },
     "metadata": {},
     "output_type": "display_data"
    },
    {
     "name": "stderr",
     "output_type": "stream",
     "text": [
      "GPU available: True (cuda), used: True\n",
      "TPU available: False, using: 0 TPU cores\n",
      "HPU available: False, using: 0 HPUs\n"
     ]
    },
    {
     "name": "stdout",
     "output_type": "stream",
     "text": [
      "Testing bilstm...\n"
     ]
    },
    {
     "name": "stderr",
     "output_type": "stream",
     "text": [
      "LOCAL_RANK: 0 - CUDA_VISIBLE_DEVICES: [0]\n",
      "SLURM auto-requeueing enabled. Setting signal handlers.\n"
     ]
    },
    {
     "data": {
      "application/vnd.jupyter.widget-view+json": {
       "model_id": "e007ba8061ee4e9e9e0fb7df0e74ccc5",
       "version_major": 2,
       "version_minor": 0
      },
      "text/plain": [
       "Testing: |          | 0/? [00:00<?, ?it/s]"
      ]
     },
     "metadata": {},
     "output_type": "display_data"
    },
    {
     "data": {
      "image/png": "[encoded data removed]",
      "text/plain": [
       "<Figure size 640x480 with 2 Axes>"
      ]
     },
     "metadata": {},
     "output_type": "display_data"
    },
    {
     "data": {
      "image/png": "[encoded data removed]",
      "text/plain": [
       "<Figure size 640x480 with 1 Axes>"
      ]
     },
     "metadata": {},
     "output_type": "display_data"
    },
    {
     "data": {
      "image/png": "[encoded data removed]",
      "text/plain": [
       "<Figure size 640x480 with 1 Axes>"
      ]
     },
     "metadata": {},
     "output_type": "display_data"
    },
    {
     "name": "stdout",
     "output_type": "stream",
     "text": [
      "\n",
      "Test Accuracy : 0.9992\n",
      "Test AuROC    : 1.0000\n",
      "Test AuPRC    : 0.9999\n"
     ]
    },
    {
     "data": {
      "text/html": [
       "<pre style=\"white-space:pre;overflow-x:auto;line-height:normal;font-family:Menlo,'DejaVu Sans Mono',consolas,'Courier New',monospace\">┏━━━━━━━━━━━━━━━━━━━━━━━━━━━┳━━━━━━━━━━━━━━━━━━━━━━━━━━━┓\n",
       "┃<span style=\"font-weight: bold\">        Test metric        </span>┃<span style=\"font-weight: bold\">       DataLoader 0        </span>┃\n",
       "┡━━━━━━━━━━━━━━━━━━━━━━━━━━━╇━━━━━━━━━━━━━━━━━━━━━━━━━━━┩\n",
       "│<span style=\"color: #008080; text-decoration-color: #008080\">         test_acc          </span>│<span style=\"color: #800080; text-decoration-color: #800080\">    0.9992499947547913     </span>│\n",
       "│<span style=\"color: #008080; text-decoration-color: #008080\">        test_auprc         </span>│<span style=\"color: #800080; text-decoration-color: #800080\">    0.9999414086341858     </span>│\n",
       "│<span style=\"color: #008080; text-decoration-color: #008080\">        test_auroc         </span>│<span style=\"color: #800080; text-decoration-color: #800080\">    0.9999899864196777     </span>│\n",
       "│<span style=\"color: #008080; text-decoration-color: #008080\">         test_loss         </span>│<span style=\"color: #800080; text-decoration-color: #800080\">    0.00327314087189734    </span>│\n",
       "└───────────────────────────┴───────────────────────────┘\n",
       "</pre>\n"
      ],
      "text/plain": [
       "┏━━━━━━━━━━━━━━━━━━━━━━━━━━━┳━━━━━━━━━━━━━━━━━━━━━━━━━━━┓\n",
       "┃\u001b[1m \u001b[0m\u001b[1m       Test metric       \u001b[0m\u001b[1m \u001b[0m┃\u001b[1m \u001b[0m\u001b[1m      DataLoader 0       \u001b[0m\u001b[1m \u001b[0m┃\n",
       "┡━━━━━━━━━━━━━━━━━━━━━━━━━━━╇━━━━━━━━━━━━━━━━━━━━━━━━━━━┩\n",
       "│\u001b[36m \u001b[0m\u001b[36m        test_acc         \u001b[0m\u001b[36m \u001b[0m│\u001b[35m \u001b[0m\u001b[35m   0.9992499947547913    \u001b[0m\u001b[35m \u001b[0m│\n",
       "│\u001b[36m \u001b[0m\u001b[36m       test_auprc        \u001b[0m\u001b[36m \u001b[0m│\u001b[35m \u001b[0m\u001b[35m   0.9999414086341858    \u001b[0m\u001b[35m \u001b[0m│\n",
       "│\u001b[36m \u001b[0m\u001b[36m       test_auroc        \u001b[0m\u001b[36m \u001b[0m│\u001b[35m \u001b[0m\u001b[35m   0.9999899864196777    \u001b[0m\u001b[35m \u001b[0m│\n",
       "│\u001b[36m \u001b[0m\u001b[36m        test_loss        \u001b[0m\u001b[36m \u001b[0m│\u001b[35m \u001b[0m\u001b[35m   0.00327314087189734   \u001b[0m\u001b[35m \u001b[0m│\n",
       "└───────────────────────────┴───────────────────────────┘\n"
      ]
     },
     "metadata": {},
     "output_type": "display_data"
    }
   ],
   "source": [
    "# Test both models\n",
    "test_model(LSTMClassifier, \"lstm\", datamodule, model = lstm_model)\n",
    "test_model(BiLSTMClassifier, \"bilstm\", datamodule, model = bilstm_model)"
   ]
  },
  {
   "cell_type": "markdown",
   "metadata": {},
   "source": [
    "## Optimize decision Threshold"
   ]
  },
  {
   "cell_type": "code",
   "execution_count": 11,
   "metadata": {},
   "outputs": [
    {
     "data": {
      "application/vnd.jupyter.widget-view+json": {
       "model_id": "a280645883d24e49adc5a934218d82fe",
       "version_major": 2,
       "version_minor": 0
      },
      "text/plain": [
       "  0%|          | 0/100 [00:00<?, ?it/s]"
      ]
     },
     "metadata": {},
     "output_type": "display_data"
    },
    {
     "data": {
      "text/plain": [
       "Text(0.5, 1.0, 'Minimize FNR at Threshold')"
      ]
     },
     "execution_count": 11,
     "metadata": {},
     "output_type": "execute_result"
    },
    {
     "data": {
      "image/png": "[encoded data removed]",
      "text/plain": [
       "<Figure size 640x480 with 1 Axes>"
      ]
     },
     "metadata": {},
     "output_type": "display_data"
    }
   ],
   "source": [
    "# idea: minimize threshold\n",
    "_, _, thresholds, fnrs = model.tune_threshold_min_fnr()\n",
    "plt.plot(thresholds, fnrs)\n",
    "plt.xlabel(\"Thresholds\")\n",
    "plt.ylabel(\"FNR\")\n",
    "plt.title(\"Minimize FNR at Threshold\")\n",
    "# outcome: to simplistic approach, converges to 0"
   ]
  },
  {
   "cell_type": "code",
   "execution_count": 20,
   "metadata": {},
   "outputs": [],
   "source": [
    "# model.prediction_threshold = 0.65\n",
    "# trainer.test(model, datamodule = datamodule)"
   ]
  },
  {
   "cell_type": "code",
   "execution_count": null,
   "metadata": {},
   "outputs": [],
   "source": []
  }
 ],
 "metadata": {
  "kernelspec": {
   "display_name": "Python 3 (ipykernel)",
   "language": "python",
   "name": "python3"
  },
  "language_info": {
   "codemirror_mode": {
    "name": "ipython",
    "version": 3
   },
   "file_extension": ".py",
   "mimetype": "text/x-python",
   "name": "python",
   "nbconvert_exporter": "python",
   "pygments_lexer": "ipython3",
   "version": "3.12.3"
  },
  "widgets": {
   "application/vnd.jupyter.widget-state+json": {
    "state": {
     "00dc368e268b4ea2a104685b840f77d4": {
      "model_module": "@jupyter-widgets/controls",
      "model_module_version": "2.0.0",
      "model_name": "HTMLStyleModel",
      "state": {
       "description_width": "",
       "font_size": null,
       "text_color": null
      }
     },
     "01e9fc8e801a4a6293753fd0dd21aafa": {
      "model_module": "@jupyter-widgets/controls",
      "model_module_version": "2.0.0",
      "model_name": "HTMLStyleModel",
      "state": {
       "description_width": "",
       "font_size": null,
       "text_color": null
      }
     },
     "022b0efe065346c0bffad9e3be8da6c9": {
      "model_module": "@jupyter-widgets/controls",
      "model_module_version": "2.0.0",
      "model_name": "HTMLStyleModel",
      "state": {
       "description_width": "",
       "font_size": null,
       "text_color": null
      }
     },
     "043642aac5ef40a18a2e1404a4b1ca44": {
      "model_module": "@jupyter-widgets/base",
      "model_module_version": "2.0.0",
      "model_name": "LayoutModel",
      "state": {}
     },
     "0470604cb0ee4b45aa2d27e7a5a2c65e": {
      "model_module": "@jupyter-widgets/base",
      "model_module_version": "2.0.0",
      "model_name": "LayoutModel",
      "state": {
       "flex": "2"
      }
     },
     "0473c5582799410eb71ebdb4e38efed4": {
      "model_module": "@jupyter-widgets/controls",
      "model_module_version": "2.0.0",
      "model_name": "HTMLModel",
      "state": {
       "layout": "IPY_MODEL_8aeb625e3dec493580da19999059604c",
       "style": "IPY_MODEL_a0b5116fddd04516a915321663e4eaf7",
       "value": " 63/63 [00:00&lt;00:00, 270.29it/s]"
      }
     },
     "0485c4ed1d284ccd8ef96f77f171188c": {
      "model_module": "@jupyter-widgets/base",
      "model_module_version": "2.0.0",
      "model_name": "LayoutModel",
      "state": {}
     },
     "04be772cd2b64b609b41e31ba6db751d": {
      "model_module": "@jupyter-widgets/base",
      "model_module_version": "2.0.0",
      "model_name": "LayoutModel",
      "state": {
       "flex": "2"
      }
     },
     "04fa0f717b294bc0a4565d9a6537883a": {
      "model_module": "@jupyter-widgets/base",
      "model_module_version": "2.0.0",
      "model_name": "LayoutModel",
      "state": {
       "display": "inline-flex",
       "flex_flow": "row wrap",
       "visibility": "hidden",
       "width": "100%"
      }
     },
     "052fd6cdfe3242bdad1b4d549bef4f77": {
      "model_module": "@jupyter-widgets/controls",
      "model_module_version": "2.0.0",
      "model_name": "ProgressStyleModel",
      "state": {
       "description_width": ""
      }
     },
     "055b1538184c435380b3dd2f6c114da7": {
      "model_module": "@jupyter-widgets/base",
      "model_module_version": "2.0.0",
      "model_name": "LayoutModel",
      "state": {
       "display": "inline-flex",
       "flex_flow": "row wrap",
       "visibility": "hidden",
       "width": "100%"
      }
     },
     "0614e26f33c14bb0a84ede9d5a21c825": {
      "model_module": "@jupyter-widgets/controls",
      "model_module_version": "2.0.0",
      "model_name": "HTMLModel",
      "state": {
       "layout": "IPY_MODEL_13265a22bf274e5fbffafb887ac60328",
       "style": "IPY_MODEL_64a2d6e4b059490cb608a6b6946f7b10",
       "value": "Validation DataLoader 0: 100%"
      }
     },
     "06478daabd9c48409fe73b494a69d291": {
      "model_module": "@jupyter-widgets/base",
      "model_module_version": "2.0.0",
      "model_name": "LayoutModel",
      "state": {
       "flex": "2"
      }
     },
     "0748ff96ea154b3da939fd9162d0637d": {
      "model_module": "@jupyter-widgets/controls",
      "model_module_version": "2.0.0",
      "model_name": "FloatProgressModel",
      "state": {
       "layout": "IPY_MODEL_950ba53c119b4df6a89e317f8c7b05ad",
       "max": 63,
       "style": "IPY_MODEL_6b56224707704d9b821d29695dc1d73c",
       "value": 63
      }
     },
     "079878a34c1540d0b9660808f1eee949": {
      "model_module": "@jupyter-widgets/controls",
      "model_module_version": "2.0.0",
      "model_name": "ProgressStyleModel",
      "state": {
       "description_width": ""
      }
     },
     "084ea8b55ef54b7cb2728d4ec544f575": {
      "model_module": "@jupyter-widgets/controls",
      "model_module_version": "2.0.0",
      "model_name": "HTMLStyleModel",
      "state": {
       "description_width": "",
       "font_size": null,
       "text_color": null
      }
     },
     "0abb91124edb4e7893f16dfda538e3fc": {
      "model_module": "@jupyter-widgets/controls",
      "model_module_version": "2.0.0",
      "model_name": "FloatProgressModel",
      "state": {
       "layout": "IPY_MODEL_4fbded0cf34345b3870daed62e7c5845",
       "max": 63,
       "style": "IPY_MODEL_1b9c60df001b4750817fdd585d9effc1",
       "value": 63
      }
     },
     "0aeac1b77a6c417eb8e985345ba433fe": {
      "model_module": "@jupyter-widgets/controls",
      "model_module_version": "2.0.0",
      "model_name": "FloatProgressModel",
      "state": {
       "layout": "IPY_MODEL_4a28e2e9ca784acbb1581cc1ac75006b",
       "max": 63,
       "style": "IPY_MODEL_7c9f16fc4cd345c390f3398d5bba12a5",
       "value": 63
      }
     },
     "0c211b7ac2d34c1d8623998a72525bd3": {
      "model_module": "@jupyter-widgets/base",
      "model_module_version": "2.0.0",
      "model_name": "LayoutModel",
      "state": {
       "flex": "2"
      }
     },
     "0d5854499d6b48d4b25df56832a5f416": {
      "model_module": "@jupyter-widgets/base",
      "model_module_version": "2.0.0",
      "model_name": "LayoutModel",
      "state": {}
     },
     "0f16f2918dcb4431b1d60d60176889b9": {
      "model_module": "@jupyter-widgets/controls",
      "model_module_version": "2.0.0",
      "model_name": "HTMLStyleModel",
      "state": {
       "description_width": "",
       "font_size": null,
       "text_color": null
      }
     },
     "0f2553e1f20a48f68fe39caca7ca4ff5": {
      "model_module": "@jupyter-widgets/controls",
      "model_module_version": "2.0.0",
      "model_name": "FloatProgressModel",
      "state": {
       "bar_style": "success",
       "layout": "IPY_MODEL_f1fb22e054664460b1d13c67662b381e",
       "max": 63,
       "style": "IPY_MODEL_6b3104a1cfb24590aea63d196977fe14",
       "value": 63
      }
     },
     "0f4d7d39a3e24e8b943ab484f6224071": {
      "model_module": "@jupyter-widgets/base",
      "model_module_version": "2.0.0",
      "model_name": "LayoutModel",
      "state": {}
     },
     "0fccf1a67ea5409e9fd7d96c01f71090": {
      "model_module": "@jupyter-widgets/controls",
      "model_module_version": "2.0.0",
      "model_name": "ProgressStyleModel",
      "state": {
       "description_width": ""
      }
     },
     "1009e24d69dd47e3b7aa8a7e87e59ddf": {
      "model_module": "@jupyter-widgets/base",
      "model_module_version": "2.0.0",
      "model_name": "LayoutModel",
      "state": {
       "flex": "2"
      }
     },
     "10ee956135cc43dcb1e1e6eb43fa24bb": {
      "model_module": "@jupyter-widgets/base",
      "model_module_version": "2.0.0",
      "model_name": "LayoutModel",
      "state": {
       "display": "inline-flex",
       "flex_flow": "row wrap",
       "visibility": "hidden",
       "width": "100%"
      }
     },
     "1213c221fd26469bad3b0d1724014534": {
      "model_module": "@jupyter-widgets/controls",
      "model_module_version": "2.0.0",
      "model_name": "ProgressStyleModel",
      "state": {
       "description_width": ""
      }
     },
     "13265a22bf274e5fbffafb887ac60328": {
      "model_module": "@jupyter-widgets/base",
      "model_module_version": "2.0.0",
      "model_name": "LayoutModel",
      "state": {}
     },
     "13d96436f74f481f921fffbd87bcc0b9": {
      "model_module": "@jupyter-widgets/base",
      "model_module_version": "2.0.0",
      "model_name": "LayoutModel",
      "state": {}
     },
     "1465a3cf5cbc41b78affe5067dd1086f": {
      "model_module": "@jupyter-widgets/controls",
      "model_module_version": "2.0.0",
      "model_name": "HTMLStyleModel",
      "state": {
       "description_width": "",
       "font_size": null,
       "text_color": null
      }
     },
     "14af94e3ebce4fdeb07a195cf6f26697": {
      "model_module": "@jupyter-widgets/controls",
      "model_module_version": "2.0.0",
      "model_name": "HTMLStyleModel",
      "state": {
       "description_width": "",
       "font_size": null,
       "text_color": null
      }
     },
     "14dc5df83bd9465b87dfa21fcff2e37f": {
      "model_module": "@jupyter-widgets/base",
      "model_module_version": "2.0.0",
      "model_name": "LayoutModel",
      "state": {}
     },
     "15bfaeb86e924de891452542731f6885": {
      "model_module": "@jupyter-widgets/base",
      "model_module_version": "2.0.0",
      "model_name": "LayoutModel",
      "state": {}
     },
     "1655db788e17417bb2c16e7e5e268208": {
      "model_module": "@jupyter-widgets/controls",
      "model_module_version": "2.0.0",
      "model_name": "HTMLModel",
      "state": {
       "layout": "IPY_MODEL_dbe37eaafa9c4c7c94b981eeb7593fcf",
       "style": "IPY_MODEL_46203bb7018c4b8c8c8fd9ef11d95c3e",
       "value": " 63/63 [00:00&lt;00:00, 277.23it/s]"
      }
     },
     "168c081e91f74bc4ad81b1d7e2b14081": {
      "model_module": "@jupyter-widgets/base",
      "model_module_version": "2.0.0",
      "model_name": "LayoutModel",
      "state": {}
     },
     "17690ccc794b472da47436d2b4696ccd": {
      "model_module": "@jupyter-widgets/base",
      "model_module_version": "2.0.0",
      "model_name": "LayoutModel",
      "state": {
       "flex": "2"
      }
     },
     "177f7e2b105d4ebb9e18c9db02454fd0": {
      "model_module": "@jupyter-widgets/controls",
      "model_module_version": "2.0.0",
      "model_name": "HTMLStyleModel",
      "state": {
       "description_width": "",
       "font_size": null,
       "text_color": null
      }
     },
     "17b10cf94d66425a9791442adc1924ce": {
      "model_module": "@jupyter-widgets/base",
      "model_module_version": "2.0.0",
      "model_name": "LayoutModel",
      "state": {}
     },
     "17f76522d9184ef2add65aeceed7afde": {
      "model_module": "@jupyter-widgets/base",
      "model_module_version": "2.0.0",
      "model_name": "LayoutModel",
      "state": {}
     },
     "1805d3e5b9494af69cde51cd56cdf1b6": {
      "model_module": "@jupyter-widgets/base",
      "model_module_version": "2.0.0",
      "model_name": "LayoutModel",
      "state": {}
     },
     "1ab442476e66423ab7856a416226196c": {
      "model_module": "@jupyter-widgets/controls",
      "model_module_version": "2.0.0",
      "model_name": "HTMLModel",
      "state": {
       "layout": "IPY_MODEL_719aa75b1f7546c2a82a433985ed6de4",
       "style": "IPY_MODEL_93bad0bc07b64864968eec8c53efe6ab",
       "value": "Sanity Checking DataLoader 0: 100%"
      }
     },
     "1b135bb3408443feac3e44fff2bb59d8": {
      "model_module": "@jupyter-widgets/controls",
      "model_module_version": "2.0.0",
      "model_name": "HTMLModel",
      "state": {
       "layout": "IPY_MODEL_14dc5df83bd9465b87dfa21fcff2e37f",
       "style": "IPY_MODEL_a03698581bfa4ed9a8ba0e4d69af7c51",
       "value": "Validation DataLoader 0: 100%"
      }
     },
     "1b51f0b448ad4cd1902f829e070355de": {
      "model_module": "@jupyter-widgets/base",
      "model_module_version": "2.0.0",
      "model_name": "LayoutModel",
      "state": {}
     },
     "1b9c60df001b4750817fdd585d9effc1": {
      "model_module": "@jupyter-widgets/controls",
      "model_module_version": "2.0.0",
      "model_name": "ProgressStyleModel",
      "state": {
       "description_width": ""
      }
     },
     "1bae318d6417463d8dd24e82867cfeb3": {
      "model_module": "@jupyter-widgets/controls",
      "model_module_version": "2.0.0",
      "model_name": "HTMLModel",
      "state": {
       "layout": "IPY_MODEL_17f76522d9184ef2add65aeceed7afde",
       "style": "IPY_MODEL_b4c3c1acf5704f81ad0bdf1764a4a1c5",
       "value": " 63/63 [00:00&lt;00:00, 279.32it/s]"
      }
     },
     "1bb05baca56942329166864598be3067": {
      "model_module": "@jupyter-widgets/base",
      "model_module_version": "2.0.0",
      "model_name": "LayoutModel",
      "state": {}
     },
     "1cde212dcd034a69bb30d9d1bd478c79": {
      "model_module": "@jupyter-widgets/controls",
      "model_module_version": "2.0.0",
      "model_name": "FloatProgressModel",
      "state": {
       "layout": "IPY_MODEL_c327612a590047a69253cd85c29e7be4",
       "max": 63,
       "style": "IPY_MODEL_d1bb43184fee45b1af377a9e86fd1a4a",
       "value": 63
      }
     },
     "200770d0d211483c95c5c9dceb2cdc82": {
      "model_module": "@jupyter-widgets/base",
      "model_module_version": "2.0.0",
      "model_name": "LayoutModel",
      "state": {}
     },
     "200b69d497754d23b8a65c93bb9a4601": {
      "model_module": "@jupyter-widgets/controls",
      "model_module_version": "2.0.0",
      "model_name": "HTMLStyleModel",
      "state": {
       "description_width": "",
       "font_size": null,
       "text_color": null
      }
     },
     "20da6007364d4b758f2f424c55019bf6": {
      "model_module": "@jupyter-widgets/controls",
      "model_module_version": "2.0.0",
      "model_name": "ProgressStyleModel",
      "state": {
       "description_width": ""
      }
     },
     "2124addc8da04605a62c197649f78585": {
      "model_module": "@jupyter-widgets/controls",
      "model_module_version": "2.0.0",
      "model_name": "HTMLStyleModel",
      "state": {
       "description_width": "",
       "font_size": null,
       "text_color": null
      }
     },
     "218551401bbe4255b5c35379435b7049": {
      "model_module": "@jupyter-widgets/controls",
      "model_module_version": "2.0.0",
      "model_name": "HTMLModel",
      "state": {
       "layout": "IPY_MODEL_45dae6aaf8f44f8e93e61686965dfbd3",
       "style": "IPY_MODEL_409ac0b0cdc84439a9344b507203359c",
       "value": "Validation DataLoader 0: 100%"
      }
     },
     "238724f2cd034560b933fb91b95f77fc": {
      "model_module": "@jupyter-widgets/controls",
      "model_module_version": "2.0.0",
      "model_name": "ProgressStyleModel",
      "state": {
       "description_width": ""
      }
     },
     "238d857df03f4821ad916740a10f9634": {
      "model_module": "@jupyter-widgets/base",
      "model_module_version": "2.0.0",
      "model_name": "LayoutModel",
      "state": {}
     },
     "24752ed3970a4ae09a7d2507cb0eda60": {
      "model_module": "@jupyter-widgets/base",
      "model_module_version": "2.0.0",
      "model_name": "LayoutModel",
      "state": {}
     },
     "25d653791fa54750ab7b09b686c3f768": {
      "model_module": "@jupyter-widgets/base",
      "model_module_version": "2.0.0",
      "model_name": "LayoutModel",
      "state": {
       "flex": "2"
      }
     },
     "265fe074a72e446d94b71203d2bbee41": {
      "model_module": "@jupyter-widgets/controls",
      "model_module_version": "2.0.0",
      "model_name": "HTMLStyleModel",
      "state": {
       "description_width": "",
       "font_size": null,
       "text_color": null
      }
     },
     "2687504b06cd4175a5cd3a3bafc5f79f": {
      "model_module": "@jupyter-widgets/controls",
      "model_module_version": "2.0.0",
      "model_name": "HTMLModel",
      "state": {
       "layout": "IPY_MODEL_b04a6afc640842569ae4011579ff88fb",
       "style": "IPY_MODEL_00dc368e268b4ea2a104685b840f77d4",
       "value": " 63/63 [00:00&lt;00:00, 280.55it/s]"
      }
     },
     "26973915ac4644fcae7a6fdbdf3aaf75": {
      "model_module": "@jupyter-widgets/controls",
      "model_module_version": "2.0.0",
      "model_name": "HTMLModel",
      "state": {
       "layout": "IPY_MODEL_80f4ef79fabb4d568cf3d8bd4481409f",
       "style": "IPY_MODEL_ef3afc32afc14eb5b5d5c90033950a61",
       "value": " 63/63 [00:00&lt;00:00, 282.02it/s]"
      }
     },
     "271a0d17b19b47e18c1821297c7c878d": {
      "model_module": "@jupyter-widgets/controls",
      "model_module_version": "2.0.0",
      "model_name": "HTMLStyleModel",
      "state": {
       "description_width": "",
       "font_size": null,
       "text_color": null
      }
     },
     "27854fa94d7941bcb375f935c26b2c9a": {
      "model_module": "@jupyter-widgets/controls",
      "model_module_version": "2.0.0",
      "model_name": "HTMLStyleModel",
      "state": {
       "description_width": "",
       "font_size": null,
       "text_color": null
      }
     },
     "290782573391488ca609cd73d7445a23": {
      "model_module": "@jupyter-widgets/controls",
      "model_module_version": "2.0.0",
      "model_name": "ProgressStyleModel",
      "state": {
       "description_width": ""
      }
     },
     "292663e2fa554d559be55707c0f0f1b1": {
      "model_module": "@jupyter-widgets/base",
      "model_module_version": "2.0.0",
      "model_name": "LayoutModel",
      "state": {}
     },
     "299bcafd02514f33b7d2f3b4346d86be": {
      "model_module": "@jupyter-widgets/controls",
      "model_module_version": "2.0.0",
      "model_name": "FloatProgressModel",
      "state": {
       "layout": "IPY_MODEL_0470604cb0ee4b45aa2d27e7a5a2c65e",
       "max": 63,
       "style": "IPY_MODEL_0fccf1a67ea5409e9fd7d96c01f71090",
       "value": 63
      }
     },
     "2a4305d83b124aa990122e0356b5713e": {
      "model_module": "@jupyter-widgets/base",
      "model_module_version": "2.0.0",
      "model_name": "LayoutModel",
      "state": {}
     },
     "2b780783dccb4021b730621df5d13baf": {
      "model_module": "@jupyter-widgets/controls",
      "model_module_version": "2.0.0",
      "model_name": "HTMLStyleModel",
      "state": {
       "description_width": "",
       "font_size": null,
       "text_color": null
      }
     },
     "2c762026b604469d9a03bea1a65451ac": {
      "model_module": "@jupyter-widgets/controls",
      "model_module_version": "2.0.0",
      "model_name": "HTMLStyleModel",
      "state": {
       "description_width": "",
       "font_size": null,
       "text_color": null
      }
     },
     "2db5ec30e2f9458d946c627ec6188b35": {
      "model_module": "@jupyter-widgets/base",
      "model_module_version": "2.0.0",
      "model_name": "LayoutModel",
      "state": {}
     },
     "2de629b2f63940909236f197759e925c": {
      "model_module": "@jupyter-widgets/base",
      "model_module_version": "2.0.0",
      "model_name": "LayoutModel",
      "state": {}
     },
     "2ea968d345624500b57d19b7f0fc5aed": {
      "model_module": "@jupyter-widgets/controls",
      "model_module_version": "2.0.0",
      "model_name": "FloatProgressModel",
      "state": {
       "layout": "IPY_MODEL_0c211b7ac2d34c1d8623998a72525bd3",
       "max": 63,
       "style": "IPY_MODEL_339825e7ba1b4f1ab9acef3b5488c932",
       "value": 63
      }
     },
     "2fcb9c8dae3143569b46b332b2f74b29": {
      "model_module": "@jupyter-widgets/controls",
      "model_module_version": "2.0.0",
      "model_name": "HTMLModel",
      "state": {
       "layout": "IPY_MODEL_2a4305d83b124aa990122e0356b5713e",
       "style": "IPY_MODEL_9b32fa03c7c34e81aa59a818812a98f9",
       "value": "Validation DataLoader 0: 100%"
      }
     },
     "2ffc20a15c9444f8a4d4224c719a9f16": {
      "model_module": "@jupyter-widgets/controls",
      "model_module_version": "2.0.0",
      "model_name": "HTMLStyleModel",
      "state": {
       "description_width": "",
       "font_size": null,
       "text_color": null
      }
     },
     "31b13f9ddfb340c7990a0dda503e4e07": {
      "model_module": "@jupyter-widgets/controls",
      "model_module_version": "2.0.0",
      "model_name": "HTMLModel",
      "state": {
       "layout": "IPY_MODEL_168c081e91f74bc4ad81b1d7e2b14081",
       "style": "IPY_MODEL_adb3490736f14c92ba8eb15597f0a695",
       "value": " 63/63 [00:00&lt;00:00, 280.55it/s]"
      }
     },
     "32e6893b30bf41f9bbccb0b74d9eb620": {
      "model_module": "@jupyter-widgets/controls",
      "model_module_version": "2.0.0",
      "model_name": "FloatProgressModel",
      "state": {
       "layout": "IPY_MODEL_1009e24d69dd47e3b7aa8a7e87e59ddf",
       "max": 2,
       "style": "IPY_MODEL_dac41b74f4af46d7a798d6c749e62e60",
       "value": 2
      }
     },
     "33594e54aaf34a59b8a037ee1e7c255c": {
      "model_module": "@jupyter-widgets/controls",
      "model_module_version": "2.0.0",
      "model_name": "HTMLStyleModel",
      "state": {
       "description_width": "",
       "font_size": null,
       "text_color": null
      }
     },
     "338f236cf87d48b0b7dfe28f3c44d885": {
      "model_module": "@jupyter-widgets/base",
      "model_module_version": "2.0.0",
      "model_name": "LayoutModel",
      "state": {
       "flex": "2"
      }
     },
     "339825e7ba1b4f1ab9acef3b5488c932": {
      "model_module": "@jupyter-widgets/controls",
      "model_module_version": "2.0.0",
      "model_name": "ProgressStyleModel",
      "state": {
       "description_width": ""
      }
     },
     "33d112dc13074086ae19dfd7d1b10527": {
      "model_module": "@jupyter-widgets/base",
      "model_module_version": "2.0.0",
      "model_name": "LayoutModel",
      "state": {
       "flex": "2"
      }
     },
     "33d72260088a46a3b9f03f2383e610a7": {
      "model_module": "@jupyter-widgets/base",
      "model_module_version": "2.0.0",
      "model_name": "LayoutModel",
      "state": {
       "flex": "2"
      }
     },
     "355ffc992965496691448b8ee1f03f50": {
      "model_module": "@jupyter-widgets/controls",
      "model_module_version": "2.0.0",
      "model_name": "FloatProgressModel",
      "state": {
       "layout": "IPY_MODEL_cb6697a70b6c4d2f90c3388959b503f3",
       "max": 63,
       "style": "IPY_MODEL_052fd6cdfe3242bdad1b4d549bef4f77",
       "value": 63
      }
     },
     "357700d37d7647d2ae13a50f2139dbaf": {
      "model_module": "@jupyter-widgets/base",
      "model_module_version": "2.0.0",
      "model_name": "LayoutModel",
      "state": {}
     },
     "364780c4d70f451798ce0900ace221a9": {
      "model_module": "@jupyter-widgets/controls",
      "model_module_version": "2.0.0",
      "model_name": "HTMLModel",
      "state": {
       "layout": "IPY_MODEL_80fffb9dd55e4d338beec633de5adbf1",
       "style": "IPY_MODEL_6385820daefb41b9ae13e8a77c985b20",
       "value": "Validation DataLoader 0: 100%"
      }
     },
     "36c0580f02ce4d54abd9c9f96a671b1b": {
      "model_module": "@jupyter-widgets/controls",
      "model_module_version": "2.0.0",
      "model_name": "HTMLModel",
      "state": {
       "layout": "IPY_MODEL_6fbd284aae384ab2a3f38836b117272c",
       "style": "IPY_MODEL_9bc7646849474240aed8b92f3e146f20",
       "value": " 63/63 [00:00&lt;00:00, 251.95it/s]"
      }
     },
     "36c17d70e9bb445b8e34b6e116ec6eb7": {
      "model_module": "@jupyter-widgets/controls",
      "model_module_version": "2.0.0",
      "model_name": "HTMLModel",
      "state": {
       "layout": "IPY_MODEL_588682b9e5eb434ba08281bb938882e5",
       "style": "IPY_MODEL_45dfc4aff5ad449d8441382882370f8a",
       "value": "Validation DataLoader 0: 100%"
      }
     },
     "36cd98f2075541e1a0e98b5a961ca607": {
      "model_module": "@jupyter-widgets/base",
      "model_module_version": "2.0.0",
      "model_name": "LayoutModel",
      "state": {
       "flex": "2"
      }
     },
     "3747bb2d1e0c4c029c60d48605d3ab32": {
      "model_module": "@jupyter-widgets/base",
      "model_module_version": "2.0.0",
      "model_name": "LayoutModel",
      "state": {}
     },
     "38426425ca4e4017b9e1234aa1c11bf1": {
      "model_module": "@jupyter-widgets/controls",
      "model_module_version": "2.0.0",
      "model_name": "FloatProgressModel",
      "state": {
       "layout": "IPY_MODEL_338f236cf87d48b0b7dfe28f3c44d885",
       "max": 63,
       "style": "IPY_MODEL_4b2b9b6148a14f66847d18c9649e1444",
       "value": 63
      }
     },
     "38c5ee26b03e40128c9559d5d38899c7": {
      "model_module": "@jupyter-widgets/base",
      "model_module_version": "2.0.0",
      "model_name": "LayoutModel",
      "state": {}
     },
     "3aacd1f5db16488eb75b0252ecc682f7": {
      "model_module": "@jupyter-widgets/base",
      "model_module_version": "2.0.0",
      "model_name": "LayoutModel",
      "state": {}
     },
     "3d54d578fce84a318c8fb4344c0382b6": {
      "model_module": "@jupyter-widgets/controls",
      "model_module_version": "2.0.0",
      "model_name": "HTMLModel",
      "state": {
       "layout": "IPY_MODEL_cf4637387b7f4275b7cf01ee757905d3",
       "style": "IPY_MODEL_022b0efe065346c0bffad9e3be8da6c9",
       "value": " 63/63 [00:00&lt;00:00, 281.37it/s]"
      }
     },
     "3e17a11d93204cef8ae8dae5afdc1177": {
      "model_module": "@jupyter-widgets/base",
      "model_module_version": "2.0.0",
      "model_name": "LayoutModel",
      "state": {
       "display": "inline-flex",
       "flex_flow": "row wrap",
       "visibility": "hidden",
       "width": "100%"
      }
     },
     "3e813297bdbd420cbd4b42ae8e19ba3b": {
      "model_module": "@jupyter-widgets/controls",
      "model_module_version": "2.0.0",
      "model_name": "HTMLStyleModel",
      "state": {
       "description_width": "",
       "font_size": null,
       "text_color": null
      }
     },
     "3f2335cdde51424f9625dee25b99525f": {
      "model_module": "@jupyter-widgets/base",
      "model_module_version": "2.0.0",
      "model_name": "LayoutModel",
      "state": {}
     },
     "3f6e67d19ec84889b2114baf37a096bd": {
      "model_module": "@jupyter-widgets/base",
      "model_module_version": "2.0.0",
      "model_name": "LayoutModel",
      "state": {}
     },
     "3f9b45f7fee34ad785ef3ed7d24ac500": {
      "model_module": "@jupyter-widgets/controls",
      "model_module_version": "2.0.0",
      "model_name": "FloatProgressModel",
      "state": {
       "layout": "IPY_MODEL_c46091817a90456c8cc3e3c0d6d473a6",
       "max": 63,
       "style": "IPY_MODEL_b9ea6718845a4e78a1042898f6060a0f",
       "value": 63
      }
     },
     "3fb5725226d540ac94742ea71a893e61": {
      "model_module": "@jupyter-widgets/base",
      "model_module_version": "2.0.0",
      "model_name": "LayoutModel",
      "state": {
       "flex": "2"
      }
     },
     "409ac0b0cdc84439a9344b507203359c": {
      "model_module": "@jupyter-widgets/controls",
      "model_module_version": "2.0.0",
      "model_name": "HTMLStyleModel",
      "state": {
       "description_width": "",
       "font_size": null,
       "text_color": null
      }
     },
     "40bef1bf31fb46cdbff58cfd58a9f50a": {
      "model_module": "@jupyter-widgets/controls",
      "model_module_version": "2.0.0",
      "model_name": "HTMLStyleModel",
      "state": {
       "description_width": "",
       "font_size": null,
       "text_color": null
      }
     },
     "4264c0c6019041ffb95cb7e440f87c33": {
      "model_module": "@jupyter-widgets/base",
      "model_module_version": "2.0.0",
      "model_name": "LayoutModel",
      "state": {}
     },
     "4460810cb60447fd86b4eea94f680d7c": {
      "model_module": "@jupyter-widgets/controls",
      "model_module_version": "2.0.0",
      "model_name": "HTMLModel",
      "state": {
       "layout": "IPY_MODEL_f0345870ebdb4ee489c599c4652e43e5",
       "style": "IPY_MODEL_e8df3681f1454e4fb04378ffbfa9611f",
       "value": " 63/63 [00:00&lt;00:00, 277.61it/s]"
      }
     },
     "459f7d5d9854409798547c606c9edc27": {
      "model_module": "@jupyter-widgets/controls",
      "model_module_version": "2.0.0",
      "model_name": "ProgressStyleModel",
      "state": {
       "description_width": ""
      }
     },
     "45be77dff18e4da78f76f91641a419e5": {
      "model_module": "@jupyter-widgets/base",
      "model_module_version": "2.0.0",
      "model_name": "LayoutModel",
      "state": {
       "flex": "2"
      }
     },
     "45dae6aaf8f44f8e93e61686965dfbd3": {
      "model_module": "@jupyter-widgets/base",
      "model_module_version": "2.0.0",
      "model_name": "LayoutModel",
      "state": {}
     },
     "45dfc4aff5ad449d8441382882370f8a": {
      "model_module": "@jupyter-widgets/controls",
      "model_module_version": "2.0.0",
      "model_name": "HTMLStyleModel",
      "state": {
       "description_width": "",
       "font_size": null,
       "text_color": null
      }
     },
     "46203bb7018c4b8c8c8fd9ef11d95c3e": {
      "model_module": "@jupyter-widgets/controls",
      "model_module_version": "2.0.0",
      "model_name": "HTMLStyleModel",
      "state": {
       "description_width": "",
       "font_size": null,
       "text_color": null
      }
     },
     "466f1982735f4bcfafe3009532952313": {
      "model_module": "@jupyter-widgets/controls",
      "model_module_version": "2.0.0",
      "model_name": "HTMLStyleModel",
      "state": {
       "description_width": "",
       "font_size": null,
       "text_color": null
      }
     },
     "469673075989418a9fa40ae2eba9ea0b": {
      "model_module": "@jupyter-widgets/controls",
      "model_module_version": "2.0.0",
      "model_name": "HTMLModel",
      "state": {
       "layout": "IPY_MODEL_200770d0d211483c95c5c9dceb2cdc82",
       "style": "IPY_MODEL_51f948e739e14b76ae6d612f86ad88aa",
       "value": "Validation DataLoader 0: 100%"
      }
     },
     "46e16b8bf4b34491b3f44e6e21c6430d": {
      "model_module": "@jupyter-widgets/controls",
      "model_module_version": "2.0.0",
      "model_name": "HTMLModel",
      "state": {
       "layout": "IPY_MODEL_15bfaeb86e924de891452542731f6885",
       "style": "IPY_MODEL_faea661e2fc04e42865618fc4609c75e",
       "value": " 63/63 [00:00&lt;00:00, 284.68it/s]"
      }
     },
     "47356e116ea24e319085f7b9e568d097": {
      "model_module": "@jupyter-widgets/controls",
      "model_module_version": "2.0.0",
      "model_name": "FloatProgressModel",
      "state": {
       "layout": "IPY_MODEL_33d112dc13074086ae19dfd7d1b10527",
       "max": 63,
       "style": "IPY_MODEL_20da6007364d4b758f2f424c55019bf6",
       "value": 63
      }
     },
     "477966136ed44d4bbd27b04b837cdbae": {
      "model_module": "@jupyter-widgets/controls",
      "model_module_version": "2.0.0",
      "model_name": "HTMLModel",
      "state": {
       "layout": "IPY_MODEL_59481cfe7e9140a88ff8b89d19703bac",
       "style": "IPY_MODEL_7c360c89e3ff431abc7903c58f29a43c",
       "value": "Validation DataLoader 0: 100%"
      }
     },
     "480b7760c36b46b989e265fb58130ddb": {
      "model_module": "@jupyter-widgets/controls",
      "model_module_version": "2.0.0",
      "model_name": "FloatProgressModel",
      "state": {
       "layout": "IPY_MODEL_98e4c70b066443d9939fafaacb0e7216",
       "max": 63,
       "style": "IPY_MODEL_e93bf06c7c7e471d8cdee2796463cb57",
       "value": 63
      }
     },
     "48379787c6a64c08ad0dd3fec3b269c9": {
      "model_module": "@jupyter-widgets/base",
      "model_module_version": "2.0.0",
      "model_name": "LayoutModel",
      "state": {}
     },
     "48515b9e3933471e9ebc57fa7874d8cc": {
      "model_module": "@jupyter-widgets/base",
      "model_module_version": "2.0.0",
      "model_name": "LayoutModel",
      "state": {}
     },
     "4869fdc834f54c09be456eb1b2e37336": {
      "model_module": "@jupyter-widgets/controls",
      "model_module_version": "2.0.0",
      "model_name": "HTMLStyleModel",
      "state": {
       "description_width": "",
       "font_size": null,
       "text_color": null
      }
     },
     "493ced74ed1d4ddab7297555aa595aab": {
      "model_module": "@jupyter-widgets/controls",
      "model_module_version": "2.0.0",
      "model_name": "HTMLStyleModel",
      "state": {
       "description_width": "",
       "font_size": null,
       "text_color": null
      }
     },
     "49b5f879c847484aa2b0837071b879fa": {
      "model_module": "@jupyter-widgets/base",
      "model_module_version": "2.0.0",
      "model_name": "LayoutModel",
      "state": {
       "flex": "2"
      }
     },
     "4a28e2e9ca784acbb1581cc1ac75006b": {
      "model_module": "@jupyter-widgets/base",
      "model_module_version": "2.0.0",
      "model_name": "LayoutModel",
      "state": {
       "flex": "2"
      }
     },
     "4b24675d042649b4b2a7d93bb4a01488": {
      "model_module": "@jupyter-widgets/controls",
      "model_module_version": "2.0.0",
      "model_name": "FloatProgressModel",
      "state": {
       "layout": "IPY_MODEL_25d653791fa54750ab7b09b686c3f768",
       "max": 63,
       "style": "IPY_MODEL_ce9c07f7eddf4521becb914f55006d56",
       "value": 63
      }
     },
     "4b2b9b6148a14f66847d18c9649e1444": {
      "model_module": "@jupyter-widgets/controls",
      "model_module_version": "2.0.0",
      "model_name": "ProgressStyleModel",
      "state": {
       "description_width": ""
      }
     },
     "4b8a01b2a5484de8be058e125794c2f9": {
      "model_module": "@jupyter-widgets/base",
      "model_module_version": "2.0.0",
      "model_name": "LayoutModel",
      "state": {}
     },
     "4bfe7b414dee4217b72ccda86ee6c553": {
      "model_module": "@jupyter-widgets/controls",
      "model_module_version": "2.0.0",
      "model_name": "HTMLStyleModel",
      "state": {
       "description_width": "",
       "font_size": null,
       "text_color": null
      }
     },
     "4d15d89bcef34cdba0f00df415e5100c": {
      "model_module": "@jupyter-widgets/controls",
      "model_module_version": "2.0.0",
      "model_name": "HTMLModel",
      "state": {
       "layout": "IPY_MODEL_0485c4ed1d284ccd8ef96f77f171188c",
       "style": "IPY_MODEL_97332819ed304b3e96950c6792380330",
       "value": " 2/2 [00:00&lt;00:00, 176.14it/s]"
      }
     },
     "4e4ec0dd2b344d48a217dac15e798389": {
      "model_module": "@jupyter-widgets/controls",
      "model_module_version": "2.0.0",
      "model_name": "HTMLStyleModel",
      "state": {
       "description_width": "",
       "font_size": null,
       "text_color": null
      }
     },
     "4e864840edbe4f2da5d372aa8cbfa047": {
      "model_module": "@jupyter-widgets/controls",
      "model_module_version": "2.0.0",
      "model_name": "HTMLStyleModel",
      "state": {
       "description_width": "",
       "font_size": null,
       "text_color": null
      }
     },
     "4effaabb057f4a0da1ba9dd52239a4b1": {
      "model_module": "@jupyter-widgets/controls",
      "model_module_version": "2.0.0",
      "model_name": "HTMLModel",
      "state": {
       "layout": "IPY_MODEL_de0039093d524a8d8750e397af38e07e",
       "style": "IPY_MODEL_8f94ea583c5c4fe9800d3caf7d7e9a3b",
       "value": " 63/63 [00:00&lt;00:00, 276.04it/s]"
      }
     },
     "4f39532775204ad4a54512cdb5f3b20a": {
      "model_module": "@jupyter-widgets/base",
      "model_module_version": "2.0.0",
      "model_name": "LayoutModel",
      "state": {
       "display": "inline-flex",
       "flex_flow": "row wrap",
       "visibility": "hidden",
       "width": "100%"
      }
     },
     "4fbded0cf34345b3870daed62e7c5845": {
      "model_module": "@jupyter-widgets/base",
      "model_module_version": "2.0.0",
      "model_name": "LayoutModel",
      "state": {
       "flex": "2"
      }
     },
     "4fc3d53458a84033b34b72f29da80836": {
      "model_module": "@jupyter-widgets/controls",
      "model_module_version": "2.0.0",
      "model_name": "HTMLModel",
      "state": {
       "layout": "IPY_MODEL_4264c0c6019041ffb95cb7e440f87c33",
       "style": "IPY_MODEL_3e813297bdbd420cbd4b42ae8e19ba3b",
       "value": " 63/63 [00:00&lt;00:00, 89.20it/s, v_num=13795, train_loss=0.000209, val_loss=0.00556, val_acc=0.998]"
      }
     },
     "509a7888c8cd4ae998ad73d7298a24f7": {
      "model_module": "@jupyter-widgets/controls",
      "model_module_version": "2.0.0",
      "model_name": "HTMLModel",
      "state": {
       "layout": "IPY_MODEL_f8d95367a72d43dcb94018d8a2d6edb2",
       "style": "IPY_MODEL_62115e1e39bd4510bdeb13764e26ea3d",
       "value": "Validation DataLoader 0: 100%"
      }
     },
     "51143d451afa46e7b07effe71749471b": {
      "model_module": "@jupyter-widgets/controls",
      "model_module_version": "2.0.0",
      "model_name": "HTMLModel",
      "state": {
       "layout": "IPY_MODEL_2db5ec30e2f9458d946c627ec6188b35",
       "style": "IPY_MODEL_8db519c67d254c53954ec59a4243b0e1",
       "value": "Validation DataLoader 0: 100%"
      }
     },
     "515858f7d14a42dbbe6de19171e0000e": {
      "model_module": "@jupyter-widgets/controls",
      "model_module_version": "2.0.0",
      "model_name": "HBoxModel",
      "state": {
       "children": [
        "IPY_MODEL_d4a78c9c88d1451cb132c03e58f2b080",
        "IPY_MODEL_a19b4c43ec724f5cb2c9f4d1675eea14",
        "IPY_MODEL_de67aeb6fa2f473a8d3aa513ccc19097"
       ],
       "layout": "IPY_MODEL_afa9ebf0d5e0489bab6f7f5e066cd0b5"
      }
     },
     "51f948e739e14b76ae6d612f86ad88aa": {
      "model_module": "@jupyter-widgets/controls",
      "model_module_version": "2.0.0",
      "model_name": "HTMLStyleModel",
      "state": {
       "description_width": "",
       "font_size": null,
       "text_color": null
      }
     },
     "52deb54aca064db1b30aef5b554ced56": {
      "model_module": "@jupyter-widgets/controls",
      "model_module_version": "2.0.0",
      "model_name": "HTMLStyleModel",
      "state": {
       "description_width": "",
       "font_size": null,
       "text_color": null
      }
     },
     "530e0ab9ed094017bc1d67acb8975d94": {
      "model_module": "@jupyter-widgets/base",
      "model_module_version": "2.0.0",
      "model_name": "LayoutModel",
      "state": {
       "display": "inline-flex",
       "flex_flow": "row wrap",
       "visibility": "hidden",
       "width": "100%"
      }
     },
     "5378f46651524b6c99e84575ec918e9f": {
      "model_module": "@jupyter-widgets/controls",
      "model_module_version": "2.0.0",
      "model_name": "HTMLStyleModel",
      "state": {
       "description_width": "",
       "font_size": null,
       "text_color": null
      }
     },
     "5380dd667ca64d8fb3ab82a0a0520cf8": {
      "model_module": "@jupyter-widgets/base",
      "model_module_version": "2.0.0",
      "model_name": "LayoutModel",
      "state": {}
     },
     "54c23d8b0af5495c8c4f5911de922332": {
      "model_module": "@jupyter-widgets/base",
      "model_module_version": "2.0.0",
      "model_name": "LayoutModel",
      "state": {
       "flex": "2"
      }
     },
     "571b56fed5cb4eef8f13680b9ef2f168": {
      "model_module": "@jupyter-widgets/controls",
      "model_module_version": "2.0.0",
      "model_name": "HTMLModel",
      "state": {
       "layout": "IPY_MODEL_aa22fd2a81f64e4ea5f1d5ca40b95af8",
       "style": "IPY_MODEL_c47b51c4c58540428257fb2d5c58084e",
       "value": " 63/63 [00:00&lt;00:00, 268.83it/s]"
      }
     },
     "5768bf593b7b4ce08fe945ad9cf3fe89": {
      "model_module": "@jupyter-widgets/controls",
      "model_module_version": "2.0.0",
      "model_name": "HTMLStyleModel",
      "state": {
       "description_width": "",
       "font_size": null,
       "text_color": null
      }
     },
     "588682b9e5eb434ba08281bb938882e5": {
      "model_module": "@jupyter-widgets/base",
      "model_module_version": "2.0.0",
      "model_name": "LayoutModel",
      "state": {}
     },
     "58d7558c13af404d814b4e2cd70b8451": {
      "model_module": "@jupyter-widgets/controls",
      "model_module_version": "2.0.0",
      "model_name": "FloatProgressModel",
      "state": {
       "layout": "IPY_MODEL_8677c38d4a8347c8ac01fe22d1909cc5",
       "max": 63,
       "style": "IPY_MODEL_d217934293774579989b2829a6944843",
       "value": 63
      }
     },
     "58f6879f89b347448b760bb00340d236": {
      "model_module": "@jupyter-widgets/base",
      "model_module_version": "2.0.0",
      "model_name": "LayoutModel",
      "state": {
       "flex": "2"
      }
     },
     "59481cfe7e9140a88ff8b89d19703bac": {
      "model_module": "@jupyter-widgets/base",
      "model_module_version": "2.0.0",
      "model_name": "LayoutModel",
      "state": {}
     },
     "5aca049f770c4595830aa3c074b18aa6": {
      "model_module": "@jupyter-widgets/controls",
      "model_module_version": "2.0.0",
      "model_name": "HTMLStyleModel",
      "state": {
       "description_width": "",
       "font_size": null,
       "text_color": null
      }
     },
     "5c8260c27b5a4f8ba60924b5261296f7": {
      "model_module": "@jupyter-widgets/base",
      "model_module_version": "2.0.0",
      "model_name": "LayoutModel",
      "state": {
       "display": "inline-flex",
       "flex_flow": "row wrap",
       "visibility": "hidden",
       "width": "100%"
      }
     },
     "5c912d20ccbf4b74b6972fbededafbca": {
      "model_module": "@jupyter-widgets/base",
      "model_module_version": "2.0.0",
      "model_name": "LayoutModel",
      "state": {
       "display": "inline-flex",
       "flex_flow": "row wrap",
       "visibility": "hidden",
       "width": "100%"
      }
     },
     "5cae6eb8f6654e9cbcec468f061e4acb": {
      "model_module": "@jupyter-widgets/controls",
      "model_module_version": "2.0.0",
      "model_name": "FloatProgressModel",
      "state": {
       "layout": "IPY_MODEL_17690ccc794b472da47436d2b4696ccd",
       "max": 63,
       "style": "IPY_MODEL_d3bccde380574c62aa7343e36675178b",
       "value": 63
      }
     },
     "601983379e1b4243ac147606bead24a1": {
      "model_module": "@jupyter-widgets/base",
      "model_module_version": "2.0.0",
      "model_name": "LayoutModel",
      "state": {}
     },
     "6054ae1361df477393e47907d7bde408": {
      "model_module": "@jupyter-widgets/controls",
      "model_module_version": "2.0.0",
      "model_name": "HTMLModel",
      "state": {
       "layout": "IPY_MODEL_4b8a01b2a5484de8be058e125794c2f9",
       "style": "IPY_MODEL_c2db77e985a14e40a74310bea6911a73",
       "value": "Validation DataLoader 0: 100%"
      }
     },
     "6055f8fc2d0b47b09d88768dcdc8d8ee": {
      "model_module": "@jupyter-widgets/base",
      "model_module_version": "2.0.0",
      "model_name": "LayoutModel",
      "state": {
       "flex": "2"
      }
     },
     "62115e1e39bd4510bdeb13764e26ea3d": {
      "model_module": "@jupyter-widgets/controls",
      "model_module_version": "2.0.0",
      "model_name": "HTMLStyleModel",
      "state": {
       "description_width": "",
       "font_size": null,
       "text_color": null
      }
     },
     "63564b2d56644a62a714730bc11d993e": {
      "model_module": "@jupyter-widgets/controls",
      "model_module_version": "2.0.0",
      "model_name": "ProgressStyleModel",
      "state": {
       "description_width": ""
      }
     },
     "6385820daefb41b9ae13e8a77c985b20": {
      "model_module": "@jupyter-widgets/controls",
      "model_module_version": "2.0.0",
      "model_name": "HTMLStyleModel",
      "state": {
       "description_width": "",
       "font_size": null,
       "text_color": null
      }
     },
     "64a2d6e4b059490cb608a6b6946f7b10": {
      "model_module": "@jupyter-widgets/controls",
      "model_module_version": "2.0.0",
      "model_name": "HTMLStyleModel",
      "state": {
       "description_width": "",
       "font_size": null,
       "text_color": null
      }
     },
     "64c1b50c065f46febd2292f1b6d0e65a": {
      "model_module": "@jupyter-widgets/controls",
      "model_module_version": "2.0.0",
      "model_name": "FloatProgressModel",
      "state": {
       "layout": "IPY_MODEL_49b5f879c847484aa2b0837071b879fa",
       "max": 63,
       "style": "IPY_MODEL_96be9a025d4f43ca94aa65164b8a2d4c",
       "value": 63
      }
     },
     "6560c18664974f7e98b57ccc2cf195ee": {
      "model_module": "@jupyter-widgets/controls",
      "model_module_version": "2.0.0",
      "model_name": "FloatProgressModel",
      "state": {
       "layout": "IPY_MODEL_6055f8fc2d0b47b09d88768dcdc8d8ee",
       "max": 63,
       "style": "IPY_MODEL_f0c549d118724f51b6275bea7ad73dc5",
       "value": 63
      }
     },
     "66ce4ce824c34b8ab3ef3a03a1def5a8": {
      "model_module": "@jupyter-widgets/controls",
      "model_module_version": "2.0.0",
      "model_name": "HTMLModel",
      "state": {
       "layout": "IPY_MODEL_e0ccfc89d8be4f0ebd50364473ae6ee2",
       "style": "IPY_MODEL_2c762026b604469d9a03bea1a65451ac",
       "value": " 63/63 [00:00&lt;00:00, 209.95it/s]"
      }
     },
     "67298873f4bc43519e49736e880d8c09": {
      "model_module": "@jupyter-widgets/controls",
      "model_module_version": "2.0.0",
      "model_name": "HTMLModel",
      "state": {
       "layout": "IPY_MODEL_a53388676e00425786e317eccd56f254",
       "style": "IPY_MODEL_c75b1ffab596439caf0f2b983654110e",
       "value": " 63/63 [00:00&lt;00:00, 214.86it/s]"
      }
     },
     "68529b5324f24c759775c15c861e34aa": {
      "model_module": "@jupyter-widgets/base",
      "model_module_version": "2.0.0",
      "model_name": "LayoutModel",
      "state": {
       "flex": "2"
      }
     },
     "6b3104a1cfb24590aea63d196977fe14": {
      "model_module": "@jupyter-widgets/controls",
      "model_module_version": "2.0.0",
      "model_name": "ProgressStyleModel",
      "state": {
       "description_width": ""
      }
     },
     "6b472e2c032f42a29a3b8a367a99cc12": {
      "model_module": "@jupyter-widgets/base",
      "model_module_version": "2.0.0",
      "model_name": "LayoutModel",
      "state": {
       "display": "inline-flex",
       "flex_flow": "row wrap",
       "visibility": "hidden",
       "width": "100%"
      }
     },
     "6b56224707704d9b821d29695dc1d73c": {
      "model_module": "@jupyter-widgets/controls",
      "model_module_version": "2.0.0",
      "model_name": "ProgressStyleModel",
      "state": {
       "description_width": ""
      }
     },
     "6bfd973220b34048851e9fe315d43c11": {
      "model_module": "@jupyter-widgets/base",
      "model_module_version": "2.0.0",
      "model_name": "LayoutModel",
      "state": {}
     },
     "6c6c03b46a2a4d4eb246433def9a2928": {
      "model_module": "@jupyter-widgets/base",
      "model_module_version": "2.0.0",
      "model_name": "LayoutModel",
      "state": {}
     },
     "6e3e34888c154ccf8767d8a13d885804": {
      "model_module": "@jupyter-widgets/controls",
      "model_module_version": "2.0.0",
      "model_name": "HTMLModel",
      "state": {
       "layout": "IPY_MODEL_fe74388186b24950bb0c1389aa9e31e1",
       "style": "IPY_MODEL_a433017f9e864596870430b89158510b",
       "value": "Validation DataLoader 0: 100%"
      }
     },
     "6f78e5ad4371439aa6a4e41757da4041": {
      "model_module": "@jupyter-widgets/base",
      "model_module_version": "2.0.0",
      "model_name": "LayoutModel",
      "state": {}
     },
     "6fbd284aae384ab2a3f38836b117272c": {
      "model_module": "@jupyter-widgets/base",
      "model_module_version": "2.0.0",
      "model_name": "LayoutModel",
      "state": {}
     },
     "719aa75b1f7546c2a82a433985ed6de4": {
      "model_module": "@jupyter-widgets/base",
      "model_module_version": "2.0.0",
      "model_name": "LayoutModel",
      "state": {}
     },
     "719e7c2fdf72453dafba377f5ffd1082": {
      "model_module": "@jupyter-widgets/controls",
      "model_module_version": "2.0.0",
      "model_name": "HTMLModel",
      "state": {
       "layout": "IPY_MODEL_13d96436f74f481f921fffbd87bcc0b9",
       "style": "IPY_MODEL_2b780783dccb4021b730621df5d13baf",
       "value": "Validation DataLoader 0: 100%"
      }
     },
     "7503733821c149309aca4f296b883bce": {
      "model_module": "@jupyter-widgets/controls",
      "model_module_version": "2.0.0",
      "model_name": "ProgressStyleModel",
      "state": {
       "description_width": ""
      }
     },
     "765ec2cb072e4d5c9cea04f8fdd1e154": {
      "model_module": "@jupyter-widgets/base",
      "model_module_version": "2.0.0",
      "model_name": "LayoutModel",
      "state": {
       "display": "inline-flex",
       "flex_flow": "row wrap",
       "visibility": "hidden",
       "width": "100%"
      }
     },
     "781fbb1cf6f140b9912c191292479b7a": {
      "model_module": "@jupyter-widgets/base",
      "model_module_version": "2.0.0",
      "model_name": "LayoutModel",
      "state": {
       "flex": "2"
      }
     },
     "7b01c44a49f84204830bfc18409b9371": {
      "model_module": "@jupyter-widgets/controls",
      "model_module_version": "2.0.0",
      "model_name": "HTMLStyleModel",
      "state": {
       "description_width": "",
       "font_size": null,
       "text_color": null
      }
     },
     "7c360c89e3ff431abc7903c58f29a43c": {
      "model_module": "@jupyter-widgets/controls",
      "model_module_version": "2.0.0",
      "model_name": "HTMLStyleModel",
      "state": {
       "description_width": "",
       "font_size": null,
       "text_color": null
      }
     },
     "7c99e9cca20746e28854cbd26ab7b59c": {
      "model_module": "@jupyter-widgets/base",
      "model_module_version": "2.0.0",
      "model_name": "LayoutModel",
      "state": {
       "display": "inline-flex",
       "flex_flow": "row wrap",
       "visibility": "hidden",
       "width": "100%"
      }
     },
     "7c9f16fc4cd345c390f3398d5bba12a5": {
      "model_module": "@jupyter-widgets/controls",
      "model_module_version": "2.0.0",
      "model_name": "ProgressStyleModel",
      "state": {
       "description_width": ""
      }
     },
     "7d1978925fb24340bf44798cc517aad7": {
      "model_module": "@jupyter-widgets/controls",
      "model_module_version": "2.0.0",
      "model_name": "HTMLModel",
      "state": {
       "layout": "IPY_MODEL_f31876e9df904707a2ff3f68635e5e15",
       "style": "IPY_MODEL_33594e54aaf34a59b8a037ee1e7c255c",
       "value": "Epoch 19: 100%"
      }
     },
     "7d1fa9067ad94c388892f1a14f8551d1": {
      "model_module": "@jupyter-widgets/controls",
      "model_module_version": "2.0.0",
      "model_name": "FloatProgressModel",
      "state": {
       "layout": "IPY_MODEL_8c7df5d0171c4c2e89c270fa054cd272",
       "max": 63,
       "style": "IPY_MODEL_238724f2cd034560b933fb91b95f77fc",
       "value": 63
      }
     },
     "7d871fbcbac34966b97bbd3069a80409": {
      "model_module": "@jupyter-widgets/controls",
      "model_module_version": "2.0.0",
      "model_name": "ProgressStyleModel",
      "state": {
       "description_width": ""
      }
     },
     "7dda372a0bf94e2ebb223c6ed678f9f5": {
      "model_module": "@jupyter-widgets/base",
      "model_module_version": "2.0.0",
      "model_name": "LayoutModel",
      "state": {
       "display": "inline-flex",
       "flex_flow": "row wrap",
       "visibility": "hidden",
       "width": "100%"
      }
     },
     "7e20f7d41edc4f13a35a79b7ce29fafe": {
      "model_module": "@jupyter-widgets/controls",
      "model_module_version": "2.0.0",
      "model_name": "FloatProgressModel",
      "state": {
       "layout": "IPY_MODEL_ab2ce340074f4550aa543d4750ca0609",
       "max": 63,
       "style": "IPY_MODEL_800d2dc2023543c8aa630f0298c04a21",
       "value": 63
      }
     },
     "7e3165c6e84b46c798030c848c90adf7": {
      "model_module": "@jupyter-widgets/controls",
      "model_module_version": "2.0.0",
      "model_name": "HTMLStyleModel",
      "state": {
       "description_width": "",
       "font_size": null,
       "text_color": null
      }
     },
     "7ed4c5d1ea6e4941bfb3ffa99e79bae7": {
      "model_module": "@jupyter-widgets/base",
      "model_module_version": "2.0.0",
      "model_name": "LayoutModel",
      "state": {}
     },
     "800d2dc2023543c8aa630f0298c04a21": {
      "model_module": "@jupyter-widgets/controls",
      "model_module_version": "2.0.0",
      "model_name": "ProgressStyleModel",
      "state": {
       "description_width": ""
      }
     },
     "80dfcf9b67734161b57e166f86515fb0": {
      "model_module": "@jupyter-widgets/base",
      "model_module_version": "2.0.0",
      "model_name": "LayoutModel",
      "state": {}
     },
     "80f4ef79fabb4d568cf3d8bd4481409f": {
      "model_module": "@jupyter-widgets/base",
      "model_module_version": "2.0.0",
      "model_name": "LayoutModel",
      "state": {}
     },
     "80fffb9dd55e4d338beec633de5adbf1": {
      "model_module": "@jupyter-widgets/base",
      "model_module_version": "2.0.0",
      "model_name": "LayoutModel",
      "state": {}
     },
     "81f32309f58042a592d082393011bfd0": {
      "model_module": "@jupyter-widgets/controls",
      "model_module_version": "2.0.0",
      "model_name": "HTMLStyleModel",
      "state": {
       "description_width": "",
       "font_size": null,
       "text_color": null
      }
     },
     "82076b32daf748569517255f236d9a58": {
      "model_module": "@jupyter-widgets/base",
      "model_module_version": "2.0.0",
      "model_name": "LayoutModel",
      "state": {}
     },
     "82c7abaf90084a778b6dab95633d035a": {
      "model_module": "@jupyter-widgets/controls",
      "model_module_version": "2.0.0",
      "model_name": "HTMLModel",
      "state": {
       "layout": "IPY_MODEL_82076b32daf748569517255f236d9a58",
       "style": "IPY_MODEL_01e9fc8e801a4a6293753fd0dd21aafa",
       "value": "Validation DataLoader 0: 100%"
      }
     },
     "83eccb46d2b54f51ba54c14b955a3511": {
      "model_module": "@jupyter-widgets/controls",
      "model_module_version": "2.0.0",
      "model_name": "HTMLModel",
      "state": {
       "layout": "IPY_MODEL_17b10cf94d66425a9791442adc1924ce",
       "style": "IPY_MODEL_4e864840edbe4f2da5d372aa8cbfa047",
       "value": "Validation DataLoader 0: 100%"
      }
     },
     "8677c38d4a8347c8ac01fe22d1909cc5": {
      "model_module": "@jupyter-widgets/base",
      "model_module_version": "2.0.0",
      "model_name": "LayoutModel",
      "state": {
       "flex": "2"
      }
     },
     "869d243c3ce6425ba104287577bf11b5": {
      "model_module": "@jupyter-widgets/controls",
      "model_module_version": "2.0.0",
      "model_name": "HTMLModel",
      "state": {
       "layout": "IPY_MODEL_7ed4c5d1ea6e4941bfb3ffa99e79bae7",
       "style": "IPY_MODEL_4e4ec0dd2b344d48a217dac15e798389",
       "value": " 63/63 [00:00&lt;00:00, 251.43it/s]"
      }
     },
     "872d37e12a264fe886bdd5ecfc04bc68": {
      "model_module": "@jupyter-widgets/base",
      "model_module_version": "2.0.0",
      "model_name": "LayoutModel",
      "state": {}
     },
     "8768cc9d03604194ac0090c5ea2a548e": {
      "model_module": "@jupyter-widgets/controls",
      "model_module_version": "2.0.0",
      "model_name": "ProgressStyleModel",
      "state": {
       "description_width": ""
      }
     },
     "879a466517b9451094b3ace1c9a838a3": {
      "model_module": "@jupyter-widgets/base",
      "model_module_version": "2.0.0",
      "model_name": "LayoutModel",
      "state": {
       "display": "inline-flex",
       "flex_flow": "row wrap",
       "visibility": "hidden",
       "width": "100%"
      }
     },
     "8881be21fb464cc98e9a29cd12c5bd19": {
      "model_module": "@jupyter-widgets/base",
      "model_module_version": "2.0.0",
      "model_name": "LayoutModel",
      "state": {}
     },
     "88f30acb56514f8e905cde4ca0071190": {
      "model_module": "@jupyter-widgets/controls",
      "model_module_version": "2.0.0",
      "model_name": "HTMLModel",
      "state": {
       "layout": "IPY_MODEL_238d857df03f4821ad916740a10f9634",
       "style": "IPY_MODEL_97432cc1ce08405092ec2d4cd86b004b",
       "value": "Validation DataLoader 0: 100%"
      }
     },
     "897d35f198cb4ed79f060ae655f22c0e": {
      "model_module": "@jupyter-widgets/base",
      "model_module_version": "2.0.0",
      "model_name": "LayoutModel",
      "state": {
       "display": "inline-flex",
       "flex_flow": "row wrap",
       "visibility": "hidden",
       "width": "100%"
      }
     },
     "8a43ead41d0941fdaa98bbca5b8526b2": {
      "model_module": "@jupyter-widgets/base",
      "model_module_version": "2.0.0",
      "model_name": "LayoutModel",
      "state": {}
     },
     "8a688868d546449db4cf54582b2dc622": {
      "model_module": "@jupyter-widgets/controls",
      "model_module_version": "2.0.0",
      "model_name": "HTMLModel",
      "state": {
       "layout": "IPY_MODEL_fd8dab52696043c3bc9bc047bb655202",
       "style": "IPY_MODEL_f5abd01befb244959f98e13cf65f9f86",
       "value": "Validation DataLoader 0: 100%"
      }
     },
     "8aeb625e3dec493580da19999059604c": {
      "model_module": "@jupyter-widgets/base",
      "model_module_version": "2.0.0",
      "model_name": "LayoutModel",
      "state": {}
     },
     "8bd1698f1f2942409b8b695a3c669ce5": {
      "model_module": "@jupyter-widgets/base",
      "model_module_version": "2.0.0",
      "model_name": "LayoutModel",
      "state": {
       "display": "inline-flex",
       "flex_flow": "row wrap",
       "visibility": "hidden",
       "width": "100%"
      }
     },
     "8be59d6f800a493c94b43e9abfad4ce9": {
      "model_module": "@jupyter-widgets/base",
      "model_module_version": "2.0.0",
      "model_name": "LayoutModel",
      "state": {
       "display": "inline-flex",
       "flex_flow": "row wrap",
       "visibility": "hidden",
       "width": "100%"
      }
     },
     "8c7df5d0171c4c2e89c270fa054cd272": {
      "model_module": "@jupyter-widgets/base",
      "model_module_version": "2.0.0",
      "model_name": "LayoutModel",
      "state": {
       "flex": "2"
      }
     },
     "8db519c67d254c53954ec59a4243b0e1": {
      "model_module": "@jupyter-widgets/controls",
      "model_module_version": "2.0.0",
      "model_name": "HTMLStyleModel",
      "state": {
       "description_width": "",
       "font_size": null,
       "text_color": null
      }
     },
     "8dbaac3894c748b18544289119ea25f3": {
      "model_module": "@jupyter-widgets/base",
      "model_module_version": "2.0.0",
      "model_name": "LayoutModel",
      "state": {
       "display": "inline-flex",
       "flex_flow": "row wrap",
       "visibility": "hidden",
       "width": "100%"
      }
     },
     "8e14bdb623694a91818343c32f6160b7": {
      "model_module": "@jupyter-widgets/base",
      "model_module_version": "2.0.0",
      "model_name": "LayoutModel",
      "state": {
       "display": "inline-flex",
       "flex_flow": "row wrap",
       "visibility": "hidden",
       "width": "100%"
      }
     },
     "8f1ee2e28d98489dbdd9ce033bc5bbd9": {
      "model_module": "@jupyter-widgets/controls",
      "model_module_version": "2.0.0",
      "model_name": "HTMLModel",
      "state": {
       "layout": "IPY_MODEL_e2f3f7cad84146c38502ebfd18714622",
       "style": "IPY_MODEL_466f1982735f4bcfafe3009532952313",
       "value": "Validation DataLoader 0: 100%"
      }
     },
     "8f94ea583c5c4fe9800d3caf7d7e9a3b": {
      "model_module": "@jupyter-widgets/controls",
      "model_module_version": "2.0.0",
      "model_name": "HTMLStyleModel",
      "state": {
       "description_width": "",
       "font_size": null,
       "text_color": null
      }
     },
     "8fc4b23691e9407ea1cf713c9a0600ae": {
      "model_module": "@jupyter-widgets/controls",
      "model_module_version": "2.0.0",
      "model_name": "HTMLModel",
      "state": {
       "layout": "IPY_MODEL_ea0e3deeedd144a88109100a3b394781",
       "style": "IPY_MODEL_f582ce27b87b4a32b7ab56b8ab36a4cd",
       "value": "Validation DataLoader 0: 100%"
      }
     },
     "92ef58ea261e48e8b163240437f3964a": {
      "model_module": "@jupyter-widgets/base",
      "model_module_version": "2.0.0",
      "model_name": "LayoutModel",
      "state": {}
     },
     "936aeae52a8a4a4daf85066a648d69e0": {
      "model_module": "@jupyter-widgets/controls",
      "model_module_version": "2.0.0",
      "model_name": "HTMLStyleModel",
      "state": {
       "description_width": "",
       "font_size": null,
       "text_color": null
      }
     },
     "93bad0bc07b64864968eec8c53efe6ab": {
      "model_module": "@jupyter-widgets/controls",
      "model_module_version": "2.0.0",
      "model_name": "HTMLStyleModel",
      "state": {
       "description_width": "",
       "font_size": null,
       "text_color": null
      }
     },
     "943f17cf6a8e446f8fbf6b83b24097ee": {
      "model_module": "@jupyter-widgets/controls",
      "model_module_version": "2.0.0",
      "model_name": "HTMLStyleModel",
      "state": {
       "description_width": "",
       "font_size": null,
       "text_color": null
      }
     },
     "9446ef9ab2a645f58188607d30474f24": {
      "model_module": "@jupyter-widgets/controls",
      "model_module_version": "2.0.0",
      "model_name": "ProgressStyleModel",
      "state": {
       "description_width": ""
      }
     },
     "947e94bfeb0041db8a77b435dda9f1fc": {
      "model_module": "@jupyter-widgets/controls",
      "model_module_version": "2.0.0",
      "model_name": "HTMLModel",
      "state": {
       "layout": "IPY_MODEL_f49ff3a457ee4e4fa46375697bf67d9f",
       "style": "IPY_MODEL_27854fa94d7941bcb375f935c26b2c9a",
       "value": "Validation DataLoader 0: 100%"
      }
     },
     "9485a760637343938b96125319b6bb2f": {
      "model_module": "@jupyter-widgets/base",
      "model_module_version": "2.0.0",
      "model_name": "LayoutModel",
      "state": {
       "display": "inline-flex",
       "flex_flow": "row wrap",
       "visibility": "hidden",
       "width": "100%"
      }
     },
     "94b304a9fe9a4dfe9b687325281ef36d": {
      "model_module": "@jupyter-widgets/controls",
      "model_module_version": "2.0.0",
      "model_name": "ProgressStyleModel",
      "state": {
       "description_width": ""
      }
     },
     "950ba53c119b4df6a89e317f8c7b05ad": {
      "model_module": "@jupyter-widgets/base",
      "model_module_version": "2.0.0",
      "model_name": "LayoutModel",
      "state": {
       "flex": "2"
      }
     },
     "96be9a025d4f43ca94aa65164b8a2d4c": {
      "model_module": "@jupyter-widgets/controls",
      "model_module_version": "2.0.0",
      "model_name": "ProgressStyleModel",
      "state": {
       "description_width": ""
      }
     },
     "97332819ed304b3e96950c6792380330": {
      "model_module": "@jupyter-widgets/controls",
      "model_module_version": "2.0.0",
      "model_name": "HTMLStyleModel",
      "state": {
       "description_width": "",
       "font_size": null,
       "text_color": null
      }
     },
     "97432cc1ce08405092ec2d4cd86b004b": {
      "model_module": "@jupyter-widgets/controls",
      "model_module_version": "2.0.0",
      "model_name": "HTMLStyleModel",
      "state": {
       "description_width": "",
       "font_size": null,
       "text_color": null
      }
     },
     "98053e46a17546ba814cbef98c6a624e": {
      "model_module": "@jupyter-widgets/base",
      "model_module_version": "2.0.0",
      "model_name": "LayoutModel",
      "state": {
       "display": "inline-flex",
       "flex_flow": "row wrap",
       "visibility": "hidden",
       "width": "100%"
      }
     },
     "98bc984448f340b9b4b80d564b228726": {
      "model_module": "@jupyter-widgets/base",
      "model_module_version": "2.0.0",
      "model_name": "LayoutModel",
      "state": {}
     },
     "98e4c70b066443d9939fafaacb0e7216": {
      "model_module": "@jupyter-widgets/base",
      "model_module_version": "2.0.0",
      "model_name": "LayoutModel",
      "state": {
       "flex": "2"
      }
     },
     "99413c2736cf4684b38899470bdadb5f": {
      "model_module": "@jupyter-widgets/base",
      "model_module_version": "2.0.0",
      "model_name": "LayoutModel",
      "state": {}
     },
     "9970e5f43c3543e48353e5847f942a28": {
      "model_module": "@jupyter-widgets/controls",
      "model_module_version": "2.0.0",
      "model_name": "HTMLModel",
      "state": {
       "layout": "IPY_MODEL_98bc984448f340b9b4b80d564b228726",
       "style": "IPY_MODEL_d05cdcdb0cf045bd89634acf8df30e7a",
       "value": "Validation DataLoader 0: 100%"
      }
     },
     "9a23f7b63b4a48f1a7c5fdc60b6e3656": {
      "model_module": "@jupyter-widgets/controls",
      "model_module_version": "2.0.0",
      "model_name": "HTMLModel",
      "state": {
       "layout": "IPY_MODEL_6f78e5ad4371439aa6a4e41757da4041",
       "style": "IPY_MODEL_cde2b999c15f4c119ae4db2bb6a86658",
       "value": " 63/63 [00:00&lt;00:00, 282.60it/s]"
      }
     },
     "9a2c70646a5c4a968d45a6a7c8060ab5": {
      "model_module": "@jupyter-widgets/base",
      "model_module_version": "2.0.0",
      "model_name": "LayoutModel",
      "state": {}
     },
     "9a4158e3549a467faf9456b9b8d0d8a6": {
      "model_module": "@jupyter-widgets/controls",
      "model_module_version": "2.0.0",
      "model_name": "FloatProgressModel",
      "state": {
       "layout": "IPY_MODEL_54c23d8b0af5495c8c4f5911de922332",
       "max": 63,
       "style": "IPY_MODEL_290782573391488ca609cd73d7445a23",
       "value": 63
      }
     },
     "9a700ad353d74bb4ab2f45c74dc2e1d6": {
      "model_module": "@jupyter-widgets/controls",
      "model_module_version": "2.0.0",
      "model_name": "HTMLModel",
      "state": {
       "layout": "IPY_MODEL_357700d37d7647d2ae13a50f2139dbaf",
       "style": "IPY_MODEL_7e3165c6e84b46c798030c848c90adf7",
       "value": " 63/63 [00:00&lt;00:00, 284.41it/s]"
      }
     },
     "9a96a982b3d847f88a4ff916321f07b0": {
      "model_module": "@jupyter-widgets/controls",
      "model_module_version": "2.0.0",
      "model_name": "FloatProgressModel",
      "state": {
       "layout": "IPY_MODEL_68529b5324f24c759775c15c861e34aa",
       "max": 63,
       "style": "IPY_MODEL_d4fc47a74dd84ad8a18320dd9dfec46e",
       "value": 63
      }
     },
     "9b32fa03c7c34e81aa59a818812a98f9": {
      "model_module": "@jupyter-widgets/controls",
      "model_module_version": "2.0.0",
      "model_name": "HTMLStyleModel",
      "state": {
       "description_width": "",
       "font_size": null,
       "text_color": null
      }
     },
     "9bc7646849474240aed8b92f3e146f20": {
      "model_module": "@jupyter-widgets/controls",
      "model_module_version": "2.0.0",
      "model_name": "HTMLStyleModel",
      "state": {
       "description_width": "",
       "font_size": null,
       "text_color": null
      }
     },
     "9c47529af28241a28bb527f0b9c02311": {
      "model_module": "@jupyter-widgets/controls",
      "model_module_version": "2.0.0",
      "model_name": "FloatProgressModel",
      "state": {
       "layout": "IPY_MODEL_b1ed073f449c42bf86da52d9d0e1c612",
       "max": 63,
       "style": "IPY_MODEL_63564b2d56644a62a714730bc11d993e",
       "value": 63
      }
     },
     "9cd3132440cd41978d7bdb2078cd1e1f": {
      "model_module": "@jupyter-widgets/base",
      "model_module_version": "2.0.0",
      "model_name": "LayoutModel",
      "state": {
       "display": "inline-flex",
       "flex_flow": "row wrap",
       "visibility": "hidden",
       "width": "100%"
      }
     },
     "9d882f2db0f247429d7e483a779e495a": {
      "model_module": "@jupyter-widgets/controls",
      "model_module_version": "2.0.0",
      "model_name": "FloatProgressModel",
      "state": {
       "layout": "IPY_MODEL_eaff115542be4deeb44ce03dfdce0b6c",
       "max": 63,
       "style": "IPY_MODEL_cdc7143e813944558e1a683ce1176d4b",
       "value": 63
      }
     },
     "9de6cc1c5e524f638be425f90821f267": {
      "model_module": "@jupyter-widgets/controls",
      "model_module_version": "2.0.0",
      "model_name": "FloatProgressModel",
      "state": {
       "layout": "IPY_MODEL_04be772cd2b64b609b41e31ba6db751d",
       "max": 63,
       "style": "IPY_MODEL_1213c221fd26469bad3b0d1724014534",
       "value": 63
      }
     },
     "9f0bc22d0c4f46b5adea72ccce3716a5": {
      "model_module": "@jupyter-widgets/base",
      "model_module_version": "2.0.0",
      "model_name": "LayoutModel",
      "state": {
       "display": "inline-flex",
       "flex_flow": "row wrap",
       "visibility": "hidden",
       "width": "100%"
      }
     },
     "a03698581bfa4ed9a8ba0e4d69af7c51": {
      "model_module": "@jupyter-widgets/controls",
      "model_module_version": "2.0.0",
      "model_name": "HTMLStyleModel",
      "state": {
       "description_width": "",
       "font_size": null,
       "text_color": null
      }
     },
     "a0b5116fddd04516a915321663e4eaf7": {
      "model_module": "@jupyter-widgets/controls",
      "model_module_version": "2.0.0",
      "model_name": "HTMLStyleModel",
      "state": {
       "description_width": "",
       "font_size": null,
       "text_color": null
      }
     },
     "a19b4c43ec724f5cb2c9f4d1675eea14": {
      "model_module": "@jupyter-widgets/controls",
      "model_module_version": "2.0.0",
      "model_name": "FloatProgressModel",
      "state": {
       "bar_style": "success",
       "layout": "IPY_MODEL_fc4ab42a46cc416c8534c0b9ec34865b",
       "max": 63,
       "style": "IPY_MODEL_b567043760f54d7aafb140e3717da095",
       "value": 63
      }
     },
     "a1aae6e82b5c4a3b87f2ba60587ae188": {
      "model_module": "@jupyter-widgets/base",
      "model_module_version": "2.0.0",
      "model_name": "LayoutModel",
      "state": {}
     },
     "a26a8cbe30e34977aba023045e73d769": {
      "model_module": "@jupyter-widgets/controls",
      "model_module_version": "2.0.0",
      "model_name": "ProgressStyleModel",
      "state": {
       "description_width": ""
      }
     },
     "a330240fb0cc4d73877b415a11aa0c24": {
      "model_module": "@jupyter-widgets/controls",
      "model_module_version": "2.0.0",
      "model_name": "HTMLStyleModel",
      "state": {
       "description_width": "",
       "font_size": null,
       "text_color": null
      }
     },
     "a3530d29315d4c6e8c4ba96327858446": {
      "model_module": "@jupyter-widgets/base",
      "model_module_version": "2.0.0",
      "model_name": "LayoutModel",
      "state": {
       "display": "inline-flex",
       "flex_flow": "row wrap",
       "visibility": "hidden",
       "width": "100%"
      }
     },
     "a3e3f55aeb27401fbad681816e3e9080": {
      "model_module": "@jupyter-widgets/controls",
      "model_module_version": "2.0.0",
      "model_name": "HTMLStyleModel",
      "state": {
       "description_width": "",
       "font_size": null,
       "text_color": null
      }
     },
     "a433017f9e864596870430b89158510b": {
      "model_module": "@jupyter-widgets/controls",
      "model_module_version": "2.0.0",
      "model_name": "HTMLStyleModel",
      "state": {
       "description_width": "",
       "font_size": null,
       "text_color": null
      }
     },
     "a53388676e00425786e317eccd56f254": {
      "model_module": "@jupyter-widgets/base",
      "model_module_version": "2.0.0",
      "model_name": "LayoutModel",
      "state": {}
     },
     "a566ccafed414016bfa298af60f48270": {
      "model_module": "@jupyter-widgets/controls",
      "model_module_version": "2.0.0",
      "model_name": "FloatProgressModel",
      "state": {
       "layout": "IPY_MODEL_ab989992aeb24bb8a25bdc7b871e6e89",
       "max": 63,
       "style": "IPY_MODEL_7503733821c149309aca4f296b883bce",
       "value": 63
      }
     },
     "a5808b19291942ba9b259e1c6f556e80": {
      "model_module": "@jupyter-widgets/controls",
      "model_module_version": "2.0.0",
      "model_name": "ProgressStyleModel",
      "state": {
       "description_width": ""
      }
     },
     "a6286167efbe4a5aa0c6c58e08ee5a29": {
      "model_module": "@jupyter-widgets/controls",
      "model_module_version": "2.0.0",
      "model_name": "ProgressStyleModel",
      "state": {
       "description_width": ""
      }
     },
     "a6b74fd4cc9b43b4b22ca80a14247b30": {
      "model_module": "@jupyter-widgets/controls",
      "model_module_version": "2.0.0",
      "model_name": "HTMLStyleModel",
      "state": {
       "description_width": "",
       "font_size": null,
       "text_color": null
      }
     },
     "a6dac9fea7d3480e8dc9c7f73fd1960a": {
      "model_module": "@jupyter-widgets/controls",
      "model_module_version": "2.0.0",
      "model_name": "HTMLStyleModel",
      "state": {
       "description_width": "",
       "font_size": null,
       "text_color": null
      }
     },
     "a85791311614457aae730f74ddf2e098": {
      "model_module": "@jupyter-widgets/base",
      "model_module_version": "2.0.0",
      "model_name": "LayoutModel",
      "state": {}
     },
     "a87c6cc14bbe419c85a39d76a1b0957f": {
      "model_module": "@jupyter-widgets/base",
      "model_module_version": "2.0.0",
      "model_name": "LayoutModel",
      "state": {
       "display": "inline-flex",
       "flex_flow": "row wrap",
       "visibility": "hidden",
       "width": "100%"
      }
     },
     "a8aa97718d2548a8bdc2474dc3c65bf9": {
      "model_module": "@jupyter-widgets/controls",
      "model_module_version": "2.0.0",
      "model_name": "HTMLModel",
      "state": {
       "layout": "IPY_MODEL_c89b202158c24434b7a4f56a16fec022",
       "style": "IPY_MODEL_2ffc20a15c9444f8a4d4224c719a9f16",
       "value": "Validation DataLoader 0: 100%"
      }
     },
     "a8d273f7ae704da294fa50bc002977ac": {
      "model_module": "@jupyter-widgets/controls",
      "model_module_version": "2.0.0",
      "model_name": "FloatProgressModel",
      "state": {
       "layout": "IPY_MODEL_e4ba0cfc57b54f28a860d403aa0cbc48",
       "max": 63,
       "style": "IPY_MODEL_a5808b19291942ba9b259e1c6f556e80",
       "value": 63
      }
     },
     "a96fce111e074adc82baa02640689b7f": {
      "model_module": "@jupyter-widgets/controls",
      "model_module_version": "2.0.0",
      "model_name": "HTMLModel",
      "state": {
       "layout": "IPY_MODEL_b6515254f7bf4046be38d1fd1e09a815",
       "style": "IPY_MODEL_5aca049f770c4595830aa3c074b18aa6",
       "value": " 63/63 [00:00&lt;00:00, 282.11it/s]"
      }
     },
     "a990f96e0dcc461ea9a1a0d3348e41eb": {
      "model_module": "@jupyter-widgets/controls",
      "model_module_version": "2.0.0",
      "model_name": "HTMLModel",
      "state": {
       "layout": "IPY_MODEL_c5cd0034fd9e4c50853e4334b77bc800",
       "style": "IPY_MODEL_b310f36db347483495ce9a8fd9e39141",
       "value": "Validation DataLoader 0: 100%"
      }
     },
     "aa22fd2a81f64e4ea5f1d5ca40b95af8": {
      "model_module": "@jupyter-widgets/base",
      "model_module_version": "2.0.0",
      "model_name": "LayoutModel",
      "state": {}
     },
     "aadcbad2154b4accb1d518cb4809c25c": {
      "model_module": "@jupyter-widgets/base",
      "model_module_version": "2.0.0",
      "model_name": "LayoutModel",
      "state": {
       "display": "inline-flex",
       "flex_flow": "row wrap",
       "visibility": "hidden",
       "width": "100%"
      }
     },
     "ab2ce340074f4550aa543d4750ca0609": {
      "model_module": "@jupyter-widgets/base",
      "model_module_version": "2.0.0",
      "model_name": "LayoutModel",
      "state": {
       "flex": "2"
      }
     },
     "ab852abeaef4443fa732861c1755f3e9": {
      "model_module": "@jupyter-widgets/controls",
      "model_module_version": "2.0.0",
      "model_name": "HTMLModel",
      "state": {
       "layout": "IPY_MODEL_8a43ead41d0941fdaa98bbca5b8526b2",
       "style": "IPY_MODEL_81f32309f58042a592d082393011bfd0",
       "value": " 63/63 [00:00&lt;00:00, 265.41it/s]"
      }
     },
     "ab989992aeb24bb8a25bdc7b871e6e89": {
      "model_module": "@jupyter-widgets/base",
      "model_module_version": "2.0.0",
      "model_name": "LayoutModel",
      "state": {
       "flex": "2"
      }
     },
     "ac29423420574782be34da5ba00bfb4e": {
      "model_module": "@jupyter-widgets/controls",
      "model_module_version": "2.0.0",
      "model_name": "HTMLStyleModel",
      "state": {
       "description_width": "",
       "font_size": null,
       "text_color": null
      }
     },
     "ad23585fa9304e1c8bbf483f96dec5f7": {
      "model_module": "@jupyter-widgets/controls",
      "model_module_version": "2.0.0",
      "model_name": "HTMLModel",
      "state": {
       "layout": "IPY_MODEL_872d37e12a264fe886bdd5ecfc04bc68",
       "style": "IPY_MODEL_cb573931a4bf42919a9219cd8f008153",
       "value": " 63/63 [00:00&lt;00:00, 282.32it/s]"
      }
     },
     "ad5f6b4c3eb547fa93b8ab87f01efc5f": {
      "model_module": "@jupyter-widgets/controls",
      "model_module_version": "2.0.0",
      "model_name": "FloatProgressModel",
      "state": {
       "layout": "IPY_MODEL_33d72260088a46a3b9f03f2383e610a7",
       "max": 63,
       "style": "IPY_MODEL_eb8b451371ab4da8a67e378240004339",
       "value": 63
      }
     },
     "adb3490736f14c92ba8eb15597f0a695": {
      "model_module": "@jupyter-widgets/controls",
      "model_module_version": "2.0.0",
      "model_name": "HTMLStyleModel",
      "state": {
       "description_width": "",
       "font_size": null,
       "text_color": null
      }
     },
     "ae975e05a3d0456699255ed584445331": {
      "model_module": "@jupyter-widgets/controls",
      "model_module_version": "2.0.0",
      "model_name": "HTMLModel",
      "state": {
       "layout": "IPY_MODEL_3f6e67d19ec84889b2114baf37a096bd",
       "style": "IPY_MODEL_4bfe7b414dee4217b72ccda86ee6c553",
       "value": " 63/63 [00:00&lt;00:00, 258.30it/s]"
      }
     },
     "af7243b11da94b13925b71582e7549dc": {
      "model_module": "@jupyter-widgets/controls",
      "model_module_version": "2.0.0",
      "model_name": "HTMLModel",
      "state": {
       "layout": "IPY_MODEL_48379787c6a64c08ad0dd3fec3b269c9",
       "style": "IPY_MODEL_4869fdc834f54c09be456eb1b2e37336",
       "value": "Validation DataLoader 0: 100%"
      }
     },
     "afa9ebf0d5e0489bab6f7f5e066cd0b5": {
      "model_module": "@jupyter-widgets/base",
      "model_module_version": "2.0.0",
      "model_name": "LayoutModel",
      "state": {
       "display": "inline-flex",
       "flex_flow": "row wrap",
       "width": "100%"
      }
     },
     "b04a6afc640842569ae4011579ff88fb": {
      "model_module": "@jupyter-widgets/base",
      "model_module_version": "2.0.0",
      "model_name": "LayoutModel",
      "state": {}
     },
     "b08d7f44b371499194c062c05934138b": {
      "model_module": "@jupyter-widgets/base",
      "model_module_version": "2.0.0",
      "model_name": "LayoutModel",
      "state": {
       "display": "inline-flex",
       "flex_flow": "row wrap",
       "visibility": "hidden",
       "width": "100%"
      }
     },
     "b0f462034d8b42168d335c8ed3531bf4": {
      "model_module": "@jupyter-widgets/controls",
      "model_module_version": "2.0.0",
      "model_name": "HTMLStyleModel",
      "state": {
       "description_width": "",
       "font_size": null,
       "text_color": null
      }
     },
     "b1ed073f449c42bf86da52d9d0e1c612": {
      "model_module": "@jupyter-widgets/base",
      "model_module_version": "2.0.0",
      "model_name": "LayoutModel",
      "state": {
       "flex": "2"
      }
     },
     "b2d70cddd5bc4c38a12a13a6897459c5": {
      "model_module": "@jupyter-widgets/controls",
      "model_module_version": "2.0.0",
      "model_name": "ProgressStyleModel",
      "state": {
       "description_width": ""
      }
     },
     "b2d723f22b3d4638a2e57a218543b302": {
      "model_module": "@jupyter-widgets/controls",
      "model_module_version": "2.0.0",
      "model_name": "HTMLModel",
      "state": {
       "layout": "IPY_MODEL_9a2c70646a5c4a968d45a6a7c8060ab5",
       "style": "IPY_MODEL_14af94e3ebce4fdeb07a195cf6f26697",
       "value": " 63/63 [00:00&lt;00:00, 236.67it/s]"
      }
     },
     "b2dceb3497bc4b0192e7cd212522b15f": {
      "model_module": "@jupyter-widgets/controls",
      "model_module_version": "2.0.0",
      "model_name": "HTMLModel",
      "state": {
       "layout": "IPY_MODEL_1805d3e5b9494af69cde51cd56cdf1b6",
       "style": "IPY_MODEL_e12ee660a50e4dadb725da68d13a15d0",
       "value": "Validation DataLoader 0: 100%"
      }
     },
     "b310f36db347483495ce9a8fd9e39141": {
      "model_module": "@jupyter-widgets/controls",
      "model_module_version": "2.0.0",
      "model_name": "HTMLStyleModel",
      "state": {
       "description_width": "",
       "font_size": null,
       "text_color": null
      }
     },
     "b31eeca3bd90445da1cb4be8469bb415": {
      "model_module": "@jupyter-widgets/base",
      "model_module_version": "2.0.0",
      "model_name": "LayoutModel",
      "state": {
       "flex": "2"
      }
     },
     "b4c3c1acf5704f81ad0bdf1764a4a1c5": {
      "model_module": "@jupyter-widgets/controls",
      "model_module_version": "2.0.0",
      "model_name": "HTMLStyleModel",
      "state": {
       "description_width": "",
       "font_size": null,
       "text_color": null
      }
     },
     "b54d0adaa27a489bb5fb06d9df98c467": {
      "model_module": "@jupyter-widgets/controls",
      "model_module_version": "2.0.0",
      "model_name": "HTMLModel",
      "state": {
       "layout": "IPY_MODEL_601983379e1b4243ac147606bead24a1",
       "style": "IPY_MODEL_a3e3f55aeb27401fbad681816e3e9080",
       "value": " 63/63 [00:00&lt;00:00, 275.86it/s]"
      }
     },
     "b567043760f54d7aafb140e3717da095": {
      "model_module": "@jupyter-widgets/controls",
      "model_module_version": "2.0.0",
      "model_name": "ProgressStyleModel",
      "state": {
       "description_width": ""
      }
     },
     "b6515254f7bf4046be38d1fd1e09a815": {
      "model_module": "@jupyter-widgets/base",
      "model_module_version": "2.0.0",
      "model_name": "LayoutModel",
      "state": {}
     },
     "b665cef57a154f07aa80259d5b9ee486": {
      "model_module": "@jupyter-widgets/base",
      "model_module_version": "2.0.0",
      "model_name": "LayoutModel",
      "state": {
       "display": "inline-flex",
       "flex_flow": "row wrap",
       "visibility": "hidden",
       "width": "100%"
      }
     },
     "b6eabd1b624542a4b88767260be8fd9a": {
      "model_module": "@jupyter-widgets/controls",
      "model_module_version": "2.0.0",
      "model_name": "HTMLStyleModel",
      "state": {
       "description_width": "",
       "font_size": null,
       "text_color": null
      }
     },
     "b794bfc4be1a4eab9e805957765b84f3": {
      "model_module": "@jupyter-widgets/controls",
      "model_module_version": "2.0.0",
      "model_name": "HTMLStyleModel",
      "state": {
       "description_width": "",
       "font_size": null,
       "text_color": null
      }
     },
     "b9ea6718845a4e78a1042898f6060a0f": {
      "model_module": "@jupyter-widgets/controls",
      "model_module_version": "2.0.0",
      "model_name": "ProgressStyleModel",
      "state": {
       "description_width": ""
      }
     },
     "b9f10674dbbd47db95653085977db8d4": {
      "model_module": "@jupyter-widgets/base",
      "model_module_version": "2.0.0",
      "model_name": "LayoutModel",
      "state": {
       "flex": "2"
      }
     },
     "ba2af69057494850bc122b0b58bdd261": {
      "model_module": "@jupyter-widgets/base",
      "model_module_version": "2.0.0",
      "model_name": "LayoutModel",
      "state": {
       "display": "inline-flex",
       "flex_flow": "row wrap",
       "visibility": "hidden",
       "width": "100%"
      }
     },
     "bb315089a2f240a8b0f19004f3a13ee0": {
      "model_module": "@jupyter-widgets/controls",
      "model_module_version": "2.0.0",
      "model_name": "HTMLStyleModel",
      "state": {
       "description_width": "",
       "font_size": null,
       "text_color": null
      }
     },
     "bb93a98789d840e3a5c787ce2d976ee7": {
      "model_module": "@jupyter-widgets/controls",
      "model_module_version": "2.0.0",
      "model_name": "HTMLModel",
      "state": {
       "layout": "IPY_MODEL_ee2a9e2d700c400296fc93d7789a775b",
       "style": "IPY_MODEL_a6b74fd4cc9b43b4b22ca80a14247b30",
       "value": "Validation DataLoader 0: 100%"
      }
     },
     "bd0e7cf670ec49b68e30ea5f4018e774": {
      "model_module": "@jupyter-widgets/base",
      "model_module_version": "2.0.0",
      "model_name": "LayoutModel",
      "state": {
       "display": "inline-flex",
       "flex_flow": "row wrap",
       "visibility": "hidden",
       "width": "100%"
      }
     },
     "bd46c208dc3e4d2a897fd8598e58ce66": {
      "model_module": "@jupyter-widgets/controls",
      "model_module_version": "2.0.0",
      "model_name": "HTMLModel",
      "state": {
       "layout": "IPY_MODEL_38c5ee26b03e40128c9559d5d38899c7",
       "style": "IPY_MODEL_52deb54aca064db1b30aef5b554ced56",
       "value": " 63/63 [00:00&lt;00:00, 283.83it/s]"
      }
     },
     "bf78e0f3500640ea9db8c1c91a180aaf": {
      "model_module": "@jupyter-widgets/controls",
      "model_module_version": "2.0.0",
      "model_name": "FloatProgressModel",
      "state": {
       "layout": "IPY_MODEL_b31eeca3bd90445da1cb4be8469bb415",
       "max": 2,
       "style": "IPY_MODEL_a6286167efbe4a5aa0c6c58e08ee5a29",
       "value": 2
      }
     },
     "c076c226ebc44e34b7c549ceeab391d6": {
      "model_module": "@jupyter-widgets/base",
      "model_module_version": "2.0.0",
      "model_name": "LayoutModel",
      "state": {
       "display": "inline-flex",
       "flex_flow": "row wrap",
       "visibility": "hidden",
       "width": "100%"
      }
     },
     "c0e04d4c20f340ab961ef9e8880a9262": {
      "model_module": "@jupyter-widgets/controls",
      "model_module_version": "2.0.0",
      "model_name": "HTMLModel",
      "state": {
       "layout": "IPY_MODEL_3747bb2d1e0c4c029c60d48605d3ab32",
       "style": "IPY_MODEL_a330240fb0cc4d73877b415a11aa0c24",
       "value": " 63/63 [00:00&lt;00:00, 280.28it/s]"
      }
     },
     "c2db77e985a14e40a74310bea6911a73": {
      "model_module": "@jupyter-widgets/controls",
      "model_module_version": "2.0.0",
      "model_name": "HTMLStyleModel",
      "state": {
       "description_width": "",
       "font_size": null,
       "text_color": null
      }
     },
     "c327612a590047a69253cd85c29e7be4": {
      "model_module": "@jupyter-widgets/base",
      "model_module_version": "2.0.0",
      "model_name": "LayoutModel",
      "state": {
       "flex": "2"
      }
     },
     "c3ac942920fd4231afd7667e9b1c4001": {
      "model_module": "@jupyter-widgets/base",
      "model_module_version": "2.0.0",
      "model_name": "LayoutModel",
      "state": {
       "display": "inline-flex",
       "flex_flow": "row wrap",
       "visibility": "hidden",
       "width": "100%"
      }
     },
     "c418a8303d83401683b5b068e92fad90": {
      "model_module": "@jupyter-widgets/controls",
      "model_module_version": "2.0.0",
      "model_name": "FloatProgressModel",
      "state": {
       "layout": "IPY_MODEL_36cd98f2075541e1a0e98b5a961ca607",
       "max": 63,
       "style": "IPY_MODEL_079878a34c1540d0b9660808f1eee949",
       "value": 63
      }
     },
     "c46091817a90456c8cc3e3c0d6d473a6": {
      "model_module": "@jupyter-widgets/base",
      "model_module_version": "2.0.0",
      "model_name": "LayoutModel",
      "state": {
       "flex": "2"
      }
     },
     "c47b51c4c58540428257fb2d5c58084e": {
      "model_module": "@jupyter-widgets/controls",
      "model_module_version": "2.0.0",
      "model_name": "HTMLStyleModel",
      "state": {
       "description_width": "",
       "font_size": null,
       "text_color": null
      }
     },
     "c5cd0034fd9e4c50853e4334b77bc800": {
      "model_module": "@jupyter-widgets/base",
      "model_module_version": "2.0.0",
      "model_name": "LayoutModel",
      "state": {}
     },
     "c5f7b6ec8c8648698aa57357ab42d69b": {
      "model_module": "@jupyter-widgets/base",
      "model_module_version": "2.0.0",
      "model_name": "LayoutModel",
      "state": {
       "display": "inline-flex",
       "flex_flow": "row wrap",
       "visibility": "hidden",
       "width": "100%"
      }
     },
     "c62af84cb5b8450d9e87df7513f61738": {
      "model_module": "@jupyter-widgets/controls",
      "model_module_version": "2.0.0",
      "model_name": "HTMLModel",
      "state": {
       "layout": "IPY_MODEL_3aacd1f5db16488eb75b0252ecc682f7",
       "style": "IPY_MODEL_bb315089a2f240a8b0f19004f3a13ee0",
       "value": "Validation DataLoader 0: 100%"
      }
     },
     "c67f80ae5aaa41c5afee66acf00fac59": {
      "model_module": "@jupyter-widgets/base",
      "model_module_version": "2.0.0",
      "model_name": "LayoutModel",
      "state": {
       "display": "inline-flex",
       "flex_flow": "row wrap",
       "visibility": "hidden",
       "width": "100%"
      }
     },
     "c75b1ffab596439caf0f2b983654110e": {
      "model_module": "@jupyter-widgets/controls",
      "model_module_version": "2.0.0",
      "model_name": "HTMLStyleModel",
      "state": {
       "description_width": "",
       "font_size": null,
       "text_color": null
      }
     },
     "c777593122f24d5aa85108736a98d1e1": {
      "model_module": "@jupyter-widgets/controls",
      "model_module_version": "2.0.0",
      "model_name": "HTMLModel",
      "state": {
       "layout": "IPY_MODEL_1bb05baca56942329166864598be3067",
       "style": "IPY_MODEL_b0f462034d8b42168d335c8ed3531bf4",
       "value": "Sanity Checking DataLoader 0: 100%"
      }
     },
     "c89b202158c24434b7a4f56a16fec022": {
      "model_module": "@jupyter-widgets/base",
      "model_module_version": "2.0.0",
      "model_name": "LayoutModel",
      "state": {}
     },
     "c8d9c13ff23c46358ed298f515767702": {
      "model_module": "@jupyter-widgets/base",
      "model_module_version": "2.0.0",
      "model_name": "LayoutModel",
      "state": {}
     },
     "ca1573eaa572472291a12bb3f8e7b5f2": {
      "model_module": "@jupyter-widgets/controls",
      "model_module_version": "2.0.0",
      "model_name": "FloatProgressModel",
      "state": {
       "layout": "IPY_MODEL_b9f10674dbbd47db95653085977db8d4",
       "max": 63,
       "style": "IPY_MODEL_b2d70cddd5bc4c38a12a13a6897459c5",
       "value": 63
      }
     },
     "ca7b5d1a49f647caa4d16352296f3b91": {
      "model_module": "@jupyter-widgets/base",
      "model_module_version": "2.0.0",
      "model_name": "LayoutModel",
      "state": {
       "display": "inline-flex",
       "flex_flow": "row wrap",
       "visibility": "hidden",
       "width": "100%"
      }
     },
     "cb573931a4bf42919a9219cd8f008153": {
      "model_module": "@jupyter-widgets/controls",
      "model_module_version": "2.0.0",
      "model_name": "HTMLStyleModel",
      "state": {
       "description_width": "",
       "font_size": null,
       "text_color": null
      }
     },
     "cb6697a70b6c4d2f90c3388959b503f3": {
      "model_module": "@jupyter-widgets/base",
      "model_module_version": "2.0.0",
      "model_name": "LayoutModel",
      "state": {
       "flex": "2"
      }
     },
     "ccaa6a36365b4b4caac824333d515cd1": {
      "model_module": "@jupyter-widgets/controls",
      "model_module_version": "2.0.0",
      "model_name": "FloatProgressModel",
      "state": {
       "layout": "IPY_MODEL_06478daabd9c48409fe73b494a69d291",
       "max": 63,
       "style": "IPY_MODEL_8768cc9d03604194ac0090c5ea2a548e",
       "value": 63
      }
     },
     "cd218d0fb33347f2aba8d0c01a9c47bb": {
      "model_module": "@jupyter-widgets/base",
      "model_module_version": "2.0.0",
      "model_name": "LayoutModel",
      "state": {
       "display": "inline-flex",
       "flex_flow": "row wrap",
       "visibility": "hidden",
       "width": "100%"
      }
     },
     "cd78ba6dfd9c4f54a62d9acc80e82092": {
      "model_module": "@jupyter-widgets/base",
      "model_module_version": "2.0.0",
      "model_name": "LayoutModel",
      "state": {
       "display": "inline-flex",
       "flex_flow": "row wrap",
       "visibility": "hidden",
       "width": "100%"
      }
     },
     "cdc7143e813944558e1a683ce1176d4b": {
      "model_module": "@jupyter-widgets/controls",
      "model_module_version": "2.0.0",
      "model_name": "ProgressStyleModel",
      "state": {
       "description_width": ""
      }
     },
     "cde2b999c15f4c119ae4db2bb6a86658": {
      "model_module": "@jupyter-widgets/controls",
      "model_module_version": "2.0.0",
      "model_name": "HTMLStyleModel",
      "state": {
       "description_width": "",
       "font_size": null,
       "text_color": null
      }
     },
     "cde677d96b134418b20948546e882906": {
      "model_module": "@jupyter-widgets/controls",
      "model_module_version": "2.0.0",
      "model_name": "HTMLModel",
      "state": {
       "layout": "IPY_MODEL_24752ed3970a4ae09a7d2507cb0eda60",
       "style": "IPY_MODEL_936aeae52a8a4a4daf85066a648d69e0",
       "value": "Validation DataLoader 0: 100%"
      }
     },
     "ce9c07f7eddf4521becb914f55006d56": {
      "model_module": "@jupyter-widgets/controls",
      "model_module_version": "2.0.0",
      "model_name": "ProgressStyleModel",
      "state": {
       "description_width": ""
      }
     },
     "cf4637387b7f4275b7cf01ee757905d3": {
      "model_module": "@jupyter-widgets/base",
      "model_module_version": "2.0.0",
      "model_name": "LayoutModel",
      "state": {}
     },
     "cf4a22ebfede47c895386c9462a22240": {
      "model_module": "@jupyter-widgets/controls",
      "model_module_version": "2.0.0",
      "model_name": "HTMLModel",
      "state": {
       "layout": "IPY_MODEL_92ef58ea261e48e8b163240437f3964a",
       "style": "IPY_MODEL_084ea8b55ef54b7cb2728d4ec544f575",
       "value": " 63/63 [00:00&lt;00:00, 278.58it/s]"
      }
     },
     "d05cdcdb0cf045bd89634acf8df30e7a": {
      "model_module": "@jupyter-widgets/controls",
      "model_module_version": "2.0.0",
      "model_name": "HTMLStyleModel",
      "state": {
       "description_width": "",
       "font_size": null,
       "text_color": null
      }
     },
     "d1bb43184fee45b1af377a9e86fd1a4a": {
      "model_module": "@jupyter-widgets/controls",
      "model_module_version": "2.0.0",
      "model_name": "ProgressStyleModel",
      "state": {
       "description_width": ""
      }
     },
     "d20d011e49474123bfd60c156646e395": {
      "model_module": "@jupyter-widgets/controls",
      "model_module_version": "2.0.0",
      "model_name": "ProgressStyleModel",
      "state": {
       "description_width": ""
      }
     },
     "d217934293774579989b2829a6944843": {
      "model_module": "@jupyter-widgets/controls",
      "model_module_version": "2.0.0",
      "model_name": "ProgressStyleModel",
      "state": {
       "description_width": ""
      }
     },
     "d21973cac2d24c0b839ae01b3a818078": {
      "model_module": "@jupyter-widgets/base",
      "model_module_version": "2.0.0",
      "model_name": "LayoutModel",
      "state": {
       "display": "inline-flex",
       "flex_flow": "row wrap",
       "width": "100%"
      }
     },
     "d2a04d9067744d648b73c4808b9715e3": {
      "model_module": "@jupyter-widgets/base",
      "model_module_version": "2.0.0",
      "model_name": "LayoutModel",
      "state": {
       "display": "inline-flex",
       "flex_flow": "row wrap",
       "visibility": "hidden",
       "width": "100%"
      }
     },
     "d2d4175683c14ecc8b76ee3e8ae0bfeb": {
      "model_module": "@jupyter-widgets/controls",
      "model_module_version": "2.0.0",
      "model_name": "HTMLModel",
      "state": {
       "layout": "IPY_MODEL_48515b9e3933471e9ebc57fa7874d8cc",
       "style": "IPY_MODEL_2124addc8da04605a62c197649f78585",
       "value": "Validation DataLoader 0: 100%"
      }
     },
     "d2f26a3771cf4b1795b3f1f201d41a74": {
      "model_module": "@jupyter-widgets/controls",
      "model_module_version": "2.0.0",
      "model_name": "FloatProgressModel",
      "state": {
       "layout": "IPY_MODEL_45be77dff18e4da78f76f91641a419e5",
       "max": 63,
       "style": "IPY_MODEL_7d871fbcbac34966b97bbd3069a80409",
       "value": 63
      }
     },
     "d34e0e1065d149cfb0c9240d4ca22bcf": {
      "model_module": "@jupyter-widgets/controls",
      "model_module_version": "2.0.0",
      "model_name": "HTMLModel",
      "state": {
       "layout": "IPY_MODEL_6bfd973220b34048851e9fe315d43c11",
       "style": "IPY_MODEL_a6dac9fea7d3480e8dc9c7f73fd1960a",
       "value": " 63/63 [00:00&lt;00:00, 283.70it/s]"
      }
     },
     "d3543f1aceac41a8826c2c835938295e": {
      "model_module": "@jupyter-widgets/controls",
      "model_module_version": "2.0.0",
      "model_name": "FloatProgressModel",
      "state": {
       "layout": "IPY_MODEL_3fb5725226d540ac94742ea71a893e61",
       "max": 63,
       "style": "IPY_MODEL_94b304a9fe9a4dfe9b687325281ef36d",
       "value": 63
      }
     },
     "d35625c4321a413eb82e2a14bd6a92b6": {
      "model_module": "@jupyter-widgets/controls",
      "model_module_version": "2.0.0",
      "model_name": "HTMLModel",
      "state": {
       "layout": "IPY_MODEL_2de629b2f63940909236f197759e925c",
       "style": "IPY_MODEL_dee9a6564215496ab90efddbf39894e1",
       "value": " 63/63 [00:00&lt;00:00, 276.12it/s]"
      }
     },
     "d3bccde380574c62aa7343e36675178b": {
      "model_module": "@jupyter-widgets/controls",
      "model_module_version": "2.0.0",
      "model_name": "ProgressStyleModel",
      "state": {
       "description_width": ""
      }
     },
     "d4a78c9c88d1451cb132c03e58f2b080": {
      "model_module": "@jupyter-widgets/controls",
      "model_module_version": "2.0.0",
      "model_name": "HTMLModel",
      "state": {
       "layout": "IPY_MODEL_80dfcf9b67734161b57e166f86515fb0",
       "style": "IPY_MODEL_b794bfc4be1a4eab9e805957765b84f3",
       "value": "Epoch 14: 100%"
      }
     },
     "d4fc47a74dd84ad8a18320dd9dfec46e": {
      "model_module": "@jupyter-widgets/controls",
      "model_module_version": "2.0.0",
      "model_name": "ProgressStyleModel",
      "state": {
       "description_width": ""
      }
     },
     "d672524c1e9d4589a09461b49bb8a1f6": {
      "model_module": "@jupyter-widgets/controls",
      "model_module_version": "2.0.0",
      "model_name": "HTMLModel",
      "state": {
       "layout": "IPY_MODEL_99413c2736cf4684b38899470bdadb5f",
       "style": "IPY_MODEL_ac29423420574782be34da5ba00bfb4e",
       "value": " 63/63 [00:00&lt;00:00, 279.61it/s]"
      }
     },
     "d8183067c01a42b8ad8bd5f6ae6ee8b2": {
      "model_module": "@jupyter-widgets/base",
      "model_module_version": "2.0.0",
      "model_name": "LayoutModel",
      "state": {}
     },
     "d884901a03554256907114d57e6ea96b": {
      "model_module": "@jupyter-widgets/controls",
      "model_module_version": "2.0.0",
      "model_name": "HBoxModel",
      "state": {
       "children": [
        "IPY_MODEL_7d1978925fb24340bf44798cc517aad7",
        "IPY_MODEL_0f2553e1f20a48f68fe39caca7ca4ff5",
        "IPY_MODEL_4fc3d53458a84033b34b72f29da80836"
       ],
       "layout": "IPY_MODEL_d21973cac2d24c0b839ae01b3a818078"
      }
     },
     "dac41b74f4af46d7a798d6c749e62e60": {
      "model_module": "@jupyter-widgets/controls",
      "model_module_version": "2.0.0",
      "model_name": "ProgressStyleModel",
      "state": {
       "description_width": ""
      }
     },
     "dbe37eaafa9c4c7c94b981eeb7593fcf": {
      "model_module": "@jupyter-widgets/base",
      "model_module_version": "2.0.0",
      "model_name": "LayoutModel",
      "state": {}
     },
     "dbe6d7981d30482693e4177bbd97c856": {
      "model_module": "@jupyter-widgets/controls",
      "model_module_version": "2.0.0",
      "model_name": "HTMLModel",
      "state": {
       "layout": "IPY_MODEL_8881be21fb464cc98e9a29cd12c5bd19",
       "style": "IPY_MODEL_7b01c44a49f84204830bfc18409b9371",
       "value": " 63/63 [00:00&lt;00:00, 287.37it/s]"
      }
     },
     "dc75bf0c6f8b41f8a435ee35f13c06dd": {
      "model_module": "@jupyter-widgets/controls",
      "model_module_version": "2.0.0",
      "model_name": "HTMLStyleModel",
      "state": {
       "description_width": "",
       "font_size": null,
       "text_color": null
      }
     },
     "dc7e967f775e47c193d8a7a8b5632852": {
      "model_module": "@jupyter-widgets/base",
      "model_module_version": "2.0.0",
      "model_name": "LayoutModel",
      "state": {
       "flex": "2"
      }
     },
     "de0039093d524a8d8750e397af38e07e": {
      "model_module": "@jupyter-widgets/base",
      "model_module_version": "2.0.0",
      "model_name": "LayoutModel",
      "state": {}
     },
     "de19e5c750a141c5ab071b541cc5bd9a": {
      "model_module": "@jupyter-widgets/controls",
      "model_module_version": "2.0.0",
      "model_name": "HTMLModel",
      "state": {
       "layout": "IPY_MODEL_3f2335cdde51424f9625dee25b99525f",
       "style": "IPY_MODEL_1465a3cf5cbc41b78affe5067dd1086f",
       "value": " 63/63 [00:00&lt;00:00, 278.15it/s]"
      }
     },
     "de67aeb6fa2f473a8d3aa513ccc19097": {
      "model_module": "@jupyter-widgets/controls",
      "model_module_version": "2.0.0",
      "model_name": "HTMLModel",
      "state": {
       "layout": "IPY_MODEL_043642aac5ef40a18a2e1404a4b1ca44",
       "style": "IPY_MODEL_0f16f2918dcb4431b1d60d60176889b9",
       "value": " 63/63 [00:00&lt;00:00, 72.18it/s, v_num=13795, train_loss=0.000123, val_loss=0.00815, val_acc=0.999]"
      }
     },
     "dee9a6564215496ab90efddbf39894e1": {
      "model_module": "@jupyter-widgets/controls",
      "model_module_version": "2.0.0",
      "model_name": "HTMLStyleModel",
      "state": {
       "description_width": "",
       "font_size": null,
       "text_color": null
      }
     },
     "dfcf129e044a49b9863436f46c62ccbe": {
      "model_module": "@jupyter-widgets/controls",
      "model_module_version": "2.0.0",
      "model_name": "HTMLModel",
      "state": {
       "layout": "IPY_MODEL_1b51f0b448ad4cd1902f829e070355de",
       "style": "IPY_MODEL_943f17cf6a8e446f8fbf6b83b24097ee",
       "value": " 63/63 [00:00&lt;00:00, 261.59it/s]"
      }
     },
     "e0ccfc89d8be4f0ebd50364473ae6ee2": {
      "model_module": "@jupyter-widgets/base",
      "model_module_version": "2.0.0",
      "model_name": "LayoutModel",
      "state": {}
     },
     "e12ee660a50e4dadb725da68d13a15d0": {
      "model_module": "@jupyter-widgets/controls",
      "model_module_version": "2.0.0",
      "model_name": "HTMLStyleModel",
      "state": {
       "description_width": "",
       "font_size": null,
       "text_color": null
      }
     },
     "e20e4e7e497c48eb8e5ce7f23f186257": {
      "model_module": "@jupyter-widgets/controls",
      "model_module_version": "2.0.0",
      "model_name": "HTMLModel",
      "state": {
       "layout": "IPY_MODEL_c8d9c13ff23c46358ed298f515767702",
       "style": "IPY_MODEL_265fe074a72e446d94b71203d2bbee41",
       "value": "Validation DataLoader 0: 100%"
      }
     },
     "e2f3f7cad84146c38502ebfd18714622": {
      "model_module": "@jupyter-widgets/base",
      "model_module_version": "2.0.0",
      "model_name": "LayoutModel",
      "state": {}
     },
     "e4ba0cfc57b54f28a860d403aa0cbc48": {
      "model_module": "@jupyter-widgets/base",
      "model_module_version": "2.0.0",
      "model_name": "LayoutModel",
      "state": {
       "flex": "2"
      }
     },
     "e8309302448f485bb25ca8898b201340": {
      "model_module": "@jupyter-widgets/controls",
      "model_module_version": "2.0.0",
      "model_name": "FloatProgressModel",
      "state": {
       "layout": "IPY_MODEL_781fbb1cf6f140b9912c191292479b7a",
       "max": 63,
       "style": "IPY_MODEL_d20d011e49474123bfd60c156646e395",
       "value": 63
      }
     },
     "e8515024061d4fa3a98d03402317bc73": {
      "model_module": "@jupyter-widgets/controls",
      "model_module_version": "2.0.0",
      "model_name": "FloatProgressModel",
      "state": {
       "layout": "IPY_MODEL_f3b72cb20a18442fabf351363a733475",
       "max": 63,
       "style": "IPY_MODEL_9446ef9ab2a645f58188607d30474f24",
       "value": 63
      }
     },
     "e856f4839d8847e59c6861134af10c34": {
      "model_module": "@jupyter-widgets/controls",
      "model_module_version": "2.0.0",
      "model_name": "HTMLModel",
      "state": {
       "layout": "IPY_MODEL_a1aae6e82b5c4a3b87f2ba60587ae188",
       "style": "IPY_MODEL_5768bf593b7b4ce08fe945ad9cf3fe89",
       "value": "Validation DataLoader 0: 100%"
      }
     },
     "e8df3681f1454e4fb04378ffbfa9611f": {
      "model_module": "@jupyter-widgets/controls",
      "model_module_version": "2.0.0",
      "model_name": "HTMLStyleModel",
      "state": {
       "description_width": "",
       "font_size": null,
       "text_color": null
      }
     },
     "e93bf06c7c7e471d8cdee2796463cb57": {
      "model_module": "@jupyter-widgets/controls",
      "model_module_version": "2.0.0",
      "model_name": "ProgressStyleModel",
      "state": {
       "description_width": ""
      }
     },
     "ea0e3deeedd144a88109100a3b394781": {
      "model_module": "@jupyter-widgets/base",
      "model_module_version": "2.0.0",
      "model_name": "LayoutModel",
      "state": {}
     },
     "ea262423808845559b535905c36c716c": {
      "model_module": "@jupyter-widgets/base",
      "model_module_version": "2.0.0",
      "model_name": "LayoutModel",
      "state": {}
     },
     "eaff115542be4deeb44ce03dfdce0b6c": {
      "model_module": "@jupyter-widgets/base",
      "model_module_version": "2.0.0",
      "model_name": "LayoutModel",
      "state": {
       "flex": "2"
      }
     },
     "eb353735ff58482f8f3c4af1ca1d1c63": {
      "model_module": "@jupyter-widgets/controls",
      "model_module_version": "2.0.0",
      "model_name": "HTMLModel",
      "state": {
       "layout": "IPY_MODEL_5380dd667ca64d8fb3ab82a0a0520cf8",
       "style": "IPY_MODEL_177f7e2b105d4ebb9e18c9db02454fd0",
       "value": "Validation DataLoader 0: 100%"
      }
     },
     "eb8b451371ab4da8a67e378240004339": {
      "model_module": "@jupyter-widgets/controls",
      "model_module_version": "2.0.0",
      "model_name": "ProgressStyleModel",
      "state": {
       "description_width": ""
      }
     },
     "ed31ee1437cc47d08bf491cc81f0414a": {
      "model_module": "@jupyter-widgets/controls",
      "model_module_version": "2.0.0",
      "model_name": "HTMLModel",
      "state": {
       "layout": "IPY_MODEL_d8183067c01a42b8ad8bd5f6ae6ee8b2",
       "style": "IPY_MODEL_271a0d17b19b47e18c1821297c7c878d",
       "value": "Validation DataLoader 0: 100%"
      }
     },
     "ee2a9e2d700c400296fc93d7789a775b": {
      "model_module": "@jupyter-widgets/base",
      "model_module_version": "2.0.0",
      "model_name": "LayoutModel",
      "state": {}
     },
     "ef3afc32afc14eb5b5d5c90033950a61": {
      "model_module": "@jupyter-widgets/controls",
      "model_module_version": "2.0.0",
      "model_name": "HTMLStyleModel",
      "state": {
       "description_width": "",
       "font_size": null,
       "text_color": null
      }
     },
     "f0345870ebdb4ee489c599c4652e43e5": {
      "model_module": "@jupyter-widgets/base",
      "model_module_version": "2.0.0",
      "model_name": "LayoutModel",
      "state": {}
     },
     "f0c549d118724f51b6275bea7ad73dc5": {
      "model_module": "@jupyter-widgets/controls",
      "model_module_version": "2.0.0",
      "model_name": "ProgressStyleModel",
      "state": {
       "description_width": ""
      }
     },
     "f1a31400393b44c498ac8d6ac6645897": {
      "model_module": "@jupyter-widgets/controls",
      "model_module_version": "2.0.0",
      "model_name": "HTMLModel",
      "state": {
       "layout": "IPY_MODEL_a85791311614457aae730f74ddf2e098",
       "style": "IPY_MODEL_200b69d497754d23b8a65c93bb9a4601",
       "value": " 63/63 [00:00&lt;00:00, 278.17it/s]"
      }
     },
     "f1b8965a1abe4628a62b0c43c3e3ccf8": {
      "model_module": "@jupyter-widgets/controls",
      "model_module_version": "2.0.0",
      "model_name": "FloatProgressModel",
      "state": {
       "layout": "IPY_MODEL_58f6879f89b347448b760bb00340d236",
       "max": 63,
       "style": "IPY_MODEL_a26a8cbe30e34977aba023045e73d769",
       "value": 63
      }
     },
     "f1e5f749742e44b0b504562fd9afafe1": {
      "model_module": "@jupyter-widgets/controls",
      "model_module_version": "2.0.0",
      "model_name": "HTMLModel",
      "state": {
       "layout": "IPY_MODEL_0f4d7d39a3e24e8b943ab484f6224071",
       "style": "IPY_MODEL_493ced74ed1d4ddab7297555aa595aab",
       "value": " 63/63 [00:00&lt;00:00, 279.25it/s]"
      }
     },
     "f1fb22e054664460b1d13c67662b381e": {
      "model_module": "@jupyter-widgets/base",
      "model_module_version": "2.0.0",
      "model_name": "LayoutModel",
      "state": {
       "flex": "2"
      }
     },
     "f31876e9df904707a2ff3f68635e5e15": {
      "model_module": "@jupyter-widgets/base",
      "model_module_version": "2.0.0",
      "model_name": "LayoutModel",
      "state": {}
     },
     "f3709729feaf43cd906d6e54153649a3": {
      "model_module": "@jupyter-widgets/controls",
      "model_module_version": "2.0.0",
      "model_name": "HTMLModel",
      "state": {
       "layout": "IPY_MODEL_292663e2fa554d559be55707c0f0f1b1",
       "style": "IPY_MODEL_40bef1bf31fb46cdbff58cfd58a9f50a",
       "value": " 2/2 [00:00&lt;00:00, 21.45it/s]"
      }
     },
     "f3b72cb20a18442fabf351363a733475": {
      "model_module": "@jupyter-widgets/base",
      "model_module_version": "2.0.0",
      "model_name": "LayoutModel",
      "state": {
       "flex": "2"
      }
     },
     "f4525594f4e2409982c947e0423c8d23": {
      "model_module": "@jupyter-widgets/controls",
      "model_module_version": "2.0.0",
      "model_name": "HTMLModel",
      "state": {
       "layout": "IPY_MODEL_0d5854499d6b48d4b25df56832a5f416",
       "style": "IPY_MODEL_5378f46651524b6c99e84575ec918e9f",
       "value": "Validation DataLoader 0: 100%"
      }
     },
     "f49ff3a457ee4e4fa46375697bf67d9f": {
      "model_module": "@jupyter-widgets/base",
      "model_module_version": "2.0.0",
      "model_name": "LayoutModel",
      "state": {}
     },
     "f57bfb8f2a254a0f87a0ebafc2d97f99": {
      "model_module": "@jupyter-widgets/controls",
      "model_module_version": "2.0.0",
      "model_name": "HTMLModel",
      "state": {
       "layout": "IPY_MODEL_ea262423808845559b535905c36c716c",
       "style": "IPY_MODEL_b6eabd1b624542a4b88767260be8fd9a",
       "value": "Validation DataLoader 0: 100%"
      }
     },
     "f582ce27b87b4a32b7ab56b8ab36a4cd": {
      "model_module": "@jupyter-widgets/controls",
      "model_module_version": "2.0.0",
      "model_name": "HTMLStyleModel",
      "state": {
       "description_width": "",
       "font_size": null,
       "text_color": null
      }
     },
     "f5abd01befb244959f98e13cf65f9f86": {
      "model_module": "@jupyter-widgets/controls",
      "model_module_version": "2.0.0",
      "model_name": "HTMLStyleModel",
      "state": {
       "description_width": "",
       "font_size": null,
       "text_color": null
      }
     },
     "f8d95367a72d43dcb94018d8a2d6edb2": {
      "model_module": "@jupyter-widgets/base",
      "model_module_version": "2.0.0",
      "model_name": "LayoutModel",
      "state": {}
     },
     "f9c6b6e914ba4577aec7acda5dff90d4": {
      "model_module": "@jupyter-widgets/controls",
      "model_module_version": "2.0.0",
      "model_name": "FloatProgressModel",
      "state": {
       "layout": "IPY_MODEL_dc7e967f775e47c193d8a7a8b5632852",
       "max": 63,
       "style": "IPY_MODEL_459f7d5d9854409798547c606c9edc27",
       "value": 63
      }
     },
     "fae13a716ac14c5e821c6f80f5c20bb5": {
      "model_module": "@jupyter-widgets/controls",
      "model_module_version": "2.0.0",
      "model_name": "HTMLModel",
      "state": {
       "layout": "IPY_MODEL_6c6c03b46a2a4d4eb246433def9a2928",
       "style": "IPY_MODEL_dc75bf0c6f8b41f8a435ee35f13c06dd",
       "value": " 63/63 [00:00&lt;00:00, 209.95it/s]"
      }
     },
     "faea661e2fc04e42865618fc4609c75e": {
      "model_module": "@jupyter-widgets/controls",
      "model_module_version": "2.0.0",
      "model_name": "HTMLStyleModel",
      "state": {
       "description_width": "",
       "font_size": null,
       "text_color": null
      }
     },
     "fc4ab42a46cc416c8534c0b9ec34865b": {
      "model_module": "@jupyter-widgets/base",
      "model_module_version": "2.0.0",
      "model_name": "LayoutModel",
      "state": {
       "flex": "2"
      }
     },
     "fd8dab52696043c3bc9bc047bb655202": {
      "model_module": "@jupyter-widgets/base",
      "model_module_version": "2.0.0",
      "model_name": "LayoutModel",
      "state": {}
     },
     "fe74388186b24950bb0c1389aa9e31e1": {
      "model_module": "@jupyter-widgets/base",
      "model_module_version": "2.0.0",
      "model_name": "LayoutModel",
      "state": {}
     }
    },
    "version_major": 2,
    "version_minor": 0
   }
  }
 },
 "nbformat": 4,
 "nbformat_minor": 4
}
